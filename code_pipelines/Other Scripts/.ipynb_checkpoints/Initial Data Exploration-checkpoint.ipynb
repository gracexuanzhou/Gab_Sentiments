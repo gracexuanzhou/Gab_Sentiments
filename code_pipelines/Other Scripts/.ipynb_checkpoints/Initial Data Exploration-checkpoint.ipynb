{
 "cells": [
  {
   "cell_type": "code",
   "execution_count": 0,
   "metadata": {
    "application/vnd.databricks.v1+cell": {
     "inputWidgets": {},
     "nuid": "6eed6feb-838f-4730-9e45-1b679a39cfe3",
     "showTitle": false,
     "title": ""
    }
   },
   "outputs": [
    {
     "data": {
      "text/html": [
       "<style scoped>\n",
       "  .table-result-container {\n",
       "    max-height: 300px;\n",
       "    overflow: auto;\n",
       "  }\n",
       "  table, th, td {\n",
       "    border: 1px solid black;\n",
       "    border-collapse: collapse;\n",
       "  }\n",
       "  th, td {\n",
       "    padding: 5px;\n",
       "  }\n",
       "  th {\n",
       "    text-align: left;\n",
       "  }\n",
       "</style><div class='table-result-container'><table class='table-result'><thead style='background-color: white'><tr><th>path</th><th>name</th><th>size</th></tr></thead><tbody><tr><td>dbfs:/mnt/group12/data/part-00000.bin</td><td>part-00000.bin</td><td>118615322</td></tr><tr><td>dbfs:/mnt/group12/data/part-00001.bin</td><td>part-00001.bin</td><td>118317356</td></tr><tr><td>dbfs:/mnt/group12/data/part-00002.bin</td><td>part-00002.bin</td><td>118625765</td></tr><tr><td>dbfs:/mnt/group12/data/part-00003.bin</td><td>part-00003.bin</td><td>118513961</td></tr><tr><td>dbfs:/mnt/group12/data/part-00004.bin</td><td>part-00004.bin</td><td>118638046</td></tr><tr><td>dbfs:/mnt/group12/data/part-00005.bin</td><td>part-00005.bin</td><td>118423486</td></tr><tr><td>dbfs:/mnt/group12/data/part-00006.bin</td><td>part-00006.bin</td><td>118509694</td></tr><tr><td>dbfs:/mnt/group12/data/part-00007.bin</td><td>part-00007.bin</td><td>118653013</td></tr><tr><td>dbfs:/mnt/group12/data/part-00008.bin</td><td>part-00008.bin</td><td>118706488</td></tr><tr><td>dbfs:/mnt/group12/data/part-00009.bin</td><td>part-00009.bin</td><td>118362288</td></tr><tr><td>dbfs:/mnt/group12/data/part-00010.bin</td><td>part-00010.bin</td><td>118378097</td></tr><tr><td>dbfs:/mnt/group12/data/part-00011.bin</td><td>part-00011.bin</td><td>118247381</td></tr><tr><td>dbfs:/mnt/group12/data/part-00012.bin</td><td>part-00012.bin</td><td>118824832</td></tr><tr><td>dbfs:/mnt/group12/data/part-00013.bin</td><td>part-00013.bin</td><td>118507552</td></tr><tr><td>dbfs:/mnt/group12/data/part-00014.bin</td><td>part-00014.bin</td><td>118788709</td></tr><tr><td>dbfs:/mnt/group12/data/part-00015.bin</td><td>part-00015.bin</td><td>118534178</td></tr><tr><td>dbfs:/mnt/group12/data/part-00016.bin</td><td>part-00016.bin</td><td>118785182</td></tr><tr><td>dbfs:/mnt/group12/data/part-00017.bin</td><td>part-00017.bin</td><td>118587165</td></tr><tr><td>dbfs:/mnt/group12/data/part-00018.bin</td><td>part-00018.bin</td><td>118348838</td></tr><tr><td>dbfs:/mnt/group12/data/part-00019.bin</td><td>part-00019.bin</td><td>118735536</td></tr><tr><td>dbfs:/mnt/group12/data/part-00020.bin</td><td>part-00020.bin</td><td>118492226</td></tr><tr><td>dbfs:/mnt/group12/data/part-00021.bin</td><td>part-00021.bin</td><td>118645455</td></tr><tr><td>dbfs:/mnt/group12/data/part-00022.bin</td><td>part-00022.bin</td><td>118362636</td></tr><tr><td>dbfs:/mnt/group12/data/part-00023.bin</td><td>part-00023.bin</td><td>118512278</td></tr><tr><td>dbfs:/mnt/group12/data/part-00024.bin</td><td>part-00024.bin</td><td>118534476</td></tr><tr><td>dbfs:/mnt/group12/data/part-00025.bin</td><td>part-00025.bin</td><td>118461121</td></tr><tr><td>dbfs:/mnt/group12/data/part-00026.bin</td><td>part-00026.bin</td><td>118281533</td></tr><tr><td>dbfs:/mnt/group12/data/part-00027.bin</td><td>part-00027.bin</td><td>118412164</td></tr><tr><td>dbfs:/mnt/group12/data/part-00028.bin</td><td>part-00028.bin</td><td>118603104</td></tr><tr><td>dbfs:/mnt/group12/data/part-00029.bin</td><td>part-00029.bin</td><td>118414101</td></tr><tr><td>dbfs:/mnt/group12/data/part-00030.bin</td><td>part-00030.bin</td><td>118336582</td></tr><tr><td>dbfs:/mnt/group12/data/part-00031.bin</td><td>part-00031.bin</td><td>118474196</td></tr><tr><td>dbfs:/mnt/group12/data/part-00032.bin</td><td>part-00032.bin</td><td>118415097</td></tr><tr><td>dbfs:/mnt/group12/data/part-00033.bin</td><td>part-00033.bin</td><td>118462682</td></tr><tr><td>dbfs:/mnt/group12/data/part-00034.bin</td><td>part-00034.bin</td><td>117952487</td></tr><tr><td>dbfs:/mnt/group12/data/part-00035.bin</td><td>part-00035.bin</td><td>118330155</td></tr><tr><td>dbfs:/mnt/group12/data/part-00036.bin</td><td>part-00036.bin</td><td>118437408</td></tr><tr><td>dbfs:/mnt/group12/data/part-00037.bin</td><td>part-00037.bin</td><td>118556699</td></tr><tr><td>dbfs:/mnt/group12/data/part-00038.bin</td><td>part-00038.bin</td><td>118429722</td></tr><tr><td>dbfs:/mnt/group12/data/part-00039.bin</td><td>part-00039.bin</td><td>118127235</td></tr><tr><td>dbfs:/mnt/group12/data/part-00040.bin</td><td>part-00040.bin</td><td>118039789</td></tr><tr><td>dbfs:/mnt/group12/data/part-00041.bin</td><td>part-00041.bin</td><td>118012495</td></tr><tr><td>dbfs:/mnt/group12/data/part-00042.bin</td><td>part-00042.bin</td><td>117863465</td></tr><tr><td>dbfs:/mnt/group12/data/part-00043.bin</td><td>part-00043.bin</td><td>118178981</td></tr><tr><td>dbfs:/mnt/group12/data/part-00044.bin</td><td>part-00044.bin</td><td>118157005</td></tr><tr><td>dbfs:/mnt/group12/data/part-00045.bin</td><td>part-00045.bin</td><td>118129539</td></tr><tr><td>dbfs:/mnt/group12/data/part-00046.bin</td><td>part-00046.bin</td><td>118254667</td></tr><tr><td>dbfs:/mnt/group12/data/part-00047.bin</td><td>part-00047.bin</td><td>117952270</td></tr><tr><td>dbfs:/mnt/group12/data/part-00048.bin</td><td>part-00048.bin</td><td>117808950</td></tr><tr><td>dbfs:/mnt/group12/data/part-00049.bin</td><td>part-00049.bin</td><td>118073033</td></tr><tr><td>dbfs:/mnt/group12/data/part-00050.bin</td><td>part-00050.bin</td><td>118003625</td></tr><tr><td>dbfs:/mnt/group12/data/part-00051.bin</td><td>part-00051.bin</td><td>117857338</td></tr><tr><td>dbfs:/mnt/group12/data/part-00052.bin</td><td>part-00052.bin</td><td>117810660</td></tr><tr><td>dbfs:/mnt/group12/data/part-00053.bin</td><td>part-00053.bin</td><td>118092107</td></tr><tr><td>dbfs:/mnt/group12/data/part-00054.bin</td><td>part-00054.bin</td><td>118025244</td></tr><tr><td>dbfs:/mnt/group12/data/part-00055.bin</td><td>part-00055.bin</td><td>118288074</td></tr><tr><td>dbfs:/mnt/group12/data/part-00056.bin</td><td>part-00056.bin</td><td>118100693</td></tr><tr><td>dbfs:/mnt/group12/data/part-00057.bin</td><td>part-00057.bin</td><td>117834275</td></tr><tr><td>dbfs:/mnt/group12/data/part-00058.bin</td><td>part-00058.bin</td><td>117932945</td></tr><tr><td>dbfs:/mnt/group12/data/part-00059.bin</td><td>part-00059.bin</td><td>117927247</td></tr><tr><td>dbfs:/mnt/group12/data/part-00060.bin</td><td>part-00060.bin</td><td>118091049</td></tr><tr><td>dbfs:/mnt/group12/data/part-00061.bin</td><td>part-00061.bin</td><td>118082534</td></tr><tr><td>dbfs:/mnt/group12/data/part-00062.bin</td><td>part-00062.bin</td><td>117813135</td></tr><tr><td>dbfs:/mnt/group12/data/part-00063.bin</td><td>part-00063.bin</td><td>117613215</td></tr><tr><td>dbfs:/mnt/group12/data/part-00064.bin</td><td>part-00064.bin</td><td>117752359</td></tr><tr><td>dbfs:/mnt/group12/data/part-00065.bin</td><td>part-00065.bin</td><td>117821603</td></tr><tr><td>dbfs:/mnt/group12/data/part-00066.bin</td><td>part-00066.bin</td><td>117629625</td></tr><tr><td>dbfs:/mnt/group12/data/part-00067.bin</td><td>part-00067.bin</td><td>118126082</td></tr><tr><td>dbfs:/mnt/group12/data/part-00068.bin</td><td>part-00068.bin</td><td>117839816</td></tr><tr><td>dbfs:/mnt/group12/data/part-00069.bin</td><td>part-00069.bin</td><td>118106984</td></tr><tr><td>dbfs:/mnt/group12/data/part-00070.bin</td><td>part-00070.bin</td><td>118168114</td></tr><tr><td>dbfs:/mnt/group12/data/part-00071.bin</td><td>part-00071.bin</td><td>117948845</td></tr><tr><td>dbfs:/mnt/group12/data/part-00072.bin</td><td>part-00072.bin</td><td>117977882</td></tr><tr><td>dbfs:/mnt/group12/data/part-00073.bin</td><td>part-00073.bin</td><td>117996780</td></tr><tr><td>dbfs:/mnt/group12/data/part-00074.bin</td><td>part-00074.bin</td><td>117991170</td></tr><tr><td>dbfs:/mnt/group12/data/part-00075.bin</td><td>part-00075.bin</td><td>118213385</td></tr><tr><td>dbfs:/mnt/group12/data/part-00076.bin</td><td>part-00076.bin</td><td>118335723</td></tr><tr><td>dbfs:/mnt/group12/data/part-00077.bin</td><td>part-00077.bin</td><td>118066688</td></tr><tr><td>dbfs:/mnt/group12/data/part-00078.bin</td><td>part-00078.bin</td><td>118083698</td></tr><tr><td>dbfs:/mnt/group12/data/part-00079.bin</td><td>part-00079.bin</td><td>117803713</td></tr><tr><td>dbfs:/mnt/group12/data/part-00080.bin</td><td>part-00080.bin</td><td>117980470</td></tr><tr><td>dbfs:/mnt/group12/data/part-00081.bin</td><td>part-00081.bin</td><td>118122624</td></tr><tr><td>dbfs:/mnt/group12/data/part-00082.bin</td><td>part-00082.bin</td><td>118219826</td></tr><tr><td>dbfs:/mnt/group12/data/part-00083.bin</td><td>part-00083.bin</td><td>118181969</td></tr><tr><td>dbfs:/mnt/group12/data/part-00084.bin</td><td>part-00084.bin</td><td>118841893</td></tr><tr><td>dbfs:/mnt/group12/data/part-00085.bin</td><td>part-00085.bin</td><td>118835878</td></tr><tr><td>dbfs:/mnt/group12/data/part-00086.bin</td><td>part-00086.bin</td><td>118252885</td></tr><tr><td>dbfs:/mnt/group12/data/part-00087.bin</td><td>part-00087.bin</td><td>118031735</td></tr><tr><td>dbfs:/mnt/group12/data/part-00088.bin</td><td>part-00088.bin</td><td>118125788</td></tr><tr><td>dbfs:/mnt/group12/data/part-00089.bin</td><td>part-00089.bin</td><td>117949716</td></tr><tr><td>dbfs:/mnt/group12/data/part-00090.bin</td><td>part-00090.bin</td><td>117928980</td></tr><tr><td>dbfs:/mnt/group12/data/part-00091.bin</td><td>part-00091.bin</td><td>118088043</td></tr><tr><td>dbfs:/mnt/group12/data/part-00092.bin</td><td>part-00092.bin</td><td>118101839</td></tr><tr><td>dbfs:/mnt/group12/data/part-00093.bin</td><td>part-00093.bin</td><td>118002727</td></tr><tr><td>dbfs:/mnt/group12/data/part-00094.bin</td><td>part-00094.bin</td><td>117910061</td></tr><tr><td>dbfs:/mnt/group12/data/part-00095.bin</td><td>part-00095.bin</td><td>117916494</td></tr><tr><td>dbfs:/mnt/group12/data/part-00096.bin</td><td>part-00096.bin</td><td>118143323</td></tr><tr><td>dbfs:/mnt/group12/data/part-00097.bin</td><td>part-00097.bin</td><td>117800571</td></tr><tr><td>dbfs:/mnt/group12/data/part-00098.bin</td><td>part-00098.bin</td><td>117975012</td></tr><tr><td>dbfs:/mnt/group12/data/part-00099.bin</td><td>part-00099.bin</td><td>117965534</td></tr><tr><td>dbfs:/mnt/group12/data/part-00100.bin</td><td>part-00100.bin</td><td>117850846</td></tr><tr><td>dbfs:/mnt/group12/data/part-00101.bin</td><td>part-00101.bin</td><td>118089182</td></tr><tr><td>dbfs:/mnt/group12/data/part-00102.bin</td><td>part-00102.bin</td><td>118022376</td></tr><tr><td>dbfs:/mnt/group12/data/part-00103.bin</td><td>part-00103.bin</td><td>118033523</td></tr><tr><td>dbfs:/mnt/group12/data/part-00104.bin</td><td>part-00104.bin</td><td>118009441</td></tr><tr><td>dbfs:/mnt/group12/data/part-00105.bin</td><td>part-00105.bin</td><td>118170234</td></tr><tr><td>dbfs:/mnt/group12/data/part-00106.bin</td><td>part-00106.bin</td><td>117945502</td></tr><tr><td>dbfs:/mnt/group12/data/part-00107.bin</td><td>part-00107.bin</td><td>117923966</td></tr><tr><td>dbfs:/mnt/group12/data/part-00108.bin</td><td>part-00108.bin</td><td>117975129</td></tr><tr><td>dbfs:/mnt/group12/data/part-00109.bin</td><td>part-00109.bin</td><td>118034009</td></tr><tr><td>dbfs:/mnt/group12/data/part-00110.bin</td><td>part-00110.bin</td><td>118508475</td></tr><tr><td>dbfs:/mnt/group12/data/part-00111.bin</td><td>part-00111.bin</td><td>118133629</td></tr><tr><td>dbfs:/mnt/group12/data/part-00112.bin</td><td>part-00112.bin</td><td>118141797</td></tr><tr><td>dbfs:/mnt/group12/data/part-00113.bin</td><td>part-00113.bin</td><td>117950059</td></tr><tr><td>dbfs:/mnt/group12/data/part-00114.bin</td><td>part-00114.bin</td><td>118060771</td></tr><tr><td>dbfs:/mnt/group12/data/part-00115.bin</td><td>part-00115.bin</td><td>118019724</td></tr><tr><td>dbfs:/mnt/group12/data/part-00116.bin</td><td>part-00116.bin</td><td>117977339</td></tr><tr><td>dbfs:/mnt/group12/data/part-00117.bin</td><td>part-00117.bin</td><td>117918230</td></tr><tr><td>dbfs:/mnt/group12/data/part-00118.bin</td><td>part-00118.bin</td><td>118426946</td></tr><tr><td>dbfs:/mnt/group12/data/part-00119.bin</td><td>part-00119.bin</td><td>118006292</td></tr><tr><td>dbfs:/mnt/group12/data/part-00120.bin</td><td>part-00120.bin</td><td>117960518</td></tr><tr><td>dbfs:/mnt/group12/data/part-00121.bin</td><td>part-00121.bin</td><td>117818320</td></tr><tr><td>dbfs:/mnt/group12/data/part-00122.bin</td><td>part-00122.bin</td><td>117904867</td></tr><tr><td>dbfs:/mnt/group12/data/part-00123.bin</td><td>part-00123.bin</td><td>118271663</td></tr><tr><td>dbfs:/mnt/group12/data/part-00124.bin</td><td>part-00124.bin</td><td>118449931</td></tr><tr><td>dbfs:/mnt/group12/data/part-00125.bin</td><td>part-00125.bin</td><td>118060544</td></tr><tr><td>dbfs:/mnt/group12/data/part-00126.bin</td><td>part-00126.bin</td><td>119153508</td></tr><tr><td>dbfs:/mnt/group12/data/part-00127.bin</td><td>part-00127.bin</td><td>118496291</td></tr><tr><td>dbfs:/mnt/group12/data/part-00128.bin</td><td>part-00128.bin</td><td>118355491</td></tr><tr><td>dbfs:/mnt/group12/data/part-00129.bin</td><td>part-00129.bin</td><td>117978901</td></tr><tr><td>dbfs:/mnt/group12/data/part-00130.bin</td><td>part-00130.bin</td><td>118408938</td></tr><tr><td>dbfs:/mnt/group12/data/part-00131.bin</td><td>part-00131.bin</td><td>118382746</td></tr><tr><td>dbfs:/mnt/group12/data/part-00132.bin</td><td>part-00132.bin</td><td>118127058</td></tr><tr><td>dbfs:/mnt/group12/data/part-00133.bin</td><td>part-00133.bin</td><td>118382412</td></tr><tr><td>dbfs:/mnt/group12/data/part-00134.bin</td><td>part-00134.bin</td><td>118322789</td></tr><tr><td>dbfs:/mnt/group12/data/part-00135.bin</td><td>part-00135.bin</td><td>117953334</td></tr><tr><td>dbfs:/mnt/group12/data/part-00136.bin</td><td>part-00136.bin</td><td>118163828</td></tr><tr><td>dbfs:/mnt/group12/data/part-00137.bin</td><td>part-00137.bin</td><td>117897081</td></tr><tr><td>dbfs:/mnt/group12/data/part-00138.bin</td><td>part-00138.bin</td><td>118169420</td></tr><tr><td>dbfs:/mnt/group12/data/part-00139.bin</td><td>part-00139.bin</td><td>118013638</td></tr><tr><td>dbfs:/mnt/group12/data/part-00140.bin</td><td>part-00140.bin</td><td>118041517</td></tr><tr><td>dbfs:/mnt/group12/data/part-00141.bin</td><td>part-00141.bin</td><td>117868091</td></tr><tr><td>dbfs:/mnt/group12/data/part-00142.bin</td><td>part-00142.bin</td><td>118142585</td></tr><tr><td>dbfs:/mnt/group12/data/part-00143.bin</td><td>part-00143.bin</td><td>117952114</td></tr><tr><td>dbfs:/mnt/group12/data/part-00144.bin</td><td>part-00144.bin</td><td>118099317</td></tr><tr><td>dbfs:/mnt/group12/data/part-00145.bin</td><td>part-00145.bin</td><td>118024135</td></tr><tr><td>dbfs:/mnt/group12/data/part-00146.bin</td><td>part-00146.bin</td><td>118116151</td></tr><tr><td>dbfs:/mnt/group12/data/part-00147.bin</td><td>part-00147.bin</td><td>117929137</td></tr><tr><td>dbfs:/mnt/group12/data/part-00148.bin</td><td>part-00148.bin</td><td>118359990</td></tr><tr><td>dbfs:/mnt/group12/data/part-00149.bin</td><td>part-00149.bin</td><td>118557067</td></tr><tr><td>dbfs:/mnt/group12/data/part-00150.bin</td><td>part-00150.bin</td><td>118053043</td></tr><tr><td>dbfs:/mnt/group12/data/part-00151.bin</td><td>part-00151.bin</td><td>117880268</td></tr><tr><td>dbfs:/mnt/group12/data/part-00152.bin</td><td>part-00152.bin</td><td>118051792</td></tr><tr><td>dbfs:/mnt/group12/data/part-00153.bin</td><td>part-00153.bin</td><td>118484030</td></tr><tr><td>dbfs:/mnt/group12/data/part-00154.bin</td><td>part-00154.bin</td><td>118353792</td></tr><tr><td>dbfs:/mnt/group12/data/part-00155.bin</td><td>part-00155.bin</td><td>118050597</td></tr><tr><td>dbfs:/mnt/group12/data/part-00156.bin</td><td>part-00156.bin</td><td>118011426</td></tr><tr><td>dbfs:/mnt/group12/data/part-00157.bin</td><td>part-00157.bin</td><td>117816131</td></tr><tr><td>dbfs:/mnt/group12/data/part-00158.bin</td><td>part-00158.bin</td><td>118493664</td></tr><tr><td>dbfs:/mnt/group12/data/part-00159.bin</td><td>part-00159.bin</td><td>118330606</td></tr><tr><td>dbfs:/mnt/group12/data/part-00160.bin</td><td>part-00160.bin</td><td>118453974</td></tr><tr><td>dbfs:/mnt/group12/data/part-00161.bin</td><td>part-00161.bin</td><td>117785515</td></tr><tr><td>dbfs:/mnt/group12/data/part-00162.bin</td><td>part-00162.bin</td><td>118039816</td></tr><tr><td>dbfs:/mnt/group12/data/part-00163.bin</td><td>part-00163.bin</td><td>118216236</td></tr><tr><td>dbfs:/mnt/group12/data/part-00164.bin</td><td>part-00164.bin</td><td>117934900</td></tr><tr><td>dbfs:/mnt/group12/data/part-00165.bin</td><td>part-00165.bin</td><td>118400504</td></tr><tr><td>dbfs:/mnt/group12/data/part-00166.bin</td><td>part-00166.bin</td><td>117793958</td></tr><tr><td>dbfs:/mnt/group12/data/part-00167.bin</td><td>part-00167.bin</td><td>118287018</td></tr><tr><td>dbfs:/mnt/group12/data/part-00168.bin</td><td>part-00168.bin</td><td>117855718</td></tr><tr><td>dbfs:/mnt/group12/data/part-00169.bin</td><td>part-00169.bin</td><td>118193353</td></tr><tr><td>dbfs:/mnt/group12/data/part-00170.bin</td><td>part-00170.bin</td><td>118194536</td></tr><tr><td>dbfs:/mnt/group12/data/part-00171.bin</td><td>part-00171.bin</td><td>118129128</td></tr><tr><td>dbfs:/mnt/group12/data/part-00172.bin</td><td>part-00172.bin</td><td>117874420</td></tr><tr><td>dbfs:/mnt/group12/data/part-00173.bin</td><td>part-00173.bin</td><td>118157736</td></tr><tr><td>dbfs:/mnt/group12/data/part-00174.bin</td><td>part-00174.bin</td><td>117966152</td></tr><tr><td>dbfs:/mnt/group12/data/part-00175.bin</td><td>part-00175.bin</td><td>118181834</td></tr><tr><td>dbfs:/mnt/group12/data/part-00176.bin</td><td>part-00176.bin</td><td>117864360</td></tr><tr><td>dbfs:/mnt/group12/data/part-00177.bin</td><td>part-00177.bin</td><td>117831225</td></tr><tr><td>dbfs:/mnt/group12/data/part-00178.bin</td><td>part-00178.bin</td><td>117801694</td></tr><tr><td>dbfs:/mnt/group12/data/part-00179.bin</td><td>part-00179.bin</td><td>117764193</td></tr><tr><td>dbfs:/mnt/group12/data/part-00180.bin</td><td>part-00180.bin</td><td>117740425</td></tr><tr><td>dbfs:/mnt/group12/data/part-00181.bin</td><td>part-00181.bin</td><td>117721248</td></tr><tr><td>dbfs:/mnt/group12/data/part-00182.bin</td><td>part-00182.bin</td><td>117709065</td></tr><tr><td>dbfs:/mnt/group12/data/part-00183.bin</td><td>part-00183.bin</td><td>117895321</td></tr><tr><td>dbfs:/mnt/group12/data/part-00184.bin</td><td>part-00184.bin</td><td>118391637</td></tr><tr><td>dbfs:/mnt/group12/data/part-00185.bin</td><td>part-00185.bin</td><td>117971709</td></tr><tr><td>dbfs:/mnt/group12/data/part-00186.bin</td><td>part-00186.bin</td><td>118169976</td></tr><tr><td>dbfs:/mnt/group12/data/part-00187.bin</td><td>part-00187.bin</td><td>118252813</td></tr><tr><td>dbfs:/mnt/group12/data/part-00188.bin</td><td>part-00188.bin</td><td>117807045</td></tr><tr><td>dbfs:/mnt/group12/data/part-00189.bin</td><td>part-00189.bin</td><td>117866695</td></tr><tr><td>dbfs:/mnt/group12/data/part-00190.bin</td><td>part-00190.bin</td><td>117658808</td></tr><tr><td>dbfs:/mnt/group12/data/part-00191.bin</td><td>part-00191.bin</td><td>117662856</td></tr><tr><td>dbfs:/mnt/group12/data/part-00192.bin</td><td>part-00192.bin</td><td>118085821</td></tr><tr><td>dbfs:/mnt/group12/data/part-00193.bin</td><td>part-00193.bin</td><td>117832559</td></tr><tr><td>dbfs:/mnt/group12/data/part-00194.bin</td><td>part-00194.bin</td><td>118027590</td></tr><tr><td>dbfs:/mnt/group12/data/part-00195.bin</td><td>part-00195.bin</td><td>118464490</td></tr><tr><td>dbfs:/mnt/group12/data/part-00196.bin</td><td>part-00196.bin</td><td>117887548</td></tr><tr><td>dbfs:/mnt/group12/data/part-00197.bin</td><td>part-00197.bin</td><td>118168170</td></tr><tr><td>dbfs:/mnt/group12/data/part-00198.bin</td><td>part-00198.bin</td><td>118381157</td></tr><tr><td>dbfs:/mnt/group12/data/part-00199.bin</td><td>part-00199.bin</td><td>118125187</td></tr><tr><td>dbfs:/mnt/group12/data/part-00200.bin</td><td>part-00200.bin</td><td>118631246</td></tr><tr><td>dbfs:/mnt/group12/data/part-00201.bin</td><td>part-00201.bin</td><td>118411377</td></tr><tr><td>dbfs:/mnt/group12/data/part-00202.bin</td><td>part-00202.bin</td><td>118427327</td></tr><tr><td>dbfs:/mnt/group12/data/part-00203.bin</td><td>part-00203.bin</td><td>118131714</td></tr><tr><td>dbfs:/mnt/group12/data/part-00204.bin</td><td>part-00204.bin</td><td>118072732</td></tr><tr><td>dbfs:/mnt/group12/data/part-00205.bin</td><td>part-00205.bin</td><td>117900640</td></tr><tr><td>dbfs:/mnt/group12/data/part-00206.bin</td><td>part-00206.bin</td><td>118014826</td></tr><tr><td>dbfs:/mnt/group12/data/part-00207.bin</td><td>part-00207.bin</td><td>117903532</td></tr><tr><td>dbfs:/mnt/group12/data/part-00208.bin</td><td>part-00208.bin</td><td>117957754</td></tr><tr><td>dbfs:/mnt/group12/data/part-00209.bin</td><td>part-00209.bin</td><td>118101286</td></tr><tr><td>dbfs:/mnt/group12/data/part-00210.bin</td><td>part-00210.bin</td><td>118336262</td></tr><tr><td>dbfs:/mnt/group12/data/part-00211.bin</td><td>part-00211.bin</td><td>118357524</td></tr><tr><td>dbfs:/mnt/group12/data/part-00212.bin</td><td>part-00212.bin</td><td>118285482</td></tr><tr><td>dbfs:/mnt/group12/data/part-00213.bin</td><td>part-00213.bin</td><td>118257124</td></tr><tr><td>dbfs:/mnt/group12/data/part-00214.bin</td><td>part-00214.bin</td><td>118192417</td></tr><tr><td>dbfs:/mnt/group12/data/part-00215.bin</td><td>part-00215.bin</td><td>118399804</td></tr><tr><td>dbfs:/mnt/group12/data/part-00216.bin</td><td>part-00216.bin</td><td>118601564</td></tr><tr><td>dbfs:/mnt/group12/data/part-00217.bin</td><td>part-00217.bin</td><td>117921667</td></tr><tr><td>dbfs:/mnt/group12/data/part-00218.bin</td><td>part-00218.bin</td><td>118090169</td></tr><tr><td>dbfs:/mnt/group12/data/part-00219.bin</td><td>part-00219.bin</td><td>117921355</td></tr><tr><td>dbfs:/mnt/group12/data/part-00220.bin</td><td>part-00220.bin</td><td>118118569</td></tr><tr><td>dbfs:/mnt/group12/data/part-00221.bin</td><td>part-00221.bin</td><td>118048425</td></tr><tr><td>dbfs:/mnt/group12/data/part-00222.bin</td><td>part-00222.bin</td><td>117799270</td></tr><tr><td>dbfs:/mnt/group12/data/part-00223.bin</td><td>part-00223.bin</td><td>118033947</td></tr><tr><td>dbfs:/mnt/group12/data/part-00224.bin</td><td>part-00224.bin</td><td>117883657</td></tr><tr><td>dbfs:/mnt/group12/data/part-00225.bin</td><td>part-00225.bin</td><td>117672900</td></tr><tr><td>dbfs:/mnt/group12/data/part-00226.bin</td><td>part-00226.bin</td><td>117971562</td></tr><tr><td>dbfs:/mnt/group12/data/part-00227.bin</td><td>part-00227.bin</td><td>117941867</td></tr><tr><td>dbfs:/mnt/group12/data/part-00228.bin</td><td>part-00228.bin</td><td>117781072</td></tr><tr><td>dbfs:/mnt/group12/data/part-00229.bin</td><td>part-00229.bin</td><td>118322077</td></tr><tr><td>dbfs:/mnt/group12/data/part-00230.bin</td><td>part-00230.bin</td><td>117951878</td></tr><tr><td>dbfs:/mnt/group12/data/part-00231.bin</td><td>part-00231.bin</td><td>118050281</td></tr><tr><td>dbfs:/mnt/group12/data/part-00232.bin</td><td>part-00232.bin</td><td>117764096</td></tr><tr><td>dbfs:/mnt/group12/data/part-00233.bin</td><td>part-00233.bin</td><td>117560886</td></tr><tr><td>dbfs:/mnt/group12/data/part-00234.bin</td><td>part-00234.bin</td><td>117775321</td></tr><tr><td>dbfs:/mnt/group12/data/part-00235.bin</td><td>part-00235.bin</td><td>117617553</td></tr><tr><td>dbfs:/mnt/group12/data/part-00236.bin</td><td>part-00236.bin</td><td>117893053</td></tr><tr><td>dbfs:/mnt/group12/data/part-00237.bin</td><td>part-00237.bin</td><td>117855297</td></tr><tr><td>dbfs:/mnt/group12/data/part-00238.bin</td><td>part-00238.bin</td><td>117962230</td></tr><tr><td>dbfs:/mnt/group12/data/part-00239.bin</td><td>part-00239.bin</td><td>117764149</td></tr><tr><td>dbfs:/mnt/group12/data/part-00240.bin</td><td>part-00240.bin</td><td>117783023</td></tr><tr><td>dbfs:/mnt/group12/data/part-00241.bin</td><td>part-00241.bin</td><td>117668760</td></tr><tr><td>dbfs:/mnt/group12/data/part-00242.bin</td><td>part-00242.bin</td><td>117915366</td></tr><tr><td>dbfs:/mnt/group12/data/part-00243.bin</td><td>part-00243.bin</td><td>118335146</td></tr><tr><td>dbfs:/mnt/group12/data/part-00244.bin</td><td>part-00244.bin</td><td>117417895</td></tr><tr><td>dbfs:/mnt/group12/data/part-00245.bin</td><td>part-00245.bin</td><td>117702777</td></tr><tr><td>dbfs:/mnt/group12/data/part-00246.bin</td><td>part-00246.bin</td><td>118010872</td></tr><tr><td>dbfs:/mnt/group12/data/part-00247.bin</td><td>part-00247.bin</td><td>118020941</td></tr><tr><td>dbfs:/mnt/group12/data/part-00248.bin</td><td>part-00248.bin</td><td>117737963</td></tr><tr><td>dbfs:/mnt/group12/data/part-00249.bin</td><td>part-00249.bin</td><td>117846316</td></tr><tr><td>dbfs:/mnt/group12/data/part-00250.bin</td><td>part-00250.bin</td><td>117874051</td></tr><tr><td>dbfs:/mnt/group12/data/part-00251.bin</td><td>part-00251.bin</td><td>118003778</td></tr><tr><td>dbfs:/mnt/group12/data/part-00252.bin</td><td>part-00252.bin</td><td>117949466</td></tr><tr><td>dbfs:/mnt/group12/data/part-00253.bin</td><td>part-00253.bin</td><td>117906930</td></tr><tr><td>dbfs:/mnt/group12/data/part-00254.bin</td><td>part-00254.bin</td><td>117462641</td></tr><tr><td>dbfs:/mnt/group12/data/part-00255.bin</td><td>part-00255.bin</td><td>118388274</td></tr><tr><td>dbfs:/mnt/group12/data/part-00256.bin</td><td>part-00256.bin</td><td>117482256</td></tr><tr><td>dbfs:/mnt/group12/data/part-00257.bin</td><td>part-00257.bin</td><td>117840612</td></tr><tr><td>dbfs:/mnt/group12/data/part-00258.bin</td><td>part-00258.bin</td><td>117806819</td></tr><tr><td>dbfs:/mnt/group12/data/part-00259.bin</td><td>part-00259.bin</td><td>117690760</td></tr><tr><td>dbfs:/mnt/group12/data/part-00260.bin</td><td>part-00260.bin</td><td>117549567</td></tr><tr><td>dbfs:/mnt/group12/data/part-00261.bin</td><td>part-00261.bin</td><td>117703307</td></tr><tr><td>dbfs:/mnt/group12/data/part-00262.bin</td><td>part-00262.bin</td><td>117876881</td></tr><tr><td>dbfs:/mnt/group12/data/part-00263.bin</td><td>part-00263.bin</td><td>117778096</td></tr><tr><td>dbfs:/mnt/group12/data/part-00264.bin</td><td>part-00264.bin</td><td>117845329</td></tr><tr><td>dbfs:/mnt/group12/data/part-00265.bin</td><td>part-00265.bin</td><td>117694760</td></tr><tr><td>dbfs:/mnt/group12/data/part-00266.bin</td><td>part-00266.bin</td><td>117797633</td></tr><tr><td>dbfs:/mnt/group12/data/part-00267.bin</td><td>part-00267.bin</td><td>117414918</td></tr><tr><td>dbfs:/mnt/group12/data/part-00268.bin</td><td>part-00268.bin</td><td>117699242</td></tr><tr><td>dbfs:/mnt/group12/data/part-00269.bin</td><td>part-00269.bin</td><td>117688742</td></tr><tr><td>dbfs:/mnt/group12/data/part-00270.bin</td><td>part-00270.bin</td><td>117549818</td></tr><tr><td>dbfs:/mnt/group12/data/part-00271.bin</td><td>part-00271.bin</td><td>117690223</td></tr><tr><td>dbfs:/mnt/group12/data/part-00272.bin</td><td>part-00272.bin</td><td>117854175</td></tr><tr><td>dbfs:/mnt/group12/data/part-00273.bin</td><td>part-00273.bin</td><td>117557469</td></tr><tr><td>dbfs:/mnt/group12/data/part-00274.bin</td><td>part-00274.bin</td><td>117633633</td></tr><tr><td>dbfs:/mnt/group12/data/part-00275.bin</td><td>part-00275.bin</td><td>117633731</td></tr><tr><td>dbfs:/mnt/group12/data/part-00276.bin</td><td>part-00276.bin</td><td>117787146</td></tr><tr><td>dbfs:/mnt/group12/data/part-00277.bin</td><td>part-00277.bin</td><td>117525082</td></tr><tr><td>dbfs:/mnt/group12/data/part-00278.bin</td><td>part-00278.bin</td><td>117766010</td></tr><tr><td>dbfs:/mnt/group12/data/part-00279.bin</td><td>part-00279.bin</td><td>117410374</td></tr><tr><td>dbfs:/mnt/group12/data/part-00280.bin</td><td>part-00280.bin</td><td>117835079</td></tr><tr><td>dbfs:/mnt/group12/data/part-00281.bin</td><td>part-00281.bin</td><td>117718335</td></tr><tr><td>dbfs:/mnt/group12/data/part-00282.bin</td><td>part-00282.bin</td><td>117957060</td></tr><tr><td>dbfs:/mnt/group12/data/part-00283.bin</td><td>part-00283.bin</td><td>117791748</td></tr><tr><td>dbfs:/mnt/group12/data/part-00284.bin</td><td>part-00284.bin</td><td>117544257</td></tr><tr><td>dbfs:/mnt/group12/data/part-00285.bin</td><td>part-00285.bin</td><td>117824460</td></tr><tr><td>dbfs:/mnt/group12/data/part-00286.bin</td><td>part-00286.bin</td><td>117996040</td></tr><tr><td>dbfs:/mnt/group12/data/part-00287.bin</td><td>part-00287.bin</td><td>117500390</td></tr><tr><td>dbfs:/mnt/group12/data/part-00288.bin</td><td>part-00288.bin</td><td>117838783</td></tr><tr><td>dbfs:/mnt/group12/data/part-00289.bin</td><td>part-00289.bin</td><td>117859674</td></tr><tr><td>dbfs:/mnt/group12/data/part-00290.bin</td><td>part-00290.bin</td><td>117975504</td></tr><tr><td>dbfs:/mnt/group12/data/part-00291.bin</td><td>part-00291.bin</td><td>117774737</td></tr><tr><td>dbfs:/mnt/group12/data/part-00292.bin</td><td>part-00292.bin</td><td>117949701</td></tr><tr><td>dbfs:/mnt/group12/data/part-00293.bin</td><td>part-00293.bin</td><td>117790801</td></tr><tr><td>dbfs:/mnt/group12/data/part-00294.bin</td><td>part-00294.bin</td><td>117585792</td></tr><tr><td>dbfs:/mnt/group12/data/part-00295.bin</td><td>part-00295.bin</td><td>117528346</td></tr><tr><td>dbfs:/mnt/group12/data/part-00296.bin</td><td>part-00296.bin</td><td>117648247</td></tr><tr><td>dbfs:/mnt/group12/data/part-00297.bin</td><td>part-00297.bin</td><td>117626116</td></tr><tr><td>dbfs:/mnt/group12/data/part-00298.bin</td><td>part-00298.bin</td><td>117571314</td></tr><tr><td>dbfs:/mnt/group12/data/part-00299.bin</td><td>part-00299.bin</td><td>117675621</td></tr><tr><td>dbfs:/mnt/group12/data/part-00300.bin</td><td>part-00300.bin</td><td>117642820</td></tr><tr><td>dbfs:/mnt/group12/data/part-00301.bin</td><td>part-00301.bin</td><td>117757622</td></tr><tr><td>dbfs:/mnt/group12/data/part-00302.bin</td><td>part-00302.bin</td><td>117552198</td></tr><tr><td>dbfs:/mnt/group12/data/part-00303.bin</td><td>part-00303.bin</td><td>117536522</td></tr><tr><td>dbfs:/mnt/group12/data/part-00304.bin</td><td>part-00304.bin</td><td>117752701</td></tr><tr><td>dbfs:/mnt/group12/data/part-00305.bin</td><td>part-00305.bin</td><td>117626469</td></tr><tr><td>dbfs:/mnt/group12/data/part-00306.bin</td><td>part-00306.bin</td><td>117834829</td></tr><tr><td>dbfs:/mnt/group12/data/part-00307.bin</td><td>part-00307.bin</td><td>117622552</td></tr><tr><td>dbfs:/mnt/group12/data/part-00308.bin</td><td>part-00308.bin</td><td>117751196</td></tr><tr><td>dbfs:/mnt/group12/data/part-00309.bin</td><td>part-00309.bin</td><td>117620872</td></tr><tr><td>dbfs:/mnt/group12/data/part-00310.bin</td><td>part-00310.bin</td><td>117657761</td></tr><tr><td>dbfs:/mnt/group12/data/part-00311.bin</td><td>part-00311.bin</td><td>117881898</td></tr><tr><td>dbfs:/mnt/group12/data/part-00312.bin</td><td>part-00312.bin</td><td>117780656</td></tr><tr><td>dbfs:/mnt/group12/data/part-00313.bin</td><td>part-00313.bin</td><td>117793952</td></tr><tr><td>dbfs:/mnt/group12/data/part-00314.bin</td><td>part-00314.bin</td><td>117754296</td></tr><tr><td>dbfs:/mnt/group12/data/part-00315.bin</td><td>part-00315.bin</td><td>117841757</td></tr><tr><td>dbfs:/mnt/group12/data/part-00316.bin</td><td>part-00316.bin</td><td>117640629</td></tr><tr><td>dbfs:/mnt/group12/data/part-00317.bin</td><td>part-00317.bin</td><td>117948512</td></tr><tr><td>dbfs:/mnt/group12/data/part-00318.bin</td><td>part-00318.bin</td><td>117665858</td></tr><tr><td>dbfs:/mnt/group12/data/part-00319.bin</td><td>part-00319.bin</td><td>118010881</td></tr><tr><td>dbfs:/mnt/group12/data/part-00320.bin</td><td>part-00320.bin</td><td>118080142</td></tr><tr><td>dbfs:/mnt/group12/data/part-00321.bin</td><td>part-00321.bin</td><td>118425878</td></tr><tr><td>dbfs:/mnt/group12/data/part-00322.bin</td><td>part-00322.bin</td><td>118484947</td></tr><tr><td>dbfs:/mnt/group12/data/part-00323.bin</td><td>part-00323.bin</td><td>117932486</td></tr><tr><td>dbfs:/mnt/group12/data/part-00324.bin</td><td>part-00324.bin</td><td>117990580</td></tr><tr><td>dbfs:/mnt/group12/data/part-00325.bin</td><td>part-00325.bin</td><td>118247519</td></tr><tr><td>dbfs:/mnt/group12/data/part-00326.bin</td><td>part-00326.bin</td><td>118344481</td></tr><tr><td>dbfs:/mnt/group12/data/part-00327.bin</td><td>part-00327.bin</td><td>118344768</td></tr><tr><td>dbfs:/mnt/group12/data/part-00328.bin</td><td>part-00328.bin</td><td>117985105</td></tr><tr><td>dbfs:/mnt/group12/data/part-00329.bin</td><td>part-00329.bin</td><td>118051020</td></tr><tr><td>dbfs:/mnt/group12/data/part-00330.bin</td><td>part-00330.bin</td><td>118266280</td></tr><tr><td>dbfs:/mnt/group12/data/part-00331.bin</td><td>part-00331.bin</td><td>118257666</td></tr><tr><td>dbfs:/mnt/group12/data/part-00332.bin</td><td>part-00332.bin</td><td>118079870</td></tr><tr><td>dbfs:/mnt/group12/data/part-00333.bin</td><td>part-00333.bin</td><td>118199544</td></tr><tr><td>dbfs:/mnt/group12/data/part-00334.bin</td><td>part-00334.bin</td><td>118359560</td></tr><tr><td>dbfs:/mnt/group12/data/part-00335.bin</td><td>part-00335.bin</td><td>118470942</td></tr><tr><td>dbfs:/mnt/group12/data/part-00336.bin</td><td>part-00336.bin</td><td>118239440</td></tr><tr><td>dbfs:/mnt/group12/data/part-00337.bin</td><td>part-00337.bin</td><td>118598298</td></tr><tr><td>dbfs:/mnt/group12/data/part-00338.bin</td><td>part-00338.bin</td><td>118046693</td></tr><tr><td>dbfs:/mnt/group12/data/part-00339.bin</td><td>part-00339.bin</td><td>118136325</td></tr><tr><td>dbfs:/mnt/group12/data/part-00340.bin</td><td>part-00340.bin</td><td>118230201</td></tr><tr><td>dbfs:/mnt/group12/data/part-00341.bin</td><td>part-00341.bin</td><td>118317726</td></tr><tr><td>dbfs:/mnt/group12/data/part-00342.bin</td><td>part-00342.bin</td><td>118555813</td></tr><tr><td>dbfs:/mnt/group12/data/part-00343.bin</td><td>part-00343.bin</td><td>118512592</td></tr><tr><td>dbfs:/mnt/group12/data/part-00344.bin</td><td>part-00344.bin</td><td>118671566</td></tr><tr><td>dbfs:/mnt/group12/data/part-00345.bin</td><td>part-00345.bin</td><td>118076761</td></tr><tr><td>dbfs:/mnt/group12/data/part-00346.bin</td><td>part-00346.bin</td><td>118332665</td></tr><tr><td>dbfs:/mnt/group12/data/part-00347.bin</td><td>part-00347.bin</td><td>118166572</td></tr><tr><td>dbfs:/mnt/group12/data/part-00348.bin</td><td>part-00348.bin</td><td>118500160</td></tr><tr><td>dbfs:/mnt/group12/data/part-00349.bin</td><td>part-00349.bin</td><td>118347292</td></tr><tr><td>dbfs:/mnt/group12/data/part-00350.bin</td><td>part-00350.bin</td><td>118434749</td></tr><tr><td>dbfs:/mnt/group12/data/part-00351.bin</td><td>part-00351.bin</td><td>118750135</td></tr><tr><td>dbfs:/mnt/group12/data/part-00352.bin</td><td>part-00352.bin</td><td>118480990</td></tr><tr><td>dbfs:/mnt/group12/data/part-00353.bin</td><td>part-00353.bin</td><td>118609140</td></tr><tr><td>dbfs:/mnt/group12/data/part-00354.bin</td><td>part-00354.bin</td><td>118435188</td></tr><tr><td>dbfs:/mnt/group12/data/part-00355.bin</td><td>part-00355.bin</td><td>118226429</td></tr><tr><td>dbfs:/mnt/group12/data/part-00356.bin</td><td>part-00356.bin</td><td>118187722</td></tr><tr><td>dbfs:/mnt/group12/data/part-00357.bin</td><td>part-00357.bin</td><td>118455649</td></tr><tr><td>dbfs:/mnt/group12/data/part-00358.bin</td><td>part-00358.bin</td><td>117998149</td></tr><tr><td>dbfs:/mnt/group12/data/part-00359.bin</td><td>part-00359.bin</td><td>118050192</td></tr><tr><td>dbfs:/mnt/group12/data/part-00360.bin</td><td>part-00360.bin</td><td>118087187</td></tr><tr><td>dbfs:/mnt/group12/data/part-00361.bin</td><td>part-00361.bin</td><td>118349920</td></tr><tr><td>dbfs:/mnt/group12/data/part-00362.bin</td><td>part-00362.bin</td><td>118375375</td></tr><tr><td>dbfs:/mnt/group12/data/part-00363.bin</td><td>part-00363.bin</td><td>118375046</td></tr><tr><td>dbfs:/mnt/group12/data/part-00364.bin</td><td>part-00364.bin</td><td>118123682</td></tr><tr><td>dbfs:/mnt/group12/data/part-00365.bin</td><td>part-00365.bin</td><td>118379059</td></tr><tr><td>dbfs:/mnt/group12/data/part-00366.bin</td><td>part-00366.bin</td><td>118430719</td></tr><tr><td>dbfs:/mnt/group12/data/part-00367.bin</td><td>part-00367.bin</td><td>118032540</td></tr><tr><td>dbfs:/mnt/group12/data/part-00368.bin</td><td>part-00368.bin</td><td>118304245</td></tr><tr><td>dbfs:/mnt/group12/data/part-00369.bin</td><td>part-00369.bin</td><td>118355168</td></tr><tr><td>dbfs:/mnt/group12/data/part-00370.bin</td><td>part-00370.bin</td><td>118008710</td></tr><tr><td>dbfs:/mnt/group12/data/part-00371.bin</td><td>part-00371.bin</td><td>118154905</td></tr><tr><td>dbfs:/mnt/group12/data/part-00372.bin</td><td>part-00372.bin</td><td>117855437</td></tr><tr><td>dbfs:/mnt/group12/data/part-00373.bin</td><td>part-00373.bin</td><td>117999936</td></tr><tr><td>dbfs:/mnt/group12/data/part-00374.bin</td><td>part-00374.bin</td><td>118162197</td></tr><tr><td>dbfs:/mnt/group12/data/part-00375.bin</td><td>part-00375.bin</td><td>118421346</td></tr><tr><td>dbfs:/mnt/group12/data/part-00376.bin</td><td>part-00376.bin</td><td>118244414</td></tr><tr><td>dbfs:/mnt/group12/data/part-00377.bin</td><td>part-00377.bin</td><td>118283814</td></tr><tr><td>dbfs:/mnt/group12/data/part-00378.bin</td><td>part-00378.bin</td><td>118172440</td></tr><tr><td>dbfs:/mnt/group12/data/part-00379.bin</td><td>part-00379.bin</td><td>118212852</td></tr><tr><td>dbfs:/mnt/group12/data/part-00380.bin</td><td>part-00380.bin</td><td>118201969</td></tr><tr><td>dbfs:/mnt/group12/data/part-00381.bin</td><td>part-00381.bin</td><td>118132038</td></tr><tr><td>dbfs:/mnt/group12/data/part-00382.bin</td><td>part-00382.bin</td><td>118523899</td></tr><tr><td>dbfs:/mnt/group12/data/part-00383.bin</td><td>part-00383.bin</td><td>118616565</td></tr><tr><td>dbfs:/mnt/group12/data/part-00384.bin</td><td>part-00384.bin</td><td>118867119</td></tr><tr><td>dbfs:/mnt/group12/data/part-00385.bin</td><td>part-00385.bin</td><td>118291122</td></tr><tr><td>dbfs:/mnt/group12/data/part-00386.bin</td><td>part-00386.bin</td><td>118565071</td></tr><tr><td>dbfs:/mnt/group12/data/part-00387.bin</td><td>part-00387.bin</td><td>118382928</td></tr><tr><td>dbfs:/mnt/group12/data/part-00388.bin</td><td>part-00388.bin</td><td>118780063</td></tr><tr><td>dbfs:/mnt/group12/data/part-00389.bin</td><td>part-00389.bin</td><td>118588573</td></tr><tr><td>dbfs:/mnt/group12/data/part-00390.bin</td><td>part-00390.bin</td><td>118162437</td></tr><tr><td>dbfs:/mnt/group12/data/part-00391.bin</td><td>part-00391.bin</td><td>118007134</td></tr><tr><td>dbfs:/mnt/group12/data/part-00392.bin</td><td>part-00392.bin</td><td>118453462</td></tr><tr><td>dbfs:/mnt/group12/data/part-00393.bin</td><td>part-00393.bin</td><td>118242811</td></tr><tr><td>dbfs:/mnt/group12/data/part-00394.bin</td><td>part-00394.bin</td><td>117958074</td></tr><tr><td>dbfs:/mnt/group12/data/part-00395.bin</td><td>part-00395.bin</td><td>118157352</td></tr><tr><td>dbfs:/mnt/group12/data/part-00396.bin</td><td>part-00396.bin</td><td>118188201</td></tr><tr><td>dbfs:/mnt/group12/data/part-00397.bin</td><td>part-00397.bin</td><td>118044217</td></tr><tr><td>dbfs:/mnt/group12/data/part-00398.bin</td><td>part-00398.bin</td><td>117793597</td></tr><tr><td>dbfs:/mnt/group12/data/part-00399.bin</td><td>part-00399.bin</td><td>118020605</td></tr><tr><td>dbfs:/mnt/group12/data/part-00400.bin</td><td>part-00400.bin</td><td>117792134</td></tr><tr><td>dbfs:/mnt/group12/data/part-00401.bin</td><td>part-00401.bin</td><td>117804703</td></tr><tr><td>dbfs:/mnt/group12/data/part-00402.bin</td><td>part-00402.bin</td><td>118045136</td></tr><tr><td>dbfs:/mnt/group12/data/part-00403.bin</td><td>part-00403.bin</td><td>118277165</td></tr><tr><td>dbfs:/mnt/group12/data/part-00404.bin</td><td>part-00404.bin</td><td>118160029</td></tr><tr><td>dbfs:/mnt/group12/data/part-00405.bin</td><td>part-00405.bin</td><td>118133217</td></tr><tr><td>dbfs:/mnt/group12/data/part-00406.bin</td><td>part-00406.bin</td><td>118390383</td></tr><tr><td>dbfs:/mnt/group12/data/part-00407.bin</td><td>part-00407.bin</td><td>118268127</td></tr><tr><td>dbfs:/mnt/group12/data/part-00408.bin</td><td>part-00408.bin</td><td>118458115</td></tr><tr><td>dbfs:/mnt/group12/data/part-00409.bin</td><td>part-00409.bin</td><td>118146921</td></tr><tr><td>dbfs:/mnt/group12/data/part-00410.bin</td><td>part-00410.bin</td><td>117921430</td></tr><tr><td>dbfs:/mnt/group12/data/part-00411.bin</td><td>part-00411.bin</td><td>118045840</td></tr><tr><td>dbfs:/mnt/group12/data/part-00412.bin</td><td>part-00412.bin</td><td>118148832</td></tr><tr><td>dbfs:/mnt/group12/data/part-00413.bin</td><td>part-00413.bin</td><td>117871878</td></tr><tr><td>dbfs:/mnt/group12/data/part-00414.bin</td><td>part-00414.bin</td><td>118003473</td></tr><tr><td>dbfs:/mnt/group12/data/part-00415.bin</td><td>part-00415.bin</td><td>117904079</td></tr><tr><td>dbfs:/mnt/group12/data/part-00416.bin</td><td>part-00416.bin</td><td>117917287</td></tr><tr><td>dbfs:/mnt/group12/data/part-00417.bin</td><td>part-00417.bin</td><td>118077430</td></tr><tr><td>dbfs:/mnt/group12/data/part-00418.bin</td><td>part-00418.bin</td><td>118032054</td></tr><tr><td>dbfs:/mnt/group12/data/part-00419.bin</td><td>part-00419.bin</td><td>118268548</td></tr><tr><td>dbfs:/mnt/group12/data/part-00420.bin</td><td>part-00420.bin</td><td>117918281</td></tr><tr><td>dbfs:/mnt/group12/data/part-00421.bin</td><td>part-00421.bin</td><td>117892368</td></tr><tr><td>dbfs:/mnt/group12/data/part-00422.bin</td><td>part-00422.bin</td><td>117799251</td></tr><tr><td>dbfs:/mnt/group12/data/part-00423.bin</td><td>part-00423.bin</td><td>117951331</td></tr><tr><td>dbfs:/mnt/group12/data/part-00424.bin</td><td>part-00424.bin</td><td>117972779</td></tr><tr><td>dbfs:/mnt/group12/data/part-00425.bin</td><td>part-00425.bin</td><td>118042089</td></tr><tr><td>dbfs:/mnt/group12/data/part-00426.bin</td><td>part-00426.bin</td><td>117923042</td></tr><tr><td>dbfs:/mnt/group12/data/part-00427.bin</td><td>part-00427.bin</td><td>118051829</td></tr><tr><td>dbfs:/mnt/group12/data/part-00428.bin</td><td>part-00428.bin</td><td>118169174</td></tr><tr><td>dbfs:/mnt/group12/data/part-00429.bin</td><td>part-00429.bin</td><td>118009271</td></tr><tr><td>dbfs:/mnt/group12/data/part-00430.bin</td><td>part-00430.bin</td><td>117945781</td></tr><tr><td>dbfs:/mnt/group12/data/part-00431.bin</td><td>part-00431.bin</td><td>117868497</td></tr><tr><td>dbfs:/mnt/group12/data/part-00432.bin</td><td>part-00432.bin</td><td>117984090</td></tr><tr><td>dbfs:/mnt/group12/data/part-00433.bin</td><td>part-00433.bin</td><td>118206816</td></tr><tr><td>dbfs:/mnt/group12/data/part-00434.bin</td><td>part-00434.bin</td><td>118087055</td></tr><tr><td>dbfs:/mnt/group12/data/part-00435.bin</td><td>part-00435.bin</td><td>118237599</td></tr><tr><td>dbfs:/mnt/group12/data/part-00436.bin</td><td>part-00436.bin</td><td>118209129</td></tr><tr><td>dbfs:/mnt/group12/data/part-00437.bin</td><td>part-00437.bin</td><td>117916388</td></tr><tr><td>dbfs:/mnt/group12/data/part-00438.bin</td><td>part-00438.bin</td><td>118451678</td></tr><tr><td>dbfs:/mnt/group12/data/part-00439.bin</td><td>part-00439.bin</td><td>118252002</td></tr><tr><td>dbfs:/mnt/group12/data/part-00440.bin</td><td>part-00440.bin</td><td>117873705</td></tr><tr><td>dbfs:/mnt/group12/data/part-00441.bin</td><td>part-00441.bin</td><td>118097167</td></tr><tr><td>dbfs:/mnt/group12/data/part-00442.bin</td><td>part-00442.bin</td><td>118298601</td></tr><tr><td>dbfs:/mnt/group12/data/part-00443.bin</td><td>part-00443.bin</td><td>118285388</td></tr><tr><td>dbfs:/mnt/group12/data/part-00444.bin</td><td>part-00444.bin</td><td>118301611</td></tr><tr><td>dbfs:/mnt/group12/data/part-00445.bin</td><td>part-00445.bin</td><td>118030858</td></tr><tr><td>dbfs:/mnt/group12/data/part-00446.bin</td><td>part-00446.bin</td><td>117987574</td></tr><tr><td>dbfs:/mnt/group12/data/part-00447.bin</td><td>part-00447.bin</td><td>118268588</td></tr><tr><td>dbfs:/mnt/group12/data/part-00448.bin</td><td>part-00448.bin</td><td>118188040</td></tr><tr><td>dbfs:/mnt/group12/data/part-00449.bin</td><td>part-00449.bin</td><td>118256808</td></tr><tr><td>dbfs:/mnt/group12/data/part-00450.bin</td><td>part-00450.bin</td><td>118059145</td></tr><tr><td>dbfs:/mnt/group12/data/part-00451.bin</td><td>part-00451.bin</td><td>118282989</td></tr><tr><td>dbfs:/mnt/group12/data/part-00452.bin</td><td>part-00452.bin</td><td>118188148</td></tr><tr><td>dbfs:/mnt/group12/data/part-00453.bin</td><td>part-00453.bin</td><td>118079343</td></tr><tr><td>dbfs:/mnt/group12/data/part-00454.bin</td><td>part-00454.bin</td><td>118405402</td></tr><tr><td>dbfs:/mnt/group12/data/part-00455.bin</td><td>part-00455.bin</td><td>118327518</td></tr><tr><td>dbfs:/mnt/group12/data/part-00456.bin</td><td>part-00456.bin</td><td>118307219</td></tr><tr><td>dbfs:/mnt/group12/data/part-00457.bin</td><td>part-00457.bin</td><td>117936854</td></tr><tr><td>dbfs:/mnt/group12/data/part-00458.bin</td><td>part-00458.bin</td><td>118272611</td></tr><tr><td>dbfs:/mnt/group12/data/part-00459.bin</td><td>part-00459.bin</td><td>118040039</td></tr><tr><td>dbfs:/mnt/group12/data/part-00460.bin</td><td>part-00460.bin</td><td>118173382</td></tr><tr><td>dbfs:/mnt/group12/data/part-00461.bin</td><td>part-00461.bin</td><td>118194303</td></tr><tr><td>dbfs:/mnt/group12/data/part-00462.bin</td><td>part-00462.bin</td><td>118332488</td></tr><tr><td>dbfs:/mnt/group12/data/part-00463.bin</td><td>part-00463.bin</td><td>117950482</td></tr><tr><td>dbfs:/mnt/group12/data/part-00464.bin</td><td>part-00464.bin</td><td>118062978</td></tr><tr><td>dbfs:/mnt/group12/data/part-00465.bin</td><td>part-00465.bin</td><td>118138100</td></tr><tr><td>dbfs:/mnt/group12/data/part-00466.bin</td><td>part-00466.bin</td><td>118224930</td></tr><tr><td>dbfs:/mnt/group12/data/part-00467.bin</td><td>part-00467.bin</td><td>117980555</td></tr><tr><td>dbfs:/mnt/group12/data/part-00468.bin</td><td>part-00468.bin</td><td>118250344</td></tr><tr><td>dbfs:/mnt/group12/data/part-00469.bin</td><td>part-00469.bin</td><td>118268248</td></tr><tr><td>dbfs:/mnt/group12/data/part-00470.bin</td><td>part-00470.bin</td><td>118423220</td></tr><tr><td>dbfs:/mnt/group12/data/part-00471.bin</td><td>part-00471.bin</td><td>118687838</td></tr><tr><td>dbfs:/mnt/group12/data/part-00472.bin</td><td>part-00472.bin</td><td>118638720</td></tr><tr><td>dbfs:/mnt/group12/data/part-00473.bin</td><td>part-00473.bin</td><td>118533924</td></tr><tr><td>dbfs:/mnt/group12/data/part-00474.bin</td><td>part-00474.bin</td><td>118269752</td></tr><tr><td>dbfs:/mnt/group12/data/part-00475.bin</td><td>part-00475.bin</td><td>118607382</td></tr><tr><td>dbfs:/mnt/group12/data/part-00476.bin</td><td>part-00476.bin</td><td>118320027</td></tr><tr><td>dbfs:/mnt/group12/data/part-00477.bin</td><td>part-00477.bin</td><td>118296385</td></tr><tr><td>dbfs:/mnt/group12/data/part-00478.bin</td><td>part-00478.bin</td><td>118396666</td></tr><tr><td>dbfs:/mnt/group12/data/part-00479.bin</td><td>part-00479.bin</td><td>118305804</td></tr><tr><td>dbfs:/mnt/group12/data/part-00480.bin</td><td>part-00480.bin</td><td>118127960</td></tr><tr><td>dbfs:/mnt/group12/data/part-00481.bin</td><td>part-00481.bin</td><td>118187910</td></tr><tr><td>dbfs:/mnt/group12/data/part-00482.bin</td><td>part-00482.bin</td><td>118057858</td></tr><tr><td>dbfs:/mnt/group12/data/part-00483.bin</td><td>part-00483.bin</td><td>118089258</td></tr><tr><td>dbfs:/mnt/group12/data/part-00484.bin</td><td>part-00484.bin</td><td>118394379</td></tr><tr><td>dbfs:/mnt/group12/data/part-00485.bin</td><td>part-00485.bin</td><td>118492192</td></tr><tr><td>dbfs:/mnt/group12/data/part-00486.bin</td><td>part-00486.bin</td><td>118559017</td></tr><tr><td>dbfs:/mnt/group12/data/part-00487.bin</td><td>part-00487.bin</td><td>118590012</td></tr><tr><td>dbfs:/mnt/group12/data/part-00488.bin</td><td>part-00488.bin</td><td>118424445</td></tr><tr><td>dbfs:/mnt/group12/data/part-00489.bin</td><td>part-00489.bin</td><td>118604571</td></tr><tr><td>dbfs:/mnt/group12/data/part-00490.bin</td><td>part-00490.bin</td><td>118283200</td></tr><tr><td>dbfs:/mnt/group12/data/part-00491.bin</td><td>part-00491.bin</td><td>118613525</td></tr><tr><td>dbfs:/mnt/group12/data/part-00492.bin</td><td>part-00492.bin</td><td>118463599</td></tr><tr><td>dbfs:/mnt/group12/data/part-00493.bin</td><td>part-00493.bin</td><td>118272837</td></tr><tr><td>dbfs:/mnt/group12/data/part-00494.bin</td><td>part-00494.bin</td><td>118140574</td></tr><tr><td>dbfs:/mnt/group12/data/part-00495.bin</td><td>part-00495.bin</td><td>118103466</td></tr><tr><td>dbfs:/mnt/group12/data/part-00496.bin</td><td>part-00496.bin</td><td>118327351</td></tr><tr><td>dbfs:/mnt/group12/data/part-00497.bin</td><td>part-00497.bin</td><td>118160473</td></tr><tr><td>dbfs:/mnt/group12/data/part-00498.bin</td><td>part-00498.bin</td><td>118426086</td></tr><tr><td>dbfs:/mnt/group12/data/part-00499.bin</td><td>part-00499.bin</td><td>118471124</td></tr><tr><td>dbfs:/mnt/group12/data/part-00500.bin</td><td>part-00500.bin</td><td>117993195</td></tr><tr><td>dbfs:/mnt/group12/data/part-00501.bin</td><td>part-00501.bin</td><td>118006756</td></tr><tr><td>dbfs:/mnt/group12/data/part-00502.bin</td><td>part-00502.bin</td><td>118392290</td></tr><tr><td>dbfs:/mnt/group12/data/part-00503.bin</td><td>part-00503.bin</td><td>118195665</td></tr><tr><td>dbfs:/mnt/group12/data/part-00504.bin</td><td>part-00504.bin</td><td>117992134</td></tr><tr><td>dbfs:/mnt/group12/data/part-00505.bin</td><td>part-00505.bin</td><td>117962244</td></tr><tr><td>dbfs:/mnt/group12/data/part-00506.bin</td><td>part-00506.bin</td><td>117980468</td></tr><tr><td>dbfs:/mnt/group12/data/part-00507.bin</td><td>part-00507.bin</td><td>118160476</td></tr><tr><td>dbfs:/mnt/group12/data/part-00508.bin</td><td>part-00508.bin</td><td>117996907</td></tr><tr><td>dbfs:/mnt/group12/data/part-00509.bin</td><td>part-00509.bin</td><td>118167190</td></tr><tr><td>dbfs:/mnt/group12/data/part-00510.bin</td><td>part-00510.bin</td><td>118192318</td></tr><tr><td>dbfs:/mnt/group12/data/part-00511.bin</td><td>part-00511.bin</td><td>117945359</td></tr><tr><td>dbfs:/mnt/group12/data/part-00512.bin</td><td>part-00512.bin</td><td>118164916</td></tr><tr><td>dbfs:/mnt/group12/data/part-00513.bin</td><td>part-00513.bin</td><td>117913628</td></tr><tr><td>dbfs:/mnt/group12/data/part-00514.bin</td><td>part-00514.bin</td><td>118235928</td></tr><tr><td>dbfs:/mnt/group12/data/part-00515.bin</td><td>part-00515.bin</td><td>118090791</td></tr><tr><td>dbfs:/mnt/group12/data/part-00516.bin</td><td>part-00516.bin</td><td>117663087</td></tr><tr><td>dbfs:/mnt/group12/data/part-00517.bin</td><td>part-00517.bin</td><td>117972405</td></tr><tr><td>dbfs:/mnt/group12/data/part-00518.bin</td><td>part-00518.bin</td><td>118124648</td></tr><tr><td>dbfs:/mnt/group12/data/part-00519.bin</td><td>part-00519.bin</td><td>118543516</td></tr><tr><td>dbfs:/mnt/group12/data/part-00520.bin</td><td>part-00520.bin</td><td>118279100</td></tr><tr><td>dbfs:/mnt/group12/data/part-00521.bin</td><td>part-00521.bin</td><td>118129546</td></tr><tr><td>dbfs:/mnt/group12/data/part-00522.bin</td><td>part-00522.bin</td><td>118099031</td></tr><tr><td>dbfs:/mnt/group12/data/part-00523.bin</td><td>part-00523.bin</td><td>118210624</td></tr><tr><td>dbfs:/mnt/group12/data/part-00524.bin</td><td>part-00524.bin</td><td>118218737</td></tr><tr><td>dbfs:/mnt/group12/data/part-00525.bin</td><td>part-00525.bin</td><td>118203603</td></tr><tr><td>dbfs:/mnt/group12/data/part-00526.bin</td><td>part-00526.bin</td><td>118107813</td></tr><tr><td>dbfs:/mnt/group12/data/part-00527.bin</td><td>part-00527.bin</td><td>117886233</td></tr><tr><td>dbfs:/mnt/group12/data/part-00528.bin</td><td>part-00528.bin</td><td>118042557</td></tr><tr><td>dbfs:/mnt/group12/data/part-00529.bin</td><td>part-00529.bin</td><td>118359979</td></tr><tr><td>dbfs:/mnt/group12/data/part-00530.bin</td><td>part-00530.bin</td><td>118222329</td></tr><tr><td>dbfs:/mnt/group12/data/part-00531.bin</td><td>part-00531.bin</td><td>117905869</td></tr><tr><td>dbfs:/mnt/group12/data/part-00532.bin</td><td>part-00532.bin</td><td>118353028</td></tr><tr><td>dbfs:/mnt/group12/data/part-00533.bin</td><td>part-00533.bin</td><td>118133615</td></tr><tr><td>dbfs:/mnt/group12/data/part-00534.bin</td><td>part-00534.bin</td><td>118191060</td></tr><tr><td>dbfs:/mnt/group12/data/part-00535.bin</td><td>part-00535.bin</td><td>118355221</td></tr><tr><td>dbfs:/mnt/group12/data/part-00536.bin</td><td>part-00536.bin</td><td>118516262</td></tr><tr><td>dbfs:/mnt/group12/data/part-00537.bin</td><td>part-00537.bin</td><td>118066442</td></tr><tr><td>dbfs:/mnt/group12/data/part-00538.bin</td><td>part-00538.bin</td><td>118429043</td></tr><tr><td>dbfs:/mnt/group12/data/part-00539.bin</td><td>part-00539.bin</td><td>118090232</td></tr><tr><td>dbfs:/mnt/group12/data/part-00540.bin</td><td>part-00540.bin</td><td>118172253</td></tr><tr><td>dbfs:/mnt/group12/data/part-00541.bin</td><td>part-00541.bin</td><td>118425408</td></tr><tr><td>dbfs:/mnt/group12/data/part-00542.bin</td><td>part-00542.bin</td><td>118233833</td></tr><tr><td>dbfs:/mnt/group12/data/part-00543.bin</td><td>part-00543.bin</td><td>118033834</td></tr><tr><td>dbfs:/mnt/group12/data/part-00544.bin</td><td>part-00544.bin</td><td>118229681</td></tr><tr><td>dbfs:/mnt/group12/data/part-00545.bin</td><td>part-00545.bin</td><td>118228298</td></tr><tr><td>dbfs:/mnt/group12/data/part-00546.bin</td><td>part-00546.bin</td><td>118340301</td></tr><tr><td>dbfs:/mnt/group12/data/part-00547.bin</td><td>part-00547.bin</td><td>118311949</td></tr><tr><td>dbfs:/mnt/group12/data/part-00548.bin</td><td>part-00548.bin</td><td>118170538</td></tr><tr><td>dbfs:/mnt/group12/data/part-00549.bin</td><td>part-00549.bin</td><td>118490801</td></tr><tr><td>dbfs:/mnt/group12/data/part-00550.bin</td><td>part-00550.bin</td><td>118170699</td></tr><tr><td>dbfs:/mnt/group12/data/part-00551.bin</td><td>part-00551.bin</td><td>118071537</td></tr><tr><td>dbfs:/mnt/group12/data/part-00552.bin</td><td>part-00552.bin</td><td>118241043</td></tr><tr><td>dbfs:/mnt/group12/data/part-00553.bin</td><td>part-00553.bin</td><td>118299252</td></tr><tr><td>dbfs:/mnt/group12/data/part-00554.bin</td><td>part-00554.bin</td><td>118013826</td></tr><tr><td>dbfs:/mnt/group12/data/part-00555.bin</td><td>part-00555.bin</td><td>117995966</td></tr><tr><td>dbfs:/mnt/group12/data/part-00556.bin</td><td>part-00556.bin</td><td>118405734</td></tr><tr><td>dbfs:/mnt/group12/data/part-00557.bin</td><td>part-00557.bin</td><td>117861189</td></tr><tr><td>dbfs:/mnt/group12/data/part-00558.bin</td><td>part-00558.bin</td><td>117905419</td></tr><tr><td>dbfs:/mnt/group12/data/part-00559.bin</td><td>part-00559.bin</td><td>117965221</td></tr><tr><td>dbfs:/mnt/group12/data/part-00560.bin</td><td>part-00560.bin</td><td>117676617</td></tr><tr><td>dbfs:/mnt/group12/data/part-00561.bin</td><td>part-00561.bin</td><td>116105056</td></tr><tr><td>dbfs:/mnt/group12/data/part-00562.bin</td><td>part-00562.bin</td><td>114982687</td></tr><tr><td>dbfs:/mnt/group12/data/part-00563.bin</td><td>part-00563.bin</td><td>116308325</td></tr><tr><td>dbfs:/mnt/group12/data/part-00564.bin</td><td>part-00564.bin</td><td>115000466</td></tr><tr><td>dbfs:/mnt/group12/data/part-00565.bin</td><td>part-00565.bin</td><td>116255141</td></tr><tr><td>dbfs:/mnt/group12/data/part-00566.bin</td><td>part-00566.bin</td><td>115488478</td></tr><tr><td>dbfs:/mnt/group12/data/part-00567.bin</td><td>part-00567.bin</td><td>115423268</td></tr><tr><td>dbfs:/mnt/group12/data/part-00568.bin</td><td>part-00568.bin</td><td>116192233</td></tr><tr><td>dbfs:/mnt/group12/data/part-00569.bin</td><td>part-00569.bin</td><td>115653520</td></tr><tr><td>dbfs:/mnt/group12/data/part-00570.bin</td><td>part-00570.bin</td><td>115364137</td></tr><tr><td>dbfs:/mnt/group12/data/part-00571.bin</td><td>part-00571.bin</td><td>115741861</td></tr><tr><td>dbfs:/mnt/group12/data/part-00572.bin</td><td>part-00572.bin</td><td>115557203</td></tr><tr><td>dbfs:/mnt/group12/data/part-00573.bin</td><td>part-00573.bin</td><td>115873577</td></tr><tr><td>dbfs:/mnt/group12/data/part-00574.bin</td><td>part-00574.bin</td><td>115741283</td></tr><tr><td>dbfs:/mnt/group12/data/part-00575.bin</td><td>part-00575.bin</td><td>115775628</td></tr><tr><td>dbfs:/mnt/group12/data/part-00576.bin</td><td>part-00576.bin</td><td>115837081</td></tr><tr><td>dbfs:/mnt/group12/data/part-00577.bin</td><td>part-00577.bin</td><td>116223341</td></tr><tr><td>dbfs:/mnt/group12/data/part-00578.bin</td><td>part-00578.bin</td><td>115540607</td></tr><tr><td>dbfs:/mnt/group12/data/part-00579.bin</td><td>part-00579.bin</td><td>115959099</td></tr><tr><td>dbfs:/mnt/group12/data/part-00580.bin</td><td>part-00580.bin</td><td>115677583</td></tr><tr><td>dbfs:/mnt/group12/data/part-00581.bin</td><td>part-00581.bin</td><td>115415401</td></tr><tr><td>dbfs:/mnt/group12/data/part-00582.bin</td><td>part-00582.bin</td><td>115900010</td></tr><tr><td>dbfs:/mnt/group12/data/part-00583.bin</td><td>part-00583.bin</td><td>115453206</td></tr><tr><td>dbfs:/mnt/group12/data/part-00584.bin</td><td>part-00584.bin</td><td>115407933</td></tr><tr><td>dbfs:/mnt/group12/data/part-00585.bin</td><td>part-00585.bin</td><td>116176100</td></tr><tr><td>dbfs:/mnt/group12/data/part-00586.bin</td><td>part-00586.bin</td><td>115655737</td></tr><tr><td>dbfs:/mnt/group12/data/part-00587.bin</td><td>part-00587.bin</td><td>115702640</td></tr><tr><td>dbfs:/mnt/group12/data/part-00588.bin</td><td>part-00588.bin</td><td>115807140</td></tr><tr><td>dbfs:/mnt/group12/data/part-00589.bin</td><td>part-00589.bin</td><td>115528799</td></tr><tr><td>dbfs:/mnt/group12/data/part-00590.bin</td><td>part-00590.bin</td><td>115746963</td></tr><tr><td>dbfs:/mnt/group12/data/part-00591.bin</td><td>part-00591.bin</td><td>115468155</td></tr><tr><td>dbfs:/mnt/group12/data/part-00592.bin</td><td>part-00592.bin</td><td>115628696</td></tr><tr><td>dbfs:/mnt/group12/data/part-00593.bin</td><td>part-00593.bin</td><td>115939857</td></tr><tr><td>dbfs:/mnt/group12/data/part-00594.bin</td><td>part-00594.bin</td><td>116082440</td></tr><tr><td>dbfs:/mnt/group12/data/part-00595.bin</td><td>part-00595.bin</td><td>115760423</td></tr><tr><td>dbfs:/mnt/group12/data/part-00596.bin</td><td>part-00596.bin</td><td>115847331</td></tr><tr><td>dbfs:/mnt/group12/data/part-00597.bin</td><td>part-00597.bin</td><td>116176977</td></tr><tr><td>dbfs:/mnt/group12/data/part-00598.bin</td><td>part-00598.bin</td><td>115363019</td></tr><tr><td>dbfs:/mnt/group12/data/part-00599.bin</td><td>part-00599.bin</td><td>115524977</td></tr><tr><td>dbfs:/mnt/group12/data/part-00600.bin</td><td>part-00600.bin</td><td>115578023</td></tr><tr><td>dbfs:/mnt/group12/data/part-00601.bin</td><td>part-00601.bin</td><td>115583446</td></tr><tr><td>dbfs:/mnt/group12/data/part-00602.bin</td><td>part-00602.bin</td><td>115394921</td></tr><tr><td>dbfs:/mnt/group12/data/part-00603.bin</td><td>part-00603.bin</td><td>115719325</td></tr><tr><td>dbfs:/mnt/group12/data/part-00604.bin</td><td>part-00604.bin</td><td>115666921</td></tr><tr><td>dbfs:/mnt/group12/data/part-00605.bin</td><td>part-00605.bin</td><td>115493329</td></tr><tr><td>dbfs:/mnt/group12/data/part-00606.bin</td><td>part-00606.bin</td><td>115518855</td></tr><tr><td>dbfs:/mnt/group12/data/part-00607.bin</td><td>part-00607.bin</td><td>115704651</td></tr><tr><td>dbfs:/mnt/group12/data/part-00608.bin</td><td>part-00608.bin</td><td>115858504</td></tr><tr><td>dbfs:/mnt/group12/data/part-00609.bin</td><td>part-00609.bin</td><td>115753053</td></tr><tr><td>dbfs:/mnt/group12/data/part-00610.bin</td><td>part-00610.bin</td><td>115893402</td></tr><tr><td>dbfs:/mnt/group12/data/part-00611.bin</td><td>part-00611.bin</td><td>115475388</td></tr><tr><td>dbfs:/mnt/group12/data/part-00612.bin</td><td>part-00612.bin</td><td>115536904</td></tr><tr><td>dbfs:/mnt/group12/data/part-00613.bin</td><td>part-00613.bin</td><td>115739615</td></tr><tr><td>dbfs:/mnt/group12/data/part-00614.bin</td><td>part-00614.bin</td><td>115700571</td></tr><tr><td>dbfs:/mnt/group12/data/part-00615.bin</td><td>part-00615.bin</td><td>115569714</td></tr><tr><td>dbfs:/mnt/group12/data/part-00616.bin</td><td>part-00616.bin</td><td>115410778</td></tr><tr><td>dbfs:/mnt/group12/data/part-00617.bin</td><td>part-00617.bin</td><td>115479540</td></tr><tr><td>dbfs:/mnt/group12/data/part-00618.bin</td><td>part-00618.bin</td><td>115160646</td></tr><tr><td>dbfs:/mnt/group12/data/part-00619.bin</td><td>part-00619.bin</td><td>116375484</td></tr><tr><td>dbfs:/mnt/group12/data/part-00620.bin</td><td>part-00620.bin</td><td>115771649</td></tr><tr><td>dbfs:/mnt/group12/data/part-00621.bin</td><td>part-00621.bin</td><td>115836351</td></tr><tr><td>dbfs:/mnt/group12/data/part-00622.bin</td><td>part-00622.bin</td><td>116466050</td></tr><tr><td>dbfs:/mnt/group12/data/part-00623.bin</td><td>part-00623.bin</td><td>115766885</td></tr><tr><td>dbfs:/mnt/group12/data/part-00624.bin</td><td>part-00624.bin</td><td>115490686</td></tr><tr><td>dbfs:/mnt/group12/data/part-00625.bin</td><td>part-00625.bin</td><td>115555191</td></tr><tr><td>dbfs:/mnt/group12/data/part-00626.bin</td><td>part-00626.bin</td><td>115947355</td></tr><tr><td>dbfs:/mnt/group12/data/part-00627.bin</td><td>part-00627.bin</td><td>115629043</td></tr><tr><td>dbfs:/mnt/group12/data/part-00628.bin</td><td>part-00628.bin</td><td>115725659</td></tr><tr><td>dbfs:/mnt/group12/data/part-00629.bin</td><td>part-00629.bin</td><td>115656115</td></tr><tr><td>dbfs:/mnt/group12/data/part-00630.bin</td><td>part-00630.bin</td><td>115512153</td></tr><tr><td>dbfs:/mnt/group12/data/part-00631.bin</td><td>part-00631.bin</td><td>115866122</td></tr><tr><td>dbfs:/mnt/group12/data/part-00632.bin</td><td>part-00632.bin</td><td>115692008</td></tr><tr><td>dbfs:/mnt/group12/data/part-00633.bin</td><td>part-00633.bin</td><td>115429319</td></tr><tr><td>dbfs:/mnt/group12/data/part-00634.bin</td><td>part-00634.bin</td><td>115744841</td></tr><tr><td>dbfs:/mnt/group12/data/part-00635.bin</td><td>part-00635.bin</td><td>115599528</td></tr><tr><td>dbfs:/mnt/group12/data/part-00636.bin</td><td>part-00636.bin</td><td>115976263</td></tr><tr><td>dbfs:/mnt/group12/data/part-00637.bin</td><td>part-00637.bin</td><td>115757444</td></tr><tr><td>dbfs:/mnt/group12/data/part-00638.bin</td><td>part-00638.bin</td><td>115348317</td></tr><tr><td>dbfs:/mnt/group12/data/part-00639.bin</td><td>part-00639.bin</td><td>115611258</td></tr><tr><td>dbfs:/mnt/group12/data/part-00640.bin</td><td>part-00640.bin</td><td>115819963</td></tr><tr><td>dbfs:/mnt/group12/data/part-00641.bin</td><td>part-00641.bin</td><td>115683732</td></tr><tr><td>dbfs:/mnt/group12/data/part-00642.bin</td><td>part-00642.bin</td><td>115839081</td></tr><tr><td>dbfs:/mnt/group12/data/part-00643.bin</td><td>part-00643.bin</td><td>115429327</td></tr><tr><td>dbfs:/mnt/group12/data/part-00644.bin</td><td>part-00644.bin</td><td>115979255</td></tr><tr><td>dbfs:/mnt/group12/data/part-00645.bin</td><td>part-00645.bin</td><td>116042504</td></tr><tr><td>dbfs:/mnt/group12/data/part-00646.bin</td><td>part-00646.bin</td><td>115430117</td></tr><tr><td>dbfs:/mnt/group12/data/part-00647.bin</td><td>part-00647.bin</td><td>116021278</td></tr><tr><td>dbfs:/mnt/group12/data/part-00648.bin</td><td>part-00648.bin</td><td>115361426</td></tr><tr><td>dbfs:/mnt/group12/data/part-00649.bin</td><td>part-00649.bin</td><td>116644623</td></tr><tr><td>dbfs:/mnt/group12/data/part-00650.bin</td><td>part-00650.bin</td><td>115504144</td></tr><tr><td>dbfs:/mnt/group12/data/part-00651.bin</td><td>part-00651.bin</td><td>115646809</td></tr><tr><td>dbfs:/mnt/group12/data/part-00652.bin</td><td>part-00652.bin</td><td>116960936</td></tr><tr><td>dbfs:/mnt/group12/data/part-00653.bin</td><td>part-00653.bin</td><td>115943080</td></tr><tr><td>dbfs:/mnt/group12/data/part-00654.bin</td><td>part-00654.bin</td><td>115499536</td></tr><tr><td>dbfs:/mnt/group12/data/part-00655.bin</td><td>part-00655.bin</td><td>117124337</td></tr><tr><td>dbfs:/mnt/group12/data/part-00656.bin</td><td>part-00656.bin</td><td>116038324</td></tr><tr><td>dbfs:/mnt/group12/data/part-00657.bin</td><td>part-00657.bin</td><td>115661583</td></tr><tr><td>dbfs:/mnt/group12/data/part-00658.bin</td><td>part-00658.bin</td><td>115793596</td></tr><tr><td>dbfs:/mnt/group12/data/part-00659.bin</td><td>part-00659.bin</td><td>115777584</td></tr><tr><td>dbfs:/mnt/group12/data/part-00660.bin</td><td>part-00660.bin</td><td>115611694</td></tr><tr><td>dbfs:/mnt/group12/data/part-00661.bin</td><td>part-00661.bin</td><td>115502997</td></tr><tr><td>dbfs:/mnt/group12/data/part-00662.bin</td><td>part-00662.bin</td><td>115982315</td></tr><tr><td>dbfs:/mnt/group12/data/part-00663.bin</td><td>part-00663.bin</td><td>115587353</td></tr><tr><td>dbfs:/mnt/group12/data/part-00664.bin</td><td>part-00664.bin</td><td>115577825</td></tr><tr><td>dbfs:/mnt/group12/data/part-00665.bin</td><td>part-00665.bin</td><td>115437242</td></tr><tr><td>dbfs:/mnt/group12/data/part-00666.bin</td><td>part-00666.bin</td><td>115882856</td></tr><tr><td>dbfs:/mnt/group12/data/part-00667.bin</td><td>part-00667.bin</td><td>115836046</td></tr><tr><td>dbfs:/mnt/group12/data/part-00668.bin</td><td>part-00668.bin</td><td>115551030</td></tr><tr><td>dbfs:/mnt/group12/data/part-00669.bin</td><td>part-00669.bin</td><td>115939215</td></tr><tr><td>dbfs:/mnt/group12/data/part-00670.bin</td><td>part-00670.bin</td><td>115545620</td></tr><tr><td>dbfs:/mnt/group12/data/part-00671.bin</td><td>part-00671.bin</td><td>115899612</td></tr><tr><td>dbfs:/mnt/group12/data/part-00672.bin</td><td>part-00672.bin</td><td>115800129</td></tr><tr><td>dbfs:/mnt/group12/data/part-00673.bin</td><td>part-00673.bin</td><td>115646533</td></tr><tr><td>dbfs:/mnt/group12/data/part-00674.bin</td><td>part-00674.bin</td><td>115795097</td></tr><tr><td>dbfs:/mnt/group12/data/part-00675.bin</td><td>part-00675.bin</td><td>116347698</td></tr><tr><td>dbfs:/mnt/group12/data/part-00676.bin</td><td>part-00676.bin</td><td>115470990</td></tr><tr><td>dbfs:/mnt/group12/data/part-00677.bin</td><td>part-00677.bin</td><td>115792371</td></tr><tr><td>dbfs:/mnt/group12/data/part-00678.bin</td><td>part-00678.bin</td><td>115927941</td></tr><tr><td>dbfs:/mnt/group12/data/part-00679.bin</td><td>part-00679.bin</td><td>115835287</td></tr><tr><td>dbfs:/mnt/group12/data/part-00680.bin</td><td>part-00680.bin</td><td>115878216</td></tr><tr><td>dbfs:/mnt/group12/data/part-00681.bin</td><td>part-00681.bin</td><td>115887955</td></tr><tr><td>dbfs:/mnt/group12/data/part-00682.bin</td><td>part-00682.bin</td><td>115831541</td></tr><tr><td>dbfs:/mnt/group12/data/part-00683.bin</td><td>part-00683.bin</td><td>115811267</td></tr><tr><td>dbfs:/mnt/group12/data/part-00684.bin</td><td>part-00684.bin</td><td>115910469</td></tr><tr><td>dbfs:/mnt/group12/data/part-00685.bin</td><td>part-00685.bin</td><td>116193744</td></tr><tr><td>dbfs:/mnt/group12/data/part-00686.bin</td><td>part-00686.bin</td><td>115717546</td></tr><tr><td>dbfs:/mnt/group12/data/part-00687.bin</td><td>part-00687.bin</td><td>115510615</td></tr><tr><td>dbfs:/mnt/group12/data/part-00688.bin</td><td>part-00688.bin</td><td>115713703</td></tr><tr><td>dbfs:/mnt/group12/data/part-00689.bin</td><td>part-00689.bin</td><td>115775943</td></tr><tr><td>dbfs:/mnt/group12/data/part-00690.bin</td><td>part-00690.bin</td><td>114718896</td></tr><tr><td>dbfs:/mnt/group12/data/part-00691.bin</td><td>part-00691.bin</td><td>115517046</td></tr><tr><td>dbfs:/mnt/group12/data/part-00692.bin</td><td>part-00692.bin</td><td>115854832</td></tr><tr><td>dbfs:/mnt/group12/data/part-00693.bin</td><td>part-00693.bin</td><td>115593317</td></tr><tr><td>dbfs:/mnt/group12/data/part-00694.bin</td><td>part-00694.bin</td><td>115458100</td></tr><tr><td>dbfs:/mnt/group12/data/part-00695.bin</td><td>part-00695.bin</td><td>116126350</td></tr><tr><td>dbfs:/mnt/group12/data/part-00696.bin</td><td>part-00696.bin</td><td>115747021</td></tr><tr><td>dbfs:/mnt/group12/data/part-00697.bin</td><td>part-00697.bin</td><td>115712110</td></tr><tr><td>dbfs:/mnt/group12/data/part-00698.bin</td><td>part-00698.bin</td><td>116011105</td></tr><tr><td>dbfs:/mnt/group12/data/part-00699.bin</td><td>part-00699.bin</td><td>115677395</td></tr><tr><td>dbfs:/mnt/group12/data/part-00700.bin</td><td>part-00700.bin</td><td>115979590</td></tr><tr><td>dbfs:/mnt/group12/data/part-00701.bin</td><td>part-00701.bin</td><td>115937528</td></tr><tr><td>dbfs:/mnt/group12/data/part-00702.bin</td><td>part-00702.bin</td><td>116338843</td></tr><tr><td>dbfs:/mnt/group12/data/part-00703.bin</td><td>part-00703.bin</td><td>115745277</td></tr><tr><td>dbfs:/mnt/group12/data/part-00704.bin</td><td>part-00704.bin</td><td>115797200</td></tr><tr><td>dbfs:/mnt/group12/data/part-00705.bin</td><td>part-00705.bin</td><td>115607765</td></tr><tr><td>dbfs:/mnt/group12/data/part-00706.bin</td><td>part-00706.bin</td><td>115677326</td></tr><tr><td>dbfs:/mnt/group12/data/part-00707.bin</td><td>part-00707.bin</td><td>115574708</td></tr><tr><td>dbfs:/mnt/group12/data/part-00708.bin</td><td>part-00708.bin</td><td>115726513</td></tr><tr><td>dbfs:/mnt/group12/data/part-00709.bin</td><td>part-00709.bin</td><td>115993474</td></tr><tr><td>dbfs:/mnt/group12/data/part-00710.bin</td><td>part-00710.bin</td><td>115357714</td></tr><tr><td>dbfs:/mnt/group12/data/part-00711.bin</td><td>part-00711.bin</td><td>115940620</td></tr><tr><td>dbfs:/mnt/group12/data/part-00712.bin</td><td>part-00712.bin</td><td>116016799</td></tr><tr><td>dbfs:/mnt/group12/data/part-00713.bin</td><td>part-00713.bin</td><td>115801811</td></tr><tr><td>dbfs:/mnt/group12/data/part-00714.bin</td><td>part-00714.bin</td><td>116042906</td></tr><tr><td>dbfs:/mnt/group12/data/part-00715.bin</td><td>part-00715.bin</td><td>116960631</td></tr><tr><td>dbfs:/mnt/group12/data/part-00716.bin</td><td>part-00716.bin</td><td>117507210</td></tr><tr><td>dbfs:/mnt/group12/data/part-00717.bin</td><td>part-00717.bin</td><td>116466350</td></tr><tr><td>dbfs:/mnt/group12/data/part-00718.bin</td><td>part-00718.bin</td><td>116080575</td></tr><tr><td>dbfs:/mnt/group12/data/part-00719.bin</td><td>part-00719.bin</td><td>116105235</td></tr><tr><td>dbfs:/mnt/group12/data/part-00720.bin</td><td>part-00720.bin</td><td>115794185</td></tr><tr><td>dbfs:/mnt/group12/data/part-00721.bin</td><td>part-00721.bin</td><td>116062110</td></tr><tr><td>dbfs:/mnt/group12/data/part-00722.bin</td><td>part-00722.bin</td><td>115390672</td></tr><tr><td>dbfs:/mnt/group12/data/part-00723.bin</td><td>part-00723.bin</td><td>115382843</td></tr><tr><td>dbfs:/mnt/group12/data/part-00724.bin</td><td>part-00724.bin</td><td>115684637</td></tr><tr><td>dbfs:/mnt/group12/data/part-00725.bin</td><td>part-00725.bin</td><td>115579437</td></tr><tr><td>dbfs:/mnt/group12/data/part-00726.bin</td><td>part-00726.bin</td><td>115637077</td></tr><tr><td>dbfs:/mnt/group12/data/part-00727.bin</td><td>part-00727.bin</td><td>115737287</td></tr><tr><td>dbfs:/mnt/group12/data/part-00728.bin</td><td>part-00728.bin</td><td>115637813</td></tr><tr><td>dbfs:/mnt/group12/data/part-00729.bin</td><td>part-00729.bin</td><td>115717145</td></tr><tr><td>dbfs:/mnt/group12/data/part-00730.bin</td><td>part-00730.bin</td><td>115853998</td></tr><tr><td>dbfs:/mnt/group12/data/part-00731.bin</td><td>part-00731.bin</td><td>115421684</td></tr><tr><td>dbfs:/mnt/group12/data/part-00732.bin</td><td>part-00732.bin</td><td>115596426</td></tr><tr><td>dbfs:/mnt/group12/data/part-00733.bin</td><td>part-00733.bin</td><td>115648130</td></tr><tr><td>dbfs:/mnt/group12/data/part-00734.bin</td><td>part-00734.bin</td><td>115767103</td></tr><tr><td>dbfs:/mnt/group12/data/part-00735.bin</td><td>part-00735.bin</td><td>116028340</td></tr><tr><td>dbfs:/mnt/group12/data/part-00736.bin</td><td>part-00736.bin</td><td>116167648</td></tr><tr><td>dbfs:/mnt/group12/data/part-00737.bin</td><td>part-00737.bin</td><td>115768832</td></tr><tr><td>dbfs:/mnt/group12/data/part-00738.bin</td><td>part-00738.bin</td><td>115727281</td></tr><tr><td>dbfs:/mnt/group12/data/part-00739.bin</td><td>part-00739.bin</td><td>116059043</td></tr><tr><td>dbfs:/mnt/group12/data/part-00740.bin</td><td>part-00740.bin</td><td>115909643</td></tr><tr><td>dbfs:/mnt/group12/data/part-00741.bin</td><td>part-00741.bin</td><td>116203468</td></tr><tr><td>dbfs:/mnt/group12/data/part-00742.bin</td><td>part-00742.bin</td><td>115785947</td></tr><tr><td>dbfs:/mnt/group12/data/part-00743.bin</td><td>part-00743.bin</td><td>115638171</td></tr><tr><td>dbfs:/mnt/group12/data/part-00744.bin</td><td>part-00744.bin</td><td>115746904</td></tr><tr><td>dbfs:/mnt/group12/data/part-00745.bin</td><td>part-00745.bin</td><td>116206158</td></tr><tr><td>dbfs:/mnt/group12/data/part-00746.bin</td><td>part-00746.bin</td><td>114783312</td></tr><tr><td>dbfs:/mnt/group12/data/part-00747.bin</td><td>part-00747.bin</td><td>114881405</td></tr><tr><td>dbfs:/mnt/group12/data/part-00748.bin</td><td>part-00748.bin</td><td>115567186</td></tr><tr><td>dbfs:/mnt/group12/data/part-00749.bin</td><td>part-00749.bin</td><td>115901807</td></tr><tr><td>dbfs:/mnt/group12/data/part-00750.bin</td><td>part-00750.bin</td><td>115362841</td></tr><tr><td>dbfs:/mnt/group12/data/part-00751.bin</td><td>part-00751.bin</td><td>116290875</td></tr><tr><td>dbfs:/mnt/group12/data/part-00752.bin</td><td>part-00752.bin</td><td>115518831</td></tr><tr><td>dbfs:/mnt/group12/data/part-00753.bin</td><td>part-00753.bin</td><td>115104385</td></tr><tr><td>dbfs:/mnt/group12/data/part-00754.bin</td><td>part-00754.bin</td><td>115728688</td></tr><tr><td>dbfs:/mnt/group12/data/part-00755.bin</td><td>part-00755.bin</td><td>115625434</td></tr><tr><td>dbfs:/mnt/group12/data/part-00756.bin</td><td>part-00756.bin</td><td>115797404</td></tr><tr><td>dbfs:/mnt/group12/data/part-00757.bin</td><td>part-00757.bin</td><td>115968546</td></tr><tr><td>dbfs:/mnt/group12/data/part-00758.bin</td><td>part-00758.bin</td><td>116389632</td></tr><tr><td>dbfs:/mnt/group12/data/part-00759.bin</td><td>part-00759.bin</td><td>115634923</td></tr><tr><td>dbfs:/mnt/group12/data/part-00760.bin</td><td>part-00760.bin</td><td>115568105</td></tr><tr><td>dbfs:/mnt/group12/data/part-00761.bin</td><td>part-00761.bin</td><td>115888050</td></tr><tr><td>dbfs:/mnt/group12/data/part-00762.bin</td><td>part-00762.bin</td><td>115904431</td></tr><tr><td>dbfs:/mnt/group12/data/part-00763.bin</td><td>part-00763.bin</td><td>116202295</td></tr><tr><td>dbfs:/mnt/group12/data/part-00764.bin</td><td>part-00764.bin</td><td>115891970</td></tr><tr><td>dbfs:/mnt/group12/data/part-00765.bin</td><td>part-00765.bin</td><td>116042255</td></tr><tr><td>dbfs:/mnt/group12/data/part-00766.bin</td><td>part-00766.bin</td><td>115819467</td></tr><tr><td>dbfs:/mnt/group12/data/part-00767.bin</td><td>part-00767.bin</td><td>115908203</td></tr><tr><td>dbfs:/mnt/group12/data/part-00768.bin</td><td>part-00768.bin</td><td>115800990</td></tr><tr><td>dbfs:/mnt/group12/data/part-00769.bin</td><td>part-00769.bin</td><td>115942851</td></tr><tr><td>dbfs:/mnt/group12/data/part-00770.bin</td><td>part-00770.bin</td><td>115531651</td></tr><tr><td>dbfs:/mnt/group12/data/part-00771.bin</td><td>part-00771.bin</td><td>115985390</td></tr><tr><td>dbfs:/mnt/group12/data/part-00772.bin</td><td>part-00772.bin</td><td>116159463</td></tr><tr><td>dbfs:/mnt/group12/data/part-00773.bin</td><td>part-00773.bin</td><td>115508319</td></tr><tr><td>dbfs:/mnt/group12/data/part-00774.bin</td><td>part-00774.bin</td><td>115751024</td></tr><tr><td>dbfs:/mnt/group12/data/part-00775.bin</td><td>part-00775.bin</td><td>115850174</td></tr><tr><td>dbfs:/mnt/group12/data/part-00776.bin</td><td>part-00776.bin</td><td>115569221</td></tr><tr><td>dbfs:/mnt/group12/data/part-00777.bin</td><td>part-00777.bin</td><td>115972473</td></tr><tr><td>dbfs:/mnt/group12/data/part-00778.bin</td><td>part-00778.bin</td><td>115950917</td></tr><tr><td>dbfs:/mnt/group12/data/part-00779.bin</td><td>part-00779.bin</td><td>116024599</td></tr><tr><td>dbfs:/mnt/group12/data/part-00780.bin</td><td>part-00780.bin</td><td>116346715</td></tr><tr><td>dbfs:/mnt/group12/data/part-00781.bin</td><td>part-00781.bin</td><td>115973884</td></tr><tr><td>dbfs:/mnt/group12/data/part-00782.bin</td><td>part-00782.bin</td><td>116115540</td></tr><tr><td>dbfs:/mnt/group12/data/part-00783.bin</td><td>part-00783.bin</td><td>116389678</td></tr><tr><td>dbfs:/mnt/group12/data/part-00784.bin</td><td>part-00784.bin</td><td>116028093</td></tr><tr><td>dbfs:/mnt/group12/data/part-00785.bin</td><td>part-00785.bin</td><td>115995120</td></tr><tr><td>dbfs:/mnt/group12/data/part-00786.bin</td><td>part-00786.bin</td><td>115662090</td></tr><tr><td>dbfs:/mnt/group12/data/part-00787.bin</td><td>part-00787.bin</td><td>115431305</td></tr><tr><td>dbfs:/mnt/group12/data/part-00788.bin</td><td>part-00788.bin</td><td>115813307</td></tr><tr><td>dbfs:/mnt/group12/data/part-00789.bin</td><td>part-00789.bin</td><td>115876610</td></tr><tr><td>dbfs:/mnt/group12/data/part-00790.bin</td><td>part-00790.bin</td><td>115836648</td></tr><tr><td>dbfs:/mnt/group12/data/part-00791.bin</td><td>part-00791.bin</td><td>116427322</td></tr><tr><td>dbfs:/mnt/group12/data/part-00792.bin</td><td>part-00792.bin</td><td>116161239</td></tr><tr><td>dbfs:/mnt/group12/data/part-00793.bin</td><td>part-00793.bin</td><td>115811499</td></tr><tr><td>dbfs:/mnt/group12/data/part-00794.bin</td><td>part-00794.bin</td><td>115681873</td></tr><tr><td>dbfs:/mnt/group12/data/part-00795.bin</td><td>part-00795.bin</td><td>116165386</td></tr><tr><td>dbfs:/mnt/group12/data/part-00796.bin</td><td>part-00796.bin</td><td>115935430</td></tr><tr><td>dbfs:/mnt/group12/data/part-00797.bin</td><td>part-00797.bin</td><td>115747093</td></tr><tr><td>dbfs:/mnt/group12/data/part-00798.bin</td><td>part-00798.bin</td><td>116116685</td></tr><tr><td>dbfs:/mnt/group12/data/part-00799.bin</td><td>part-00799.bin</td><td>117269627</td></tr><tr><td>dbfs:/mnt/group12/data/part-00800.bin</td><td>part-00800.bin</td><td>116563678</td></tr><tr><td>dbfs:/mnt/group12/data/part-00801.bin</td><td>part-00801.bin</td><td>115811921</td></tr><tr><td>dbfs:/mnt/group12/data/part-00802.bin</td><td>part-00802.bin</td><td>116362819</td></tr><tr><td>dbfs:/mnt/group12/data/part-00803.bin</td><td>part-00803.bin</td><td>116284559</td></tr><tr><td>dbfs:/mnt/group12/data/part-00804.bin</td><td>part-00804.bin</td><td>116042617</td></tr><tr><td>dbfs:/mnt/group12/data/part-00805.bin</td><td>part-00805.bin</td><td>115847517</td></tr><tr><td>dbfs:/mnt/group12/data/part-00806.bin</td><td>part-00806.bin</td><td>116292038</td></tr><tr><td>dbfs:/mnt/group12/data/part-00807.bin</td><td>part-00807.bin</td><td>115988253</td></tr><tr><td>dbfs:/mnt/group12/data/part-00808.bin</td><td>part-00808.bin</td><td>115986163</td></tr><tr><td>dbfs:/mnt/group12/data/part-00809.bin</td><td>part-00809.bin</td><td>115961841</td></tr><tr><td>dbfs:/mnt/group12/data/part-00810.bin</td><td>part-00810.bin</td><td>116383714</td></tr><tr><td>dbfs:/mnt/group12/data/part-00811.bin</td><td>part-00811.bin</td><td>116041197</td></tr><tr><td>dbfs:/mnt/group12/data/part-00812.bin</td><td>part-00812.bin</td><td>115649357</td></tr><tr><td>dbfs:/mnt/group12/data/part-00813.bin</td><td>part-00813.bin</td><td>115985871</td></tr><tr><td>dbfs:/mnt/group12/data/part-00814.bin</td><td>part-00814.bin</td><td>115569743</td></tr><tr><td>dbfs:/mnt/group12/data/part-00815.bin</td><td>part-00815.bin</td><td>115716694</td></tr><tr><td>dbfs:/mnt/group12/data/part-00816.bin</td><td>part-00816.bin</td><td>115992770</td></tr><tr><td>dbfs:/mnt/group12/data/part-00817.bin</td><td>part-00817.bin</td><td>115725945</td></tr><tr><td>dbfs:/mnt/group12/data/part-00818.bin</td><td>part-00818.bin</td><td>115769738</td></tr><tr><td>dbfs:/mnt/group12/data/part-00819.bin</td><td>part-00819.bin</td><td>115956437</td></tr><tr><td>dbfs:/mnt/group12/data/part-00820.bin</td><td>part-00820.bin</td><td>115704577</td></tr><tr><td>dbfs:/mnt/group12/data/part-00821.bin</td><td>part-00821.bin</td><td>115573048</td></tr><tr><td>dbfs:/mnt/group12/data/part-00822.bin</td><td>part-00822.bin</td><td>115922427</td></tr><tr><td>dbfs:/mnt/group12/data/part-00823.bin</td><td>part-00823.bin</td><td>115501322</td></tr><tr><td>dbfs:/mnt/group12/data/part-00824.bin</td><td>part-00824.bin</td><td>115994831</td></tr><tr><td>dbfs:/mnt/group12/data/part-00825.bin</td><td>part-00825.bin</td><td>115623054</td></tr><tr><td>dbfs:/mnt/group12/data/part-00826.bin</td><td>part-00826.bin</td><td>115635469</td></tr><tr><td>dbfs:/mnt/group12/data/part-00827.bin</td><td>part-00827.bin</td><td>115777586</td></tr><tr><td>dbfs:/mnt/group12/data/part-00828.bin</td><td>part-00828.bin</td><td>115647194</td></tr><tr><td>dbfs:/mnt/group12/data/part-00829.bin</td><td>part-00829.bin</td><td>115997357</td></tr><tr><td>dbfs:/mnt/group12/data/part-00830.bin</td><td>part-00830.bin</td><td>115715804</td></tr><tr><td>dbfs:/mnt/group12/data/part-00831.bin</td><td>part-00831.bin</td><td>116088960</td></tr><tr><td>dbfs:/mnt/group12/data/part-00832.bin</td><td>part-00832.bin</td><td>115901606</td></tr><tr><td>dbfs:/mnt/group12/data/part-00833.bin</td><td>part-00833.bin</td><td>115766843</td></tr><tr><td>dbfs:/mnt/group12/data/part-00834.bin</td><td>part-00834.bin</td><td>115540458</td></tr><tr><td>dbfs:/mnt/group12/data/part-00835.bin</td><td>part-00835.bin</td><td>115719893</td></tr><tr><td>dbfs:/mnt/group12/data/part-00836.bin</td><td>part-00836.bin</td><td>115651451</td></tr><tr><td>dbfs:/mnt/group12/data/part-00837.bin</td><td>part-00837.bin</td><td>115900679</td></tr><tr><td>dbfs:/mnt/group12/data/part-00838.bin</td><td>part-00838.bin</td><td>116369565</td></tr><tr><td>dbfs:/mnt/group12/data/part-00839.bin</td><td>part-00839.bin</td><td>115834730</td></tr><tr><td>dbfs:/mnt/group12/data/part-00840.bin</td><td>part-00840.bin</td><td>115674484</td></tr><tr><td>dbfs:/mnt/group12/data/part-00841.bin</td><td>part-00841.bin</td><td>115645539</td></tr><tr><td>dbfs:/mnt/group12/data/part-00842.bin</td><td>part-00842.bin</td><td>116100155</td></tr><tr><td>dbfs:/mnt/group12/data/part-00843.bin</td><td>part-00843.bin</td><td>115574180</td></tr><tr><td>dbfs:/mnt/group12/data/part-00844.bin</td><td>part-00844.bin</td><td>115870828</td></tr><tr><td>dbfs:/mnt/group12/data/part-00845.bin</td><td>part-00845.bin</td><td>117014016</td></tr><tr><td>dbfs:/mnt/group12/data/part-00846.bin</td><td>part-00846.bin</td><td>115960541</td></tr><tr><td>dbfs:/mnt/group12/data/part-00847.bin</td><td>part-00847.bin</td><td>115760610</td></tr><tr><td>dbfs:/mnt/group12/data/part-00848.bin</td><td>part-00848.bin</td><td>115908124</td></tr><tr><td>dbfs:/mnt/group12/data/part-00849.bin</td><td>part-00849.bin</td><td>115622060</td></tr><tr><td>dbfs:/mnt/group12/data/part-00850.bin</td><td>part-00850.bin</td><td>115825776</td></tr><tr><td>dbfs:/mnt/group12/data/part-00851.bin</td><td>part-00851.bin</td><td>115697523</td></tr><tr><td>dbfs:/mnt/group12/data/part-00852.bin</td><td>part-00852.bin</td><td>115585538</td></tr><tr><td>dbfs:/mnt/group12/data/part-00853.bin</td><td>part-00853.bin</td><td>115584490</td></tr><tr><td>dbfs:/mnt/group12/data/part-00854.bin</td><td>part-00854.bin</td><td>115579312</td></tr><tr><td>dbfs:/mnt/group12/data/part-00855.bin</td><td>part-00855.bin</td><td>116050182</td></tr><tr><td>dbfs:/mnt/group12/data/part-00856.bin</td><td>part-00856.bin</td><td>115737249</td></tr><tr><td>dbfs:/mnt/group12/data/part-00857.bin</td><td>part-00857.bin</td><td>115708492</td></tr><tr><td>dbfs:/mnt/group12/data/part-00858.bin</td><td>part-00858.bin</td><td>115913884</td></tr><tr><td>dbfs:/mnt/group12/data/part-00859.bin</td><td>part-00859.bin</td><td>116131799</td></tr><tr><td>dbfs:/mnt/group12/data/part-00860.bin</td><td>part-00860.bin</td><td>116204171</td></tr><tr><td>dbfs:/mnt/group12/data/part-00861.bin</td><td>part-00861.bin</td><td>116498075</td></tr><tr><td>dbfs:/mnt/group12/data/part-00862.bin</td><td>part-00862.bin</td><td>47499218</td></tr></tbody></table></div>"
      ]
     },
     "metadata": {
      "application/vnd.databricks.v1+output": {
       "addedWidgets": {},
       "aggData": [],
       "aggError": "",
       "aggOverflow": false,
       "aggSchema": [],
       "aggSeriesLimitReached": false,
       "aggType": "",
       "arguments": {},
       "columnCustomDisplayInfos": {},
       "data": [
        [
         "dbfs:/mnt/group12/data/part-00000.bin",
         "part-00000.bin",
         118615322
        ],
        [
         "dbfs:/mnt/group12/data/part-00001.bin",
         "part-00001.bin",
         118317356
        ],
        [
         "dbfs:/mnt/group12/data/part-00002.bin",
         "part-00002.bin",
         118625765
        ],
        [
         "dbfs:/mnt/group12/data/part-00003.bin",
         "part-00003.bin",
         118513961
        ],
        [
         "dbfs:/mnt/group12/data/part-00004.bin",
         "part-00004.bin",
         118638046
        ],
        [
         "dbfs:/mnt/group12/data/part-00005.bin",
         "part-00005.bin",
         118423486
        ],
        [
         "dbfs:/mnt/group12/data/part-00006.bin",
         "part-00006.bin",
         118509694
        ],
        [
         "dbfs:/mnt/group12/data/part-00007.bin",
         "part-00007.bin",
         118653013
        ],
        [
         "dbfs:/mnt/group12/data/part-00008.bin",
         "part-00008.bin",
         118706488
        ],
        [
         "dbfs:/mnt/group12/data/part-00009.bin",
         "part-00009.bin",
         118362288
        ],
        [
         "dbfs:/mnt/group12/data/part-00010.bin",
         "part-00010.bin",
         118378097
        ],
        [
         "dbfs:/mnt/group12/data/part-00011.bin",
         "part-00011.bin",
         118247381
        ],
        [
         "dbfs:/mnt/group12/data/part-00012.bin",
         "part-00012.bin",
         118824832
        ],
        [
         "dbfs:/mnt/group12/data/part-00013.bin",
         "part-00013.bin",
         118507552
        ],
        [
         "dbfs:/mnt/group12/data/part-00014.bin",
         "part-00014.bin",
         118788709
        ],
        [
         "dbfs:/mnt/group12/data/part-00015.bin",
         "part-00015.bin",
         118534178
        ],
        [
         "dbfs:/mnt/group12/data/part-00016.bin",
         "part-00016.bin",
         118785182
        ],
        [
         "dbfs:/mnt/group12/data/part-00017.bin",
         "part-00017.bin",
         118587165
        ],
        [
         "dbfs:/mnt/group12/data/part-00018.bin",
         "part-00018.bin",
         118348838
        ],
        [
         "dbfs:/mnt/group12/data/part-00019.bin",
         "part-00019.bin",
         118735536
        ],
        [
         "dbfs:/mnt/group12/data/part-00020.bin",
         "part-00020.bin",
         118492226
        ],
        [
         "dbfs:/mnt/group12/data/part-00021.bin",
         "part-00021.bin",
         118645455
        ],
        [
         "dbfs:/mnt/group12/data/part-00022.bin",
         "part-00022.bin",
         118362636
        ],
        [
         "dbfs:/mnt/group12/data/part-00023.bin",
         "part-00023.bin",
         118512278
        ],
        [
         "dbfs:/mnt/group12/data/part-00024.bin",
         "part-00024.bin",
         118534476
        ],
        [
         "dbfs:/mnt/group12/data/part-00025.bin",
         "part-00025.bin",
         118461121
        ],
        [
         "dbfs:/mnt/group12/data/part-00026.bin",
         "part-00026.bin",
         118281533
        ],
        [
         "dbfs:/mnt/group12/data/part-00027.bin",
         "part-00027.bin",
         118412164
        ],
        [
         "dbfs:/mnt/group12/data/part-00028.bin",
         "part-00028.bin",
         118603104
        ],
        [
         "dbfs:/mnt/group12/data/part-00029.bin",
         "part-00029.bin",
         118414101
        ],
        [
         "dbfs:/mnt/group12/data/part-00030.bin",
         "part-00030.bin",
         118336582
        ],
        [
         "dbfs:/mnt/group12/data/part-00031.bin",
         "part-00031.bin",
         118474196
        ],
        [
         "dbfs:/mnt/group12/data/part-00032.bin",
         "part-00032.bin",
         118415097
        ],
        [
         "dbfs:/mnt/group12/data/part-00033.bin",
         "part-00033.bin",
         118462682
        ],
        [
         "dbfs:/mnt/group12/data/part-00034.bin",
         "part-00034.bin",
         117952487
        ],
        [
         "dbfs:/mnt/group12/data/part-00035.bin",
         "part-00035.bin",
         118330155
        ],
        [
         "dbfs:/mnt/group12/data/part-00036.bin",
         "part-00036.bin",
         118437408
        ],
        [
         "dbfs:/mnt/group12/data/part-00037.bin",
         "part-00037.bin",
         118556699
        ],
        [
         "dbfs:/mnt/group12/data/part-00038.bin",
         "part-00038.bin",
         118429722
        ],
        [
         "dbfs:/mnt/group12/data/part-00039.bin",
         "part-00039.bin",
         118127235
        ],
        [
         "dbfs:/mnt/group12/data/part-00040.bin",
         "part-00040.bin",
         118039789
        ],
        [
         "dbfs:/mnt/group12/data/part-00041.bin",
         "part-00041.bin",
         118012495
        ],
        [
         "dbfs:/mnt/group12/data/part-00042.bin",
         "part-00042.bin",
         117863465
        ],
        [
         "dbfs:/mnt/group12/data/part-00043.bin",
         "part-00043.bin",
         118178981
        ],
        [
         "dbfs:/mnt/group12/data/part-00044.bin",
         "part-00044.bin",
         118157005
        ],
        [
         "dbfs:/mnt/group12/data/part-00045.bin",
         "part-00045.bin",
         118129539
        ],
        [
         "dbfs:/mnt/group12/data/part-00046.bin",
         "part-00046.bin",
         118254667
        ],
        [
         "dbfs:/mnt/group12/data/part-00047.bin",
         "part-00047.bin",
         117952270
        ],
        [
         "dbfs:/mnt/group12/data/part-00048.bin",
         "part-00048.bin",
         117808950
        ],
        [
         "dbfs:/mnt/group12/data/part-00049.bin",
         "part-00049.bin",
         118073033
        ],
        [
         "dbfs:/mnt/group12/data/part-00050.bin",
         "part-00050.bin",
         118003625
        ],
        [
         "dbfs:/mnt/group12/data/part-00051.bin",
         "part-00051.bin",
         117857338
        ],
        [
         "dbfs:/mnt/group12/data/part-00052.bin",
         "part-00052.bin",
         117810660
        ],
        [
         "dbfs:/mnt/group12/data/part-00053.bin",
         "part-00053.bin",
         118092107
        ],
        [
         "dbfs:/mnt/group12/data/part-00054.bin",
         "part-00054.bin",
         118025244
        ],
        [
         "dbfs:/mnt/group12/data/part-00055.bin",
         "part-00055.bin",
         118288074
        ],
        [
         "dbfs:/mnt/group12/data/part-00056.bin",
         "part-00056.bin",
         118100693
        ],
        [
         "dbfs:/mnt/group12/data/part-00057.bin",
         "part-00057.bin",
         117834275
        ],
        [
         "dbfs:/mnt/group12/data/part-00058.bin",
         "part-00058.bin",
         117932945
        ],
        [
         "dbfs:/mnt/group12/data/part-00059.bin",
         "part-00059.bin",
         117927247
        ],
        [
         "dbfs:/mnt/group12/data/part-00060.bin",
         "part-00060.bin",
         118091049
        ],
        [
         "dbfs:/mnt/group12/data/part-00061.bin",
         "part-00061.bin",
         118082534
        ],
        [
         "dbfs:/mnt/group12/data/part-00062.bin",
         "part-00062.bin",
         117813135
        ],
        [
         "dbfs:/mnt/group12/data/part-00063.bin",
         "part-00063.bin",
         117613215
        ],
        [
         "dbfs:/mnt/group12/data/part-00064.bin",
         "part-00064.bin",
         117752359
        ],
        [
         "dbfs:/mnt/group12/data/part-00065.bin",
         "part-00065.bin",
         117821603
        ],
        [
         "dbfs:/mnt/group12/data/part-00066.bin",
         "part-00066.bin",
         117629625
        ],
        [
         "dbfs:/mnt/group12/data/part-00067.bin",
         "part-00067.bin",
         118126082
        ],
        [
         "dbfs:/mnt/group12/data/part-00068.bin",
         "part-00068.bin",
         117839816
        ],
        [
         "dbfs:/mnt/group12/data/part-00069.bin",
         "part-00069.bin",
         118106984
        ],
        [
         "dbfs:/mnt/group12/data/part-00070.bin",
         "part-00070.bin",
         118168114
        ],
        [
         "dbfs:/mnt/group12/data/part-00071.bin",
         "part-00071.bin",
         117948845
        ],
        [
         "dbfs:/mnt/group12/data/part-00072.bin",
         "part-00072.bin",
         117977882
        ],
        [
         "dbfs:/mnt/group12/data/part-00073.bin",
         "part-00073.bin",
         117996780
        ],
        [
         "dbfs:/mnt/group12/data/part-00074.bin",
         "part-00074.bin",
         117991170
        ],
        [
         "dbfs:/mnt/group12/data/part-00075.bin",
         "part-00075.bin",
         118213385
        ],
        [
         "dbfs:/mnt/group12/data/part-00076.bin",
         "part-00076.bin",
         118335723
        ],
        [
         "dbfs:/mnt/group12/data/part-00077.bin",
         "part-00077.bin",
         118066688
        ],
        [
         "dbfs:/mnt/group12/data/part-00078.bin",
         "part-00078.bin",
         118083698
        ],
        [
         "dbfs:/mnt/group12/data/part-00079.bin",
         "part-00079.bin",
         117803713
        ],
        [
         "dbfs:/mnt/group12/data/part-00080.bin",
         "part-00080.bin",
         117980470
        ],
        [
         "dbfs:/mnt/group12/data/part-00081.bin",
         "part-00081.bin",
         118122624
        ],
        [
         "dbfs:/mnt/group12/data/part-00082.bin",
         "part-00082.bin",
         118219826
        ],
        [
         "dbfs:/mnt/group12/data/part-00083.bin",
         "part-00083.bin",
         118181969
        ],
        [
         "dbfs:/mnt/group12/data/part-00084.bin",
         "part-00084.bin",
         118841893
        ],
        [
         "dbfs:/mnt/group12/data/part-00085.bin",
         "part-00085.bin",
         118835878
        ],
        [
         "dbfs:/mnt/group12/data/part-00086.bin",
         "part-00086.bin",
         118252885
        ],
        [
         "dbfs:/mnt/group12/data/part-00087.bin",
         "part-00087.bin",
         118031735
        ],
        [
         "dbfs:/mnt/group12/data/part-00088.bin",
         "part-00088.bin",
         118125788
        ],
        [
         "dbfs:/mnt/group12/data/part-00089.bin",
         "part-00089.bin",
         117949716
        ],
        [
         "dbfs:/mnt/group12/data/part-00090.bin",
         "part-00090.bin",
         117928980
        ],
        [
         "dbfs:/mnt/group12/data/part-00091.bin",
         "part-00091.bin",
         118088043
        ],
        [
         "dbfs:/mnt/group12/data/part-00092.bin",
         "part-00092.bin",
         118101839
        ],
        [
         "dbfs:/mnt/group12/data/part-00093.bin",
         "part-00093.bin",
         118002727
        ],
        [
         "dbfs:/mnt/group12/data/part-00094.bin",
         "part-00094.bin",
         117910061
        ],
        [
         "dbfs:/mnt/group12/data/part-00095.bin",
         "part-00095.bin",
         117916494
        ],
        [
         "dbfs:/mnt/group12/data/part-00096.bin",
         "part-00096.bin",
         118143323
        ],
        [
         "dbfs:/mnt/group12/data/part-00097.bin",
         "part-00097.bin",
         117800571
        ],
        [
         "dbfs:/mnt/group12/data/part-00098.bin",
         "part-00098.bin",
         117975012
        ],
        [
         "dbfs:/mnt/group12/data/part-00099.bin",
         "part-00099.bin",
         117965534
        ],
        [
         "dbfs:/mnt/group12/data/part-00100.bin",
         "part-00100.bin",
         117850846
        ],
        [
         "dbfs:/mnt/group12/data/part-00101.bin",
         "part-00101.bin",
         118089182
        ],
        [
         "dbfs:/mnt/group12/data/part-00102.bin",
         "part-00102.bin",
         118022376
        ],
        [
         "dbfs:/mnt/group12/data/part-00103.bin",
         "part-00103.bin",
         118033523
        ],
        [
         "dbfs:/mnt/group12/data/part-00104.bin",
         "part-00104.bin",
         118009441
        ],
        [
         "dbfs:/mnt/group12/data/part-00105.bin",
         "part-00105.bin",
         118170234
        ],
        [
         "dbfs:/mnt/group12/data/part-00106.bin",
         "part-00106.bin",
         117945502
        ],
        [
         "dbfs:/mnt/group12/data/part-00107.bin",
         "part-00107.bin",
         117923966
        ],
        [
         "dbfs:/mnt/group12/data/part-00108.bin",
         "part-00108.bin",
         117975129
        ],
        [
         "dbfs:/mnt/group12/data/part-00109.bin",
         "part-00109.bin",
         118034009
        ],
        [
         "dbfs:/mnt/group12/data/part-00110.bin",
         "part-00110.bin",
         118508475
        ],
        [
         "dbfs:/mnt/group12/data/part-00111.bin",
         "part-00111.bin",
         118133629
        ],
        [
         "dbfs:/mnt/group12/data/part-00112.bin",
         "part-00112.bin",
         118141797
        ],
        [
         "dbfs:/mnt/group12/data/part-00113.bin",
         "part-00113.bin",
         117950059
        ],
        [
         "dbfs:/mnt/group12/data/part-00114.bin",
         "part-00114.bin",
         118060771
        ],
        [
         "dbfs:/mnt/group12/data/part-00115.bin",
         "part-00115.bin",
         118019724
        ],
        [
         "dbfs:/mnt/group12/data/part-00116.bin",
         "part-00116.bin",
         117977339
        ],
        [
         "dbfs:/mnt/group12/data/part-00117.bin",
         "part-00117.bin",
         117918230
        ],
        [
         "dbfs:/mnt/group12/data/part-00118.bin",
         "part-00118.bin",
         118426946
        ],
        [
         "dbfs:/mnt/group12/data/part-00119.bin",
         "part-00119.bin",
         118006292
        ],
        [
         "dbfs:/mnt/group12/data/part-00120.bin",
         "part-00120.bin",
         117960518
        ],
        [
         "dbfs:/mnt/group12/data/part-00121.bin",
         "part-00121.bin",
         117818320
        ],
        [
         "dbfs:/mnt/group12/data/part-00122.bin",
         "part-00122.bin",
         117904867
        ],
        [
         "dbfs:/mnt/group12/data/part-00123.bin",
         "part-00123.bin",
         118271663
        ],
        [
         "dbfs:/mnt/group12/data/part-00124.bin",
         "part-00124.bin",
         118449931
        ],
        [
         "dbfs:/mnt/group12/data/part-00125.bin",
         "part-00125.bin",
         118060544
        ],
        [
         "dbfs:/mnt/group12/data/part-00126.bin",
         "part-00126.bin",
         119153508
        ],
        [
         "dbfs:/mnt/group12/data/part-00127.bin",
         "part-00127.bin",
         118496291
        ],
        [
         "dbfs:/mnt/group12/data/part-00128.bin",
         "part-00128.bin",
         118355491
        ],
        [
         "dbfs:/mnt/group12/data/part-00129.bin",
         "part-00129.bin",
         117978901
        ],
        [
         "dbfs:/mnt/group12/data/part-00130.bin",
         "part-00130.bin",
         118408938
        ],
        [
         "dbfs:/mnt/group12/data/part-00131.bin",
         "part-00131.bin",
         118382746
        ],
        [
         "dbfs:/mnt/group12/data/part-00132.bin",
         "part-00132.bin",
         118127058
        ],
        [
         "dbfs:/mnt/group12/data/part-00133.bin",
         "part-00133.bin",
         118382412
        ],
        [
         "dbfs:/mnt/group12/data/part-00134.bin",
         "part-00134.bin",
         118322789
        ],
        [
         "dbfs:/mnt/group12/data/part-00135.bin",
         "part-00135.bin",
         117953334
        ],
        [
         "dbfs:/mnt/group12/data/part-00136.bin",
         "part-00136.bin",
         118163828
        ],
        [
         "dbfs:/mnt/group12/data/part-00137.bin",
         "part-00137.bin",
         117897081
        ],
        [
         "dbfs:/mnt/group12/data/part-00138.bin",
         "part-00138.bin",
         118169420
        ],
        [
         "dbfs:/mnt/group12/data/part-00139.bin",
         "part-00139.bin",
         118013638
        ],
        [
         "dbfs:/mnt/group12/data/part-00140.bin",
         "part-00140.bin",
         118041517
        ],
        [
         "dbfs:/mnt/group12/data/part-00141.bin",
         "part-00141.bin",
         117868091
        ],
        [
         "dbfs:/mnt/group12/data/part-00142.bin",
         "part-00142.bin",
         118142585
        ],
        [
         "dbfs:/mnt/group12/data/part-00143.bin",
         "part-00143.bin",
         117952114
        ],
        [
         "dbfs:/mnt/group12/data/part-00144.bin",
         "part-00144.bin",
         118099317
        ],
        [
         "dbfs:/mnt/group12/data/part-00145.bin",
         "part-00145.bin",
         118024135
        ],
        [
         "dbfs:/mnt/group12/data/part-00146.bin",
         "part-00146.bin",
         118116151
        ],
        [
         "dbfs:/mnt/group12/data/part-00147.bin",
         "part-00147.bin",
         117929137
        ],
        [
         "dbfs:/mnt/group12/data/part-00148.bin",
         "part-00148.bin",
         118359990
        ],
        [
         "dbfs:/mnt/group12/data/part-00149.bin",
         "part-00149.bin",
         118557067
        ],
        [
         "dbfs:/mnt/group12/data/part-00150.bin",
         "part-00150.bin",
         118053043
        ],
        [
         "dbfs:/mnt/group12/data/part-00151.bin",
         "part-00151.bin",
         117880268
        ],
        [
         "dbfs:/mnt/group12/data/part-00152.bin",
         "part-00152.bin",
         118051792
        ],
        [
         "dbfs:/mnt/group12/data/part-00153.bin",
         "part-00153.bin",
         118484030
        ],
        [
         "dbfs:/mnt/group12/data/part-00154.bin",
         "part-00154.bin",
         118353792
        ],
        [
         "dbfs:/mnt/group12/data/part-00155.bin",
         "part-00155.bin",
         118050597
        ],
        [
         "dbfs:/mnt/group12/data/part-00156.bin",
         "part-00156.bin",
         118011426
        ],
        [
         "dbfs:/mnt/group12/data/part-00157.bin",
         "part-00157.bin",
         117816131
        ],
        [
         "dbfs:/mnt/group12/data/part-00158.bin",
         "part-00158.bin",
         118493664
        ],
        [
         "dbfs:/mnt/group12/data/part-00159.bin",
         "part-00159.bin",
         118330606
        ],
        [
         "dbfs:/mnt/group12/data/part-00160.bin",
         "part-00160.bin",
         118453974
        ],
        [
         "dbfs:/mnt/group12/data/part-00161.bin",
         "part-00161.bin",
         117785515
        ],
        [
         "dbfs:/mnt/group12/data/part-00162.bin",
         "part-00162.bin",
         118039816
        ],
        [
         "dbfs:/mnt/group12/data/part-00163.bin",
         "part-00163.bin",
         118216236
        ],
        [
         "dbfs:/mnt/group12/data/part-00164.bin",
         "part-00164.bin",
         117934900
        ],
        [
         "dbfs:/mnt/group12/data/part-00165.bin",
         "part-00165.bin",
         118400504
        ],
        [
         "dbfs:/mnt/group12/data/part-00166.bin",
         "part-00166.bin",
         117793958
        ],
        [
         "dbfs:/mnt/group12/data/part-00167.bin",
         "part-00167.bin",
         118287018
        ],
        [
         "dbfs:/mnt/group12/data/part-00168.bin",
         "part-00168.bin",
         117855718
        ],
        [
         "dbfs:/mnt/group12/data/part-00169.bin",
         "part-00169.bin",
         118193353
        ],
        [
         "dbfs:/mnt/group12/data/part-00170.bin",
         "part-00170.bin",
         118194536
        ],
        [
         "dbfs:/mnt/group12/data/part-00171.bin",
         "part-00171.bin",
         118129128
        ],
        [
         "dbfs:/mnt/group12/data/part-00172.bin",
         "part-00172.bin",
         117874420
        ],
        [
         "dbfs:/mnt/group12/data/part-00173.bin",
         "part-00173.bin",
         118157736
        ],
        [
         "dbfs:/mnt/group12/data/part-00174.bin",
         "part-00174.bin",
         117966152
        ],
        [
         "dbfs:/mnt/group12/data/part-00175.bin",
         "part-00175.bin",
         118181834
        ],
        [
         "dbfs:/mnt/group12/data/part-00176.bin",
         "part-00176.bin",
         117864360
        ],
        [
         "dbfs:/mnt/group12/data/part-00177.bin",
         "part-00177.bin",
         117831225
        ],
        [
         "dbfs:/mnt/group12/data/part-00178.bin",
         "part-00178.bin",
         117801694
        ],
        [
         "dbfs:/mnt/group12/data/part-00179.bin",
         "part-00179.bin",
         117764193
        ],
        [
         "dbfs:/mnt/group12/data/part-00180.bin",
         "part-00180.bin",
         117740425
        ],
        [
         "dbfs:/mnt/group12/data/part-00181.bin",
         "part-00181.bin",
         117721248
        ],
        [
         "dbfs:/mnt/group12/data/part-00182.bin",
         "part-00182.bin",
         117709065
        ],
        [
         "dbfs:/mnt/group12/data/part-00183.bin",
         "part-00183.bin",
         117895321
        ],
        [
         "dbfs:/mnt/group12/data/part-00184.bin",
         "part-00184.bin",
         118391637
        ],
        [
         "dbfs:/mnt/group12/data/part-00185.bin",
         "part-00185.bin",
         117971709
        ],
        [
         "dbfs:/mnt/group12/data/part-00186.bin",
         "part-00186.bin",
         118169976
        ],
        [
         "dbfs:/mnt/group12/data/part-00187.bin",
         "part-00187.bin",
         118252813
        ],
        [
         "dbfs:/mnt/group12/data/part-00188.bin",
         "part-00188.bin",
         117807045
        ],
        [
         "dbfs:/mnt/group12/data/part-00189.bin",
         "part-00189.bin",
         117866695
        ],
        [
         "dbfs:/mnt/group12/data/part-00190.bin",
         "part-00190.bin",
         117658808
        ],
        [
         "dbfs:/mnt/group12/data/part-00191.bin",
         "part-00191.bin",
         117662856
        ],
        [
         "dbfs:/mnt/group12/data/part-00192.bin",
         "part-00192.bin",
         118085821
        ],
        [
         "dbfs:/mnt/group12/data/part-00193.bin",
         "part-00193.bin",
         117832559
        ],
        [
         "dbfs:/mnt/group12/data/part-00194.bin",
         "part-00194.bin",
         118027590
        ],
        [
         "dbfs:/mnt/group12/data/part-00195.bin",
         "part-00195.bin",
         118464490
        ],
        [
         "dbfs:/mnt/group12/data/part-00196.bin",
         "part-00196.bin",
         117887548
        ],
        [
         "dbfs:/mnt/group12/data/part-00197.bin",
         "part-00197.bin",
         118168170
        ],
        [
         "dbfs:/mnt/group12/data/part-00198.bin",
         "part-00198.bin",
         118381157
        ],
        [
         "dbfs:/mnt/group12/data/part-00199.bin",
         "part-00199.bin",
         118125187
        ],
        [
         "dbfs:/mnt/group12/data/part-00200.bin",
         "part-00200.bin",
         118631246
        ],
        [
         "dbfs:/mnt/group12/data/part-00201.bin",
         "part-00201.bin",
         118411377
        ],
        [
         "dbfs:/mnt/group12/data/part-00202.bin",
         "part-00202.bin",
         118427327
        ],
        [
         "dbfs:/mnt/group12/data/part-00203.bin",
         "part-00203.bin",
         118131714
        ],
        [
         "dbfs:/mnt/group12/data/part-00204.bin",
         "part-00204.bin",
         118072732
        ],
        [
         "dbfs:/mnt/group12/data/part-00205.bin",
         "part-00205.bin",
         117900640
        ],
        [
         "dbfs:/mnt/group12/data/part-00206.bin",
         "part-00206.bin",
         118014826
        ],
        [
         "dbfs:/mnt/group12/data/part-00207.bin",
         "part-00207.bin",
         117903532
        ],
        [
         "dbfs:/mnt/group12/data/part-00208.bin",
         "part-00208.bin",
         117957754
        ],
        [
         "dbfs:/mnt/group12/data/part-00209.bin",
         "part-00209.bin",
         118101286
        ],
        [
         "dbfs:/mnt/group12/data/part-00210.bin",
         "part-00210.bin",
         118336262
        ],
        [
         "dbfs:/mnt/group12/data/part-00211.bin",
         "part-00211.bin",
         118357524
        ],
        [
         "dbfs:/mnt/group12/data/part-00212.bin",
         "part-00212.bin",
         118285482
        ],
        [
         "dbfs:/mnt/group12/data/part-00213.bin",
         "part-00213.bin",
         118257124
        ],
        [
         "dbfs:/mnt/group12/data/part-00214.bin",
         "part-00214.bin",
         118192417
        ],
        [
         "dbfs:/mnt/group12/data/part-00215.bin",
         "part-00215.bin",
         118399804
        ],
        [
         "dbfs:/mnt/group12/data/part-00216.bin",
         "part-00216.bin",
         118601564
        ],
        [
         "dbfs:/mnt/group12/data/part-00217.bin",
         "part-00217.bin",
         117921667
        ],
        [
         "dbfs:/mnt/group12/data/part-00218.bin",
         "part-00218.bin",
         118090169
        ],
        [
         "dbfs:/mnt/group12/data/part-00219.bin",
         "part-00219.bin",
         117921355
        ],
        [
         "dbfs:/mnt/group12/data/part-00220.bin",
         "part-00220.bin",
         118118569
        ],
        [
         "dbfs:/mnt/group12/data/part-00221.bin",
         "part-00221.bin",
         118048425
        ],
        [
         "dbfs:/mnt/group12/data/part-00222.bin",
         "part-00222.bin",
         117799270
        ],
        [
         "dbfs:/mnt/group12/data/part-00223.bin",
         "part-00223.bin",
         118033947
        ],
        [
         "dbfs:/mnt/group12/data/part-00224.bin",
         "part-00224.bin",
         117883657
        ],
        [
         "dbfs:/mnt/group12/data/part-00225.bin",
         "part-00225.bin",
         117672900
        ],
        [
         "dbfs:/mnt/group12/data/part-00226.bin",
         "part-00226.bin",
         117971562
        ],
        [
         "dbfs:/mnt/group12/data/part-00227.bin",
         "part-00227.bin",
         117941867
        ],
        [
         "dbfs:/mnt/group12/data/part-00228.bin",
         "part-00228.bin",
         117781072
        ],
        [
         "dbfs:/mnt/group12/data/part-00229.bin",
         "part-00229.bin",
         118322077
        ],
        [
         "dbfs:/mnt/group12/data/part-00230.bin",
         "part-00230.bin",
         117951878
        ],
        [
         "dbfs:/mnt/group12/data/part-00231.bin",
         "part-00231.bin",
         118050281
        ],
        [
         "dbfs:/mnt/group12/data/part-00232.bin",
         "part-00232.bin",
         117764096
        ],
        [
         "dbfs:/mnt/group12/data/part-00233.bin",
         "part-00233.bin",
         117560886
        ],
        [
         "dbfs:/mnt/group12/data/part-00234.bin",
         "part-00234.bin",
         117775321
        ],
        [
         "dbfs:/mnt/group12/data/part-00235.bin",
         "part-00235.bin",
         117617553
        ],
        [
         "dbfs:/mnt/group12/data/part-00236.bin",
         "part-00236.bin",
         117893053
        ],
        [
         "dbfs:/mnt/group12/data/part-00237.bin",
         "part-00237.bin",
         117855297
        ],
        [
         "dbfs:/mnt/group12/data/part-00238.bin",
         "part-00238.bin",
         117962230
        ],
        [
         "dbfs:/mnt/group12/data/part-00239.bin",
         "part-00239.bin",
         117764149
        ],
        [
         "dbfs:/mnt/group12/data/part-00240.bin",
         "part-00240.bin",
         117783023
        ],
        [
         "dbfs:/mnt/group12/data/part-00241.bin",
         "part-00241.bin",
         117668760
        ],
        [
         "dbfs:/mnt/group12/data/part-00242.bin",
         "part-00242.bin",
         117915366
        ],
        [
         "dbfs:/mnt/group12/data/part-00243.bin",
         "part-00243.bin",
         118335146
        ],
        [
         "dbfs:/mnt/group12/data/part-00244.bin",
         "part-00244.bin",
         117417895
        ],
        [
         "dbfs:/mnt/group12/data/part-00245.bin",
         "part-00245.bin",
         117702777
        ],
        [
         "dbfs:/mnt/group12/data/part-00246.bin",
         "part-00246.bin",
         118010872
        ],
        [
         "dbfs:/mnt/group12/data/part-00247.bin",
         "part-00247.bin",
         118020941
        ],
        [
         "dbfs:/mnt/group12/data/part-00248.bin",
         "part-00248.bin",
         117737963
        ],
        [
         "dbfs:/mnt/group12/data/part-00249.bin",
         "part-00249.bin",
         117846316
        ],
        [
         "dbfs:/mnt/group12/data/part-00250.bin",
         "part-00250.bin",
         117874051
        ],
        [
         "dbfs:/mnt/group12/data/part-00251.bin",
         "part-00251.bin",
         118003778
        ],
        [
         "dbfs:/mnt/group12/data/part-00252.bin",
         "part-00252.bin",
         117949466
        ],
        [
         "dbfs:/mnt/group12/data/part-00253.bin",
         "part-00253.bin",
         117906930
        ],
        [
         "dbfs:/mnt/group12/data/part-00254.bin",
         "part-00254.bin",
         117462641
        ],
        [
         "dbfs:/mnt/group12/data/part-00255.bin",
         "part-00255.bin",
         118388274
        ],
        [
         "dbfs:/mnt/group12/data/part-00256.bin",
         "part-00256.bin",
         117482256
        ],
        [
         "dbfs:/mnt/group12/data/part-00257.bin",
         "part-00257.bin",
         117840612
        ],
        [
         "dbfs:/mnt/group12/data/part-00258.bin",
         "part-00258.bin",
         117806819
        ],
        [
         "dbfs:/mnt/group12/data/part-00259.bin",
         "part-00259.bin",
         117690760
        ],
        [
         "dbfs:/mnt/group12/data/part-00260.bin",
         "part-00260.bin",
         117549567
        ],
        [
         "dbfs:/mnt/group12/data/part-00261.bin",
         "part-00261.bin",
         117703307
        ],
        [
         "dbfs:/mnt/group12/data/part-00262.bin",
         "part-00262.bin",
         117876881
        ],
        [
         "dbfs:/mnt/group12/data/part-00263.bin",
         "part-00263.bin",
         117778096
        ],
        [
         "dbfs:/mnt/group12/data/part-00264.bin",
         "part-00264.bin",
         117845329
        ],
        [
         "dbfs:/mnt/group12/data/part-00265.bin",
         "part-00265.bin",
         117694760
        ],
        [
         "dbfs:/mnt/group12/data/part-00266.bin",
         "part-00266.bin",
         117797633
        ],
        [
         "dbfs:/mnt/group12/data/part-00267.bin",
         "part-00267.bin",
         117414918
        ],
        [
         "dbfs:/mnt/group12/data/part-00268.bin",
         "part-00268.bin",
         117699242
        ],
        [
         "dbfs:/mnt/group12/data/part-00269.bin",
         "part-00269.bin",
         117688742
        ],
        [
         "dbfs:/mnt/group12/data/part-00270.bin",
         "part-00270.bin",
         117549818
        ],
        [
         "dbfs:/mnt/group12/data/part-00271.bin",
         "part-00271.bin",
         117690223
        ],
        [
         "dbfs:/mnt/group12/data/part-00272.bin",
         "part-00272.bin",
         117854175
        ],
        [
         "dbfs:/mnt/group12/data/part-00273.bin",
         "part-00273.bin",
         117557469
        ],
        [
         "dbfs:/mnt/group12/data/part-00274.bin",
         "part-00274.bin",
         117633633
        ],
        [
         "dbfs:/mnt/group12/data/part-00275.bin",
         "part-00275.bin",
         117633731
        ],
        [
         "dbfs:/mnt/group12/data/part-00276.bin",
         "part-00276.bin",
         117787146
        ],
        [
         "dbfs:/mnt/group12/data/part-00277.bin",
         "part-00277.bin",
         117525082
        ],
        [
         "dbfs:/mnt/group12/data/part-00278.bin",
         "part-00278.bin",
         117766010
        ],
        [
         "dbfs:/mnt/group12/data/part-00279.bin",
         "part-00279.bin",
         117410374
        ],
        [
         "dbfs:/mnt/group12/data/part-00280.bin",
         "part-00280.bin",
         117835079
        ],
        [
         "dbfs:/mnt/group12/data/part-00281.bin",
         "part-00281.bin",
         117718335
        ],
        [
         "dbfs:/mnt/group12/data/part-00282.bin",
         "part-00282.bin",
         117957060
        ],
        [
         "dbfs:/mnt/group12/data/part-00283.bin",
         "part-00283.bin",
         117791748
        ],
        [
         "dbfs:/mnt/group12/data/part-00284.bin",
         "part-00284.bin",
         117544257
        ],
        [
         "dbfs:/mnt/group12/data/part-00285.bin",
         "part-00285.bin",
         117824460
        ],
        [
         "dbfs:/mnt/group12/data/part-00286.bin",
         "part-00286.bin",
         117996040
        ],
        [
         "dbfs:/mnt/group12/data/part-00287.bin",
         "part-00287.bin",
         117500390
        ],
        [
         "dbfs:/mnt/group12/data/part-00288.bin",
         "part-00288.bin",
         117838783
        ],
        [
         "dbfs:/mnt/group12/data/part-00289.bin",
         "part-00289.bin",
         117859674
        ],
        [
         "dbfs:/mnt/group12/data/part-00290.bin",
         "part-00290.bin",
         117975504
        ],
        [
         "dbfs:/mnt/group12/data/part-00291.bin",
         "part-00291.bin",
         117774737
        ],
        [
         "dbfs:/mnt/group12/data/part-00292.bin",
         "part-00292.bin",
         117949701
        ],
        [
         "dbfs:/mnt/group12/data/part-00293.bin",
         "part-00293.bin",
         117790801
        ],
        [
         "dbfs:/mnt/group12/data/part-00294.bin",
         "part-00294.bin",
         117585792
        ],
        [
         "dbfs:/mnt/group12/data/part-00295.bin",
         "part-00295.bin",
         117528346
        ],
        [
         "dbfs:/mnt/group12/data/part-00296.bin",
         "part-00296.bin",
         117648247
        ],
        [
         "dbfs:/mnt/group12/data/part-00297.bin",
         "part-00297.bin",
         117626116
        ],
        [
         "dbfs:/mnt/group12/data/part-00298.bin",
         "part-00298.bin",
         117571314
        ],
        [
         "dbfs:/mnt/group12/data/part-00299.bin",
         "part-00299.bin",
         117675621
        ],
        [
         "dbfs:/mnt/group12/data/part-00300.bin",
         "part-00300.bin",
         117642820
        ],
        [
         "dbfs:/mnt/group12/data/part-00301.bin",
         "part-00301.bin",
         117757622
        ],
        [
         "dbfs:/mnt/group12/data/part-00302.bin",
         "part-00302.bin",
         117552198
        ],
        [
         "dbfs:/mnt/group12/data/part-00303.bin",
         "part-00303.bin",
         117536522
        ],
        [
         "dbfs:/mnt/group12/data/part-00304.bin",
         "part-00304.bin",
         117752701
        ],
        [
         "dbfs:/mnt/group12/data/part-00305.bin",
         "part-00305.bin",
         117626469
        ],
        [
         "dbfs:/mnt/group12/data/part-00306.bin",
         "part-00306.bin",
         117834829
        ],
        [
         "dbfs:/mnt/group12/data/part-00307.bin",
         "part-00307.bin",
         117622552
        ],
        [
         "dbfs:/mnt/group12/data/part-00308.bin",
         "part-00308.bin",
         117751196
        ],
        [
         "dbfs:/mnt/group12/data/part-00309.bin",
         "part-00309.bin",
         117620872
        ],
        [
         "dbfs:/mnt/group12/data/part-00310.bin",
         "part-00310.bin",
         117657761
        ],
        [
         "dbfs:/mnt/group12/data/part-00311.bin",
         "part-00311.bin",
         117881898
        ],
        [
         "dbfs:/mnt/group12/data/part-00312.bin",
         "part-00312.bin",
         117780656
        ],
        [
         "dbfs:/mnt/group12/data/part-00313.bin",
         "part-00313.bin",
         117793952
        ],
        [
         "dbfs:/mnt/group12/data/part-00314.bin",
         "part-00314.bin",
         117754296
        ],
        [
         "dbfs:/mnt/group12/data/part-00315.bin",
         "part-00315.bin",
         117841757
        ],
        [
         "dbfs:/mnt/group12/data/part-00316.bin",
         "part-00316.bin",
         117640629
        ],
        [
         "dbfs:/mnt/group12/data/part-00317.bin",
         "part-00317.bin",
         117948512
        ],
        [
         "dbfs:/mnt/group12/data/part-00318.bin",
         "part-00318.bin",
         117665858
        ],
        [
         "dbfs:/mnt/group12/data/part-00319.bin",
         "part-00319.bin",
         118010881
        ],
        [
         "dbfs:/mnt/group12/data/part-00320.bin",
         "part-00320.bin",
         118080142
        ],
        [
         "dbfs:/mnt/group12/data/part-00321.bin",
         "part-00321.bin",
         118425878
        ],
        [
         "dbfs:/mnt/group12/data/part-00322.bin",
         "part-00322.bin",
         118484947
        ],
        [
         "dbfs:/mnt/group12/data/part-00323.bin",
         "part-00323.bin",
         117932486
        ],
        [
         "dbfs:/mnt/group12/data/part-00324.bin",
         "part-00324.bin",
         117990580
        ],
        [
         "dbfs:/mnt/group12/data/part-00325.bin",
         "part-00325.bin",
         118247519
        ],
        [
         "dbfs:/mnt/group12/data/part-00326.bin",
         "part-00326.bin",
         118344481
        ],
        [
         "dbfs:/mnt/group12/data/part-00327.bin",
         "part-00327.bin",
         118344768
        ],
        [
         "dbfs:/mnt/group12/data/part-00328.bin",
         "part-00328.bin",
         117985105
        ],
        [
         "dbfs:/mnt/group12/data/part-00329.bin",
         "part-00329.bin",
         118051020
        ],
        [
         "dbfs:/mnt/group12/data/part-00330.bin",
         "part-00330.bin",
         118266280
        ],
        [
         "dbfs:/mnt/group12/data/part-00331.bin",
         "part-00331.bin",
         118257666
        ],
        [
         "dbfs:/mnt/group12/data/part-00332.bin",
         "part-00332.bin",
         118079870
        ],
        [
         "dbfs:/mnt/group12/data/part-00333.bin",
         "part-00333.bin",
         118199544
        ],
        [
         "dbfs:/mnt/group12/data/part-00334.bin",
         "part-00334.bin",
         118359560
        ],
        [
         "dbfs:/mnt/group12/data/part-00335.bin",
         "part-00335.bin",
         118470942
        ],
        [
         "dbfs:/mnt/group12/data/part-00336.bin",
         "part-00336.bin",
         118239440
        ],
        [
         "dbfs:/mnt/group12/data/part-00337.bin",
         "part-00337.bin",
         118598298
        ],
        [
         "dbfs:/mnt/group12/data/part-00338.bin",
         "part-00338.bin",
         118046693
        ],
        [
         "dbfs:/mnt/group12/data/part-00339.bin",
         "part-00339.bin",
         118136325
        ],
        [
         "dbfs:/mnt/group12/data/part-00340.bin",
         "part-00340.bin",
         118230201
        ],
        [
         "dbfs:/mnt/group12/data/part-00341.bin",
         "part-00341.bin",
         118317726
        ],
        [
         "dbfs:/mnt/group12/data/part-00342.bin",
         "part-00342.bin",
         118555813
        ],
        [
         "dbfs:/mnt/group12/data/part-00343.bin",
         "part-00343.bin",
         118512592
        ],
        [
         "dbfs:/mnt/group12/data/part-00344.bin",
         "part-00344.bin",
         118671566
        ],
        [
         "dbfs:/mnt/group12/data/part-00345.bin",
         "part-00345.bin",
         118076761
        ],
        [
         "dbfs:/mnt/group12/data/part-00346.bin",
         "part-00346.bin",
         118332665
        ],
        [
         "dbfs:/mnt/group12/data/part-00347.bin",
         "part-00347.bin",
         118166572
        ],
        [
         "dbfs:/mnt/group12/data/part-00348.bin",
         "part-00348.bin",
         118500160
        ],
        [
         "dbfs:/mnt/group12/data/part-00349.bin",
         "part-00349.bin",
         118347292
        ],
        [
         "dbfs:/mnt/group12/data/part-00350.bin",
         "part-00350.bin",
         118434749
        ],
        [
         "dbfs:/mnt/group12/data/part-00351.bin",
         "part-00351.bin",
         118750135
        ],
        [
         "dbfs:/mnt/group12/data/part-00352.bin",
         "part-00352.bin",
         118480990
        ],
        [
         "dbfs:/mnt/group12/data/part-00353.bin",
         "part-00353.bin",
         118609140
        ],
        [
         "dbfs:/mnt/group12/data/part-00354.bin",
         "part-00354.bin",
         118435188
        ],
        [
         "dbfs:/mnt/group12/data/part-00355.bin",
         "part-00355.bin",
         118226429
        ],
        [
         "dbfs:/mnt/group12/data/part-00356.bin",
         "part-00356.bin",
         118187722
        ],
        [
         "dbfs:/mnt/group12/data/part-00357.bin",
         "part-00357.bin",
         118455649
        ],
        [
         "dbfs:/mnt/group12/data/part-00358.bin",
         "part-00358.bin",
         117998149
        ],
        [
         "dbfs:/mnt/group12/data/part-00359.bin",
         "part-00359.bin",
         118050192
        ],
        [
         "dbfs:/mnt/group12/data/part-00360.bin",
         "part-00360.bin",
         118087187
        ],
        [
         "dbfs:/mnt/group12/data/part-00361.bin",
         "part-00361.bin",
         118349920
        ],
        [
         "dbfs:/mnt/group12/data/part-00362.bin",
         "part-00362.bin",
         118375375
        ],
        [
         "dbfs:/mnt/group12/data/part-00363.bin",
         "part-00363.bin",
         118375046
        ],
        [
         "dbfs:/mnt/group12/data/part-00364.bin",
         "part-00364.bin",
         118123682
        ],
        [
         "dbfs:/mnt/group12/data/part-00365.bin",
         "part-00365.bin",
         118379059
        ],
        [
         "dbfs:/mnt/group12/data/part-00366.bin",
         "part-00366.bin",
         118430719
        ],
        [
         "dbfs:/mnt/group12/data/part-00367.bin",
         "part-00367.bin",
         118032540
        ],
        [
         "dbfs:/mnt/group12/data/part-00368.bin",
         "part-00368.bin",
         118304245
        ],
        [
         "dbfs:/mnt/group12/data/part-00369.bin",
         "part-00369.bin",
         118355168
        ],
        [
         "dbfs:/mnt/group12/data/part-00370.bin",
         "part-00370.bin",
         118008710
        ],
        [
         "dbfs:/mnt/group12/data/part-00371.bin",
         "part-00371.bin",
         118154905
        ],
        [
         "dbfs:/mnt/group12/data/part-00372.bin",
         "part-00372.bin",
         117855437
        ],
        [
         "dbfs:/mnt/group12/data/part-00373.bin",
         "part-00373.bin",
         117999936
        ],
        [
         "dbfs:/mnt/group12/data/part-00374.bin",
         "part-00374.bin",
         118162197
        ],
        [
         "dbfs:/mnt/group12/data/part-00375.bin",
         "part-00375.bin",
         118421346
        ],
        [
         "dbfs:/mnt/group12/data/part-00376.bin",
         "part-00376.bin",
         118244414
        ],
        [
         "dbfs:/mnt/group12/data/part-00377.bin",
         "part-00377.bin",
         118283814
        ],
        [
         "dbfs:/mnt/group12/data/part-00378.bin",
         "part-00378.bin",
         118172440
        ],
        [
         "dbfs:/mnt/group12/data/part-00379.bin",
         "part-00379.bin",
         118212852
        ],
        [
         "dbfs:/mnt/group12/data/part-00380.bin",
         "part-00380.bin",
         118201969
        ],
        [
         "dbfs:/mnt/group12/data/part-00381.bin",
         "part-00381.bin",
         118132038
        ],
        [
         "dbfs:/mnt/group12/data/part-00382.bin",
         "part-00382.bin",
         118523899
        ],
        [
         "dbfs:/mnt/group12/data/part-00383.bin",
         "part-00383.bin",
         118616565
        ],
        [
         "dbfs:/mnt/group12/data/part-00384.bin",
         "part-00384.bin",
         118867119
        ],
        [
         "dbfs:/mnt/group12/data/part-00385.bin",
         "part-00385.bin",
         118291122
        ],
        [
         "dbfs:/mnt/group12/data/part-00386.bin",
         "part-00386.bin",
         118565071
        ],
        [
         "dbfs:/mnt/group12/data/part-00387.bin",
         "part-00387.bin",
         118382928
        ],
        [
         "dbfs:/mnt/group12/data/part-00388.bin",
         "part-00388.bin",
         118780063
        ],
        [
         "dbfs:/mnt/group12/data/part-00389.bin",
         "part-00389.bin",
         118588573
        ],
        [
         "dbfs:/mnt/group12/data/part-00390.bin",
         "part-00390.bin",
         118162437
        ],
        [
         "dbfs:/mnt/group12/data/part-00391.bin",
         "part-00391.bin",
         118007134
        ],
        [
         "dbfs:/mnt/group12/data/part-00392.bin",
         "part-00392.bin",
         118453462
        ],
        [
         "dbfs:/mnt/group12/data/part-00393.bin",
         "part-00393.bin",
         118242811
        ],
        [
         "dbfs:/mnt/group12/data/part-00394.bin",
         "part-00394.bin",
         117958074
        ],
        [
         "dbfs:/mnt/group12/data/part-00395.bin",
         "part-00395.bin",
         118157352
        ],
        [
         "dbfs:/mnt/group12/data/part-00396.bin",
         "part-00396.bin",
         118188201
        ],
        [
         "dbfs:/mnt/group12/data/part-00397.bin",
         "part-00397.bin",
         118044217
        ],
        [
         "dbfs:/mnt/group12/data/part-00398.bin",
         "part-00398.bin",
         117793597
        ],
        [
         "dbfs:/mnt/group12/data/part-00399.bin",
         "part-00399.bin",
         118020605
        ],
        [
         "dbfs:/mnt/group12/data/part-00400.bin",
         "part-00400.bin",
         117792134
        ],
        [
         "dbfs:/mnt/group12/data/part-00401.bin",
         "part-00401.bin",
         117804703
        ],
        [
         "dbfs:/mnt/group12/data/part-00402.bin",
         "part-00402.bin",
         118045136
        ],
        [
         "dbfs:/mnt/group12/data/part-00403.bin",
         "part-00403.bin",
         118277165
        ],
        [
         "dbfs:/mnt/group12/data/part-00404.bin",
         "part-00404.bin",
         118160029
        ],
        [
         "dbfs:/mnt/group12/data/part-00405.bin",
         "part-00405.bin",
         118133217
        ],
        [
         "dbfs:/mnt/group12/data/part-00406.bin",
         "part-00406.bin",
         118390383
        ],
        [
         "dbfs:/mnt/group12/data/part-00407.bin",
         "part-00407.bin",
         118268127
        ],
        [
         "dbfs:/mnt/group12/data/part-00408.bin",
         "part-00408.bin",
         118458115
        ],
        [
         "dbfs:/mnt/group12/data/part-00409.bin",
         "part-00409.bin",
         118146921
        ],
        [
         "dbfs:/mnt/group12/data/part-00410.bin",
         "part-00410.bin",
         117921430
        ],
        [
         "dbfs:/mnt/group12/data/part-00411.bin",
         "part-00411.bin",
         118045840
        ],
        [
         "dbfs:/mnt/group12/data/part-00412.bin",
         "part-00412.bin",
         118148832
        ],
        [
         "dbfs:/mnt/group12/data/part-00413.bin",
         "part-00413.bin",
         117871878
        ],
        [
         "dbfs:/mnt/group12/data/part-00414.bin",
         "part-00414.bin",
         118003473
        ],
        [
         "dbfs:/mnt/group12/data/part-00415.bin",
         "part-00415.bin",
         117904079
        ],
        [
         "dbfs:/mnt/group12/data/part-00416.bin",
         "part-00416.bin",
         117917287
        ],
        [
         "dbfs:/mnt/group12/data/part-00417.bin",
         "part-00417.bin",
         118077430
        ],
        [
         "dbfs:/mnt/group12/data/part-00418.bin",
         "part-00418.bin",
         118032054
        ],
        [
         "dbfs:/mnt/group12/data/part-00419.bin",
         "part-00419.bin",
         118268548
        ],
        [
         "dbfs:/mnt/group12/data/part-00420.bin",
         "part-00420.bin",
         117918281
        ],
        [
         "dbfs:/mnt/group12/data/part-00421.bin",
         "part-00421.bin",
         117892368
        ],
        [
         "dbfs:/mnt/group12/data/part-00422.bin",
         "part-00422.bin",
         117799251
        ],
        [
         "dbfs:/mnt/group12/data/part-00423.bin",
         "part-00423.bin",
         117951331
        ],
        [
         "dbfs:/mnt/group12/data/part-00424.bin",
         "part-00424.bin",
         117972779
        ],
        [
         "dbfs:/mnt/group12/data/part-00425.bin",
         "part-00425.bin",
         118042089
        ],
        [
         "dbfs:/mnt/group12/data/part-00426.bin",
         "part-00426.bin",
         117923042
        ],
        [
         "dbfs:/mnt/group12/data/part-00427.bin",
         "part-00427.bin",
         118051829
        ],
        [
         "dbfs:/mnt/group12/data/part-00428.bin",
         "part-00428.bin",
         118169174
        ],
        [
         "dbfs:/mnt/group12/data/part-00429.bin",
         "part-00429.bin",
         118009271
        ],
        [
         "dbfs:/mnt/group12/data/part-00430.bin",
         "part-00430.bin",
         117945781
        ],
        [
         "dbfs:/mnt/group12/data/part-00431.bin",
         "part-00431.bin",
         117868497
        ],
        [
         "dbfs:/mnt/group12/data/part-00432.bin",
         "part-00432.bin",
         117984090
        ],
        [
         "dbfs:/mnt/group12/data/part-00433.bin",
         "part-00433.bin",
         118206816
        ],
        [
         "dbfs:/mnt/group12/data/part-00434.bin",
         "part-00434.bin",
         118087055
        ],
        [
         "dbfs:/mnt/group12/data/part-00435.bin",
         "part-00435.bin",
         118237599
        ],
        [
         "dbfs:/mnt/group12/data/part-00436.bin",
         "part-00436.bin",
         118209129
        ],
        [
         "dbfs:/mnt/group12/data/part-00437.bin",
         "part-00437.bin",
         117916388
        ],
        [
         "dbfs:/mnt/group12/data/part-00438.bin",
         "part-00438.bin",
         118451678
        ],
        [
         "dbfs:/mnt/group12/data/part-00439.bin",
         "part-00439.bin",
         118252002
        ],
        [
         "dbfs:/mnt/group12/data/part-00440.bin",
         "part-00440.bin",
         117873705
        ],
        [
         "dbfs:/mnt/group12/data/part-00441.bin",
         "part-00441.bin",
         118097167
        ],
        [
         "dbfs:/mnt/group12/data/part-00442.bin",
         "part-00442.bin",
         118298601
        ],
        [
         "dbfs:/mnt/group12/data/part-00443.bin",
         "part-00443.bin",
         118285388
        ],
        [
         "dbfs:/mnt/group12/data/part-00444.bin",
         "part-00444.bin",
         118301611
        ],
        [
         "dbfs:/mnt/group12/data/part-00445.bin",
         "part-00445.bin",
         118030858
        ],
        [
         "dbfs:/mnt/group12/data/part-00446.bin",
         "part-00446.bin",
         117987574
        ],
        [
         "dbfs:/mnt/group12/data/part-00447.bin",
         "part-00447.bin",
         118268588
        ],
        [
         "dbfs:/mnt/group12/data/part-00448.bin",
         "part-00448.bin",
         118188040
        ],
        [
         "dbfs:/mnt/group12/data/part-00449.bin",
         "part-00449.bin",
         118256808
        ],
        [
         "dbfs:/mnt/group12/data/part-00450.bin",
         "part-00450.bin",
         118059145
        ],
        [
         "dbfs:/mnt/group12/data/part-00451.bin",
         "part-00451.bin",
         118282989
        ],
        [
         "dbfs:/mnt/group12/data/part-00452.bin",
         "part-00452.bin",
         118188148
        ],
        [
         "dbfs:/mnt/group12/data/part-00453.bin",
         "part-00453.bin",
         118079343
        ],
        [
         "dbfs:/mnt/group12/data/part-00454.bin",
         "part-00454.bin",
         118405402
        ],
        [
         "dbfs:/mnt/group12/data/part-00455.bin",
         "part-00455.bin",
         118327518
        ],
        [
         "dbfs:/mnt/group12/data/part-00456.bin",
         "part-00456.bin",
         118307219
        ],
        [
         "dbfs:/mnt/group12/data/part-00457.bin",
         "part-00457.bin",
         117936854
        ],
        [
         "dbfs:/mnt/group12/data/part-00458.bin",
         "part-00458.bin",
         118272611
        ],
        [
         "dbfs:/mnt/group12/data/part-00459.bin",
         "part-00459.bin",
         118040039
        ],
        [
         "dbfs:/mnt/group12/data/part-00460.bin",
         "part-00460.bin",
         118173382
        ],
        [
         "dbfs:/mnt/group12/data/part-00461.bin",
         "part-00461.bin",
         118194303
        ],
        [
         "dbfs:/mnt/group12/data/part-00462.bin",
         "part-00462.bin",
         118332488
        ],
        [
         "dbfs:/mnt/group12/data/part-00463.bin",
         "part-00463.bin",
         117950482
        ],
        [
         "dbfs:/mnt/group12/data/part-00464.bin",
         "part-00464.bin",
         118062978
        ],
        [
         "dbfs:/mnt/group12/data/part-00465.bin",
         "part-00465.bin",
         118138100
        ],
        [
         "dbfs:/mnt/group12/data/part-00466.bin",
         "part-00466.bin",
         118224930
        ],
        [
         "dbfs:/mnt/group12/data/part-00467.bin",
         "part-00467.bin",
         117980555
        ],
        [
         "dbfs:/mnt/group12/data/part-00468.bin",
         "part-00468.bin",
         118250344
        ],
        [
         "dbfs:/mnt/group12/data/part-00469.bin",
         "part-00469.bin",
         118268248
        ],
        [
         "dbfs:/mnt/group12/data/part-00470.bin",
         "part-00470.bin",
         118423220
        ],
        [
         "dbfs:/mnt/group12/data/part-00471.bin",
         "part-00471.bin",
         118687838
        ],
        [
         "dbfs:/mnt/group12/data/part-00472.bin",
         "part-00472.bin",
         118638720
        ],
        [
         "dbfs:/mnt/group12/data/part-00473.bin",
         "part-00473.bin",
         118533924
        ],
        [
         "dbfs:/mnt/group12/data/part-00474.bin",
         "part-00474.bin",
         118269752
        ],
        [
         "dbfs:/mnt/group12/data/part-00475.bin",
         "part-00475.bin",
         118607382
        ],
        [
         "dbfs:/mnt/group12/data/part-00476.bin",
         "part-00476.bin",
         118320027
        ],
        [
         "dbfs:/mnt/group12/data/part-00477.bin",
         "part-00477.bin",
         118296385
        ],
        [
         "dbfs:/mnt/group12/data/part-00478.bin",
         "part-00478.bin",
         118396666
        ],
        [
         "dbfs:/mnt/group12/data/part-00479.bin",
         "part-00479.bin",
         118305804
        ],
        [
         "dbfs:/mnt/group12/data/part-00480.bin",
         "part-00480.bin",
         118127960
        ],
        [
         "dbfs:/mnt/group12/data/part-00481.bin",
         "part-00481.bin",
         118187910
        ],
        [
         "dbfs:/mnt/group12/data/part-00482.bin",
         "part-00482.bin",
         118057858
        ],
        [
         "dbfs:/mnt/group12/data/part-00483.bin",
         "part-00483.bin",
         118089258
        ],
        [
         "dbfs:/mnt/group12/data/part-00484.bin",
         "part-00484.bin",
         118394379
        ],
        [
         "dbfs:/mnt/group12/data/part-00485.bin",
         "part-00485.bin",
         118492192
        ],
        [
         "dbfs:/mnt/group12/data/part-00486.bin",
         "part-00486.bin",
         118559017
        ],
        [
         "dbfs:/mnt/group12/data/part-00487.bin",
         "part-00487.bin",
         118590012
        ],
        [
         "dbfs:/mnt/group12/data/part-00488.bin",
         "part-00488.bin",
         118424445
        ],
        [
         "dbfs:/mnt/group12/data/part-00489.bin",
         "part-00489.bin",
         118604571
        ],
        [
         "dbfs:/mnt/group12/data/part-00490.bin",
         "part-00490.bin",
         118283200
        ],
        [
         "dbfs:/mnt/group12/data/part-00491.bin",
         "part-00491.bin",
         118613525
        ],
        [
         "dbfs:/mnt/group12/data/part-00492.bin",
         "part-00492.bin",
         118463599
        ],
        [
         "dbfs:/mnt/group12/data/part-00493.bin",
         "part-00493.bin",
         118272837
        ],
        [
         "dbfs:/mnt/group12/data/part-00494.bin",
         "part-00494.bin",
         118140574
        ],
        [
         "dbfs:/mnt/group12/data/part-00495.bin",
         "part-00495.bin",
         118103466
        ],
        [
         "dbfs:/mnt/group12/data/part-00496.bin",
         "part-00496.bin",
         118327351
        ],
        [
         "dbfs:/mnt/group12/data/part-00497.bin",
         "part-00497.bin",
         118160473
        ],
        [
         "dbfs:/mnt/group12/data/part-00498.bin",
         "part-00498.bin",
         118426086
        ],
        [
         "dbfs:/mnt/group12/data/part-00499.bin",
         "part-00499.bin",
         118471124
        ],
        [
         "dbfs:/mnt/group12/data/part-00500.bin",
         "part-00500.bin",
         117993195
        ],
        [
         "dbfs:/mnt/group12/data/part-00501.bin",
         "part-00501.bin",
         118006756
        ],
        [
         "dbfs:/mnt/group12/data/part-00502.bin",
         "part-00502.bin",
         118392290
        ],
        [
         "dbfs:/mnt/group12/data/part-00503.bin",
         "part-00503.bin",
         118195665
        ],
        [
         "dbfs:/mnt/group12/data/part-00504.bin",
         "part-00504.bin",
         117992134
        ],
        [
         "dbfs:/mnt/group12/data/part-00505.bin",
         "part-00505.bin",
         117962244
        ],
        [
         "dbfs:/mnt/group12/data/part-00506.bin",
         "part-00506.bin",
         117980468
        ],
        [
         "dbfs:/mnt/group12/data/part-00507.bin",
         "part-00507.bin",
         118160476
        ],
        [
         "dbfs:/mnt/group12/data/part-00508.bin",
         "part-00508.bin",
         117996907
        ],
        [
         "dbfs:/mnt/group12/data/part-00509.bin",
         "part-00509.bin",
         118167190
        ],
        [
         "dbfs:/mnt/group12/data/part-00510.bin",
         "part-00510.bin",
         118192318
        ],
        [
         "dbfs:/mnt/group12/data/part-00511.bin",
         "part-00511.bin",
         117945359
        ],
        [
         "dbfs:/mnt/group12/data/part-00512.bin",
         "part-00512.bin",
         118164916
        ],
        [
         "dbfs:/mnt/group12/data/part-00513.bin",
         "part-00513.bin",
         117913628
        ],
        [
         "dbfs:/mnt/group12/data/part-00514.bin",
         "part-00514.bin",
         118235928
        ],
        [
         "dbfs:/mnt/group12/data/part-00515.bin",
         "part-00515.bin",
         118090791
        ],
        [
         "dbfs:/mnt/group12/data/part-00516.bin",
         "part-00516.bin",
         117663087
        ],
        [
         "dbfs:/mnt/group12/data/part-00517.bin",
         "part-00517.bin",
         117972405
        ],
        [
         "dbfs:/mnt/group12/data/part-00518.bin",
         "part-00518.bin",
         118124648
        ],
        [
         "dbfs:/mnt/group12/data/part-00519.bin",
         "part-00519.bin",
         118543516
        ],
        [
         "dbfs:/mnt/group12/data/part-00520.bin",
         "part-00520.bin",
         118279100
        ],
        [
         "dbfs:/mnt/group12/data/part-00521.bin",
         "part-00521.bin",
         118129546
        ],
        [
         "dbfs:/mnt/group12/data/part-00522.bin",
         "part-00522.bin",
         118099031
        ],
        [
         "dbfs:/mnt/group12/data/part-00523.bin",
         "part-00523.bin",
         118210624
        ],
        [
         "dbfs:/mnt/group12/data/part-00524.bin",
         "part-00524.bin",
         118218737
        ],
        [
         "dbfs:/mnt/group12/data/part-00525.bin",
         "part-00525.bin",
         118203603
        ],
        [
         "dbfs:/mnt/group12/data/part-00526.bin",
         "part-00526.bin",
         118107813
        ],
        [
         "dbfs:/mnt/group12/data/part-00527.bin",
         "part-00527.bin",
         117886233
        ],
        [
         "dbfs:/mnt/group12/data/part-00528.bin",
         "part-00528.bin",
         118042557
        ],
        [
         "dbfs:/mnt/group12/data/part-00529.bin",
         "part-00529.bin",
         118359979
        ],
        [
         "dbfs:/mnt/group12/data/part-00530.bin",
         "part-00530.bin",
         118222329
        ],
        [
         "dbfs:/mnt/group12/data/part-00531.bin",
         "part-00531.bin",
         117905869
        ],
        [
         "dbfs:/mnt/group12/data/part-00532.bin",
         "part-00532.bin",
         118353028
        ],
        [
         "dbfs:/mnt/group12/data/part-00533.bin",
         "part-00533.bin",
         118133615
        ],
        [
         "dbfs:/mnt/group12/data/part-00534.bin",
         "part-00534.bin",
         118191060
        ],
        [
         "dbfs:/mnt/group12/data/part-00535.bin",
         "part-00535.bin",
         118355221
        ],
        [
         "dbfs:/mnt/group12/data/part-00536.bin",
         "part-00536.bin",
         118516262
        ],
        [
         "dbfs:/mnt/group12/data/part-00537.bin",
         "part-00537.bin",
         118066442
        ],
        [
         "dbfs:/mnt/group12/data/part-00538.bin",
         "part-00538.bin",
         118429043
        ],
        [
         "dbfs:/mnt/group12/data/part-00539.bin",
         "part-00539.bin",
         118090232
        ],
        [
         "dbfs:/mnt/group12/data/part-00540.bin",
         "part-00540.bin",
         118172253
        ],
        [
         "dbfs:/mnt/group12/data/part-00541.bin",
         "part-00541.bin",
         118425408
        ],
        [
         "dbfs:/mnt/group12/data/part-00542.bin",
         "part-00542.bin",
         118233833
        ],
        [
         "dbfs:/mnt/group12/data/part-00543.bin",
         "part-00543.bin",
         118033834
        ],
        [
         "dbfs:/mnt/group12/data/part-00544.bin",
         "part-00544.bin",
         118229681
        ],
        [
         "dbfs:/mnt/group12/data/part-00545.bin",
         "part-00545.bin",
         118228298
        ],
        [
         "dbfs:/mnt/group12/data/part-00546.bin",
         "part-00546.bin",
         118340301
        ],
        [
         "dbfs:/mnt/group12/data/part-00547.bin",
         "part-00547.bin",
         118311949
        ],
        [
         "dbfs:/mnt/group12/data/part-00548.bin",
         "part-00548.bin",
         118170538
        ],
        [
         "dbfs:/mnt/group12/data/part-00549.bin",
         "part-00549.bin",
         118490801
        ],
        [
         "dbfs:/mnt/group12/data/part-00550.bin",
         "part-00550.bin",
         118170699
        ],
        [
         "dbfs:/mnt/group12/data/part-00551.bin",
         "part-00551.bin",
         118071537
        ],
        [
         "dbfs:/mnt/group12/data/part-00552.bin",
         "part-00552.bin",
         118241043
        ],
        [
         "dbfs:/mnt/group12/data/part-00553.bin",
         "part-00553.bin",
         118299252
        ],
        [
         "dbfs:/mnt/group12/data/part-00554.bin",
         "part-00554.bin",
         118013826
        ],
        [
         "dbfs:/mnt/group12/data/part-00555.bin",
         "part-00555.bin",
         117995966
        ],
        [
         "dbfs:/mnt/group12/data/part-00556.bin",
         "part-00556.bin",
         118405734
        ],
        [
         "dbfs:/mnt/group12/data/part-00557.bin",
         "part-00557.bin",
         117861189
        ],
        [
         "dbfs:/mnt/group12/data/part-00558.bin",
         "part-00558.bin",
         117905419
        ],
        [
         "dbfs:/mnt/group12/data/part-00559.bin",
         "part-00559.bin",
         117965221
        ],
        [
         "dbfs:/mnt/group12/data/part-00560.bin",
         "part-00560.bin",
         117676617
        ],
        [
         "dbfs:/mnt/group12/data/part-00561.bin",
         "part-00561.bin",
         116105056
        ],
        [
         "dbfs:/mnt/group12/data/part-00562.bin",
         "part-00562.bin",
         114982687
        ],
        [
         "dbfs:/mnt/group12/data/part-00563.bin",
         "part-00563.bin",
         116308325
        ],
        [
         "dbfs:/mnt/group12/data/part-00564.bin",
         "part-00564.bin",
         115000466
        ],
        [
         "dbfs:/mnt/group12/data/part-00565.bin",
         "part-00565.bin",
         116255141
        ],
        [
         "dbfs:/mnt/group12/data/part-00566.bin",
         "part-00566.bin",
         115488478
        ],
        [
         "dbfs:/mnt/group12/data/part-00567.bin",
         "part-00567.bin",
         115423268
        ],
        [
         "dbfs:/mnt/group12/data/part-00568.bin",
         "part-00568.bin",
         116192233
        ],
        [
         "dbfs:/mnt/group12/data/part-00569.bin",
         "part-00569.bin",
         115653520
        ],
        [
         "dbfs:/mnt/group12/data/part-00570.bin",
         "part-00570.bin",
         115364137
        ],
        [
         "dbfs:/mnt/group12/data/part-00571.bin",
         "part-00571.bin",
         115741861
        ],
        [
         "dbfs:/mnt/group12/data/part-00572.bin",
         "part-00572.bin",
         115557203
        ],
        [
         "dbfs:/mnt/group12/data/part-00573.bin",
         "part-00573.bin",
         115873577
        ],
        [
         "dbfs:/mnt/group12/data/part-00574.bin",
         "part-00574.bin",
         115741283
        ],
        [
         "dbfs:/mnt/group12/data/part-00575.bin",
         "part-00575.bin",
         115775628
        ],
        [
         "dbfs:/mnt/group12/data/part-00576.bin",
         "part-00576.bin",
         115837081
        ],
        [
         "dbfs:/mnt/group12/data/part-00577.bin",
         "part-00577.bin",
         116223341
        ],
        [
         "dbfs:/mnt/group12/data/part-00578.bin",
         "part-00578.bin",
         115540607
        ],
        [
         "dbfs:/mnt/group12/data/part-00579.bin",
         "part-00579.bin",
         115959099
        ],
        [
         "dbfs:/mnt/group12/data/part-00580.bin",
         "part-00580.bin",
         115677583
        ],
        [
         "dbfs:/mnt/group12/data/part-00581.bin",
         "part-00581.bin",
         115415401
        ],
        [
         "dbfs:/mnt/group12/data/part-00582.bin",
         "part-00582.bin",
         115900010
        ],
        [
         "dbfs:/mnt/group12/data/part-00583.bin",
         "part-00583.bin",
         115453206
        ],
        [
         "dbfs:/mnt/group12/data/part-00584.bin",
         "part-00584.bin",
         115407933
        ],
        [
         "dbfs:/mnt/group12/data/part-00585.bin",
         "part-00585.bin",
         116176100
        ],
        [
         "dbfs:/mnt/group12/data/part-00586.bin",
         "part-00586.bin",
         115655737
        ],
        [
         "dbfs:/mnt/group12/data/part-00587.bin",
         "part-00587.bin",
         115702640
        ],
        [
         "dbfs:/mnt/group12/data/part-00588.bin",
         "part-00588.bin",
         115807140
        ],
        [
         "dbfs:/mnt/group12/data/part-00589.bin",
         "part-00589.bin",
         115528799
        ],
        [
         "dbfs:/mnt/group12/data/part-00590.bin",
         "part-00590.bin",
         115746963
        ],
        [
         "dbfs:/mnt/group12/data/part-00591.bin",
         "part-00591.bin",
         115468155
        ],
        [
         "dbfs:/mnt/group12/data/part-00592.bin",
         "part-00592.bin",
         115628696
        ],
        [
         "dbfs:/mnt/group12/data/part-00593.bin",
         "part-00593.bin",
         115939857
        ],
        [
         "dbfs:/mnt/group12/data/part-00594.bin",
         "part-00594.bin",
         116082440
        ],
        [
         "dbfs:/mnt/group12/data/part-00595.bin",
         "part-00595.bin",
         115760423
        ],
        [
         "dbfs:/mnt/group12/data/part-00596.bin",
         "part-00596.bin",
         115847331
        ],
        [
         "dbfs:/mnt/group12/data/part-00597.bin",
         "part-00597.bin",
         116176977
        ],
        [
         "dbfs:/mnt/group12/data/part-00598.bin",
         "part-00598.bin",
         115363019
        ],
        [
         "dbfs:/mnt/group12/data/part-00599.bin",
         "part-00599.bin",
         115524977
        ],
        [
         "dbfs:/mnt/group12/data/part-00600.bin",
         "part-00600.bin",
         115578023
        ],
        [
         "dbfs:/mnt/group12/data/part-00601.bin",
         "part-00601.bin",
         115583446
        ],
        [
         "dbfs:/mnt/group12/data/part-00602.bin",
         "part-00602.bin",
         115394921
        ],
        [
         "dbfs:/mnt/group12/data/part-00603.bin",
         "part-00603.bin",
         115719325
        ],
        [
         "dbfs:/mnt/group12/data/part-00604.bin",
         "part-00604.bin",
         115666921
        ],
        [
         "dbfs:/mnt/group12/data/part-00605.bin",
         "part-00605.bin",
         115493329
        ],
        [
         "dbfs:/mnt/group12/data/part-00606.bin",
         "part-00606.bin",
         115518855
        ],
        [
         "dbfs:/mnt/group12/data/part-00607.bin",
         "part-00607.bin",
         115704651
        ],
        [
         "dbfs:/mnt/group12/data/part-00608.bin",
         "part-00608.bin",
         115858504
        ],
        [
         "dbfs:/mnt/group12/data/part-00609.bin",
         "part-00609.bin",
         115753053
        ],
        [
         "dbfs:/mnt/group12/data/part-00610.bin",
         "part-00610.bin",
         115893402
        ],
        [
         "dbfs:/mnt/group12/data/part-00611.bin",
         "part-00611.bin",
         115475388
        ],
        [
         "dbfs:/mnt/group12/data/part-00612.bin",
         "part-00612.bin",
         115536904
        ],
        [
         "dbfs:/mnt/group12/data/part-00613.bin",
         "part-00613.bin",
         115739615
        ],
        [
         "dbfs:/mnt/group12/data/part-00614.bin",
         "part-00614.bin",
         115700571
        ],
        [
         "dbfs:/mnt/group12/data/part-00615.bin",
         "part-00615.bin",
         115569714
        ],
        [
         "dbfs:/mnt/group12/data/part-00616.bin",
         "part-00616.bin",
         115410778
        ],
        [
         "dbfs:/mnt/group12/data/part-00617.bin",
         "part-00617.bin",
         115479540
        ],
        [
         "dbfs:/mnt/group12/data/part-00618.bin",
         "part-00618.bin",
         115160646
        ],
        [
         "dbfs:/mnt/group12/data/part-00619.bin",
         "part-00619.bin",
         116375484
        ],
        [
         "dbfs:/mnt/group12/data/part-00620.bin",
         "part-00620.bin",
         115771649
        ],
        [
         "dbfs:/mnt/group12/data/part-00621.bin",
         "part-00621.bin",
         115836351
        ],
        [
         "dbfs:/mnt/group12/data/part-00622.bin",
         "part-00622.bin",
         116466050
        ],
        [
         "dbfs:/mnt/group12/data/part-00623.bin",
         "part-00623.bin",
         115766885
        ],
        [
         "dbfs:/mnt/group12/data/part-00624.bin",
         "part-00624.bin",
         115490686
        ],
        [
         "dbfs:/mnt/group12/data/part-00625.bin",
         "part-00625.bin",
         115555191
        ],
        [
         "dbfs:/mnt/group12/data/part-00626.bin",
         "part-00626.bin",
         115947355
        ],
        [
         "dbfs:/mnt/group12/data/part-00627.bin",
         "part-00627.bin",
         115629043
        ],
        [
         "dbfs:/mnt/group12/data/part-00628.bin",
         "part-00628.bin",
         115725659
        ],
        [
         "dbfs:/mnt/group12/data/part-00629.bin",
         "part-00629.bin",
         115656115
        ],
        [
         "dbfs:/mnt/group12/data/part-00630.bin",
         "part-00630.bin",
         115512153
        ],
        [
         "dbfs:/mnt/group12/data/part-00631.bin",
         "part-00631.bin",
         115866122
        ],
        [
         "dbfs:/mnt/group12/data/part-00632.bin",
         "part-00632.bin",
         115692008
        ],
        [
         "dbfs:/mnt/group12/data/part-00633.bin",
         "part-00633.bin",
         115429319
        ],
        [
         "dbfs:/mnt/group12/data/part-00634.bin",
         "part-00634.bin",
         115744841
        ],
        [
         "dbfs:/mnt/group12/data/part-00635.bin",
         "part-00635.bin",
         115599528
        ],
        [
         "dbfs:/mnt/group12/data/part-00636.bin",
         "part-00636.bin",
         115976263
        ],
        [
         "dbfs:/mnt/group12/data/part-00637.bin",
         "part-00637.bin",
         115757444
        ],
        [
         "dbfs:/mnt/group12/data/part-00638.bin",
         "part-00638.bin",
         115348317
        ],
        [
         "dbfs:/mnt/group12/data/part-00639.bin",
         "part-00639.bin",
         115611258
        ],
        [
         "dbfs:/mnt/group12/data/part-00640.bin",
         "part-00640.bin",
         115819963
        ],
        [
         "dbfs:/mnt/group12/data/part-00641.bin",
         "part-00641.bin",
         115683732
        ],
        [
         "dbfs:/mnt/group12/data/part-00642.bin",
         "part-00642.bin",
         115839081
        ],
        [
         "dbfs:/mnt/group12/data/part-00643.bin",
         "part-00643.bin",
         115429327
        ],
        [
         "dbfs:/mnt/group12/data/part-00644.bin",
         "part-00644.bin",
         115979255
        ],
        [
         "dbfs:/mnt/group12/data/part-00645.bin",
         "part-00645.bin",
         116042504
        ],
        [
         "dbfs:/mnt/group12/data/part-00646.bin",
         "part-00646.bin",
         115430117
        ],
        [
         "dbfs:/mnt/group12/data/part-00647.bin",
         "part-00647.bin",
         116021278
        ],
        [
         "dbfs:/mnt/group12/data/part-00648.bin",
         "part-00648.bin",
         115361426
        ],
        [
         "dbfs:/mnt/group12/data/part-00649.bin",
         "part-00649.bin",
         116644623
        ],
        [
         "dbfs:/mnt/group12/data/part-00650.bin",
         "part-00650.bin",
         115504144
        ],
        [
         "dbfs:/mnt/group12/data/part-00651.bin",
         "part-00651.bin",
         115646809
        ],
        [
         "dbfs:/mnt/group12/data/part-00652.bin",
         "part-00652.bin",
         116960936
        ],
        [
         "dbfs:/mnt/group12/data/part-00653.bin",
         "part-00653.bin",
         115943080
        ],
        [
         "dbfs:/mnt/group12/data/part-00654.bin",
         "part-00654.bin",
         115499536
        ],
        [
         "dbfs:/mnt/group12/data/part-00655.bin",
         "part-00655.bin",
         117124337
        ],
        [
         "dbfs:/mnt/group12/data/part-00656.bin",
         "part-00656.bin",
         116038324
        ],
        [
         "dbfs:/mnt/group12/data/part-00657.bin",
         "part-00657.bin",
         115661583
        ],
        [
         "dbfs:/mnt/group12/data/part-00658.bin",
         "part-00658.bin",
         115793596
        ],
        [
         "dbfs:/mnt/group12/data/part-00659.bin",
         "part-00659.bin",
         115777584
        ],
        [
         "dbfs:/mnt/group12/data/part-00660.bin",
         "part-00660.bin",
         115611694
        ],
        [
         "dbfs:/mnt/group12/data/part-00661.bin",
         "part-00661.bin",
         115502997
        ],
        [
         "dbfs:/mnt/group12/data/part-00662.bin",
         "part-00662.bin",
         115982315
        ],
        [
         "dbfs:/mnt/group12/data/part-00663.bin",
         "part-00663.bin",
         115587353
        ],
        [
         "dbfs:/mnt/group12/data/part-00664.bin",
         "part-00664.bin",
         115577825
        ],
        [
         "dbfs:/mnt/group12/data/part-00665.bin",
         "part-00665.bin",
         115437242
        ],
        [
         "dbfs:/mnt/group12/data/part-00666.bin",
         "part-00666.bin",
         115882856
        ],
        [
         "dbfs:/mnt/group12/data/part-00667.bin",
         "part-00667.bin",
         115836046
        ],
        [
         "dbfs:/mnt/group12/data/part-00668.bin",
         "part-00668.bin",
         115551030
        ],
        [
         "dbfs:/mnt/group12/data/part-00669.bin",
         "part-00669.bin",
         115939215
        ],
        [
         "dbfs:/mnt/group12/data/part-00670.bin",
         "part-00670.bin",
         115545620
        ],
        [
         "dbfs:/mnt/group12/data/part-00671.bin",
         "part-00671.bin",
         115899612
        ],
        [
         "dbfs:/mnt/group12/data/part-00672.bin",
         "part-00672.bin",
         115800129
        ],
        [
         "dbfs:/mnt/group12/data/part-00673.bin",
         "part-00673.bin",
         115646533
        ],
        [
         "dbfs:/mnt/group12/data/part-00674.bin",
         "part-00674.bin",
         115795097
        ],
        [
         "dbfs:/mnt/group12/data/part-00675.bin",
         "part-00675.bin",
         116347698
        ],
        [
         "dbfs:/mnt/group12/data/part-00676.bin",
         "part-00676.bin",
         115470990
        ],
        [
         "dbfs:/mnt/group12/data/part-00677.bin",
         "part-00677.bin",
         115792371
        ],
        [
         "dbfs:/mnt/group12/data/part-00678.bin",
         "part-00678.bin",
         115927941
        ],
        [
         "dbfs:/mnt/group12/data/part-00679.bin",
         "part-00679.bin",
         115835287
        ],
        [
         "dbfs:/mnt/group12/data/part-00680.bin",
         "part-00680.bin",
         115878216
        ],
        [
         "dbfs:/mnt/group12/data/part-00681.bin",
         "part-00681.bin",
         115887955
        ],
        [
         "dbfs:/mnt/group12/data/part-00682.bin",
         "part-00682.bin",
         115831541
        ],
        [
         "dbfs:/mnt/group12/data/part-00683.bin",
         "part-00683.bin",
         115811267
        ],
        [
         "dbfs:/mnt/group12/data/part-00684.bin",
         "part-00684.bin",
         115910469
        ],
        [
         "dbfs:/mnt/group12/data/part-00685.bin",
         "part-00685.bin",
         116193744
        ],
        [
         "dbfs:/mnt/group12/data/part-00686.bin",
         "part-00686.bin",
         115717546
        ],
        [
         "dbfs:/mnt/group12/data/part-00687.bin",
         "part-00687.bin",
         115510615
        ],
        [
         "dbfs:/mnt/group12/data/part-00688.bin",
         "part-00688.bin",
         115713703
        ],
        [
         "dbfs:/mnt/group12/data/part-00689.bin",
         "part-00689.bin",
         115775943
        ],
        [
         "dbfs:/mnt/group12/data/part-00690.bin",
         "part-00690.bin",
         114718896
        ],
        [
         "dbfs:/mnt/group12/data/part-00691.bin",
         "part-00691.bin",
         115517046
        ],
        [
         "dbfs:/mnt/group12/data/part-00692.bin",
         "part-00692.bin",
         115854832
        ],
        [
         "dbfs:/mnt/group12/data/part-00693.bin",
         "part-00693.bin",
         115593317
        ],
        [
         "dbfs:/mnt/group12/data/part-00694.bin",
         "part-00694.bin",
         115458100
        ],
        [
         "dbfs:/mnt/group12/data/part-00695.bin",
         "part-00695.bin",
         116126350
        ],
        [
         "dbfs:/mnt/group12/data/part-00696.bin",
         "part-00696.bin",
         115747021
        ],
        [
         "dbfs:/mnt/group12/data/part-00697.bin",
         "part-00697.bin",
         115712110
        ],
        [
         "dbfs:/mnt/group12/data/part-00698.bin",
         "part-00698.bin",
         116011105
        ],
        [
         "dbfs:/mnt/group12/data/part-00699.bin",
         "part-00699.bin",
         115677395
        ],
        [
         "dbfs:/mnt/group12/data/part-00700.bin",
         "part-00700.bin",
         115979590
        ],
        [
         "dbfs:/mnt/group12/data/part-00701.bin",
         "part-00701.bin",
         115937528
        ],
        [
         "dbfs:/mnt/group12/data/part-00702.bin",
         "part-00702.bin",
         116338843
        ],
        [
         "dbfs:/mnt/group12/data/part-00703.bin",
         "part-00703.bin",
         115745277
        ],
        [
         "dbfs:/mnt/group12/data/part-00704.bin",
         "part-00704.bin",
         115797200
        ],
        [
         "dbfs:/mnt/group12/data/part-00705.bin",
         "part-00705.bin",
         115607765
        ],
        [
         "dbfs:/mnt/group12/data/part-00706.bin",
         "part-00706.bin",
         115677326
        ],
        [
         "dbfs:/mnt/group12/data/part-00707.bin",
         "part-00707.bin",
         115574708
        ],
        [
         "dbfs:/mnt/group12/data/part-00708.bin",
         "part-00708.bin",
         115726513
        ],
        [
         "dbfs:/mnt/group12/data/part-00709.bin",
         "part-00709.bin",
         115993474
        ],
        [
         "dbfs:/mnt/group12/data/part-00710.bin",
         "part-00710.bin",
         115357714
        ],
        [
         "dbfs:/mnt/group12/data/part-00711.bin",
         "part-00711.bin",
         115940620
        ],
        [
         "dbfs:/mnt/group12/data/part-00712.bin",
         "part-00712.bin",
         116016799
        ],
        [
         "dbfs:/mnt/group12/data/part-00713.bin",
         "part-00713.bin",
         115801811
        ],
        [
         "dbfs:/mnt/group12/data/part-00714.bin",
         "part-00714.bin",
         116042906
        ],
        [
         "dbfs:/mnt/group12/data/part-00715.bin",
         "part-00715.bin",
         116960631
        ],
        [
         "dbfs:/mnt/group12/data/part-00716.bin",
         "part-00716.bin",
         117507210
        ],
        [
         "dbfs:/mnt/group12/data/part-00717.bin",
         "part-00717.bin",
         116466350
        ],
        [
         "dbfs:/mnt/group12/data/part-00718.bin",
         "part-00718.bin",
         116080575
        ],
        [
         "dbfs:/mnt/group12/data/part-00719.bin",
         "part-00719.bin",
         116105235
        ],
        [
         "dbfs:/mnt/group12/data/part-00720.bin",
         "part-00720.bin",
         115794185
        ],
        [
         "dbfs:/mnt/group12/data/part-00721.bin",
         "part-00721.bin",
         116062110
        ],
        [
         "dbfs:/mnt/group12/data/part-00722.bin",
         "part-00722.bin",
         115390672
        ],
        [
         "dbfs:/mnt/group12/data/part-00723.bin",
         "part-00723.bin",
         115382843
        ],
        [
         "dbfs:/mnt/group12/data/part-00724.bin",
         "part-00724.bin",
         115684637
        ],
        [
         "dbfs:/mnt/group12/data/part-00725.bin",
         "part-00725.bin",
         115579437
        ],
        [
         "dbfs:/mnt/group12/data/part-00726.bin",
         "part-00726.bin",
         115637077
        ],
        [
         "dbfs:/mnt/group12/data/part-00727.bin",
         "part-00727.bin",
         115737287
        ],
        [
         "dbfs:/mnt/group12/data/part-00728.bin",
         "part-00728.bin",
         115637813
        ],
        [
         "dbfs:/mnt/group12/data/part-00729.bin",
         "part-00729.bin",
         115717145
        ],
        [
         "dbfs:/mnt/group12/data/part-00730.bin",
         "part-00730.bin",
         115853998
        ],
        [
         "dbfs:/mnt/group12/data/part-00731.bin",
         "part-00731.bin",
         115421684
        ],
        [
         "dbfs:/mnt/group12/data/part-00732.bin",
         "part-00732.bin",
         115596426
        ],
        [
         "dbfs:/mnt/group12/data/part-00733.bin",
         "part-00733.bin",
         115648130
        ],
        [
         "dbfs:/mnt/group12/data/part-00734.bin",
         "part-00734.bin",
         115767103
        ],
        [
         "dbfs:/mnt/group12/data/part-00735.bin",
         "part-00735.bin",
         116028340
        ],
        [
         "dbfs:/mnt/group12/data/part-00736.bin",
         "part-00736.bin",
         116167648
        ],
        [
         "dbfs:/mnt/group12/data/part-00737.bin",
         "part-00737.bin",
         115768832
        ],
        [
         "dbfs:/mnt/group12/data/part-00738.bin",
         "part-00738.bin",
         115727281
        ],
        [
         "dbfs:/mnt/group12/data/part-00739.bin",
         "part-00739.bin",
         116059043
        ],
        [
         "dbfs:/mnt/group12/data/part-00740.bin",
         "part-00740.bin",
         115909643
        ],
        [
         "dbfs:/mnt/group12/data/part-00741.bin",
         "part-00741.bin",
         116203468
        ],
        [
         "dbfs:/mnt/group12/data/part-00742.bin",
         "part-00742.bin",
         115785947
        ],
        [
         "dbfs:/mnt/group12/data/part-00743.bin",
         "part-00743.bin",
         115638171
        ],
        [
         "dbfs:/mnt/group12/data/part-00744.bin",
         "part-00744.bin",
         115746904
        ],
        [
         "dbfs:/mnt/group12/data/part-00745.bin",
         "part-00745.bin",
         116206158
        ],
        [
         "dbfs:/mnt/group12/data/part-00746.bin",
         "part-00746.bin",
         114783312
        ],
        [
         "dbfs:/mnt/group12/data/part-00747.bin",
         "part-00747.bin",
         114881405
        ],
        [
         "dbfs:/mnt/group12/data/part-00748.bin",
         "part-00748.bin",
         115567186
        ],
        [
         "dbfs:/mnt/group12/data/part-00749.bin",
         "part-00749.bin",
         115901807
        ],
        [
         "dbfs:/mnt/group12/data/part-00750.bin",
         "part-00750.bin",
         115362841
        ],
        [
         "dbfs:/mnt/group12/data/part-00751.bin",
         "part-00751.bin",
         116290875
        ],
        [
         "dbfs:/mnt/group12/data/part-00752.bin",
         "part-00752.bin",
         115518831
        ],
        [
         "dbfs:/mnt/group12/data/part-00753.bin",
         "part-00753.bin",
         115104385
        ],
        [
         "dbfs:/mnt/group12/data/part-00754.bin",
         "part-00754.bin",
         115728688
        ],
        [
         "dbfs:/mnt/group12/data/part-00755.bin",
         "part-00755.bin",
         115625434
        ],
        [
         "dbfs:/mnt/group12/data/part-00756.bin",
         "part-00756.bin",
         115797404
        ],
        [
         "dbfs:/mnt/group12/data/part-00757.bin",
         "part-00757.bin",
         115968546
        ],
        [
         "dbfs:/mnt/group12/data/part-00758.bin",
         "part-00758.bin",
         116389632
        ],
        [
         "dbfs:/mnt/group12/data/part-00759.bin",
         "part-00759.bin",
         115634923
        ],
        [
         "dbfs:/mnt/group12/data/part-00760.bin",
         "part-00760.bin",
         115568105
        ],
        [
         "dbfs:/mnt/group12/data/part-00761.bin",
         "part-00761.bin",
         115888050
        ],
        [
         "dbfs:/mnt/group12/data/part-00762.bin",
         "part-00762.bin",
         115904431
        ],
        [
         "dbfs:/mnt/group12/data/part-00763.bin",
         "part-00763.bin",
         116202295
        ],
        [
         "dbfs:/mnt/group12/data/part-00764.bin",
         "part-00764.bin",
         115891970
        ],
        [
         "dbfs:/mnt/group12/data/part-00765.bin",
         "part-00765.bin",
         116042255
        ],
        [
         "dbfs:/mnt/group12/data/part-00766.bin",
         "part-00766.bin",
         115819467
        ],
        [
         "dbfs:/mnt/group12/data/part-00767.bin",
         "part-00767.bin",
         115908203
        ],
        [
         "dbfs:/mnt/group12/data/part-00768.bin",
         "part-00768.bin",
         115800990
        ],
        [
         "dbfs:/mnt/group12/data/part-00769.bin",
         "part-00769.bin",
         115942851
        ],
        [
         "dbfs:/mnt/group12/data/part-00770.bin",
         "part-00770.bin",
         115531651
        ],
        [
         "dbfs:/mnt/group12/data/part-00771.bin",
         "part-00771.bin",
         115985390
        ],
        [
         "dbfs:/mnt/group12/data/part-00772.bin",
         "part-00772.bin",
         116159463
        ],
        [
         "dbfs:/mnt/group12/data/part-00773.bin",
         "part-00773.bin",
         115508319
        ],
        [
         "dbfs:/mnt/group12/data/part-00774.bin",
         "part-00774.bin",
         115751024
        ],
        [
         "dbfs:/mnt/group12/data/part-00775.bin",
         "part-00775.bin",
         115850174
        ],
        [
         "dbfs:/mnt/group12/data/part-00776.bin",
         "part-00776.bin",
         115569221
        ],
        [
         "dbfs:/mnt/group12/data/part-00777.bin",
         "part-00777.bin",
         115972473
        ],
        [
         "dbfs:/mnt/group12/data/part-00778.bin",
         "part-00778.bin",
         115950917
        ],
        [
         "dbfs:/mnt/group12/data/part-00779.bin",
         "part-00779.bin",
         116024599
        ],
        [
         "dbfs:/mnt/group12/data/part-00780.bin",
         "part-00780.bin",
         116346715
        ],
        [
         "dbfs:/mnt/group12/data/part-00781.bin",
         "part-00781.bin",
         115973884
        ],
        [
         "dbfs:/mnt/group12/data/part-00782.bin",
         "part-00782.bin",
         116115540
        ],
        [
         "dbfs:/mnt/group12/data/part-00783.bin",
         "part-00783.bin",
         116389678
        ],
        [
         "dbfs:/mnt/group12/data/part-00784.bin",
         "part-00784.bin",
         116028093
        ],
        [
         "dbfs:/mnt/group12/data/part-00785.bin",
         "part-00785.bin",
         115995120
        ],
        [
         "dbfs:/mnt/group12/data/part-00786.bin",
         "part-00786.bin",
         115662090
        ],
        [
         "dbfs:/mnt/group12/data/part-00787.bin",
         "part-00787.bin",
         115431305
        ],
        [
         "dbfs:/mnt/group12/data/part-00788.bin",
         "part-00788.bin",
         115813307
        ],
        [
         "dbfs:/mnt/group12/data/part-00789.bin",
         "part-00789.bin",
         115876610
        ],
        [
         "dbfs:/mnt/group12/data/part-00790.bin",
         "part-00790.bin",
         115836648
        ],
        [
         "dbfs:/mnt/group12/data/part-00791.bin",
         "part-00791.bin",
         116427322
        ],
        [
         "dbfs:/mnt/group12/data/part-00792.bin",
         "part-00792.bin",
         116161239
        ],
        [
         "dbfs:/mnt/group12/data/part-00793.bin",
         "part-00793.bin",
         115811499
        ],
        [
         "dbfs:/mnt/group12/data/part-00794.bin",
         "part-00794.bin",
         115681873
        ],
        [
         "dbfs:/mnt/group12/data/part-00795.bin",
         "part-00795.bin",
         116165386
        ],
        [
         "dbfs:/mnt/group12/data/part-00796.bin",
         "part-00796.bin",
         115935430
        ],
        [
         "dbfs:/mnt/group12/data/part-00797.bin",
         "part-00797.bin",
         115747093
        ],
        [
         "dbfs:/mnt/group12/data/part-00798.bin",
         "part-00798.bin",
         116116685
        ],
        [
         "dbfs:/mnt/group12/data/part-00799.bin",
         "part-00799.bin",
         117269627
        ],
        [
         "dbfs:/mnt/group12/data/part-00800.bin",
         "part-00800.bin",
         116563678
        ],
        [
         "dbfs:/mnt/group12/data/part-00801.bin",
         "part-00801.bin",
         115811921
        ],
        [
         "dbfs:/mnt/group12/data/part-00802.bin",
         "part-00802.bin",
         116362819
        ],
        [
         "dbfs:/mnt/group12/data/part-00803.bin",
         "part-00803.bin",
         116284559
        ],
        [
         "dbfs:/mnt/group12/data/part-00804.bin",
         "part-00804.bin",
         116042617
        ],
        [
         "dbfs:/mnt/group12/data/part-00805.bin",
         "part-00805.bin",
         115847517
        ],
        [
         "dbfs:/mnt/group12/data/part-00806.bin",
         "part-00806.bin",
         116292038
        ],
        [
         "dbfs:/mnt/group12/data/part-00807.bin",
         "part-00807.bin",
         115988253
        ],
        [
         "dbfs:/mnt/group12/data/part-00808.bin",
         "part-00808.bin",
         115986163
        ],
        [
         "dbfs:/mnt/group12/data/part-00809.bin",
         "part-00809.bin",
         115961841
        ],
        [
         "dbfs:/mnt/group12/data/part-00810.bin",
         "part-00810.bin",
         116383714
        ],
        [
         "dbfs:/mnt/group12/data/part-00811.bin",
         "part-00811.bin",
         116041197
        ],
        [
         "dbfs:/mnt/group12/data/part-00812.bin",
         "part-00812.bin",
         115649357
        ],
        [
         "dbfs:/mnt/group12/data/part-00813.bin",
         "part-00813.bin",
         115985871
        ],
        [
         "dbfs:/mnt/group12/data/part-00814.bin",
         "part-00814.bin",
         115569743
        ],
        [
         "dbfs:/mnt/group12/data/part-00815.bin",
         "part-00815.bin",
         115716694
        ],
        [
         "dbfs:/mnt/group12/data/part-00816.bin",
         "part-00816.bin",
         115992770
        ],
        [
         "dbfs:/mnt/group12/data/part-00817.bin",
         "part-00817.bin",
         115725945
        ],
        [
         "dbfs:/mnt/group12/data/part-00818.bin",
         "part-00818.bin",
         115769738
        ],
        [
         "dbfs:/mnt/group12/data/part-00819.bin",
         "part-00819.bin",
         115956437
        ],
        [
         "dbfs:/mnt/group12/data/part-00820.bin",
         "part-00820.bin",
         115704577
        ],
        [
         "dbfs:/mnt/group12/data/part-00821.bin",
         "part-00821.bin",
         115573048
        ],
        [
         "dbfs:/mnt/group12/data/part-00822.bin",
         "part-00822.bin",
         115922427
        ],
        [
         "dbfs:/mnt/group12/data/part-00823.bin",
         "part-00823.bin",
         115501322
        ],
        [
         "dbfs:/mnt/group12/data/part-00824.bin",
         "part-00824.bin",
         115994831
        ],
        [
         "dbfs:/mnt/group12/data/part-00825.bin",
         "part-00825.bin",
         115623054
        ],
        [
         "dbfs:/mnt/group12/data/part-00826.bin",
         "part-00826.bin",
         115635469
        ],
        [
         "dbfs:/mnt/group12/data/part-00827.bin",
         "part-00827.bin",
         115777586
        ],
        [
         "dbfs:/mnt/group12/data/part-00828.bin",
         "part-00828.bin",
         115647194
        ],
        [
         "dbfs:/mnt/group12/data/part-00829.bin",
         "part-00829.bin",
         115997357
        ],
        [
         "dbfs:/mnt/group12/data/part-00830.bin",
         "part-00830.bin",
         115715804
        ],
        [
         "dbfs:/mnt/group12/data/part-00831.bin",
         "part-00831.bin",
         116088960
        ],
        [
         "dbfs:/mnt/group12/data/part-00832.bin",
         "part-00832.bin",
         115901606
        ],
        [
         "dbfs:/mnt/group12/data/part-00833.bin",
         "part-00833.bin",
         115766843
        ],
        [
         "dbfs:/mnt/group12/data/part-00834.bin",
         "part-00834.bin",
         115540458
        ],
        [
         "dbfs:/mnt/group12/data/part-00835.bin",
         "part-00835.bin",
         115719893
        ],
        [
         "dbfs:/mnt/group12/data/part-00836.bin",
         "part-00836.bin",
         115651451
        ],
        [
         "dbfs:/mnt/group12/data/part-00837.bin",
         "part-00837.bin",
         115900679
        ],
        [
         "dbfs:/mnt/group12/data/part-00838.bin",
         "part-00838.bin",
         116369565
        ],
        [
         "dbfs:/mnt/group12/data/part-00839.bin",
         "part-00839.bin",
         115834730
        ],
        [
         "dbfs:/mnt/group12/data/part-00840.bin",
         "part-00840.bin",
         115674484
        ],
        [
         "dbfs:/mnt/group12/data/part-00841.bin",
         "part-00841.bin",
         115645539
        ],
        [
         "dbfs:/mnt/group12/data/part-00842.bin",
         "part-00842.bin",
         116100155
        ],
        [
         "dbfs:/mnt/group12/data/part-00843.bin",
         "part-00843.bin",
         115574180
        ],
        [
         "dbfs:/mnt/group12/data/part-00844.bin",
         "part-00844.bin",
         115870828
        ],
        [
         "dbfs:/mnt/group12/data/part-00845.bin",
         "part-00845.bin",
         117014016
        ],
        [
         "dbfs:/mnt/group12/data/part-00846.bin",
         "part-00846.bin",
         115960541
        ],
        [
         "dbfs:/mnt/group12/data/part-00847.bin",
         "part-00847.bin",
         115760610
        ],
        [
         "dbfs:/mnt/group12/data/part-00848.bin",
         "part-00848.bin",
         115908124
        ],
        [
         "dbfs:/mnt/group12/data/part-00849.bin",
         "part-00849.bin",
         115622060
        ],
        [
         "dbfs:/mnt/group12/data/part-00850.bin",
         "part-00850.bin",
         115825776
        ],
        [
         "dbfs:/mnt/group12/data/part-00851.bin",
         "part-00851.bin",
         115697523
        ],
        [
         "dbfs:/mnt/group12/data/part-00852.bin",
         "part-00852.bin",
         115585538
        ],
        [
         "dbfs:/mnt/group12/data/part-00853.bin",
         "part-00853.bin",
         115584490
        ],
        [
         "dbfs:/mnt/group12/data/part-00854.bin",
         "part-00854.bin",
         115579312
        ],
        [
         "dbfs:/mnt/group12/data/part-00855.bin",
         "part-00855.bin",
         116050182
        ],
        [
         "dbfs:/mnt/group12/data/part-00856.bin",
         "part-00856.bin",
         115737249
        ],
        [
         "dbfs:/mnt/group12/data/part-00857.bin",
         "part-00857.bin",
         115708492
        ],
        [
         "dbfs:/mnt/group12/data/part-00858.bin",
         "part-00858.bin",
         115913884
        ],
        [
         "dbfs:/mnt/group12/data/part-00859.bin",
         "part-00859.bin",
         116131799
        ],
        [
         "dbfs:/mnt/group12/data/part-00860.bin",
         "part-00860.bin",
         116204171
        ],
        [
         "dbfs:/mnt/group12/data/part-00861.bin",
         "part-00861.bin",
         116498075
        ],
        [
         "dbfs:/mnt/group12/data/part-00862.bin",
         "part-00862.bin",
         47499218
        ]
       ],
       "datasetInfos": [],
       "dbfsResultPath": null,
       "isJsonSchema": true,
       "metadata": {},
       "overflow": false,
       "plotOptions": {
        "customPlotOptions": {},
        "displayType": "table",
        "pivotAggregation": null,
        "pivotColumns": null,
        "xColumns": null,
        "yColumns": null
       },
       "removedWidgets": [],
       "schema": [
        {
         "metadata": "{}",
         "name": "path",
         "type": "\"string\""
        },
        {
         "metadata": "{}",
         "name": "name",
         "type": "\"string\""
        },
        {
         "metadata": "{}",
         "name": "size",
         "type": "\"long\""
        }
       ],
       "type": "table"
      }
     },
     "output_type": "display_data"
    }
   ],
   "source": [
    "display(dbutils.fs.ls(\"mnt/group12/data\"))"
   ]
  },
  {
   "cell_type": "code",
   "execution_count": 0,
   "metadata": {
    "application/vnd.databricks.v1+cell": {
     "inputWidgets": {},
     "nuid": "0bc470a0-ec16-49d5-af89-e8694030b89c",
     "showTitle": false,
     "title": ""
    }
   },
   "outputs": [
    {
     "data": {
      "text/html": [
       "<style scoped>\n",
       "  .ansiout {\n",
       "    display: block;\n",
       "    unicode-bidi: embed;\n",
       "    white-space: pre-wrap;\n",
       "    word-wrap: break-word;\n",
       "    word-break: break-all;\n",
       "    font-family: \"Source Code Pro\", \"Menlo\", monospace;;\n",
       "    font-size: 13px;\n",
       "    color: #555;\n",
       "    margin-left: 4px;\n",
       "    line-height: 19px;\n",
       "  }\n",
       "</style>\n",
       "<div class=\"ansiout\"></div>"
      ]
     },
     "metadata": {
      "application/vnd.databricks.v1+output": {
       "addedWidgets": {},
       "arguments": {},
       "data": "<div class=\"ansiout\"></div>",
       "datasetInfos": [],
       "metadata": {},
       "removedWidgets": [],
       "type": "html"
      }
     },
     "output_type": "display_data"
    }
   ],
   "source": [
    "from pyspark.sql.functions import *"
   ]
  },
  {
   "cell_type": "code",
   "execution_count": 0,
   "metadata": {
    "application/vnd.databricks.v1+cell": {
     "inputWidgets": {},
     "nuid": "73d94cac-73e6-4a20-9fa7-ae104b31f16e",
     "showTitle": false,
     "title": ""
    }
   },
   "outputs": [
    {
     "data": {
      "text/html": [
       "<style scoped>\n",
       "  .ansiout {\n",
       "    display: block;\n",
       "    unicode-bidi: embed;\n",
       "    white-space: pre-wrap;\n",
       "    word-wrap: break-word;\n",
       "    word-break: break-all;\n",
       "    font-family: \"Source Code Pro\", \"Menlo\", monospace;;\n",
       "    font-size: 13px;\n",
       "    color: #555;\n",
       "    margin-left: 4px;\n",
       "    line-height: 19px;\n",
       "  }\n",
       "</style>\n",
       "<div class=\"ansiout\"></div>"
      ]
     },
     "metadata": {
      "application/vnd.databricks.v1+output": {
       "addedWidgets": {},
       "arguments": {},
       "data": "<div class=\"ansiout\"></div>",
       "datasetInfos": [],
       "metadata": {},
       "removedWidgets": [],
       "type": "html"
      }
     },
     "output_type": "display_data"
    }
   ],
   "source": [
    "data_chunk_1 = spark.read.format(\"binary\").json(\"/mnt/group12/data/part-0070*.bin\")"
   ]
  },
  {
   "cell_type": "code",
   "execution_count": 0,
   "metadata": {
    "application/vnd.databricks.v1+cell": {
     "inputWidgets": {},
     "nuid": "e9320711-0b0d-4d9e-9caf-3a06d82cede3",
     "showTitle": false,
     "title": ""
    }
   },
   "outputs": [
    {
     "data": {
      "text/html": [
       "<style scoped>\n",
       "  .ansiout {\n",
       "    display: block;\n",
       "    unicode-bidi: embed;\n",
       "    white-space: pre-wrap;\n",
       "    word-wrap: break-word;\n",
       "    word-break: break-all;\n",
       "    font-family: \"Source Code Pro\", \"Menlo\", monospace;;\n",
       "    font-size: 13px;\n",
       "    color: #555;\n",
       "    margin-left: 4px;\n",
       "    line-height: 19px;\n",
       "  }\n",
       "</style>\n",
       "<div class=\"ansiout\">Out[6]: [(&#39;_corrupt_record&#39;, &#39;string&#39;),\n",
       " (&#39;attachment&#39;, &#39;struct&lt;type:string,value:string&gt;&#39;),\n",
       " (&#39;body&#39;, &#39;string&#39;),\n",
       " (&#39;body_html&#39;, &#39;string&#39;),\n",
       " (&#39;body_html_summary&#39;, &#39;string&#39;),\n",
       " (&#39;body_html_summary_truncated&#39;, &#39;boolean&#39;),\n",
       " (&#39;bookmarked&#39;, &#39;boolean&#39;),\n",
       " (&#39;category&#39;, &#39;bigint&#39;),\n",
       " (&#39;category_details&#39;,\n",
       "  &#39;struct&lt;emoji:string,slug:string,title:string,value:bigint&gt;&#39;),\n",
       " (&#39;conversation_parent&#39;,\n",
       "  &#39;struct&lt;attachment:struct&lt;type:string,value:string&gt;,body:string,body_html:string,body_html_summary:string,body_html_summary_truncated:boolean,bookmarked:boolean,category:bigint,category_details:struct&lt;emoji:string,slug:string,title:string,value:bigint&gt;,conversation_parent:struct&lt;attachment:struct&lt;type:string,value:string&gt;,body:string,body_html:string,body_html_summary:string,body_html_summary_truncated:boolean,bookmarked:boolean,category:bigint,category_details:struct&lt;emoji:string,slug:string,title:string,value:bigint&gt;,conversation_parent:struct&lt;attachment:struct&lt;type:string,value:string&gt;,body:string,body_html:string,body_html_summary:string,body_html_summary_truncated:boolean,bookmarked:boolean,category:bigint,category_details:struct&lt;emoji:string,slug:string,title:string,value:bigint&gt;,conversation_parent:struct&lt;attachment:struct&lt;type:string,value:string&gt;,body:string,body_html:string,body_html_summary:string,body_html_summary_truncated:boolean,bookmarked:boolean,category:bigint,category_details:struct&lt;emoji:string,slug:string,title:string,value:bigint&gt;,conversation_parent:struct&lt;attachment:struct&lt;type:string,value:string&gt;,body:string,body_html:string,body_html_summary:string,body_html_summary_truncated:boolean,bookmarked:boolean,category:bigint,category_details:struct&lt;emoji:string,slug:string,title:string,value:bigint&gt;,conversation_parent:struct&lt;attachment:struct&lt;type:string,value:string&gt;,body:string,body_html:string,body_html_summary:string,body_html_summary_truncated:boolean,bookmarked:boolean,category:bigint,category_details:struct&lt;emoji:string,slug:string,title:string,value:bigint&gt;,conversation_parent:struct&lt;attachment:struct&lt;type:string,value:string&gt;,body:string,body_html:string,body_html_summary:string,body_html_summary_truncated:boolean,bookmarked:boolean,category:bigint,category_details:struct&lt;emoji:string,slug:string,title:string,value:bigint&gt;,conversation_parent:struct&lt;attachment:struct&lt;type:string,value:string&gt;,body:string,body_html:string,body_html_summary:string,body_html_summary_truncated:boolean,bookmarked:boolean,category:bigint,category_details:struct&lt;emoji:string,slug:string,title:string,value:bigint&gt;,conversation_parent:struct&lt;attachment:struct&lt;type:string,value:string&gt;,body:string,body_html:string,body_html_summary:string,body_html_summary_truncated:boolean,bookmarked:boolean,category:bigint,category_details:struct&lt;emoji:string,slug:string,title:string,value:bigint&gt;,conversation_parent:struct&lt;attachment:struct&lt;type:string,value:string&gt;,body:string,body_html:string,body_html_summary:string,body_html_summary_truncated:boolean,bookmarked:boolean,category:bigint,category_details:struct&lt;emoji:string,slug:string,title:string,value:bigint&gt;,conversation_parent:struct&lt;attachment:struct&lt;type:string,value:string&gt;,body:string,body_html:string,body_html_summary:string,body_html_summary_truncated:boolean,bookmarked:boolean,category:bigint,category_details:struct&lt;emoji:string,slug:string,title:string,value:bigint&gt;,conversation_parent:struct&lt;attachment:struct&lt;type:string,value:string&gt;,body:string,body_html:string,body_html_summary:string,body_html_summary_truncated:boolean,bookmarked:boolean,category:bigint,category_details:struct&lt;emoji:string,slug:string,title:string,value:bigint&gt;,conversation_parent:struct&lt;attachment:struct&lt;type:string,value:string&gt;,body:string,body_html:string,body_html_summary:string,body_html_summary_truncated:boolean,bookmarked:boolean,category:bigint,category_details:struct&lt;emoji:string,slug:string,title:string,value:bigint&gt;,conversation_parent:struct&lt;attachment:struct&lt;type:string,value:string&gt;,body:string,body_html:string,body_html_summary:string,body_html_summary_truncated:boolean,bookmarked:boolean,category:bigint,category_details:struct&lt;emoji:string,slug:string,title:string,value:bigint&gt;,conversation_parent:struct&lt;attachment:struct&lt;type:string,value:string&gt;,body:string,body_html:string,body_html_summary:string,body_html_summary_truncated:boolean,bookmarked:boolean,category:bigint,category_details:struct&lt;emoji:string,slug:string,title:string,value:bigint&gt;,conversation_parent:struct&lt;attachment:struct&lt;type:string,value:string&gt;,body:string,body_html:string,body_html_summary:string,body_html_summary_truncated:boolean,bookmarked:boolean,category:bigint,category_details:struct&lt;emoji:string,slug:string,title:string,value:bigint&gt;,conversation_parent:struct&lt;attachment:struct&lt;type:string,value:string&gt;,body:string,body_html:string,body_html_summary:string,body_html_summary_truncated:boolean,bookmarked:boolean,category:bigint,category_details:struct&lt;emoji:string,slug:string,title:string,value:bigint&gt;,conversation_parent:struct&lt;attachment:struct&lt;type:string,value:string&gt;,body:string,body_html:string,body_html_summary:string,body_html_summary_truncated:boolean,bookmarked:boolean,category:bigint,category_details:struct&lt;emoji:string,slug:string,title:string,value:bigint&gt;,conversation_parent:struct&lt;attachment:struct&lt;type:string,value:string&gt;,body:string,body_html:string,body_html_summary:string,body_html_summary_truncated:boolean,bookmarked:boolean,category:bigint,category_details:struct&lt;emoji:string,slug:string,title:string,value:bigint&gt;,conversation_parent:struct&lt;attachment:struct&lt;type:string,value:string&gt;,body:string,body_html:string,body_html_summary:string,body_html_summary_truncated:boolean,bookmarked:boolean,category:bigint,category_details:struct&lt;emoji:string,slug:string,title:string,value:bigint&gt;,conversation_parent:struct&lt;attachment:struct&lt;type:string,value:string&gt;,body:string,body_html:string,body_html_summary:string,body_html_summary_truncated:boolean,bookmarked:boolean,category:bigint,category_details:struct&lt;emoji:string,slug:string,title:string,value:bigint&gt;,conversation_parent:struct&lt;attachment:struct&lt;type:string,value:string&gt;,body:string,body_html:string,body_html_summary:string,body_html_summary_truncated:boolean,bookmarked:boolean,category:bigint,category_details:struct&lt;emoji:string,slug:string,title:string,value:bigint&gt;,conversation_parent:struct&lt;attachment:struct&lt;type:string,value:string&gt;,body:string,body_html:string,body_html_summary:string,body_html_summary_truncated:boolean,bookmarked:boolean,category:bigint,category_details:struct&lt;emoji:string,slug:string,title:string,value:bigint&gt;,conversation_parent:struct&lt;attachment:struct&lt;type:string,value:string&gt;,body:string,body_html:string,body_html_summary:string,body_html_summary_truncated:boolean,bookmarked:boolean,category:bigint,category_details:struct&lt;emoji:string,slug:string,title:string,value:bigint&gt;,conversation_parent:struct&lt;attachment:struct&lt;type:string,value:string&gt;,body:string,body_html:string,body_html_summary:string,body_html_summary_truncated:boolean,bookmarked:boolean,category:bigint,category_details:struct&lt;emoji:string,slug:string,title:string,value:bigint&gt;,conversation_parent:struct&lt;attachment:struct&lt;type:string,value:string&gt;,body:string,body_html:string,body_html_summary:string,body_html_summary_truncated:boolean,bookmarked:boolean,category:bigint,category_details:struct&lt;emoji:string,slug:string,title:string,value:bigint&gt;,conversation_parent:struct&lt;attachment:struct&lt;type:string,value:string&gt;,body:string,body_html:string,body_html_summary:string,body_html_summary_truncated:boolean,bookmarked:boolean,category:bigint,category_details:struct&lt;emoji:string,slug:string,title:string,value:bigint&gt;,conversation_parent:struct&lt;attachment:struct&lt;type:string,value:string&gt;,body:string,body_html:string,body_html_summary:string,body_html_summary_truncated:boolean,bookmarked:boolean,category:bigint,category_details:struct&lt;emoji:string,slug:string,title:string,value:bigint&gt;,conversation_parent:struct&lt;attachment:struct&lt;type:string,value:string&gt;,body:string,body_html:string,body_html_summary:string,body_html_summary_truncated:boolean,bookmarked:boolean,category:bigint,category_details:struct&lt;emoji:string,slug:string,title:string,value:bigint&gt;,conversation_parent:struct&lt;attachment:struct&lt;type:string,value:string&gt;,body:string,body_html:string,body_html_summary:string,body_html_summary_truncated:boolean,bookmarked:boolean,category:bigint,category_details:struct&lt;emoji:string,slug:string,title:string,value:bigint&gt;,conversation_parent:struct&lt;attachment:struct&lt;type:string,value:string&gt;,body:string,body_html:string,body_html_summary:string,body_html_summary_truncated:boolean,bookmarked:boolean,category:bigint,category_details:struct&lt;emoji:string,slug:string,title:string,value:bigint&gt;,conversation_parent:struct&lt;attachment:struct&lt;type:string,value:string&gt;,body:string,body_html:string,body_html_summary:string,body_html_summary_truncated:boolean,bookmarked:boolean,category:bigint,category_details:struct&lt;emoji:string,slug:string,title:string,value:bigint&gt;,conversation_parent:struct&lt;attachment:struct&lt;type:string,value:string&gt;,body:string,body_html:string,body_html_summary:string,body_html_summary_truncated:boolean,bookmarked:boolean,category:bigint,category_details:struct&lt;emoji:string,slug:string,title:string,value:bigint&gt;,conversation_parent:struct&lt;attachment:struct&lt;type:string,value:string&gt;,body:string,body_html:string,body_html_summary:string,body_html_summary_truncated:boolean,bookmarked:boolean,category:bigint,category_details:struct&lt;emoji:string,slug:string,title:string,value:bigint&gt;,conversation_parent:struct&lt;attachment:struct&lt;type:string,value:string&gt;,body:string,body_html:string,body_html_summary:string,body_html_summary_truncated:boolean,bookmarked:boolean,category:bigint,category_details:struct&lt;emoji:string,slug:string,title:string,value:bigint&gt;,conversation_parent:struct&lt;attachment:struct&lt;type:string,value:string&gt;,body:string,body_html:string,body_html_summary:string,body_html_summary_truncated:boolean,bookmarked:boolean,category:string,category_details:string,conversation_parent:struct&lt;attachment:struct&lt;type:string,value:string&gt;,body:string,body_html:string,body_html_summary:string,body_html_summary_truncated:boolean,bookmarked:boolean,category:string,category_details:string,conversation_parent:struct&lt;attachment:struct&lt;type:string,value:string&gt;,body:string,body_html:string,body_html_summary:string,body_html_summary_truncated:boolean,bookmarked:boolean,category:string,category_details:string,conversation_parent:struct&lt;attachment:struct&lt;type:string,value:string&gt;,body:string,body_html:string,body_html_summary:string,body_html_summary_truncated:boolean,bookmarked:boolean,category:string,category_details:string,conversation_parent:struct&lt;attachment:struct&lt;type:string,value:string&gt;,body:string,body_html:string,body_html_summary:string,body_html_summary_truncated:boolean,bookmarked:boolean,category:string,category_details:string,conversation_parent:struct&lt;attachment:struct&lt;type:string,value:string&gt;,body:string,body_html:string,body_html_summary:string,body_html_summary_truncated:boolean,bookmarked:boolean,category:string,category_details:string,conversation_parent:struct&lt;attachment:struct&lt;type:string,value:string&gt;,body:string,body_html:string,body_html_summary:string,body_html_summary_truncated:boolean,bookmarked:boolean,category:string,category_details:string,conversation_parent:struct&lt;attachment:struct&lt;type:string,value:string&gt;,body:string,body_html:string,body_html_summary:string,body_html_summary_truncated:boolean,bookmarked:boolean,category:string,category_details:string,conversation_parent:struct&lt;attachment:struct&lt;type:string,value:string&gt;,body:string,body_html:string,body_html_summary:string,body_html_summary_truncated:boolean,bookmarked:boolean,category:string,category_details:string,conversation_parent:struct&lt;attachment:struct&lt;type:string,value:struct&lt;description:string,image:string,source:string,title:string,url:string&gt;&gt;,body:string,body_html:string,body_html_summary:string,body_html_summary_truncated:boolean,bookmarked:boolean,category:string,category_details:string,conversation_parent:struct&lt;attachment:struct&lt;type:string,value:struct&lt;description:string,image:string,source:string,title:string,url:string&gt;&gt;,body:string,body_html:string,body_html_summary:string,body_html_summary_truncated:boolean,bookmarked:boolean,category:string,category_details:string,conversation_parent:struct&lt;attachment:struct&lt;type:string,value:string&gt;,body:string,body_html:string,body_html_summary:string,body_html_summary_truncated:boolean,bookmarked:boolean,category:string,category_details:string,conversation_parent:struct&lt;attachment:struct&lt;type:string,value:string&gt;,body:string,body_html:string,body_html_summary:string,body_html_summary_truncated:boolean,bookmarked:boolean,category:string,category_details:string,conversation_parent:struct&lt;attachment:struct&lt;type:string,value:string&gt;,body:string,body_html:string,body_html_summary:string,body_html_summary_truncated:boolean,bookmarked:boolean,category:string,category_details:string,conversation_parent:struct&lt;attachment:struct&lt;type:string,value:array&lt;struct&lt;height:bigint,id:string,url_full:string,url_thumbnail:string,width:bigint&gt;&gt;&gt;,body:string,body_html:string,body_html_summary:string,body_html_summary_truncated:boolean,bookmarked:boolean,category:string,category_details:string,conversation_parent:struct&lt;attachment:struct&lt;type:string,value:string&gt;,body:string,body_html:string,body_html_summary:string,body_html_summary_truncated:boolean,bookmarked:boolean,category:string,category_details:string,conversation_parent:struct&lt;attachment:struct&lt;type:string,value:string&gt;,body:string,body_html:string,body_html_summary:string,body_html_summary_truncated:boolean,bookmarked:boolean,category:string,category_details:string,conversation_parent:struct&lt;attachment:struct&lt;type:string,value:struct&lt;description:string,image:string,source:string,title:string,url:string&gt;&gt;,body:string,body_html:string,body_html_summary:string,body_html_summary_truncated:boolean,bookmarked:boolean,category:string,category_details:string,conversation_parent:struct&lt;attachment:struct&lt;type:string,value:string&gt;,body:string,body_html:string,body_html_summary:string,body_html_summary_truncated:boolean,bookmarked:boolean,category:string,category_details:string,conversation_parent:struct&lt;attachment:struct&lt;type:string,value:string&gt;,body:string,body_html:string,body_html_summary:string,body_html_summary_truncated:boolean,bookmarked:boolean,category:string,category_details:string,conversation_parent:struct&lt;attachment:struct&lt;type:string,value:string&gt;,body:string,body_html:string,body_html_summary:string,body_html_summary_truncated:boolean,bookmarked:boolean,category:string,category_details:string,conversation_parent:struct&lt;attachment:struct&lt;type:string,value:array&lt;struct&lt;height:bigint,id:string,url_full:string,url_thumbnail:string,width:bigint&gt;&gt;&gt;,body:string,body_html:string,body_html_summary:string,body_html_summary_truncated:boolean,bookmarked:boolean,category:string,category_details:string,conversation_parent:struct&lt;attachment:struct&lt;type:string,value:string&gt;,body:string,body_html:string,body_html_summary:string,body_html_summary_truncated:boolean,bookmarked:boolean,category:string,category_details:string,conversation_parent:struct&lt;attachment:struct&lt;type:string,value:string&gt;,body:string,body_html:string,body_html_summary:string,body_html_summary_truncated:boolean,bookmarked:boolean,category:string,category_details:string,conversation_parent:struct&lt;attachment:struct&lt;type:string,value:string&gt;,body:string,body_html:string,body_html_summary:string,body_html_summary_truncated:boolean,bookmarked:boolean,category:string,category_details:string,conversation_parent:struct&lt;attachment:struct&lt;type:string,value:string&gt;,body:string,body_html:string,body_html_summary:string,body_html_summary_truncated:boolean,bookmarked:boolean,category:string,category_details:string,conversation_parent:struct&lt;attachment:struct&lt;type:string,value:string&gt;,body:string,body_html:string,body_html_summary:string,body_html_summary_truncated:boolean,bookmarked:boolean,category:string,category_details:string,conversation_parent:struct&lt;attachment:struct&lt;type:string,value:string&gt;,body:string,body_html:string,body_html_summary:string,body_html_summary_truncated:boolean,bookmarked:boolean,category:string,category_details:string,conversation_parent:struct&lt;attachment:struct&lt;type:string,value:string&gt;,body:string,body_html:string,body_html_summary:string,body_html_summary_truncated:boolean,bookmarked:boolean,category:string,category_details:string,conversation_parent:struct&lt;attachment:struct&lt;type:string,value:string&gt;,body:string,body_html:string,body_html_summary:string,body_html_summary_truncated:boolean,bookmarked:boolean,category:string,category_details:string,conversation_parent:struct&lt;attachment:struct&lt;type:string,value:string&gt;,body:string,body_html:string,body_html_summary:string,body_html_summary_truncated:boolean,bookmarked:boolean,category:string,category_details:string,created_at:string,dislike_count:bigint,disliked:boolean,edited:boolean,embed:struct&lt;html:string,iframe:string&gt;,id:bigint,is_locked:boolean,is_premium:boolean,is_quote:boolean,is_replies_disabled:boolean,is_reply:boolean,language:string,like_count:bigint,liked:boolean,nsfw:boolean,only_emoji:boolean,replies:struct&lt;data:array&lt;string&gt;&gt;,reply_count:bigint,reported:boolean,repost:boolean,repost_count:bigint,revised_at:string,score:bigint,user:struct&lt;id:bigint,is_donor:boolean,is_investor:boolean,is_premium:boolean,is_private:boolean,is_pro:boolean,name:string,picture_url:string,username:string,verified:boolean&gt;&gt;,created_at:string,dislike_count:bigint,disliked:boolean,edited:boolean,embed:struct&lt;html:string,iframe:string&gt;,id:bigint,is_locked:boolean,is_premium:boolean,is_quote:boolean,is_replies_disabled:boolean,is_reply:boolean,language:string,like_count:bigint,liked:boolean,nsfw:boolean,only_emoji:boolean,parent:struct&lt;attachment:struct&lt;type:string,value:string&gt;,body:string,body_html:string,body_html_summary:string,body_html_summary_truncated:boolean,bookmarked:boolean,category:string,category_details:string,created_at:string,dislike_count:bigint,disliked:boolean,edited:boolean,embed:struct&lt;html:string,iframe:string&gt;,id:bigint,is_locked:boolean,is_premium:boolean,is_quote:boolean,is_replies_disabled:boolean,is_reply:boolean,language:string,like_count:bigint,liked:boolean,nsfw:boolean,only_emoji:boolean,replies:struct&lt;data:array&lt;string&gt;&gt;,reply_count:bigint,reported:boolean,repost:boolean,repost_count:bigint,revised_at:string,score:bigint,user:struct&lt;id:bigint,is_donor:boolean,is_investor:boolean,is_premium:boolean,is_private:boolean,is_pro:boolean,name:string,picture_url:string,username:string,verified:boolean&gt;&gt;,replies:struct&lt;data:array&lt;string&gt;&gt;,reply_count:bigint,reported:boolean,repost:boolean,repost_count:bigint,revised_at:string,score:bigint,user:struct&lt;id:bigint,is_donor:boolean,is_investor:boolean,is_premium:boolean,is_private:boolean,is_pro:boolean,name:string,picture_url:string,username:string,verified:boolean&gt;&gt;,created_at:string,dislike_count:bigint,disliked:boolean,edited:boolean,embed:struct&lt;html:string,iframe:string&gt;,id:bigint,is_locked:boolean,is_premium:boolean,is_quote:boolean,is_replies_disabled:boolean,is_reply:boolean,language:string,like_count:bigint,liked:boolean,nsfw:boolean,only_emoji:boolean,parent:struct&lt;attachment:struct&lt;type:string,value:string&gt;,body:string,body_html:string,body_html_summary:string,body_html_summary_truncated:boolean,bookmarked:boolean,category:string,category_details:string,created_at:string,dislike_count:bigint,disliked:boolean,edited:boolean,embed:struct&lt;html:string,iframe:string&gt;,id:bigint,is_locked:boolean,is_premium:boolean,is_quote:boolean,is_replies_disabled:boolean,is_reply:boolean,language:string,like_count:bigint,liked:boolean,nsfw:boolean,only_emoji:boolean,replies:struct&lt;data:array&lt;string&gt;&gt;,reply_count:bigint,reported:boolean,repost:boolean,repost_count:bigint,revised_at:string,score:bigint,user:struct&lt;id:bigint,is_donor:boolean,is_investor:boolean,is_premium:boolean,is_private:boolean,is_pro:boolean,name:string,picture_url:string,username:string,verified:boolean&gt;&gt;,quote_conversation_parent:struct&lt;attachment:struct&lt;type:string,value:string&gt;,body:string,body_html:string,body_html_summary:string,body_html_summary_truncated:boolean,bookmarked:boolean,category:string,category_details:string,created_at:string,dislike_count:bigint,disliked:boolean,edited:boolean,embed:struct&lt;html:string,iframe:string&gt;,id:bigint,is_locked:boolean,is_premium:boolean,is_quote:boolean,is_replies_disabled:boolean,is_reply:boolean,language:string,like_count:bigint,liked:boolean,nsfw:boolean,only_emoji:boolean,replies:struct&lt;data:array&lt;string&gt;&gt;,reply_count:bigint,reported:boolean,repost:boolean,repost_count:bigint,revised_at:string,score:bigint,user:struct&lt;id:bigint,is_donor:boolean,is_investor:boolean,is_premium:boolean,is_private:boolean,is_pro:boolean,name:string,picture_url:string,username:string,verified:boolean&gt;&gt;,replies:struct&lt;data:array&lt;string&gt;&gt;,reply_count:bigint,reported:boolean,repost:boolean,repost_count:bigint,revised_at:string,score:bigint,user:struct&lt;id:bigint,is_donor:boolean,is_investor:boolean,is_premium:boolean,is_private:boolean,is_pro:boolean,name:string,picture_url:string,username:string,verified:boolean&gt;&gt;,created_at:string,dislike_count:bigint,disliked:boolean,edited:boolean,embed:struct&lt;html:string,iframe:string&gt;,id:bigint,is_locked:boolean,is_premium:boolean,is_quote:boolean,is_replies_disabled:boolean,is_reply:boolean,language:string,like_count:bigint,liked:boolean,nsfw:boolean,only_emoji:boolean,parent:struct&lt;attachment:struct&lt;type:string,value:string&gt;,body:string,body_html:string,body_html_summary:string,body_html_summary_truncated:boolean,bookmarked:boolean,category:string,category_details:string,created_at:string,dislike_count:bigint,disliked:boolean,edited:boolean,embed:struct&lt;html:string,iframe:string&gt;,id:bigint,is_locked:boolean,is_premium:boolean,is_quote:boolean,is_replies_disabled:boolean,is_reply:boolean,language:string,like_count:bigint,liked:boolean,nsfw:boolean,only_emoji:boolean,replies:struct&lt;data:array&lt;string&gt;&gt;,reply_count:bigint,reported:boolean,repost:boolean,repost_count:bigint,revised_at:string,score:bigint,user:struct&lt;id:bigint,is_donor:boolean,is_investor:boolean,is_premium:boolean,is_private:boolean,is_pro:boolean,name:string,picture_url:string,username:string,verified:boolean&gt;&gt;,replies:struct&lt;data:array&lt;string&gt;&gt;,reply_count:bigint,reported:boolean,repost:boolean,repost_count:bigint,revised_at:string,score:bigint,user:struct&lt;id:bigint,is_donor:boolean,is_investor:boolean,is_premium:boolean,is_private:boolean,is_pro:boolean,name:string,picture_url:string,username:string,verified:boolean&gt;&gt;,created_at:string,dislike_count:bigint,disliked:boolean,edited:boolean,embed:struct&lt;html:string,iframe:string&gt;,id:bigint,is_locked:boolean,is_premium:boolean,is_quote:boolean,is_replies_disabled:boolean,is_reply:boolean,language:string,like_count:bigint,liked:boolean,nsfw:boolean,only_emoji:boolean,parent:struct&lt;attachment:struct&lt;type:string,value:string&gt;,body:string,body_html:string,body_html_summary:string,body_html_summary_truncated:boolean,bookmarked:boolean,category:string,category_details:string,created_at:string,dislike_count:bigint,disliked:boolean,edited:boolean,embed:struct&lt;html:string,iframe:string&gt;,id:bigint,is_locked:boolean,is_premium:boolean,is_quote:boolean,is_replies_disabled:boolean,is_reply:boolean,language:string,like_count:bigint,liked:boolean,nsfw:boolean,only_emoji:boolean,replies:struct&lt;data:array&lt;string&gt;&gt;,reply_count:bigint,reported:boolean,repost:boolean,repost_count:bigint,revised_at:string,score:bigint,user:struct&lt;id:bigint,is_donor:boolean,is_investor:boolean,is_premium:boolean,is_private:boolean,is_pro:boolean,name:string,picture_url:string,username:string,verified:boolean&gt;&gt;,quote_conversation_parent:struct&lt;attachment:struct&lt;type:string,value:string&gt;,body:string,body_html:string,body_html_summary:string,body_html_summary_truncated:boolean,bookmarked:boolean,category:string,category_details:string,created_at:string,dislike_count:bigint,disliked:boolean,edited:boolean,embed:struct&lt;html:string,iframe:string&gt;,id:bigint,is_locked:boolean,is_premium:boolean,is_quote:boolean,is_replies_disabled:boolean,is_reply:boolean,language:string,like_count:bigint,liked:boolean,nsfw:boolean,only_emoji:boolean,replies:struct&lt;data:array&lt;string&gt;&gt;,reply_count:bigint,reported:boolean,repost:boolean,repost_count:bigint,revised_at:string,score:bigint,user:struct&lt;id:bigint,is_donor:boolean,is_investor:boolean,is_premium:boolean,is_private:boolean,is_pro:boolean,name:string,picture_url:string,username:string,verified:boolean&gt;&gt;,replies:struct&lt;data:array&lt;string&gt;&gt;,reply_count:bigint,reported:boolean,repost:boolean,repost_count:bigint,revised_at:string,score:bigint,user:struct&lt;id:bigint,is_donor:boolean,is_investor:boolean,is_premium:boolean,is_private:boolean,is_pro:boolean,name:string,picture_url:string,username:string,verified:boolean&gt;&gt;,created_at:string,dislike_count:bigint,disliked:boolean,edited:boolean,embed:struct&lt;html:string,iframe:string&gt;,id:bigint,is_locked:boolean,is_premium:boolean,is_quote:boolean,is_replies_disabled:boolean,is_reply:boolean,language:string,like_count:bigint,liked:boolean,nsfw:boolean,only_emoji:boolean,parent:struct&lt;attachment:struct&lt;type:string,value:string&gt;,body:string,body_html:string,body_html_summary:string,body_html_summary_truncated:boolean,bookmarked:boolean,category:string,category_details:string,created_at:string,dislike_count:bigint,disliked:boolean,edited:boolean,embed:struct&lt;html:string,iframe:string&gt;,id:bigint,is_locked:boolean,is_premium:boolean,is_quote:boolean,is_replies_disabled:boolean,is_reply:boolean,language:string,like_count:bigint,liked:boolean,nsfw:boolean,only_emoji:boolean,replies:struct&lt;data:array&lt;string&gt;&gt;,reply_count:bigint,reported:boolean,repost:boolean,repost_count:bigint,revised_at:string,score:bigint,user:struct&lt;id:bigint,is_donor:boolean,is_investor:boolean,is_premium:boolean,is_private:boolean,is_pro:boolean,name:string,picture_url:string,username:string,verified:boolean&gt;&gt;,replies:struct&lt;data:array&lt;string&gt;&gt;,reply_count:bigint,reported:boolean,repost:boolean,repost_count:bigint,revised_at:string,score:bigint,user:struct&lt;id:bigint,is_donor:boolean,is_investor:boolean,is_premium:boolean,is_private:boolean,is_pro:boolean,name:string,picture_url:string,username:string,verified:boolean&gt;&gt;,created_at:string,dislike_count:bigint,disliked:boolean,edited:boolean,embed:struct&lt;html:string,iframe:string&gt;,id:bigint,is_locked:boolean,is_premium:boolean,is_quote:boolean,is_replies_disabled:boolean,is_reply:boolean,language:string,like_count:bigint,liked:boolean,nsfw:boolean,only_emoji:boolean,parent:struct&lt;attachment:struct&lt;type:string,value:string&gt;,body:string,body_html:string,body_html_summary:string,body_html_summary_truncated:boolean,bookmarked:boolean,category:string,category_details:string,created_at:string,dislike_count:bigint,disliked:boolean,edited:boolean,embed:struct&lt;html:string,iframe:string&gt;,id:bigint,is_locked:boolean,is_premium:boolean,is_quote:boolean,is_replies_disabled:boolean,is_reply:boolean,language:string,like_count:bigint,liked:boolean,nsfw:boolean,only_emoji:boolean,replies:struct&lt;data:array&lt;string&gt;&gt;,reply_count:bigint,reported:boolean,repost:boolean,repost_count:bigint,revised_at:string,score:bigint,user:struct&lt;id:bigint,is_donor:boolean,is_investor:boolean,is_premium:boolean,is_private:boolean,is_pro:boolean,name:string,picture_url:string,username:string,verified:boolean&gt;&gt;,quote_conversation_parent:struct&lt;attachment:struct&lt;type:string,value:string&gt;,body:string,body_html:string,body_html_summary:string,body_html_summary_truncated:boolean,bookmarked:boolean,category:string,category_details:string,created_at:string,dislike_count:bigint,disliked:boolean,edited:boolean,embed:struct&lt;html:string,iframe:string&gt;,id:bigint,is_locked:boolean,is_premium:boolean,is_quote:boolean,is_replies_disabled:boolean,is_reply:boolean,language:string,like_count:bigint,liked:boolean,nsfw:boolean,only_emoji:boolean,replies:struct&lt;data:array&lt;string&gt;&gt;,reply_count:bigint,reported:boolean,repost:boolean,repost_count:bigint,revised_at:string,score:bigint,user:struct&lt;id:bigint,is_donor:boolean,is_investor:boolean,is_premium:boolean,is_private:boolean,is_pro:boolean,name:string,picture_url:string,username:string,verified:boolean&gt;&gt;,replies:struct&lt;data:array&lt;string&gt;&gt;,reply_count:bigint,reported:boolean,repost:boolean,repost_count:bigint,revised_at:string,score:bigint,user:struct&lt;id:bigint,is_donor:boolean,is_investor:boolean,is_premium:boolean,is_private:boolean,is_pro:boolean,name:string,picture_url:string,username:string,verified:boolean&gt;&gt;,created_at:string,dislike_count:bigint,disliked:boolean,edited:boolean,embed:struct&lt;html:string,iframe:string&gt;,id:bigint,is_locked:boolean,is_premium:boolean,is_quote:boolean,is_replies_disabled:boolean,is_reply:boolean,language:string,like_count:bigint,liked:boolean,nsfw:boolean,only_emoji:boolean,parent:struct&lt;attachment:struct&lt;type:string,value:string&gt;,body:string,body_html:string,body_html_summary:string,body_html_summary_truncated:boolean,bookmarked:boolean,category:string,category_details:string,created_at:string,dislike_count:bigint,disliked:boolean,edited:boolean,embed:struct&lt;html:string,iframe:string&gt;,id:bigint,is_locked:boolean,is_premium:boolean,is_quote:boolean,is_replies_disabled:boolean,is_reply:boolean,language:string,like_count:bigint,liked:boolean,nsfw:boolean,only_emoji:boolean,replies:struct&lt;data:array&lt;string&gt;&gt;,reply_count:bigint,reported:boolean,repost:boolean,repost_count:bigint,revised_at:string,score:bigint,user:struct&lt;id:bigint,is_donor:boolean,is_investor:boolean,is_premium:boolean,is_private:boolean,is_pro:boolean,name:string,picture_url:string,username:string,verified:boolean&gt;&gt;,replies:struct&lt;data:array&lt;string&gt;&gt;,reply_count:bigint,reported:boolean,repost:boolean,repost_count:bigint,revised_at:string,score:bigint,user:struct&lt;id:bigint,is_donor:boolean,is_investor:boolean,is_premium:boolean,is_private:boolean,is_pro:boolean,name:string,picture_url:string,username:string,verified:boolean&gt;&gt;,created_at:string,dislike_count:bigint,disliked:boolean,edited:boolean,embed:struct&lt;html:string,iframe:string&gt;,id:bigint,is_locked:boolean,is_premium:boolean,is_quote:boolean,is_replies_disabled:boolean,is_reply:boolean,language:string,like_count:bigint,liked:boolean,nsfw:boolean,only_emoji:boolean,parent:struct&lt;attachment:struct&lt;type:string,value:string&gt;,body:string,body_html:string,body_html_summary:string,body_html_summary_truncated:boolean,bookmarked:boolean,category:string,category_details:string,created_at:string,dislike_count:bigint,disliked:boolean,edited:boolean,embed:struct&lt;html:string,iframe:string&gt;,id:bigint,is_locked:boolean,is_premium:boolean,is_quote:boolean,is_replies_disabled:boolean,is_reply:boolean,language:string,like_count:bigint,liked:boolean,nsfw:boolean,only_emoji:boolean,replies:struct&lt;data:array&lt;string&gt;&gt;,reply_count:bigint,reported:boolean,repost:boolean,repost_count:bigint,revised_at:string,score:bigint,user:struct&lt;id:bigint,is_donor:boolean,is_investor:boolean,is_premium:boolean,is_private:boolean,is_pro:boolean,name:string,picture_url:string,username:string,verified:boolean&gt;&gt;,quote_conversation_parent:struct&lt;attachment:struct&lt;type:string,value:string&gt;,body:string,body_html:string,body_html_summary:string,body_html_summary_truncated:boolean,bookmarked:boolean,category:string,category_details:string,created_at:string,dislike_count:bigint,disliked:boolean,edited:boolean,embed:struct&lt;html:string,iframe:string&gt;,id:bigint,is_locked:boolean,is_premium:boolean,is_quote:boolean,is_replies_disabled:boolean,is_reply:boolean,language:string,like_count:bigint,liked:boolean,nsfw:boolean,only_emoji:boolean,replies:struct&lt;data:array&lt;string&gt;&gt;,reply_count:bigint,reported:boolean,repost:boolean,repost_count:bigint,revised_at:string,score:bigint,user:struct&lt;id:bigint,is_donor:boolean,is_investor:boolean,is_premium:boolean,is_private:boolean,is_pro:boolean,name:string,picture_url:string,username:string,verified:boolean&gt;&gt;,replies:struct&lt;data:array&lt;string&gt;&gt;,reply_count:bigint,reported:boolean,repost:boolean,repost_count:bigint,revised_at:string,score:bigint,user:struct&lt;id:bigint,is_donor:boolean,is_investor:boolean,is_premium:boolean,is_private:boolean,is_pro:boolean,name:string,picture_url:string,username:string,verified:boolean&gt;&gt;,created_at:string,dislike_count:bigint,disliked:boolean,edited:boolean,embed:struct&lt;html:string,iframe:string&gt;,id:bigint,is_locked:boolean,is_premium:boolean,is_quote:boolean,is_replies_disabled:boolean,is_reply:boolean,language:string,like_count:bigint,liked:boolean,nsfw:boolean,only_emoji:boolean,parent:struct&lt;attachment:struct&lt;type:string,value:string&gt;,body:string,body_html:string,body_html_summary:string,body_html_summary_truncated:boolean,bookmarked:boolean,category:string,category_details:string,created_at:string,dislike_count:bigint,disliked:boolean,edited:boolean,embed:struct&lt;html:string,iframe:string&gt;,id:bigint,is_locked:boolean,is_premium:boolean,is_quote:boolean,is_replies_disabled:boolean,is_reply:boolean,language:string,like_count:bigint,liked:boolean,nsfw:boolean,only_emoji:boolean,replies:struct&lt;data:array&lt;string&gt;&gt;,reply_count:bigint,reported:boolean,repost:boolean,repost_count:bigint,revised_at:string,score:bigint,user:struct&lt;id:bigint,is_donor:boolean,is_investor:boolean,is_premium:boolean,is_private:boolean,is_pro:boolean,name:string,picture_url:string,username:string,verified:boolean&gt;&gt;,quote_conversation_parent:struct&lt;attachment:struct&lt;type:string,value:string&gt;,body:string,body_html:string,body_html_summary:string,body_html_summary_truncated:boolean,bookmarked:boolean,category:string,category_details:string,created_at:string,dislike_count:bigint,disliked:boolean,edited:boolean,embed:struct&lt;html:string,iframe:string&gt;,id:bigint,is_locked:boolean,is_premium:boolean,is_quote:boolean,is_replies_disabled:boolean,is_reply:boolean,language:string,like_count:bigint,liked:boolean,nsfw:boolean,only_emoji:boolean,replies:struct&lt;data:array&lt;string&gt;&gt;,reply_count:bigint,reported:boolean,repost:boolean,repost_count:bigint,revised_at:string,score:bigint,user:struct&lt;id:bigint,is_donor:boolean,is_investor:boolean,is_premium:boolean,is_private:boolean,is_pro:boolean,name:string,picture_url:string,username:string,verified:boolean&gt;&gt;,replies:struct&lt;data:array&lt;string&gt;&gt;,reply_count:bigint,reported:boolean,repost:boolean,repost_count:bigint,revised_at:string,score:bigint,user:struct&lt;id:bigint,is_donor:boolean,is_investor:boolean,is_premium:boolean,is_private:boolean,is_pro:boolean,name:string,picture_url:string,username:string,verified:boolean&gt;&gt;,created_at:string,dislike_count:bigint,disliked:boolean,edited:boolean,embed:struct&lt;html:string,iframe:string&gt;,id:bigint,is_locked:boolean,is_premium:boolean,is_quote:boolean,is_replies_disabled:boolean,is_reply:boolean,language:string,like_count:bigint,liked:boolean,nsfw:boolean,only_emoji:boolean,parent:struct&lt;attachment:struct&lt;type:string,value:array&lt;struct&lt;height:bigint,id:string,url_full:string,url_thumbnail:string,width:bigint&gt;&gt;&gt;,body:string,body_html:string,body_html_summary:string,body_html_summary_truncated:boolean,bookmarked:boolean,category:string,category_details:string,created_at:string,dislike_count:bigint,disliked:boolean,edited:boolean,embed:struct&lt;html:string,iframe:string&gt;,id:bigint,is_locked:boolean,is_premium:boolean,is_quote:boolean,is_replies_disabled:boolean,is_reply:boolean,language:string,like_count:bigint,liked:boolean,nsfw:boolean,only_emoji:boolean,replies:struct&lt;data:array&lt;string&gt;&gt;,reply_count:bigint,reported:boolean,repost:boolean,repost_count:bigint,revised_at:string,score:bigint,user:struct&lt;id:bigint,is_donor:boolean,is_investor:boolean,is_premium:boolean,is_private:boolean,is_pro:boolean,name:string,picture_url:string,username:string,verified:boolean&gt;&gt;,quote_conversation_parent:struct&lt;attachment:struct&lt;type:string,value:string&gt;,body:string,body_html:string,body_html_summary:string,body_html_summary_truncated:boolean,bookmarked:boolean,category:string,category_details:string,created_at:string,dislike_count:bigint,disliked:boolean,edited:boolean,embed:struct&lt;html:string,iframe:string&gt;,id:bigint,is_locked:boolean,is_premium:boolean,is_quote:boolean,is_replies_disabled:boolean,is_reply:boolean,language:string,like_count:bigint,liked:boolean,nsfw:boolean,only_emoji:boolean,replies:struct&lt;data:array&lt;string&gt;&gt;,reply_count:bigint,reported:boolean,repost:boolean,repost_count:bigint,revised_at:string,score:bigint,user:struct&lt;id:bigint,is_donor:boolean,is_investor:boolean,is_premium:boolean,is_private:boolean,is_pro:boolean,name:string,picture_url:string,username:string,verified:boolean&gt;&gt;,replies:struct&lt;data:array&lt;string&gt;&gt;,reply_count:bigint,reported:boolean,repost:boolean,repost_count:bigint,revised_at:string,score:bigint,user:struct&lt;id:bigint,is_donor:boolean,is_investor:boolean,is_premium:boolean,is_private:boolean,is_pro:boolean,name:string,picture_url:string,username:string,verified:boolean&gt;&gt;,created_at:string,dislike_count:bigint,disliked:boolean,edited:boolean,embed:struct&lt;html:string,iframe:string&gt;,id:bigint,is_locked:boolean,is_premium:boolean,is_quote:boolean,is_replies_disabled:boolean,is_reply:boolean,language:string,like_count:bigint,liked:boolean,nsfw:boolean,only_emoji:boolean,parent:struct&lt;attachment:struct&lt;type:string,value:string&gt;,body:string,body_html:string,body_html_summary:string,body_html_summary_truncated:boolean,bookmarked:boolean,category:string,category_details:string,created_at:string,dislike_count:bigint,disliked:boolean,edited:boolean,embed:struct&lt;html:string,iframe:string&gt;,id:bigint,is_locked:boolean,is_premium:boolean,is_quote:boolean,is_replies_disabled:boolean,is_reply:boolean,language:string,like_count:bigint,liked:boolean,nsfw:boolean,only_emoji:boolean,replies:struct&lt;data:array&lt;string&gt;&gt;,reply_count:bigint,reported:boolean,repost:boolean,repost_count:bigint,revised_at:string,score:bigint,user:struct&lt;id:bigint,is_donor:boolean,is_investor:boolean,is_premium:boolean,is_private:boolean,is_pro:boolean,name:string,picture_url:string,username:string,verified:boolean&gt;&gt;,quote_conversation_parent:struct&lt;attachment:struct&lt;type:string,value:string&gt;,body:string,body_html:string,body_html_summary:string,body_html_summary_truncated:boolean,bookmarked:boolean,category:string,category_details:string,created_at:string,dislike_count:bigint,disliked:boolean,edited:boolean,embed:struct&lt;html:string,iframe:string&gt;,id:bigint,is_locked:boolean,is_premium:boolean,is_quote:boolean,is_replies_disabled:boolean,is_reply:boolean,language:string,like_count:bigint,liked:boolean,nsfw:boolean,only_emoji:boolean,replies:struct&lt;data:array&lt;string&gt;&gt;,reply_count:bigint,reported:boolean,repost:boolean,repost_count:bigint,revised_at:string,score:bigint,user:struct&lt;id:bigint,is_donor:boolean,is_investor:boolean,is_premium:boolean,is_private:boolean,is_pro:boolean,name:string,picture_url:string,username:string,verified:boolean&gt;&gt;,replies:struct&lt;data:array&lt;string&gt;&gt;,reply_count:bigint,reported:boolean,repost:boolean,repost_count:bigint,revised_at:string,score:bigint,user:struct&lt;id:bigint,is_donor:boolean,is_investor:boolean,is_premium:boolean,is_private:boolean,is_pro:boolean,name:string,picture_url:string,username:string,verified:boolean&gt;&gt;,created_at:string,dislike_count:bigint,disliked:boolean,edited:boolean,embed:struct&lt;html:string,iframe:string&gt;,id:bigint,is_locked:boolean,is_premium:boolean,is_quote:boolean,is_replies_disabled:boolean,is_reply:boolean,language:string,like_count:bigint,liked:boolean,nsfw:boolean,only_emoji:boolean,parent:struct&lt;attachment:struct&lt;type:string,value:string&gt;,body:string,body_html:string,body_html_summary:string,body_html_summary_truncated:boolean,bookmarked:boolean,category:string,category_details:string,created_at:string,dislike_count:bigint,disliked:boolean,edited:boolean,embed:struct&lt;html:string,iframe:string&gt;,id:bigint,is_locked:boolean,is_premium:boolean,is_quote:boolean,is_replies_disabled:boolean,is_reply:boolean,language:string,like_count:bigint,liked:boolean,nsfw:boolean,only_emoji:boolean,replies:struct&lt;data:array&lt;string&gt;&gt;,reply_count:bigint,reported:boolean,repost:boolean,repost_count:bigint,revised_at:string,score:bigint,user:struct&lt;id:bigint,is_donor:boolean,is_investor:boolean,is_premium:boolean,is_private:boolean,is_pro:boolean,name:string,picture_url:string,username:string,verified:boolean&gt;&gt;,quote_conversation_parent:struct&lt;attachment:struct&lt;type:string,value:string&gt;,body:string,body_html:string,body_html_summary:string,body_html_summary_truncated:boolean,bookmarked:boolean,category:string,category_details:string,created_at:string,dislike_count:bigint,disliked:boolean,edited:boolean,embed:struct&lt;html:string,iframe:string&gt;,id:bigint,is_locked:boolean,is_premium:boolean,is_quote:boolean,is_replies_disabled:boolean,is_reply:boolean,language:string,like_count:bigint,liked:boolean,nsfw:boolean,only_emoji:boolean,replies:struct&lt;data:array&lt;string&gt;&gt;,reply_count:bigint,reported:boolean,repost:boolean,repost_count:bigint,revised_at:string,score:bigint,user:struct&lt;id:bigint,is_donor:boolean,is_investor:boolean,is_premium:boolean,is_private:boolean,is_pro:boolean,name:string,picture_url:string,username:string,verified:boolean&gt;&gt;,replies:struct&lt;data:array&lt;string&gt;&gt;,reply_count:bigint,reported:boolean,repost:boolean,repost_count:bigint,revised_at:string,score:bigint,user:struct&lt;id:bigint,is_donor:boolean,is_investor:boolean,is_premium:boolean,is_private:boolean,is_pro:boolean,name:string,picture_url:string,username:string,verified:boolean&gt;&gt;,created_at:string,dislike_count:bigint,disliked:boolean,edited:boolean,embed:struct&lt;html:string,iframe:boolean&gt;,id:bigint,is_locked:boolean,is_premium:boolean,is_quote:boolean,is_replies_disabled:boolean,is_reply:boolean,language:string,like_count:bigint,liked:boolean,nsfw:boolean,only_emoji:boolean,parent:struct&lt;attachment:struct&lt;type:string,value:string&gt;,body:string,body_html:string,body_html_summary:string,body_html_summary_truncated:boolean,bookmarked:boolean,category:string,category_details:string,created_at:string,dislike_count:bigint,disliked:boolean,edited:boolean,embed:struct&lt;html:string,iframe:string&gt;,id:bigint,is_locked:boolean,is_premium:boolean,is_quote:boolean,is_replies_disabled:boolean,is_reply:boolean,language:string,like_count:bigint,liked:boolean,nsfw:boolean,only_emoji:boolean,replies:struct&lt;data:array&lt;string&gt;&gt;,reply_count:bigint,reported:boolean,repost:boolean,repost_count:bigint,revised_at:string,score:bigint,user:struct&lt;id:bigint,is_donor:boolean,is_investor:boolean,is_premium:boolean,is_private:boolean,is_pro:boolean,name:string,picture_url:string,username:string,verified:boolean&gt;&gt;,quote_conversation_parent:struct&lt;attachment:struct&lt;type:string,value:string&gt;,body:string,body_html:string,body_html_summary:string,body_html_summary_truncated:boolean,bookmarked:boolean,category:string,category_details:string,created_at:string,dislike_count:bigint,disliked:boolean,edited:boolean,embed:struct&lt;html:string,iframe:string&gt;,id:bigint,is_locked:boolean,is_premium:boolean,is_quote:boolean,is_replies_disabled:boolean,is_reply:boolean,language:string,like_count:bigint,liked:boolean,nsfw:boolean,only_emoji:boolean,replies:struct&lt;data:array&lt;string&gt;&gt;,reply_count:bigint,reported:boolean,repost:boolean,repost_count:bigint,revised_at:string,score:bigint,user:struct&lt;id:bigint,is_donor:boolean,is_investor:boolean,is_premium:boolean,is_private:boolean,is_pro:boolean,name:string,picture_url:string,username:string,verified:boolean&gt;&gt;,replies:struct&lt;data:array&lt;string&gt;&gt;,reply_count:bigint,reported:boolean,repost:boolean,repost_count:bigint,revised_at:string,score:bigint,user:struct&lt;id:bigint,is_donor:boolean,is_investor:boolean,is_premium:boolean,is_private:boolean,is_pro:boolean,name:string,picture_url:string,username:string,verified:boolean&gt;&gt;,created_at:string,dislike_count:bigint,disliked:boolean,edited:boolean,embed:struct&lt;html:string,iframe:string&gt;,id:bigint,is_locked:boolean,is_premium:boolean,is_quote:boolean,is_replies_disabled:boolean,is_reply:boolean,language:string,like_count:bigint,liked:boolean,nsfw:boolean,only_emoji:boolean,parent:struct&lt;attachment:struct&lt;type:string,value:struct&lt;description:string,image:string,source:string,title:string,url:string&gt;&gt;,body:string,body_html:string,body_html_summary:string,body_html_summary_truncated:boolean,bookmarked:boolean,category:string,category_details:string,created_at:string,dislike_count:bigint,disliked:boolean,edited:boolean,embed:struct&lt;html:string,iframe:boolean&gt;,id:bigint,is_locked:boolean,is_premium:boolean,is_quote:boolean,is_replies_disabled:boolean,is_reply:boolean,language:string,like_count:bigint,liked:boolean,nsfw:boolean,only_emoji:boolean,replies:struct&lt;data:array&lt;string&gt;&gt;,reply_count:bigint,reported:boolean,repost:boolean,repost_count:bigint,revised_at:string,score:bigint,user:struct&lt;id:bigint,is_donor:boolean,is_investor:boolean,is_premium:boolean,is_private:boolean,is_pro:boolean,name:string,picture_url:string,username:string,verified:boolean&gt;&gt;,quote_conversation_parent:struct&lt;attachment:struct&lt;type:string,value:string&gt;,body:string,body_html:string,body_html_summary:string,body_html_summary_truncated:boolean,bookmarked:boolean,category:string,category_details:string,created_at:string,dislike_count:bigint,disliked:boolean,edited:boolean,embed:struct&lt;html:string,iframe:string&gt;,id:bigint,is_locked:boolean,is_premium:boolean,is_quote:boolean,is_replies_disabled:boolean,is_reply:boolean,language:string,like_count:bigint,liked:boolean,nsfw:boolean,only_emoji:boolean,replies:struct&lt;data:array&lt;string&gt;&gt;,reply_count:bigint,reported:boolean,repost:boolean,repost_count:bigint,revised_at:string,score:bigint,user:struct&lt;id:bigint,is_donor:boolean,is_investor:boolean,is_premium:boolean,is_private:boolean,is_pro:boolean,name:string,picture_url:string,username:string,verified:boolean&gt;&gt;,replies:struct&lt;data:array&lt;string&gt;&gt;,reply_count:bigint,reported:boolean,repost:boolean,repost_count:bigint,revised_at:string,score:bigint,user:struct&lt;id:bigint,is_donor:boolean,is_investor:boolean,is_premium:boolean,is_private:boolean,is_pro:boolean,name:string,picture_url:string,username:string,verified:boolean&gt;&gt;,created_at:string,dislike_count:bigint,disliked:boolean,edited:boolean,embed:struct&lt;html:string,iframe:string&gt;,id:bigint,is_locked:boolean,is_premium:boolean,is_quote:boolean,is_replies_disabled:boolean,is_reply:boolean,language:string,like_count:bigint,liked:boolean,nsfw:boolean,only_emoji:boolean,parent:struct&lt;attachment:struct&lt;type:string,value:string&gt;,body:string,body_html:string,body_html_summary:string,body_html_summary_truncated:boolean,bookmarked:boolean,category:string,category_details:string,created_at:string,dislike_count:bigint,disliked:boolean,edited:boolean,embed:struct&lt;html:string,iframe:string&gt;,id:bigint,is_locked:boolean,is_premium:boolean,is_quote:boolean,is_replies_disabled:boolean,is_reply:boolean,language:string,like_count:bigint,liked:boolean,nsfw:boolean,only_emoji:boolean,replies:struct&lt;data:array&lt;string&gt;&gt;,reply_count:bigint,reported:boolean,repost:boolean,repost_count:bigint,revised_at:string,score:bigint,user:struct&lt;id:bigint,is_donor:boolean,is_investor:boolean,is_premium:boolean,is_private:boolean,is_pro:boolean,name:string,picture_url:string,username:string,verified:boolean&gt;&gt;,quote_conversation_parent:struct&lt;attachment:struct&lt;type:string,value:string&gt;,body:string,body_html:string,body_html_summary:string,body_html_summary_truncated:boolean,bookmarked:boolean,category:string,category_details:string,created_at:string,dislike_count:bigint,disliked:boolean,edited:boolean,embed:struct&lt;html:string,iframe:string&gt;,id:bigint,is_locked:boolean,is_premium:boolean,is_quote:boolean,is_replies_disabled:boolean,is_reply:boolean,language:string,like_count:bigint,liked:boolean,nsfw:boolean,only_emoji:boolean,replies:struct&lt;data:array&lt;string&gt;&gt;,reply_count:bigint,reported:boolean,repost:boolean,repost_count:bigint,revised_at:string,score:bigint,user:struct&lt;id:bigint,is_donor:boolean,is_investor:boolean,is_premium:boolean,is_private:boolean,is_pro:boolean,name:string,picture_url:string,username:string,verified:boolean&gt;&gt;,replies:struct&lt;data:array&lt;string&gt;&gt;,reply_count:bigint,reported:boolean,repost:boolean,repost_count:bigint,revised_at:string,score:bigint,user:struct&lt;id:bigint,is_donor:boolean,is_investor:boolean,is_premium:boolean,is_private:boolean,is_pro:boolean,name:string,picture_url:string,username:string,verified:boolean&gt;&gt;,created_at:string,dislike_count:bigint,disliked:boolean,edited:boolean,embed:struct&lt;html:string,iframe:string&gt;,id:bigint,is_locked:boolean,is_premium:boolean,is_quote:boolean,is_replies_disabled:boolean,is_reply:boolean,language:string,like_count:bigint,liked:boolean,nsfw:boolean,only_emoji:boolean,parent:struct&lt;attachment:struct&lt;type:string,value:string&gt;,body:string,body_html:string,body_html_summary:string,body_html_summary_truncated:boolean,bookmarked:boolean,category:string,category_details:string,created_at:string,dislike_count:bigint,disliked:boolean,edited:boolean,embed:struct&lt;html:string,iframe:string&gt;,id:bigint,is_locked:boolean,is_premium:boolean,is_quote:boolean,is_replies_disabled:boolean,is_reply:boolean,language:string,like_count:bigint,liked:boolean,nsfw:boolean,only_emoji:boolean,replies:struct&lt;data:array&lt;string&gt;&gt;,reply_count:bigint,reported:boolean,repost:boolean,repost_count:bigint,revised_at:string,score:bigint,user:struct&lt;id:bigint,is_donor:boolean,is_investor:boolean,is_premium:boolean,is_private:boolean,is_pro:boolean,name:string,picture_url:string,username:string,verified:boolean&gt;&gt;,quote_conversation_parent:struct&lt;attachment:struct&lt;type:string,value:string&gt;,body:string,body_html:string,body_html_summary:string,body_html_summary_truncated:boolean,bookmarked:boolean,category:string,category_details\n",
       "*** WARNING: skipped 142157 bytes of output ***\n",
       "\n",
       " (&#39;created_at&#39;, &#39;string&#39;),\n",
       " (&#39;dislike_count&#39;, &#39;bigint&#39;),\n",
       " (&#39;disliked&#39;, &#39;boolean&#39;),\n",
       " (&#39;edited&#39;, &#39;boolean&#39;),\n",
       " (&#39;embed&#39;, &#39;struct&lt;html:string,iframe:boolean&gt;&#39;),\n",
       " (&#39;id&#39;, &#39;bigint&#39;),\n",
       " (&#39;is_locked&#39;, &#39;boolean&#39;),\n",
       " (&#39;is_premium&#39;, &#39;boolean&#39;),\n",
       " (&#39;is_quote&#39;, &#39;boolean&#39;),\n",
       " (&#39;is_replies_disabled&#39;, &#39;boolean&#39;),\n",
       " (&#39;is_reply&#39;, &#39;boolean&#39;),\n",
       " (&#39;language&#39;, &#39;string&#39;),\n",
       " (&#39;like_count&#39;, &#39;bigint&#39;),\n",
       " (&#39;liked&#39;, &#39;boolean&#39;),\n",
       " (&#39;nsfw&#39;, &#39;boolean&#39;),\n",
       " (&#39;only_emoji&#39;, &#39;boolean&#39;),\n",
       " (&#39;parent&#39;,\n",
       "  &#39;struct&lt;attachment:struct&lt;type:string,value:string&gt;,body:string,body_html:string,body_html_summary:string,body_html_summary_truncated:boolean,bookmarked:boolean,category:bigint,category_details:struct&lt;emoji:string,slug:string,title:string,value:bigint&gt;,conversation_parent:struct&lt;attachment:struct&lt;type:string,value:array&lt;struct&lt;height:bigint,id:string,url_full:string,url_thumbnail:string,width:bigint&gt;&gt;&gt;,body:string,body_html:string,body_html_summary:string,body_html_summary_truncated:boolean,bookmarked:boolean,category:bigint,category_details:struct&lt;emoji:string,slug:string,title:string,value:bigint&gt;,conversation_parent:struct&lt;attachment:struct&lt;type:string,value:string&gt;,body:string,body_html:string,body_html_summary:string,body_html_summary_truncated:boolean,bookmarked:boolean,category:bigint,category_details:struct&lt;emoji:string,slug:string,title:string,value:bigint&gt;,conversation_parent:struct&lt;attachment:struct&lt;type:string,value:string&gt;,body:string,body_html:string,body_html_summary:string,body_html_summary_truncated:boolean,bookmarked:boolean,category:string,category_details:string,conversation_parent:struct&lt;attachment:struct&lt;type:string,value:string&gt;,body:string,body_html:string,body_html_summary:string,body_html_summary_truncated:boolean,bookmarked:boolean,category:string,category_details:string,conversation_parent:struct&lt;attachment:struct&lt;type:string,value:string&gt;,body:string,body_html:string,body_html_summary:string,body_html_summary_truncated:boolean,bookmarked:boolean,category:string,category_details:string,conversation_parent:struct&lt;attachment:struct&lt;type:string,value:string&gt;,body:string,body_html:string,body_html_summary:string,body_html_summary_truncated:boolean,bookmarked:boolean,category:string,category_details:string,conversation_parent:struct&lt;attachment:struct&lt;type:string,value:string&gt;,body:string,body_html:string,body_html_summary:string,body_html_summary_truncated:boolean,bookmarked:boolean,category:string,category_details:string,created_at:string,dislike_count:bigint,disliked:boolean,edited:boolean,embed:struct&lt;html:string,iframe:string&gt;,id:bigint,is_locked:boolean,is_premium:boolean,is_quote:boolean,is_replies_disabled:boolean,is_reply:boolean,language:string,like_count:bigint,liked:boolean,nsfw:boolean,only_emoji:boolean,replies:struct&lt;data:array&lt;string&gt;&gt;,reply_count:bigint,reported:boolean,repost:boolean,repost_count:bigint,revised_at:string,score:bigint,user:struct&lt;id:bigint,is_donor:boolean,is_investor:boolean,is_premium:boolean,is_private:boolean,is_pro:boolean,name:string,picture_url:string,username:string,verified:boolean&gt;&gt;,created_at:string,dislike_count:bigint,disliked:boolean,edited:boolean,embed:struct&lt;html:string,iframe:string&gt;,id:bigint,is_locked:boolean,is_premium:boolean,is_quote:boolean,is_replies_disabled:boolean,is_reply:boolean,language:string,like_count:bigint,liked:boolean,nsfw:boolean,only_emoji:boolean,parent:struct&lt;attachment:struct&lt;type:string,value:string&gt;,body:string,body_html:string,body_html_summary:string,body_html_summary_truncated:boolean,bookmarked:boolean,category:string,category_details:string,created_at:string,dislike_count:bigint,disliked:boolean,edited:boolean,embed:struct&lt;html:string,iframe:string&gt;,id:bigint,is_locked:boolean,is_premium:boolean,is_quote:boolean,is_replies_disabled:boolean,is_reply:boolean,language:string,like_count:bigint,liked:boolean,nsfw:boolean,only_emoji:boolean,replies:struct&lt;data:array&lt;string&gt;&gt;,reply_count:bigint,reported:boolean,repost:boolean,repost_count:bigint,revised_at:string,score:bigint,user:struct&lt;id:bigint,is_donor:boolean,is_investor:boolean,is_premium:boolean,is_private:boolean,is_pro:boolean,name:string,picture_url:string,username:string,verified:boolean&gt;&gt;,replies:struct&lt;data:array&lt;string&gt;&gt;,reply_count:bigint,reported:boolean,repost:boolean,repost_count:bigint,revised_at:string,score:bigint,user:struct&lt;id:bigint,is_donor:boolean,is_investor:boolean,is_premium:boolean,is_private:boolean,is_pro:boolean,name:string,picture_url:string,username:string,verified:boolean&gt;&gt;,created_at:string,dislike_count:bigint,disliked:boolean,edited:boolean,embed:struct&lt;html:string,iframe:string&gt;,id:bigint,is_locked:boolean,is_premium:boolean,is_quote:boolean,is_replies_disabled:boolean,is_reply:boolean,language:string,like_count:bigint,liked:boolean,nsfw:boolean,only_emoji:boolean,parent:struct&lt;attachment:struct&lt;type:string,value:string&gt;,body:string,body_html:string,body_html_summary:string,body_html_summary_truncated:boolean,bookmarked:boolean,category:string,category_details:string,created_at:string,dislike_count:bigint,disliked:boolean,edited:boolean,embed:struct&lt;html:string,iframe:string&gt;,id:bigint,is_locked:boolean,is_premium:boolean,is_quote:boolean,is_replies_disabled:boolean,is_reply:boolean,language:string,like_count:bigint,liked:boolean,nsfw:boolean,only_emoji:boolean,replies:struct&lt;data:array&lt;string&gt;&gt;,reply_count:bigint,reported:boolean,repost:boolean,repost_count:bigint,revised_at:string,score:bigint,user:struct&lt;id:bigint,is_donor:boolean,is_investor:boolean,is_premium:boolean,is_private:boolean,is_pro:boolean,name:string,picture_url:string,username:string,verified:boolean&gt;&gt;,quote_conversation_parent:struct&lt;attachment:struct&lt;type:string,value:string&gt;,body:string,body_html:string,body_html_summary:string,body_html_summary_truncated:boolean,bookmarked:boolean,category:string,category_details:string,created_at:string,dislike_count:bigint,disliked:boolean,edited:boolean,embed:struct&lt;html:string,iframe:string&gt;,id:bigint,is_locked:boolean,is_premium:boolean,is_quote:boolean,is_replies_disabled:boolean,is_reply:boolean,language:string,like_count:bigint,liked:boolean,nsfw:boolean,only_emoji:boolean,replies:struct&lt;data:array&lt;string&gt;&gt;,reply_count:bigint,reported:boolean,repost:boolean,repost_count:bigint,revised_at:string,score:bigint,user:struct&lt;id:bigint,is_donor:boolean,is_investor:boolean,is_premium:boolean,is_private:boolean,is_pro:boolean,name:string,picture_url:string,username:string,verified:boolean&gt;&gt;,replies:struct&lt;data:array&lt;string&gt;&gt;,reply_count:bigint,reported:boolean,repost:boolean,repost_count:bigint,revised_at:string,score:bigint,user:struct&lt;id:bigint,is_donor:boolean,is_investor:boolean,is_premium:boolean,is_private:boolean,is_pro:boolean,name:string,picture_url:string,username:string,verified:boolean&gt;&gt;,created_at:string,dislike_count:bigint,disliked:boolean,edited:boolean,embed:struct&lt;html:string,iframe:string&gt;,id:bigint,is_locked:boolean,is_premium:boolean,is_quote:boolean,is_replies_disabled:boolean,is_reply:boolean,language:string,like_count:bigint,liked:boolean,nsfw:boolean,only_emoji:boolean,parent:struct&lt;attachment:struct&lt;type:string,value:string&gt;,body:string,body_html:string,body_html_summary:string,body_html_summary_truncated:boolean,bookmarked:boolean,category:string,category_details:string,created_at:string,dislike_count:bigint,disliked:boolean,edited:boolean,embed:struct&lt;html:string,iframe:string&gt;,id:bigint,is_locked:boolean,is_premium:boolean,is_quote:boolean,is_replies_disabled:boolean,is_reply:boolean,language:string,like_count:bigint,liked:boolean,nsfw:boolean,only_emoji:boolean,replies:struct&lt;data:array&lt;string&gt;&gt;,reply_count:bigint,reported:boolean,repost:boolean,repost_count:bigint,revised_at:string,score:bigint,user:struct&lt;id:bigint,is_donor:boolean,is_investor:boolean,is_premium:boolean,is_private:boolean,is_pro:boolean,name:string,picture_url:string,username:string,verified:boolean&gt;&gt;,replies:struct&lt;data:array&lt;string&gt;&gt;,reply_count:bigint,reported:boolean,repost:boolean,repost_count:bigint,revised_at:string,score:bigint,user:struct&lt;id:bigint,is_donor:boolean,is_investor:boolean,is_premium:boolean,is_private:boolean,is_pro:boolean,name:string,picture_url:string,username:string,verified:boolean&gt;&gt;,created_at:string,dislike_count:bigint,disliked:boolean,edited:boolean,embed:struct&lt;html:string,iframe:string&gt;,id:bigint,is_locked:boolean,is_premium:boolean,is_quote:boolean,is_replies_disabled:boolean,is_reply:boolean,language:string,like_count:bigint,liked:boolean,nsfw:boolean,only_emoji:boolean,parent:struct&lt;attachment:struct&lt;type:string,value:string&gt;,body:string,body_html:string,body_html_summary:string,body_html_summary_truncated:boolean,bookmarked:boolean,category:string,category_details:string,created_at:string,dislike_count:bigint,disliked:boolean,edited:boolean,embed:struct&lt;html:string,iframe:string&gt;,id:bigint,is_locked:boolean,is_premium:boolean,is_quote:boolean,is_replies_disabled:boolean,is_reply:boolean,language:string,like_count:bigint,liked:boolean,nsfw:boolean,only_emoji:boolean,replies:struct&lt;data:array&lt;string&gt;&gt;,reply_count:bigint,reported:boolean,repost:boolean,repost_count:bigint,revised_at:string,score:bigint,user:struct&lt;id:bigint,is_donor:boolean,is_investor:boolean,is_premium:boolean,is_private:boolean,is_pro:boolean,name:string,picture_url:string,username:string,verified:boolean&gt;&gt;,replies:struct&lt;data:array&lt;string&gt;&gt;,reply_count:bigint,reported:boolean,repost:boolean,repost_count:bigint,revised_at:string,score:bigint,user:struct&lt;id:bigint,is_donor:boolean,is_investor:boolean,is_premium:boolean,is_private:boolean,is_pro:boolean,name:string,picture_url:string,username:string,verified:boolean&gt;&gt;,created_at:string,dislike_count:bigint,disliked:boolean,edited:boolean,embed:struct&lt;html:string,iframe:boolean&gt;,id:bigint,is_locked:boolean,is_premium:boolean,is_quote:boolean,is_replies_disabled:boolean,is_reply:boolean,language:string,like_count:bigint,liked:boolean,nsfw:boolean,only_emoji:boolean,parent:struct&lt;attachment:struct&lt;type:string,value:string&gt;,body:string,body_html:string,body_html_summary:string,body_html_summary_truncated:boolean,bookmarked:boolean,category:string,category_details:string,created_at:string,dislike_count:bigint,disliked:boolean,edited:boolean,embed:struct&lt;html:string,iframe:string&gt;,id:bigint,is_locked:boolean,is_premium:boolean,is_quote:boolean,is_replies_disabled:boolean,is_reply:boolean,language:string,like_count:bigint,liked:boolean,nsfw:boolean,only_emoji:boolean,replies:struct&lt;data:array&lt;string&gt;&gt;,reply_count:bigint,reported:boolean,repost:boolean,repost_count:bigint,revised_at:string,score:bigint,user:struct&lt;id:bigint,is_donor:boolean,is_investor:boolean,is_premium:boolean,is_private:boolean,is_pro:boolean,name:string,picture_url:string,username:string,verified:boolean&gt;&gt;,quote_conversation_parent:struct&lt;attachment:struct&lt;type:string,value:string&gt;,body:string,body_html:string,body_html_summary:string,body_html_summary_truncated:boolean,bookmarked:boolean,category:string,category_details:string,created_at:string,dislike_count:bigint,disliked:boolean,edited:boolean,embed:struct&lt;html:string,iframe:string&gt;,id:bigint,is_locked:boolean,is_premium:boolean,is_quote:boolean,is_replies_disabled:boolean,is_reply:boolean,language:string,like_count:bigint,liked:boolean,nsfw:boolean,only_emoji:boolean,replies:struct&lt;data:array&lt;string&gt;&gt;,reply_count:bigint,reported:boolean,repost:boolean,repost_count:bigint,revised_at:string,score:bigint,user:struct&lt;id:bigint,is_donor:boolean,is_investor:boolean,is_premium:boolean,is_private:boolean,is_pro:boolean,name:string,picture_url:string,username:string,verified:boolean&gt;&gt;,replies:struct&lt;data:array&lt;string&gt;&gt;,reply_count:bigint,reported:boolean,repost:boolean,repost_count:bigint,revised_at:string,score:bigint,topic:struct&lt;category:bigint,created_at:string,id:string,is_featured:boolean,title:string&gt;,user:struct&lt;id:bigint,is_donor:boolean,is_investor:boolean,is_premium:boolean,is_private:boolean,is_pro:boolean,name:string,picture_url:string,username:string,verified:boolean&gt;&gt;,created_at:string,dislike_count:bigint,disliked:boolean,edited:boolean,embed:struct&lt;html:string,iframe:string&gt;,id:bigint,is_locked:boolean,is_premium:boolean,is_quote:boolean,is_replies_disabled:boolean,is_reply:boolean,language:string,like_count:bigint,liked:boolean,nsfw:boolean,only_emoji:boolean,parent:struct&lt;attachment:struct&lt;type:string,value:string&gt;,body:string,body_html:string,body_html_summary:string,body_html_summary_truncated:boolean,bookmarked:boolean,category:bigint,category_details:struct&lt;emoji:string,slug:string,title:string,value:bigint&gt;,created_at:string,dislike_count:bigint,disliked:boolean,edited:boolean,embed:struct&lt;html:string,iframe:boolean&gt;,id:bigint,is_locked:boolean,is_premium:boolean,is_quote:boolean,is_replies_disabled:boolean,is_reply:boolean,language:string,like_count:bigint,liked:boolean,nsfw:boolean,only_emoji:boolean,replies:struct&lt;data:array&lt;string&gt;&gt;,reply_count:bigint,reported:boolean,repost:boolean,repost_count:bigint,revised_at:string,score:bigint,topic:struct&lt;category:bigint,created_at:string,id:string,is_featured:boolean,title:string&gt;,user:struct&lt;id:bigint,is_donor:boolean,is_investor:boolean,is_premium:boolean,is_private:boolean,is_pro:boolean,name:string,picture_url:string,username:string,verified:boolean&gt;&gt;,replies:struct&lt;data:array&lt;string&gt;&gt;,reply_count:bigint,reported:boolean,repost:boolean,repost_count:bigint,revised_at:string,score:bigint,topic:struct&lt;category:bigint,created_at:string,id:string,is_featured:boolean,title:string,user:struct&lt;id:bigint,is_donor:boolean,is_investor:boolean,is_premium:boolean,is_private:boolean,is_pro:boolean,name:string,picture_url:string,username:string,verified:boolean&gt;&gt;,user:struct&lt;id:bigint,is_donor:boolean,is_investor:boolean,is_premium:boolean,is_private:boolean,is_pro:boolean,name:string,picture_url:string,username:string,verified:boolean&gt;&gt;,created_at:string,dislike_count:bigint,disliked:boolean,edited:boolean,embed:struct&lt;html:string,iframe:boolean&gt;,id:bigint,is_locked:boolean,is_premium:boolean,is_quote:boolean,is_replies_disabled:boolean,is_reply:boolean,language:string,like_count:bigint,liked:boolean,nsfw:boolean,only_emoji:boolean,poll:struct&lt;option_1_title:string,option_1_votes:bigint,option_2_title:string,option_2_votes:bigint,option_3_title:string,option_3_votes:bigint,option_4_title:string,option_4_votes:bigint,option_5_title:string,option_5_votes:bigint,total_votes:bigint,voted_option:string&gt;,replies:struct&lt;data:array&lt;string&gt;&gt;,reply_count:bigint,reported:boolean,repost:boolean,repost_count:bigint,revised_at:string,score:bigint,topic:struct&lt;category:bigint,created_at:string,id:string,is_featured:boolean,title:string,user:struct&lt;id:bigint,is_donor:boolean,is_investor:boolean,is_premium:boolean,is_private:boolean,is_pro:boolean,name:string,picture_url:string,username:string,verified:boolean&gt;&gt;,user:struct&lt;id:bigint,is_donor:boolean,is_investor:boolean,is_premium:boolean,is_private:boolean,is_pro:boolean,name:string,picture_url:string,username:string,verified:boolean&gt;&gt;&#39;),\n",
       " (&#39;poll&#39;,\n",
       "  &#39;struct&lt;option_1_title:string,option_1_votes:bigint,option_2_title:string,option_2_votes:bigint,option_3_title:string,option_3_votes:bigint,option_4_title:string,option_4_votes:bigint,option_5_title:string,option_5_votes:bigint,total_votes:bigint,voted_option:string&gt;&#39;),\n",
       " (&#39;quote_conversation_parent&#39;,\n",
       "  &#39;struct&lt;attachment:struct&lt;type:string,value:string&gt;,body:string,body_html:string,body_html_summary:string,body_html_summary_truncated:boolean,bookmarked:boolean,category:bigint,category_details:struct&lt;emoji:string,slug:string,title:string,value:bigint&gt;,created_at:string,dislike_count:bigint,disliked:boolean,edited:boolean,embed:struct&lt;html:string,iframe:boolean&gt;,id:bigint,is_locked:boolean,is_premium:boolean,is_quote:boolean,is_replies_disabled:boolean,is_reply:boolean,language:string,like_count:bigint,liked:boolean,nsfw:boolean,only_emoji:boolean,poll:struct&lt;option_1_title:string,option_1_votes:bigint,option_2_title:string,option_2_votes:bigint,option_3_title:string,option_3_votes:bigint,option_4_title:string,option_4_votes:bigint,option_5_title:string,option_5_votes:bigint,total_votes:bigint,voted_option:string&gt;,replies:struct&lt;data:array&lt;string&gt;&gt;,reply_count:bigint,reported:boolean,repost:boolean,repost_count:bigint,revised_at:string,score:bigint,topic:struct&lt;category:bigint,created_at:string,id:string,is_featured:boolean,title:string,user:struct&lt;id:bigint,is_donor:boolean,is_investor:boolean,is_premium:boolean,is_private:boolean,is_pro:boolean,name:string,picture_url:string,username:string,verified:boolean&gt;&gt;,user:struct&lt;id:bigint,is_donor:boolean,is_investor:boolean,is_premium:boolean,is_private:boolean,is_pro:boolean,name:string,picture_url:string,username:string,verified:boolean&gt;&gt;&#39;),\n",
       " (&#39;replies&#39;, &#39;struct&lt;data:array&lt;string&gt;&gt;&#39;),\n",
       " (&#39;reply_count&#39;, &#39;bigint&#39;),\n",
       " (&#39;reported&#39;, &#39;boolean&#39;),\n",
       " (&#39;repost&#39;, &#39;boolean&#39;),\n",
       " (&#39;repost_count&#39;, &#39;bigint&#39;),\n",
       " (&#39;revised_at&#39;, &#39;string&#39;),\n",
       " (&#39;score&#39;, &#39;bigint&#39;),\n",
       " (&#39;topic&#39;,\n",
       "  &#39;struct&lt;category:bigint,created_at:string,id:string,is_featured:boolean,title:string,user:struct&lt;id:bigint,is_donor:boolean,is_investor:boolean,is_premium:boolean,is_private:boolean,is_pro:boolean,name:string,picture_url:string,username:string,verified:boolean&gt;&gt;&#39;),\n",
       " (&#39;user&#39;,\n",
       "  &#39;struct&lt;id:bigint,is_donor:boolean,is_investor:boolean,is_premium:boolean,is_private:boolean,is_pro:boolean,name:string,picture_url:string,username:string,verified:boolean&gt;&#39;)]</div>"
      ]
     },
     "metadata": {
      "application/vnd.databricks.v1+output": {
       "addedWidgets": {},
       "arguments": {},
       "data": "<div class=\"ansiout\">Out[6]: [(&#39;_corrupt_record&#39;, &#39;string&#39;),\n (&#39;attachment&#39;, &#39;struct&lt;type:string,value:string&gt;&#39;),\n (&#39;body&#39;, &#39;string&#39;),\n (&#39;body_html&#39;, &#39;string&#39;),\n (&#39;body_html_summary&#39;, &#39;string&#39;),\n (&#39;body_html_summary_truncated&#39;, &#39;boolean&#39;),\n (&#39;bookmarked&#39;, &#39;boolean&#39;),\n (&#39;category&#39;, &#39;bigint&#39;),\n (&#39;category_details&#39;,\n  &#39;struct&lt;emoji:string,slug:string,title:string,value:bigint&gt;&#39;),\n (&#39;conversation_parent&#39;,\n  &#39;struct&lt;attachment:struct&lt;type:string,value:string&gt;,body:string,body_html:string,body_html_summary:string,body_html_summary_truncated:boolean,bookmarked:boolean,category:bigint,category_details:struct&lt;emoji:string,slug:string,title:string,value:bigint&gt;,conversation_parent:struct&lt;attachment:struct&lt;type:string,value:string&gt;,body:string,body_html:string,body_html_summary:string,body_html_summary_truncated:boolean,bookmarked:boolean,category:bigint,category_details:struct&lt;emoji:string,slug:string,title:string,value:bigint&gt;,conversation_parent:struct&lt;attachment:struct&lt;type:string,value:string&gt;,body:string,body_html:string,body_html_summary:string,body_html_summary_truncated:boolean,bookmarked:boolean,category:bigint,category_details:struct&lt;emoji:string,slug:string,title:string,value:bigint&gt;,conversation_parent:struct&lt;attachment:struct&lt;type:string,value:string&gt;,body:string,body_html:string,body_html_summary:string,body_html_summary_truncated:boolean,bookmarked:boolean,category:bigint,category_details:struct&lt;emoji:string,slug:string,title:string,value:bigint&gt;,conversation_parent:struct&lt;attachment:struct&lt;type:string,value:string&gt;,body:string,body_html:string,body_html_summary:string,body_html_summary_truncated:boolean,bookmarked:boolean,category:bigint,category_details:struct&lt;emoji:string,slug:string,title:string,value:bigint&gt;,conversation_parent:struct&lt;attachment:struct&lt;type:string,value:string&gt;,body:string,body_html:string,body_html_summary:string,body_html_summary_truncated:boolean,bookmarked:boolean,category:bigint,category_details:struct&lt;emoji:string,slug:string,title:string,value:bigint&gt;,conversation_parent:struct&lt;attachment:struct&lt;type:string,value:string&gt;,body:string,body_html:string,body_html_summary:string,body_html_summary_truncated:boolean,bookmarked:boolean,category:bigint,category_details:struct&lt;emoji:string,slug:string,title:string,value:bigint&gt;,conversation_parent:struct&lt;attachment:struct&lt;type:string,value:string&gt;,body:string,body_html:string,body_html_summary:string,body_html_summary_truncated:boolean,bookmarked:boolean,category:bigint,category_details:struct&lt;emoji:string,slug:string,title:string,value:bigint&gt;,conversation_parent:struct&lt;attachment:struct&lt;type:string,value:string&gt;,body:string,body_html:string,body_html_summary:string,body_html_summary_truncated:boolean,bookmarked:boolean,category:bigint,category_details:struct&lt;emoji:string,slug:string,title:string,value:bigint&gt;,conversation_parent:struct&lt;attachment:struct&lt;type:string,value:string&gt;,body:string,body_html:string,body_html_summary:string,body_html_summary_truncated:boolean,bookmarked:boolean,category:bigint,category_details:struct&lt;emoji:string,slug:string,title:string,value:bigint&gt;,conversation_parent:struct&lt;attachment:struct&lt;type:string,value:string&gt;,body:string,body_html:string,body_html_summary:string,body_html_summary_truncated:boolean,bookmarked:boolean,category:bigint,category_details:struct&lt;emoji:string,slug:string,title:string,value:bigint&gt;,conversation_parent:struct&lt;attachment:struct&lt;type:string,value:string&gt;,body:string,body_html:string,body_html_summary:string,body_html_summary_truncated:boolean,bookmarked:boolean,category:bigint,category_details:struct&lt;emoji:string,slug:string,title:string,value:bigint&gt;,conversation_parent:struct&lt;attachment:struct&lt;type:string,value:string&gt;,body:string,body_html:string,body_html_summary:string,body_html_summary_truncated:boolean,bookmarked:boolean,category:bigint,category_details:struct&lt;emoji:string,slug:string,title:string,value:bigint&gt;,conversation_parent:struct&lt;attachment:struct&lt;type:string,value:string&gt;,body:string,body_html:string,body_html_summary:string,body_html_summary_truncated:boolean,bookmarked:boolean,category:bigint,category_details:struct&lt;emoji:string,slug:string,title:string,value:bigint&gt;,conversation_parent:struct&lt;attachment:struct&lt;type:string,value:string&gt;,body:string,body_html:string,body_html_summary:string,body_html_summary_truncated:boolean,bookmarked:boolean,category:bigint,category_details:struct&lt;emoji:string,slug:string,title:string,value:bigint&gt;,conversation_parent:struct&lt;attachment:struct&lt;type:string,value:string&gt;,body:string,body_html:string,body_html_summary:string,body_html_summary_truncated:boolean,bookmarked:boolean,category:bigint,category_details:struct&lt;emoji:string,slug:string,title:string,value:bigint&gt;,conversation_parent:struct&lt;attachment:struct&lt;type:string,value:string&gt;,body:string,body_html:string,body_html_summary:string,body_html_summary_truncated:boolean,bookmarked:boolean,category:bigint,category_details:struct&lt;emoji:string,slug:string,title:string,value:bigint&gt;,conversation_parent:struct&lt;attachment:struct&lt;type:string,value:string&gt;,body:string,body_html:string,body_html_summary:string,body_html_summary_truncated:boolean,bookmarked:boolean,category:bigint,category_details:struct&lt;emoji:string,slug:string,title:string,value:bigint&gt;,conversation_parent:struct&lt;attachment:struct&lt;type:string,value:string&gt;,body:string,body_html:string,body_html_summary:string,body_html_summary_truncated:boolean,bookmarked:boolean,category:bigint,category_details:struct&lt;emoji:string,slug:string,title:string,value:bigint&gt;,conversation_parent:struct&lt;attachment:struct&lt;type:string,value:string&gt;,body:string,body_html:string,body_html_summary:string,body_html_summary_truncated:boolean,bookmarked:boolean,category:bigint,category_details:struct&lt;emoji:string,slug:string,title:string,value:bigint&gt;,conversation_parent:struct&lt;attachment:struct&lt;type:string,value:string&gt;,body:string,body_html:string,body_html_summary:string,body_html_summary_truncated:boolean,bookmarked:boolean,category:bigint,category_details:struct&lt;emoji:string,slug:string,title:string,value:bigint&gt;,conversation_parent:struct&lt;attachment:struct&lt;type:string,value:string&gt;,body:string,body_html:string,body_html_summary:string,body_html_summary_truncated:boolean,bookmarked:boolean,category:bigint,category_details:struct&lt;emoji:string,slug:string,title:string,value:bigint&gt;,conversation_parent:struct&lt;attachment:struct&lt;type:string,value:string&gt;,body:string,body_html:string,body_html_summary:string,body_html_summary_truncated:boolean,bookmarked:boolean,category:bigint,category_details:struct&lt;emoji:string,slug:string,title:string,value:bigint&gt;,conversation_parent:struct&lt;attachment:struct&lt;type:string,value:string&gt;,body:string,body_html:string,body_html_summary:string,body_html_summary_truncated:boolean,bookmarked:boolean,category:bigint,category_details:struct&lt;emoji:string,slug:string,title:string,value:bigint&gt;,conversation_parent:struct&lt;attachment:struct&lt;type:string,value:string&gt;,body:string,body_html:string,body_html_summary:string,body_html_summary_truncated:boolean,bookmarked:boolean,category:bigint,category_details:struct&lt;emoji:string,slug:string,title:string,value:bigint&gt;,conversation_parent:struct&lt;attachment:struct&lt;type:string,value:string&gt;,body:string,body_html:string,body_html_summary:string,body_html_summary_truncated:boolean,bookmarked:boolean,category:bigint,category_details:struct&lt;emoji:string,slug:string,title:string,value:bigint&gt;,conversation_parent:struct&lt;attachment:struct&lt;type:string,value:string&gt;,body:string,body_html:string,body_html_summary:string,body_html_summary_truncated:boolean,bookmarked:boolean,category:bigint,category_details:struct&lt;emoji:string,slug:string,title:string,value:bigint&gt;,conversation_parent:struct&lt;attachment:struct&lt;type:string,value:string&gt;,body:string,body_html:string,body_html_summary:string,body_html_summary_truncated:boolean,bookmarked:boolean,category:bigint,category_details:struct&lt;emoji:string,slug:string,title:string,value:bigint&gt;,conversation_parent:struct&lt;attachment:struct&lt;type:string,value:string&gt;,body:string,body_html:string,body_html_summary:string,body_html_summary_truncated:boolean,bookmarked:boolean,category:bigint,category_details:struct&lt;emoji:string,slug:string,title:string,value:bigint&gt;,conversation_parent:struct&lt;attachment:struct&lt;type:string,value:string&gt;,body:string,body_html:string,body_html_summary:string,body_html_summary_truncated:boolean,bookmarked:boolean,category:bigint,category_details:struct&lt;emoji:string,slug:string,title:string,value:bigint&gt;,conversation_parent:struct&lt;attachment:struct&lt;type:string,value:string&gt;,body:string,body_html:string,body_html_summary:string,body_html_summary_truncated:boolean,bookmarked:boolean,category:bigint,category_details:struct&lt;emoji:string,slug:string,title:string,value:bigint&gt;,conversation_parent:struct&lt;attachment:struct&lt;type:string,value:string&gt;,body:string,body_html:string,body_html_summary:string,body_html_summary_truncated:boolean,bookmarked:boolean,category:bigint,category_details:struct&lt;emoji:string,slug:string,title:string,value:bigint&gt;,conversation_parent:struct&lt;attachment:struct&lt;type:string,value:string&gt;,body:string,body_html:string,body_html_summary:string,body_html_summary_truncated:boolean,bookmarked:boolean,category:bigint,category_details:struct&lt;emoji:string,slug:string,title:string,value:bigint&gt;,conversation_parent:struct&lt;attachment:struct&lt;type:string,value:string&gt;,body:string,body_html:string,body_html_summary:string,body_html_summary_truncated:boolean,bookmarked:boolean,category:bigint,category_details:struct&lt;emoji:string,slug:string,title:string,value:bigint&gt;,conversation_parent:struct&lt;attachment:struct&lt;type:string,value:string&gt;,body:string,body_html:string,body_html_summary:string,body_html_summary_truncated:boolean,bookmarked:boolean,category:bigint,category_details:struct&lt;emoji:string,slug:string,title:string,value:bigint&gt;,conversation_parent:struct&lt;attachment:struct&lt;type:string,value:string&gt;,body:string,body_html:string,body_html_summary:string,body_html_summary_truncated:boolean,bookmarked:boolean,category:string,category_details:string,conversation_parent:struct&lt;attachment:struct&lt;type:string,value:string&gt;,body:string,body_html:string,body_html_summary:string,body_html_summary_truncated:boolean,bookmarked:boolean,category:string,category_details:string,conversation_parent:struct&lt;attachment:struct&lt;type:string,value:string&gt;,body:string,body_html:string,body_html_summary:string,body_html_summary_truncated:boolean,bookmarked:boolean,category:string,category_details:string,conversation_parent:struct&lt;attachment:struct&lt;type:string,value:string&gt;,body:string,body_html:string,body_html_summary:string,body_html_summary_truncated:boolean,bookmarked:boolean,category:string,category_details:string,conversation_parent:struct&lt;attachment:struct&lt;type:string,value:string&gt;,body:string,body_html:string,body_html_summary:string,body_html_summary_truncated:boolean,bookmarked:boolean,category:string,category_details:string,conversation_parent:struct&lt;attachment:struct&lt;type:string,value:string&gt;,body:string,body_html:string,body_html_summary:string,body_html_summary_truncated:boolean,bookmarked:boolean,category:string,category_details:string,conversation_parent:struct&lt;attachment:struct&lt;type:string,value:string&gt;,body:string,body_html:string,body_html_summary:string,body_html_summary_truncated:boolean,bookmarked:boolean,category:string,category_details:string,conversation_parent:struct&lt;attachment:struct&lt;type:string,value:string&gt;,body:string,body_html:string,body_html_summary:string,body_html_summary_truncated:boolean,bookmarked:boolean,category:string,category_details:string,conversation_parent:struct&lt;attachment:struct&lt;type:string,value:string&gt;,body:string,body_html:string,body_html_summary:string,body_html_summary_truncated:boolean,bookmarked:boolean,category:string,category_details:string,conversation_parent:struct&lt;attachment:struct&lt;type:string,value:struct&lt;description:string,image:string,source:string,title:string,url:string&gt;&gt;,body:string,body_html:string,body_html_summary:string,body_html_summary_truncated:boolean,bookmarked:boolean,category:string,category_details:string,conversation_parent:struct&lt;attachment:struct&lt;type:string,value:struct&lt;description:string,image:string,source:string,title:string,url:string&gt;&gt;,body:string,body_html:string,body_html_summary:string,body_html_summary_truncated:boolean,bookmarked:boolean,category:string,category_details:string,conversation_parent:struct&lt;attachment:struct&lt;type:string,value:string&gt;,body:string,body_html:string,body_html_summary:string,body_html_summary_truncated:boolean,bookmarked:boolean,category:string,category_details:string,conversation_parent:struct&lt;attachment:struct&lt;type:string,value:string&gt;,body:string,body_html:string,body_html_summary:string,body_html_summary_truncated:boolean,bookmarked:boolean,category:string,category_details:string,conversation_parent:struct&lt;attachment:struct&lt;type:string,value:string&gt;,body:string,body_html:string,body_html_summary:string,body_html_summary_truncated:boolean,bookmarked:boolean,category:string,category_details:string,conversation_parent:struct&lt;attachment:struct&lt;type:string,value:array&lt;struct&lt;height:bigint,id:string,url_full:string,url_thumbnail:string,width:bigint&gt;&gt;&gt;,body:string,body_html:string,body_html_summary:string,body_html_summary_truncated:boolean,bookmarked:boolean,category:string,category_details:string,conversation_parent:struct&lt;attachment:struct&lt;type:string,value:string&gt;,body:string,body_html:string,body_html_summary:string,body_html_summary_truncated:boolean,bookmarked:boolean,category:string,category_details:string,conversation_parent:struct&lt;attachment:struct&lt;type:string,value:string&gt;,body:string,body_html:string,body_html_summary:string,body_html_summary_truncated:boolean,bookmarked:boolean,category:string,category_details:string,conversation_parent:struct&lt;attachment:struct&lt;type:string,value:struct&lt;description:string,image:string,source:string,title:string,url:string&gt;&gt;,body:string,body_html:string,body_html_summary:string,body_html_summary_truncated:boolean,bookmarked:boolean,category:string,category_details:string,conversation_parent:struct&lt;attachment:struct&lt;type:string,value:string&gt;,body:string,body_html:string,body_html_summary:string,body_html_summary_truncated:boolean,bookmarked:boolean,category:string,category_details:string,conversation_parent:struct&lt;attachment:struct&lt;type:string,value:string&gt;,body:string,body_html:string,body_html_summary:string,body_html_summary_truncated:boolean,bookmarked:boolean,category:string,category_details:string,conversation_parent:struct&lt;attachment:struct&lt;type:string,value:string&gt;,body:string,body_html:string,body_html_summary:string,body_html_summary_truncated:boolean,bookmarked:boolean,category:string,category_details:string,conversation_parent:struct&lt;attachment:struct&lt;type:string,value:array&lt;struct&lt;height:bigint,id:string,url_full:string,url_thumbnail:string,width:bigint&gt;&gt;&gt;,body:string,body_html:string,body_html_summary:string,body_html_summary_truncated:boolean,bookmarked:boolean,category:string,category_details:string,conversation_parent:struct&lt;attachment:struct&lt;type:string,value:string&gt;,body:string,body_html:string,body_html_summary:string,body_html_summary_truncated:boolean,bookmarked:boolean,category:string,category_details:string,conversation_parent:struct&lt;attachment:struct&lt;type:string,value:string&gt;,body:string,body_html:string,body_html_summary:string,body_html_summary_truncated:boolean,bookmarked:boolean,category:string,category_details:string,conversation_parent:struct&lt;attachment:struct&lt;type:string,value:string&gt;,body:string,body_html:string,body_html_summary:string,body_html_summary_truncated:boolean,bookmarked:boolean,category:string,category_details:string,conversation_parent:struct&lt;attachment:struct&lt;type:string,value:string&gt;,body:string,body_html:string,body_html_summary:string,body_html_summary_truncated:boolean,bookmarked:boolean,category:string,category_details:string,conversation_parent:struct&lt;attachment:struct&lt;type:string,value:string&gt;,body:string,body_html:string,body_html_summary:string,body_html_summary_truncated:boolean,bookmarked:boolean,category:string,category_details:string,conversation_parent:struct&lt;attachment:struct&lt;type:string,value:string&gt;,body:string,body_html:string,body_html_summary:string,body_html_summary_truncated:boolean,bookmarked:boolean,category:string,category_details:string,conversation_parent:struct&lt;attachment:struct&lt;type:string,value:string&gt;,body:string,body_html:string,body_html_summary:string,body_html_summary_truncated:boolean,bookmarked:boolean,category:string,category_details:string,conversation_parent:struct&lt;attachment:struct&lt;type:string,value:string&gt;,body:string,body_html:string,body_html_summary:string,body_html_summary_truncated:boolean,bookmarked:boolean,category:string,category_details:string,conversation_parent:struct&lt;attachment:struct&lt;type:string,value:string&gt;,body:string,body_html:string,body_html_summary:string,body_html_summary_truncated:boolean,bookmarked:boolean,category:string,category_details:string,created_at:string,dislike_count:bigint,disliked:boolean,edited:boolean,embed:struct&lt;html:string,iframe:string&gt;,id:bigint,is_locked:boolean,is_premium:boolean,is_quote:boolean,is_replies_disabled:boolean,is_reply:boolean,language:string,like_count:bigint,liked:boolean,nsfw:boolean,only_emoji:boolean,replies:struct&lt;data:array&lt;string&gt;&gt;,reply_count:bigint,reported:boolean,repost:boolean,repost_count:bigint,revised_at:string,score:bigint,user:struct&lt;id:bigint,is_donor:boolean,is_investor:boolean,is_premium:boolean,is_private:boolean,is_pro:boolean,name:string,picture_url:string,username:string,verified:boolean&gt;&gt;,created_at:string,dislike_count:bigint,disliked:boolean,edited:boolean,embed:struct&lt;html:string,iframe:string&gt;,id:bigint,is_locked:boolean,is_premium:boolean,is_quote:boolean,is_replies_disabled:boolean,is_reply:boolean,language:string,like_count:bigint,liked:boolean,nsfw:boolean,only_emoji:boolean,parent:struct&lt;attachment:struct&lt;type:string,value:string&gt;,body:string,body_html:string,body_html_summary:string,body_html_summary_truncated:boolean,bookmarked:boolean,category:string,category_details:string,created_at:string,dislike_count:bigint,disliked:boolean,edited:boolean,embed:struct&lt;html:string,iframe:string&gt;,id:bigint,is_locked:boolean,is_premium:boolean,is_quote:boolean,is_replies_disabled:boolean,is_reply:boolean,language:string,like_count:bigint,liked:boolean,nsfw:boolean,only_emoji:boolean,replies:struct&lt;data:array&lt;string&gt;&gt;,reply_count:bigint,reported:boolean,repost:boolean,repost_count:bigint,revised_at:string,score:bigint,user:struct&lt;id:bigint,is_donor:boolean,is_investor:boolean,is_premium:boolean,is_private:boolean,is_pro:boolean,name:string,picture_url:string,username:string,verified:boolean&gt;&gt;,replies:struct&lt;data:array&lt;string&gt;&gt;,reply_count:bigint,reported:boolean,repost:boolean,repost_count:bigint,revised_at:string,score:bigint,user:struct&lt;id:bigint,is_donor:boolean,is_investor:boolean,is_premium:boolean,is_private:boolean,is_pro:boolean,name:string,picture_url:string,username:string,verified:boolean&gt;&gt;,created_at:string,dislike_count:bigint,disliked:boolean,edited:boolean,embed:struct&lt;html:string,iframe:string&gt;,id:bigint,is_locked:boolean,is_premium:boolean,is_quote:boolean,is_replies_disabled:boolean,is_reply:boolean,language:string,like_count:bigint,liked:boolean,nsfw:boolean,only_emoji:boolean,parent:struct&lt;attachment:struct&lt;type:string,value:string&gt;,body:string,body_html:string,body_html_summary:string,body_html_summary_truncated:boolean,bookmarked:boolean,category:string,category_details:string,created_at:string,dislike_count:bigint,disliked:boolean,edited:boolean,embed:struct&lt;html:string,iframe:string&gt;,id:bigint,is_locked:boolean,is_premium:boolean,is_quote:boolean,is_replies_disabled:boolean,is_reply:boolean,language:string,like_count:bigint,liked:boolean,nsfw:boolean,only_emoji:boolean,replies:struct&lt;data:array&lt;string&gt;&gt;,reply_count:bigint,reported:boolean,repost:boolean,repost_count:bigint,revised_at:string,score:bigint,user:struct&lt;id:bigint,is_donor:boolean,is_investor:boolean,is_premium:boolean,is_private:boolean,is_pro:boolean,name:string,picture_url:string,username:string,verified:boolean&gt;&gt;,quote_conversation_parent:struct&lt;attachment:struct&lt;type:string,value:string&gt;,body:string,body_html:string,body_html_summary:string,body_html_summary_truncated:boolean,bookmarked:boolean,category:string,category_details:string,created_at:string,dislike_count:bigint,disliked:boolean,edited:boolean,embed:struct&lt;html:string,iframe:string&gt;,id:bigint,is_locked:boolean,is_premium:boolean,is_quote:boolean,is_replies_disabled:boolean,is_reply:boolean,language:string,like_count:bigint,liked:boolean,nsfw:boolean,only_emoji:boolean,replies:struct&lt;data:array&lt;string&gt;&gt;,reply_count:bigint,reported:boolean,repost:boolean,repost_count:bigint,revised_at:string,score:bigint,user:struct&lt;id:bigint,is_donor:boolean,is_investor:boolean,is_premium:boolean,is_private:boolean,is_pro:boolean,name:string,picture_url:string,username:string,verified:boolean&gt;&gt;,replies:struct&lt;data:array&lt;string&gt;&gt;,reply_count:bigint,reported:boolean,repost:boolean,repost_count:bigint,revised_at:string,score:bigint,user:struct&lt;id:bigint,is_donor:boolean,is_investor:boolean,is_premium:boolean,is_private:boolean,is_pro:boolean,name:string,picture_url:string,username:string,verified:boolean&gt;&gt;,created_at:string,dislike_count:bigint,disliked:boolean,edited:boolean,embed:struct&lt;html:string,iframe:string&gt;,id:bigint,is_locked:boolean,is_premium:boolean,is_quote:boolean,is_replies_disabled:boolean,is_reply:boolean,language:string,like_count:bigint,liked:boolean,nsfw:boolean,only_emoji:boolean,parent:struct&lt;attachment:struct&lt;type:string,value:string&gt;,body:string,body_html:string,body_html_summary:string,body_html_summary_truncated:boolean,bookmarked:boolean,category:string,category_details:string,created_at:string,dislike_count:bigint,disliked:boolean,edited:boolean,embed:struct&lt;html:string,iframe:string&gt;,id:bigint,is_locked:boolean,is_premium:boolean,is_quote:boolean,is_replies_disabled:boolean,is_reply:boolean,language:string,like_count:bigint,liked:boolean,nsfw:boolean,only_emoji:boolean,replies:struct&lt;data:array&lt;string&gt;&gt;,reply_count:bigint,reported:boolean,repost:boolean,repost_count:bigint,revised_at:string,score:bigint,user:struct&lt;id:bigint,is_donor:boolean,is_investor:boolean,is_premium:boolean,is_private:boolean,is_pro:boolean,name:string,picture_url:string,username:string,verified:boolean&gt;&gt;,replies:struct&lt;data:array&lt;string&gt;&gt;,reply_count:bigint,reported:boolean,repost:boolean,repost_count:bigint,revised_at:string,score:bigint,user:struct&lt;id:bigint,is_donor:boolean,is_investor:boolean,is_premium:boolean,is_private:boolean,is_pro:boolean,name:string,picture_url:string,username:string,verified:boolean&gt;&gt;,created_at:string,dislike_count:bigint,disliked:boolean,edited:boolean,embed:struct&lt;html:string,iframe:string&gt;,id:bigint,is_locked:boolean,is_premium:boolean,is_quote:boolean,is_replies_disabled:boolean,is_reply:boolean,language:string,like_count:bigint,liked:boolean,nsfw:boolean,only_emoji:boolean,parent:struct&lt;attachment:struct&lt;type:string,value:string&gt;,body:string,body_html:string,body_html_summary:string,body_html_summary_truncated:boolean,bookmarked:boolean,category:string,category_details:string,created_at:string,dislike_count:bigint,disliked:boolean,edited:boolean,embed:struct&lt;html:string,iframe:string&gt;,id:bigint,is_locked:boolean,is_premium:boolean,is_quote:boolean,is_replies_disabled:boolean,is_reply:boolean,language:string,like_count:bigint,liked:boolean,nsfw:boolean,only_emoji:boolean,replies:struct&lt;data:array&lt;string&gt;&gt;,reply_count:bigint,reported:boolean,repost:boolean,repost_count:bigint,revised_at:string,score:bigint,user:struct&lt;id:bigint,is_donor:boolean,is_investor:boolean,is_premium:boolean,is_private:boolean,is_pro:boolean,name:string,picture_url:string,username:string,verified:boolean&gt;&gt;,quote_conversation_parent:struct&lt;attachment:struct&lt;type:string,value:string&gt;,body:string,body_html:string,body_html_summary:string,body_html_summary_truncated:boolean,bookmarked:boolean,category:string,category_details:string,created_at:string,dislike_count:bigint,disliked:boolean,edited:boolean,embed:struct&lt;html:string,iframe:string&gt;,id:bigint,is_locked:boolean,is_premium:boolean,is_quote:boolean,is_replies_disabled:boolean,is_reply:boolean,language:string,like_count:bigint,liked:boolean,nsfw:boolean,only_emoji:boolean,replies:struct&lt;data:array&lt;string&gt;&gt;,reply_count:bigint,reported:boolean,repost:boolean,repost_count:bigint,revised_at:string,score:bigint,user:struct&lt;id:bigint,is_donor:boolean,is_investor:boolean,is_premium:boolean,is_private:boolean,is_pro:boolean,name:string,picture_url:string,username:string,verified:boolean&gt;&gt;,replies:struct&lt;data:array&lt;string&gt;&gt;,reply_count:bigint,reported:boolean,repost:boolean,repost_count:bigint,revised_at:string,score:bigint,user:struct&lt;id:bigint,is_donor:boolean,is_investor:boolean,is_premium:boolean,is_private:boolean,is_pro:boolean,name:string,picture_url:string,username:string,verified:boolean&gt;&gt;,created_at:string,dislike_count:bigint,disliked:boolean,edited:boolean,embed:struct&lt;html:string,iframe:string&gt;,id:bigint,is_locked:boolean,is_premium:boolean,is_quote:boolean,is_replies_disabled:boolean,is_reply:boolean,language:string,like_count:bigint,liked:boolean,nsfw:boolean,only_emoji:boolean,parent:struct&lt;attachment:struct&lt;type:string,value:string&gt;,body:string,body_html:string,body_html_summary:string,body_html_summary_truncated:boolean,bookmarked:boolean,category:string,category_details:string,created_at:string,dislike_count:bigint,disliked:boolean,edited:boolean,embed:struct&lt;html:string,iframe:string&gt;,id:bigint,is_locked:boolean,is_premium:boolean,is_quote:boolean,is_replies_disabled:boolean,is_reply:boolean,language:string,like_count:bigint,liked:boolean,nsfw:boolean,only_emoji:boolean,replies:struct&lt;data:array&lt;string&gt;&gt;,reply_count:bigint,reported:boolean,repost:boolean,repost_count:bigint,revised_at:string,score:bigint,user:struct&lt;id:bigint,is_donor:boolean,is_investor:boolean,is_premium:boolean,is_private:boolean,is_pro:boolean,name:string,picture_url:string,username:string,verified:boolean&gt;&gt;,replies:struct&lt;data:array&lt;string&gt;&gt;,reply_count:bigint,reported:boolean,repost:boolean,repost_count:bigint,revised_at:string,score:bigint,user:struct&lt;id:bigint,is_donor:boolean,is_investor:boolean,is_premium:boolean,is_private:boolean,is_pro:boolean,name:string,picture_url:string,username:string,verified:boolean&gt;&gt;,created_at:string,dislike_count:bigint,disliked:boolean,edited:boolean,embed:struct&lt;html:string,iframe:string&gt;,id:bigint,is_locked:boolean,is_premium:boolean,is_quote:boolean,is_replies_disabled:boolean,is_reply:boolean,language:string,like_count:bigint,liked:boolean,nsfw:boolean,only_emoji:boolean,parent:struct&lt;attachment:struct&lt;type:string,value:string&gt;,body:string,body_html:string,body_html_summary:string,body_html_summary_truncated:boolean,bookmarked:boolean,category:string,category_details:string,created_at:string,dislike_count:bigint,disliked:boolean,edited:boolean,embed:struct&lt;html:string,iframe:string&gt;,id:bigint,is_locked:boolean,is_premium:boolean,is_quote:boolean,is_replies_disabled:boolean,is_reply:boolean,language:string,like_count:bigint,liked:boolean,nsfw:boolean,only_emoji:boolean,replies:struct&lt;data:array&lt;string&gt;&gt;,reply_count:bigint,reported:boolean,repost:boolean,repost_count:bigint,revised_at:string,score:bigint,user:struct&lt;id:bigint,is_donor:boolean,is_investor:boolean,is_premium:boolean,is_private:boolean,is_pro:boolean,name:string,picture_url:string,username:string,verified:boolean&gt;&gt;,quote_conversation_parent:struct&lt;attachment:struct&lt;type:string,value:string&gt;,body:string,body_html:string,body_html_summary:string,body_html_summary_truncated:boolean,bookmarked:boolean,category:string,category_details:string,created_at:string,dislike_count:bigint,disliked:boolean,edited:boolean,embed:struct&lt;html:string,iframe:string&gt;,id:bigint,is_locked:boolean,is_premium:boolean,is_quote:boolean,is_replies_disabled:boolean,is_reply:boolean,language:string,like_count:bigint,liked:boolean,nsfw:boolean,only_emoji:boolean,replies:struct&lt;data:array&lt;string&gt;&gt;,reply_count:bigint,reported:boolean,repost:boolean,repost_count:bigint,revised_at:string,score:bigint,user:struct&lt;id:bigint,is_donor:boolean,is_investor:boolean,is_premium:boolean,is_private:boolean,is_pro:boolean,name:string,picture_url:string,username:string,verified:boolean&gt;&gt;,replies:struct&lt;data:array&lt;string&gt;&gt;,reply_count:bigint,reported:boolean,repost:boolean,repost_count:bigint,revised_at:string,score:bigint,user:struct&lt;id:bigint,is_donor:boolean,is_investor:boolean,is_premium:boolean,is_private:boolean,is_pro:boolean,name:string,picture_url:string,username:string,verified:boolean&gt;&gt;,created_at:string,dislike_count:bigint,disliked:boolean,edited:boolean,embed:struct&lt;html:string,iframe:string&gt;,id:bigint,is_locked:boolean,is_premium:boolean,is_quote:boolean,is_replies_disabled:boolean,is_reply:boolean,language:string,like_count:bigint,liked:boolean,nsfw:boolean,only_emoji:boolean,parent:struct&lt;attachment:struct&lt;type:string,value:string&gt;,body:string,body_html:string,body_html_summary:string,body_html_summary_truncated:boolean,bookmarked:boolean,category:string,category_details:string,created_at:string,dislike_count:bigint,disliked:boolean,edited:boolean,embed:struct&lt;html:string,iframe:string&gt;,id:bigint,is_locked:boolean,is_premium:boolean,is_quote:boolean,is_replies_disabled:boolean,is_reply:boolean,language:string,like_count:bigint,liked:boolean,nsfw:boolean,only_emoji:boolean,replies:struct&lt;data:array&lt;string&gt;&gt;,reply_count:bigint,reported:boolean,repost:boolean,repost_count:bigint,revised_at:string,score:bigint,user:struct&lt;id:bigint,is_donor:boolean,is_investor:boolean,is_premium:boolean,is_private:boolean,is_pro:boolean,name:string,picture_url:string,username:string,verified:boolean&gt;&gt;,replies:struct&lt;data:array&lt;string&gt;&gt;,reply_count:bigint,reported:boolean,repost:boolean,repost_count:bigint,revised_at:string,score:bigint,user:struct&lt;id:bigint,is_donor:boolean,is_investor:boolean,is_premium:boolean,is_private:boolean,is_pro:boolean,name:string,picture_url:string,username:string,verified:boolean&gt;&gt;,created_at:string,dislike_count:bigint,disliked:boolean,edited:boolean,embed:struct&lt;html:string,iframe:string&gt;,id:bigint,is_locked:boolean,is_premium:boolean,is_quote:boolean,is_replies_disabled:boolean,is_reply:boolean,language:string,like_count:bigint,liked:boolean,nsfw:boolean,only_emoji:boolean,parent:struct&lt;attachment:struct&lt;type:string,value:string&gt;,body:string,body_html:string,body_html_summary:string,body_html_summary_truncated:boolean,bookmarked:boolean,category:string,category_details:string,created_at:string,dislike_count:bigint,disliked:boolean,edited:boolean,embed:struct&lt;html:string,iframe:string&gt;,id:bigint,is_locked:boolean,is_premium:boolean,is_quote:boolean,is_replies_disabled:boolean,is_reply:boolean,language:string,like_count:bigint,liked:boolean,nsfw:boolean,only_emoji:boolean,replies:struct&lt;data:array&lt;string&gt;&gt;,reply_count:bigint,reported:boolean,repost:boolean,repost_count:bigint,revised_at:string,score:bigint,user:struct&lt;id:bigint,is_donor:boolean,is_investor:boolean,is_premium:boolean,is_private:boolean,is_pro:boolean,name:string,picture_url:string,username:string,verified:boolean&gt;&gt;,quote_conversation_parent:struct&lt;attachment:struct&lt;type:string,value:string&gt;,body:string,body_html:string,body_html_summary:string,body_html_summary_truncated:boolean,bookmarked:boolean,category:string,category_details:string,created_at:string,dislike_count:bigint,disliked:boolean,edited:boolean,embed:struct&lt;html:string,iframe:string&gt;,id:bigint,is_locked:boolean,is_premium:boolean,is_quote:boolean,is_replies_disabled:boolean,is_reply:boolean,language:string,like_count:bigint,liked:boolean,nsfw:boolean,only_emoji:boolean,replies:struct&lt;data:array&lt;string&gt;&gt;,reply_count:bigint,reported:boolean,repost:boolean,repost_count:bigint,revised_at:string,score:bigint,user:struct&lt;id:bigint,is_donor:boolean,is_investor:boolean,is_premium:boolean,is_private:boolean,is_pro:boolean,name:string,picture_url:string,username:string,verified:boolean&gt;&gt;,replies:struct&lt;data:array&lt;string&gt;&gt;,reply_count:bigint,reported:boolean,repost:boolean,repost_count:bigint,revised_at:string,score:bigint,user:struct&lt;id:bigint,is_donor:boolean,is_investor:boolean,is_premium:boolean,is_private:boolean,is_pro:boolean,name:string,picture_url:string,username:string,verified:boolean&gt;&gt;,created_at:string,dislike_count:bigint,disliked:boolean,edited:boolean,embed:struct&lt;html:string,iframe:string&gt;,id:bigint,is_locked:boolean,is_premium:boolean,is_quote:boolean,is_replies_disabled:boolean,is_reply:boolean,language:string,like_count:bigint,liked:boolean,nsfw:boolean,only_emoji:boolean,parent:struct&lt;attachment:struct&lt;type:string,value:string&gt;,body:string,body_html:string,body_html_summary:string,body_html_summary_truncated:boolean,bookmarked:boolean,category:string,category_details:string,created_at:string,dislike_count:bigint,disliked:boolean,edited:boolean,embed:struct&lt;html:string,iframe:string&gt;,id:bigint,is_locked:boolean,is_premium:boolean,is_quote:boolean,is_replies_disabled:boolean,is_reply:boolean,language:string,like_count:bigint,liked:boolean,nsfw:boolean,only_emoji:boolean,replies:struct&lt;data:array&lt;string&gt;&gt;,reply_count:bigint,reported:boolean,repost:boolean,repost_count:bigint,revised_at:string,score:bigint,user:struct&lt;id:bigint,is_donor:boolean,is_investor:boolean,is_premium:boolean,is_private:boolean,is_pro:boolean,name:string,picture_url:string,username:string,verified:boolean&gt;&gt;,quote_conversation_parent:struct&lt;attachment:struct&lt;type:string,value:string&gt;,body:string,body_html:string,body_html_summary:string,body_html_summary_truncated:boolean,bookmarked:boolean,category:string,category_details:string,created_at:string,dislike_count:bigint,disliked:boolean,edited:boolean,embed:struct&lt;html:string,iframe:string&gt;,id:bigint,is_locked:boolean,is_premium:boolean,is_quote:boolean,is_replies_disabled:boolean,is_reply:boolean,language:string,like_count:bigint,liked:boolean,nsfw:boolean,only_emoji:boolean,replies:struct&lt;data:array&lt;string&gt;&gt;,reply_count:bigint,reported:boolean,repost:boolean,repost_count:bigint,revised_at:string,score:bigint,user:struct&lt;id:bigint,is_donor:boolean,is_investor:boolean,is_premium:boolean,is_private:boolean,is_pro:boolean,name:string,picture_url:string,username:string,verified:boolean&gt;&gt;,replies:struct&lt;data:array&lt;string&gt;&gt;,reply_count:bigint,reported:boolean,repost:boolean,repost_count:bigint,revised_at:string,score:bigint,user:struct&lt;id:bigint,is_donor:boolean,is_investor:boolean,is_premium:boolean,is_private:boolean,is_pro:boolean,name:string,picture_url:string,username:string,verified:boolean&gt;&gt;,created_at:string,dislike_count:bigint,disliked:boolean,edited:boolean,embed:struct&lt;html:string,iframe:string&gt;,id:bigint,is_locked:boolean,is_premium:boolean,is_quote:boolean,is_replies_disabled:boolean,is_reply:boolean,language:string,like_count:bigint,liked:boolean,nsfw:boolean,only_emoji:boolean,parent:struct&lt;attachment:struct&lt;type:string,value:array&lt;struct&lt;height:bigint,id:string,url_full:string,url_thumbnail:string,width:bigint&gt;&gt;&gt;,body:string,body_html:string,body_html_summary:string,body_html_summary_truncated:boolean,bookmarked:boolean,category:string,category_details:string,created_at:string,dislike_count:bigint,disliked:boolean,edited:boolean,embed:struct&lt;html:string,iframe:string&gt;,id:bigint,is_locked:boolean,is_premium:boolean,is_quote:boolean,is_replies_disabled:boolean,is_reply:boolean,language:string,like_count:bigint,liked:boolean,nsfw:boolean,only_emoji:boolean,replies:struct&lt;data:array&lt;string&gt;&gt;,reply_count:bigint,reported:boolean,repost:boolean,repost_count:bigint,revised_at:string,score:bigint,user:struct&lt;id:bigint,is_donor:boolean,is_investor:boolean,is_premium:boolean,is_private:boolean,is_pro:boolean,name:string,picture_url:string,username:string,verified:boolean&gt;&gt;,quote_conversation_parent:struct&lt;attachment:struct&lt;type:string,value:string&gt;,body:string,body_html:string,body_html_summary:string,body_html_summary_truncated:boolean,bookmarked:boolean,category:string,category_details:string,created_at:string,dislike_count:bigint,disliked:boolean,edited:boolean,embed:struct&lt;html:string,iframe:string&gt;,id:bigint,is_locked:boolean,is_premium:boolean,is_quote:boolean,is_replies_disabled:boolean,is_reply:boolean,language:string,like_count:bigint,liked:boolean,nsfw:boolean,only_emoji:boolean,replies:struct&lt;data:array&lt;string&gt;&gt;,reply_count:bigint,reported:boolean,repost:boolean,repost_count:bigint,revised_at:string,score:bigint,user:struct&lt;id:bigint,is_donor:boolean,is_investor:boolean,is_premium:boolean,is_private:boolean,is_pro:boolean,name:string,picture_url:string,username:string,verified:boolean&gt;&gt;,replies:struct&lt;data:array&lt;string&gt;&gt;,reply_count:bigint,reported:boolean,repost:boolean,repost_count:bigint,revised_at:string,score:bigint,user:struct&lt;id:bigint,is_donor:boolean,is_investor:boolean,is_premium:boolean,is_private:boolean,is_pro:boolean,name:string,picture_url:string,username:string,verified:boolean&gt;&gt;,created_at:string,dislike_count:bigint,disliked:boolean,edited:boolean,embed:struct&lt;html:string,iframe:string&gt;,id:bigint,is_locked:boolean,is_premium:boolean,is_quote:boolean,is_replies_disabled:boolean,is_reply:boolean,language:string,like_count:bigint,liked:boolean,nsfw:boolean,only_emoji:boolean,parent:struct&lt;attachment:struct&lt;type:string,value:string&gt;,body:string,body_html:string,body_html_summary:string,body_html_summary_truncated:boolean,bookmarked:boolean,category:string,category_details:string,created_at:string,dislike_count:bigint,disliked:boolean,edited:boolean,embed:struct&lt;html:string,iframe:string&gt;,id:bigint,is_locked:boolean,is_premium:boolean,is_quote:boolean,is_replies_disabled:boolean,is_reply:boolean,language:string,like_count:bigint,liked:boolean,nsfw:boolean,only_emoji:boolean,replies:struct&lt;data:array&lt;string&gt;&gt;,reply_count:bigint,reported:boolean,repost:boolean,repost_count:bigint,revised_at:string,score:bigint,user:struct&lt;id:bigint,is_donor:boolean,is_investor:boolean,is_premium:boolean,is_private:boolean,is_pro:boolean,name:string,picture_url:string,username:string,verified:boolean&gt;&gt;,quote_conversation_parent:struct&lt;attachment:struct&lt;type:string,value:string&gt;,body:string,body_html:string,body_html_summary:string,body_html_summary_truncated:boolean,bookmarked:boolean,category:string,category_details:string,created_at:string,dislike_count:bigint,disliked:boolean,edited:boolean,embed:struct&lt;html:string,iframe:string&gt;,id:bigint,is_locked:boolean,is_premium:boolean,is_quote:boolean,is_replies_disabled:boolean,is_reply:boolean,language:string,like_count:bigint,liked:boolean,nsfw:boolean,only_emoji:boolean,replies:struct&lt;data:array&lt;string&gt;&gt;,reply_count:bigint,reported:boolean,repost:boolean,repost_count:bigint,revised_at:string,score:bigint,user:struct&lt;id:bigint,is_donor:boolean,is_investor:boolean,is_premium:boolean,is_private:boolean,is_pro:boolean,name:string,picture_url:string,username:string,verified:boolean&gt;&gt;,replies:struct&lt;data:array&lt;string&gt;&gt;,reply_count:bigint,reported:boolean,repost:boolean,repost_count:bigint,revised_at:string,score:bigint,user:struct&lt;id:bigint,is_donor:boolean,is_investor:boolean,is_premium:boolean,is_private:boolean,is_pro:boolean,name:string,picture_url:string,username:string,verified:boolean&gt;&gt;,created_at:string,dislike_count:bigint,disliked:boolean,edited:boolean,embed:struct&lt;html:string,iframe:string&gt;,id:bigint,is_locked:boolean,is_premium:boolean,is_quote:boolean,is_replies_disabled:boolean,is_reply:boolean,language:string,like_count:bigint,liked:boolean,nsfw:boolean,only_emoji:boolean,parent:struct&lt;attachment:struct&lt;type:string,value:string&gt;,body:string,body_html:string,body_html_summary:string,body_html_summary_truncated:boolean,bookmarked:boolean,category:string,category_details:string,created_at:string,dislike_count:bigint,disliked:boolean,edited:boolean,embed:struct&lt;html:string,iframe:string&gt;,id:bigint,is_locked:boolean,is_premium:boolean,is_quote:boolean,is_replies_disabled:boolean,is_reply:boolean,language:string,like_count:bigint,liked:boolean,nsfw:boolean,only_emoji:boolean,replies:struct&lt;data:array&lt;string&gt;&gt;,reply_count:bigint,reported:boolean,repost:boolean,repost_count:bigint,revised_at:string,score:bigint,user:struct&lt;id:bigint,is_donor:boolean,is_investor:boolean,is_premium:boolean,is_private:boolean,is_pro:boolean,name:string,picture_url:string,username:string,verified:boolean&gt;&gt;,quote_conversation_parent:struct&lt;attachment:struct&lt;type:string,value:string&gt;,body:string,body_html:string,body_html_summary:string,body_html_summary_truncated:boolean,bookmarked:boolean,category:string,category_details:string,created_at:string,dislike_count:bigint,disliked:boolean,edited:boolean,embed:struct&lt;html:string,iframe:string&gt;,id:bigint,is_locked:boolean,is_premium:boolean,is_quote:boolean,is_replies_disabled:boolean,is_reply:boolean,language:string,like_count:bigint,liked:boolean,nsfw:boolean,only_emoji:boolean,replies:struct&lt;data:array&lt;string&gt;&gt;,reply_count:bigint,reported:boolean,repost:boolean,repost_count:bigint,revised_at:string,score:bigint,user:struct&lt;id:bigint,is_donor:boolean,is_investor:boolean,is_premium:boolean,is_private:boolean,is_pro:boolean,name:string,picture_url:string,username:string,verified:boolean&gt;&gt;,replies:struct&lt;data:array&lt;string&gt;&gt;,reply_count:bigint,reported:boolean,repost:boolean,repost_count:bigint,revised_at:string,score:bigint,user:struct&lt;id:bigint,is_donor:boolean,is_investor:boolean,is_premium:boolean,is_private:boolean,is_pro:boolean,name:string,picture_url:string,username:string,verified:boolean&gt;&gt;,created_at:string,dislike_count:bigint,disliked:boolean,edited:boolean,embed:struct&lt;html:string,iframe:boolean&gt;,id:bigint,is_locked:boolean,is_premium:boolean,is_quote:boolean,is_replies_disabled:boolean,is_reply:boolean,language:string,like_count:bigint,liked:boolean,nsfw:boolean,only_emoji:boolean,parent:struct&lt;attachment:struct&lt;type:string,value:string&gt;,body:string,body_html:string,body_html_summary:string,body_html_summary_truncated:boolean,bookmarked:boolean,category:string,category_details:string,created_at:string,dislike_count:bigint,disliked:boolean,edited:boolean,embed:struct&lt;html:string,iframe:string&gt;,id:bigint,is_locked:boolean,is_premium:boolean,is_quote:boolean,is_replies_disabled:boolean,is_reply:boolean,language:string,like_count:bigint,liked:boolean,nsfw:boolean,only_emoji:boolean,replies:struct&lt;data:array&lt;string&gt;&gt;,reply_count:bigint,reported:boolean,repost:boolean,repost_count:bigint,revised_at:string,score:bigint,user:struct&lt;id:bigint,is_donor:boolean,is_investor:boolean,is_premium:boolean,is_private:boolean,is_pro:boolean,name:string,picture_url:string,username:string,verified:boolean&gt;&gt;,quote_conversation_parent:struct&lt;attachment:struct&lt;type:string,value:string&gt;,body:string,body_html:string,body_html_summary:string,body_html_summary_truncated:boolean,bookmarked:boolean,category:string,category_details:string,created_at:string,dislike_count:bigint,disliked:boolean,edited:boolean,embed:struct&lt;html:string,iframe:string&gt;,id:bigint,is_locked:boolean,is_premium:boolean,is_quote:boolean,is_replies_disabled:boolean,is_reply:boolean,language:string,like_count:bigint,liked:boolean,nsfw:boolean,only_emoji:boolean,replies:struct&lt;data:array&lt;string&gt;&gt;,reply_count:bigint,reported:boolean,repost:boolean,repost_count:bigint,revised_at:string,score:bigint,user:struct&lt;id:bigint,is_donor:boolean,is_investor:boolean,is_premium:boolean,is_private:boolean,is_pro:boolean,name:string,picture_url:string,username:string,verified:boolean&gt;&gt;,replies:struct&lt;data:array&lt;string&gt;&gt;,reply_count:bigint,reported:boolean,repost:boolean,repost_count:bigint,revised_at:string,score:bigint,user:struct&lt;id:bigint,is_donor:boolean,is_investor:boolean,is_premium:boolean,is_private:boolean,is_pro:boolean,name:string,picture_url:string,username:string,verified:boolean&gt;&gt;,created_at:string,dislike_count:bigint,disliked:boolean,edited:boolean,embed:struct&lt;html:string,iframe:string&gt;,id:bigint,is_locked:boolean,is_premium:boolean,is_quote:boolean,is_replies_disabled:boolean,is_reply:boolean,language:string,like_count:bigint,liked:boolean,nsfw:boolean,only_emoji:boolean,parent:struct&lt;attachment:struct&lt;type:string,value:struct&lt;description:string,image:string,source:string,title:string,url:string&gt;&gt;,body:string,body_html:string,body_html_summary:string,body_html_summary_truncated:boolean,bookmarked:boolean,category:string,category_details:string,created_at:string,dislike_count:bigint,disliked:boolean,edited:boolean,embed:struct&lt;html:string,iframe:boolean&gt;,id:bigint,is_locked:boolean,is_premium:boolean,is_quote:boolean,is_replies_disabled:boolean,is_reply:boolean,language:string,like_count:bigint,liked:boolean,nsfw:boolean,only_emoji:boolean,replies:struct&lt;data:array&lt;string&gt;&gt;,reply_count:bigint,reported:boolean,repost:boolean,repost_count:bigint,revised_at:string,score:bigint,user:struct&lt;id:bigint,is_donor:boolean,is_investor:boolean,is_premium:boolean,is_private:boolean,is_pro:boolean,name:string,picture_url:string,username:string,verified:boolean&gt;&gt;,quote_conversation_parent:struct&lt;attachment:struct&lt;type:string,value:string&gt;,body:string,body_html:string,body_html_summary:string,body_html_summary_truncated:boolean,bookmarked:boolean,category:string,category_details:string,created_at:string,dislike_count:bigint,disliked:boolean,edited:boolean,embed:struct&lt;html:string,iframe:string&gt;,id:bigint,is_locked:boolean,is_premium:boolean,is_quote:boolean,is_replies_disabled:boolean,is_reply:boolean,language:string,like_count:bigint,liked:boolean,nsfw:boolean,only_emoji:boolean,replies:struct&lt;data:array&lt;string&gt;&gt;,reply_count:bigint,reported:boolean,repost:boolean,repost_count:bigint,revised_at:string,score:bigint,user:struct&lt;id:bigint,is_donor:boolean,is_investor:boolean,is_premium:boolean,is_private:boolean,is_pro:boolean,name:string,picture_url:string,username:string,verified:boolean&gt;&gt;,replies:struct&lt;data:array&lt;string&gt;&gt;,reply_count:bigint,reported:boolean,repost:boolean,repost_count:bigint,revised_at:string,score:bigint,user:struct&lt;id:bigint,is_donor:boolean,is_investor:boolean,is_premium:boolean,is_private:boolean,is_pro:boolean,name:string,picture_url:string,username:string,verified:boolean&gt;&gt;,created_at:string,dislike_count:bigint,disliked:boolean,edited:boolean,embed:struct&lt;html:string,iframe:string&gt;,id:bigint,is_locked:boolean,is_premium:boolean,is_quote:boolean,is_replies_disabled:boolean,is_reply:boolean,language:string,like_count:bigint,liked:boolean,nsfw:boolean,only_emoji:boolean,parent:struct&lt;attachment:struct&lt;type:string,value:string&gt;,body:string,body_html:string,body_html_summary:string,body_html_summary_truncated:boolean,bookmarked:boolean,category:string,category_details:string,created_at:string,dislike_count:bigint,disliked:boolean,edited:boolean,embed:struct&lt;html:string,iframe:string&gt;,id:bigint,is_locked:boolean,is_premium:boolean,is_quote:boolean,is_replies_disabled:boolean,is_reply:boolean,language:string,like_count:bigint,liked:boolean,nsfw:boolean,only_emoji:boolean,replies:struct&lt;data:array&lt;string&gt;&gt;,reply_count:bigint,reported:boolean,repost:boolean,repost_count:bigint,revised_at:string,score:bigint,user:struct&lt;id:bigint,is_donor:boolean,is_investor:boolean,is_premium:boolean,is_private:boolean,is_pro:boolean,name:string,picture_url:string,username:string,verified:boolean&gt;&gt;,quote_conversation_parent:struct&lt;attachment:struct&lt;type:string,value:string&gt;,body:string,body_html:string,body_html_summary:string,body_html_summary_truncated:boolean,bookmarked:boolean,category:string,category_details:string,created_at:string,dislike_count:bigint,disliked:boolean,edited:boolean,embed:struct&lt;html:string,iframe:string&gt;,id:bigint,is_locked:boolean,is_premium:boolean,is_quote:boolean,is_replies_disabled:boolean,is_reply:boolean,language:string,like_count:bigint,liked:boolean,nsfw:boolean,only_emoji:boolean,replies:struct&lt;data:array&lt;string&gt;&gt;,reply_count:bigint,reported:boolean,repost:boolean,repost_count:bigint,revised_at:string,score:bigint,user:struct&lt;id:bigint,is_donor:boolean,is_investor:boolean,is_premium:boolean,is_private:boolean,is_pro:boolean,name:string,picture_url:string,username:string,verified:boolean&gt;&gt;,replies:struct&lt;data:array&lt;string&gt;&gt;,reply_count:bigint,reported:boolean,repost:boolean,repost_count:bigint,revised_at:string,score:bigint,user:struct&lt;id:bigint,is_donor:boolean,is_investor:boolean,is_premium:boolean,is_private:boolean,is_pro:boolean,name:string,picture_url:string,username:string,verified:boolean&gt;&gt;,created_at:string,dislike_count:bigint,disliked:boolean,edited:boolean,embed:struct&lt;html:string,iframe:string&gt;,id:bigint,is_locked:boolean,is_premium:boolean,is_quote:boolean,is_replies_disabled:boolean,is_reply:boolean,language:string,like_count:bigint,liked:boolean,nsfw:boolean,only_emoji:boolean,parent:struct&lt;attachment:struct&lt;type:string,value:string&gt;,body:string,body_html:string,body_html_summary:string,body_html_summary_truncated:boolean,bookmarked:boolean,category:string,category_details:string,created_at:string,dislike_count:bigint,disliked:boolean,edited:boolean,embed:struct&lt;html:string,iframe:string&gt;,id:bigint,is_locked:boolean,is_premium:boolean,is_quote:boolean,is_replies_disabled:boolean,is_reply:boolean,language:string,like_count:bigint,liked:boolean,nsfw:boolean,only_emoji:boolean,replies:struct&lt;data:array&lt;string&gt;&gt;,reply_count:bigint,reported:boolean,repost:boolean,repost_count:bigint,revised_at:string,score:bigint,user:struct&lt;id:bigint,is_donor:boolean,is_investor:boolean,is_premium:boolean,is_private:boolean,is_pro:boolean,name:string,picture_url:string,username:string,verified:boolean&gt;&gt;,quote_conversation_parent:struct&lt;attachment:struct&lt;type:string,value:string&gt;,body:string,body_html:string,body_html_summary:string,body_html_summary_truncated:boolean,bookmarked:boolean,category:string,category_details\n*** WARNING: skipped 142157 bytes of output ***\n\n (&#39;created_at&#39;, &#39;string&#39;),\n (&#39;dislike_count&#39;, &#39;bigint&#39;),\n (&#39;disliked&#39;, &#39;boolean&#39;),\n (&#39;edited&#39;, &#39;boolean&#39;),\n (&#39;embed&#39;, &#39;struct&lt;html:string,iframe:boolean&gt;&#39;),\n (&#39;id&#39;, &#39;bigint&#39;),\n (&#39;is_locked&#39;, &#39;boolean&#39;),\n (&#39;is_premium&#39;, &#39;boolean&#39;),\n (&#39;is_quote&#39;, &#39;boolean&#39;),\n (&#39;is_replies_disabled&#39;, &#39;boolean&#39;),\n (&#39;is_reply&#39;, &#39;boolean&#39;),\n (&#39;language&#39;, &#39;string&#39;),\n (&#39;like_count&#39;, &#39;bigint&#39;),\n (&#39;liked&#39;, &#39;boolean&#39;),\n (&#39;nsfw&#39;, &#39;boolean&#39;),\n (&#39;only_emoji&#39;, &#39;boolean&#39;),\n (&#39;parent&#39;,\n  &#39;struct&lt;attachment:struct&lt;type:string,value:string&gt;,body:string,body_html:string,body_html_summary:string,body_html_summary_truncated:boolean,bookmarked:boolean,category:bigint,category_details:struct&lt;emoji:string,slug:string,title:string,value:bigint&gt;,conversation_parent:struct&lt;attachment:struct&lt;type:string,value:array&lt;struct&lt;height:bigint,id:string,url_full:string,url_thumbnail:string,width:bigint&gt;&gt;&gt;,body:string,body_html:string,body_html_summary:string,body_html_summary_truncated:boolean,bookmarked:boolean,category:bigint,category_details:struct&lt;emoji:string,slug:string,title:string,value:bigint&gt;,conversation_parent:struct&lt;attachment:struct&lt;type:string,value:string&gt;,body:string,body_html:string,body_html_summary:string,body_html_summary_truncated:boolean,bookmarked:boolean,category:bigint,category_details:struct&lt;emoji:string,slug:string,title:string,value:bigint&gt;,conversation_parent:struct&lt;attachment:struct&lt;type:string,value:string&gt;,body:string,body_html:string,body_html_summary:string,body_html_summary_truncated:boolean,bookmarked:boolean,category:string,category_details:string,conversation_parent:struct&lt;attachment:struct&lt;type:string,value:string&gt;,body:string,body_html:string,body_html_summary:string,body_html_summary_truncated:boolean,bookmarked:boolean,category:string,category_details:string,conversation_parent:struct&lt;attachment:struct&lt;type:string,value:string&gt;,body:string,body_html:string,body_html_summary:string,body_html_summary_truncated:boolean,bookmarked:boolean,category:string,category_details:string,conversation_parent:struct&lt;attachment:struct&lt;type:string,value:string&gt;,body:string,body_html:string,body_html_summary:string,body_html_summary_truncated:boolean,bookmarked:boolean,category:string,category_details:string,conversation_parent:struct&lt;attachment:struct&lt;type:string,value:string&gt;,body:string,body_html:string,body_html_summary:string,body_html_summary_truncated:boolean,bookmarked:boolean,category:string,category_details:string,created_at:string,dislike_count:bigint,disliked:boolean,edited:boolean,embed:struct&lt;html:string,iframe:string&gt;,id:bigint,is_locked:boolean,is_premium:boolean,is_quote:boolean,is_replies_disabled:boolean,is_reply:boolean,language:string,like_count:bigint,liked:boolean,nsfw:boolean,only_emoji:boolean,replies:struct&lt;data:array&lt;string&gt;&gt;,reply_count:bigint,reported:boolean,repost:boolean,repost_count:bigint,revised_at:string,score:bigint,user:struct&lt;id:bigint,is_donor:boolean,is_investor:boolean,is_premium:boolean,is_private:boolean,is_pro:boolean,name:string,picture_url:string,username:string,verified:boolean&gt;&gt;,created_at:string,dislike_count:bigint,disliked:boolean,edited:boolean,embed:struct&lt;html:string,iframe:string&gt;,id:bigint,is_locked:boolean,is_premium:boolean,is_quote:boolean,is_replies_disabled:boolean,is_reply:boolean,language:string,like_count:bigint,liked:boolean,nsfw:boolean,only_emoji:boolean,parent:struct&lt;attachment:struct&lt;type:string,value:string&gt;,body:string,body_html:string,body_html_summary:string,body_html_summary_truncated:boolean,bookmarked:boolean,category:string,category_details:string,created_at:string,dislike_count:bigint,disliked:boolean,edited:boolean,embed:struct&lt;html:string,iframe:string&gt;,id:bigint,is_locked:boolean,is_premium:boolean,is_quote:boolean,is_replies_disabled:boolean,is_reply:boolean,language:string,like_count:bigint,liked:boolean,nsfw:boolean,only_emoji:boolean,replies:struct&lt;data:array&lt;string&gt;&gt;,reply_count:bigint,reported:boolean,repost:boolean,repost_count:bigint,revised_at:string,score:bigint,user:struct&lt;id:bigint,is_donor:boolean,is_investor:boolean,is_premium:boolean,is_private:boolean,is_pro:boolean,name:string,picture_url:string,username:string,verified:boolean&gt;&gt;,replies:struct&lt;data:array&lt;string&gt;&gt;,reply_count:bigint,reported:boolean,repost:boolean,repost_count:bigint,revised_at:string,score:bigint,user:struct&lt;id:bigint,is_donor:boolean,is_investor:boolean,is_premium:boolean,is_private:boolean,is_pro:boolean,name:string,picture_url:string,username:string,verified:boolean&gt;&gt;,created_at:string,dislike_count:bigint,disliked:boolean,edited:boolean,embed:struct&lt;html:string,iframe:string&gt;,id:bigint,is_locked:boolean,is_premium:boolean,is_quote:boolean,is_replies_disabled:boolean,is_reply:boolean,language:string,like_count:bigint,liked:boolean,nsfw:boolean,only_emoji:boolean,parent:struct&lt;attachment:struct&lt;type:string,value:string&gt;,body:string,body_html:string,body_html_summary:string,body_html_summary_truncated:boolean,bookmarked:boolean,category:string,category_details:string,created_at:string,dislike_count:bigint,disliked:boolean,edited:boolean,embed:struct&lt;html:string,iframe:string&gt;,id:bigint,is_locked:boolean,is_premium:boolean,is_quote:boolean,is_replies_disabled:boolean,is_reply:boolean,language:string,like_count:bigint,liked:boolean,nsfw:boolean,only_emoji:boolean,replies:struct&lt;data:array&lt;string&gt;&gt;,reply_count:bigint,reported:boolean,repost:boolean,repost_count:bigint,revised_at:string,score:bigint,user:struct&lt;id:bigint,is_donor:boolean,is_investor:boolean,is_premium:boolean,is_private:boolean,is_pro:boolean,name:string,picture_url:string,username:string,verified:boolean&gt;&gt;,quote_conversation_parent:struct&lt;attachment:struct&lt;type:string,value:string&gt;,body:string,body_html:string,body_html_summary:string,body_html_summary_truncated:boolean,bookmarked:boolean,category:string,category_details:string,created_at:string,dislike_count:bigint,disliked:boolean,edited:boolean,embed:struct&lt;html:string,iframe:string&gt;,id:bigint,is_locked:boolean,is_premium:boolean,is_quote:boolean,is_replies_disabled:boolean,is_reply:boolean,language:string,like_count:bigint,liked:boolean,nsfw:boolean,only_emoji:boolean,replies:struct&lt;data:array&lt;string&gt;&gt;,reply_count:bigint,reported:boolean,repost:boolean,repost_count:bigint,revised_at:string,score:bigint,user:struct&lt;id:bigint,is_donor:boolean,is_investor:boolean,is_premium:boolean,is_private:boolean,is_pro:boolean,name:string,picture_url:string,username:string,verified:boolean&gt;&gt;,replies:struct&lt;data:array&lt;string&gt;&gt;,reply_count:bigint,reported:boolean,repost:boolean,repost_count:bigint,revised_at:string,score:bigint,user:struct&lt;id:bigint,is_donor:boolean,is_investor:boolean,is_premium:boolean,is_private:boolean,is_pro:boolean,name:string,picture_url:string,username:string,verified:boolean&gt;&gt;,created_at:string,dislike_count:bigint,disliked:boolean,edited:boolean,embed:struct&lt;html:string,iframe:string&gt;,id:bigint,is_locked:boolean,is_premium:boolean,is_quote:boolean,is_replies_disabled:boolean,is_reply:boolean,language:string,like_count:bigint,liked:boolean,nsfw:boolean,only_emoji:boolean,parent:struct&lt;attachment:struct&lt;type:string,value:string&gt;,body:string,body_html:string,body_html_summary:string,body_html_summary_truncated:boolean,bookmarked:boolean,category:string,category_details:string,created_at:string,dislike_count:bigint,disliked:boolean,edited:boolean,embed:struct&lt;html:string,iframe:string&gt;,id:bigint,is_locked:boolean,is_premium:boolean,is_quote:boolean,is_replies_disabled:boolean,is_reply:boolean,language:string,like_count:bigint,liked:boolean,nsfw:boolean,only_emoji:boolean,replies:struct&lt;data:array&lt;string&gt;&gt;,reply_count:bigint,reported:boolean,repost:boolean,repost_count:bigint,revised_at:string,score:bigint,user:struct&lt;id:bigint,is_donor:boolean,is_investor:boolean,is_premium:boolean,is_private:boolean,is_pro:boolean,name:string,picture_url:string,username:string,verified:boolean&gt;&gt;,replies:struct&lt;data:array&lt;string&gt;&gt;,reply_count:bigint,reported:boolean,repost:boolean,repost_count:bigint,revised_at:string,score:bigint,user:struct&lt;id:bigint,is_donor:boolean,is_investor:boolean,is_premium:boolean,is_private:boolean,is_pro:boolean,name:string,picture_url:string,username:string,verified:boolean&gt;&gt;,created_at:string,dislike_count:bigint,disliked:boolean,edited:boolean,embed:struct&lt;html:string,iframe:string&gt;,id:bigint,is_locked:boolean,is_premium:boolean,is_quote:boolean,is_replies_disabled:boolean,is_reply:boolean,language:string,like_count:bigint,liked:boolean,nsfw:boolean,only_emoji:boolean,parent:struct&lt;attachment:struct&lt;type:string,value:string&gt;,body:string,body_html:string,body_html_summary:string,body_html_summary_truncated:boolean,bookmarked:boolean,category:string,category_details:string,created_at:string,dislike_count:bigint,disliked:boolean,edited:boolean,embed:struct&lt;html:string,iframe:string&gt;,id:bigint,is_locked:boolean,is_premium:boolean,is_quote:boolean,is_replies_disabled:boolean,is_reply:boolean,language:string,like_count:bigint,liked:boolean,nsfw:boolean,only_emoji:boolean,replies:struct&lt;data:array&lt;string&gt;&gt;,reply_count:bigint,reported:boolean,repost:boolean,repost_count:bigint,revised_at:string,score:bigint,user:struct&lt;id:bigint,is_donor:boolean,is_investor:boolean,is_premium:boolean,is_private:boolean,is_pro:boolean,name:string,picture_url:string,username:string,verified:boolean&gt;&gt;,replies:struct&lt;data:array&lt;string&gt;&gt;,reply_count:bigint,reported:boolean,repost:boolean,repost_count:bigint,revised_at:string,score:bigint,user:struct&lt;id:bigint,is_donor:boolean,is_investor:boolean,is_premium:boolean,is_private:boolean,is_pro:boolean,name:string,picture_url:string,username:string,verified:boolean&gt;&gt;,created_at:string,dislike_count:bigint,disliked:boolean,edited:boolean,embed:struct&lt;html:string,iframe:boolean&gt;,id:bigint,is_locked:boolean,is_premium:boolean,is_quote:boolean,is_replies_disabled:boolean,is_reply:boolean,language:string,like_count:bigint,liked:boolean,nsfw:boolean,only_emoji:boolean,parent:struct&lt;attachment:struct&lt;type:string,value:string&gt;,body:string,body_html:string,body_html_summary:string,body_html_summary_truncated:boolean,bookmarked:boolean,category:string,category_details:string,created_at:string,dislike_count:bigint,disliked:boolean,edited:boolean,embed:struct&lt;html:string,iframe:string&gt;,id:bigint,is_locked:boolean,is_premium:boolean,is_quote:boolean,is_replies_disabled:boolean,is_reply:boolean,language:string,like_count:bigint,liked:boolean,nsfw:boolean,only_emoji:boolean,replies:struct&lt;data:array&lt;string&gt;&gt;,reply_count:bigint,reported:boolean,repost:boolean,repost_count:bigint,revised_at:string,score:bigint,user:struct&lt;id:bigint,is_donor:boolean,is_investor:boolean,is_premium:boolean,is_private:boolean,is_pro:boolean,name:string,picture_url:string,username:string,verified:boolean&gt;&gt;,quote_conversation_parent:struct&lt;attachment:struct&lt;type:string,value:string&gt;,body:string,body_html:string,body_html_summary:string,body_html_summary_truncated:boolean,bookmarked:boolean,category:string,category_details:string,created_at:string,dislike_count:bigint,disliked:boolean,edited:boolean,embed:struct&lt;html:string,iframe:string&gt;,id:bigint,is_locked:boolean,is_premium:boolean,is_quote:boolean,is_replies_disabled:boolean,is_reply:boolean,language:string,like_count:bigint,liked:boolean,nsfw:boolean,only_emoji:boolean,replies:struct&lt;data:array&lt;string&gt;&gt;,reply_count:bigint,reported:boolean,repost:boolean,repost_count:bigint,revised_at:string,score:bigint,user:struct&lt;id:bigint,is_donor:boolean,is_investor:boolean,is_premium:boolean,is_private:boolean,is_pro:boolean,name:string,picture_url:string,username:string,verified:boolean&gt;&gt;,replies:struct&lt;data:array&lt;string&gt;&gt;,reply_count:bigint,reported:boolean,repost:boolean,repost_count:bigint,revised_at:string,score:bigint,topic:struct&lt;category:bigint,created_at:string,id:string,is_featured:boolean,title:string&gt;,user:struct&lt;id:bigint,is_donor:boolean,is_investor:boolean,is_premium:boolean,is_private:boolean,is_pro:boolean,name:string,picture_url:string,username:string,verified:boolean&gt;&gt;,created_at:string,dislike_count:bigint,disliked:boolean,edited:boolean,embed:struct&lt;html:string,iframe:string&gt;,id:bigint,is_locked:boolean,is_premium:boolean,is_quote:boolean,is_replies_disabled:boolean,is_reply:boolean,language:string,like_count:bigint,liked:boolean,nsfw:boolean,only_emoji:boolean,parent:struct&lt;attachment:struct&lt;type:string,value:string&gt;,body:string,body_html:string,body_html_summary:string,body_html_summary_truncated:boolean,bookmarked:boolean,category:bigint,category_details:struct&lt;emoji:string,slug:string,title:string,value:bigint&gt;,created_at:string,dislike_count:bigint,disliked:boolean,edited:boolean,embed:struct&lt;html:string,iframe:boolean&gt;,id:bigint,is_locked:boolean,is_premium:boolean,is_quote:boolean,is_replies_disabled:boolean,is_reply:boolean,language:string,like_count:bigint,liked:boolean,nsfw:boolean,only_emoji:boolean,replies:struct&lt;data:array&lt;string&gt;&gt;,reply_count:bigint,reported:boolean,repost:boolean,repost_count:bigint,revised_at:string,score:bigint,topic:struct&lt;category:bigint,created_at:string,id:string,is_featured:boolean,title:string&gt;,user:struct&lt;id:bigint,is_donor:boolean,is_investor:boolean,is_premium:boolean,is_private:boolean,is_pro:boolean,name:string,picture_url:string,username:string,verified:boolean&gt;&gt;,replies:struct&lt;data:array&lt;string&gt;&gt;,reply_count:bigint,reported:boolean,repost:boolean,repost_count:bigint,revised_at:string,score:bigint,topic:struct&lt;category:bigint,created_at:string,id:string,is_featured:boolean,title:string,user:struct&lt;id:bigint,is_donor:boolean,is_investor:boolean,is_premium:boolean,is_private:boolean,is_pro:boolean,name:string,picture_url:string,username:string,verified:boolean&gt;&gt;,user:struct&lt;id:bigint,is_donor:boolean,is_investor:boolean,is_premium:boolean,is_private:boolean,is_pro:boolean,name:string,picture_url:string,username:string,verified:boolean&gt;&gt;,created_at:string,dislike_count:bigint,disliked:boolean,edited:boolean,embed:struct&lt;html:string,iframe:boolean&gt;,id:bigint,is_locked:boolean,is_premium:boolean,is_quote:boolean,is_replies_disabled:boolean,is_reply:boolean,language:string,like_count:bigint,liked:boolean,nsfw:boolean,only_emoji:boolean,poll:struct&lt;option_1_title:string,option_1_votes:bigint,option_2_title:string,option_2_votes:bigint,option_3_title:string,option_3_votes:bigint,option_4_title:string,option_4_votes:bigint,option_5_title:string,option_5_votes:bigint,total_votes:bigint,voted_option:string&gt;,replies:struct&lt;data:array&lt;string&gt;&gt;,reply_count:bigint,reported:boolean,repost:boolean,repost_count:bigint,revised_at:string,score:bigint,topic:struct&lt;category:bigint,created_at:string,id:string,is_featured:boolean,title:string,user:struct&lt;id:bigint,is_donor:boolean,is_investor:boolean,is_premium:boolean,is_private:boolean,is_pro:boolean,name:string,picture_url:string,username:string,verified:boolean&gt;&gt;,user:struct&lt;id:bigint,is_donor:boolean,is_investor:boolean,is_premium:boolean,is_private:boolean,is_pro:boolean,name:string,picture_url:string,username:string,verified:boolean&gt;&gt;&#39;),\n (&#39;poll&#39;,\n  &#39;struct&lt;option_1_title:string,option_1_votes:bigint,option_2_title:string,option_2_votes:bigint,option_3_title:string,option_3_votes:bigint,option_4_title:string,option_4_votes:bigint,option_5_title:string,option_5_votes:bigint,total_votes:bigint,voted_option:string&gt;&#39;),\n (&#39;quote_conversation_parent&#39;,\n  &#39;struct&lt;attachment:struct&lt;type:string,value:string&gt;,body:string,body_html:string,body_html_summary:string,body_html_summary_truncated:boolean,bookmarked:boolean,category:bigint,category_details:struct&lt;emoji:string,slug:string,title:string,value:bigint&gt;,created_at:string,dislike_count:bigint,disliked:boolean,edited:boolean,embed:struct&lt;html:string,iframe:boolean&gt;,id:bigint,is_locked:boolean,is_premium:boolean,is_quote:boolean,is_replies_disabled:boolean,is_reply:boolean,language:string,like_count:bigint,liked:boolean,nsfw:boolean,only_emoji:boolean,poll:struct&lt;option_1_title:string,option_1_votes:bigint,option_2_title:string,option_2_votes:bigint,option_3_title:string,option_3_votes:bigint,option_4_title:string,option_4_votes:bigint,option_5_title:string,option_5_votes:bigint,total_votes:bigint,voted_option:string&gt;,replies:struct&lt;data:array&lt;string&gt;&gt;,reply_count:bigint,reported:boolean,repost:boolean,repost_count:bigint,revised_at:string,score:bigint,topic:struct&lt;category:bigint,created_at:string,id:string,is_featured:boolean,title:string,user:struct&lt;id:bigint,is_donor:boolean,is_investor:boolean,is_premium:boolean,is_private:boolean,is_pro:boolean,name:string,picture_url:string,username:string,verified:boolean&gt;&gt;,user:struct&lt;id:bigint,is_donor:boolean,is_investor:boolean,is_premium:boolean,is_private:boolean,is_pro:boolean,name:string,picture_url:string,username:string,verified:boolean&gt;&gt;&#39;),\n (&#39;replies&#39;, &#39;struct&lt;data:array&lt;string&gt;&gt;&#39;),\n (&#39;reply_count&#39;, &#39;bigint&#39;),\n (&#39;reported&#39;, &#39;boolean&#39;),\n (&#39;repost&#39;, &#39;boolean&#39;),\n (&#39;repost_count&#39;, &#39;bigint&#39;),\n (&#39;revised_at&#39;, &#39;string&#39;),\n (&#39;score&#39;, &#39;bigint&#39;),\n (&#39;topic&#39;,\n  &#39;struct&lt;category:bigint,created_at:string,id:string,is_featured:boolean,title:string,user:struct&lt;id:bigint,is_donor:boolean,is_investor:boolean,is_premium:boolean,is_private:boolean,is_pro:boolean,name:string,picture_url:string,username:string,verified:boolean&gt;&gt;&#39;),\n (&#39;user&#39;,\n  &#39;struct&lt;id:bigint,is_donor:boolean,is_investor:boolean,is_premium:boolean,is_private:boolean,is_pro:boolean,name:string,picture_url:string,username:string,verified:boolean&gt;&#39;)]</div>",
       "datasetInfos": [],
       "metadata": {},
       "removedWidgets": [],
       "type": "html"
      }
     },
     "output_type": "display_data"
    }
   ],
   "source": [
    "data_chunk_1.dtypes"
   ]
  },
  {
   "cell_type": "code",
   "execution_count": 0,
   "metadata": {
    "application/vnd.databricks.v1+cell": {
     "inputWidgets": {},
     "nuid": "66cf7410-61af-4e03-835c-f5ba52c66c82",
     "showTitle": false,
     "title": ""
    }
   },
   "outputs": [
    {
     "data": {
      "text/html": [
       "<style scoped>\n",
       "  .ansiout {\n",
       "    display: block;\n",
       "    unicode-bidi: embed;\n",
       "    white-space: pre-wrap;\n",
       "    word-wrap: break-word;\n",
       "    word-break: break-all;\n",
       "    font-family: \"Source Code Pro\", \"Menlo\", monospace;;\n",
       "    font-size: 13px;\n",
       "    color: #555;\n",
       "    margin-left: 4px;\n",
       "    line-height: 19px;\n",
       "  }\n",
       "</style>\n",
       "<div class=\"ansiout\">Out[29]: 196847</div>"
      ]
     },
     "metadata": {
      "application/vnd.databricks.v1+output": {
       "addedWidgets": {},
       "arguments": {},
       "data": "<div class=\"ansiout\">Out[29]: 196847</div>",
       "datasetInfos": [],
       "metadata": {},
       "removedWidgets": [],
       "type": "html"
      }
     },
     "output_type": "display_data"
    }
   ],
   "source": [
    "#data_chunk_1.cache()\n",
    "#data_chunk_1.count()\n",
    "#data_chunk_1.where(col(\"topic.title\").isNull()).select(\"body\", \"topic.title\").distinct().show(100, False)\n",
    "#data_chunk_1.where(col(\"topic.title\").isNotNull()).count()\n",
    "#data_chunk_1.where(col(\"repost\") == False).count()"
   ]
  },
  {
   "cell_type": "code",
   "execution_count": 0,
   "metadata": {
    "application/vnd.databricks.v1+cell": {
     "inputWidgets": {},
     "nuid": "411d054c-937b-46eb-a973-716f0d698fb2",
     "showTitle": false,
     "title": ""
    }
   },
   "outputs": [
    {
     "data": {
      "text/html": [
       "<style scoped>\n",
       "  .ansiout {\n",
       "    display: block;\n",
       "    unicode-bidi: embed;\n",
       "    white-space: pre-wrap;\n",
       "    word-wrap: break-word;\n",
       "    word-break: break-all;\n",
       "    font-family: \"Source Code Pro\", \"Menlo\", monospace;;\n",
       "    font-size: 13px;\n",
       "    color: #555;\n",
       "    margin-left: 4px;\n",
       "    line-height: 19px;\n",
       "  }\n",
       "</style>\n",
       "<div class=\"ansiout\">Out[30]: 199448</div>"
      ]
     },
     "metadata": {
      "application/vnd.databricks.v1+output": {
       "addedWidgets": {},
       "arguments": {},
       "data": "<div class=\"ansiout\">Out[30]: 199448</div>",
       "datasetInfos": [],
       "metadata": {},
       "removedWidgets": [],
       "type": "html"
      }
     },
     "output_type": "display_data"
    }
   ],
   "source": [
    "data_chunk_1.count()"
   ]
  },
  {
   "cell_type": "code",
   "execution_count": 0,
   "metadata": {
    "application/vnd.databricks.v1+cell": {
     "inputWidgets": {},
     "nuid": "49fe8f5f-f878-46f6-b72b-e0f4193bc4e9",
     "showTitle": false,
     "title": ""
    }
   },
   "outputs": [
    {
     "data": {
      "text/html": [
       "<style scoped>\n",
       "  .ansiout {\n",
       "    display: block;\n",
       "    unicode-bidi: embed;\n",
       "    white-space: pre-wrap;\n",
       "    word-wrap: break-word;\n",
       "    word-break: break-all;\n",
       "    font-family: \"Source Code Pro\", \"Menlo\", monospace;;\n",
       "    font-size: 13px;\n",
       "    color: #555;\n",
       "    margin-left: 4px;\n",
       "    line-height: 19px;\n",
       "  }\n",
       "</style>\n",
       "<div class=\"ansiout\"></div>"
      ]
     },
     "metadata": {
      "application/vnd.databricks.v1+output": {
       "addedWidgets": {},
       "arguments": {},
       "data": "<div class=\"ansiout\"></div>",
       "datasetInfos": [],
       "metadata": {},
       "removedWidgets": [],
       "type": "html"
      }
     },
     "output_type": "display_data"
    }
   ],
   "source": [
    "data_chunk = data_chunk_1.withColumn('word_count', size(split(col('body'), ' ')))"
   ]
  },
  {
   "cell_type": "code",
   "execution_count": 0,
   "metadata": {
    "application/vnd.databricks.v1+cell": {
     "inputWidgets": {},
     "nuid": "f87ec820-45ff-4d33-8626-0a07db5a0a63",
     "showTitle": false,
     "title": ""
    }
   },
   "outputs": [
    {
     "data": {
      "text/html": [
       "<style scoped>\n",
       "  .ansiout {\n",
       "    display: block;\n",
       "    unicode-bidi: embed;\n",
       "    white-space: pre-wrap;\n",
       "    word-wrap: break-word;\n",
       "    word-break: break-all;\n",
       "    font-family: \"Source Code Pro\", \"Menlo\", monospace;;\n",
       "    font-size: 13px;\n",
       "    color: #555;\n",
       "    margin-left: 4px;\n",
       "    line-height: 19px;\n",
       "  }\n",
       "</style>\n",
       "<div class=\"ansiout\">+------------------+\n",
       "   avg(word_count)|\n",
       "+------------------+\n",
       "17.626870161646142|\n",
       "+------------------+\n",
       "\n",
       "</div>"
      ]
     },
     "metadata": {
      "application/vnd.databricks.v1+output": {
       "addedWidgets": {},
       "arguments": {},
       "data": "<div class=\"ansiout\">+------------------+\n|   avg(word_count)|\n+------------------+\n|17.626870161646142|\n+------------------+\n\n</div>",
       "datasetInfos": [],
       "metadata": {},
       "removedWidgets": [],
       "type": "html"
      }
     },
     "output_type": "display_data"
    }
   ],
   "source": [
    "data_chunk.select(avg(col(\"word_count\"))).show()"
   ]
  },
  {
   "cell_type": "code",
   "execution_count": 0,
   "metadata": {
    "application/vnd.databricks.v1+cell": {
     "inputWidgets": {},
     "nuid": "95e30f8f-aca0-442b-8ad6-6f240e707769",
     "showTitle": false,
     "title": ""
    }
   },
   "outputs": [
    {
     "data": {
      "text/html": [
       "<style scoped>\n",
       "  .ansiout {\n",
       "    display: block;\n",
       "    unicode-bidi: embed;\n",
       "    white-space: pre-wrap;\n",
       "    word-wrap: break-word;\n",
       "    word-break: break-all;\n",
       "    font-family: \"Source Code Pro\", \"Menlo\", monospace;;\n",
       "    font-size: 13px;\n",
       "    color: #555;\n",
       "    margin-left: 4px;\n",
       "    line-height: 19px;\n",
       "  }\n",
       "</style>\n",
       "<div class=\"ansiout\">+------------------+\n",
       "  avg(reply_count)|\n",
       "+------------------+\n",
       "0.3179169608884057|\n",
       "+------------------+\n",
       "\n",
       "</div>"
      ]
     },
     "metadata": {
      "application/vnd.databricks.v1+output": {
       "addedWidgets": {},
       "arguments": {},
       "data": "<div class=\"ansiout\">+------------------+\n|  avg(reply_count)|\n+------------------+\n|0.3179169608884057|\n+------------------+\n\n</div>",
       "datasetInfos": [],
       "metadata": {},
       "removedWidgets": [],
       "type": "html"
      }
     },
     "output_type": "display_data"
    }
   ],
   "source": [
    "data_chunk.select(avg(col(\"reply_count\"))).show()"
   ]
  },
  {
   "cell_type": "code",
   "execution_count": 0,
   "metadata": {
    "application/vnd.databricks.v1+cell": {
     "inputWidgets": {},
     "nuid": "e54cf2d8-94d6-4636-846d-f73db1a94e2b",
     "showTitle": false,
     "title": ""
    }
   },
   "outputs": [
    {
     "data": {
      "text/html": [
       "<style scoped>\n",
       "  .ansiout {\n",
       "    display: block;\n",
       "    unicode-bidi: embed;\n",
       "    white-space: pre-wrap;\n",
       "    word-wrap: break-word;\n",
       "    word-break: break-all;\n",
       "    font-family: \"Source Code Pro\", \"Menlo\", monospace;;\n",
       "    font-size: 13px;\n",
       "    color: #555;\n",
       "    margin-left: 4px;\n",
       "    line-height: 19px;\n",
       "  }\n",
       "</style>\n",
       "<div class=\"ansiout\">Out[34]: 139869</div>"
      ]
     },
     "metadata": {
      "application/vnd.databricks.v1+output": {
       "addedWidgets": {},
       "arguments": {},
       "data": "<div class=\"ansiout\">Out[34]: 139869</div>",
       "datasetInfos": [],
       "metadata": {},
       "removedWidgets": [],
       "type": "html"
      }
     },
     "output_type": "display_data"
    }
   ],
   "source": [
    "data_chunk.where(col(\"is_reply\") == False).count()"
   ]
  },
  {
   "cell_type": "code",
   "execution_count": 0,
   "metadata": {
    "application/vnd.databricks.v1+cell": {
     "inputWidgets": {},
     "nuid": "7ef29e2f-a6e4-4593-9630-2f07368cf35d",
     "showTitle": false,
     "title": ""
    }
   },
   "outputs": [
    {
     "data": {
      "text/html": [
       "<style scoped>\n",
       "  .ansiout {\n",
       "    display: block;\n",
       "    unicode-bidi: embed;\n",
       "    white-space: pre-wrap;\n",
       "    word-wrap: break-word;\n",
       "    word-break: break-all;\n",
       "    font-family: \"Source Code Pro\", \"Menlo\", monospace;;\n",
       "    font-size: 13px;\n",
       "    color: #555;\n",
       "    margin-left: 4px;\n",
       "    line-height: 19px;\n",
       "  }\n",
       "</style>\n",
       "<div class=\"ansiout\">Out[36]: 196847</div>"
      ]
     },
     "metadata": {
      "application/vnd.databricks.v1+output": {
       "addedWidgets": {},
       "arguments": {},
       "data": "<div class=\"ansiout\">Out[36]: 196847</div>",
       "datasetInfos": [],
       "metadata": {},
       "removedWidgets": [],
       "type": "html"
      }
     },
     "output_type": "display_data"
    }
   ],
   "source": [
    "data_chunk.where(col(\"only_emoji\") == False).count()"
   ]
  },
  {
   "cell_type": "code",
   "execution_count": 0,
   "metadata": {
    "application/vnd.databricks.v1+cell": {
     "inputWidgets": {},
     "nuid": "a38c8689-5a24-4e83-a7d9-a862ecef955c",
     "showTitle": false,
     "title": ""
    }
   },
   "outputs": [
    {
     "data": {
      "text/html": [
       "<style scoped>\n",
       "  .ansiout {\n",
       "    display: block;\n",
       "    unicode-bidi: embed;\n",
       "    white-space: pre-wrap;\n",
       "    word-wrap: break-word;\n",
       "    word-break: break-all;\n",
       "    font-family: \"Source Code Pro\", \"Menlo\", monospace;;\n",
       "    font-size: 13px;\n",
       "    color: #555;\n",
       "    margin-left: 4px;\n",
       "    line-height: 19px;\n",
       "  }\n",
       "</style>\n",
       "<div class=\"ansiout\">Out[38]: 21921</div>"
      ]
     },
     "metadata": {
      "application/vnd.databricks.v1+output": {
       "addedWidgets": {},
       "arguments": {},
       "data": "<div class=\"ansiout\">Out[38]: 21921</div>",
       "datasetInfos": [],
       "metadata": {},
       "removedWidgets": [],
       "type": "html"
      }
     },
     "output_type": "display_data"
    }
   ],
   "source": [
    "data_chunk.where(col(\"is_quote\") == True).count()"
   ]
  },
  {
   "cell_type": "code",
   "execution_count": 0,
   "metadata": {
    "application/vnd.databricks.v1+cell": {
     "inputWidgets": {},
     "nuid": "1dd57ff4-ca45-4d5b-9ef8-b9c2b8f3ab2f",
     "showTitle": false,
     "title": ""
    }
   },
   "outputs": [
    {
     "data": {
      "text/html": [
       "<style scoped>\n",
       "  .ansiout {\n",
       "    display: block;\n",
       "    unicode-bidi: embed;\n",
       "    white-space: pre-wrap;\n",
       "    word-wrap: break-word;\n",
       "    word-break: break-all;\n",
       "    font-family: \"Source Code Pro\", \"Menlo\", monospace;;\n",
       "    font-size: 13px;\n",
       "    color: #555;\n",
       "    margin-left: 4px;\n",
       "    line-height: 19px;\n",
       "  }\n",
       "</style>\n",
       "<div class=\"ansiout\">+-------------+\n",
       "title        |\n",
       "+-------------+\n",
       "Philosophy   |\n",
       "Science      |\n",
       "Faith        |\n",
       "Entertainment|\n",
       "Art          |\n",
       "Sports       |\n",
       "Finance      |\n",
       "Cuisine      |\n",
       "AMA          |\n",
       "Music        |\n",
       "Photography  |\n",
       "Technology   |\n",
       "Humor        |\n",
       "Politics     |\n",
       "News         |\n",
       "+-------------+\n",
       "\n",
       "</div>"
      ]
     },
     "metadata": {
      "application/vnd.databricks.v1+output": {
       "addedWidgets": {},
       "arguments": {},
       "data": "<div class=\"ansiout\">+-------------+\n|title        |\n+-------------+\n|Philosophy   |\n|Science      |\n|Faith        |\n|Entertainment|\n|Art          |\n|Sports       |\n|Finance      |\n|Cuisine      |\n|AMA          |\n|Music        |\n|Photography  |\n|Technology   |\n|Humor        |\n|Politics     |\n|News         |\n+-------------+\n\n</div>",
       "datasetInfos": [],
       "metadata": {},
       "removedWidgets": [],
       "type": "html"
      }
     },
     "output_type": "display_data"
    }
   ],
   "source": [
    "data_chunk.where(col(\"category_details.title\").isNotNull()).groupBy(\"category_details.title\").distinct().show(200, False)"
   ]
  },
  {
   "cell_type": "code",
   "execution_count": 0,
   "metadata": {
    "application/vnd.databricks.v1+cell": {
     "inputWidgets": {},
     "nuid": "d4f32161-17a0-481a-a7fd-ae51a871ae51",
     "showTitle": false,
     "title": ""
    }
   },
   "outputs": [
    {
     "data": {
      "text/html": [
       "<style scoped>\n",
       "  .ansiout {\n",
       "    display: block;\n",
       "    unicode-bidi: embed;\n",
       "    white-space: pre-wrap;\n",
       "    word-wrap: break-word;\n",
       "    word-break: break-all;\n",
       "    font-family: \"Source Code Pro\", \"Menlo\", monospace;;\n",
       "    font-size: 13px;\n",
       "    color: #555;\n",
       "    margin-left: 4px;\n",
       "    line-height: 19px;\n",
       "  }\n",
       "</style>\n",
       "<div class=\"ansiout\">Out[41]: 71672</div>"
      ]
     },
     "metadata": {
      "application/vnd.databricks.v1+output": {
       "addedWidgets": {},
       "arguments": {},
       "data": "<div class=\"ansiout\">Out[41]: 71672</div>",
       "datasetInfos": [],
       "metadata": {},
       "removedWidgets": [],
       "type": "html"
      }
     },
     "output_type": "display_data"
    }
   ],
   "source": [
    "data_chunk.where(col(\"category_details.title\").isNotNull()).count()"
   ]
  },
  {
   "cell_type": "code",
   "execution_count": 0,
   "metadata": {
    "application/vnd.databricks.v1+cell": {
     "inputWidgets": {},
     "nuid": "2cf7b01b-b89a-46b5-84d4-2ca3b0202af9",
     "showTitle": false,
     "title": ""
    }
   },
   "outputs": [
    {
     "data": {
      "text/html": [
       "<style scoped>\n",
       "  .ansiout {\n",
       "    display: block;\n",
       "    unicode-bidi: embed;\n",
       "    white-space: pre-wrap;\n",
       "    word-wrap: break-word;\n",
       "    word-break: break-all;\n",
       "    font-family: \"Source Code Pro\", \"Menlo\", monospace;;\n",
       "    font-size: 13px;\n",
       "    color: #555;\n",
       "    margin-left: 4px;\n",
       "    line-height: 19px;\n",
       "  }\n",
       "</style>\n",
       "<div class=\"ansiout\">+-------------+-----+\n",
       "title        |count|\n",
       "+-------------+-----+\n",
       "Philosophy   |886  |\n",
       "Science      |1116 |\n",
       "Faith        |1409 |\n",
       "Entertainment|1877 |\n",
       "Art          |1018 |\n",
       "Sports       |454  |\n",
       "Finance      |522  |\n",
       "Cuisine      |201  |\n",
       "AMA          |16917|\n",
       "Music        |1021 |\n",
       "Photography  |1411 |\n",
       "Technology   |1324 |\n",
       "Humor        |8152 |\n",
       "Politics     |14535|\n",
       "News         |20829|\n",
       "+-------------+-----+\n",
       "\n",
       "</div>"
      ]
     },
     "metadata": {
      "application/vnd.databricks.v1+output": {
       "addedWidgets": {},
       "arguments": {},
       "data": "<div class=\"ansiout\">+-------------+-----+\n|title        |count|\n+-------------+-----+\n|Philosophy   |886  |\n|Science      |1116 |\n|Faith        |1409 |\n|Entertainment|1877 |\n|Art          |1018 |\n|Sports       |454  |\n|Finance      |522  |\n|Cuisine      |201  |\n|AMA          |16917|\n|Music        |1021 |\n|Photography  |1411 |\n|Technology   |1324 |\n|Humor        |8152 |\n|Politics     |14535|\n|News         |20829|\n+-------------+-----+\n\n</div>",
       "datasetInfos": [],
       "metadata": {},
       "removedWidgets": [],
       "type": "html"
      }
     },
     "output_type": "display_data"
    }
   ],
   "source": [
    "data_chunk.where(col(\"category_details.title\").isNotNull()).groupBy(\"category_details.title\").count().show(200, False)"
   ]
  },
  {
   "cell_type": "code",
   "execution_count": 0,
   "metadata": {
    "application/vnd.databricks.v1+cell": {
     "inputWidgets": {},
     "nuid": "901f7bb9-5453-4a65-9fce-7851dc81caa8",
     "showTitle": false,
     "title": ""
    }
   },
   "outputs": [
    {
     "data": {
      "text/html": [
       "<style scoped>\n",
       "  .ansiout {\n",
       "    display: block;\n",
       "    unicode-bidi: embed;\n",
       "    white-space: pre-wrap;\n",
       "    word-wrap: break-word;\n",
       "    word-break: break-all;\n",
       "    font-family: \"Source Code Pro\", \"Menlo\", monospace;;\n",
       "    font-size: 13px;\n",
       "    color: #555;\n",
       "    margin-left: 4px;\n",
       "    line-height: 19px;\n",
       "  }\n",
       "</style>\n",
       "<div class=\"ansiout\">+-------------------------------------+------+\n",
       "title                                |count |\n",
       "+-------------------------------------+------+\n",
       "null                                 |157723|\n",
       "BritFam                              |8244  |\n",
       "Memes                                |5794  |\n",
       "Deutsch                              |4999  |\n",
       "Introduce Yourself                   |2939  |\n",
       "North Korea                          |1717  |\n",
       "Pettibone &amp; Sellner Detained UK      |1439  |\n",
       "Trump Rally                          |1104  |\n",
       "Yountville Shooting                  |955   |\n",
       "Martin Sellner Arrested              |842   |\n",
       "Tillerson Ousted                     |598   |\n",
       "MEME WARS                            |554   |\n",
       "Tump Visits Border Wall Prototypes   |522   |\n",
       "South Africa                         |514   |\n",
       "What are you listening to?           |497   |\n",
       "Gamers                               |487   |\n",
       "Guns of Gab                          |450   |\n",
       "Gun Control Push                     |396   |\n",
       "Daylight Savings Time                |374   |\n",
       "Bitcoin                              |323   |\n",
       "AusFam                               |320   |\n",
       "Jayda Fransen Verdict                |269   |\n",
       "Cinema                               |259   |\n",
       "House Ends Russia Investigation      |241   |\n",
       "NCAA tournament 1st &amp; 2nd rounds     |239   |\n",
       "CIA GINA HASPEL                      |222   |\n",
       "Pennsylvania Election                |206   |\n",
       "Weekend Plans                        |202   |\n",
       "Obama Taking TV Series to Netflix    |169   |\n",
       "Great Books                          |158   |\n",
       "Laughter is Medicine                 |152   |\n",
       "Martin Shkreli                       |144   |\n",
       "Black on White Violence              |109   |\n",
       "Trump Military Speech                |108   |\n",
       "Cool Cars                            |105   |\n",
       "Classic Cars and Trucks              |105   |\n",
       "Any lefties use Gab?                 |101   |\n",
       "Censorship                           |97    |\n",
       "Florida Gun Control                  |94    |\n",
       "Trade War                            |87    |\n",
       "Keep America Great                   |85    |\n",
       "Internet Bill of Rights Debate       |80    |\n",
       "Elite Globalists Trash The World     |79    |\n",
       "\\ud83d\\udc8a Red Pills \\ud83d\\udc8a  |78    |\n",
       "Dragon Ball Super                    |75    |\n",
       "The Jews Are Bad                     |75    |\n",
       "\\u26a0Tucker Highlights\\u26a0        |74    |\n",
       "cbts_stream                          |72    |\n",
       "National School Walkout - 3\\/14\\/2018|72    |\n",
       "Gab fran\\u00e7ais                    |70    |\n",
       "\\u26beBaseball season returns \\u26be |68    |\n",
       "Pocahontas - Elizabeth Warren        |67    |\n",
       "Arctic Norway                        |63    |\n",
       "Anti White                           |58    |\n",
       "How Israel Censors The Internet      |56    |\n",
       "Traditional Lifestyle                |56    |\n",
       "What&#39;s Going On?                     |51    |\n",
       "North Korean policy change           |50    |\n",
       "Genocide in South Africa             |50    |\n",
       "#QAnon                               |49    |\n",
       "Low IQ                               |48    |\n",
       "Jesus was named after Joshua         |47    |\n",
       "Islam Must Be Stopped                |46    |\n",
       "homesteading &amp; off grid living       |45    |\n",
       "RETAKING OUR WOMEN                   |44    |\n",
       "Remove border control                |44    |\n",
       "Women&#39;s Day 2018                     |41    |\n",
       "Florida School Shooting              |41    |\n",
       "Hillary&#39;s India Fall                 |40    |\n",
       "What&#39;s Your Desktop Background?      |38    |\n",
       "Conspiracies                         |37    |\n",
       "Rise of the Beta Males?              |37    |\n",
       "Democrats Going Full Libtard         |37    |\n",
       "The Black Race SUCKS                 |37    |\n",
       "Defacto Gun Control Without A Fight  |36    |\n",
       "Weather                              |35    |\n",
       "Help Find A Cure for Liberalism      |35    |\n",
       "Terrorism in Minnesota               |34    |\n",
       "House Begins Israel Investigation    |33    |\n",
       "GOP Gun Control                      |33    |\n",
       "Creepy Alexa                         |32    |\n",
       "Mayor Sadiq Con                      |32    |\n",
       "Amelia Earhart                       |31    |\n",
       "Hillary is Sick and Lied Abt It      |31    |\n",
       "Black Crime                          |31    |\n",
       "NRA (National Rifle Association)     |30    |\n",
       "The Word                             |29    |\n",
       "Italian Election                     |28    |\n",
       "Sessions Sues California             |28    |\n",
       "Indians are Red Nigger Skunks        |28    |\n",
       "Replacement for Star Wars            |28    |\n",
       "What Is \\&#34;Sacrifice\\&#34;?               |27    |\n",
       " George Lincoln Rockwell Day         |27    |\n",
       "Holohoax                             |27    |\n",
       "Dogs, Dogs, and More Dogs            |27    |\n",
       "Steal This Gif - Share Your Best     |27    |\n",
       "#Dumb Ass Top 40 Songs               |26    |\n",
       "speaking truth                       |26    |\n",
       "Tucker Special On Men                |26    |\n",
       "Seth Rich Ghost Writer               |25    |\n",
       "+-------------------------------------+------+\n",
       "only showing top 100 rows\n",
       "\n",
       "</div>"
      ]
     },
     "metadata": {
      "application/vnd.databricks.v1+output": {
       "addedWidgets": {},
       "arguments": {},
       "data": "<div class=\"ansiout\">+-------------------------------------+------+\n|title                                |count |\n+-------------------------------------+------+\n|null                                 |157723|\n|BritFam                              |8244  |\n|Memes                                |5794  |\n|Deutsch                              |4999  |\n|Introduce Yourself                   |2939  |\n|North Korea                          |1717  |\n|Pettibone &amp; Sellner Detained UK      |1439  |\n|Trump Rally                          |1104  |\n|Yountville Shooting                  |955   |\n|Martin Sellner Arrested              |842   |\n|Tillerson Ousted                     |598   |\n|MEME WARS                            |554   |\n|Tump Visits Border Wall Prototypes   |522   |\n|South Africa                         |514   |\n|What are you listening to?           |497   |\n|Gamers                               |487   |\n|Guns of Gab                          |450   |\n|Gun Control Push                     |396   |\n|Daylight Savings Time                |374   |\n|Bitcoin                              |323   |\n|AusFam                               |320   |\n|Jayda Fransen Verdict                |269   |\n|Cinema                               |259   |\n|House Ends Russia Investigation      |241   |\n|NCAA tournament 1st &amp; 2nd rounds     |239   |\n|CIA GINA HASPEL                      |222   |\n|Pennsylvania Election                |206   |\n|Weekend Plans                        |202   |\n|Obama Taking TV Series to Netflix    |169   |\n|Great Books                          |158   |\n|Laughter is Medicine                 |152   |\n|Martin Shkreli                       |144   |\n|Black on White Violence              |109   |\n|Trump Military Speech                |108   |\n|Cool Cars                            |105   |\n|Classic Cars and Trucks              |105   |\n|Any lefties use Gab?                 |101   |\n|Censorship                           |97    |\n|Florida Gun Control                  |94    |\n|Trade War                            |87    |\n|Keep America Great                   |85    |\n|Internet Bill of Rights Debate       |80    |\n|Elite Globalists Trash The World     |79    |\n|\\ud83d\\udc8a Red Pills \\ud83d\\udc8a  |78    |\n|Dragon Ball Super                    |75    |\n|The Jews Are Bad                     |75    |\n|\\u26a0Tucker Highlights\\u26a0        |74    |\n|cbts_stream                          |72    |\n|National School Walkout - 3\\/14\\/2018|72    |\n|Gab fran\\u00e7ais                    |70    |\n|\\u26beBaseball season returns \\u26be |68    |\n|Pocahontas - Elizabeth Warren        |67    |\n|Arctic Norway                        |63    |\n|Anti White                           |58    |\n|How Israel Censors The Internet      |56    |\n|Traditional Lifestyle                |56    |\n|What&#39;s Going On?                     |51    |\n|North Korean policy change           |50    |\n|Genocide in South Africa             |50    |\n|#QAnon                               |49    |\n|Low IQ                               |48    |\n|Jesus was named after Joshua         |47    |\n|Islam Must Be Stopped                |46    |\n|homesteading &amp; off grid living       |45    |\n|RETAKING OUR WOMEN                   |44    |\n|Remove border control                |44    |\n|Women&#39;s Day 2018                     |41    |\n|Florida School Shooting              |41    |\n|Hillary&#39;s India Fall                 |40    |\n|What&#39;s Your Desktop Background?      |38    |\n|Conspiracies                         |37    |\n|Rise of the Beta Males?              |37    |\n|Democrats Going Full Libtard         |37    |\n|The Black Race SUCKS                 |37    |\n|Defacto Gun Control Without A Fight  |36    |\n|Weather                              |35    |\n|Help Find A Cure for Liberalism      |35    |\n|Terrorism in Minnesota               |34    |\n|House Begins Israel Investigation    |33    |\n|GOP Gun Control                      |33    |\n|Creepy Alexa                         |32    |\n|Mayor Sadiq Con                      |32    |\n|Amelia Earhart                       |31    |\n|Hillary is Sick and Lied Abt It      |31    |\n|Black Crime                          |31    |\n|NRA (National Rifle Association)     |30    |\n|The Word                             |29    |\n|Italian Election                     |28    |\n|Sessions Sues California             |28    |\n|Indians are Red Nigger Skunks        |28    |\n|Replacement for Star Wars            |28    |\n|What Is \\&#34;Sacrifice\\&#34;?               |27    |\n| George Lincoln Rockwell Day         |27    |\n|Holohoax                             |27    |\n|Dogs, Dogs, and More Dogs            |27    |\n|Steal This Gif - Share Your Best     |27    |\n|#Dumb Ass Top 40 Songs               |26    |\n|speaking truth                       |26    |\n|Tucker Special On Men                |26    |\n|Seth Rich Ghost Writer               |25    |\n+-------------------------------------+------+\nonly showing top 100 rows\n\n</div>",
       "datasetInfos": [],
       "metadata": {},
       "removedWidgets": [],
       "type": "html"
      }
     },
     "output_type": "display_data"
    }
   ],
   "source": [
    "data_chunk.groupBy(\"topic.title\").count().orderBy(col(\"count\").desc()).show(100, False)"
   ]
  },
  {
   "cell_type": "code",
   "execution_count": 0,
   "metadata": {
    "application/vnd.databricks.v1+cell": {
     "inputWidgets": {},
     "nuid": "6c518f02-3255-4f72-b475-0ef62be63f1b",
     "showTitle": false,
     "title": ""
    }
   },
   "outputs": [
    {
     "data": {
      "text/html": [
       "<style scoped>\n",
       "  .ansiout {\n",
       "    display: block;\n",
       "    unicode-bidi: embed;\n",
       "    white-space: pre-wrap;\n",
       "    word-wrap: break-word;\n",
       "    word-break: break-all;\n",
       "    font-family: \"Source Code Pro\", \"Menlo\", monospace;;\n",
       "    font-size: 13px;\n",
       "    color: #555;\n",
       "    margin-left: 4px;\n",
       "    line-height: 19px;\n",
       "  }\n",
       "</style>\n",
       "<div class=\"ansiout\">Out[50]: &#39;2018-03-10T04:05:04+00:00&#39;</div>"
      ]
     },
     "metadata": {
      "application/vnd.databricks.v1+output": {
       "addedWidgets": {},
       "arguments": {},
       "data": "<div class=\"ansiout\">Out[50]: &#39;2018-03-10T04:05:04+00:00&#39;</div>",
       "datasetInfos": [],
       "metadata": {},
       "removedWidgets": [],
       "type": "html"
      }
     },
     "output_type": "display_data"
    }
   ],
   "source": [
    "data_chunk.agg({\"created_at\": \"min\"}).collect()[0][0]"
   ]
  },
  {
   "cell_type": "code",
   "execution_count": 0,
   "metadata": {
    "application/vnd.databricks.v1+cell": {
     "inputWidgets": {},
     "nuid": "4b0f69b9-881f-4db2-b643-098c58d75537",
     "showTitle": false,
     "title": ""
    }
   },
   "outputs": [
    {
     "data": {
      "text/html": [
       "<style scoped>\n",
       "  .ansiout {\n",
       "    display: block;\n",
       "    unicode-bidi: embed;\n",
       "    white-space: pre-wrap;\n",
       "    word-wrap: break-word;\n",
       "    word-break: break-all;\n",
       "    font-family: \"Source Code Pro\", \"Menlo\", monospace;;\n",
       "    font-size: 13px;\n",
       "    color: #555;\n",
       "    margin-left: 4px;\n",
       "    line-height: 19px;\n",
       "  }\n",
       "</style>\n",
       "<div class=\"ansiout\">Out[51]: &#39;2018-03-13T20:51:35+00:00&#39;</div>"
      ]
     },
     "metadata": {
      "application/vnd.databricks.v1+output": {
       "addedWidgets": {},
       "arguments": {},
       "data": "<div class=\"ansiout\">Out[51]: &#39;2018-03-13T20:51:35+00:00&#39;</div>",
       "datasetInfos": [],
       "metadata": {},
       "removedWidgets": [],
       "type": "html"
      }
     },
     "output_type": "display_data"
    }
   ],
   "source": [
    "data_chunk.agg({\"created_at\": \"max\"}).collect()[0][0]"
   ]
  },
  {
   "cell_type": "code",
   "execution_count": 0,
   "metadata": {
    "application/vnd.databricks.v1+cell": {
     "inputWidgets": {},
     "nuid": "6bfc1117-f4f6-487b-9228-77d9fec1fb87",
     "showTitle": false,
     "title": ""
    }
   },
   "outputs": [
    {
     "data": {
      "text/html": [
       "<style scoped>\n",
       "  .ansiout {\n",
       "    display: block;\n",
       "    unicode-bidi: embed;\n",
       "    white-space: pre-wrap;\n",
       "    word-wrap: break-word;\n",
       "    word-break: break-all;\n",
       "    font-family: \"Source Code Pro\", \"Menlo\", monospace;;\n",
       "    font-size: 13px;\n",
       "    color: #555;\n",
       "    margin-left: 4px;\n",
       "    line-height: 19px;\n",
       "  }\n",
       "</style>\n",
       "<div class=\"ansiout\">Out[64]: -18</div>"
      ]
     },
     "metadata": {
      "application/vnd.databricks.v1+output": {
       "addedWidgets": {},
       "arguments": {},
       "data": "<div class=\"ansiout\">Out[64]: -18</div>",
       "datasetInfos": [],
       "metadata": {},
       "removedWidgets": [],
       "type": "html"
      }
     },
     "output_type": "display_data"
    }
   ],
   "source": [
    "data_chunk.agg({\"score\": \"min\"}).collect()[0][0]"
   ]
  },
  {
   "cell_type": "code",
   "execution_count": 0,
   "metadata": {
    "application/vnd.databricks.v1+cell": {
     "inputWidgets": {},
     "nuid": "b12464f0-5301-4087-b8b0-c7e9e078321c",
     "showTitle": false,
     "title": ""
    }
   },
   "outputs": [
    {
     "data": {
      "text/html": [
       "<style scoped>\n",
       "  .ansiout {\n",
       "    display: block;\n",
       "    unicode-bidi: embed;\n",
       "    white-space: pre-wrap;\n",
       "    word-wrap: break-word;\n",
       "    word-break: break-all;\n",
       "    font-family: \"Source Code Pro\", \"Menlo\", monospace;;\n",
       "    font-size: 13px;\n",
       "    color: #555;\n",
       "    margin-left: 4px;\n",
       "    line-height: 19px;\n",
       "  }\n",
       "</style>\n",
       "<div class=\"ansiout\"></div>"
      ]
     },
     "metadata": {
      "application/vnd.databricks.v1+output": {
       "addedWidgets": {},
       "arguments": {},
       "data": "<div class=\"ansiout\"></div>",
       "datasetInfos": [],
       "metadata": {},
       "removedWidgets": [],
       "type": "html"
      }
     },
     "output_type": "display_data"
    }
   ],
   "source": [
    "data_chunk_first = spark.read.format(\"binary\").json(\"/mnt/group12/data/part-00000.bin\")\n",
    "data_chunk_last = spark.read.format(\"binary\").json(\"/mnt/group12/data/part-00862.bin\")"
   ]
  },
  {
   "cell_type": "code",
   "execution_count": 0,
   "metadata": {
    "application/vnd.databricks.v1+cell": {
     "inputWidgets": {},
     "nuid": "8aa86a03-afcc-4581-94c2-4b6457816463",
     "showTitle": false,
     "title": ""
    }
   },
   "outputs": [
    {
     "data": {
      "text/html": [
       "<style scoped>\n",
       "  .ansiout {\n",
       "    display: block;\n",
       "    unicode-bidi: embed;\n",
       "    white-space: pre-wrap;\n",
       "    word-wrap: break-word;\n",
       "    word-break: break-all;\n",
       "    font-family: \"Source Code Pro\", \"Menlo\", monospace;;\n",
       "    font-size: 13px;\n",
       "    color: #555;\n",
       "    margin-left: 4px;\n",
       "    line-height: 19px;\n",
       "  }\n",
       "</style>\n",
       "<div class=\"ansiout\"></div>"
      ]
     },
     "metadata": {
      "application/vnd.databricks.v1+output": {
       "addedWidgets": {},
       "arguments": {},
       "data": "<div class=\"ansiout\"></div>",
       "datasetInfos": [],
       "metadata": {},
       "removedWidgets": [],
       "type": "html"
      }
     },
     "output_type": "display_data"
    }
   ],
   "source": [
    "data_chunk_second = spark.read.format(\"binary\").json(\"/mnt/group12/data/part-00001.bin\")"
   ]
  },
  {
   "cell_type": "code",
   "execution_count": 0,
   "metadata": {
    "application/vnd.databricks.v1+cell": {
     "inputWidgets": {},
     "nuid": "95590f33-2499-4fe3-86fc-d37d6769ac91",
     "showTitle": false,
     "title": ""
    }
   },
   "outputs": [
    {
     "data": {
      "text/html": [
       "<style scoped>\n",
       "  .ansiout {\n",
       "    display: block;\n",
       "    unicode-bidi: embed;\n",
       "    white-space: pre-wrap;\n",
       "    word-wrap: break-word;\n",
       "    word-break: break-all;\n",
       "    font-family: \"Source Code Pro\", \"Menlo\", monospace;;\n",
       "    font-size: 13px;\n",
       "    color: #555;\n",
       "    margin-left: 4px;\n",
       "    line-height: 19px;\n",
       "  }\n",
       "</style>\n",
       "<div class=\"ansiout\">Out[53]: &#39;2016-08-10T03:58:37+00:00&#39;</div>"
      ]
     },
     "metadata": {
      "application/vnd.databricks.v1+output": {
       "addedWidgets": {},
       "arguments": {},
       "data": "<div class=\"ansiout\">Out[53]: &#39;2016-08-10T03:58:37+00:00&#39;</div>",
       "datasetInfos": [],
       "metadata": {},
       "removedWidgets": [],
       "type": "html"
      }
     },
     "output_type": "display_data"
    }
   ],
   "source": [
    "data_chunk_first.agg({\"created_at\": \"min\"}).collect()[0][0]"
   ]
  },
  {
   "cell_type": "code",
   "execution_count": 0,
   "metadata": {
    "application/vnd.databricks.v1+cell": {
     "inputWidgets": {},
     "nuid": "4ffe08dc-d5af-4763-9b24-b6e532aab45e",
     "showTitle": false,
     "title": ""
    }
   },
   "outputs": [
    {
     "data": {
      "text/html": [
       "<style scoped>\n",
       "  .ansiout {\n",
       "    display: block;\n",
       "    unicode-bidi: embed;\n",
       "    white-space: pre-wrap;\n",
       "    word-wrap: break-word;\n",
       "    word-break: break-all;\n",
       "    font-family: \"Source Code Pro\", \"Menlo\", monospace;;\n",
       "    font-size: 13px;\n",
       "    color: #555;\n",
       "    margin-left: 4px;\n",
       "    line-height: 19px;\n",
       "  }\n",
       "</style>\n",
       "<div class=\"ansiout\">Out[59]: &#39;2016-08-26T00:49:04+00:00&#39;</div>"
      ]
     },
     "metadata": {
      "application/vnd.databricks.v1+output": {
       "addedWidgets": {},
       "arguments": {},
       "data": "<div class=\"ansiout\">Out[59]: &#39;2016-08-26T00:49:04+00:00&#39;</div>",
       "datasetInfos": [],
       "metadata": {},
       "removedWidgets": [],
       "type": "html"
      }
     },
     "output_type": "display_data"
    }
   ],
   "source": [
    "data_chunk_first.agg({\"created_at\": \"max\"}).collect()[0][0]"
   ]
  },
  {
   "cell_type": "code",
   "execution_count": 0,
   "metadata": {
    "application/vnd.databricks.v1+cell": {
     "inputWidgets": {},
     "nuid": "5f5a4139-613a-4030-a21a-e235cee43846",
     "showTitle": false,
     "title": ""
    }
   },
   "outputs": [
    {
     "data": {
      "text/html": [
       "<style scoped>\n",
       "  .ansiout {\n",
       "    display: block;\n",
       "    unicode-bidi: embed;\n",
       "    white-space: pre-wrap;\n",
       "    word-wrap: break-word;\n",
       "    word-break: break-all;\n",
       "    font-family: \"Source Code Pro\", \"Menlo\", monospace;;\n",
       "    font-size: 13px;\n",
       "    color: #555;\n",
       "    margin-left: 4px;\n",
       "    line-height: 19px;\n",
       "  }\n",
       "</style>\n",
       "<div class=\"ansiout\">Out[61]: &#39;2016-08-26T00:49:05+00:00&#39;</div>"
      ]
     },
     "metadata": {
      "application/vnd.databricks.v1+output": {
       "addedWidgets": {},
       "arguments": {},
       "data": "<div class=\"ansiout\">Out[61]: &#39;2016-08-26T00:49:05+00:00&#39;</div>",
       "datasetInfos": [],
       "metadata": {},
       "removedWidgets": [],
       "type": "html"
      }
     },
     "output_type": "display_data"
    }
   ],
   "source": [
    "data_chunk_second.agg({\"created_at\": \"min\"}).collect()[0][0]"
   ]
  },
  {
   "cell_type": "code",
   "execution_count": 0,
   "metadata": {
    "application/vnd.databricks.v1+cell": {
     "inputWidgets": {},
     "nuid": "a3760a43-e285-469e-9f33-72721a13950f",
     "showTitle": false,
     "title": ""
    }
   },
   "outputs": [
    {
     "data": {
      "text/html": [
       "<style scoped>\n",
       "  .ansiout {\n",
       "    display: block;\n",
       "    unicode-bidi: embed;\n",
       "    white-space: pre-wrap;\n",
       "    word-wrap: break-word;\n",
       "    word-break: break-all;\n",
       "    font-family: \"Source Code Pro\", \"Menlo\", monospace;;\n",
       "    font-size: 13px;\n",
       "    color: #555;\n",
       "    margin-left: 4px;\n",
       "    line-height: 19px;\n",
       "  }\n",
       "</style>\n",
       "<div class=\"ansiout\">Out[62]: &#39;2016-08-30T00:46:35+00:00&#39;</div>"
      ]
     },
     "metadata": {
      "application/vnd.databricks.v1+output": {
       "addedWidgets": {},
       "arguments": {},
       "data": "<div class=\"ansiout\">Out[62]: &#39;2016-08-30T00:46:35+00:00&#39;</div>",
       "datasetInfos": [],
       "metadata": {},
       "removedWidgets": [],
       "type": "html"
      }
     },
     "output_type": "display_data"
    }
   ],
   "source": [
    "data_chunk_second.agg({\"created_at\": \"max\"}).collect()[0][0]"
   ]
  },
  {
   "cell_type": "code",
   "execution_count": 0,
   "metadata": {
    "application/vnd.databricks.v1+cell": {
     "inputWidgets": {},
     "nuid": "0e2414a8-94ed-4635-8d73-df61d5008791",
     "showTitle": false,
     "title": ""
    }
   },
   "outputs": [
    {
     "data": {
      "text/html": [
       "<style scoped>\n",
       "  .ansiout {\n",
       "    display: block;\n",
       "    unicode-bidi: embed;\n",
       "    white-space: pre-wrap;\n",
       "    word-wrap: break-word;\n",
       "    word-break: break-all;\n",
       "    font-family: \"Source Code Pro\", \"Menlo\", monospace;;\n",
       "    font-size: 13px;\n",
       "    color: #555;\n",
       "    margin-left: 4px;\n",
       "    line-height: 19px;\n",
       "  }\n",
       "</style>\n",
       "<div class=\"ansiout\">Out[55]: &#39;2018-05-03T16:18:45+00:00&#39;</div>"
      ]
     },
     "metadata": {
      "application/vnd.databricks.v1+output": {
       "addedWidgets": {},
       "arguments": {},
       "data": "<div class=\"ansiout\">Out[55]: &#39;2018-05-03T16:18:45+00:00&#39;</div>",
       "datasetInfos": [],
       "metadata": {},
       "removedWidgets": [],
       "type": "html"
      }
     },
     "output_type": "display_data"
    }
   ],
   "source": [
    "data_chunk_last.agg({\"created_at\": \"min\"}).collect()[0][0]"
   ]
  },
  {
   "cell_type": "code",
   "execution_count": 0,
   "metadata": {
    "application/vnd.databricks.v1+cell": {
     "inputWidgets": {},
     "nuid": "e05c2216-1f15-45b6-aa43-0413e2fc2d45",
     "showTitle": false,
     "title": ""
    }
   },
   "outputs": [
    {
     "data": {
      "text/html": [
       "<style scoped>\n",
       "  .ansiout {\n",
       "    display: block;\n",
       "    unicode-bidi: embed;\n",
       "    white-space: pre-wrap;\n",
       "    word-wrap: break-word;\n",
       "    word-break: break-all;\n",
       "    font-family: \"Source Code Pro\", \"Menlo\", monospace;;\n",
       "    font-size: 13px;\n",
       "    color: #555;\n",
       "    margin-left: 4px;\n",
       "    line-height: 19px;\n",
       "  }\n",
       "</style>\n",
       "<div class=\"ansiout\">Out[58]: &#39;2018-05-03T18:34:57+00:00&#39;</div>"
      ]
     },
     "metadata": {
      "application/vnd.databricks.v1+output": {
       "addedWidgets": {},
       "arguments": {},
       "data": "<div class=\"ansiout\">Out[58]: &#39;2018-05-03T18:34:57+00:00&#39;</div>",
       "datasetInfos": [],
       "metadata": {},
       "removedWidgets": [],
       "type": "html"
      }
     },
     "output_type": "display_data"
    }
   ],
   "source": [
    "data_chunk_last.agg({\"created_at\": \"max\"}).collect()[0][0]"
   ]
  },
  {
   "cell_type": "code",
   "execution_count": 0,
   "metadata": {
    "application/vnd.databricks.v1+cell": {
     "inputWidgets": {},
     "nuid": "aeca3eb3-c09f-4136-85ca-8718fddb952d",
     "showTitle": false,
     "title": ""
    }
   },
   "outputs": [
    {
     "data": {
      "text/html": [
       "<style scoped>\n",
       "  .ansiout {\n",
       "    display: block;\n",
       "    unicode-bidi: embed;\n",
       "    white-space: pre-wrap;\n",
       "    word-wrap: break-word;\n",
       "    word-break: break-all;\n",
       "    font-family: \"Source Code Pro\", \"Menlo\", monospace;;\n",
       "    font-size: 13px;\n",
       "    color: #555;\n",
       "    margin-left: 4px;\n",
       "    line-height: 19px;\n",
       "  }\n",
       "</style>\n",
       "<div class=\"ansiout\">+----------------------------+\n",
       "substring(created_at, 0, 10)|\n",
       "+----------------------------+\n",
       "                  2018-05-03|\n",
       "                        null|\n",
       "+----------------------------+\n",
       "\n",
       "</div>"
      ]
     },
     "metadata": {
      "application/vnd.databricks.v1+output": {
       "addedWidgets": {},
       "arguments": {},
       "data": "<div class=\"ansiout\">+----------------------------+\n|substring(created_at, 0, 10)|\n+----------------------------+\n|                  2018-05-03|\n|                        null|\n+----------------------------+\n\n</div>",
       "datasetInfos": [],
       "metadata": {},
       "removedWidgets": [],
       "type": "html"
      }
     },
     "output_type": "display_data"
    }
   ],
   "source": [
    "data_chunk_last.select(substring(col(\"created_at\"), 0, 10)).distinct().show()"
   ]
  },
  {
   "cell_type": "code",
   "execution_count": 0,
   "metadata": {
    "application/vnd.databricks.v1+cell": {
     "inputWidgets": {},
     "nuid": "b8dfbe5f-749d-485c-99ec-ca9fcbc0ecc5",
     "showTitle": false,
     "title": ""
    }
   },
   "outputs": [
    {
     "data": {
      "text/html": [
       "<style scoped>\n",
       "  .ansiout {\n",
       "    display: block;\n",
       "    unicode-bidi: embed;\n",
       "    white-space: pre-wrap;\n",
       "    word-wrap: break-word;\n",
       "    word-break: break-all;\n",
       "    font-family: \"Source Code Pro\", \"Menlo\", monospace;;\n",
       "    font-size: 13px;\n",
       "    color: #555;\n",
       "    margin-left: 4px;\n",
       "    line-height: 19px;\n",
       "  }\n",
       "</style>\n",
       "<div class=\"ansiout\">Out[73]: 14583</div>"
      ]
     },
     "metadata": {
      "application/vnd.databricks.v1+output": {
       "addedWidgets": {},
       "arguments": {},
       "data": "<div class=\"ansiout\">Out[73]: 14583</div>",
       "datasetInfos": [],
       "metadata": {},
       "removedWidgets": [],
       "type": "html"
      }
     },
     "output_type": "display_data"
    }
   ],
   "source": [
    "data_chunk.groupBy('user.username').count().count()"
   ]
  },
  {
   "cell_type": "code",
   "execution_count": 0,
   "metadata": {
    "application/vnd.databricks.v1+cell": {
     "inputWidgets": {},
     "nuid": "b4420625-540e-453d-9788-88929f6ab145",
     "showTitle": false,
     "title": ""
    }
   },
   "outputs": [],
   "source": []
  }
 ],
 "metadata": {
  "application/vnd.databricks.v1+notebook": {
   "dashboards": [],
   "language": "python",
   "notebookMetadata": {
    "pythonIndentUnit": 2
   },
   "notebookName": "Exploratory Data Analysis (LK)",
   "notebookOrigID": 1398694060933795,
   "widgets": {}
  },
  "kernelspec": {
   "display_name": "Python 3",
   "language": "python",
   "name": "python3"
  },
  "language_info": {
   "codemirror_mode": {
    "name": "ipython",
    "version": 3
   },
   "file_extension": ".py",
   "mimetype": "text/x-python",
   "name": "python",
   "nbconvert_exporter": "python",
   "pygments_lexer": "ipython3",
   "version": "3.8.2"
  }
 },
 "nbformat": 4,
 "nbformat_minor": 1
}
