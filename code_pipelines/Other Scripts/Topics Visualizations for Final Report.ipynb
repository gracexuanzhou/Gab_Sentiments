{
 "cells": [
  {
   "cell_type": "code",
   "execution_count": 0,
   "metadata": {
    "application/vnd.databricks.v1+cell": {
     "inputWidgets": {},
     "nuid": "4eee0be9-a8a6-4693-b193-57f0c36b1bd2",
     "showTitle": false,
     "title": ""
    }
   },
   "outputs": [
    {
     "data": {
      "text/html": [
       "<style scoped>\n",
       "  .ansiout {\n",
       "    display: block;\n",
       "    unicode-bidi: embed;\n",
       "    white-space: pre-wrap;\n",
       "    word-wrap: break-word;\n",
       "    word-break: break-all;\n",
       "    font-family: \"Source Code Pro\", \"Menlo\", monospace;;\n",
       "    font-size: 13px;\n",
       "    color: #555;\n",
       "    margin-left: 4px;\n",
       "    line-height: 19px;\n",
       "  }\n",
       "</style>\n",
       "<div class=\"ansiout\"></div>"
      ]
     },
     "metadata": {
      "application/vnd.databricks.v1+output": {
       "addedWidgets": {},
       "arguments": {},
       "data": "<div class=\"ansiout\"></div>",
       "datasetInfos": [],
       "metadata": {},
       "removedWidgets": [],
       "type": "html"
      }
     },
     "output_type": "display_data"
    }
   ],
   "source": [
    "periods = [\n",
    "  \"2016-11\", \"2016-12\", \"2017-01\", \"2017-02\", \"2017-03\", \"2017-04\", \"2017-05\", \"2017-06\", \"2017-07\", \"2017-08\",\n",
    "  \"2017-09\", \"2017-10\", \n",
    "  \"2017-11\", \n",
    "  \"2017-12\", \n",
    "  \"2018-01\", \"2018-02\", \"2018-03\", \"2018-04\"\n",
    "]\n",
    "\n",
    "topics_per_period = [\n",
    "  70, 27, 130, 100, 100, 80, 105, 120, 90, 110,\n",
    "  120, 145, 150, \n",
    "  160, \n",
    "  180, 160, 190, 180\n",
    "]"
   ]
  },
  {
   "cell_type": "code",
   "execution_count": 0,
   "metadata": {
    "application/vnd.databricks.v1+cell": {
     "inputWidgets": {},
     "nuid": "31193ae7-c1d4-4c81-8341-221cc16e8fa4",
     "showTitle": false,
     "title": ""
    }
   },
   "outputs": [
    {
     "data": {
      "text/html": [
       "<style scoped>\n",
       "  .ansiout {\n",
       "    display: block;\n",
       "    unicode-bidi: embed;\n",
       "    white-space: pre-wrap;\n",
       "    word-wrap: break-word;\n",
       "    word-break: break-all;\n",
       "    font-family: \"Source Code Pro\", \"Menlo\", monospace;;\n",
       "    font-size: 13px;\n",
       "    color: #555;\n",
       "    margin-left: 4px;\n",
       "    line-height: 19px;\n",
       "  }\n",
       "</style>\n",
       "<div class=\"ansiout\"></div>"
      ]
     },
     "metadata": {
      "application/vnd.databricks.v1+output": {
       "addedWidgets": {},
       "arguments": {},
       "data": "<div class=\"ansiout\"></div>",
       "datasetInfos": [],
       "metadata": {},
       "removedWidgets": [],
       "type": "html"
      }
     },
     "output_type": "display_data"
    }
   ],
   "source": [
    "df = sqlContext.createDataFrame(zip(periods, topics_per_period), schema=['Period', 'Number of Topics'])"
   ]
  },
  {
   "cell_type": "code",
   "execution_count": 0,
   "metadata": {
    "application/vnd.databricks.v1+cell": {
     "inputWidgets": {},
     "nuid": "944a7f75-2a5b-4f70-b884-c4c86ddf1c80",
     "showTitle": false,
     "title": ""
    }
   },
   "outputs": [
    {
     "data": {
      "text/html": [
       "<style scoped>\n",
       "  .table-result-container {\n",
       "    max-height: 300px;\n",
       "    overflow: auto;\n",
       "  }\n",
       "  table, th, td {\n",
       "    border: 1px solid black;\n",
       "    border-collapse: collapse;\n",
       "  }\n",
       "  th, td {\n",
       "    padding: 5px;\n",
       "  }\n",
       "  th {\n",
       "    text-align: left;\n",
       "  }\n",
       "</style><div class='table-result-container'><table class='table-result'><thead style='background-color: white'><tr><th>Period</th><th>Number of Topics</th></tr></thead><tbody><tr><td>2016-11</td><td>70</td></tr><tr><td>2016-12</td><td>27</td></tr><tr><td>2017-01</td><td>130</td></tr><tr><td>2017-02</td><td>100</td></tr><tr><td>2017-03</td><td>100</td></tr><tr><td>2017-04</td><td>80</td></tr><tr><td>2017-05</td><td>105</td></tr><tr><td>2017-06</td><td>120</td></tr><tr><td>2017-07</td><td>90</td></tr><tr><td>2017-08</td><td>110</td></tr><tr><td>2017-09</td><td>120</td></tr><tr><td>2017-10</td><td>145</td></tr><tr><td>2017-11</td><td>150</td></tr><tr><td>2017-12</td><td>160</td></tr><tr><td>2018-01</td><td>180</td></tr><tr><td>2018-02</td><td>160</td></tr><tr><td>2018-03</td><td>190</td></tr><tr><td>2018-04</td><td>180</td></tr></tbody></table></div>"
      ]
     },
     "metadata": {
      "application/vnd.databricks.v1+output": {
       "addedWidgets": {},
       "aggData": [],
       "aggError": "",
       "aggOverflow": false,
       "aggSchema": [],
       "aggSeriesLimitReached": false,
       "aggType": "",
       "arguments": {},
       "columnCustomDisplayInfos": {},
       "data": [
        [
         "2016-11",
         70
        ],
        [
         "2016-12",
         27
        ],
        [
         "2017-01",
         130
        ],
        [
         "2017-02",
         100
        ],
        [
         "2017-03",
         100
        ],
        [
         "2017-04",
         80
        ],
        [
         "2017-05",
         105
        ],
        [
         "2017-06",
         120
        ],
        [
         "2017-07",
         90
        ],
        [
         "2017-08",
         110
        ],
        [
         "2017-09",
         120
        ],
        [
         "2017-10",
         145
        ],
        [
         "2017-11",
         150
        ],
        [
         "2017-12",
         160
        ],
        [
         "2018-01",
         180
        ],
        [
         "2018-02",
         160
        ],
        [
         "2018-03",
         190
        ],
        [
         "2018-04",
         180
        ]
       ],
       "datasetInfos": [],
       "dbfsResultPath": null,
       "isJsonSchema": true,
       "metadata": {},
       "overflow": false,
       "plotOptions": {
        "customPlotOptions": {},
        "displayType": "plotlyBar",
        "pivotAggregation": null,
        "pivotColumns": null,
        "xColumns": null,
        "yColumns": null
       },
       "removedWidgets": [],
       "schema": [
        {
         "metadata": "{}",
         "name": "Period",
         "type": "\"string\""
        },
        {
         "metadata": "{}",
         "name": "Number of Topics",
         "type": "\"long\""
        }
       ],
       "type": "table"
      }
     },
     "output_type": "display_data"
    }
   ],
   "source": [
    "display(df)"
   ]
  },
  {
   "cell_type": "code",
   "execution_count": 0,
   "metadata": {
    "application/vnd.databricks.v1+cell": {
     "inputWidgets": {},
     "nuid": "ade35b60-2a72-4475-a164-04b2242a4004",
     "showTitle": false,
     "title": ""
    }
   },
   "outputs": [
    {
     "data": {
      "text/html": [
       "<style scoped>\n",
       "  .table-result-container {\n",
       "    max-height: 300px;\n",
       "    overflow: auto;\n",
       "  }\n",
       "  table, th, td {\n",
       "    border: 1px solid black;\n",
       "    border-collapse: collapse;\n",
       "  }\n",
       "  th, td {\n",
       "    padding: 5px;\n",
       "  }\n",
       "  th {\n",
       "    text-align: left;\n",
       "  }\n",
       "</style><div class='table-result-container'><table class='table-result'><thead style='background-color: white'><tr><th>summary</th><th>Period</th><th>Number of Topics</th></tr></thead><tbody><tr><td>count</td><td>18</td><td>18</td></tr><tr><td>mean</td><td>null</td><td>123.16666666666667</td></tr><tr><td>stddev</td><td>null</td><td>43.05844181765877</td></tr><tr><td>min</td><td>2016-11</td><td>27</td></tr><tr><td>max</td><td>2018-04</td><td>190</td></tr></tbody></table></div>"
      ]
     },
     "metadata": {
      "application/vnd.databricks.v1+output": {
       "addedWidgets": {},
       "aggData": [],
       "aggError": "",
       "aggOverflow": false,
       "aggSchema": [],
       "aggSeriesLimitReached": false,
       "aggType": "",
       "arguments": {},
       "columnCustomDisplayInfos": {},
       "data": [
        [
         "count",
         "18",
         "18"
        ],
        [
         "mean",
         null,
         "123.16666666666667"
        ],
        [
         "stddev",
         null,
         "43.05844181765877"
        ],
        [
         "min",
         "2016-11",
         "27"
        ],
        [
         "max",
         "2018-04",
         "190"
        ]
       ],
       "datasetInfos": [],
       "dbfsResultPath": null,
       "isJsonSchema": true,
       "metadata": {},
       "overflow": false,
       "plotOptions": {
        "customPlotOptions": {},
        "displayType": "table",
        "pivotAggregation": null,
        "pivotColumns": null,
        "xColumns": null,
        "yColumns": null
       },
       "removedWidgets": [],
       "schema": [
        {
         "metadata": "{}",
         "name": "summary",
         "type": "\"string\""
        },
        {
         "metadata": "{}",
         "name": "Period",
         "type": "\"string\""
        },
        {
         "metadata": "{}",
         "name": "Number of Topics",
         "type": "\"string\""
        }
       ],
       "type": "table"
      }
     },
     "output_type": "display_data"
    }
   ],
   "source": [
    "display(df.describe())"
   ]
  },
  {
   "cell_type": "code",
   "execution_count": 0,
   "metadata": {
    "application/vnd.databricks.v1+cell": {
     "inputWidgets": {},
     "nuid": "ad4cd781-645e-4b91-bafe-b0712eb41a93",
     "showTitle": false,
     "title": ""
    }
   },
   "outputs": [
    {
     "data": {
      "text/html": [
       "<style scoped>\n",
       "  .ansiout {\n",
       "    display: block;\n",
       "    unicode-bidi: embed;\n",
       "    white-space: pre-wrap;\n",
       "    word-wrap: break-word;\n",
       "    word-break: break-all;\n",
       "    font-family: \"Source Code Pro\", \"Menlo\", monospace;;\n",
       "    font-size: 13px;\n",
       "    color: #555;\n",
       "    margin-left: 4px;\n",
       "    line-height: 19px;\n",
       "  }\n",
       "</style>\n",
       "<div class=\"ansiout\"></div>"
      ]
     },
     "metadata": {
      "application/vnd.databricks.v1+output": {
       "addedWidgets": {},
       "arguments": {},
       "data": "<div class=\"ansiout\"></div>",
       "datasetInfos": [],
       "metadata": {},
       "removedWidgets": [],
       "type": "html"
      }
     },
     "output_type": "display_data"
    }
   ],
   "source": [
    "#2018-04\n",
    "num_topics = [20, 30, 40, 50, 60, 70, 80, 90, 100, 120, 140, 160, 180, 200, 250, 300, 400, 500]\n",
    "\n",
    "perpl = [7.413496912288672,\n",
    " 7.240834286322265,\n",
    " 7.089071217788265,\n",
    " 6.9838756269874915,\n",
    " 6.889770302310602,\n",
    " 6.810406804196077,\n",
    " 6.731441578209715,\n",
    " 6.688006803212559,\n",
    " 6.6340521892137065,\n",
    " 6.56333233927933,\n",
    " 6.515815415126103,\n",
    " 6.492686794457163,\n",
    " 6.481397951862678,\n",
    " 6.483641683747241,\n",
    " 6.5248652744593425,\n",
    " 6.582557261081492,\n",
    " 6.811718457477579,\n",
    " 7.125503150469301]"
   ]
  },
  {
   "cell_type": "code",
   "execution_count": 0,
   "metadata": {
    "application/vnd.databricks.v1+cell": {
     "inputWidgets": {},
     "nuid": "a1e4dcd0-42e1-4b47-9895-5e5881272276",
     "showTitle": false,
     "title": ""
    }
   },
   "outputs": [
    {
     "data": {
      "text/html": [
       "<style scoped>\n",
       "  .ansiout {\n",
       "    display: block;\n",
       "    unicode-bidi: embed;\n",
       "    white-space: pre-wrap;\n",
       "    word-wrap: break-word;\n",
       "    word-break: break-all;\n",
       "    font-family: \"Source Code Pro\", \"Menlo\", monospace;;\n",
       "    font-size: 13px;\n",
       "    color: #555;\n",
       "    margin-left: 4px;\n",
       "    line-height: 19px;\n",
       "  }\n",
       "</style>\n",
       "<div class=\"ansiout\"></div>"
      ]
     },
     "metadata": {
      "application/vnd.databricks.v1+output": {
       "addedWidgets": {},
       "arguments": {},
       "data": "<div class=\"ansiout\"></div>",
       "datasetInfos": [],
       "metadata": {},
       "removedWidgets": [],
       "type": "html"
      }
     },
     "output_type": "display_data"
    }
   ],
   "source": [
    "df2 = sqlContext.createDataFrame(zip(num_topics, perpl), schema=['Number of Topics', 'log(Perplexity)'])"
   ]
  },
  {
   "cell_type": "code",
   "execution_count": 0,
   "metadata": {
    "application/vnd.databricks.v1+cell": {
     "inputWidgets": {},
     "nuid": "23852473-a062-4553-ae20-a2c40839dbc2",
     "showTitle": false,
     "title": ""
    }
   },
   "outputs": [
    {
     "data": {
      "text/html": [
       "<style scoped>\n",
       "  .table-result-container {\n",
       "    max-height: 300px;\n",
       "    overflow: auto;\n",
       "  }\n",
       "  table, th, td {\n",
       "    border: 1px solid black;\n",
       "    border-collapse: collapse;\n",
       "  }\n",
       "  th, td {\n",
       "    padding: 5px;\n",
       "  }\n",
       "  th {\n",
       "    text-align: left;\n",
       "  }\n",
       "</style><div class='table-result-container'><table class='table-result'><thead style='background-color: white'><tr><th>Number of Topics</th><th>log(Perplexity)</th></tr></thead><tbody><tr><td>20</td><td>7.413496912288672</td></tr><tr><td>30</td><td>7.240834286322265</td></tr><tr><td>40</td><td>7.089071217788265</td></tr><tr><td>50</td><td>6.9838756269874915</td></tr><tr><td>60</td><td>6.889770302310602</td></tr><tr><td>70</td><td>6.810406804196077</td></tr><tr><td>80</td><td>6.731441578209715</td></tr><tr><td>90</td><td>6.688006803212559</td></tr><tr><td>100</td><td>6.6340521892137065</td></tr><tr><td>120</td><td>6.56333233927933</td></tr><tr><td>140</td><td>6.515815415126103</td></tr><tr><td>160</td><td>6.492686794457163</td></tr><tr><td>180</td><td>6.481397951862678</td></tr><tr><td>200</td><td>6.483641683747241</td></tr><tr><td>250</td><td>6.5248652744593425</td></tr><tr><td>300</td><td>6.582557261081492</td></tr><tr><td>400</td><td>6.811718457477579</td></tr><tr><td>500</td><td>7.125503150469301</td></tr></tbody></table></div>"
      ]
     },
     "metadata": {
      "application/vnd.databricks.v1+output": {
       "addedWidgets": {},
       "aggData": [],
       "aggError": "",
       "aggOverflow": false,
       "aggSchema": [],
       "aggSeriesLimitReached": false,
       "aggType": "",
       "arguments": {},
       "columnCustomDisplayInfos": {},
       "data": [
        [
         20,
         7.413496912288672
        ],
        [
         30,
         7.240834286322265
        ],
        [
         40,
         7.089071217788265
        ],
        [
         50,
         6.9838756269874915
        ],
        [
         60,
         6.889770302310602
        ],
        [
         70,
         6.810406804196077
        ],
        [
         80,
         6.731441578209715
        ],
        [
         90,
         6.688006803212559
        ],
        [
         100,
         6.6340521892137065
        ],
        [
         120,
         6.56333233927933
        ],
        [
         140,
         6.515815415126103
        ],
        [
         160,
         6.492686794457163
        ],
        [
         180,
         6.481397951862678
        ],
        [
         200,
         6.483641683747241
        ],
        [
         250,
         6.5248652744593425
        ],
        [
         300,
         6.582557261081492
        ],
        [
         400,
         6.811718457477579
        ],
        [
         500,
         7.125503150469301
        ]
       ],
       "datasetInfos": [],
       "dbfsResultPath": null,
       "isJsonSchema": true,
       "metadata": {},
       "overflow": false,
       "plotOptions": {
        "customPlotOptions": {
         "plotlyLine": [
          {
           "key": "yRange",
           "value": ""
          },
          {
           "key": "showPoints",
           "value": false
          },
          {
           "key": "logScale",
           "value": false
          }
         ]
        },
        "displayType": "plotlyLine",
        "pivotAggregation": "sum",
        "pivotColumns": [],
        "xColumns": [
         "Number of Topics"
        ],
        "yColumns": [
         "log(Perplexity)"
        ]
       },
       "removedWidgets": [],
       "schema": [
        {
         "metadata": "{}",
         "name": "Number of Topics",
         "type": "\"long\""
        },
        {
         "metadata": "{}",
         "name": "log(Perplexity)",
         "type": "\"double\""
        }
       ],
       "type": "table"
      }
     },
     "output_type": "display_data"
    }
   ],
   "source": [
    "display(df2)"
   ]
  },
  {
   "cell_type": "code",
   "execution_count": 0,
   "metadata": {
    "application/vnd.databricks.v1+cell": {
     "inputWidgets": {},
     "nuid": "ae590d66-6fc6-4b75-9ee9-499b68b8fa05",
     "showTitle": false,
     "title": ""
    }
   },
   "outputs": [
    {
     "data": {
      "text/html": [
       "<style scoped>\n",
       "  .ansiout {\n",
       "    display: block;\n",
       "    unicode-bidi: embed;\n",
       "    white-space: pre-wrap;\n",
       "    word-wrap: break-word;\n",
       "    word-break: break-all;\n",
       "    font-family: \"Source Code Pro\", \"Menlo\", monospace;;\n",
       "    font-size: 13px;\n",
       "    color: #555;\n",
       "    margin-left: 4px;\n",
       "    line-height: 19px;\n",
       "  }\n",
       "</style>"
      ]
     },
     "metadata": {
      "application/vnd.databricks.v1+output": {
       "arguments": {},
       "data": "",
       "errorSummary": "",
       "errorTraceType": null,
       "metadata": {},
       "type": "ipynbError"
      }
     },
     "output_type": "display_data"
    }
   ],
   "source": []
  }
 ],
 "metadata": {
  "application/vnd.databricks.v1+notebook": {
   "dashboards": [],
   "language": "python",
   "notebookMetadata": {
    "pythonIndentUnit": 2
   },
   "notebookName": "Visualizations",
   "notebookOrigID": 3164141303878162,
   "widgets": {}
  },
  "kernelspec": {
   "display_name": "Python 3",
   "language": "python",
   "name": "python3"
  },
  "language_info": {
   "codemirror_mode": {
    "name": "ipython",
    "version": 3
   },
   "file_extension": ".py",
   "mimetype": "text/x-python",
   "name": "python",
   "nbconvert_exporter": "python",
   "pygments_lexer": "ipython3",
   "version": "3.8.2"
  }
 },
 "nbformat": 4,
 "nbformat_minor": 1
}
