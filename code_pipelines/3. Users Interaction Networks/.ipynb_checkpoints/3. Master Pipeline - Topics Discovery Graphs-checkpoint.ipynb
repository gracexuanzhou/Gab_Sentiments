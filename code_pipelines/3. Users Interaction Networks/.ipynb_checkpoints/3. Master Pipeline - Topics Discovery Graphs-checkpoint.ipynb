{
 "cells": [
  {
   "cell_type": "code",
   "execution_count": 0,
   "metadata": {
    "application/vnd.databricks.v1+cell": {
     "inputWidgets": {},
     "nuid": "95d2f313-2c5c-4ed4-9668-d5764656f4ac",
     "showTitle": false,
     "title": ""
    }
   },
   "outputs": [
    {
     "data": {
      "text/html": [
       "<style scoped>\n",
       "  .ansiout {\n",
       "    display: block;\n",
       "    unicode-bidi: embed;\n",
       "    white-space: pre-wrap;\n",
       "    word-wrap: break-word;\n",
       "    word-break: break-all;\n",
       "    font-family: \"Source Code Pro\", \"Menlo\", monospace;;\n",
       "    font-size: 13px;\n",
       "    color: #555;\n",
       "    margin-left: 4px;\n",
       "    line-height: 19px;\n",
       "  }\n",
       "</style>\n",
       "<div class=\"ansiout\"></div>"
      ]
     },
     "metadata": {
      "application/vnd.databricks.v1+output": {
       "addedWidgets": {},
       "arguments": {},
       "data": "<div class=\"ansiout\"></div>",
       "datasetInfos": [],
       "metadata": {},
       "removedWidgets": [],
       "type": "html"
      }
     },
     "output_type": "display_data"
    }
   ],
   "source": [
    "from pyspark.sql.session import SparkSession\n",
    "from pyspark.conf import SparkConf\n",
    "from pyspark.sql import functions as F\n",
    "\n",
    "from graphframes import *\n",
    "import json"
   ]
  },
  {
   "cell_type": "code",
   "execution_count": 0,
   "metadata": {
    "application/vnd.databricks.v1+cell": {
     "inputWidgets": {},
     "nuid": "44fe03c0-ed18-4fd8-95f2-5863f5df4529",
     "showTitle": false,
     "title": ""
    }
   },
   "outputs": [
    {
     "data": {
      "text/html": [
       "<style scoped>\n",
       "  .ansiout {\n",
       "    display: block;\n",
       "    unicode-bidi: embed;\n",
       "    white-space: pre-wrap;\n",
       "    word-wrap: break-word;\n",
       "    word-break: break-all;\n",
       "    font-family: \"Source Code Pro\", \"Menlo\", monospace;;\n",
       "    font-size: 13px;\n",
       "    color: #555;\n",
       "    margin-left: 4px;\n",
       "    line-height: 19px;\n",
       "  }\n",
       "</style>\n",
       "<div class=\"ansiout\"></div>"
      ]
     },
     "metadata": {
      "application/vnd.databricks.v1+output": {
       "addedWidgets": {},
       "arguments": {},
       "data": "<div class=\"ansiout\"></div>",
       "datasetInfos": [],
       "metadata": {},
       "removedWidgets": [],
       "type": "html"
      }
     },
     "output_type": "display_data"
    }
   ],
   "source": [
    "# Topics list to build the graph\n",
    "topics = [\n",
    "    {\n",
    "        \"topic_title\": \"2017-04_71\",\n",
    "        \"created_at_month\": \"2017-04\",\n",
    "        \"topic_real_title\": \"USA Inmigration\"\n",
    "    },\n",
    "    {\n",
    "        \"topic_title\": \"2017-04_28\",\n",
    "        \"created_at_month\": \"2017-04\",\n",
    "        \"topic_real_title\": \"Trump take on France Presidential Election\"\n",
    "    },\n",
    "    {\n",
    "        \"topic_title\": \"2017-04_24\",\n",
    "        \"created_at_month\": \"2017-04\",\n",
    "        \"topic_real_title\": \"Gab Discussion between group of users\"\n",
    "    },\n",
    "    {\n",
    "        \"topic_title\": \"2017-05_31\",\n",
    "        \"created_at_month\": \"2017-05\",\n",
    "        \"topic_real_title\": \"Conspiracy Theory on the Murder of Seth Rich\"\n",
    "    },\n",
    "    {\n",
    "        \"topic_title\": \"2017-05_78\",\n",
    "        \"created_at_month\": \"2017-05\",\n",
    "        \"topic_real_title\": \"Manchester Arena Bombing Terrorist Attack Victims\"\n",
    "    },\n",
    "    {\n",
    "        \"topic_title\": \"2017-05_83\",\n",
    "        \"created_at_month\": \"2017-05\",\n",
    "        \"topic_real_title\": \"Manchester Arena Bombing Terrorist Attack\"\n",
    "    },\n",
    "    {\n",
    "        \"topic_title\": \"2017-06_44\",\n",
    "        \"created_at_month\": \"2017-06\",\n",
    "        \"topic_real_title\": \"Various International News\"\n",
    "    },\n",
    "    {\n",
    "        \"topic_title\": \"2017-06_74\",\n",
    "        \"created_at_month\": \"2017-06\",\n",
    "        \"topic_real_title\": \"Longon Bridge Terrorist Attack\"\n",
    "    },\n",
    "    {\n",
    "        \"topic_title\": \"2017-06_111\",\n",
    "        \"created_at_month\": \"2017-06\",\n",
    "        \"topic_real_title\": \"Dismissal of James Comey\"\n",
    "    },\n",
    "    {\n",
    "        \"topic_title\": \"2017-07_83\",\n",
    "        \"created_at_month\": \"2017-07\",\n",
    "        \"topic_real_title\": \"Deutsch\"\n",
    "    },\n",
    "    {\n",
    "        \"topic_title\": \"2017-07_61\",\n",
    "        \"created_at_month\": \"2017-07\",\n",
    "        \"topic_real_title\": \"USA News\"\n",
    "    },\n",
    "    {\n",
    "        \"topic_title\": \"2017-07_46\",\n",
    "        \"created_at_month\": \"2017-07\",\n",
    "        \"topic_real_title\": \"4th of July (USA Independence Day)\"\n",
    "    },\n",
    "    {\n",
    "        \"topic_title\": \"2017-08_78\",\n",
    "        \"created_at_month\": \"2017-08\",\n",
    "        \"topic_real_title\": \"North Korea vs Trump\"\n",
    "    },\n",
    "    {\n",
    "        \"topic_title\": \"2017-08_109\",\n",
    "        \"created_at_month\": \"2017-08\",\n",
    "        \"topic_real_title\": \"Barcelona Terrorist Attacks\"\n",
    "    },\n",
    "    {\n",
    "        \"topic_title\": \"2017-08_76\",\n",
    "        \"created_at_month\": \"2017-08\",\n",
    "        \"topic_real_title\": \"Deutsch\"\n",
    "    },\n",
    "    {\n",
    "        \"topic_title\": \"2017-09_44\",\n",
    "        \"created_at_month\": \"2017-09\",\n",
    "        \"topic_real_title\": \"NFL (National Football League) Season Start\"\n",
    "    },\n",
    "    {\n",
    "        \"topic_title\": \"2017-09_78\",\n",
    "        \"created_at_month\": \"2017-09\",\n",
    "        \"topic_real_title\": \"North Korea vs Trump\"\n",
    "    },\n",
    "    {\n",
    "        \"topic_title\": \"2017-09_100\",\n",
    "        \"created_at_month\": \"2017-09\",\n",
    "        \"topic_real_title\": \"Hurricane Harvey\"\n",
    "    },\n",
    "    {\n",
    "        \"topic_title\": \"2017-10_76\",\n",
    "        \"created_at_month\": \"2017-10\",\n",
    "        \"topic_real_title\": \"Las Vegas Shooting\"\n",
    "    },\n",
    "    {\n",
    "        \"topic_title\": \"2017-10_87\",\n",
    "        \"created_at_month\": \"2017-10\",\n",
    "        \"topic_real_title\": \"Hillary Clinton vs Harvey Weinstein\"\n",
    "    },\n",
    "    {\n",
    "        \"topic_title\": \"2017-10_26\",\n",
    "        \"created_at_month\": \"2017-10\",\n",
    "        \"topic_real_title\": \"Trump in Military Event\"\n",
    "    },\n",
    "    {\n",
    "        \"topic_title\": \"2017-11_113\",\n",
    "        \"created_at_month\": \"2017-11\",\n",
    "        \"topic_real_title\": \"Roy Moore sexual misconduct allegation\"\n",
    "    },\n",
    "    {\n",
    "        \"topic_title\": \"2017-11_83\",\n",
    "        \"created_at_month\": \"2017-11\",\n",
    "        \"topic_real_title\": \"Trump Twitter Account Deactivation\"\n",
    "    },\n",
    "    {\n",
    "        \"topic_title\": \"2017-11_107\",\n",
    "        \"created_at_month\": \"2017-11\",\n",
    "        \"topic_real_title\": \"San Antonio Baptist Church Shooting\"\n",
    "    },\n",
    "    {\n",
    "        \"topic_title\": \"2017-12_144\",\n",
    "        \"created_at_month\": \"2017-12\",\n",
    "        \"topic_real_title\": \"USA Tax Cuts and Jobs Act of 2017\"\n",
    "    },\n",
    "    {\n",
    "        \"topic_title\": \"2017-12_46\",\n",
    "        \"created_at_month\": \"2017-12\",\n",
    "        \"topic_real_title\": \"USA Alabama Elections Results\"\n",
    "    },\n",
    "    {\n",
    "        \"topic_title\": \"2017-12_145\",\n",
    "        \"created_at_month\": \"2017-12\",\n",
    "        \"topic_real_title\": \"Trump in Jerusalem\"\n",
    "    },\n",
    "    {\n",
    "        \"topic_title\": \"2018-01_61\",\n",
    "        \"created_at_month\": \"2018-01\",\n",
    "        \"topic_real_title\": \"Nunes Memo\"\n",
    "    },\n",
    "    {\n",
    "        \"topic_title\": \"2018-01_165\",\n",
    "        \"created_at_month\": \"2018-01\",\n",
    "        \"topic_real_title\": \"DACA: The Trump Immigration Plan\"\n",
    "    },\n",
    "    {\n",
    "        \"topic_title\": \"2018-01_21\",\n",
    "        \"created_at_month\": \"2018-01\",\n",
    "        \"topic_real_title\": \"Conspiracy Theory: The Storm & Release the Memo\"\n",
    "    },\n",
    "    {\n",
    "        \"topic_title\": \"2018-02_31\",\n",
    "        \"created_at_month\": \"2018-02\",\n",
    "        \"topic_real_title\": \"Stoneman Douglas High School shooting (Florida, USA)\"\n",
    "    },\n",
    "    {\n",
    "        \"topic_title\": \"2018-02_44\",\n",
    "        \"created_at_month\": \"2018-02\",\n",
    "        \"topic_real_title\": \"Trump Proclaims February 2018 as National African American History Month\"\n",
    "    },\n",
    "    {\n",
    "        \"topic_title\": \"2018-02_159\",\n",
    "        \"created_at_month\": \"2018-02\",\n",
    "        \"topic_real_title\": \"Social Media Platforms Tighten Rules\"\n",
    "    },\n",
    "    {\n",
    "        \"topic_title\": \"2018-03_44\",\n",
    "        \"created_at_month\": \"2018-03\",\n",
    "        \"topic_real_title\": \"Racism\"\n",
    "    },\n",
    "    {\n",
    "        \"topic_title\": \"2018-03_152\",\n",
    "        \"created_at_month\": \"2018-03\",\n",
    "        \"topic_real_title\": \"Youtube Censorship\"\n",
    "    },\n",
    "    {\n",
    "        \"topic_title\": \"2018-03_159\",\n",
    "        \"created_at_month\": \"2018-03\",\n",
    "        \"topic_real_title\": \"President Trump News\"\n",
    "    },\n",
    "    {\n",
    "        \"topic_title\": \"2018-04_140\",\n",
    "        \"created_at_month\": \"2018-04\",\n",
    "        \"topic_real_title\": \"Trump Attacks Syria\"\n",
    "    },\n",
    "    {\n",
    "        \"topic_title\": \"2018-04_114\",\n",
    "        \"created_at_month\": \"2018-04\",\n",
    "        \"topic_real_title\": \"James Comey take on Hillary Clinton\"\n",
    "    },\n",
    "    {\n",
    "        \"topic_title\": \"2018-04_78\",\n",
    "        \"created_at_month\": \"2018-04\",\n",
    "        \"topic_real_title\": \"Jews Immigration\"\n",
    "    }\n",
    "]"
   ]
  },
  {
   "cell_type": "code",
   "execution_count": 0,
   "metadata": {
    "application/vnd.databricks.v1+cell": {
     "inputWidgets": {},
     "nuid": "59ce4f59-86ed-4723-9ca6-19eaceb39fe7",
     "showTitle": false,
     "title": ""
    }
   },
   "outputs": [
    {
     "data": {
      "text/html": [
       "<style scoped>\n",
       "  .ansiout {\n",
       "    display: block;\n",
       "    unicode-bidi: embed;\n",
       "    white-space: pre-wrap;\n",
       "    word-wrap: break-word;\n",
       "    word-break: break-all;\n",
       "    font-family: \"Source Code Pro\", \"Menlo\", monospace;;\n",
       "    font-size: 13px;\n",
       "    color: #555;\n",
       "    margin-left: 4px;\n",
       "    line-height: 19px;\n",
       "  }\n",
       "</style>\n",
       "<div class=\"ansiout\">2017-11 2017-11_107 23\n",
       "2017-12 2017-12_144 24\n",
       "2017-12 2017-12_46 25\n",
       "2017-12 2017-12_145 26\n",
       "2018-01 2018-01_61 27\n",
       "2018-01 2018-01_165 28\n",
       "2018-01 2018-01_21 29\n",
       "2018-02 2018-02_31 30\n",
       "2018-02 2018-02_44 31\n",
       "2018-02 2018-02_159 32\n",
       "2018-03 2018-03_44 33\n",
       "2018-03 2018-03_152 34\n",
       "2018-03 2018-03_159 35\n",
       "2018-04 2018-04_140 36\n",
       "2018-04 2018-04_114 37\n",
       "2018-04 2018-04_78 38\n",
       "</div>"
      ]
     },
     "metadata": {
      "application/vnd.databricks.v1+output": {
       "addedWidgets": {},
       "arguments": {},
       "data": "<div class=\"ansiout\">2017-11 2017-11_107 23\n2017-12 2017-12_144 24\n2017-12 2017-12_46 25\n2017-12 2017-12_145 26\n2018-01 2018-01_61 27\n2018-01 2018-01_165 28\n2018-01 2018-01_21 29\n2018-02 2018-02_31 30\n2018-02 2018-02_44 31\n2018-02 2018-02_159 32\n2018-03 2018-03_44 33\n2018-03 2018-03_152 34\n2018-03 2018-03_159 35\n2018-04 2018-04_140 36\n2018-04 2018-04_114 37\n2018-04 2018-04_78 38\n</div>",
       "datasetInfos": [],
       "metadata": {},
       "removedWidgets": [],
       "type": "html"
      }
     },
     "output_type": "display_data"
    }
   ],
   "source": [
    "result = {}\n",
    "# For each topic\n",
    "for index in range(0, len(topics)):\n",
    "    month = topics[index]['created_at_month']\n",
    "    topic =  topics[index]['topic_title']\n",
    "    topic_real_title = topics[index]['topic_real_title']\n",
    "    print (month, topic, index)\n",
    "    \n",
    "    # READ DATA FROM PARTITION\n",
    "    data_original = spark.read.option(\"header\",\"true\").parquet(\"dbfs:/mnt/group12/topic_discovery/created_at_month=\" + month +\"/\")\n",
    "    data_original = data_original.filter(F.col('topic_discovery_unique_id').isin([topic])) # Filter current topic\n",
    "    data_original = data_original.filter(F.col('n_users_in_conversation') !=0 )\\ # Filter only posts with replies\n",
    "                               .select(F.col('username'),F.col('users_in_conversation').alias('repliedBy'))\n",
    "\n",
    "    # Join array of replies usernames with original post username to for later exploding\n",
    "    union_name = data_original.withColumn('nameSum',F.array_union(F.col('repliedBy'),F.array(F.col('username')))).select(F.col('nameSum'))\n",
    "\n",
    "    vertex = union_name.withColumn('nameSum', F.explode(F.col('nameSum'))).distinct().withColumnRenamed(\"nameSum\", \"id\")\n",
    "    edges = data_original.select(F.col(\"username\"), F.explode(F.col('repliedBy')).alias('dst'))\n",
    "    edges = edges.withColumn('relationship', F.lit('repliedBy')).withColumnRenamed(\"username\", \"src\")\n",
    "\n",
    "    # Create graph\n",
    "    graph_tmp = GraphFrame(vertex, edges)\n",
    "    \n",
    "    # Get connected component\n",
    "    sc.setCheckpointDir(\"/tmp/graphframes-example-connected-components\")\n",
    "    result_CC = graph_tmp.connectedComponents()\n",
    "    \n",
    "    # Filter giant component\n",
    "    ordered_components = result_CC.select(\"id\", \"component\").groupBy(\"component\").count().sort(F.col(\"count\").desc()).head(n=1)\n",
    "    giant_componentId = ordered_components[0][\"component\"]\n",
    "    giant_component = result_CC.filter(F.col(\"component\") == giant_componentId).select(F.col('id'))\n",
    "    giant_component_list = giant_component.rdd.flatMap(lambda x: x).collect()\n",
    "\n",
    "    # Filter graph to only contains giant component\n",
    "    new_vertex = vertex.filter(F.col('id').isin(giant_component_list))\n",
    "    new_edges = edges.filter((F.col('src').isin(giant_component_list)) & (F.col('dst').isin(giant_component_list)))\n",
    "\n",
    "    edges_grouped = new_edges.groupby('src', 'dst').count() # Unique edges\n",
    "    \n",
    "    # Filtered graph\n",
    "    graph_filtered = GraphFrame(new_vertex, edges_grouped)\n",
    "\n",
    "    # PageRank\n",
    "    results_pageRank = graph_filtered.pageRank(resetProbability=0.15, tol=0.01)\n",
    "    pageRank = results_pageRank.vertices.select(\"id\", \"pagerank\")\n",
    "\n",
    "    # LPA\n",
    "    results_LPA = graph_filtered.labelPropagation(maxIter=20)\n",
    "    \n",
    "    # Join LPA and Pagerank results\n",
    "    vertex_mix = pageRank.join(results_LPA, pageRank.id == results_LPA.id).select(pageRank.id, 'pagerank', 'label')\n",
    "    vertex_mix = vertex_mix.groupby('id').agg(F.first(F.col('pagerank')).alias('pagerank'), F.first(F.col('label')).alias('group')) # this\n",
    "\n",
    "    edges_topic = edges_grouped.select(F.col('src').alias('source'), F.col('dst').alias('target'), F.col('count').alias('value'))\n",
    "\n",
    "    vertex_dict = vertex_mix.rdd.map(lambda row: row.asDict()).collect()\n",
    "    edges_dict = edges_topic.rdd.map(lambda row: row.asDict()).collect()\n",
    "\n",
    "    # Put results in one dictionary\n",
    "    topic_identifier = month + \"_\" + topic_real_title\n",
    "    result[topic_identifier] = {\n",
    "        \"nodes\": vertex_dict,\n",
    "        \"edges\": edges_dict\n",
    "    }\n",
    "\n",
    "    # Write results\n",
    "    with open('/dbfs/mnt/group12/graph/final_graph/discovery_' + str(index) + '.json', 'w') as fp:\n",
    "        json.dump(result, fp, indent=2)\n"
   ]
  },
  {
   "cell_type": "code",
   "execution_count": 0,
   "metadata": {
    "application/vnd.databricks.v1+cell": {
     "inputWidgets": {},
     "nuid": "3e9445fe-2263-491b-b5b5-f6b407f6db1c",
     "showTitle": false,
     "title": ""
    }
   },
   "outputs": [
    {
     "data": {
      "text/html": [
       "<style scoped>\n",
       "  .table-result-container {\n",
       "    max-height: 300px;\n",
       "    overflow: auto;\n",
       "  }\n",
       "  table, th, td {\n",
       "    border: 1px solid black;\n",
       "    border-collapse: collapse;\n",
       "  }\n",
       "  th, td {\n",
       "    padding: 5px;\n",
       "  }\n",
       "  th {\n",
       "    text-align: left;\n",
       "  }\n",
       "</style><div class='table-result-container'><table class='table-result'><thead style='background-color: white'><tr><th>path</th><th>name</th><th>size</th></tr></thead><tbody><tr><td>dbfs:/mnt/group12/graph/final_graph/0_new.json</td><td>0_new.json</td><td>84844</td></tr><tr><td>dbfs:/mnt/group12/graph/final_graph/10_new.json</td><td>10_new.json</td><td>142729</td></tr><tr><td>dbfs:/mnt/group12/graph/final_graph/11_new.json</td><td>11_new.json</td><td>64936</td></tr><tr><td>dbfs:/mnt/group12/graph/final_graph/12_new.json</td><td>12_new.json</td><td>142785</td></tr><tr><td>dbfs:/mnt/group12/graph/final_graph/13_new.json</td><td>13_new.json</td><td>105011</td></tr><tr><td>dbfs:/mnt/group12/graph/final_graph/14_new.json</td><td>14_new.json</td><td>153753</td></tr><tr><td>dbfs:/mnt/group12/graph/final_graph/15_new.json</td><td>15_new.json</td><td>481989</td></tr><tr><td>dbfs:/mnt/group12/graph/final_graph/16_new.json</td><td>16_new.json</td><td>689153</td></tr><tr><td>dbfs:/mnt/group12/graph/final_graph/17_new.json</td><td>17_new.json</td><td>849788</td></tr><tr><td>dbfs:/mnt/group12/graph/final_graph/18_new.json</td><td>18_new.json</td><td>1084437</td></tr><tr><td>dbfs:/mnt/group12/graph/final_graph/19_new.json</td><td>19_new.json</td><td>1267708</td></tr><tr><td>dbfs:/mnt/group12/graph/final_graph/1_new.json</td><td>1_new.json</td><td>59395</td></tr><tr><td>dbfs:/mnt/group12/graph/final_graph/20_new.json</td><td>20_new.json</td><td>1315323</td></tr><tr><td>dbfs:/mnt/group12/graph/final_graph/21_new.json</td><td>21_new.json</td><td>1419351</td></tr><tr><td>dbfs:/mnt/group12/graph/final_graph/22_new.json</td><td>22_new.json</td><td>1525556</td></tr><tr><td>dbfs:/mnt/group12/graph/final_graph/23_new.json</td><td>23_new.json</td><td>1640993</td></tr><tr><td>dbfs:/mnt/group12/graph/final_graph/24_new.json</td><td>24_new.json</td><td>1905997</td></tr><tr><td>dbfs:/mnt/group12/graph/final_graph/25_new.json</td><td>25_new.json</td><td>2054975</td></tr><tr><td>dbfs:/mnt/group12/graph/final_graph/26_new.json</td><td>26_new.json</td><td>2204833</td></tr><tr><td>dbfs:/mnt/group12/graph/final_graph/27_new.json</td><td>27_new.json</td><td>2671805</td></tr><tr><td>dbfs:/mnt/group12/graph/final_graph/28_new.json</td><td>28_new.json</td><td>3010281</td></tr><tr><td>dbfs:/mnt/group12/graph/final_graph/29_new.json</td><td>29_new.json</td><td>3211527</td></tr><tr><td>dbfs:/mnt/group12/graph/final_graph/2_new.json</td><td>2_new.json</td><td>79211</td></tr><tr><td>dbfs:/mnt/group12/graph/final_graph/30_new.json</td><td>30_new.json</td><td>3459618</td></tr><tr><td>dbfs:/mnt/group12/graph/final_graph/31_new.json</td><td>31_new.json</td><td>3551313</td></tr><tr><td>dbfs:/mnt/group12/graph/final_graph/32_new.json</td><td>32_new.json</td><td>3608292</td></tr><tr><td>dbfs:/mnt/group12/graph/final_graph/33_new.json</td><td>33_new.json</td><td>3941562</td></tr><tr><td>dbfs:/mnt/group12/graph/final_graph/34_new.json</td><td>34_new.json</td><td>4190555</td></tr><tr><td>dbfs:/mnt/group12/graph/final_graph/35_new.json</td><td>35_new.json</td><td>127980</td></tr><tr><td>dbfs:/mnt/group12/graph/final_graph/36_new.json</td><td>36_new.json</td><td>174071</td></tr><tr><td>dbfs:/mnt/group12/graph/final_graph/37_new.json</td><td>37_new.json</td><td>187882</td></tr><tr><td>dbfs:/mnt/group12/graph/final_graph/38_new.json</td><td>38_new.json</td><td>189819</td></tr><tr><td>dbfs:/mnt/group12/graph/final_graph/3_new.json</td><td>3_new.json</td><td>237299</td></tr><tr><td>dbfs:/mnt/group12/graph/final_graph/4_new.json</td><td>4_new.json</td><td>358499</td></tr><tr><td>dbfs:/mnt/group12/graph/final_graph/5_new.json</td><td>5_new.json</td><td>420354</td></tr><tr><td>dbfs:/mnt/group12/graph/final_graph/69.json</td><td>69.json</td><td>15</td></tr><tr><td>dbfs:/mnt/group12/graph/final_graph/6_new.json</td><td>6_new.json</td><td>174640</td></tr><tr><td>dbfs:/mnt/group12/graph/final_graph/7_new.json</td><td>7_new.json</td><td>262511</td></tr><tr><td>dbfs:/mnt/group12/graph/final_graph/8_new.json</td><td>8_new.json</td><td>70261</td></tr><tr><td>dbfs:/mnt/group12/graph/final_graph/9_new.json</td><td>9_new.json</td><td>200413</td></tr><tr><td>dbfs:/mnt/group12/graph/final_graph/_SUCCESS</td><td>_SUCCESS</td><td>0</td></tr><tr><td>dbfs:/mnt/group12/graph/final_graph/_committed_6294560819423688572</td><td>_committed_6294560819423688572</td><td>20424</td></tr><tr><td>dbfs:/mnt/group12/graph/final_graph/_started_6294560819423688572</td><td>_started_6294560819423688572</td><td>0</td></tr><tr><td>dbfs:/mnt/group12/graph/final_graph/discovery_0.json</td><td>discovery_0.json</td><td>37459</td></tr><tr><td>dbfs:/mnt/group12/graph/final_graph/discovery_1.json</td><td>discovery_1.json</td><td>47726</td></tr><tr><td>dbfs:/mnt/group12/graph/final_graph/discovery_10.json</td><td>discovery_10.json</td><td>355980</td></tr><tr><td>dbfs:/mnt/group12/graph/final_graph/discovery_11.json</td><td>discovery_11.json</td><td>382424</td></tr><tr><td>dbfs:/mnt/group12/graph/final_graph/discovery_12.json</td><td>discovery_12.json</td><td>484684</td></tr><tr><td>dbfs:/mnt/group12/graph/final_graph/discovery_13.json</td><td>discovery_13.json</td><td>518871</td></tr><tr><td>dbfs:/mnt/group12/graph/final_graph/discovery_14.json</td><td>discovery_14.json</td><td>578086</td></tr><tr><td>dbfs:/mnt/group12/graph/final_graph/discovery_15.json</td><td>discovery_15.json</td><td>706429</td></tr><tr><td>dbfs:/mnt/group12/graph/final_graph/discovery_16.json</td><td>discovery_16.json</td><td>837678</td></tr><tr><td>dbfs:/mnt/group12/graph/final_graph/discovery_17.json</td><td>discovery_17.json</td><td>922147</td></tr><tr><td>dbfs:/mnt/group12/graph/final_graph/discovery_18.json</td><td>discovery_18.json</td><td>973516</td></tr><tr><td>dbfs:/mnt/group12/graph/final_graph/discovery_19.json</td><td>discovery_19.json</td><td>1029472</td></tr><tr><td>dbfs:/mnt/group12/graph/final_graph/discovery_2.json</td><td>discovery_2.json</td><td>55195</td></tr><tr><td>dbfs:/mnt/group12/graph/final_graph/discovery_20.json</td><td>discovery_20.json</td><td>1111488</td></tr><tr><td>dbfs:/mnt/group12/graph/final_graph/discovery_21.json</td><td>discovery_21.json</td><td>1144287</td></tr><tr><td>dbfs:/mnt/group12/graph/final_graph/discovery_22.json</td><td>discovery_22.json</td><td>1238613</td></tr><tr><td>dbfs:/mnt/group12/graph/final_graph/discovery_3.json</td><td>discovery_3.json</td><td>64852</td></tr><tr><td>dbfs:/mnt/group12/graph/final_graph/discovery_4.json</td><td>discovery_4.json</td><td>129229</td></tr><tr><td>dbfs:/mnt/group12/graph/final_graph/discovery_5.json</td><td>discovery_5.json</td><td>159220</td></tr><tr><td>dbfs:/mnt/group12/graph/final_graph/discovery_6.json</td><td>discovery_6.json</td><td>200517</td></tr><tr><td>dbfs:/mnt/group12/graph/final_graph/discovery_7.json</td><td>discovery_7.json</td><td>214948</td></tr><tr><td>dbfs:/mnt/group12/graph/final_graph/discovery_8.json</td><td>discovery_8.json</td><td>236105</td></tr><tr><td>dbfs:/mnt/group12/graph/final_graph/discovery_9.json</td><td>discovery_9.json</td><td>307659</td></tr><tr><td>dbfs:/mnt/group12/graph/final_graph/part-00000-tid-6294560819423688572-45105e8c-66e5-43bb-a2f5-c1b09bd29fa8-66636-1.c000.snappy.parquet</td><td>part-00000-tid-6294560819423688572-45105e8c-66e5-43bb-a2f5-c1b09bd29fa8-66636-1.c000.snappy.parquet</td><td>2299</td></tr><tr><td>dbfs:/mnt/group12/graph/final_graph/part-00001-tid-6294560819423688572-45105e8c-66e5-43bb-a2f5-c1b09bd29fa8-66620-1.c000.snappy.parquet</td><td>part-00001-tid-6294560819423688572-45105e8c-66e5-43bb-a2f5-c1b09bd29fa8-66620-1.c000.snappy.parquet</td><td>2101</td></tr><tr><td>dbfs:/mnt/group12/graph/final_graph/part-00002-tid-6294560819423688572-45105e8c-66e5-43bb-a2f5-c1b09bd29fa8-66714-1.c000.snappy.parquet</td><td>part-00002-tid-6294560819423688572-45105e8c-66e5-43bb-a2f5-c1b09bd29fa8-66714-1.c000.snappy.parquet</td><td>2168</td></tr><tr><td>dbfs:/mnt/group12/graph/final_graph/part-00003-tid-6294560819423688572-45105e8c-66e5-43bb-a2f5-c1b09bd29fa8-66642-1.c000.snappy.parquet</td><td>part-00003-tid-6294560819423688572-45105e8c-66e5-43bb-a2f5-c1b09bd29fa8-66642-1.c000.snappy.parquet</td><td>2116</td></tr><tr><td>dbfs:/mnt/group12/graph/final_graph/part-00004-tid-6294560819423688572-45105e8c-66e5-43bb-a2f5-c1b09bd29fa8-66594-1.c000.snappy.parquet</td><td>part-00004-tid-6294560819423688572-45105e8c-66e5-43bb-a2f5-c1b09bd29fa8-66594-1.c000.snappy.parquet</td><td>2131</td></tr><tr><td>dbfs:/mnt/group12/graph/final_graph/part-00005-tid-6294560819423688572-45105e8c-66e5-43bb-a2f5-c1b09bd29fa8-66635-1.c000.snappy.parquet</td><td>part-00005-tid-6294560819423688572-45105e8c-66e5-43bb-a2f5-c1b09bd29fa8-66635-1.c000.snappy.parquet</td><td>2231</td></tr><tr><td>dbfs:/mnt/group12/graph/final_graph/part-00006-tid-6294560819423688572-45105e8c-66e5-43bb-a2f5-c1b09bd29fa8-66648-1.c000.snappy.parquet</td><td>part-00006-tid-6294560819423688572-45105e8c-66e5-43bb-a2f5-c1b09bd29fa8-66648-1.c000.snappy.parquet</td><td>2502</td></tr><tr><td>dbfs:/mnt/group12/graph/final_graph/part-00007-tid-6294560819423688572-45105e8c-66e5-43bb-a2f5-c1b09bd29fa8-66619-1.c000.snappy.parquet</td><td>part-00007-tid-6294560819423688572-45105e8c-66e5-43bb-a2f5-c1b09bd29fa8-66619-1.c000.snappy.parquet</td><td>2230</td></tr><tr><td>dbfs:/mnt/group12/graph/final_graph/part-00008-tid-6294560819423688572-45105e8c-66e5-43bb-a2f5-c1b09bd29fa8-66654-1.c000.snappy.parquet</td><td>part-00008-tid-6294560819423688572-45105e8c-66e5-43bb-a2f5-c1b09bd29fa8-66654-1.c000.snappy.parquet</td><td>2374</td></tr><tr><td>dbfs:/mnt/group12/graph/final_graph/part-00009-tid-6294560819423688572-45105e8c-66e5-43bb-a2f5-c1b09bd29fa8-66551-1.c000.snappy.parquet</td><td>part-00009-tid-6294560819423688572-45105e8c-66e5-43bb-a2f5-c1b09bd29fa8-66551-1.c000.snappy.parquet</td><td>2239</td></tr><tr><td>dbfs:/mnt/group12/graph/final_graph/part-00010-tid-6294560819423688572-45105e8c-66e5-43bb-a2f5-c1b09bd29fa8-66660-1.c000.snappy.parquet</td><td>part-00010-tid-6294560819423688572-45105e8c-66e5-43bb-a2f5-c1b09bd29fa8-66660-1.c000.snappy.parquet</td><td>2191</td></tr><tr><td>dbfs:/mnt/group12/graph/final_graph/part-00011-tid-6294560819423688572-45105e8c-66e5-43bb-a2f5-c1b09bd29fa8-66716-1.c000.snappy.parquet</td><td>part-00011-tid-6294560819423688572-45105e8c-66e5-43bb-a2f5-c1b09bd29fa8-66716-1.c000.snappy.parquet</td><td>2398</td></tr><tr><td>dbfs:/mnt/group12/graph/final_graph/part-00012-tid-6294560819423688572-45105e8c-66e5-43bb-a2f5-c1b09bd29fa8-66661-1.c000.snappy.parquet</td><td>part-00012-tid-6294560819423688572-45105e8c-66e5-43bb-a2f5-c1b09bd29fa8-66661-1.c000.snappy.parquet</td><td>2423</td></tr><tr><td>dbfs:/mnt/group12/graph/final_graph/part-00013-tid-6294560819423688572-45105e8c-66e5-43bb-a2f5-c1b09bd29fa8-66554-1.c000.snappy.parquet</td><td>part-00013-tid-6294560819423688572-45105e8c-66e5-43bb-a2f5-c1b09bd29fa8-66554-1.c000.snappy.parquet</td><td>2067</td></tr><tr><td>dbfs:/mnt/group12/graph/final_graph/part-00014-tid-6294560819423688572-45105e8c-66e5-43bb-a2f5-c1b09bd29fa8-66665-1.c000.snappy.parquet</td><td>part-00014-tid-6294560819423688572-45105e8c-66e5-43bb-a2f5-c1b09bd29fa8-66665-1.c000.snappy.parquet</td><td>2592</td></tr><tr><td>dbfs:/mnt/group12/graph/final_graph/part-00015-tid-6294560819423688572-45105e8c-66e5-43bb-a2f5-c1b09bd29fa8-66668-1.c000.snappy.parquet</td><td>part-00015-tid-6294560819423688572-45105e8c-66e5-43bb-a2f5-c1b09bd29fa8-66668-1.c000.snappy.parquet</td><td>2281</td></tr><tr><td>dbfs:/mnt/group12/graph/final_graph/part-00016-tid-6294560819423688572-45105e8c-66e5-43bb-a2f5-c1b09bd29fa8-66640-1.c000.snappy.parquet</td><td>part-00016-tid-6294560819423688572-45105e8c-66e5-43bb-a2f5-c1b09bd29fa8-66640-1.c000.snappy.parquet</td><td>2213</td></tr><tr><td>dbfs:/mnt/group12/graph/final_graph/part-00017-tid-6294560819423688572-45105e8c-66e5-43bb-a2f5-c1b09bd29fa8-66718-1.c000.snappy.parquet</td><td>part-00017-tid-6294560819423688572-45105e8c-66e5-43bb-a2f5-c1b09bd29fa8-66718-1.c000.snappy.parquet</td><td>2462</td></tr><tr><td>dbfs:/mnt/group12/graph/final_graph/part-00018-tid-6294560819423688572-45105e8c-66e5-43bb-a2f5-c1b09bd29fa8-66722-1.c000.snappy.parquet</td><td>part-00018-tid-6294560819423688572-45105e8c-66e5-43bb-a2f5-c1b09bd29fa8-66722-1.c000.snappy.parquet</td><td>2225</td></tr><tr><td>dbfs:/mnt/group12/graph/final_graph/part-00019-tid-6294560819423688572-45105e8c-66e5-43bb-a2f5-c1b09bd29fa8-66672-1.c000.snappy.parquet</td><td>part-00019-tid-6294560819423688572-45105e8c-66e5-43bb-a2f5-c1b09bd29fa8-66672-1.c000.snappy.parquet</td><td>2160</td></tr><tr><td>dbfs:/mnt/group12/graph/final_graph/part-00020-tid-6294560819423688572-45105e8c-66e5-43bb-a2f5-c1b09bd29fa8-66726-1.c000.snappy.parquet</td><td>part-00020-tid-6294560819423688572-45105e8c-66e5-43bb-a2f5-c1b09bd29fa8-66726-1.c000.snappy.parquet</td><td>2745</td></tr><tr><td>dbfs:/mnt/group12/graph/final_graph/part-00021-tid-6294560819423688572-45105e8c-66e5-43bb-a2f5-c1b09bd29fa8-66728-1.c000.snappy.parquet</td><td>part-00021-tid-6294560819423688572-45105e8c-66e5-43bb-a2f5-c1b09bd29fa8-66728-1.c000.snappy.parquet</td><td>2430</td></tr><tr><td>dbfs:/mnt/group12/graph/final_graph/part-00022-tid-6294560819423688572-45105e8c-66e5-43bb-a2f5-c1b09bd29fa8-66677-1.c000.snappy.parquet</td><td>part-00022-tid-6294560819423688572-45105e8c-66e5-43bb-a2f5-c1b09bd29fa8-66677-1.c000.snappy.parquet</td><td>2321</td></tr><tr><td>dbfs:/mnt/group12/graph/final_graph/part-00023-tid-6294560819423688572-45105e8c-66e5-43bb-a2f5-c1b09bd29fa8-66730-1.c000.snappy.parquet</td><td>part-00023-tid-6294560819423688572-45105e8c-66e5-43bb-a2f5-c1b09bd29fa8-66730-1.c000.snappy.parquet</td><td>2379</td></tr><tr><td>dbfs:/mnt/group12/graph/final_graph/part-00024-tid-6294560819423688572-45105e8c-66e5-43bb-a2f5-c1b09bd29fa8-66737-1.c000.snappy.parquet</td><td>part-00024-tid-6294560819423688572-45105e8c-66e5-43bb-a2f5-c1b09bd29fa8-66737-1.c000.snappy.parquet</td><td>2576</td></tr><tr><td>dbfs:/mnt/group12/graph/final_graph/part-00025-tid-6294560819423688572-45105e8c-66e5-43bb-a2f5-c1b09bd29fa8-66549-1.c000.snappy.parquet</td><td>part-00025-tid-6294560819423688572-45105e8c-66e5-43bb-a2f5-c1b09bd29fa8-66549-1.c000.snappy.parquet</td><td>2350</td></tr><tr><td>dbfs:/mnt/group12/graph/final_graph/part-00026-tid-6294560819423688572-45105e8c-66e5-43bb-a2f5-c1b09bd29fa8-66683-1.c000.snappy.parquet</td><td>part-00026-tid-6294560819423688572-45105e8c-66e5-43bb-a2f5-c1b09bd29fa8-66683-1.c000.snappy.parquet</td><td>2372</td></tr><tr><td>dbfs:/mnt/group12/graph/final_graph/part-00027-tid-6294560819423688572-45105e8c-66e5-43bb-a2f5-c1b09bd29fa8-66689-1.c000.snappy.parquet</td><td>part-00027-tid-6294560819423688572-45105e8c-66e5-43bb-a2f5-c1b09bd29fa8-66689-1.c000.snappy.parquet</td><td>2494</td></tr><tr><td>dbfs:/mnt/group12/graph/final_graph/part-00028-tid-6294560819423688572-45105e8c-66e5-43bb-a2f5-c1b09bd29fa8-66605-1.c000.snappy.parquet</td><td>part-00028-tid-6294560819423688572-45105e8c-66e5-43bb-a2f5-c1b09bd29fa8-66605-1.c000.snappy.parquet</td><td>2221</td></tr><tr><td>dbfs:/mnt/group12/graph/final_graph/part-00029-tid-6294560819423688572-45105e8c-66e5-43bb-a2f5-c1b09bd29fa8-66609-1.c000.snappy.parquet</td><td>part-00029-tid-6294560819423688572-45105e8c-66e5-43bb-a2f5-c1b09bd29fa8-66609-1.c000.snappy.parquet</td><td>2283</td></tr><tr><td>dbfs:/mnt/group12/graph/final_graph/part-00030-tid-6294560819423688572-45105e8c-66e5-43bb-a2f5-c1b09bd29fa8-66740-1.c000.snappy.parquet</td><td>part-00030-tid-6294560819423688572-45105e8c-66e5-43bb-a2f5-c1b09bd29fa8-66740-1.c000.snappy.parquet</td><td>2444</td></tr><tr><td>dbfs:/mnt/group12/graph/final_graph/part-00031-tid-6294560819423688572-45105e8c-66e5-43bb-a2f5-c1b09bd29fa8-66557-1.c000.snappy.parquet</td><td>part-00031-tid-6294560819423688572-45105e8c-66e5-43bb-a2f5-c1b09bd29fa8-66557-1.c000.snappy.parquet</td><td>2547</td></tr><tr><td>dbfs:/mnt/group12/graph/final_graph/part-00032-tid-6294560819423688572-45105e8c-66e5-43bb-a2f5-c1b09bd29fa8-66691-1.c000.snappy.parquet</td><td>part-00032-tid-6294560819423688572-45105e8c-66e5-43bb-a2f5-c1b09bd29fa8-66691-1.c000.snappy.parquet</td><td>2693</td></tr><tr><td>dbfs:/mnt/group12/graph/final_graph/part-00033-tid-6294560819423688572-45105e8c-66e5-43bb-a2f5-c1b09bd29fa8-66561-1.c000.snappy.parquet</td><td>part-00033-tid-6294560819423688572-45105e8c-66e5-43bb-a2f5-c1b09bd29fa8-66561-1.c000.snappy.parquet</td><td>2396</td></tr><tr><td>dbfs:/mnt/group12/graph/final_graph/part-00034-tid-6294560819423688572-45105e8c-66e5-43bb-a2f5-c1b09bd29fa8-66693-1.c000.snappy.parquet</td><td>part-00034-tid-6294560819423688572-45105e8c-66e5-43bb-a2f5-c1b09bd29fa8-66693-1.c000.snappy.parquet</td><td>2272</td></tr><tr><td>dbfs:/mnt/group12/graph/final_graph/part-00035-tid-6294560819423688572-45105e8c-66e5-43bb-a2f5-c1b09bd29fa8-66613-1.c000.snappy.parquet</td><td>part-00035-tid-6294560819423688572-45105e8c-66e5-43bb-a2f5-c1b09bd29fa8-66613-1.c000.snappy.parquet</td><td>2625</td></tr><tr><td>dbfs:/mnt/group12/graph/final_graph/part-00036-tid-6294560819423688572-45105e8c-66e5-43bb-a2f5-c1b09bd29fa8-66565-1.c000.snappy.parquet</td><td>part-00036-tid-6294560819423688572-45105e8c-66e5-43bb-a2f5-c1b09bd29fa8-66565-1.c000.snappy.parquet</td><td>2645</td></tr><tr><td>dbfs:/mnt/group12/graph/final_graph/part-00037-tid-6294560819423688572-45105e8c-66e5-43bb-a2f5-c1b09bd29fa8-66741-1.c000.snappy.parquet</td><td>part-00037-tid-6294560819423688572-45105e8c-66e5-43bb-a2f5-c1b09bd29fa8-66741-1.c000.snappy.parquet</td><td>2101</td></tr><tr><td>dbfs:/mnt/group12/graph/final_graph/part-00038-tid-6294560819423688572-45105e8c-66e5-43bb-a2f5-c1b09bd29fa8-66697-1.c000.snappy.parquet</td><td>part-00038-tid-6294560819423688572-45105e8c-66e5-43bb-a2f5-c1b09bd29fa8-66697-1.c000.snappy.parquet</td><td>2764</td></tr><tr><td>dbfs:/mnt/group12/graph/final_graph/part-00039-tid-6294560819423688572-45105e8c-66e5-43bb-a2f5-c1b09bd29fa8-66572-1.c000.snappy.parquet</td><td>part-00039-tid-6294560819423688572-45105e8c-66e5-43bb-a2f5-c1b09bd29fa8-66572-1.c000.snappy.parquet</td><td>2359</td></tr><tr><td>dbfs:/mnt/group12/graph/final_graph/part-00040-tid-6294560819423688572-45105e8c-66e5-43bb-a2f5-c1b09bd29fa8-66699-1.c000.snappy.parquet</td><td>part-00040-tid-6294560819423688572-45105e8c-66e5-43bb-a2f5-c1b09bd29fa8-66699-1.c000.snappy.parquet</td><td>2423</td></tr><tr><td>dbfs:/mnt/group12/graph/final_graph/part-00041-tid-6294560819423688572-45105e8c-66e5-43bb-a2f5-c1b09bd29fa8-66742-1.c000.snappy.parquet</td><td>part-00041-tid-6294560819423688572-45105e8c-66e5-43bb-a2f5-c1b09bd29fa8-66742-1.c000.snappy.parquet</td><td>2521</td></tr><tr><td>dbfs:/mnt/group12/graph/final_graph/part-00042-tid-6294560819423688572-45105e8c-66e5-43bb-a2f5-c1b09bd29fa8-66645-1.c000.snappy.parquet</td><td>part-00042-tid-6294560819423688572-45105e8c-66e5-43bb-a2f5-c1b09bd29fa8-66645-1.c000.snappy.parquet</td><td>2347</td></tr><tr><td>dbfs:/mnt/group12/graph/final_graph/part-00043-tid-6294560819423688572-45105e8c-66e5-43bb-a2f5-c1b09bd29fa8-66646-1.c000.snappy.parquet</td><td>part-00043-tid-6294560819423688572-45105e8c-66e5-43bb-a2f5-c1b09bd29fa8-66646-1.c000.snappy.parquet</td><td>2335</td></tr><tr><td>dbfs:/mnt/group12/graph/final_graph/part-00044-tid-6294560819423688572-45105e8c-66e5-43bb-a2f5-c1b09bd29fa8-66703-1.c000.snappy.parquet</td><td>part-00044-tid-6294560819423688572-45105e8c-66e5-43bb-a2f5-c1b09bd29fa8-66703-1.c000.snappy.parquet</td><td>2404</td></tr><tr><td>dbfs:/mnt/group12/graph/final_graph/part-00045-tid-6294560819423688572-45105e8c-66e5-43bb-a2f5-c1b09bd29fa8-66705-1.c000.snappy.parquet</td><td>part-00045-tid-6294560819423688572-45105e8c-66e5-43bb-a2f5-c1b09bd29fa8-66705-1.c000.snappy.parquet</td><td>2363</td></tr><tr><td>dbfs:/mnt/group12/graph/final_graph/part-00046-tid-6294560819423688572-45105e8c-66e5-43bb-a2f5-c1b09bd29fa8-66745-1.c000.snappy.parquet</td><td>part-00046-tid-6294560819423688572-45105e8c-66e5-43bb-a2f5-c1b09bd29fa8-66745-1.c000.snappy.parquet</td><td>2585</td></tr><tr><td>dbfs:/mnt/group12/graph/final_graph/part-00047-tid-6294560819423688572-45105e8c-66e5-43bb-a2f5-c1b09bd29fa8-66746-1.c000.snappy.parquet</td><td>part-00047-tid-6294560819423688572-45105e8c-66e5-43bb-a2f5-c1b09bd29fa8-66746-1.c000.snappy.parquet</td><td>2294</td></tr><tr><td>dbfs:/mnt/group12/graph/final_graph/part-00048-tid-6294560819423688572-45105e8c-66e5-43bb-a2f5-c1b09bd29fa8-66749-1.c000.snappy.parquet</td><td>part-00048-tid-6294560819423688572-45105e8c-66e5-43bb-a2f5-c1b09bd29fa8-66749-1.c000.snappy.parquet</td><td>2623</td></tr><tr><td>dbfs:/mnt/group12/graph/final_graph/part-00049-tid-6294560819423688572-45105e8c-66e5-43bb-a2f5-c1b09bd29fa8-66568-1.c000.snappy.parquet</td><td>part-00049-tid-6294560819423688572-45105e8c-66e5-43bb-a2f5-c1b09bd29fa8-66568-1.c000.snappy.parquet</td><td>2599</td></tr><tr><td>dbfs:/mnt/group12/graph/final_graph/part-00050-tid-6294560819423688572-45105e8c-66e5-43bb-a2f5-c1b09bd29fa8-66707-1.c000.snappy.parquet</td><td>part-00050-tid-6294560819423688572-45105e8c-66e5-43bb-a2f5-c1b09bd29fa8-66707-1.c000.snappy.parquet</td><td>2433</td></tr><tr><td>dbfs:/mnt/group12/graph/final_graph/part-00051-tid-6294560819423688572-45105e8c-66e5-43bb-a2f5-c1b09bd29fa8-66712-1.c000.snappy.parquet</td><td>part-00051-tid-6294560819423688572-45105e8c-66e5-43bb-a2f5-c1b09bd29fa8-66712-1.c000.snappy.parquet</td><td>2267</td></tr><tr><td>dbfs:/mnt/group12/graph/final_graph/part-00052-tid-6294560819423688572-45105e8c-66e5-43bb-a2f5-c1b09bd29fa8-66634-1.c000.snappy.parquet</td><td>part-00052-tid-6294560819423688572-45105e8c-66e5-43bb-a2f5-c1b09bd29fa8-66634-1.c000.snappy.parquet</td><td>2445</td></tr><tr><td>dbfs:/mnt/group12/graph/final_graph/part-00053-tid-6294560819423688572-45105e8c-66e5-43bb-a2f5-c1b09bd29fa8-66647-1.c000.snappy.parquet</td><td>part-00053-tid-6294560819423688572-45105e8c-66e5-43bb-a2f5-c1b09bd29fa8-66647-1.c000.snappy.parquet</td><td>2297</td></tr><tr><td>dbfs:/mnt/group12/graph/final_graph/part-00054-tid-6294560819423688572-45105e8c-66e5-43bb-a2f5-c1b09bd29fa8-66750-1.c000.snappy.parquet</td><td>part-00054-tid-6294560819423688572-45105e8c-66e5-43bb-a2f5-c1b09bd29fa8-66750-1.c000.snappy.parquet</td><td>2414</td></tr><tr><td>dbfs:/mnt/group12/graph/final_graph/part-00055-tid-6294560819423688572-45105e8c-66e5-43bb-a2f5-c1b09bd29fa8-66751-1.c000.snappy.parquet</td><td>part-00055-tid-6294560819423688572-45105e8c-66e5-43bb-a2f5-c1b09bd29fa8-66751-1.c000.snappy.parquet</td><td>2138</td></tr><tr><td>dbfs:/mnt/group12/graph/final_graph/part-00056-tid-6294560819423688572-45105e8c-66e5-43bb-a2f5-c1b09bd29fa8-66573-1.c000.snappy.parquet</td><td>part-00056-tid-6294560819423688572-45105e8c-66e5-43bb-a2f5-c1b09bd29fa8-66573-1.c000.snappy.parquet</td><td>2427</td></tr><tr><td>dbfs:/mnt/group12/graph/final_graph/part-00057-tid-6294560819423688572-45105e8c-66e5-43bb-a2f5-c1b09bd29fa8-66578-1.c000.snappy.parquet</td><td>part-00057-tid-6294560819423688572-45105e8c-66e5-43bb-a2f5-c1b09bd29fa8-66578-1.c000.snappy.parquet</td><td>2175</td></tr><tr><td>dbfs:/mnt/group12/graph/final_graph/part-00058-tid-6294560819423688572-45105e8c-66e5-43bb-a2f5-c1b09bd29fa8-66649-1.c000.snappy.parquet</td><td>part-00058-tid-6294560819423688572-45105e8c-66e5-43bb-a2f5-c1b09bd29fa8-66649-1.c000.snappy.parquet</td><td>2330</td></tr><tr><td>dbfs:/mnt/group12/graph/final_graph/part-00059-tid-6294560819423688572-45105e8c-66e5-43bb-a2f5-c1b09bd29fa8-66616-1.c000.snappy.parquet</td><td>part-00059-tid-6294560819423688572-45105e8c-66e5-43bb-a2f5-c1b09bd29fa8-66616-1.c000.snappy.parquet</td><td>2418</td></tr><tr><td>dbfs:/mnt/group12/graph/final_graph/part-00060-tid-6294560819423688572-45105e8c-66e5-43bb-a2f5-c1b09bd29fa8-66713-1.c000.snappy.parquet</td><td>part-00060-tid-6294560819423688572-45105e8c-66e5-43bb-a2f5-c1b09bd29fa8-66713-1.c000.snappy.parquet</td><td>2245</td></tr><tr><td>dbfs:/mnt/group12/graph/final_graph/part-00061-tid-6294560819423688572-45105e8c-66e5-43bb-a2f5-c1b09bd29fa8-66717-1.c000.snappy.parquet</td><td>part-00061-tid-6294560819423688572-45105e8c-66e5-43bb-a2f5-c1b09bd29fa8-66717-1.c000.snappy.parquet</td><td>2130</td></tr><tr><td>dbfs:/mnt/group12/graph/final_graph/part-00062-tid-6294560819423688572-45105e8c-66e5-43bb-a2f5-c1b09bd29fa8-66581-1.c000.snappy.parquet</td><td>part-00062-tid-6294560819423688572-45105e8c-66e5-43bb-a2f5-c1b09bd29fa8-66581-1.c000.snappy.parquet</td><td>2097</td></tr><tr><td>dbfs:/mnt/group12/graph/final_graph/part-00063-tid-6294560819423688572-45105e8c-66e5-43bb-a2f5-c1b09bd29fa8-66583-1.c000.snappy.parquet</td><td>part-00063-tid-6294560819423688572-45105e8c-66e5-43bb-a2f5-c1b09bd29fa8-66583-1.c000.snappy.parquet</td><td>2239</td></tr><tr><td>dbfs:/mnt/group12/graph/final_graph/part-00064-tid-6294560819423688572-45105e8c-66e5-43bb-a2f5-c1b09bd29fa8-66752-1.c000.snappy.parquet</td><td>part-00064-tid-6294560819423688572-45105e8c-66e5-43bb-a2f5-c1b09bd29fa8-66752-1.c000.snappy.parquet</td><td>2588</td></tr><tr><td>dbfs:/mnt/group12/graph/final_graph/part-00065-tid-6294560819423688572-45105e8c-66e5-43bb-a2f5-c1b09bd29fa8-66753-1.c000.snappy.parquet</td><td>part-00065-tid-6294560819423688572-45105e8c-66e5-43bb-a2f5-c1b09bd29fa8-66753-1.c000.snappy.parquet</td><td>2402</td></tr><tr><td>dbfs:/mnt/group12/graph/final_graph/part-00066-tid-6294560819423688572-45105e8c-66e5-43bb-a2f5-c1b09bd29fa8-66639-1.c000.snappy.parquet</td><td>part-00066-tid-6294560819423688572-45105e8c-66e5-43bb-a2f5-c1b09bd29fa8-66639-1.c000.snappy.parquet</td><td>2692</td></tr><tr><td>dbfs:/mnt/group12/graph/final_graph/part-00067-tid-6294560819423688572-45105e8c-66e5-43bb-a2f5-c1b09bd29fa8-66720-1.c000.snappy.parquet</td><td>part-00067-tid-6294560819423688572-45105e8c-66e5-43bb-a2f5-c1b09bd29fa8-66720-1.c000.snappy.parquet</td><td>2509</td></tr><tr><td>dbfs:/mnt/group12/graph/final_graph/part-00068-tid-6294560819423688572-45105e8c-66e5-43bb-a2f5-c1b09bd29fa8-66721-1.c000.snappy.parquet</td><td>part-00068-tid-6294560819423688572-45105e8c-66e5-43bb-a2f5-c1b09bd29fa8-66721-1.c000.snappy.parquet</td><td>2180</td></tr><tr><td>dbfs:/mnt/group12/graph/final_graph/part-00069-tid-6294560819423688572-45105e8c-66e5-43bb-a2f5-c1b09bd29fa8-66756-1.c000.snappy.parquet</td><td>part-00069-tid-6294560819423688572-45105e8c-66e5-43bb-a2f5-c1b09bd29fa8-66756-1.c000.snappy.parquet</td><td>2372</td></tr><tr><td>dbfs:/mnt/group12/graph/final_graph/part-00070-tid-6294560819423688572-45105e8c-66e5-43bb-a2f5-c1b09bd29fa8-66651-1.c000.snappy.parquet</td><td>part-00070-tid-6294560819423688572-45105e8c-66e5-43bb-a2f5-c1b09bd29fa8-66651-1.c000.snappy.parquet</td><td>2219</td></tr><tr><td>dbfs:/mnt/group12/graph/final_graph/part-00071-tid-6294560819423688572-45105e8c-66e5-43bb-a2f5-c1b09bd29fa8-66644-1.c000.snappy.parquet</td><td>part-00071-tid-6294560819423688572-45105e8c-66e5-43bb-a2f5-c1b09bd29fa8-66644-1.c000.snappy.parquet</td><td>2253</td></tr><tr><td>dbfs:/mnt/group12/graph/final_graph/part-00072-tid-6294560819423688572-45105e8c-66e5-43bb-a2f5-c1b09bd29fa8-66587-1.c000.snappy.parquet</td><td>part-00072-tid-6294560819423688572-45105e8c-66e5-43bb-a2f5-c1b09bd29fa8-66587-1.c000.snappy.parquet</td><td>2391</td></tr><tr><td>dbfs:/mnt/group12/graph/final_graph/part-00073-tid-6294560819423688572-45105e8c-66e5-43bb-a2f5-c1b09bd29fa8-66757-1.c000.snappy.parquet</td><td>part-00073-tid-6294560819423688572-45105e8c-66e5-43bb-a2f5-c1b09bd29fa8-66757-1.c000.snappy.parquet</td><td>2365</td></tr><tr><td>dbfs:/mnt/group12/graph/final_graph/part-00074-tid-6294560819423688572-45105e8c-66e5-43bb-a2f5-c1b09bd29fa8-66723-1.c000.snappy.parquet</td><td>part-00074-tid-6294560819423688572-45105e8c-66e5-43bb-a2f5-c1b09bd29fa8-66723-1.c000.snappy.parquet</td><td>2048</td></tr><tr><td>dbfs:/mnt/group12/graph/final_graph/part-00075-tid-6294560819423688572-45105e8c-66e5-43bb-a2f5-c1b09bd29fa8-66759-1.c000.snappy.parquet</td><td>part-00075-tid-6294560819423688572-45105e8c-66e5-43bb-a2f5-c1b09bd29fa8-66759-1.c000.snappy.parquet</td><td>2684</td></tr><tr><td>dbfs:/mnt/group12/graph/final_graph/part-00076-tid-6294560819423688572-45105e8c-66e5-43bb-a2f5-c1b09bd29fa8-66624-1.c000.snappy.parquet</td><td>part-00076-tid-6294560819423688572-45105e8c-66e5-43bb-a2f5-c1b09bd29fa8-66624-1.c000.snappy.parquet</td><td>2580</td></tr><tr><td>dbfs:/mnt/group12/graph/final_graph/part-00077-tid-6294560819423688572-45105e8c-66e5-43bb-a2f5-c1b09bd29fa8-66724-1.c000.snappy.parquet</td><td>part-00077-tid-6294560819423688572-45105e8c-66e5-43bb-a2f5-c1b09bd29fa8-66724-1.c000.snappy.parquet</td><td>2373</td></tr><tr><td>dbfs:/mnt/group12/graph/final_graph/part-00078-tid-6294560819423688572-45105e8c-66e5-43bb-a2f5-c1b09bd29fa8-66599-1.c000.snappy.parquet</td><td>part-00078-tid-6294560819423688572-45105e8c-66e5-43bb-a2f5-c1b09bd29fa8-66599-1.c000.snappy.parquet</td><td>2223</td></tr><tr><td>dbfs:/mnt/group12/graph/final_graph/part-00079-tid-6294560819423688572-45105e8c-66e5-43bb-a2f5-c1b09bd29fa8-66727-1.c000.snappy.parquet</td><td>part-00079-tid-6294560819423688572-45105e8c-66e5-43bb-a2f5-c1b09bd29fa8-66727-1.c000.snappy.parquet</td><td>2360</td></tr><tr><td>dbfs:/mnt/group12/graph/final_graph/part-00080-tid-6294560819423688572-45105e8c-66e5-43bb-a2f5-c1b09bd29fa8-66627-1.c000.snappy.parquet</td><td>part-00080-tid-6294560819423688572-45105e8c-66e5-43bb-a2f5-c1b09bd29fa8-66627-1.c000.snappy.parquet</td><td>2242</td></tr><tr><td>dbfs:/mnt/group12/graph/final_graph/part-00081-tid-6294560819423688572-45105e8c-66e5-43bb-a2f5-c1b09bd29fa8-66760-1.c000.snappy.parquet</td><td>part-00081-tid-6294560819423688572-45105e8c-66e5-43bb-a2f5-c1b09bd29fa8-66760-1.c000.snappy.parquet</td><td>2218</td></tr><tr><td>dbfs:/mnt/group12/graph/final_graph/part-00082-tid-6294560819423688572-45105e8c-66e5-43bb-a2f5-c1b09bd29fa8-66762-1.c000.snappy.parquet</td><td>part-00082-tid-6294560819423688572-45105e8c-66e5-43bb-a2f5-c1b09bd29fa8-66762-1.c000.snappy.parquet</td><td>2521</td></tr><tr><td>dbfs:/mnt/group12/graph/final_graph/part-00083-tid-6294560819423688572-45105e8c-66e5-43bb-a2f5-c1b09bd29fa8-66555-1.c000.snappy.parquet</td><td>part-00083-tid-6294560819423688572-45105e8c-66e5-43bb-a2f5-c1b09bd29fa8-66555-1.c000.snappy.parquet</td><td>2337</td></tr><tr><td>dbfs:/mnt/group12/graph/final_graph/part-00084-tid-6294560819423688572-45105e8c-66e5-43bb-a2f5-c1b09bd29fa8-66729-1.c000.snappy.parquet</td><td>part-00084-tid-6294560819423688572-45105e8c-66e5-43bb-a2f5-c1b09bd29fa8-66729-1.c000.snappy.parquet</td><td>2303</td></tr><tr><td>dbfs:/mnt/group12/graph/final_graph/part-00085-tid-6294560819423688572-45105e8c-66e5-43bb-a2f5-c1b09bd29fa8-66657-1.c000.snappy.parquet</td><td>part-00085-tid-6294560819423688572-45105e8c-66e5-43bb-a2f5-c1b09bd29fa8-66657-1.c000.snappy.parquet</td><td>2531</td></tr><tr><td>dbfs:/mnt/group12/graph/final_graph/part-00086-tid-6294560819423688572-45105e8c-66e5-43bb-a2f5-c1b09bd29fa8-66650-1.c000.snappy.parquet</td><td>part-00086-tid-6294560819423688572-45105e8c-66e5-43bb-a2f5-c1b09bd29fa8-66650-1.c000.snappy.parquet</td><td>2455</td></tr><tr><td>dbfs:/mnt/group12/graph/final_graph/part-00087-tid-6294560819423688572-45105e8c-66e5-43bb-a2f5-c1b09bd29fa8-66630-1.c000.snappy.parquet</td><td>part-00087-tid-6294560819423688572-45105e8c-66e5-43bb-a2f5-c1b09bd29fa8-66630-1.c000.snappy.parquet</td><td>2368</td></tr><tr><td>dbfs:/mnt/group12/graph/final_graph/part-00088-tid-6294560819423688572-45105e8c-66e5-43bb-a2f5-c1b09bd29fa8-66763-1.c000.snappy.parquet</td><td>part-00088-tid-6294560819423688572-45105e8c-66e5-43bb-a2f5-c1b09bd29fa8-66763-1.c000.snappy.parquet</td><td>2494</td></tr><tr><td>dbfs:/mnt/group12/graph/final_graph/part-00089-tid-6294560819423688572-45105e8c-66e5-43bb-a2f5-c1b09bd29fa8-66603-1.c000.snappy.parquet</td><td>part-00089-tid-6294560819423688572-45105e8c-66e5-43bb-a2f5-c1b09bd29fa8-66603-1.c000.snappy.parquet</td><td>2315</td></tr><tr><td>dbfs:/mnt/group12/graph/final_graph/part-00090-tid-6294560819423688572-45105e8c-66e5-43bb-a2f5-c1b09bd29fa8-66765-1.c000.snappy.parquet</td><td>part-00090-tid-6294560819423688572-45105e8c-66e5-43bb-a2f5-c1b09bd29fa8-66765-1.c000.snappy.parquet</td><td>2482</td></tr><tr><td>dbfs:/mnt/group12/graph/final_graph/part-00091-tid-6294560819423688572-45105e8c-66e5-43bb-a2f5-c1b09bd29fa8-66766-1.c000.snappy.parquet</td><td>part-00091-tid-6294560819423688572-45105e8c-66e5-43bb-a2f5-c1b09bd29fa8-66766-1.c000.snappy.parquet</td><td>2182</td></tr><tr><td>dbfs:/mnt/group12/graph/final_graph/part-00092-tid-6294560819423688572-45105e8c-66e5-43bb-a2f5-c1b09bd29fa8-66556-1.c000.snappy.parquet</td><td>part-00092-tid-6294560819423688572-45105e8c-66e5-43bb-a2f5-c1b09bd29fa8-66556-1.c000.snappy.parquet</td><td>2458</td></tr><tr><td>dbfs:/mnt/group12/graph/final_graph/part-00093-tid-6294560819423688572-45105e8c-66e5-43bb-a2f5-c1b09bd29fa8-66731-1.c000.snappy.parquet</td><td>part-00093-tid-6294560819423688572-45105e8c-66e5-43bb-a2f5-c1b09bd29fa8-66731-1.c000.snappy.parquet</td><td>2520</td></tr><tr><td>dbfs:/mnt/group12/graph/final_graph/part-00094-tid-6294560819423688572-45105e8c-66e5-43bb-a2f5-c1b09bd29fa8-66659-1.c000.snappy.parquet</td><td>part-00094-tid-6294560819423688572-45105e8c-66e5-43bb-a2f5-c1b09bd29fa8-66659-1.c000.snappy.parquet</td><td>2436</td></tr><tr><td>dbfs:/mnt/group12/graph/final_graph/part-00095-tid-6294560819423688572-45105e8c-66e5-43bb-a2f5-c1b09bd29fa8-66732-1.c000.snappy.parquet</td><td>part-00095-tid-6294560819423688572-45105e8c-66e5-43bb-a2f5-c1b09bd29fa8-66732-1.c000.snappy.parquet</td><td>2310</td></tr><tr><td>dbfs:/mnt/group12/graph/final_graph/part-00096-tid-6294560819423688572-45105e8c-66e5-43bb-a2f5-c1b09bd29fa8-66590-1.c000.snappy.parquet</td><td>part-00096-tid-6294560819423688572-45105e8c-66e5-43bb-a2f5-c1b09bd29fa8-66590-1.c000.snappy.parquet</td><td>2127</td></tr><tr><td>dbfs:/mnt/group12/graph/final_graph/part-00097-tid-6294560819423688572-45105e8c-66e5-43bb-a2f5-c1b09bd29fa8-66633-1.c000.snappy.parquet</td><td>part-00097-tid-6294560819423688572-45105e8c-66e5-43bb-a2f5-c1b09bd29fa8-66633-1.c000.snappy.parquet</td><td>2263</td></tr><tr><td>dbfs:/mnt/group12/graph/final_graph/part-00098-tid-6294560819423688572-45105e8c-66e5-43bb-a2f5-c1b09bd29fa8-66770-1.c000.snappy.parquet</td><td>part-00098-tid-6294560819423688572-45105e8c-66e5-43bb-a2f5-c1b09bd29fa8-66770-1.c000.snappy.parquet</td><td>2635</td></tr><tr><td>dbfs:/mnt/group12/graph/final_graph/part-00099-tid-6294560819423688572-45105e8c-66e5-43bb-a2f5-c1b09bd29fa8-66771-1.c000.snappy.parquet</td><td>part-00099-tid-6294560819423688572-45105e8c-66e5-43bb-a2f5-c1b09bd29fa8-66771-1.c000.snappy.parquet</td><td>2486</td></tr><tr><td>dbfs:/mnt/group12/graph/final_graph/part-00100-tid-6294560819423688572-45105e8c-66e5-43bb-a2f5-c1b09bd29fa8-66658-1.c000.snappy.parquet</td><td>part-00100-tid-6294560819423688572-45105e8c-66e5-43bb-a2f5-c1b09bd29fa8-66658-1.c000.snappy.parquet</td><td>2446</td></tr><tr><td>dbfs:/mnt/group12/graph/final_graph/part-00101-tid-6294560819423688572-45105e8c-66e5-43bb-a2f5-c1b09bd29fa8-66592-1.c000.snappy.parquet</td><td>part-00101-tid-6294560819423688572-45105e8c-66e5-43bb-a2f5-c1b09bd29fa8-66592-1.c000.snappy.parquet</td><td>2407</td></tr><tr><td>dbfs:/mnt/group12/graph/final_graph/part-00102-tid-6294560819423688572-45105e8c-66e5-43bb-a2f5-c1b09bd29fa8-66733-1.c000.snappy.parquet</td><td>part-00102-tid-6294560819423688572-45105e8c-66e5-43bb-a2f5-c1b09bd29fa8-66733-1.c000.snappy.parquet</td><td>2539</td></tr><tr><td>dbfs:/mnt/group12/graph/final_graph/part-00103-tid-6294560819423688572-45105e8c-66e5-43bb-a2f5-c1b09bd29fa8-66772-1.c000.snappy.parquet</td><td>part-00103-tid-6294560819423688572-45105e8c-66e5-43bb-a2f5-c1b09bd29fa8-66772-1.c000.snappy.parquet</td><td>2049</td></tr><tr><td>dbfs:/mnt/group12/graph/final_graph/part-00104-tid-6294560819423688572-45105e8c-66e5-43bb-a2f5-c1b09bd29fa8-66774-1.c000.snappy.parquet</td><td>part-00104-tid-6294560819423688572-45105e8c-66e5-43bb-a2f5-c1b09bd29fa8-66774-1.c000.snappy.parquet</td><td>2445</td></tr><tr><td>dbfs:/mnt/group12/graph/final_graph/part-00105-tid-6294560819423688572-45105e8c-66e5-43bb-a2f5-c1b09bd29fa8-66776-1.c000.snappy.parquet</td><td>part-00105-tid-6294560819423688572-45105e8c-66e5-43bb-a2f5-c1b09bd29fa8-66776-1.c000.snappy.parquet</td><td>2222</td></tr><tr><td>dbfs:/mnt/group12/graph/final_graph/part-00106-tid-6294560819423688572-45105e8c-66e5-43bb-a2f5-c1b09bd29fa8-66735-1.c000.snappy.parquet</td><td>part-00106-tid-6294560819423688572-45105e8c-66e5-43bb-a2f5-c1b09bd29fa8-66735-1.c000.snappy.parquet</td><td>2364</td></tr><tr><td>dbfs:/mnt/group12/graph/final_graph/part-00107-tid-6294560819423688572-45105e8c-66e5-43bb-a2f5-c1b09bd29fa8-66606-1.c000.snappy.parquet</td><td>part-00107-tid-6294560819423688572-45105e8c-66e5-43bb-a2f5-c1b09bd29fa8-66606-1.c000.snappy.parquet</td><td>2484</td></tr><tr><td>dbfs:/mnt/group12/graph/final_graph/part-00108-tid-6294560819423688572-45105e8c-66e5-43bb-a2f5-c1b09bd29fa8-66595-1.c000.snappy.parquet</td><td>part-00108-tid-6294560819423688572-45105e8c-66e5-43bb-a2f5-c1b09bd29fa8-66595-1.c000.snappy.parquet</td><td>2314</td></tr><tr><td>dbfs:/mnt/group12/graph/final_graph/part-00109-tid-6294560819423688572-45105e8c-66e5-43bb-a2f5-c1b09bd29fa8-66559-1.c000.snappy.parquet</td><td>part-00109-tid-6294560819423688572-45105e8c-66e5-43bb-a2f5-c1b09bd29fa8-66559-1.c000.snappy.parquet</td><td>2315</td></tr><tr><td>dbfs:/mnt/group12/graph/final_graph/part-00110-tid-6294560819423688572-45105e8c-66e5-43bb-a2f5-c1b09bd29fa8-66670-1.c000.snappy.parquet</td><td>part-00110-tid-6294560819423688572-45105e8c-66e5-43bb-a2f5-c1b09bd29fa8-66670-1.c000.snappy.parquet</td><td>2531</td></tr><tr><td>dbfs:/mnt/group12/graph/final_graph/part-00111-tid-6294560819423688572-45105e8c-66e5-43bb-a2f5-c1b09bd29fa8-66664-1.c000.snappy.parquet</td><td>part-00111-tid-6294560819423688572-45105e8c-66e5-43bb-a2f5-c1b09bd29fa8-66664-1.c000.snappy.parquet</td><td>2252</td></tr><tr><td>dbfs:/mnt/group12/graph/final_graph/part-00112-tid-6294560819423688572-45105e8c-66e5-43bb-a2f5-c1b09bd29fa8-66671-1.c000.snappy.parquet</td><td>part-00112-tid-6294560819423688572-45105e8c-66e5-43bb-a2f5-c1b09bd29fa8-66671-1.c000.snappy.parquet</td><td>2515</td></tr><tr><td>dbfs:/mnt/group12/graph/final_graph/part-00113-tid-6294560819423688572-45105e8c-66e5-43bb-a2f5-c1b09bd29fa8-66777-1.c000.snappy.parquet</td><td>part-00113-tid-6294560819423688572-45105e8c-66e5-43bb-a2f5-c1b09bd29fa8-66777-1.c000.snappy.parquet</td><td>2346</td></tr><tr><td>dbfs:/mnt/group12/graph/final_graph/part-00114-tid-6294560819423688572-45105e8c-66e5-43bb-a2f5-c1b09bd29fa8-66778-1.c000.snappy.parquet</td><td>part-00114-tid-6294560819423688572-45105e8c-66e5-43bb-a2f5-c1b09bd29fa8-66778-1.c000.snappy.parquet</td><td>2538</td></tr><tr><td>dbfs:/mnt/group12/graph/final_graph/part-00115-tid-6294560819423688572-45105e8c-66e5-43bb-a2f5-c1b09bd29fa8-66738-1.c000.snappy.parquet</td><td>part-00115-tid-6294560819423688572-45105e8c-66e5-43bb-a2f5-c1b09bd29fa8-66738-1.c000.snappy.parquet</td><td>2348</td></tr><tr><td>dbfs:/mnt/group12/graph/final_graph/part-00116-tid-6294560819423688572-45105e8c-66e5-43bb-a2f5-c1b09bd29fa8-66780-1.c000.snappy.parquet</td><td>part-00116-tid-6294560819423688572-45105e8c-66e5-43bb-a2f5-c1b09bd29fa8-66780-1.c000.snappy.parquet</td><td>2472</td></tr><tr><td>dbfs:/mnt/group12/graph/final_graph/part-00117-tid-6294560819423688572-45105e8c-66e5-43bb-a2f5-c1b09bd29fa8-66739-1.c000.snappy.parquet</td><td>part-00117-tid-6294560819423688572-45105e8c-66e5-43bb-a2f5-c1b09bd29fa8-66739-1.c000.snappy.parquet</td><td>2563</td></tr><tr><td>dbfs:/mnt/group12/graph/final_graph/part-00118-tid-6294560819423688572-45105e8c-66e5-43bb-a2f5-c1b09bd29fa8-66637-1.c000.snappy.parquet</td><td>part-00118-tid-6294560819423688572-45105e8c-66e5-43bb-a2f5-c1b09bd29fa8-66637-1.c000.snappy.parquet</td><td>2174</td></tr><tr><td>dbfs:/mnt/group12/graph/final_graph/part-00119-tid-6294560819423688572-45105e8c-66e5-43bb-a2f5-c1b09bd29fa8-66608-1.c000.snappy.parquet</td><td>part-00119-tid-6294560819423688572-45105e8c-66e5-43bb-a2f5-c1b09bd29fa8-66608-1.c000.snappy.parquet</td><td>2589</td></tr><tr><td>dbfs:/mnt/group12/graph/final_graph/part-00120-tid-6294560819423688572-45105e8c-66e5-43bb-a2f5-c1b09bd29fa8-66560-1.c000.snappy.parquet</td><td>part-00120-tid-6294560819423688572-45105e8c-66e5-43bb-a2f5-c1b09bd29fa8-66560-1.c000.snappy.parquet</td><td>2427</td></tr><tr><td>dbfs:/mnt/group12/graph/final_graph/part-00121-tid-6294560819423688572-45105e8c-66e5-43bb-a2f5-c1b09bd29fa8-66550-1.c000.snappy.parquet</td><td>part-00121-tid-6294560819423688572-45105e8c-66e5-43bb-a2f5-c1b09bd29fa8-66550-1.c000.snappy.parquet</td><td>2252</td></tr><tr><td>dbfs:/mnt/group12/graph/final_graph/part-00122-tid-6294560819423688572-45105e8c-66e5-43bb-a2f5-c1b09bd29fa8-66782-1.c000.snappy.parquet</td><td>part-00122-tid-6294560819423688572-45105e8c-66e5-43bb-a2f5-c1b09bd29fa8-66782-1.c000.snappy.parquet</td><td>2266</td></tr><tr><td>dbfs:/mnt/group12/graph/final_graph/part-00123-tid-6294560819423688572-45105e8c-66e5-43bb-a2f5-c1b09bd29fa8-66784-1.c000.snappy.parquet</td><td>part-00123-tid-6294560819423688572-45105e8c-66e5-43bb-a2f5-c1b09bd29fa8-66784-1.c000.snappy.parquet</td><td>2383</td></tr><tr><td>dbfs:/mnt/group12/graph/final_graph/part-00124-tid-6294560819423688572-45105e8c-66e5-43bb-a2f5-c1b09bd29fa8-66611-1.c000.snappy.parquet</td><td>part-00124-tid-6294560819423688572-45105e8c-66e5-43bb-a2f5-c1b09bd29fa8-66611-1.c000.snappy.parquet</td><td>2517</td></tr><tr><td>dbfs:/mnt/group12/graph/final_graph/part-00125-tid-6294560819423688572-45105e8c-66e5-43bb-a2f5-c1b09bd29fa8-66785-1.c000.snappy.parquet</td><td>part-00125-tid-6294560819423688572-45105e8c-66e5-43bb-a2f5-c1b09bd29fa8-66785-1.c000.snappy.parquet</td><td>2633</td></tr><tr><td>dbfs:/mnt/group12/graph/final_graph/part-00126-tid-6294560819423688572-45105e8c-66e5-43bb-a2f5-c1b09bd29fa8-66743-1.c000.snappy.parquet</td><td>part-00126-tid-6294560819423688572-45105e8c-66e5-43bb-a2f5-c1b09bd29fa8-66743-1.c000.snappy.parquet</td><td>2552</td></tr><tr><td>dbfs:/mnt/group12/graph/final_graph/part-00127-tid-6294560819423688572-45105e8c-66e5-43bb-a2f5-c1b09bd29fa8-66786-1.c000.snappy.parquet</td><td>part-00127-tid-6294560819423688572-45105e8c-66e5-43bb-a2f5-c1b09bd29fa8-66786-1.c000.snappy.parquet</td><td>2440</td></tr><tr><td>dbfs:/mnt/group12/graph/final_graph/part-00128-tid-6294560819423688572-45105e8c-66e5-43bb-a2f5-c1b09bd29fa8-66744-1.c000.snappy.parquet</td><td>part-00128-tid-6294560819423688572-45105e8c-66e5-43bb-a2f5-c1b09bd29fa8-66744-1.c000.snappy.parquet</td><td>2218</td></tr><tr><td>dbfs:/mnt/group12/graph/final_graph/part-00129-tid-6294560819423688572-45105e8c-66e5-43bb-a2f5-c1b09bd29fa8-66675-1.c000.snappy.parquet</td><td>part-00129-tid-6294560819423688572-45105e8c-66e5-43bb-a2f5-c1b09bd29fa8-66675-1.c000.snappy.parquet</td><td>2422</td></tr><tr><td>dbfs:/mnt/group12/graph/final_graph/part-00130-tid-6294560819423688572-45105e8c-66e5-43bb-a2f5-c1b09bd29fa8-66562-1.c000.snappy.parquet</td><td>part-00130-tid-6294560819423688572-45105e8c-66e5-43bb-a2f5-c1b09bd29fa8-66562-1.c000.snappy.parquet</td><td>2375</td></tr><tr><td>dbfs:/mnt/group12/graph/final_graph/part-00131-tid-6294560819423688572-45105e8c-66e5-43bb-a2f5-c1b09bd29fa8-66787-1.c000.snappy.parquet</td><td>part-00131-tid-6294560819423688572-45105e8c-66e5-43bb-a2f5-c1b09bd29fa8-66787-1.c000.snappy.parquet</td><td>2250</td></tr><tr><td>dbfs:/mnt/group12/graph/final_graph/part-00132-tid-6294560819423688572-45105e8c-66e5-43bb-a2f5-c1b09bd29fa8-66690-1.c000.snappy.parquet</td><td>part-00132-tid-6294560819423688572-45105e8c-66e5-43bb-a2f5-c1b09bd29fa8-66690-1.c000.snappy.parquet</td><td>2592</td></tr><tr><td>dbfs:/mnt/group12/graph/final_graph/part-00133-tid-6294560819423688572-45105e8c-66e5-43bb-a2f5-c1b09bd29fa8-66641-1.c000.snappy.parquet</td><td>part-00133-tid-6294560819423688572-45105e8c-66e5-43bb-a2f5-c1b09bd29fa8-66641-1.c000.snappy.parquet</td><td>2160</td></tr><tr><td>dbfs:/mnt/group12/graph/final_graph/part-00134-tid-6294560819423688572-45105e8c-66e5-43bb-a2f5-c1b09bd29fa8-66667-1.c000.snappy.parquet</td><td>part-00134-tid-6294560819423688572-45105e8c-66e5-43bb-a2f5-c1b09bd29fa8-66667-1.c000.snappy.parquet</td><td>2577</td></tr><tr><td>dbfs:/mnt/group12/graph/final_graph/part-00135-tid-6294560819423688572-45105e8c-66e5-43bb-a2f5-c1b09bd29fa8-66598-1.c000.snappy.parquet</td><td>part-00135-tid-6294560819423688572-45105e8c-66e5-43bb-a2f5-c1b09bd29fa8-66598-1.c000.snappy.parquet</td><td>2293</td></tr><tr><td>dbfs:/mnt/group12/graph/final_graph/part-00136-tid-6294560819423688572-45105e8c-66e5-43bb-a2f5-c1b09bd29fa8-66790-1.c000.snappy.parquet</td><td>part-00136-tid-6294560819423688572-45105e8c-66e5-43bb-a2f5-c1b09bd29fa8-66790-1.c000.snappy.parquet</td><td>2381</td></tr><tr><td>dbfs:/mnt/group12/graph/final_graph/part-00137-tid-6294560819423688572-45105e8c-66e5-43bb-a2f5-c1b09bd29fa8-66791-1.c000.snappy.parquet</td><td>part-00137-tid-6294560819423688572-45105e8c-66e5-43bb-a2f5-c1b09bd29fa8-66791-1.c000.snappy.parquet</td><td>2129</td></tr><tr><td>dbfs:/mnt/group12/graph/final_graph/part-00138-tid-6294560819423688572-45105e8c-66e5-43bb-a2f5-c1b09bd29fa8-66563-1.c000.snappy.parquet</td><td>part-00138-tid-6294560819423688572-45105e8c-66e5-43bb-a2f5-c1b09bd29fa8-66563-1.c000.snappy.parquet</td><td>2305</td></tr><tr><td>dbfs:/mnt/group12/graph/final_graph/part-00139-tid-6294560819423688572-45105e8c-66e5-43bb-a2f5-c1b09bd29fa8-66747-1.c000.snappy.parquet</td><td>part-00139-tid-6294560819423688572-45105e8c-66e5-43bb-a2f5-c1b09bd29fa8-66747-1.c000.snappy.parquet</td><td>2222</td></tr><tr><td>dbfs:/mnt/group12/graph/final_graph/part-00140-tid-6294560819423688572-45105e8c-66e5-43bb-a2f5-c1b09bd29fa8-66748-1.c000.snappy.parquet</td><td>part-00140-tid-6294560819423688572-45105e8c-66e5-43bb-a2f5-c1b09bd29fa8-66748-1.c000.snappy.parquet</td><td>2418</td></tr><tr><td>dbfs:/mnt/group12/graph/final_graph/part-00141-tid-6294560819423688572-45105e8c-66e5-43bb-a2f5-c1b09bd29fa8-66566-1.c000.snappy.parquet</td><td>part-00141-tid-6294560819423688572-45105e8c-66e5-43bb-a2f5-c1b09bd29fa8-66566-1.c000.snappy.parquet</td><td>2518</td></tr><tr><td>dbfs:/mnt/group12/graph/final_graph/part-00142-tid-6294560819423688572-45105e8c-66e5-43bb-a2f5-c1b09bd29fa8-66792-1.c000.snappy.parquet</td><td>part-00142-tid-6294560819423688572-45105e8c-66e5-43bb-a2f5-c1b09bd29fa8-66792-1.c000.snappy.parquet</td><td>2352</td></tr><tr><td>dbfs:/mnt/group12/graph/final_graph/part-00143-tid-6294560819423688572-45105e8c-66e5-43bb-a2f5-c1b09bd29fa8-66793-1.c000.snappy.parquet</td><td>part-00143-tid-6294560819423688572-45105e8c-66e5-43bb-a2f5-c1b09bd29fa8-66793-1.c000.snappy.parquet</td><td>2153</td></tr><tr><td>dbfs:/mnt/group12/graph/final_graph/part-00144-tid-6294560819423688572-45105e8c-66e5-43bb-a2f5-c1b09bd29fa8-66794-1.c000.snappy.parquet</td><td>part-00144-tid-6294560819423688572-45105e8c-66e5-43bb-a2f5-c1b09bd29fa8-66794-1.c000.snappy.parquet</td><td>2293</td></tr><tr><td>dbfs:/mnt/group12/graph/final_graph/part-00145-tid-6294560819423688572-45105e8c-66e5-43bb-a2f5-c1b09bd29fa8-66795-1.c000.snappy.parquet</td><td>part-00145-tid-6294560819423688572-45105e8c-66e5-43bb-a2f5-c1b09bd29fa8-66795-1.c000.snappy.parquet</td><td>2209</td></tr><tr><td>dbfs:/mnt/group12/graph/final_graph/part-00146-tid-6294560819423688572-45105e8c-66e5-43bb-a2f5-c1b09bd29fa8-66692-1.c000.snappy.parquet</td><td>part-00146-tid-6294560819423688572-45105e8c-66e5-43bb-a2f5-c1b09bd29fa8-66692-1.c000.snappy.parquet</td><td>2387</td></tr><tr><td>dbfs:/mnt/group12/graph/final_graph/part-00147-tid-6294560819423688572-45105e8c-66e5-43bb-a2f5-c1b09bd29fa8-66615-1.c000.snappy.parquet</td><td>part-00147-tid-6294560819423688572-45105e8c-66e5-43bb-a2f5-c1b09bd29fa8-66615-1.c000.snappy.parquet</td><td>2547</td></tr><tr><td>dbfs:/mnt/group12/graph/final_graph/part-00148-tid-6294560819423688572-45105e8c-66e5-43bb-a2f5-c1b09bd29fa8-66754-1.c000.snappy.parquet</td><td>part-00148-tid-6294560819423688572-45105e8c-66e5-43bb-a2f5-c1b09bd29fa8-66754-1.c000.snappy.parquet</td><td>2400</td></tr><tr><td>dbfs:/mnt/group12/graph/final_graph/part-00149-tid-6294560819423688572-45105e8c-66e5-43bb-a2f5-c1b09bd29fa8-66796-1.c000.snappy.parquet</td><td>part-00149-tid-6294560819423688572-45105e8c-66e5-43bb-a2f5-c1b09bd29fa8-66796-1.c000.snappy.parquet</td><td>2330</td></tr><tr><td>dbfs:/mnt/group12/graph/final_graph/part-00150-tid-6294560819423688572-45105e8c-66e5-43bb-a2f5-c1b09bd29fa8-66755-1.c000.snappy.parquet</td><td>part-00150-tid-6294560819423688572-45105e8c-66e5-43bb-a2f5-c1b09bd29fa8-66755-1.c000.snappy.parquet</td><td>2324</td></tr><tr><td>dbfs:/mnt/group12/graph/final_graph/part-00151-tid-6294560819423688572-45105e8c-66e5-43bb-a2f5-c1b09bd29fa8-66567-1.c000.snappy.parquet</td><td>part-00151-tid-6294560819423688572-45105e8c-66e5-43bb-a2f5-c1b09bd29fa8-66567-1.c000.snappy.parquet</td><td>2454</td></tr><tr><td>dbfs:/mnt/group12/graph/final_graph/part-00152-tid-6294560819423688572-45105e8c-66e5-43bb-a2f5-c1b09bd29fa8-66602-1.c000.snappy.parquet</td><td>part-00152-tid-6294560819423688572-45105e8c-66e5-43bb-a2f5-c1b09bd29fa8-66602-1.c000.snappy.parquet</td><td>2308</td></tr><tr><td>dbfs:/mnt/group12/graph/final_graph/part-00153-tid-6294560819423688572-45105e8c-66e5-43bb-a2f5-c1b09bd29fa8-66797-1.c000.snappy.parquet</td><td>part-00153-tid-6294560819423688572-45105e8c-66e5-43bb-a2f5-c1b09bd29fa8-66797-1.c000.snappy.parquet</td><td>2495</td></tr><tr><td>dbfs:/mnt/group12/graph/final_graph/part-00154-tid-6294560819423688572-45105e8c-66e5-43bb-a2f5-c1b09bd29fa8-66694-1.c000.snappy.parquet</td><td>part-00154-tid-6294560819423688572-45105e8c-66e5-43bb-a2f5-c1b09bd29fa8-66694-1.c000.snappy.parquet</td><td>2408</td></tr><tr><td>dbfs:/mnt/group12/graph/final_graph/part-00155-tid-6294560819423688572-45105e8c-66e5-43bb-a2f5-c1b09bd29fa8-66799-1.c000.snappy.parquet</td><td>part-00155-tid-6294560819423688572-45105e8c-66e5-43bb-a2f5-c1b09bd29fa8-66799-1.c000.snappy.parquet</td><td>2540</td></tr><tr><td>dbfs:/mnt/group12/graph/final_graph/part-00156-tid-6294560819423688572-45105e8c-66e5-43bb-a2f5-c1b09bd29fa8-66800-1.c000.snappy.parquet</td><td>part-00156-tid-6294560819423688572-45105e8c-66e5-43bb-a2f5-c1b09bd29fa8-66800-1.c000.snappy.parquet</td><td>2274</td></tr><tr><td>dbfs:/mnt/group12/graph/final_graph/part-00157-tid-6294560819423688572-45105e8c-66e5-43bb-a2f5-c1b09bd29fa8-66547-1.c000.snappy.parquet</td><td>part-00157-tid-6294560819423688572-45105e8c-66e5-43bb-a2f5-c1b09bd29fa8-66547-1.c000.snappy.parquet</td><td>2248</td></tr><tr><td>dbfs:/mnt/group12/graph/final_graph/part-00158-tid-6294560819423688572-45105e8c-66e5-43bb-a2f5-c1b09bd29fa8-66801-1.c000.snappy.parquet</td><td>part-00158-tid-6294560819423688572-45105e8c-66e5-43bb-a2f5-c1b09bd29fa8-66801-1.c000.snappy.parquet</td><td>2274</td></tr><tr><td>dbfs:/mnt/group12/graph/final_graph/part-00159-tid-6294560819423688572-45105e8c-66e5-43bb-a2f5-c1b09bd29fa8-66696-1.c000.snappy.parquet</td><td>part-00159-tid-6294560819423688572-45105e8c-66e5-43bb-a2f5-c1b09bd29fa8-66696-1.c000.snappy.parquet</td><td>2314</td></tr><tr><td>dbfs:/mnt/group12/graph/final_graph/part-00160-tid-6294560819423688572-45105e8c-66e5-43bb-a2f5-c1b09bd29fa8-66758-1.c000.snappy.parquet</td><td>part-00160-tid-6294560819423688572-45105e8c-66e5-43bb-a2f5-c1b09bd29fa8-66758-1.c000.snappy.parquet</td><td>2210</td></tr><tr><td>dbfs:/mnt/group12/graph/final_graph/part-00161-tid-6294560819423688572-45105e8c-66e5-43bb-a2f5-c1b09bd29fa8-66761-1.c000.snappy.parquet</td><td>part-00161-tid-6294560819423688572-45105e8c-66e5-43bb-a2f5-c1b09bd29fa8-66761-1.c000.snappy.parquet</td><td>2344</td></tr><tr><td>dbfs:/mnt/group12/graph/final_graph/part-00162-tid-6294560819423688572-45105e8c-66e5-43bb-a2f5-c1b09bd29fa8-66802-1.c000.snappy.parquet</td><td>part-00162-tid-6294560819423688572-45105e8c-66e5-43bb-a2f5-c1b09bd29fa8-66802-1.c000.snappy.parquet</td><td>2515</td></tr><tr><td>dbfs:/mnt/group12/graph/final_graph/part-00163-tid-6294560819423688572-45105e8c-66e5-43bb-a2f5-c1b09bd29fa8-66569-1.c000.snappy.parquet</td><td>part-00163-tid-6294560819423688572-45105e8c-66e5-43bb-a2f5-c1b09bd29fa8-66569-1.c000.snappy.parquet</td><td>2096</td></tr><tr><td>dbfs:/mnt/group12/graph/final_graph/part-00164-tid-6294560819423688572-45105e8c-66e5-43bb-a2f5-c1b09bd29fa8-66803-1.c000.snappy.parquet</td><td>part-00164-tid-6294560819423688572-45105e8c-66e5-43bb-a2f5-c1b09bd29fa8-66803-1.c000.snappy.parquet</td><td>2512</td></tr><tr><td>dbfs:/mnt/group12/graph/final_graph/part-00165-tid-6294560819423688572-45105e8c-66e5-43bb-a2f5-c1b09bd29fa8-66674-1.c000.snappy.parquet</td><td>part-00165-tid-6294560819423688572-45105e8c-66e5-43bb-a2f5-c1b09bd29fa8-66674-1.c000.snappy.parquet</td><td>2301</td></tr><tr><td>dbfs:/mnt/group12/graph/final_graph/part-00166-tid-6294560819423688572-45105e8c-66e5-43bb-a2f5-c1b09bd29fa8-66666-1.c000.snappy.parquet</td><td>part-00166-tid-6294560819423688572-45105e8c-66e5-43bb-a2f5-c1b09bd29fa8-66666-1.c000.snappy.parquet</td><td>2383</td></tr><tr><td>dbfs:/mnt/group12/graph/final_graph/part-00167-tid-6294560819423688572-45105e8c-66e5-43bb-a2f5-c1b09bd29fa8-66604-1.c000.snappy.parquet</td><td>part-00167-tid-6294560819423688572-45105e8c-66e5-43bb-a2f5-c1b09bd29fa8-66604-1.c000.snappy.parquet</td><td>2365</td></tr><tr><td>dbfs:/mnt/group12/graph/final_graph/part-00168-tid-6294560819423688572-45105e8c-66e5-43bb-a2f5-c1b09bd29fa8-66804-1.c000.snappy.parquet</td><td>part-00168-tid-6294560819423688572-45105e8c-66e5-43bb-a2f5-c1b09bd29fa8-66804-1.c000.snappy.parquet</td><td>2158</td></tr><tr><td>dbfs:/mnt/group12/graph/final_graph/part-00169-tid-6294560819423688572-45105e8c-66e5-43bb-a2f5-c1b09bd29fa8-66805-1.c000.snappy.parquet</td><td>part-00169-tid-6294560819423688572-45105e8c-66e5-43bb-a2f5-c1b09bd29fa8-66805-1.c000.snappy.parquet</td><td>2242</td></tr><tr><td>dbfs:/mnt/group12/graph/final_graph/part-00170-tid-6294560819423688572-45105e8c-66e5-43bb-a2f5-c1b09bd29fa8-66806-1.c000.snappy.parquet</td><td>part-00170-tid-6294560819423688572-45105e8c-66e5-43bb-a2f5-c1b09bd29fa8-66806-1.c000.snappy.parquet</td><td>2136</td></tr><tr><td>dbfs:/mnt/group12/graph/final_graph/part-00171-tid-6294560819423688572-45105e8c-66e5-43bb-a2f5-c1b09bd29fa8-66807-1.c000.snappy.parquet</td><td>part-00171-tid-6294560819423688572-45105e8c-66e5-43bb-a2f5-c1b09bd29fa8-66807-1.c000.snappy.parquet</td><td>1905</td></tr><tr><td>dbfs:/mnt/group12/graph/final_graph/part-00172-tid-6294560819423688572-45105e8c-66e5-43bb-a2f5-c1b09bd29fa8-66764-1.c000.snappy.parquet</td><td>part-00172-tid-6294560819423688572-45105e8c-66e5-43bb-a2f5-c1b09bd29fa8-66764-1.c000.snappy.parquet</td><td>2204</td></tr><tr><td>dbfs:/mnt/group12/graph/final_graph/part-00173-tid-6294560819423688572-45105e8c-66e5-43bb-a2f5-c1b09bd29fa8-66767-1.c000.snappy.parquet</td><td>part-00173-tid-6294560819423688572-45105e8c-66e5-43bb-a2f5-c1b09bd29fa8-66767-1.c000.snappy.parquet</td><td>2499</td></tr><tr><td>dbfs:/mnt/group12/graph/final_graph/part-00174-tid-6294560819423688572-45105e8c-66e5-43bb-a2f5-c1b09bd29fa8-66769-1.c000.snappy.parquet</td><td>part-00174-tid-6294560819423688572-45105e8c-66e5-43bb-a2f5-c1b09bd29fa8-66769-1.c000.snappy.parquet</td><td>2485</td></tr><tr><td>dbfs:/mnt/group12/graph/final_graph/part-00175-tid-6294560819423688572-45105e8c-66e5-43bb-a2f5-c1b09bd29fa8-66610-1.c000.snappy.parquet</td><td>part-00175-tid-6294560819423688572-45105e8c-66e5-43bb-a2f5-c1b09bd29fa8-66610-1.c000.snappy.parquet</td><td>2177</td></tr><tr><td>dbfs:/mnt/group12/graph/final_graph/part-00176-tid-6294560819423688572-45105e8c-66e5-43bb-a2f5-c1b09bd29fa8-66808-1.c000.snappy.parquet</td><td>part-00176-tid-6294560819423688572-45105e8c-66e5-43bb-a2f5-c1b09bd29fa8-66808-1.c000.snappy.parquet</td><td>2410</td></tr><tr><td>dbfs:/mnt/group12/graph/final_graph/part-00177-tid-6294560819423688572-45105e8c-66e5-43bb-a2f5-c1b09bd29fa8-66621-1.c000.snappy.parquet</td><td>part-00177-tid-6294560819423688572-45105e8c-66e5-43bb-a2f5-c1b09bd29fa8-66621-1.c000.snappy.parquet</td><td>2309</td></tr><tr><td>dbfs:/mnt/group12/graph/final_graph/part-00178-tid-6294560819423688572-45105e8c-66e5-43bb-a2f5-c1b09bd29fa8-66809-1.c000.snappy.parquet</td><td>part-00178-tid-6294560819423688572-45105e8c-66e5-43bb-a2f5-c1b09bd29fa8-66809-1.c000.snappy.parquet</td><td>2599</td></tr><tr><td>dbfs:/mnt/group12/graph/final_graph/part-00179-tid-6294560819423688572-45105e8c-66e5-43bb-a2f5-c1b09bd29fa8-66570-1.c000.snappy.parquet</td><td>part-00179-tid-6294560819423688572-45105e8c-66e5-43bb-a2f5-c1b09bd29fa8-66570-1.c000.snappy.parquet</td><td>2716</td></tr><tr><td>dbfs:/mnt/group12/graph/final_graph/part-00180-tid-6294560819423688572-45105e8c-66e5-43bb-a2f5-c1b09bd29fa8-66612-1.c000.snappy.parquet</td><td>part-00180-tid-6294560819423688572-45105e8c-66e5-43bb-a2f5-c1b09bd29fa8-66612-1.c000.snappy.parquet</td><td>2253</td></tr><tr><td>dbfs:/mnt/group12/graph/final_graph/part-00181-tid-6294560819423688572-45105e8c-66e5-43bb-a2f5-c1b09bd29fa8-66669-1.c000.snappy.parquet</td><td>part-00181-tid-6294560819423688572-45105e8c-66e5-43bb-a2f5-c1b09bd29fa8-66669-1.c000.snappy.parquet</td><td>2470</td></tr><tr><td>dbfs:/mnt/group12/graph/final_graph/part-00182-tid-6294560819423688572-45105e8c-66e5-43bb-a2f5-c1b09bd29fa8-66702-1.c000.snappy.parquet</td><td>part-00182-tid-6294560819423688572-45105e8c-66e5-43bb-a2f5-c1b09bd29fa8-66702-1.c000.snappy.parquet</td><td>2540</td></tr><tr><td>dbfs:/mnt/group12/graph/final_graph/part-00183-tid-6294560819423688572-45105e8c-66e5-43bb-a2f5-c1b09bd29fa8-66678-1.c000.snappy.parquet</td><td>part-00183-tid-6294560819423688572-45105e8c-66e5-43bb-a2f5-c1b09bd29fa8-66678-1.c000.snappy.parquet</td><td>2452</td></tr><tr><td>dbfs:/mnt/group12/graph/final_graph/part-00184-tid-6294560819423688572-45105e8c-66e5-43bb-a2f5-c1b09bd29fa8-66773-1.c000.snappy.parquet</td><td>part-00184-tid-6294560819423688572-45105e8c-66e5-43bb-a2f5-c1b09bd29fa8-66773-1.c000.snappy.parquet</td><td>2624</td></tr><tr><td>dbfs:/mnt/group12/graph/final_graph/part-00185-tid-6294560819423688572-45105e8c-66e5-43bb-a2f5-c1b09bd29fa8-66810-1.c000.snappy.parquet</td><td>part-00185-tid-6294560819423688572-45105e8c-66e5-43bb-a2f5-c1b09bd29fa8-66810-1.c000.snappy.parquet</td><td>2264</td></tr><tr><td>dbfs:/mnt/group12/graph/final_graph/part-00186-tid-6294560819423688572-45105e8c-66e5-43bb-a2f5-c1b09bd29fa8-66811-1.c000.snappy.parquet</td><td>part-00186-tid-6294560819423688572-45105e8c-66e5-43bb-a2f5-c1b09bd29fa8-66811-1.c000.snappy.parquet</td><td>2249</td></tr><tr><td>dbfs:/mnt/group12/graph/final_graph/part-00187-tid-6294560819423688572-45105e8c-66e5-43bb-a2f5-c1b09bd29fa8-66775-1.c000.snappy.parquet</td><td>part-00187-tid-6294560819423688572-45105e8c-66e5-43bb-a2f5-c1b09bd29fa8-66775-1.c000.snappy.parquet</td><td>2445</td></tr><tr><td>dbfs:/mnt/group12/graph/final_graph/part-00188-tid-6294560819423688572-45105e8c-66e5-43bb-a2f5-c1b09bd29fa8-66704-1.c000.snappy.parquet</td><td>part-00188-tid-6294560819423688572-45105e8c-66e5-43bb-a2f5-c1b09bd29fa8-66704-1.c000.snappy.parquet</td><td>2287</td></tr><tr><td>dbfs:/mnt/group12/graph/final_graph/part-00189-tid-6294560819423688572-45105e8c-66e5-43bb-a2f5-c1b09bd29fa8-66812-1.c000.snappy.parquet</td><td>part-00189-tid-6294560819423688572-45105e8c-66e5-43bb-a2f5-c1b09bd29fa8-66812-1.c000.snappy.parquet</td><td>2368</td></tr><tr><td>dbfs:/mnt/group12/graph/final_graph/part-00190-tid-6294560819423688572-45105e8c-66e5-43bb-a2f5-c1b09bd29fa8-66781-1.c000.snappy.parquet</td><td>part-00190-tid-6294560819423688572-45105e8c-66e5-43bb-a2f5-c1b09bd29fa8-66781-1.c000.snappy.parquet</td><td>2326</td></tr><tr><td>dbfs:/mnt/group12/graph/final_graph/part-00191-tid-6294560819423688572-45105e8c-66e5-43bb-a2f5-c1b09bd29fa8-66813-1.c000.snappy.parquet</td><td>part-00191-tid-6294560819423688572-45105e8c-66e5-43bb-a2f5-c1b09bd29fa8-66813-1.c000.snappy.parquet</td><td>2162</td></tr><tr><td>dbfs:/mnt/group12/graph/final_graph/part-00192-tid-6294560819423688572-45105e8c-66e5-43bb-a2f5-c1b09bd29fa8-66574-1.c000.snappy.parquet</td><td>part-00192-tid-6294560819423688572-45105e8c-66e5-43bb-a2f5-c1b09bd29fa8-66574-1.c000.snappy.parquet</td><td>2331</td></tr><tr><td>dbfs:/mnt/group12/graph/final_graph/part-00193-tid-6294560819423688572-45105e8c-66e5-43bb-a2f5-c1b09bd29fa8-66625-1.c000.snappy.parquet</td><td>part-00193-tid-6294560819423688572-45105e8c-66e5-43bb-a2f5-c1b09bd29fa8-66625-1.c000.snappy.parquet</td><td>2280</td></tr><tr><td>dbfs:/mnt/group12/graph/final_graph/part-00194-tid-6294560819423688572-45105e8c-66e5-43bb-a2f5-c1b09bd29fa8-66815-1.c000.snappy.parquet</td><td>part-00194-tid-6294560819423688572-45105e8c-66e5-43bb-a2f5-c1b09bd29fa8-66815-1.c000.snappy.parquet</td><td>2280</td></tr><tr><td>dbfs:/mnt/group12/graph/final_graph/part-00195-tid-6294560819423688572-45105e8c-66e5-43bb-a2f5-c1b09bd29fa8-66575-1.c000.snappy.parquet</td><td>part-00195-tid-6294560819423688572-45105e8c-66e5-43bb-a2f5-c1b09bd29fa8-66575-1.c000.snappy.parquet</td><td>2134</td></tr><tr><td>dbfs:/mnt/group12/graph/final_graph/part-00196-tid-6294560819423688572-45105e8c-66e5-43bb-a2f5-c1b09bd29fa8-66816-1.c000.snappy.parquet</td><td>part-00196-tid-6294560819423688572-45105e8c-66e5-43bb-a2f5-c1b09bd29fa8-66816-1.c000.snappy.parquet</td><td>2257</td></tr><tr><td>dbfs:/mnt/group12/graph/final_graph/part-00197-tid-6294560819423688572-45105e8c-66e5-43bb-a2f5-c1b09bd29fa8-66817-1.c000.snappy.parquet</td><td>part-00197-tid-6294560819423688572-45105e8c-66e5-43bb-a2f5-c1b09bd29fa8-66817-1.c000.snappy.parquet</td><td>2200</td></tr><tr><td>dbfs:/mnt/group12/graph/final_graph/part-00198-tid-6294560819423688572-45105e8c-66e5-43bb-a2f5-c1b09bd29fa8-66783-1.c000.snappy.parquet</td><td>part-00198-tid-6294560819423688572-45105e8c-66e5-43bb-a2f5-c1b09bd29fa8-66783-1.c000.snappy.parquet</td><td>2390</td></tr><tr><td>dbfs:/mnt/group12/graph/final_graph/part-00199-tid-6294560819423688572-45105e8c-66e5-43bb-a2f5-c1b09bd29fa8-66818-1.c000.snappy.parquet</td><td>part-00199-tid-6294560819423688572-45105e8c-66e5-43bb-a2f5-c1b09bd29fa8-66818-1.c000.snappy.parquet</td><td>2628</td></tr></tbody></table></div>"
      ]
     },
     "metadata": {
      "application/vnd.databricks.v1+output": {
       "addedWidgets": {},
       "aggData": [],
       "aggError": "",
       "aggOverflow": false,
       "aggSchema": [],
       "aggSeriesLimitReached": false,
       "aggType": "",
       "arguments": {},
       "columnCustomDisplayInfos": {},
       "data": [
        [
         "dbfs:/mnt/group12/graph/final_graph/0_new.json",
         "0_new.json",
         84844
        ],
        [
         "dbfs:/mnt/group12/graph/final_graph/10_new.json",
         "10_new.json",
         142729
        ],
        [
         "dbfs:/mnt/group12/graph/final_graph/11_new.json",
         "11_new.json",
         64936
        ],
        [
         "dbfs:/mnt/group12/graph/final_graph/12_new.json",
         "12_new.json",
         142785
        ],
        [
         "dbfs:/mnt/group12/graph/final_graph/13_new.json",
         "13_new.json",
         105011
        ],
        [
         "dbfs:/mnt/group12/graph/final_graph/14_new.json",
         "14_new.json",
         153753
        ],
        [
         "dbfs:/mnt/group12/graph/final_graph/15_new.json",
         "15_new.json",
         481989
        ],
        [
         "dbfs:/mnt/group12/graph/final_graph/16_new.json",
         "16_new.json",
         689153
        ],
        [
         "dbfs:/mnt/group12/graph/final_graph/17_new.json",
         "17_new.json",
         849788
        ],
        [
         "dbfs:/mnt/group12/graph/final_graph/18_new.json",
         "18_new.json",
         1084437
        ],
        [
         "dbfs:/mnt/group12/graph/final_graph/19_new.json",
         "19_new.json",
         1267708
        ],
        [
         "dbfs:/mnt/group12/graph/final_graph/1_new.json",
         "1_new.json",
         59395
        ],
        [
         "dbfs:/mnt/group12/graph/final_graph/20_new.json",
         "20_new.json",
         1315323
        ],
        [
         "dbfs:/mnt/group12/graph/final_graph/21_new.json",
         "21_new.json",
         1419351
        ],
        [
         "dbfs:/mnt/group12/graph/final_graph/22_new.json",
         "22_new.json",
         1525556
        ],
        [
         "dbfs:/mnt/group12/graph/final_graph/23_new.json",
         "23_new.json",
         1640993
        ],
        [
         "dbfs:/mnt/group12/graph/final_graph/24_new.json",
         "24_new.json",
         1905997
        ],
        [
         "dbfs:/mnt/group12/graph/final_graph/25_new.json",
         "25_new.json",
         2054975
        ],
        [
         "dbfs:/mnt/group12/graph/final_graph/26_new.json",
         "26_new.json",
         2204833
        ],
        [
         "dbfs:/mnt/group12/graph/final_graph/27_new.json",
         "27_new.json",
         2671805
        ],
        [
         "dbfs:/mnt/group12/graph/final_graph/28_new.json",
         "28_new.json",
         3010281
        ],
        [
         "dbfs:/mnt/group12/graph/final_graph/29_new.json",
         "29_new.json",
         3211527
        ],
        [
         "dbfs:/mnt/group12/graph/final_graph/2_new.json",
         "2_new.json",
         79211
        ],
        [
         "dbfs:/mnt/group12/graph/final_graph/30_new.json",
         "30_new.json",
         3459618
        ],
        [
         "dbfs:/mnt/group12/graph/final_graph/31_new.json",
         "31_new.json",
         3551313
        ],
        [
         "dbfs:/mnt/group12/graph/final_graph/32_new.json",
         "32_new.json",
         3608292
        ],
        [
         "dbfs:/mnt/group12/graph/final_graph/33_new.json",
         "33_new.json",
         3941562
        ],
        [
         "dbfs:/mnt/group12/graph/final_graph/34_new.json",
         "34_new.json",
         4190555
        ],
        [
         "dbfs:/mnt/group12/graph/final_graph/35_new.json",
         "35_new.json",
         127980
        ],
        [
         "dbfs:/mnt/group12/graph/final_graph/36_new.json",
         "36_new.json",
         174071
        ],
        [
         "dbfs:/mnt/group12/graph/final_graph/37_new.json",
         "37_new.json",
         187882
        ],
        [
         "dbfs:/mnt/group12/graph/final_graph/38_new.json",
         "38_new.json",
         189819
        ],
        [
         "dbfs:/mnt/group12/graph/final_graph/3_new.json",
         "3_new.json",
         237299
        ],
        [
         "dbfs:/mnt/group12/graph/final_graph/4_new.json",
         "4_new.json",
         358499
        ],
        [
         "dbfs:/mnt/group12/graph/final_graph/5_new.json",
         "5_new.json",
         420354
        ],
        [
         "dbfs:/mnt/group12/graph/final_graph/69.json",
         "69.json",
         15
        ],
        [
         "dbfs:/mnt/group12/graph/final_graph/6_new.json",
         "6_new.json",
         174640
        ],
        [
         "dbfs:/mnt/group12/graph/final_graph/7_new.json",
         "7_new.json",
         262511
        ],
        [
         "dbfs:/mnt/group12/graph/final_graph/8_new.json",
         "8_new.json",
         70261
        ],
        [
         "dbfs:/mnt/group12/graph/final_graph/9_new.json",
         "9_new.json",
         200413
        ],
        [
         "dbfs:/mnt/group12/graph/final_graph/_SUCCESS",
         "_SUCCESS",
         0
        ],
        [
         "dbfs:/mnt/group12/graph/final_graph/_committed_6294560819423688572",
         "_committed_6294560819423688572",
         20424
        ],
        [
         "dbfs:/mnt/group12/graph/final_graph/_started_6294560819423688572",
         "_started_6294560819423688572",
         0
        ],
        [
         "dbfs:/mnt/group12/graph/final_graph/discovery_0.json",
         "discovery_0.json",
         37459
        ],
        [
         "dbfs:/mnt/group12/graph/final_graph/discovery_1.json",
         "discovery_1.json",
         47726
        ],
        [
         "dbfs:/mnt/group12/graph/final_graph/discovery_10.json",
         "discovery_10.json",
         355980
        ],
        [
         "dbfs:/mnt/group12/graph/final_graph/discovery_11.json",
         "discovery_11.json",
         382424
        ],
        [
         "dbfs:/mnt/group12/graph/final_graph/discovery_12.json",
         "discovery_12.json",
         484684
        ],
        [
         "dbfs:/mnt/group12/graph/final_graph/discovery_13.json",
         "discovery_13.json",
         518871
        ],
        [
         "dbfs:/mnt/group12/graph/final_graph/discovery_14.json",
         "discovery_14.json",
         578086
        ],
        [
         "dbfs:/mnt/group12/graph/final_graph/discovery_15.json",
         "discovery_15.json",
         706429
        ],
        [
         "dbfs:/mnt/group12/graph/final_graph/discovery_16.json",
         "discovery_16.json",
         837678
        ],
        [
         "dbfs:/mnt/group12/graph/final_graph/discovery_17.json",
         "discovery_17.json",
         922147
        ],
        [
         "dbfs:/mnt/group12/graph/final_graph/discovery_18.json",
         "discovery_18.json",
         973516
        ],
        [
         "dbfs:/mnt/group12/graph/final_graph/discovery_19.json",
         "discovery_19.json",
         1029472
        ],
        [
         "dbfs:/mnt/group12/graph/final_graph/discovery_2.json",
         "discovery_2.json",
         55195
        ],
        [
         "dbfs:/mnt/group12/graph/final_graph/discovery_20.json",
         "discovery_20.json",
         1111488
        ],
        [
         "dbfs:/mnt/group12/graph/final_graph/discovery_21.json",
         "discovery_21.json",
         1144287
        ],
        [
         "dbfs:/mnt/group12/graph/final_graph/discovery_22.json",
         "discovery_22.json",
         1238613
        ],
        [
         "dbfs:/mnt/group12/graph/final_graph/discovery_3.json",
         "discovery_3.json",
         64852
        ],
        [
         "dbfs:/mnt/group12/graph/final_graph/discovery_4.json",
         "discovery_4.json",
         129229
        ],
        [
         "dbfs:/mnt/group12/graph/final_graph/discovery_5.json",
         "discovery_5.json",
         159220
        ],
        [
         "dbfs:/mnt/group12/graph/final_graph/discovery_6.json",
         "discovery_6.json",
         200517
        ],
        [
         "dbfs:/mnt/group12/graph/final_graph/discovery_7.json",
         "discovery_7.json",
         214948
        ],
        [
         "dbfs:/mnt/group12/graph/final_graph/discovery_8.json",
         "discovery_8.json",
         236105
        ],
        [
         "dbfs:/mnt/group12/graph/final_graph/discovery_9.json",
         "discovery_9.json",
         307659
        ],
        [
         "dbfs:/mnt/group12/graph/final_graph/part-00000-tid-6294560819423688572-45105e8c-66e5-43bb-a2f5-c1b09bd29fa8-66636-1.c000.snappy.parquet",
         "part-00000-tid-6294560819423688572-45105e8c-66e5-43bb-a2f5-c1b09bd29fa8-66636-1.c000.snappy.parquet",
         2299
        ],
        [
         "dbfs:/mnt/group12/graph/final_graph/part-00001-tid-6294560819423688572-45105e8c-66e5-43bb-a2f5-c1b09bd29fa8-66620-1.c000.snappy.parquet",
         "part-00001-tid-6294560819423688572-45105e8c-66e5-43bb-a2f5-c1b09bd29fa8-66620-1.c000.snappy.parquet",
         2101
        ],
        [
         "dbfs:/mnt/group12/graph/final_graph/part-00002-tid-6294560819423688572-45105e8c-66e5-43bb-a2f5-c1b09bd29fa8-66714-1.c000.snappy.parquet",
         "part-00002-tid-6294560819423688572-45105e8c-66e5-43bb-a2f5-c1b09bd29fa8-66714-1.c000.snappy.parquet",
         2168
        ],
        [
         "dbfs:/mnt/group12/graph/final_graph/part-00003-tid-6294560819423688572-45105e8c-66e5-43bb-a2f5-c1b09bd29fa8-66642-1.c000.snappy.parquet",
         "part-00003-tid-6294560819423688572-45105e8c-66e5-43bb-a2f5-c1b09bd29fa8-66642-1.c000.snappy.parquet",
         2116
        ],
        [
         "dbfs:/mnt/group12/graph/final_graph/part-00004-tid-6294560819423688572-45105e8c-66e5-43bb-a2f5-c1b09bd29fa8-66594-1.c000.snappy.parquet",
         "part-00004-tid-6294560819423688572-45105e8c-66e5-43bb-a2f5-c1b09bd29fa8-66594-1.c000.snappy.parquet",
         2131
        ],
        [
         "dbfs:/mnt/group12/graph/final_graph/part-00005-tid-6294560819423688572-45105e8c-66e5-43bb-a2f5-c1b09bd29fa8-66635-1.c000.snappy.parquet",
         "part-00005-tid-6294560819423688572-45105e8c-66e5-43bb-a2f5-c1b09bd29fa8-66635-1.c000.snappy.parquet",
         2231
        ],
        [
         "dbfs:/mnt/group12/graph/final_graph/part-00006-tid-6294560819423688572-45105e8c-66e5-43bb-a2f5-c1b09bd29fa8-66648-1.c000.snappy.parquet",
         "part-00006-tid-6294560819423688572-45105e8c-66e5-43bb-a2f5-c1b09bd29fa8-66648-1.c000.snappy.parquet",
         2502
        ],
        [
         "dbfs:/mnt/group12/graph/final_graph/part-00007-tid-6294560819423688572-45105e8c-66e5-43bb-a2f5-c1b09bd29fa8-66619-1.c000.snappy.parquet",
         "part-00007-tid-6294560819423688572-45105e8c-66e5-43bb-a2f5-c1b09bd29fa8-66619-1.c000.snappy.parquet",
         2230
        ],
        [
         "dbfs:/mnt/group12/graph/final_graph/part-00008-tid-6294560819423688572-45105e8c-66e5-43bb-a2f5-c1b09bd29fa8-66654-1.c000.snappy.parquet",
         "part-00008-tid-6294560819423688572-45105e8c-66e5-43bb-a2f5-c1b09bd29fa8-66654-1.c000.snappy.parquet",
         2374
        ],
        [
         "dbfs:/mnt/group12/graph/final_graph/part-00009-tid-6294560819423688572-45105e8c-66e5-43bb-a2f5-c1b09bd29fa8-66551-1.c000.snappy.parquet",
         "part-00009-tid-6294560819423688572-45105e8c-66e5-43bb-a2f5-c1b09bd29fa8-66551-1.c000.snappy.parquet",
         2239
        ],
        [
         "dbfs:/mnt/group12/graph/final_graph/part-00010-tid-6294560819423688572-45105e8c-66e5-43bb-a2f5-c1b09bd29fa8-66660-1.c000.snappy.parquet",
         "part-00010-tid-6294560819423688572-45105e8c-66e5-43bb-a2f5-c1b09bd29fa8-66660-1.c000.snappy.parquet",
         2191
        ],
        [
         "dbfs:/mnt/group12/graph/final_graph/part-00011-tid-6294560819423688572-45105e8c-66e5-43bb-a2f5-c1b09bd29fa8-66716-1.c000.snappy.parquet",
         "part-00011-tid-6294560819423688572-45105e8c-66e5-43bb-a2f5-c1b09bd29fa8-66716-1.c000.snappy.parquet",
         2398
        ],
        [
         "dbfs:/mnt/group12/graph/final_graph/part-00012-tid-6294560819423688572-45105e8c-66e5-43bb-a2f5-c1b09bd29fa8-66661-1.c000.snappy.parquet",
         "part-00012-tid-6294560819423688572-45105e8c-66e5-43bb-a2f5-c1b09bd29fa8-66661-1.c000.snappy.parquet",
         2423
        ],
        [
         "dbfs:/mnt/group12/graph/final_graph/part-00013-tid-6294560819423688572-45105e8c-66e5-43bb-a2f5-c1b09bd29fa8-66554-1.c000.snappy.parquet",
         "part-00013-tid-6294560819423688572-45105e8c-66e5-43bb-a2f5-c1b09bd29fa8-66554-1.c000.snappy.parquet",
         2067
        ],
        [
         "dbfs:/mnt/group12/graph/final_graph/part-00014-tid-6294560819423688572-45105e8c-66e5-43bb-a2f5-c1b09bd29fa8-66665-1.c000.snappy.parquet",
         "part-00014-tid-6294560819423688572-45105e8c-66e5-43bb-a2f5-c1b09bd29fa8-66665-1.c000.snappy.parquet",
         2592
        ],
        [
         "dbfs:/mnt/group12/graph/final_graph/part-00015-tid-6294560819423688572-45105e8c-66e5-43bb-a2f5-c1b09bd29fa8-66668-1.c000.snappy.parquet",
         "part-00015-tid-6294560819423688572-45105e8c-66e5-43bb-a2f5-c1b09bd29fa8-66668-1.c000.snappy.parquet",
         2281
        ],
        [
         "dbfs:/mnt/group12/graph/final_graph/part-00016-tid-6294560819423688572-45105e8c-66e5-43bb-a2f5-c1b09bd29fa8-66640-1.c000.snappy.parquet",
         "part-00016-tid-6294560819423688572-45105e8c-66e5-43bb-a2f5-c1b09bd29fa8-66640-1.c000.snappy.parquet",
         2213
        ],
        [
         "dbfs:/mnt/group12/graph/final_graph/part-00017-tid-6294560819423688572-45105e8c-66e5-43bb-a2f5-c1b09bd29fa8-66718-1.c000.snappy.parquet",
         "part-00017-tid-6294560819423688572-45105e8c-66e5-43bb-a2f5-c1b09bd29fa8-66718-1.c000.snappy.parquet",
         2462
        ],
        [
         "dbfs:/mnt/group12/graph/final_graph/part-00018-tid-6294560819423688572-45105e8c-66e5-43bb-a2f5-c1b09bd29fa8-66722-1.c000.snappy.parquet",
         "part-00018-tid-6294560819423688572-45105e8c-66e5-43bb-a2f5-c1b09bd29fa8-66722-1.c000.snappy.parquet",
         2225
        ],
        [
         "dbfs:/mnt/group12/graph/final_graph/part-00019-tid-6294560819423688572-45105e8c-66e5-43bb-a2f5-c1b09bd29fa8-66672-1.c000.snappy.parquet",
         "part-00019-tid-6294560819423688572-45105e8c-66e5-43bb-a2f5-c1b09bd29fa8-66672-1.c000.snappy.parquet",
         2160
        ],
        [
         "dbfs:/mnt/group12/graph/final_graph/part-00020-tid-6294560819423688572-45105e8c-66e5-43bb-a2f5-c1b09bd29fa8-66726-1.c000.snappy.parquet",
         "part-00020-tid-6294560819423688572-45105e8c-66e5-43bb-a2f5-c1b09bd29fa8-66726-1.c000.snappy.parquet",
         2745
        ],
        [
         "dbfs:/mnt/group12/graph/final_graph/part-00021-tid-6294560819423688572-45105e8c-66e5-43bb-a2f5-c1b09bd29fa8-66728-1.c000.snappy.parquet",
         "part-00021-tid-6294560819423688572-45105e8c-66e5-43bb-a2f5-c1b09bd29fa8-66728-1.c000.snappy.parquet",
         2430
        ],
        [
         "dbfs:/mnt/group12/graph/final_graph/part-00022-tid-6294560819423688572-45105e8c-66e5-43bb-a2f5-c1b09bd29fa8-66677-1.c000.snappy.parquet",
         "part-00022-tid-6294560819423688572-45105e8c-66e5-43bb-a2f5-c1b09bd29fa8-66677-1.c000.snappy.parquet",
         2321
        ],
        [
         "dbfs:/mnt/group12/graph/final_graph/part-00023-tid-6294560819423688572-45105e8c-66e5-43bb-a2f5-c1b09bd29fa8-66730-1.c000.snappy.parquet",
         "part-00023-tid-6294560819423688572-45105e8c-66e5-43bb-a2f5-c1b09bd29fa8-66730-1.c000.snappy.parquet",
         2379
        ],
        [
         "dbfs:/mnt/group12/graph/final_graph/part-00024-tid-6294560819423688572-45105e8c-66e5-43bb-a2f5-c1b09bd29fa8-66737-1.c000.snappy.parquet",
         "part-00024-tid-6294560819423688572-45105e8c-66e5-43bb-a2f5-c1b09bd29fa8-66737-1.c000.snappy.parquet",
         2576
        ],
        [
         "dbfs:/mnt/group12/graph/final_graph/part-00025-tid-6294560819423688572-45105e8c-66e5-43bb-a2f5-c1b09bd29fa8-66549-1.c000.snappy.parquet",
         "part-00025-tid-6294560819423688572-45105e8c-66e5-43bb-a2f5-c1b09bd29fa8-66549-1.c000.snappy.parquet",
         2350
        ],
        [
         "dbfs:/mnt/group12/graph/final_graph/part-00026-tid-6294560819423688572-45105e8c-66e5-43bb-a2f5-c1b09bd29fa8-66683-1.c000.snappy.parquet",
         "part-00026-tid-6294560819423688572-45105e8c-66e5-43bb-a2f5-c1b09bd29fa8-66683-1.c000.snappy.parquet",
         2372
        ],
        [
         "dbfs:/mnt/group12/graph/final_graph/part-00027-tid-6294560819423688572-45105e8c-66e5-43bb-a2f5-c1b09bd29fa8-66689-1.c000.snappy.parquet",
         "part-00027-tid-6294560819423688572-45105e8c-66e5-43bb-a2f5-c1b09bd29fa8-66689-1.c000.snappy.parquet",
         2494
        ],
        [
         "dbfs:/mnt/group12/graph/final_graph/part-00028-tid-6294560819423688572-45105e8c-66e5-43bb-a2f5-c1b09bd29fa8-66605-1.c000.snappy.parquet",
         "part-00028-tid-6294560819423688572-45105e8c-66e5-43bb-a2f5-c1b09bd29fa8-66605-1.c000.snappy.parquet",
         2221
        ],
        [
         "dbfs:/mnt/group12/graph/final_graph/part-00029-tid-6294560819423688572-45105e8c-66e5-43bb-a2f5-c1b09bd29fa8-66609-1.c000.snappy.parquet",
         "part-00029-tid-6294560819423688572-45105e8c-66e5-43bb-a2f5-c1b09bd29fa8-66609-1.c000.snappy.parquet",
         2283
        ],
        [
         "dbfs:/mnt/group12/graph/final_graph/part-00030-tid-6294560819423688572-45105e8c-66e5-43bb-a2f5-c1b09bd29fa8-66740-1.c000.snappy.parquet",
         "part-00030-tid-6294560819423688572-45105e8c-66e5-43bb-a2f5-c1b09bd29fa8-66740-1.c000.snappy.parquet",
         2444
        ],
        [
         "dbfs:/mnt/group12/graph/final_graph/part-00031-tid-6294560819423688572-45105e8c-66e5-43bb-a2f5-c1b09bd29fa8-66557-1.c000.snappy.parquet",
         "part-00031-tid-6294560819423688572-45105e8c-66e5-43bb-a2f5-c1b09bd29fa8-66557-1.c000.snappy.parquet",
         2547
        ],
        [
         "dbfs:/mnt/group12/graph/final_graph/part-00032-tid-6294560819423688572-45105e8c-66e5-43bb-a2f5-c1b09bd29fa8-66691-1.c000.snappy.parquet",
         "part-00032-tid-6294560819423688572-45105e8c-66e5-43bb-a2f5-c1b09bd29fa8-66691-1.c000.snappy.parquet",
         2693
        ],
        [
         "dbfs:/mnt/group12/graph/final_graph/part-00033-tid-6294560819423688572-45105e8c-66e5-43bb-a2f5-c1b09bd29fa8-66561-1.c000.snappy.parquet",
         "part-00033-tid-6294560819423688572-45105e8c-66e5-43bb-a2f5-c1b09bd29fa8-66561-1.c000.snappy.parquet",
         2396
        ],
        [
         "dbfs:/mnt/group12/graph/final_graph/part-00034-tid-6294560819423688572-45105e8c-66e5-43bb-a2f5-c1b09bd29fa8-66693-1.c000.snappy.parquet",
         "part-00034-tid-6294560819423688572-45105e8c-66e5-43bb-a2f5-c1b09bd29fa8-66693-1.c000.snappy.parquet",
         2272
        ],
        [
         "dbfs:/mnt/group12/graph/final_graph/part-00035-tid-6294560819423688572-45105e8c-66e5-43bb-a2f5-c1b09bd29fa8-66613-1.c000.snappy.parquet",
         "part-00035-tid-6294560819423688572-45105e8c-66e5-43bb-a2f5-c1b09bd29fa8-66613-1.c000.snappy.parquet",
         2625
        ],
        [
         "dbfs:/mnt/group12/graph/final_graph/part-00036-tid-6294560819423688572-45105e8c-66e5-43bb-a2f5-c1b09bd29fa8-66565-1.c000.snappy.parquet",
         "part-00036-tid-6294560819423688572-45105e8c-66e5-43bb-a2f5-c1b09bd29fa8-66565-1.c000.snappy.parquet",
         2645
        ],
        [
         "dbfs:/mnt/group12/graph/final_graph/part-00037-tid-6294560819423688572-45105e8c-66e5-43bb-a2f5-c1b09bd29fa8-66741-1.c000.snappy.parquet",
         "part-00037-tid-6294560819423688572-45105e8c-66e5-43bb-a2f5-c1b09bd29fa8-66741-1.c000.snappy.parquet",
         2101
        ],
        [
         "dbfs:/mnt/group12/graph/final_graph/part-00038-tid-6294560819423688572-45105e8c-66e5-43bb-a2f5-c1b09bd29fa8-66697-1.c000.snappy.parquet",
         "part-00038-tid-6294560819423688572-45105e8c-66e5-43bb-a2f5-c1b09bd29fa8-66697-1.c000.snappy.parquet",
         2764
        ],
        [
         "dbfs:/mnt/group12/graph/final_graph/part-00039-tid-6294560819423688572-45105e8c-66e5-43bb-a2f5-c1b09bd29fa8-66572-1.c000.snappy.parquet",
         "part-00039-tid-6294560819423688572-45105e8c-66e5-43bb-a2f5-c1b09bd29fa8-66572-1.c000.snappy.parquet",
         2359
        ],
        [
         "dbfs:/mnt/group12/graph/final_graph/part-00040-tid-6294560819423688572-45105e8c-66e5-43bb-a2f5-c1b09bd29fa8-66699-1.c000.snappy.parquet",
         "part-00040-tid-6294560819423688572-45105e8c-66e5-43bb-a2f5-c1b09bd29fa8-66699-1.c000.snappy.parquet",
         2423
        ],
        [
         "dbfs:/mnt/group12/graph/final_graph/part-00041-tid-6294560819423688572-45105e8c-66e5-43bb-a2f5-c1b09bd29fa8-66742-1.c000.snappy.parquet",
         "part-00041-tid-6294560819423688572-45105e8c-66e5-43bb-a2f5-c1b09bd29fa8-66742-1.c000.snappy.parquet",
         2521
        ],
        [
         "dbfs:/mnt/group12/graph/final_graph/part-00042-tid-6294560819423688572-45105e8c-66e5-43bb-a2f5-c1b09bd29fa8-66645-1.c000.snappy.parquet",
         "part-00042-tid-6294560819423688572-45105e8c-66e5-43bb-a2f5-c1b09bd29fa8-66645-1.c000.snappy.parquet",
         2347
        ],
        [
         "dbfs:/mnt/group12/graph/final_graph/part-00043-tid-6294560819423688572-45105e8c-66e5-43bb-a2f5-c1b09bd29fa8-66646-1.c000.snappy.parquet",
         "part-00043-tid-6294560819423688572-45105e8c-66e5-43bb-a2f5-c1b09bd29fa8-66646-1.c000.snappy.parquet",
         2335
        ],
        [
         "dbfs:/mnt/group12/graph/final_graph/part-00044-tid-6294560819423688572-45105e8c-66e5-43bb-a2f5-c1b09bd29fa8-66703-1.c000.snappy.parquet",
         "part-00044-tid-6294560819423688572-45105e8c-66e5-43bb-a2f5-c1b09bd29fa8-66703-1.c000.snappy.parquet",
         2404
        ],
        [
         "dbfs:/mnt/group12/graph/final_graph/part-00045-tid-6294560819423688572-45105e8c-66e5-43bb-a2f5-c1b09bd29fa8-66705-1.c000.snappy.parquet",
         "part-00045-tid-6294560819423688572-45105e8c-66e5-43bb-a2f5-c1b09bd29fa8-66705-1.c000.snappy.parquet",
         2363
        ],
        [
         "dbfs:/mnt/group12/graph/final_graph/part-00046-tid-6294560819423688572-45105e8c-66e5-43bb-a2f5-c1b09bd29fa8-66745-1.c000.snappy.parquet",
         "part-00046-tid-6294560819423688572-45105e8c-66e5-43bb-a2f5-c1b09bd29fa8-66745-1.c000.snappy.parquet",
         2585
        ],
        [
         "dbfs:/mnt/group12/graph/final_graph/part-00047-tid-6294560819423688572-45105e8c-66e5-43bb-a2f5-c1b09bd29fa8-66746-1.c000.snappy.parquet",
         "part-00047-tid-6294560819423688572-45105e8c-66e5-43bb-a2f5-c1b09bd29fa8-66746-1.c000.snappy.parquet",
         2294
        ],
        [
         "dbfs:/mnt/group12/graph/final_graph/part-00048-tid-6294560819423688572-45105e8c-66e5-43bb-a2f5-c1b09bd29fa8-66749-1.c000.snappy.parquet",
         "part-00048-tid-6294560819423688572-45105e8c-66e5-43bb-a2f5-c1b09bd29fa8-66749-1.c000.snappy.parquet",
         2623
        ],
        [
         "dbfs:/mnt/group12/graph/final_graph/part-00049-tid-6294560819423688572-45105e8c-66e5-43bb-a2f5-c1b09bd29fa8-66568-1.c000.snappy.parquet",
         "part-00049-tid-6294560819423688572-45105e8c-66e5-43bb-a2f5-c1b09bd29fa8-66568-1.c000.snappy.parquet",
         2599
        ],
        [
         "dbfs:/mnt/group12/graph/final_graph/part-00050-tid-6294560819423688572-45105e8c-66e5-43bb-a2f5-c1b09bd29fa8-66707-1.c000.snappy.parquet",
         "part-00050-tid-6294560819423688572-45105e8c-66e5-43bb-a2f5-c1b09bd29fa8-66707-1.c000.snappy.parquet",
         2433
        ],
        [
         "dbfs:/mnt/group12/graph/final_graph/part-00051-tid-6294560819423688572-45105e8c-66e5-43bb-a2f5-c1b09bd29fa8-66712-1.c000.snappy.parquet",
         "part-00051-tid-6294560819423688572-45105e8c-66e5-43bb-a2f5-c1b09bd29fa8-66712-1.c000.snappy.parquet",
         2267
        ],
        [
         "dbfs:/mnt/group12/graph/final_graph/part-00052-tid-6294560819423688572-45105e8c-66e5-43bb-a2f5-c1b09bd29fa8-66634-1.c000.snappy.parquet",
         "part-00052-tid-6294560819423688572-45105e8c-66e5-43bb-a2f5-c1b09bd29fa8-66634-1.c000.snappy.parquet",
         2445
        ],
        [
         "dbfs:/mnt/group12/graph/final_graph/part-00053-tid-6294560819423688572-45105e8c-66e5-43bb-a2f5-c1b09bd29fa8-66647-1.c000.snappy.parquet",
         "part-00053-tid-6294560819423688572-45105e8c-66e5-43bb-a2f5-c1b09bd29fa8-66647-1.c000.snappy.parquet",
         2297
        ],
        [
         "dbfs:/mnt/group12/graph/final_graph/part-00054-tid-6294560819423688572-45105e8c-66e5-43bb-a2f5-c1b09bd29fa8-66750-1.c000.snappy.parquet",
         "part-00054-tid-6294560819423688572-45105e8c-66e5-43bb-a2f5-c1b09bd29fa8-66750-1.c000.snappy.parquet",
         2414
        ],
        [
         "dbfs:/mnt/group12/graph/final_graph/part-00055-tid-6294560819423688572-45105e8c-66e5-43bb-a2f5-c1b09bd29fa8-66751-1.c000.snappy.parquet",
         "part-00055-tid-6294560819423688572-45105e8c-66e5-43bb-a2f5-c1b09bd29fa8-66751-1.c000.snappy.parquet",
         2138
        ],
        [
         "dbfs:/mnt/group12/graph/final_graph/part-00056-tid-6294560819423688572-45105e8c-66e5-43bb-a2f5-c1b09bd29fa8-66573-1.c000.snappy.parquet",
         "part-00056-tid-6294560819423688572-45105e8c-66e5-43bb-a2f5-c1b09bd29fa8-66573-1.c000.snappy.parquet",
         2427
        ],
        [
         "dbfs:/mnt/group12/graph/final_graph/part-00057-tid-6294560819423688572-45105e8c-66e5-43bb-a2f5-c1b09bd29fa8-66578-1.c000.snappy.parquet",
         "part-00057-tid-6294560819423688572-45105e8c-66e5-43bb-a2f5-c1b09bd29fa8-66578-1.c000.snappy.parquet",
         2175
        ],
        [
         "dbfs:/mnt/group12/graph/final_graph/part-00058-tid-6294560819423688572-45105e8c-66e5-43bb-a2f5-c1b09bd29fa8-66649-1.c000.snappy.parquet",
         "part-00058-tid-6294560819423688572-45105e8c-66e5-43bb-a2f5-c1b09bd29fa8-66649-1.c000.snappy.parquet",
         2330
        ],
        [
         "dbfs:/mnt/group12/graph/final_graph/part-00059-tid-6294560819423688572-45105e8c-66e5-43bb-a2f5-c1b09bd29fa8-66616-1.c000.snappy.parquet",
         "part-00059-tid-6294560819423688572-45105e8c-66e5-43bb-a2f5-c1b09bd29fa8-66616-1.c000.snappy.parquet",
         2418
        ],
        [
         "dbfs:/mnt/group12/graph/final_graph/part-00060-tid-6294560819423688572-45105e8c-66e5-43bb-a2f5-c1b09bd29fa8-66713-1.c000.snappy.parquet",
         "part-00060-tid-6294560819423688572-45105e8c-66e5-43bb-a2f5-c1b09bd29fa8-66713-1.c000.snappy.parquet",
         2245
        ],
        [
         "dbfs:/mnt/group12/graph/final_graph/part-00061-tid-6294560819423688572-45105e8c-66e5-43bb-a2f5-c1b09bd29fa8-66717-1.c000.snappy.parquet",
         "part-00061-tid-6294560819423688572-45105e8c-66e5-43bb-a2f5-c1b09bd29fa8-66717-1.c000.snappy.parquet",
         2130
        ],
        [
         "dbfs:/mnt/group12/graph/final_graph/part-00062-tid-6294560819423688572-45105e8c-66e5-43bb-a2f5-c1b09bd29fa8-66581-1.c000.snappy.parquet",
         "part-00062-tid-6294560819423688572-45105e8c-66e5-43bb-a2f5-c1b09bd29fa8-66581-1.c000.snappy.parquet",
         2097
        ],
        [
         "dbfs:/mnt/group12/graph/final_graph/part-00063-tid-6294560819423688572-45105e8c-66e5-43bb-a2f5-c1b09bd29fa8-66583-1.c000.snappy.parquet",
         "part-00063-tid-6294560819423688572-45105e8c-66e5-43bb-a2f5-c1b09bd29fa8-66583-1.c000.snappy.parquet",
         2239
        ],
        [
         "dbfs:/mnt/group12/graph/final_graph/part-00064-tid-6294560819423688572-45105e8c-66e5-43bb-a2f5-c1b09bd29fa8-66752-1.c000.snappy.parquet",
         "part-00064-tid-6294560819423688572-45105e8c-66e5-43bb-a2f5-c1b09bd29fa8-66752-1.c000.snappy.parquet",
         2588
        ],
        [
         "dbfs:/mnt/group12/graph/final_graph/part-00065-tid-6294560819423688572-45105e8c-66e5-43bb-a2f5-c1b09bd29fa8-66753-1.c000.snappy.parquet",
         "part-00065-tid-6294560819423688572-45105e8c-66e5-43bb-a2f5-c1b09bd29fa8-66753-1.c000.snappy.parquet",
         2402
        ],
        [
         "dbfs:/mnt/group12/graph/final_graph/part-00066-tid-6294560819423688572-45105e8c-66e5-43bb-a2f5-c1b09bd29fa8-66639-1.c000.snappy.parquet",
         "part-00066-tid-6294560819423688572-45105e8c-66e5-43bb-a2f5-c1b09bd29fa8-66639-1.c000.snappy.parquet",
         2692
        ],
        [
         "dbfs:/mnt/group12/graph/final_graph/part-00067-tid-6294560819423688572-45105e8c-66e5-43bb-a2f5-c1b09bd29fa8-66720-1.c000.snappy.parquet",
         "part-00067-tid-6294560819423688572-45105e8c-66e5-43bb-a2f5-c1b09bd29fa8-66720-1.c000.snappy.parquet",
         2509
        ],
        [
         "dbfs:/mnt/group12/graph/final_graph/part-00068-tid-6294560819423688572-45105e8c-66e5-43bb-a2f5-c1b09bd29fa8-66721-1.c000.snappy.parquet",
         "part-00068-tid-6294560819423688572-45105e8c-66e5-43bb-a2f5-c1b09bd29fa8-66721-1.c000.snappy.parquet",
         2180
        ],
        [
         "dbfs:/mnt/group12/graph/final_graph/part-00069-tid-6294560819423688572-45105e8c-66e5-43bb-a2f5-c1b09bd29fa8-66756-1.c000.snappy.parquet",
         "part-00069-tid-6294560819423688572-45105e8c-66e5-43bb-a2f5-c1b09bd29fa8-66756-1.c000.snappy.parquet",
         2372
        ],
        [
         "dbfs:/mnt/group12/graph/final_graph/part-00070-tid-6294560819423688572-45105e8c-66e5-43bb-a2f5-c1b09bd29fa8-66651-1.c000.snappy.parquet",
         "part-00070-tid-6294560819423688572-45105e8c-66e5-43bb-a2f5-c1b09bd29fa8-66651-1.c000.snappy.parquet",
         2219
        ],
        [
         "dbfs:/mnt/group12/graph/final_graph/part-00071-tid-6294560819423688572-45105e8c-66e5-43bb-a2f5-c1b09bd29fa8-66644-1.c000.snappy.parquet",
         "part-00071-tid-6294560819423688572-45105e8c-66e5-43bb-a2f5-c1b09bd29fa8-66644-1.c000.snappy.parquet",
         2253
        ],
        [
         "dbfs:/mnt/group12/graph/final_graph/part-00072-tid-6294560819423688572-45105e8c-66e5-43bb-a2f5-c1b09bd29fa8-66587-1.c000.snappy.parquet",
         "part-00072-tid-6294560819423688572-45105e8c-66e5-43bb-a2f5-c1b09bd29fa8-66587-1.c000.snappy.parquet",
         2391
        ],
        [
         "dbfs:/mnt/group12/graph/final_graph/part-00073-tid-6294560819423688572-45105e8c-66e5-43bb-a2f5-c1b09bd29fa8-66757-1.c000.snappy.parquet",
         "part-00073-tid-6294560819423688572-45105e8c-66e5-43bb-a2f5-c1b09bd29fa8-66757-1.c000.snappy.parquet",
         2365
        ],
        [
         "dbfs:/mnt/group12/graph/final_graph/part-00074-tid-6294560819423688572-45105e8c-66e5-43bb-a2f5-c1b09bd29fa8-66723-1.c000.snappy.parquet",
         "part-00074-tid-6294560819423688572-45105e8c-66e5-43bb-a2f5-c1b09bd29fa8-66723-1.c000.snappy.parquet",
         2048
        ],
        [
         "dbfs:/mnt/group12/graph/final_graph/part-00075-tid-6294560819423688572-45105e8c-66e5-43bb-a2f5-c1b09bd29fa8-66759-1.c000.snappy.parquet",
         "part-00075-tid-6294560819423688572-45105e8c-66e5-43bb-a2f5-c1b09bd29fa8-66759-1.c000.snappy.parquet",
         2684
        ],
        [
         "dbfs:/mnt/group12/graph/final_graph/part-00076-tid-6294560819423688572-45105e8c-66e5-43bb-a2f5-c1b09bd29fa8-66624-1.c000.snappy.parquet",
         "part-00076-tid-6294560819423688572-45105e8c-66e5-43bb-a2f5-c1b09bd29fa8-66624-1.c000.snappy.parquet",
         2580
        ],
        [
         "dbfs:/mnt/group12/graph/final_graph/part-00077-tid-6294560819423688572-45105e8c-66e5-43bb-a2f5-c1b09bd29fa8-66724-1.c000.snappy.parquet",
         "part-00077-tid-6294560819423688572-45105e8c-66e5-43bb-a2f5-c1b09bd29fa8-66724-1.c000.snappy.parquet",
         2373
        ],
        [
         "dbfs:/mnt/group12/graph/final_graph/part-00078-tid-6294560819423688572-45105e8c-66e5-43bb-a2f5-c1b09bd29fa8-66599-1.c000.snappy.parquet",
         "part-00078-tid-6294560819423688572-45105e8c-66e5-43bb-a2f5-c1b09bd29fa8-66599-1.c000.snappy.parquet",
         2223
        ],
        [
         "dbfs:/mnt/group12/graph/final_graph/part-00079-tid-6294560819423688572-45105e8c-66e5-43bb-a2f5-c1b09bd29fa8-66727-1.c000.snappy.parquet",
         "part-00079-tid-6294560819423688572-45105e8c-66e5-43bb-a2f5-c1b09bd29fa8-66727-1.c000.snappy.parquet",
         2360
        ],
        [
         "dbfs:/mnt/group12/graph/final_graph/part-00080-tid-6294560819423688572-45105e8c-66e5-43bb-a2f5-c1b09bd29fa8-66627-1.c000.snappy.parquet",
         "part-00080-tid-6294560819423688572-45105e8c-66e5-43bb-a2f5-c1b09bd29fa8-66627-1.c000.snappy.parquet",
         2242
        ],
        [
         "dbfs:/mnt/group12/graph/final_graph/part-00081-tid-6294560819423688572-45105e8c-66e5-43bb-a2f5-c1b09bd29fa8-66760-1.c000.snappy.parquet",
         "part-00081-tid-6294560819423688572-45105e8c-66e5-43bb-a2f5-c1b09bd29fa8-66760-1.c000.snappy.parquet",
         2218
        ],
        [
         "dbfs:/mnt/group12/graph/final_graph/part-00082-tid-6294560819423688572-45105e8c-66e5-43bb-a2f5-c1b09bd29fa8-66762-1.c000.snappy.parquet",
         "part-00082-tid-6294560819423688572-45105e8c-66e5-43bb-a2f5-c1b09bd29fa8-66762-1.c000.snappy.parquet",
         2521
        ],
        [
         "dbfs:/mnt/group12/graph/final_graph/part-00083-tid-6294560819423688572-45105e8c-66e5-43bb-a2f5-c1b09bd29fa8-66555-1.c000.snappy.parquet",
         "part-00083-tid-6294560819423688572-45105e8c-66e5-43bb-a2f5-c1b09bd29fa8-66555-1.c000.snappy.parquet",
         2337
        ],
        [
         "dbfs:/mnt/group12/graph/final_graph/part-00084-tid-6294560819423688572-45105e8c-66e5-43bb-a2f5-c1b09bd29fa8-66729-1.c000.snappy.parquet",
         "part-00084-tid-6294560819423688572-45105e8c-66e5-43bb-a2f5-c1b09bd29fa8-66729-1.c000.snappy.parquet",
         2303
        ],
        [
         "dbfs:/mnt/group12/graph/final_graph/part-00085-tid-6294560819423688572-45105e8c-66e5-43bb-a2f5-c1b09bd29fa8-66657-1.c000.snappy.parquet",
         "part-00085-tid-6294560819423688572-45105e8c-66e5-43bb-a2f5-c1b09bd29fa8-66657-1.c000.snappy.parquet",
         2531
        ],
        [
         "dbfs:/mnt/group12/graph/final_graph/part-00086-tid-6294560819423688572-45105e8c-66e5-43bb-a2f5-c1b09bd29fa8-66650-1.c000.snappy.parquet",
         "part-00086-tid-6294560819423688572-45105e8c-66e5-43bb-a2f5-c1b09bd29fa8-66650-1.c000.snappy.parquet",
         2455
        ],
        [
         "dbfs:/mnt/group12/graph/final_graph/part-00087-tid-6294560819423688572-45105e8c-66e5-43bb-a2f5-c1b09bd29fa8-66630-1.c000.snappy.parquet",
         "part-00087-tid-6294560819423688572-45105e8c-66e5-43bb-a2f5-c1b09bd29fa8-66630-1.c000.snappy.parquet",
         2368
        ],
        [
         "dbfs:/mnt/group12/graph/final_graph/part-00088-tid-6294560819423688572-45105e8c-66e5-43bb-a2f5-c1b09bd29fa8-66763-1.c000.snappy.parquet",
         "part-00088-tid-6294560819423688572-45105e8c-66e5-43bb-a2f5-c1b09bd29fa8-66763-1.c000.snappy.parquet",
         2494
        ],
        [
         "dbfs:/mnt/group12/graph/final_graph/part-00089-tid-6294560819423688572-45105e8c-66e5-43bb-a2f5-c1b09bd29fa8-66603-1.c000.snappy.parquet",
         "part-00089-tid-6294560819423688572-45105e8c-66e5-43bb-a2f5-c1b09bd29fa8-66603-1.c000.snappy.parquet",
         2315
        ],
        [
         "dbfs:/mnt/group12/graph/final_graph/part-00090-tid-6294560819423688572-45105e8c-66e5-43bb-a2f5-c1b09bd29fa8-66765-1.c000.snappy.parquet",
         "part-00090-tid-6294560819423688572-45105e8c-66e5-43bb-a2f5-c1b09bd29fa8-66765-1.c000.snappy.parquet",
         2482
        ],
        [
         "dbfs:/mnt/group12/graph/final_graph/part-00091-tid-6294560819423688572-45105e8c-66e5-43bb-a2f5-c1b09bd29fa8-66766-1.c000.snappy.parquet",
         "part-00091-tid-6294560819423688572-45105e8c-66e5-43bb-a2f5-c1b09bd29fa8-66766-1.c000.snappy.parquet",
         2182
        ],
        [
         "dbfs:/mnt/group12/graph/final_graph/part-00092-tid-6294560819423688572-45105e8c-66e5-43bb-a2f5-c1b09bd29fa8-66556-1.c000.snappy.parquet",
         "part-00092-tid-6294560819423688572-45105e8c-66e5-43bb-a2f5-c1b09bd29fa8-66556-1.c000.snappy.parquet",
         2458
        ],
        [
         "dbfs:/mnt/group12/graph/final_graph/part-00093-tid-6294560819423688572-45105e8c-66e5-43bb-a2f5-c1b09bd29fa8-66731-1.c000.snappy.parquet",
         "part-00093-tid-6294560819423688572-45105e8c-66e5-43bb-a2f5-c1b09bd29fa8-66731-1.c000.snappy.parquet",
         2520
        ],
        [
         "dbfs:/mnt/group12/graph/final_graph/part-00094-tid-6294560819423688572-45105e8c-66e5-43bb-a2f5-c1b09bd29fa8-66659-1.c000.snappy.parquet",
         "part-00094-tid-6294560819423688572-45105e8c-66e5-43bb-a2f5-c1b09bd29fa8-66659-1.c000.snappy.parquet",
         2436
        ],
        [
         "dbfs:/mnt/group12/graph/final_graph/part-00095-tid-6294560819423688572-45105e8c-66e5-43bb-a2f5-c1b09bd29fa8-66732-1.c000.snappy.parquet",
         "part-00095-tid-6294560819423688572-45105e8c-66e5-43bb-a2f5-c1b09bd29fa8-66732-1.c000.snappy.parquet",
         2310
        ],
        [
         "dbfs:/mnt/group12/graph/final_graph/part-00096-tid-6294560819423688572-45105e8c-66e5-43bb-a2f5-c1b09bd29fa8-66590-1.c000.snappy.parquet",
         "part-00096-tid-6294560819423688572-45105e8c-66e5-43bb-a2f5-c1b09bd29fa8-66590-1.c000.snappy.parquet",
         2127
        ],
        [
         "dbfs:/mnt/group12/graph/final_graph/part-00097-tid-6294560819423688572-45105e8c-66e5-43bb-a2f5-c1b09bd29fa8-66633-1.c000.snappy.parquet",
         "part-00097-tid-6294560819423688572-45105e8c-66e5-43bb-a2f5-c1b09bd29fa8-66633-1.c000.snappy.parquet",
         2263
        ],
        [
         "dbfs:/mnt/group12/graph/final_graph/part-00098-tid-6294560819423688572-45105e8c-66e5-43bb-a2f5-c1b09bd29fa8-66770-1.c000.snappy.parquet",
         "part-00098-tid-6294560819423688572-45105e8c-66e5-43bb-a2f5-c1b09bd29fa8-66770-1.c000.snappy.parquet",
         2635
        ],
        [
         "dbfs:/mnt/group12/graph/final_graph/part-00099-tid-6294560819423688572-45105e8c-66e5-43bb-a2f5-c1b09bd29fa8-66771-1.c000.snappy.parquet",
         "part-00099-tid-6294560819423688572-45105e8c-66e5-43bb-a2f5-c1b09bd29fa8-66771-1.c000.snappy.parquet",
         2486
        ],
        [
         "dbfs:/mnt/group12/graph/final_graph/part-00100-tid-6294560819423688572-45105e8c-66e5-43bb-a2f5-c1b09bd29fa8-66658-1.c000.snappy.parquet",
         "part-00100-tid-6294560819423688572-45105e8c-66e5-43bb-a2f5-c1b09bd29fa8-66658-1.c000.snappy.parquet",
         2446
        ],
        [
         "dbfs:/mnt/group12/graph/final_graph/part-00101-tid-6294560819423688572-45105e8c-66e5-43bb-a2f5-c1b09bd29fa8-66592-1.c000.snappy.parquet",
         "part-00101-tid-6294560819423688572-45105e8c-66e5-43bb-a2f5-c1b09bd29fa8-66592-1.c000.snappy.parquet",
         2407
        ],
        [
         "dbfs:/mnt/group12/graph/final_graph/part-00102-tid-6294560819423688572-45105e8c-66e5-43bb-a2f5-c1b09bd29fa8-66733-1.c000.snappy.parquet",
         "part-00102-tid-6294560819423688572-45105e8c-66e5-43bb-a2f5-c1b09bd29fa8-66733-1.c000.snappy.parquet",
         2539
        ],
        [
         "dbfs:/mnt/group12/graph/final_graph/part-00103-tid-6294560819423688572-45105e8c-66e5-43bb-a2f5-c1b09bd29fa8-66772-1.c000.snappy.parquet",
         "part-00103-tid-6294560819423688572-45105e8c-66e5-43bb-a2f5-c1b09bd29fa8-66772-1.c000.snappy.parquet",
         2049
        ],
        [
         "dbfs:/mnt/group12/graph/final_graph/part-00104-tid-6294560819423688572-45105e8c-66e5-43bb-a2f5-c1b09bd29fa8-66774-1.c000.snappy.parquet",
         "part-00104-tid-6294560819423688572-45105e8c-66e5-43bb-a2f5-c1b09bd29fa8-66774-1.c000.snappy.parquet",
         2445
        ],
        [
         "dbfs:/mnt/group12/graph/final_graph/part-00105-tid-6294560819423688572-45105e8c-66e5-43bb-a2f5-c1b09bd29fa8-66776-1.c000.snappy.parquet",
         "part-00105-tid-6294560819423688572-45105e8c-66e5-43bb-a2f5-c1b09bd29fa8-66776-1.c000.snappy.parquet",
         2222
        ],
        [
         "dbfs:/mnt/group12/graph/final_graph/part-00106-tid-6294560819423688572-45105e8c-66e5-43bb-a2f5-c1b09bd29fa8-66735-1.c000.snappy.parquet",
         "part-00106-tid-6294560819423688572-45105e8c-66e5-43bb-a2f5-c1b09bd29fa8-66735-1.c000.snappy.parquet",
         2364
        ],
        [
         "dbfs:/mnt/group12/graph/final_graph/part-00107-tid-6294560819423688572-45105e8c-66e5-43bb-a2f5-c1b09bd29fa8-66606-1.c000.snappy.parquet",
         "part-00107-tid-6294560819423688572-45105e8c-66e5-43bb-a2f5-c1b09bd29fa8-66606-1.c000.snappy.parquet",
         2484
        ],
        [
         "dbfs:/mnt/group12/graph/final_graph/part-00108-tid-6294560819423688572-45105e8c-66e5-43bb-a2f5-c1b09bd29fa8-66595-1.c000.snappy.parquet",
         "part-00108-tid-6294560819423688572-45105e8c-66e5-43bb-a2f5-c1b09bd29fa8-66595-1.c000.snappy.parquet",
         2314
        ],
        [
         "dbfs:/mnt/group12/graph/final_graph/part-00109-tid-6294560819423688572-45105e8c-66e5-43bb-a2f5-c1b09bd29fa8-66559-1.c000.snappy.parquet",
         "part-00109-tid-6294560819423688572-45105e8c-66e5-43bb-a2f5-c1b09bd29fa8-66559-1.c000.snappy.parquet",
         2315
        ],
        [
         "dbfs:/mnt/group12/graph/final_graph/part-00110-tid-6294560819423688572-45105e8c-66e5-43bb-a2f5-c1b09bd29fa8-66670-1.c000.snappy.parquet",
         "part-00110-tid-6294560819423688572-45105e8c-66e5-43bb-a2f5-c1b09bd29fa8-66670-1.c000.snappy.parquet",
         2531
        ],
        [
         "dbfs:/mnt/group12/graph/final_graph/part-00111-tid-6294560819423688572-45105e8c-66e5-43bb-a2f5-c1b09bd29fa8-66664-1.c000.snappy.parquet",
         "part-00111-tid-6294560819423688572-45105e8c-66e5-43bb-a2f5-c1b09bd29fa8-66664-1.c000.snappy.parquet",
         2252
        ],
        [
         "dbfs:/mnt/group12/graph/final_graph/part-00112-tid-6294560819423688572-45105e8c-66e5-43bb-a2f5-c1b09bd29fa8-66671-1.c000.snappy.parquet",
         "part-00112-tid-6294560819423688572-45105e8c-66e5-43bb-a2f5-c1b09bd29fa8-66671-1.c000.snappy.parquet",
         2515
        ],
        [
         "dbfs:/mnt/group12/graph/final_graph/part-00113-tid-6294560819423688572-45105e8c-66e5-43bb-a2f5-c1b09bd29fa8-66777-1.c000.snappy.parquet",
         "part-00113-tid-6294560819423688572-45105e8c-66e5-43bb-a2f5-c1b09bd29fa8-66777-1.c000.snappy.parquet",
         2346
        ],
        [
         "dbfs:/mnt/group12/graph/final_graph/part-00114-tid-6294560819423688572-45105e8c-66e5-43bb-a2f5-c1b09bd29fa8-66778-1.c000.snappy.parquet",
         "part-00114-tid-6294560819423688572-45105e8c-66e5-43bb-a2f5-c1b09bd29fa8-66778-1.c000.snappy.parquet",
         2538
        ],
        [
         "dbfs:/mnt/group12/graph/final_graph/part-00115-tid-6294560819423688572-45105e8c-66e5-43bb-a2f5-c1b09bd29fa8-66738-1.c000.snappy.parquet",
         "part-00115-tid-6294560819423688572-45105e8c-66e5-43bb-a2f5-c1b09bd29fa8-66738-1.c000.snappy.parquet",
         2348
        ],
        [
         "dbfs:/mnt/group12/graph/final_graph/part-00116-tid-6294560819423688572-45105e8c-66e5-43bb-a2f5-c1b09bd29fa8-66780-1.c000.snappy.parquet",
         "part-00116-tid-6294560819423688572-45105e8c-66e5-43bb-a2f5-c1b09bd29fa8-66780-1.c000.snappy.parquet",
         2472
        ],
        [
         "dbfs:/mnt/group12/graph/final_graph/part-00117-tid-6294560819423688572-45105e8c-66e5-43bb-a2f5-c1b09bd29fa8-66739-1.c000.snappy.parquet",
         "part-00117-tid-6294560819423688572-45105e8c-66e5-43bb-a2f5-c1b09bd29fa8-66739-1.c000.snappy.parquet",
         2563
        ],
        [
         "dbfs:/mnt/group12/graph/final_graph/part-00118-tid-6294560819423688572-45105e8c-66e5-43bb-a2f5-c1b09bd29fa8-66637-1.c000.snappy.parquet",
         "part-00118-tid-6294560819423688572-45105e8c-66e5-43bb-a2f5-c1b09bd29fa8-66637-1.c000.snappy.parquet",
         2174
        ],
        [
         "dbfs:/mnt/group12/graph/final_graph/part-00119-tid-6294560819423688572-45105e8c-66e5-43bb-a2f5-c1b09bd29fa8-66608-1.c000.snappy.parquet",
         "part-00119-tid-6294560819423688572-45105e8c-66e5-43bb-a2f5-c1b09bd29fa8-66608-1.c000.snappy.parquet",
         2589
        ],
        [
         "dbfs:/mnt/group12/graph/final_graph/part-00120-tid-6294560819423688572-45105e8c-66e5-43bb-a2f5-c1b09bd29fa8-66560-1.c000.snappy.parquet",
         "part-00120-tid-6294560819423688572-45105e8c-66e5-43bb-a2f5-c1b09bd29fa8-66560-1.c000.snappy.parquet",
         2427
        ],
        [
         "dbfs:/mnt/group12/graph/final_graph/part-00121-tid-6294560819423688572-45105e8c-66e5-43bb-a2f5-c1b09bd29fa8-66550-1.c000.snappy.parquet",
         "part-00121-tid-6294560819423688572-45105e8c-66e5-43bb-a2f5-c1b09bd29fa8-66550-1.c000.snappy.parquet",
         2252
        ],
        [
         "dbfs:/mnt/group12/graph/final_graph/part-00122-tid-6294560819423688572-45105e8c-66e5-43bb-a2f5-c1b09bd29fa8-66782-1.c000.snappy.parquet",
         "part-00122-tid-6294560819423688572-45105e8c-66e5-43bb-a2f5-c1b09bd29fa8-66782-1.c000.snappy.parquet",
         2266
        ],
        [
         "dbfs:/mnt/group12/graph/final_graph/part-00123-tid-6294560819423688572-45105e8c-66e5-43bb-a2f5-c1b09bd29fa8-66784-1.c000.snappy.parquet",
         "part-00123-tid-6294560819423688572-45105e8c-66e5-43bb-a2f5-c1b09bd29fa8-66784-1.c000.snappy.parquet",
         2383
        ],
        [
         "dbfs:/mnt/group12/graph/final_graph/part-00124-tid-6294560819423688572-45105e8c-66e5-43bb-a2f5-c1b09bd29fa8-66611-1.c000.snappy.parquet",
         "part-00124-tid-6294560819423688572-45105e8c-66e5-43bb-a2f5-c1b09bd29fa8-66611-1.c000.snappy.parquet",
         2517
        ],
        [
         "dbfs:/mnt/group12/graph/final_graph/part-00125-tid-6294560819423688572-45105e8c-66e5-43bb-a2f5-c1b09bd29fa8-66785-1.c000.snappy.parquet",
         "part-00125-tid-6294560819423688572-45105e8c-66e5-43bb-a2f5-c1b09bd29fa8-66785-1.c000.snappy.parquet",
         2633
        ],
        [
         "dbfs:/mnt/group12/graph/final_graph/part-00126-tid-6294560819423688572-45105e8c-66e5-43bb-a2f5-c1b09bd29fa8-66743-1.c000.snappy.parquet",
         "part-00126-tid-6294560819423688572-45105e8c-66e5-43bb-a2f5-c1b09bd29fa8-66743-1.c000.snappy.parquet",
         2552
        ],
        [
         "dbfs:/mnt/group12/graph/final_graph/part-00127-tid-6294560819423688572-45105e8c-66e5-43bb-a2f5-c1b09bd29fa8-66786-1.c000.snappy.parquet",
         "part-00127-tid-6294560819423688572-45105e8c-66e5-43bb-a2f5-c1b09bd29fa8-66786-1.c000.snappy.parquet",
         2440
        ],
        [
         "dbfs:/mnt/group12/graph/final_graph/part-00128-tid-6294560819423688572-45105e8c-66e5-43bb-a2f5-c1b09bd29fa8-66744-1.c000.snappy.parquet",
         "part-00128-tid-6294560819423688572-45105e8c-66e5-43bb-a2f5-c1b09bd29fa8-66744-1.c000.snappy.parquet",
         2218
        ],
        [
         "dbfs:/mnt/group12/graph/final_graph/part-00129-tid-6294560819423688572-45105e8c-66e5-43bb-a2f5-c1b09bd29fa8-66675-1.c000.snappy.parquet",
         "part-00129-tid-6294560819423688572-45105e8c-66e5-43bb-a2f5-c1b09bd29fa8-66675-1.c000.snappy.parquet",
         2422
        ],
        [
         "dbfs:/mnt/group12/graph/final_graph/part-00130-tid-6294560819423688572-45105e8c-66e5-43bb-a2f5-c1b09bd29fa8-66562-1.c000.snappy.parquet",
         "part-00130-tid-6294560819423688572-45105e8c-66e5-43bb-a2f5-c1b09bd29fa8-66562-1.c000.snappy.parquet",
         2375
        ],
        [
         "dbfs:/mnt/group12/graph/final_graph/part-00131-tid-6294560819423688572-45105e8c-66e5-43bb-a2f5-c1b09bd29fa8-66787-1.c000.snappy.parquet",
         "part-00131-tid-6294560819423688572-45105e8c-66e5-43bb-a2f5-c1b09bd29fa8-66787-1.c000.snappy.parquet",
         2250
        ],
        [
         "dbfs:/mnt/group12/graph/final_graph/part-00132-tid-6294560819423688572-45105e8c-66e5-43bb-a2f5-c1b09bd29fa8-66690-1.c000.snappy.parquet",
         "part-00132-tid-6294560819423688572-45105e8c-66e5-43bb-a2f5-c1b09bd29fa8-66690-1.c000.snappy.parquet",
         2592
        ],
        [
         "dbfs:/mnt/group12/graph/final_graph/part-00133-tid-6294560819423688572-45105e8c-66e5-43bb-a2f5-c1b09bd29fa8-66641-1.c000.snappy.parquet",
         "part-00133-tid-6294560819423688572-45105e8c-66e5-43bb-a2f5-c1b09bd29fa8-66641-1.c000.snappy.parquet",
         2160
        ],
        [
         "dbfs:/mnt/group12/graph/final_graph/part-00134-tid-6294560819423688572-45105e8c-66e5-43bb-a2f5-c1b09bd29fa8-66667-1.c000.snappy.parquet",
         "part-00134-tid-6294560819423688572-45105e8c-66e5-43bb-a2f5-c1b09bd29fa8-66667-1.c000.snappy.parquet",
         2577
        ],
        [
         "dbfs:/mnt/group12/graph/final_graph/part-00135-tid-6294560819423688572-45105e8c-66e5-43bb-a2f5-c1b09bd29fa8-66598-1.c000.snappy.parquet",
         "part-00135-tid-6294560819423688572-45105e8c-66e5-43bb-a2f5-c1b09bd29fa8-66598-1.c000.snappy.parquet",
         2293
        ],
        [
         "dbfs:/mnt/group12/graph/final_graph/part-00136-tid-6294560819423688572-45105e8c-66e5-43bb-a2f5-c1b09bd29fa8-66790-1.c000.snappy.parquet",
         "part-00136-tid-6294560819423688572-45105e8c-66e5-43bb-a2f5-c1b09bd29fa8-66790-1.c000.snappy.parquet",
         2381
        ],
        [
         "dbfs:/mnt/group12/graph/final_graph/part-00137-tid-6294560819423688572-45105e8c-66e5-43bb-a2f5-c1b09bd29fa8-66791-1.c000.snappy.parquet",
         "part-00137-tid-6294560819423688572-45105e8c-66e5-43bb-a2f5-c1b09bd29fa8-66791-1.c000.snappy.parquet",
         2129
        ],
        [
         "dbfs:/mnt/group12/graph/final_graph/part-00138-tid-6294560819423688572-45105e8c-66e5-43bb-a2f5-c1b09bd29fa8-66563-1.c000.snappy.parquet",
         "part-00138-tid-6294560819423688572-45105e8c-66e5-43bb-a2f5-c1b09bd29fa8-66563-1.c000.snappy.parquet",
         2305
        ],
        [
         "dbfs:/mnt/group12/graph/final_graph/part-00139-tid-6294560819423688572-45105e8c-66e5-43bb-a2f5-c1b09bd29fa8-66747-1.c000.snappy.parquet",
         "part-00139-tid-6294560819423688572-45105e8c-66e5-43bb-a2f5-c1b09bd29fa8-66747-1.c000.snappy.parquet",
         2222
        ],
        [
         "dbfs:/mnt/group12/graph/final_graph/part-00140-tid-6294560819423688572-45105e8c-66e5-43bb-a2f5-c1b09bd29fa8-66748-1.c000.snappy.parquet",
         "part-00140-tid-6294560819423688572-45105e8c-66e5-43bb-a2f5-c1b09bd29fa8-66748-1.c000.snappy.parquet",
         2418
        ],
        [
         "dbfs:/mnt/group12/graph/final_graph/part-00141-tid-6294560819423688572-45105e8c-66e5-43bb-a2f5-c1b09bd29fa8-66566-1.c000.snappy.parquet",
         "part-00141-tid-6294560819423688572-45105e8c-66e5-43bb-a2f5-c1b09bd29fa8-66566-1.c000.snappy.parquet",
         2518
        ],
        [
         "dbfs:/mnt/group12/graph/final_graph/part-00142-tid-6294560819423688572-45105e8c-66e5-43bb-a2f5-c1b09bd29fa8-66792-1.c000.snappy.parquet",
         "part-00142-tid-6294560819423688572-45105e8c-66e5-43bb-a2f5-c1b09bd29fa8-66792-1.c000.snappy.parquet",
         2352
        ],
        [
         "dbfs:/mnt/group12/graph/final_graph/part-00143-tid-6294560819423688572-45105e8c-66e5-43bb-a2f5-c1b09bd29fa8-66793-1.c000.snappy.parquet",
         "part-00143-tid-6294560819423688572-45105e8c-66e5-43bb-a2f5-c1b09bd29fa8-66793-1.c000.snappy.parquet",
         2153
        ],
        [
         "dbfs:/mnt/group12/graph/final_graph/part-00144-tid-6294560819423688572-45105e8c-66e5-43bb-a2f5-c1b09bd29fa8-66794-1.c000.snappy.parquet",
         "part-00144-tid-6294560819423688572-45105e8c-66e5-43bb-a2f5-c1b09bd29fa8-66794-1.c000.snappy.parquet",
         2293
        ],
        [
         "dbfs:/mnt/group12/graph/final_graph/part-00145-tid-6294560819423688572-45105e8c-66e5-43bb-a2f5-c1b09bd29fa8-66795-1.c000.snappy.parquet",
         "part-00145-tid-6294560819423688572-45105e8c-66e5-43bb-a2f5-c1b09bd29fa8-66795-1.c000.snappy.parquet",
         2209
        ],
        [
         "dbfs:/mnt/group12/graph/final_graph/part-00146-tid-6294560819423688572-45105e8c-66e5-43bb-a2f5-c1b09bd29fa8-66692-1.c000.snappy.parquet",
         "part-00146-tid-6294560819423688572-45105e8c-66e5-43bb-a2f5-c1b09bd29fa8-66692-1.c000.snappy.parquet",
         2387
        ],
        [
         "dbfs:/mnt/group12/graph/final_graph/part-00147-tid-6294560819423688572-45105e8c-66e5-43bb-a2f5-c1b09bd29fa8-66615-1.c000.snappy.parquet",
         "part-00147-tid-6294560819423688572-45105e8c-66e5-43bb-a2f5-c1b09bd29fa8-66615-1.c000.snappy.parquet",
         2547
        ],
        [
         "dbfs:/mnt/group12/graph/final_graph/part-00148-tid-6294560819423688572-45105e8c-66e5-43bb-a2f5-c1b09bd29fa8-66754-1.c000.snappy.parquet",
         "part-00148-tid-6294560819423688572-45105e8c-66e5-43bb-a2f5-c1b09bd29fa8-66754-1.c000.snappy.parquet",
         2400
        ],
        [
         "dbfs:/mnt/group12/graph/final_graph/part-00149-tid-6294560819423688572-45105e8c-66e5-43bb-a2f5-c1b09bd29fa8-66796-1.c000.snappy.parquet",
         "part-00149-tid-6294560819423688572-45105e8c-66e5-43bb-a2f5-c1b09bd29fa8-66796-1.c000.snappy.parquet",
         2330
        ],
        [
         "dbfs:/mnt/group12/graph/final_graph/part-00150-tid-6294560819423688572-45105e8c-66e5-43bb-a2f5-c1b09bd29fa8-66755-1.c000.snappy.parquet",
         "part-00150-tid-6294560819423688572-45105e8c-66e5-43bb-a2f5-c1b09bd29fa8-66755-1.c000.snappy.parquet",
         2324
        ],
        [
         "dbfs:/mnt/group12/graph/final_graph/part-00151-tid-6294560819423688572-45105e8c-66e5-43bb-a2f5-c1b09bd29fa8-66567-1.c000.snappy.parquet",
         "part-00151-tid-6294560819423688572-45105e8c-66e5-43bb-a2f5-c1b09bd29fa8-66567-1.c000.snappy.parquet",
         2454
        ],
        [
         "dbfs:/mnt/group12/graph/final_graph/part-00152-tid-6294560819423688572-45105e8c-66e5-43bb-a2f5-c1b09bd29fa8-66602-1.c000.snappy.parquet",
         "part-00152-tid-6294560819423688572-45105e8c-66e5-43bb-a2f5-c1b09bd29fa8-66602-1.c000.snappy.parquet",
         2308
        ],
        [
         "dbfs:/mnt/group12/graph/final_graph/part-00153-tid-6294560819423688572-45105e8c-66e5-43bb-a2f5-c1b09bd29fa8-66797-1.c000.snappy.parquet",
         "part-00153-tid-6294560819423688572-45105e8c-66e5-43bb-a2f5-c1b09bd29fa8-66797-1.c000.snappy.parquet",
         2495
        ],
        [
         "dbfs:/mnt/group12/graph/final_graph/part-00154-tid-6294560819423688572-45105e8c-66e5-43bb-a2f5-c1b09bd29fa8-66694-1.c000.snappy.parquet",
         "part-00154-tid-6294560819423688572-45105e8c-66e5-43bb-a2f5-c1b09bd29fa8-66694-1.c000.snappy.parquet",
         2408
        ],
        [
         "dbfs:/mnt/group12/graph/final_graph/part-00155-tid-6294560819423688572-45105e8c-66e5-43bb-a2f5-c1b09bd29fa8-66799-1.c000.snappy.parquet",
         "part-00155-tid-6294560819423688572-45105e8c-66e5-43bb-a2f5-c1b09bd29fa8-66799-1.c000.snappy.parquet",
         2540
        ],
        [
         "dbfs:/mnt/group12/graph/final_graph/part-00156-tid-6294560819423688572-45105e8c-66e5-43bb-a2f5-c1b09bd29fa8-66800-1.c000.snappy.parquet",
         "part-00156-tid-6294560819423688572-45105e8c-66e5-43bb-a2f5-c1b09bd29fa8-66800-1.c000.snappy.parquet",
         2274
        ],
        [
         "dbfs:/mnt/group12/graph/final_graph/part-00157-tid-6294560819423688572-45105e8c-66e5-43bb-a2f5-c1b09bd29fa8-66547-1.c000.snappy.parquet",
         "part-00157-tid-6294560819423688572-45105e8c-66e5-43bb-a2f5-c1b09bd29fa8-66547-1.c000.snappy.parquet",
         2248
        ],
        [
         "dbfs:/mnt/group12/graph/final_graph/part-00158-tid-6294560819423688572-45105e8c-66e5-43bb-a2f5-c1b09bd29fa8-66801-1.c000.snappy.parquet",
         "part-00158-tid-6294560819423688572-45105e8c-66e5-43bb-a2f5-c1b09bd29fa8-66801-1.c000.snappy.parquet",
         2274
        ],
        [
         "dbfs:/mnt/group12/graph/final_graph/part-00159-tid-6294560819423688572-45105e8c-66e5-43bb-a2f5-c1b09bd29fa8-66696-1.c000.snappy.parquet",
         "part-00159-tid-6294560819423688572-45105e8c-66e5-43bb-a2f5-c1b09bd29fa8-66696-1.c000.snappy.parquet",
         2314
        ],
        [
         "dbfs:/mnt/group12/graph/final_graph/part-00160-tid-6294560819423688572-45105e8c-66e5-43bb-a2f5-c1b09bd29fa8-66758-1.c000.snappy.parquet",
         "part-00160-tid-6294560819423688572-45105e8c-66e5-43bb-a2f5-c1b09bd29fa8-66758-1.c000.snappy.parquet",
         2210
        ],
        [
         "dbfs:/mnt/group12/graph/final_graph/part-00161-tid-6294560819423688572-45105e8c-66e5-43bb-a2f5-c1b09bd29fa8-66761-1.c000.snappy.parquet",
         "part-00161-tid-6294560819423688572-45105e8c-66e5-43bb-a2f5-c1b09bd29fa8-66761-1.c000.snappy.parquet",
         2344
        ],
        [
         "dbfs:/mnt/group12/graph/final_graph/part-00162-tid-6294560819423688572-45105e8c-66e5-43bb-a2f5-c1b09bd29fa8-66802-1.c000.snappy.parquet",
         "part-00162-tid-6294560819423688572-45105e8c-66e5-43bb-a2f5-c1b09bd29fa8-66802-1.c000.snappy.parquet",
         2515
        ],
        [
         "dbfs:/mnt/group12/graph/final_graph/part-00163-tid-6294560819423688572-45105e8c-66e5-43bb-a2f5-c1b09bd29fa8-66569-1.c000.snappy.parquet",
         "part-00163-tid-6294560819423688572-45105e8c-66e5-43bb-a2f5-c1b09bd29fa8-66569-1.c000.snappy.parquet",
         2096
        ],
        [
         "dbfs:/mnt/group12/graph/final_graph/part-00164-tid-6294560819423688572-45105e8c-66e5-43bb-a2f5-c1b09bd29fa8-66803-1.c000.snappy.parquet",
         "part-00164-tid-6294560819423688572-45105e8c-66e5-43bb-a2f5-c1b09bd29fa8-66803-1.c000.snappy.parquet",
         2512
        ],
        [
         "dbfs:/mnt/group12/graph/final_graph/part-00165-tid-6294560819423688572-45105e8c-66e5-43bb-a2f5-c1b09bd29fa8-66674-1.c000.snappy.parquet",
         "part-00165-tid-6294560819423688572-45105e8c-66e5-43bb-a2f5-c1b09bd29fa8-66674-1.c000.snappy.parquet",
         2301
        ],
        [
         "dbfs:/mnt/group12/graph/final_graph/part-00166-tid-6294560819423688572-45105e8c-66e5-43bb-a2f5-c1b09bd29fa8-66666-1.c000.snappy.parquet",
         "part-00166-tid-6294560819423688572-45105e8c-66e5-43bb-a2f5-c1b09bd29fa8-66666-1.c000.snappy.parquet",
         2383
        ],
        [
         "dbfs:/mnt/group12/graph/final_graph/part-00167-tid-6294560819423688572-45105e8c-66e5-43bb-a2f5-c1b09bd29fa8-66604-1.c000.snappy.parquet",
         "part-00167-tid-6294560819423688572-45105e8c-66e5-43bb-a2f5-c1b09bd29fa8-66604-1.c000.snappy.parquet",
         2365
        ],
        [
         "dbfs:/mnt/group12/graph/final_graph/part-00168-tid-6294560819423688572-45105e8c-66e5-43bb-a2f5-c1b09bd29fa8-66804-1.c000.snappy.parquet",
         "part-00168-tid-6294560819423688572-45105e8c-66e5-43bb-a2f5-c1b09bd29fa8-66804-1.c000.snappy.parquet",
         2158
        ],
        [
         "dbfs:/mnt/group12/graph/final_graph/part-00169-tid-6294560819423688572-45105e8c-66e5-43bb-a2f5-c1b09bd29fa8-66805-1.c000.snappy.parquet",
         "part-00169-tid-6294560819423688572-45105e8c-66e5-43bb-a2f5-c1b09bd29fa8-66805-1.c000.snappy.parquet",
         2242
        ],
        [
         "dbfs:/mnt/group12/graph/final_graph/part-00170-tid-6294560819423688572-45105e8c-66e5-43bb-a2f5-c1b09bd29fa8-66806-1.c000.snappy.parquet",
         "part-00170-tid-6294560819423688572-45105e8c-66e5-43bb-a2f5-c1b09bd29fa8-66806-1.c000.snappy.parquet",
         2136
        ],
        [
         "dbfs:/mnt/group12/graph/final_graph/part-00171-tid-6294560819423688572-45105e8c-66e5-43bb-a2f5-c1b09bd29fa8-66807-1.c000.snappy.parquet",
         "part-00171-tid-6294560819423688572-45105e8c-66e5-43bb-a2f5-c1b09bd29fa8-66807-1.c000.snappy.parquet",
         1905
        ],
        [
         "dbfs:/mnt/group12/graph/final_graph/part-00172-tid-6294560819423688572-45105e8c-66e5-43bb-a2f5-c1b09bd29fa8-66764-1.c000.snappy.parquet",
         "part-00172-tid-6294560819423688572-45105e8c-66e5-43bb-a2f5-c1b09bd29fa8-66764-1.c000.snappy.parquet",
         2204
        ],
        [
         "dbfs:/mnt/group12/graph/final_graph/part-00173-tid-6294560819423688572-45105e8c-66e5-43bb-a2f5-c1b09bd29fa8-66767-1.c000.snappy.parquet",
         "part-00173-tid-6294560819423688572-45105e8c-66e5-43bb-a2f5-c1b09bd29fa8-66767-1.c000.snappy.parquet",
         2499
        ],
        [
         "dbfs:/mnt/group12/graph/final_graph/part-00174-tid-6294560819423688572-45105e8c-66e5-43bb-a2f5-c1b09bd29fa8-66769-1.c000.snappy.parquet",
         "part-00174-tid-6294560819423688572-45105e8c-66e5-43bb-a2f5-c1b09bd29fa8-66769-1.c000.snappy.parquet",
         2485
        ],
        [
         "dbfs:/mnt/group12/graph/final_graph/part-00175-tid-6294560819423688572-45105e8c-66e5-43bb-a2f5-c1b09bd29fa8-66610-1.c000.snappy.parquet",
         "part-00175-tid-6294560819423688572-45105e8c-66e5-43bb-a2f5-c1b09bd29fa8-66610-1.c000.snappy.parquet",
         2177
        ],
        [
         "dbfs:/mnt/group12/graph/final_graph/part-00176-tid-6294560819423688572-45105e8c-66e5-43bb-a2f5-c1b09bd29fa8-66808-1.c000.snappy.parquet",
         "part-00176-tid-6294560819423688572-45105e8c-66e5-43bb-a2f5-c1b09bd29fa8-66808-1.c000.snappy.parquet",
         2410
        ],
        [
         "dbfs:/mnt/group12/graph/final_graph/part-00177-tid-6294560819423688572-45105e8c-66e5-43bb-a2f5-c1b09bd29fa8-66621-1.c000.snappy.parquet",
         "part-00177-tid-6294560819423688572-45105e8c-66e5-43bb-a2f5-c1b09bd29fa8-66621-1.c000.snappy.parquet",
         2309
        ],
        [
         "dbfs:/mnt/group12/graph/final_graph/part-00178-tid-6294560819423688572-45105e8c-66e5-43bb-a2f5-c1b09bd29fa8-66809-1.c000.snappy.parquet",
         "part-00178-tid-6294560819423688572-45105e8c-66e5-43bb-a2f5-c1b09bd29fa8-66809-1.c000.snappy.parquet",
         2599
        ],
        [
         "dbfs:/mnt/group12/graph/final_graph/part-00179-tid-6294560819423688572-45105e8c-66e5-43bb-a2f5-c1b09bd29fa8-66570-1.c000.snappy.parquet",
         "part-00179-tid-6294560819423688572-45105e8c-66e5-43bb-a2f5-c1b09bd29fa8-66570-1.c000.snappy.parquet",
         2716
        ],
        [
         "dbfs:/mnt/group12/graph/final_graph/part-00180-tid-6294560819423688572-45105e8c-66e5-43bb-a2f5-c1b09bd29fa8-66612-1.c000.snappy.parquet",
         "part-00180-tid-6294560819423688572-45105e8c-66e5-43bb-a2f5-c1b09bd29fa8-66612-1.c000.snappy.parquet",
         2253
        ],
        [
         "dbfs:/mnt/group12/graph/final_graph/part-00181-tid-6294560819423688572-45105e8c-66e5-43bb-a2f5-c1b09bd29fa8-66669-1.c000.snappy.parquet",
         "part-00181-tid-6294560819423688572-45105e8c-66e5-43bb-a2f5-c1b09bd29fa8-66669-1.c000.snappy.parquet",
         2470
        ],
        [
         "dbfs:/mnt/group12/graph/final_graph/part-00182-tid-6294560819423688572-45105e8c-66e5-43bb-a2f5-c1b09bd29fa8-66702-1.c000.snappy.parquet",
         "part-00182-tid-6294560819423688572-45105e8c-66e5-43bb-a2f5-c1b09bd29fa8-66702-1.c000.snappy.parquet",
         2540
        ],
        [
         "dbfs:/mnt/group12/graph/final_graph/part-00183-tid-6294560819423688572-45105e8c-66e5-43bb-a2f5-c1b09bd29fa8-66678-1.c000.snappy.parquet",
         "part-00183-tid-6294560819423688572-45105e8c-66e5-43bb-a2f5-c1b09bd29fa8-66678-1.c000.snappy.parquet",
         2452
        ],
        [
         "dbfs:/mnt/group12/graph/final_graph/part-00184-tid-6294560819423688572-45105e8c-66e5-43bb-a2f5-c1b09bd29fa8-66773-1.c000.snappy.parquet",
         "part-00184-tid-6294560819423688572-45105e8c-66e5-43bb-a2f5-c1b09bd29fa8-66773-1.c000.snappy.parquet",
         2624
        ],
        [
         "dbfs:/mnt/group12/graph/final_graph/part-00185-tid-6294560819423688572-45105e8c-66e5-43bb-a2f5-c1b09bd29fa8-66810-1.c000.snappy.parquet",
         "part-00185-tid-6294560819423688572-45105e8c-66e5-43bb-a2f5-c1b09bd29fa8-66810-1.c000.snappy.parquet",
         2264
        ],
        [
         "dbfs:/mnt/group12/graph/final_graph/part-00186-tid-6294560819423688572-45105e8c-66e5-43bb-a2f5-c1b09bd29fa8-66811-1.c000.snappy.parquet",
         "part-00186-tid-6294560819423688572-45105e8c-66e5-43bb-a2f5-c1b09bd29fa8-66811-1.c000.snappy.parquet",
         2249
        ],
        [
         "dbfs:/mnt/group12/graph/final_graph/part-00187-tid-6294560819423688572-45105e8c-66e5-43bb-a2f5-c1b09bd29fa8-66775-1.c000.snappy.parquet",
         "part-00187-tid-6294560819423688572-45105e8c-66e5-43bb-a2f5-c1b09bd29fa8-66775-1.c000.snappy.parquet",
         2445
        ],
        [
         "dbfs:/mnt/group12/graph/final_graph/part-00188-tid-6294560819423688572-45105e8c-66e5-43bb-a2f5-c1b09bd29fa8-66704-1.c000.snappy.parquet",
         "part-00188-tid-6294560819423688572-45105e8c-66e5-43bb-a2f5-c1b09bd29fa8-66704-1.c000.snappy.parquet",
         2287
        ],
        [
         "dbfs:/mnt/group12/graph/final_graph/part-00189-tid-6294560819423688572-45105e8c-66e5-43bb-a2f5-c1b09bd29fa8-66812-1.c000.snappy.parquet",
         "part-00189-tid-6294560819423688572-45105e8c-66e5-43bb-a2f5-c1b09bd29fa8-66812-1.c000.snappy.parquet",
         2368
        ],
        [
         "dbfs:/mnt/group12/graph/final_graph/part-00190-tid-6294560819423688572-45105e8c-66e5-43bb-a2f5-c1b09bd29fa8-66781-1.c000.snappy.parquet",
         "part-00190-tid-6294560819423688572-45105e8c-66e5-43bb-a2f5-c1b09bd29fa8-66781-1.c000.snappy.parquet",
         2326
        ],
        [
         "dbfs:/mnt/group12/graph/final_graph/part-00191-tid-6294560819423688572-45105e8c-66e5-43bb-a2f5-c1b09bd29fa8-66813-1.c000.snappy.parquet",
         "part-00191-tid-6294560819423688572-45105e8c-66e5-43bb-a2f5-c1b09bd29fa8-66813-1.c000.snappy.parquet",
         2162
        ],
        [
         "dbfs:/mnt/group12/graph/final_graph/part-00192-tid-6294560819423688572-45105e8c-66e5-43bb-a2f5-c1b09bd29fa8-66574-1.c000.snappy.parquet",
         "part-00192-tid-6294560819423688572-45105e8c-66e5-43bb-a2f5-c1b09bd29fa8-66574-1.c000.snappy.parquet",
         2331
        ],
        [
         "dbfs:/mnt/group12/graph/final_graph/part-00193-tid-6294560819423688572-45105e8c-66e5-43bb-a2f5-c1b09bd29fa8-66625-1.c000.snappy.parquet",
         "part-00193-tid-6294560819423688572-45105e8c-66e5-43bb-a2f5-c1b09bd29fa8-66625-1.c000.snappy.parquet",
         2280
        ],
        [
         "dbfs:/mnt/group12/graph/final_graph/part-00194-tid-6294560819423688572-45105e8c-66e5-43bb-a2f5-c1b09bd29fa8-66815-1.c000.snappy.parquet",
         "part-00194-tid-6294560819423688572-45105e8c-66e5-43bb-a2f5-c1b09bd29fa8-66815-1.c000.snappy.parquet",
         2280
        ],
        [
         "dbfs:/mnt/group12/graph/final_graph/part-00195-tid-6294560819423688572-45105e8c-66e5-43bb-a2f5-c1b09bd29fa8-66575-1.c000.snappy.parquet",
         "part-00195-tid-6294560819423688572-45105e8c-66e5-43bb-a2f5-c1b09bd29fa8-66575-1.c000.snappy.parquet",
         2134
        ],
        [
         "dbfs:/mnt/group12/graph/final_graph/part-00196-tid-6294560819423688572-45105e8c-66e5-43bb-a2f5-c1b09bd29fa8-66816-1.c000.snappy.parquet",
         "part-00196-tid-6294560819423688572-45105e8c-66e5-43bb-a2f5-c1b09bd29fa8-66816-1.c000.snappy.parquet",
         2257
        ],
        [
         "dbfs:/mnt/group12/graph/final_graph/part-00197-tid-6294560819423688572-45105e8c-66e5-43bb-a2f5-c1b09bd29fa8-66817-1.c000.snappy.parquet",
         "part-00197-tid-6294560819423688572-45105e8c-66e5-43bb-a2f5-c1b09bd29fa8-66817-1.c000.snappy.parquet",
         2200
        ],
        [
         "dbfs:/mnt/group12/graph/final_graph/part-00198-tid-6294560819423688572-45105e8c-66e5-43bb-a2f5-c1b09bd29fa8-66783-1.c000.snappy.parquet",
         "part-00198-tid-6294560819423688572-45105e8c-66e5-43bb-a2f5-c1b09bd29fa8-66783-1.c000.snappy.parquet",
         2390
        ],
        [
         "dbfs:/mnt/group12/graph/final_graph/part-00199-tid-6294560819423688572-45105e8c-66e5-43bb-a2f5-c1b09bd29fa8-66818-1.c000.snappy.parquet",
         "part-00199-tid-6294560819423688572-45105e8c-66e5-43bb-a2f5-c1b09bd29fa8-66818-1.c000.snappy.parquet",
         2628
        ]
       ],
       "datasetInfos": [],
       "dbfsResultPath": null,
       "isJsonSchema": true,
       "metadata": {},
       "overflow": false,
       "plotOptions": {
        "customPlotOptions": {},
        "displayType": "table",
        "pivotAggregation": null,
        "pivotColumns": null,
        "xColumns": null,
        "yColumns": null
       },
       "removedWidgets": [],
       "schema": [
        {
         "metadata": "{}",
         "name": "path",
         "type": "\"string\""
        },
        {
         "metadata": "{}",
         "name": "name",
         "type": "\"string\""
        },
        {
         "metadata": "{}",
         "name": "size",
         "type": "\"long\""
        }
       ],
       "type": "table"
      }
     },
     "output_type": "display_data"
    }
   ],
   "source": [
    "# Test outputs\n",
    "display(dbutils.fs.ls('/mnt/group12/graph/final_graph'))"
   ]
  },
  {
   "cell_type": "code",
   "execution_count": 0,
   "metadata": {
    "application/vnd.databricks.v1+cell": {
     "inputWidgets": {},
     "nuid": "3aeb7325-972f-4b30-885c-dd1fa31a8f2c",
     "showTitle": false,
     "title": ""
    }
   },
   "outputs": [
    {
     "data": {
      "text/html": [
       "<style scoped>\n",
       "  .ansiout {\n",
       "    display: block;\n",
       "    unicode-bidi: embed;\n",
       "    white-space: pre-wrap;\n",
       "    word-wrap: break-word;\n",
       "    word-break: break-all;\n",
       "    font-family: \"Source Code Pro\", \"Menlo\", monospace;;\n",
       "    font-size: 13px;\n",
       "    color: #555;\n",
       "    margin-left: 4px;\n",
       "    line-height: 19px;\n",
       "  }\n",
       "</style>"
      ]
     },
     "metadata": {
      "application/vnd.databricks.v1+output": {
       "arguments": {},
       "data": "",
       "errorSummary": "",
       "errorTraceType": null,
       "metadata": {},
       "type": "ipynbError"
      }
     },
     "output_type": "display_data"
    }
   ],
   "source": []
  }
 ],
 "metadata": {
  "application/vnd.databricks.v1+notebook": {
   "dashboards": [],
   "language": "python",
   "notebookMetadata": {
    "pythonIndentUnit": 2
   },
   "notebookName": "Master Pipeline: Graphs",
   "notebookOrigID": 3777534471737557,
   "widgets": {}
  },
  "kernelspec": {
   "display_name": "Python 3",
   "language": "python",
   "name": "python3"
  },
  "language_info": {
   "codemirror_mode": {
    "name": "ipython",
    "version": 3
   },
   "file_extension": ".py",
   "mimetype": "text/x-python",
   "name": "python",
   "nbconvert_exporter": "python",
   "pygments_lexer": "ipython3",
   "version": "3.8.2"
  }
 },
 "nbformat": 4,
 "nbformat_minor": 1
}
