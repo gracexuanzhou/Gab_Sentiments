{
 "cells": [
  {
   "cell_type": "code",
   "execution_count": 0,
   "metadata": {
    "application/vnd.databricks.v1+cell": {
     "inputWidgets": {},
     "nuid": "20ac6e66-ad31-45d9-8d12-ab1825171423",
     "showTitle": false,
     "title": ""
    }
   },
   "outputs": [
    {
     "data": {
      "text/html": [
       "<style scoped>\n",
       "  .ansiout {\n",
       "    display: block;\n",
       "    unicode-bidi: embed;\n",
       "    white-space: pre-wrap;\n",
       "    word-wrap: break-word;\n",
       "    word-break: break-all;\n",
       "    font-family: \"Source Code Pro\", \"Menlo\", monospace;;\n",
       "    font-size: 13px;\n",
       "    color: #555;\n",
       "    margin-left: 4px;\n",
       "    line-height: 19px;\n",
       "  }\n",
       "</style>\n",
       "<div class=\"ansiout\"></div>"
      ]
     },
     "metadata": {
      "application/vnd.databricks.v1+output": {
       "addedWidgets": {},
       "arguments": {},
       "data": "<div class=\"ansiout\"></div>",
       "datasetInfos": [],
       "metadata": {},
       "removedWidgets": [],
       "type": "html"
      }
     },
     "output_type": "display_data"
    }
   ],
   "source": [
    "from pyspark.sql.session import SparkSession\n",
    "from pyspark.conf import SparkConf\n",
    "from pyspark.sql import functions as F\n",
    "from graphframes import *"
   ]
  },
  {
   "cell_type": "code",
   "execution_count": null,
   "metadata": {},
   "outputs": [],
   "source": [
    "data_output = spark.read.option(\"header\",\"true\").parquet(\"dbfs:/mnt/group12/sentiment/\")"
   ]
  },
  {
   "cell_type": "code",
   "execution_count": 0,
   "metadata": {
    "application/vnd.databricks.v1+cell": {
     "inputWidgets": {},
     "nuid": "8c52da70-1215-44cd-b57d-468785f12e91",
     "showTitle": false,
     "title": ""
    }
   },
   "outputs": [
    {
     "data": {
      "text/html": [
       "<style scoped>\n",
       "  .ansiout {\n",
       "    display: block;\n",
       "    unicode-bidi: embed;\n",
       "    white-space: pre-wrap;\n",
       "    word-wrap: break-word;\n",
       "    word-break: break-all;\n",
       "    font-family: \"Source Code Pro\", \"Menlo\", monospace;;\n",
       "    font-size: 13px;\n",
       "    color: #555;\n",
       "    margin-left: 4px;\n",
       "    line-height: 19px;\n",
       "  }\n",
       "</style>\n",
       "<div class=\"ansiout\">+---------------+--------------------+\n",
       "       username|           repliedBy|\n",
       "+---------------+--------------------+\n",
       "            JWS|[bitb, JWS, bitb,...|\n",
       "yes_im_a_racist|[tommotom73, yes_...|\n",
       "Whiteknight1488|           [Pronto1]|\n",
       " WilliamHenwood|          [computed]|\n",
       "       Shepherd|[WhiteSparrow, Sh...|\n",
       " WilliamHenwood|          [Timbo437]|\n",
       " AmericaTruther|           [Joybell]|\n",
       " AmericaTruther|           [Joybell]|\n",
       "  Quartermaster|        [TukkRivers]|\n",
       "       KimFoote|  [AltruisticEnigma]|\n",
       "AmandaRekonwith|        [Coldwarvet]|\n",
       "  AcidBrainWash|[AcidBrainWash, U...|\n",
       "  AcidBrainWash|[UzeHerName, Acid...|\n",
       "  AcidBrainWash|[AcidBrainWash, U...|\n",
       "  AcidBrainWash|[UzeHerName, Acid...|\n",
       "  AcidBrainWash|[UzeHerName, Acid...|\n",
       "Alejandrodude13|           [Joybell]|\n",
       " chaosisherenow|[AmandaRekonwith,...|\n",
       "     MJTureckie|     [Bribribrianna]|\n",
       "AmandaRekonwith|[chaosisherenow, ...|\n",
       "+---------------+--------------------+\n",
       "only showing top 20 rows\n",
       "\n",
       "</div>"
      ]
     },
     "metadata": {
      "application/vnd.databricks.v1+output": {
       "addedWidgets": {},
       "arguments": {},
       "data": "<div class=\"ansiout\">+---------------+--------------------+\n|       username|           repliedBy|\n+---------------+--------------------+\n|            JWS|[bitb, JWS, bitb,...|\n|yes_im_a_racist|[tommotom73, yes_...|\n|Whiteknight1488|           [Pronto1]|\n| WilliamHenwood|          [computed]|\n|       Shepherd|[WhiteSparrow, Sh...|\n| WilliamHenwood|          [Timbo437]|\n| AmericaTruther|           [Joybell]|\n| AmericaTruther|           [Joybell]|\n|  Quartermaster|        [TukkRivers]|\n|       KimFoote|  [AltruisticEnigma]|\n|AmandaRekonwith|        [Coldwarvet]|\n|  AcidBrainWash|[AcidBrainWash, U...|\n|  AcidBrainWash|[UzeHerName, Acid...|\n|  AcidBrainWash|[AcidBrainWash, U...|\n|  AcidBrainWash|[UzeHerName, Acid...|\n|  AcidBrainWash|[UzeHerName, Acid...|\n|Alejandrodude13|           [Joybell]|\n| chaosisherenow|[AmandaRekonwith,...|\n|     MJTureckie|     [Bribribrianna]|\n|AmandaRekonwith|[chaosisherenow, ...|\n+---------------+--------------------+\nonly showing top 20 rows\n\n</div>",
       "datasetInfos": [],
       "metadata": {},
       "removedWidgets": [],
       "type": "html"
      }
     },
     "output_type": "display_data"
    }
   ],
   "source": [
    "#Filter people who have never been replied \n",
    "data_output.filter(F.col('n_users_in_conversation') != 0).select(F.col('username'),F.col('users_in_conversation').alias('repliedBy')).show()"
   ]
  },
  {
   "cell_type": "code",
   "execution_count": 0,
   "metadata": {
    "application/vnd.databricks.v1+cell": {
     "inputWidgets": {},
     "nuid": "cf43ca2b-3162-46b3-9e02-5303ed0e216c",
     "showTitle": false,
     "title": ""
    }
   },
   "outputs": [
    {
     "data": {
      "text/html": [
       "<style scoped>\n",
       "  .ansiout {\n",
       "    display: block;\n",
       "    unicode-bidi: embed;\n",
       "    white-space: pre-wrap;\n",
       "    word-wrap: break-word;\n",
       "    word-break: break-all;\n",
       "    font-family: \"Source Code Pro\", \"Menlo\", monospace;;\n",
       "    font-size: 13px;\n",
       "    color: #555;\n",
       "    margin-left: 4px;\n",
       "    line-height: 19px;\n",
       "  }\n",
       "</style>\n",
       "<div class=\"ansiout\"></div>"
      ]
     },
     "metadata": {
      "application/vnd.databricks.v1+output": {
       "addedWidgets": {},
       "arguments": {},
       "data": "<div class=\"ansiout\"></div>",
       "datasetInfos": [],
       "metadata": {},
       "removedWidgets": [],
       "type": "html"
      }
     },
     "output_type": "display_data"
    }
   ],
   "source": [
    "#merge username and people replies him/her\n",
    "union_name = data_output.filter(F.col('n_users_in_conversation') != 0).withColumn('nameSum', F.array_union(F.col('users_in_conversation'),F.array(F.col('username'))))\\\n",
    "                        .select(F.col('nameSum'))"
   ]
  },
  {
   "cell_type": "code",
   "execution_count": 0,
   "metadata": {
    "application/vnd.databricks.v1+cell": {
     "inputWidgets": {},
     "nuid": "7c8257ff-5458-40be-9d60-03b5e699466c",
     "showTitle": false,
     "title": ""
    }
   },
   "outputs": [
    {
     "data": {
      "text/html": [
       "<style scoped>\n",
       "  .ansiout {\n",
       "    display: block;\n",
       "    unicode-bidi: embed;\n",
       "    white-space: pre-wrap;\n",
       "    word-wrap: break-word;\n",
       "    word-break: break-all;\n",
       "    font-family: \"Source Code Pro\", \"Menlo\", monospace;;\n",
       "    font-size: 13px;\n",
       "    color: #555;\n",
       "    margin-left: 4px;\n",
       "    line-height: 19px;\n",
       "  }\n",
       "</style>\n",
       "<div class=\"ansiout\"></div>"
      ]
     },
     "metadata": {
      "application/vnd.databricks.v1+output": {
       "addedWidgets": {},
       "arguments": {},
       "data": "<div class=\"ansiout\"></div>",
       "datasetInfos": [],
       "metadata": {},
       "removedWidgets": [],
       "type": "html"
      }
     },
     "output_type": "display_data"
    }
   ],
   "source": [
    "# explode array and delete repeated name, then create vertex of network graph\n",
    "vertex = union_name.withColumn('nameSum', F.explode(F.col('nameSum'))).distinct().withColumnRenamed(\"nameSum\", \"id\")"
   ]
  },
  {
   "cell_type": "code",
   "execution_count": 0,
   "metadata": {
    "application/vnd.databricks.v1+cell": {
     "inputWidgets": {},
     "nuid": "87c2bd66-f7a5-4b4e-8f52-adb023bf4cce",
     "showTitle": false,
     "title": ""
    }
   },
   "outputs": [
    {
     "data": {
      "text/html": [
       "<style scoped>\n",
       "  .ansiout {\n",
       "    display: block;\n",
       "    unicode-bidi: embed;\n",
       "    white-space: pre-wrap;\n",
       "    word-wrap: break-word;\n",
       "    word-break: break-all;\n",
       "    font-family: \"Source Code Pro\", \"Menlo\", monospace;;\n",
       "    font-size: 13px;\n",
       "    color: #555;\n",
       "    margin-left: 4px;\n",
       "    line-height: 19px;\n",
       "  }\n",
       "</style>\n",
       "<div class=\"ansiout\">Out[12]: 17028</div>"
      ]
     },
     "metadata": {
      "application/vnd.databricks.v1+output": {
       "addedWidgets": {},
       "arguments": {},
       "data": "<div class=\"ansiout\">Out[12]: 17028</div>",
       "datasetInfos": [],
       "metadata": {},
       "removedWidgets": [],
       "type": "html"
      }
     },
     "output_type": "display_data"
    }
   ],
   "source": [
    "# the number of node\n",
    "vertex.count()"
   ]
  },
  {
   "cell_type": "code",
   "execution_count": 0,
   "metadata": {
    "application/vnd.databricks.v1+cell": {
     "inputWidgets": {},
     "nuid": "b73eece0-bfee-4faa-a6ed-0dd162089cce",
     "showTitle": false,
     "title": ""
    }
   },
   "outputs": [
    {
     "data": {
      "text/html": [
       "<style scoped>\n",
       "  .ansiout {\n",
       "    display: block;\n",
       "    unicode-bidi: embed;\n",
       "    white-space: pre-wrap;\n",
       "    word-wrap: break-word;\n",
       "    word-break: break-all;\n",
       "    font-family: \"Source Code Pro\", \"Menlo\", monospace;;\n",
       "    font-size: 13px;\n",
       "    color: #555;\n",
       "    margin-left: 4px;\n",
       "    line-height: 19px;\n",
       "  }\n",
       "</style>\n",
       "<div class=\"ansiout\"></div>"
      ]
     },
     "metadata": {
      "application/vnd.databricks.v1+output": {
       "addedWidgets": {},
       "arguments": {},
       "data": "<div class=\"ansiout\"></div>",
       "datasetInfos": [],
       "metadata": {},
       "removedWidgets": [],
       "type": "html"
      }
     },
     "output_type": "display_data"
    }
   ],
   "source": [
    "# expolde array as dst\n",
    "edges_1 = data_output.select(F.col(\"username\"), F.explode(F.col('users_in_conversation')).alias('dst')).filter(F.col('n_users_in_conversation') != 0)\n",
    "                   "
   ]
  },
  {
   "cell_type": "code",
   "execution_count": 0,
   "metadata": {
    "application/vnd.databricks.v1+cell": {
     "inputWidgets": {},
     "nuid": "60992838-0e8a-4281-b6b1-60647e3e37aa",
     "showTitle": false,
     "title": ""
    }
   },
   "outputs": [
    {
     "data": {
      "text/html": [
       "<style scoped>\n",
       "  .ansiout {\n",
       "    display: block;\n",
       "    unicode-bidi: embed;\n",
       "    white-space: pre-wrap;\n",
       "    word-wrap: break-word;\n",
       "    word-break: break-all;\n",
       "    font-family: \"Source Code Pro\", \"Menlo\", monospace;;\n",
       "    font-size: 13px;\n",
       "    color: #555;\n",
       "    margin-left: 4px;\n",
       "    line-height: 19px;\n",
       "  }\n",
       "</style>\n",
       "<div class=\"ansiout\"></div>"
      ]
     },
     "metadata": {
      "application/vnd.databricks.v1+output": {
       "addedWidgets": {},
       "arguments": {},
       "data": "<div class=\"ansiout\"></div>",
       "datasetInfos": [],
       "metadata": {},
       "removedWidgets": [],
       "type": "html"
      }
     },
     "output_type": "display_data"
    }
   ],
   "source": [
    "# add new column \"relationship\", rename username as src\n",
    "edges_1 = edges_1.withColumn('relationship', F.lit('repliedBy')).withColumnRenamed(\"username\", \"src\")"
   ]
  },
  {
   "cell_type": "code",
   "execution_count": 0,
   "metadata": {
    "application/vnd.databricks.v1+cell": {
     "inputWidgets": {},
     "nuid": "80e74d87-8cb8-47a6-b6d7-bd30ff3a5096",
     "showTitle": false,
     "title": ""
    }
   },
   "outputs": [
    {
     "data": {
      "text/html": [
       "<style scoped>\n",
       "  .ansiout {\n",
       "    display: block;\n",
       "    unicode-bidi: embed;\n",
       "    white-space: pre-wrap;\n",
       "    word-wrap: break-word;\n",
       "    word-break: break-all;\n",
       "    font-family: \"Source Code Pro\", \"Menlo\", monospace;;\n",
       "    font-size: 13px;\n",
       "    color: #555;\n",
       "    margin-left: 4px;\n",
       "    line-height: 19px;\n",
       "  }\n",
       "</style>\n",
       "<div class=\"ansiout\">Out[7]: 1092180</div>"
      ]
     },
     "metadata": {
      "application/vnd.databricks.v1+output": {
       "addedWidgets": {},
       "arguments": {},
       "data": "<div class=\"ansiout\">Out[7]: 1092180</div>",
       "datasetInfos": [],
       "metadata": {},
       "removedWidgets": [],
       "type": "html"
      }
     },
     "output_type": "display_data"
    }
   ],
   "source": [
    "# the number of edge\n",
    "edges_1.count()"
   ]
  },
  {
   "cell_type": "code",
   "execution_count": 0,
   "metadata": {
    "application/vnd.databricks.v1+cell": {
     "inputWidgets": {},
     "nuid": "9b4d72cb-b1a7-4484-8874-8e65e69b1556",
     "showTitle": false,
     "title": ""
    }
   },
   "outputs": [
    {
     "data": {
      "text/html": [
       "<style scoped>\n",
       "  .ansiout {\n",
       "    display: block;\n",
       "    unicode-bidi: embed;\n",
       "    white-space: pre-wrap;\n",
       "    word-wrap: break-word;\n",
       "    word-break: break-all;\n",
       "    font-family: \"Source Code Pro\", \"Menlo\", monospace;;\n",
       "    font-size: 13px;\n",
       "    color: #555;\n",
       "    margin-left: 4px;\n",
       "    line-height: 19px;\n",
       "  }\n",
       "</style>\n",
       "<div class=\"ansiout\"></div>"
      ]
     },
     "metadata": {
      "application/vnd.databricks.v1+output": {
       "addedWidgets": {},
       "arguments": {},
       "data": "<div class=\"ansiout\"></div>",
       "datasetInfos": [],
       "metadata": {},
       "removedWidgets": [],
       "type": "html"
      }
     },
     "output_type": "display_data"
    }
   ],
   "source": [
    "edges_withWeight = edges_1.groupBy('src','dst').count().withColumnRenamed(\"count\", \"weight\")"
   ]
  },
  {
   "cell_type": "code",
   "execution_count": 0,
   "metadata": {
    "application/vnd.databricks.v1+cell": {
     "inputWidgets": {},
     "nuid": "e874577d-ecac-4a36-9d76-28f8e25842e9",
     "showTitle": false,
     "title": ""
    }
   },
   "outputs": [
    {
     "data": {
      "text/html": [
       "<style scoped>\n",
       "  .ansiout {\n",
       "    display: block;\n",
       "    unicode-bidi: embed;\n",
       "    white-space: pre-wrap;\n",
       "    word-wrap: break-word;\n",
       "    word-break: break-all;\n",
       "    font-family: \"Source Code Pro\", \"Menlo\", monospace;;\n",
       "    font-size: 13px;\n",
       "    color: #555;\n",
       "    margin-left: 4px;\n",
       "    line-height: 19px;\n",
       "  }\n",
       "</style>\n",
       "<div class=\"ansiout\"></div>"
      ]
     },
     "metadata": {
      "application/vnd.databricks.v1+output": {
       "addedWidgets": {},
       "arguments": {},
       "data": "<div class=\"ansiout\"></div>",
       "datasetInfos": [],
       "metadata": {},
       "removedWidgets": [],
       "type": "html"
      }
     },
     "output_type": "display_data"
    }
   ],
   "source": [
    "edges_2 = edges_withWeight.withColumn('relationship', F.lit('repliedBy'))"
   ]
  },
  {
   "cell_type": "code",
   "execution_count": 0,
   "metadata": {
    "application/vnd.databricks.v1+cell": {
     "inputWidgets": {},
     "nuid": "86c70b4c-df43-4ccb-aa74-4a06f6306311",
     "showTitle": false,
     "title": ""
    }
   },
   "outputs": [
    {
     "data": {
      "text/html": [
       "<style scoped>\n",
       "  .ansiout {\n",
       "    display: block;\n",
       "    unicode-bidi: embed;\n",
       "    white-space: pre-wrap;\n",
       "    word-wrap: break-word;\n",
       "    word-break: break-all;\n",
       "    font-family: \"Source Code Pro\", \"Menlo\", monospace;;\n",
       "    font-size: 13px;\n",
       "    color: #555;\n",
       "    margin-left: 4px;\n",
       "    line-height: 19px;\n",
       "  }\n",
       "</style>\n",
       "<div class=\"ansiout\">Out[76]: 190530</div>"
      ]
     },
     "metadata": {
      "application/vnd.databricks.v1+output": {
       "addedWidgets": {},
       "arguments": {},
       "data": "<div class=\"ansiout\">Out[76]: 190530</div>",
       "datasetInfos": [],
       "metadata": {},
       "removedWidgets": [],
       "type": "html"
      }
     },
     "output_type": "display_data"
    }
   ],
   "source": [
    "edges_2.count()"
   ]
  },
  {
   "cell_type": "code",
   "execution_count": 0,
   "metadata": {
    "application/vnd.databricks.v1+cell": {
     "inputWidgets": {},
     "nuid": "1b0d65df-fadc-43af-a3e7-c1920a74ff79",
     "showTitle": false,
     "title": ""
    }
   },
   "outputs": [
    {
     "data": {
      "text/html": [
       "<style scoped>\n",
       "  .ansiout {\n",
       "    display: block;\n",
       "    unicode-bidi: embed;\n",
       "    white-space: pre-wrap;\n",
       "    word-wrap: break-word;\n",
       "    word-break: break-all;\n",
       "    font-family: \"Source Code Pro\", \"Menlo\", monospace;;\n",
       "    font-size: 13px;\n",
       "    color: #555;\n",
       "    margin-left: 4px;\n",
       "    line-height: 19px;\n",
       "  }\n",
       "</style>\n",
       "<div class=\"ansiout\"></div>"
      ]
     },
     "metadata": {
      "application/vnd.databricks.v1+output": {
       "addedWidgets": {},
       "arguments": {},
       "data": "<div class=\"ansiout\"></div>",
       "datasetInfos": [],
       "metadata": {},
       "removedWidgets": [],
       "type": "html"
      }
     },
     "output_type": "display_data"
    }
   ],
   "source": [
    "#create graph\n",
    "network_graph = GraphFrame(vertex, edges_1)"
   ]
  },
  {
   "cell_type": "code",
   "execution_count": 0,
   "metadata": {
    "application/vnd.databricks.v1+cell": {
     "inputWidgets": {},
     "nuid": "6b633bd7-4b09-49db-a6e1-02e19430e8f6",
     "showTitle": false,
     "title": ""
    }
   },
   "outputs": [
    {
     "data": {
      "text/html": [
       "<style scoped>\n",
       "  .table-result-container {\n",
       "    max-height: 300px;\n",
       "    overflow: auto;\n",
       "  }\n",
       "  table, th, td {\n",
       "    border: 1px solid black;\n",
       "    border-collapse: collapse;\n",
       "  }\n",
       "  th, td {\n",
       "    padding: 5px;\n",
       "  }\n",
       "  th {\n",
       "    text-align: left;\n",
       "  }\n",
       "</style><div class='table-result-container'><table class='table-result'><thead style='background-color: white'><tr><th>id</th><th>degree</th></tr></thead><tbody><tr><td>Slammer64</td><td>962</td></tr><tr><td>WhiteMail3678</td><td>21</td></tr><tr><td>LegalLolicon</td><td>336</td></tr><tr><td>bbarian</td><td>154</td></tr><tr><td>BucketHead41391</td><td>91</td></tr><tr><td>CW1</td><td>175</td></tr><tr><td>leadguitar</td><td>154</td></tr><tr><td>greyhat63</td><td>16</td></tr><tr><td>Joshmeister</td><td>209</td></tr><tr><td>GertCornelis</td><td>4</td></tr><tr><td>Hister</td><td>94</td></tr><tr><td>Tuxedojoe</td><td>21</td></tr><tr><td>qoheleth</td><td>129</td></tr><tr><td>GSMenace</td><td>59</td></tr><tr><td>mezzo</td><td>45</td></tr><tr><td>PalmerStoat</td><td>1</td></tr><tr><td>DeanNestor7</td><td>868</td></tr><tr><td>DrEzekiel</td><td>2</td></tr><tr><td>LyaNichol</td><td>1</td></tr><tr><td>ExBladeRunner</td><td>178</td></tr><tr><td>Piddlepuck86</td><td>153</td></tr><tr><td>easher555</td><td>81</td></tr><tr><td>thebigcomic</td><td>2</td></tr><tr><td>Grubama</td><td>212</td></tr><tr><td>OPRM</td><td>14</td></tr><tr><td>pops-clark</td><td>239</td></tr><tr><td>Teh_Landstander</td><td>20</td></tr><tr><td>RealPhantomLibertarian</td><td>8</td></tr><tr><td>PerpetualPierre</td><td>1</td></tr><tr><td>DrFred57</td><td>83</td></tr><tr><td>Millersteve</td><td>1</td></tr><tr><td>PatriotInfidel</td><td>140</td></tr><tr><td>notch</td><td>5</td></tr><tr><td>Zophiel</td><td>93</td></tr><tr><td>andrewcolomy</td><td>1</td></tr><tr><td>LEHCIM</td><td>1</td></tr><tr><td>CurtisPulaski</td><td>8</td></tr><tr><td>OuttaTheBoxMarketing</td><td>19</td></tr><tr><td>Mollytwo</td><td>17</td></tr><tr><td>Soprano</td><td>908</td></tr><tr><td>glassmenagerie</td><td>33</td></tr><tr><td>In2it2ru2</td><td>1</td></tr><tr><td>Sakker</td><td>619</td></tr><tr><td>DeplorableLaughterRx</td><td>652</td></tr><tr><td>ANC46</td><td>24</td></tr><tr><td>MikeJohnson151</td><td>22</td></tr><tr><td>GabrielWest</td><td>847</td></tr><tr><td>Frankie_J</td><td>257</td></tr><tr><td>LucVNO</td><td>79</td></tr><tr><td>piranha</td><td>13</td></tr><tr><td>DocH</td><td>28</td></tr><tr><td>Username99</td><td>13</td></tr><tr><td>Auminer</td><td>2</td></tr><tr><td>GoofyGrape</td><td>2</td></tr><tr><td>itchy8me</td><td>182</td></tr><tr><td>omEon</td><td>16</td></tr><tr><td>one-eyed-fat-man</td><td>7</td></tr><tr><td>Drt4kidz</td><td>1</td></tr><tr><td>Lasry</td><td>3</td></tr><tr><td>Dachux</td><td>46</td></tr><tr><td>freetexas2</td><td>1</td></tr><tr><td>Busterizer</td><td>4</td></tr><tr><td>Birdy</td><td>714</td></tr><tr><td>ForBritain</td><td>32</td></tr><tr><td>TheRealDonaldTrump45</td><td>38913</td></tr><tr><td>Jami_USA</td><td>4344</td></tr><tr><td>LynneMarie</td><td>7</td></tr><tr><td>NewYorkerParody</td><td>4</td></tr><tr><td>science</td><td>21</td></tr><tr><td>zyalia6tz</td><td>260</td></tr><tr><td>DE-Nazi-AKA-DA-Troll</td><td>476</td></tr><tr><td>nubiangod</td><td>481</td></tr><tr><td>shuhari</td><td>3760</td></tr><tr><td>Rocrates</td><td>154</td></tr><tr><td>Orthodox</td><td>589</td></tr><tr><td>gconyers</td><td>7</td></tr><tr><td>MelMax</td><td>20</td></tr><tr><td>Lockerius</td><td>58</td></tr><tr><td>ROYALMRBADNEWS</td><td>8</td></tr><tr><td>Anonintel</td><td>172</td></tr><tr><td>AzWarrior</td><td>12</td></tr><tr><td>DictatorsNephew</td><td>10</td></tr><tr><td>libbylibbylibby</td><td>1</td></tr><tr><td>ThoughtCriminal303</td><td>13</td></tr><tr><td>StormyBird</td><td>2</td></tr><tr><td>Richard5159</td><td>1</td></tr><tr><td>Ramer2008</td><td>1</td></tr><tr><td>JamesDay</td><td>47</td></tr><tr><td>Deformed</td><td>328</td></tr><tr><td>MartaVonRunge</td><td>17</td></tr><tr><td>American1765</td><td>29</td></tr><tr><td>Archive_News</td><td>372</td></tr><tr><td>Solidsnake</td><td>108</td></tr><tr><td>JordanChristopher</td><td>148</td></tr><tr><td>Margi59</td><td>274</td></tr><tr><td>JAMONSQUIRE</td><td>3</td></tr><tr><td>mbhpower</td><td>2</td></tr><tr><td>InfoWarrior</td><td>45</td></tr><tr><td>nonibaby</td><td>1</td></tr><tr><td>Homunizam</td><td>131</td></tr><tr><td>Poletical</td><td>7</td></tr><tr><td>BLMTerrorist</td><td>26</td></tr><tr><td>HEISENBURG</td><td>20</td></tr><tr><td>LimticArt</td><td>6</td></tr><tr><td>badger1970</td><td>1</td></tr><tr><td>VastAwakening</td><td>34</td></tr><tr><td>PeaceNotWar</td><td>34</td></tr><tr><td>Gravelrash</td><td>6</td></tr><tr><td>Ponderouschain</td><td>23</td></tr><tr><td>acynecin</td><td>2</td></tr><tr><td>shitlording</td><td>690</td></tr><tr><td>BrianSombrets</td><td>483</td></tr><tr><td>spotify</td><td>563</td></tr><tr><td>KittenFur</td><td>1</td></tr><tr><td>a</td><td>1312</td></tr><tr><td>linguistic_killshot</td><td>4774</td></tr><tr><td>2ndlook1</td><td>125</td></tr><tr><td>CarolynEmerick</td><td>111</td></tr><tr><td>Nette66</td><td>6</td></tr><tr><td>James_K_Glass</td><td>434</td></tr><tr><td>BowenBazaar</td><td>7</td></tr><tr><td>LampshadeTechnician</td><td>1</td></tr><tr><td>AnnieM</td><td>3</td></tr><tr><td>WinyanStazWakien</td><td>6</td></tr><tr><td>FeralBlonde</td><td>53</td></tr><tr><td>GlobalistStatist</td><td>52</td></tr><tr><td>Grandgiant311</td><td>4</td></tr><tr><td>BOBOFkake</td><td>2148</td></tr><tr><td>Americanproud</td><td>140</td></tr><tr><td>benito-camesta</td><td>635</td></tr><tr><td>TomKawczynski</td><td>411</td></tr><tr><td>EPluribusUnum2020</td><td>19</td></tr><tr><td>UncleVeracity</td><td>96</td></tr><tr><td>Johnyrebb</td><td>3309</td></tr><tr><td>GarethTheTerrible</td><td>5</td></tr><tr><td>Ttiot</td><td>1</td></tr><tr><td>jeanicebarcelo</td><td>17</td></tr><tr><td>thermaltwitch</td><td>2</td></tr><tr><td>darthstryfe</td><td>4</td></tr><tr><td>mikemoore</td><td>100</td></tr><tr><td>JohnGalt1961</td><td>9</td></tr><tr><td>dub</td><td>28</td></tr><tr><td>Skyfly</td><td>16</td></tr><tr><td>Jack_Mehoff</td><td>136</td></tr><tr><td>EvanTanner</td><td>49</td></tr><tr><td>TheBaldChick</td><td>104</td></tr><tr><td>TMGIJane</td><td>17</td></tr><tr><td>RealMikePannone</td><td>15</td></tr><tr><td>Foosa</td><td>5</td></tr><tr><td>Duckhunter1960</td><td>33</td></tr><tr><td>BASED_KRYSTIAN</td><td>2</td></tr><tr><td>missourymule</td><td>1</td></tr><tr><td>DaleyGator</td><td>3</td></tr><tr><td>Nightmouse</td><td>963</td></tr><tr><td>Santa401</td><td>641</td></tr><tr><td>phoenixTPR</td><td>1681</td></tr><tr><td>joZef</td><td>161</td></tr><tr><td>Helpsnotontheway</td><td>2248</td></tr><tr><td>JamYouMonkey</td><td>7</td></tr><tr><td>jael</td><td>64</td></tr><tr><td>aukai</td><td>4</td></tr><tr><td>tommyminyard1027</td><td>10</td></tr><tr><td>Trumpetpro</td><td>153</td></tr><tr><td>Eclipsebrk</td><td>32</td></tr><tr><td>PaleHorse</td><td>31</td></tr><tr><td>Sparks1017</td><td>61</td></tr><tr><td>Braulz</td><td>43</td></tr><tr><td>Hajiklr</td><td>142</td></tr><tr><td>AKCarrillo</td><td>47</td></tr><tr><td>getyerfreedom</td><td>4</td></tr><tr><td>kiwikek</td><td>21</td></tr><tr><td>EdgeOfDank</td><td>1</td></tr><tr><td>Nohorse</td><td>1</td></tr><tr><td>WetCunt</td><td>47</td></tr><tr><td>Pjackson6688</td><td>36</td></tr><tr><td>JohnnyF</td><td>20</td></tr><tr><td>Artco77</td><td>2</td></tr><tr><td>scottyboy77</td><td>1</td></tr><tr><td>ActivePooter</td><td>7</td></tr><tr><td>cycles13</td><td>1</td></tr><tr><td>TheKeys</td><td>8</td></tr><tr><td>JacoSalad</td><td>2</td></tr><tr><td>libertyfarmsiowa</td><td>1795</td></tr><tr><td>HocEstBellum</td><td>1582</td></tr><tr><td>Grames_Barnaby</td><td>1</td></tr><tr><td>ihatematt</td><td>87</td></tr><tr><td>USA_Aquanaut</td><td>3</td></tr><tr><td>RickyBobbySez</td><td>930</td></tr><tr><td>chrisplustina96</td><td>10</td></tr><tr><td>Occidental_Spirit</td><td>53</td></tr><tr><td>Freeanddivided</td><td>22</td></tr><tr><td>IthePerson</td><td>110</td></tr><tr><td>Lilangel</td><td>156</td></tr><tr><td>FeInFL</td><td>161</td></tr><tr><td>currentyear</td><td>90</td></tr><tr><td>The_Grey_Man</td><td>2</td></tr><tr><td>AprioriHitman</td><td>15</td></tr><tr><td>PoliteSupremacist</td><td>485</td></tr><tr><td>ZippyXavier</td><td>30</td></tr><tr><td>bmar999</td><td>10</td></tr><tr><td>DaFaking1</td><td>499</td></tr><tr><td>cadev</td><td>9</td></tr><tr><td>Majortruther</td><td>5</td></tr><tr><td>Shadows8</td><td>1</td></tr><tr><td>AvengerK97</td><td>4</td></tr><tr><td>RealWednesdayy</td><td>85</td></tr><tr><td>HighDutchman</td><td>1</td></tr><tr><td>PBelle547</td><td>2</td></tr><tr><td>toddwieland</td><td>7753</td></tr><tr><td>Rikistik</td><td>180</td></tr><tr><td>pauljosephwatson</td><td>42</td></tr><tr><td>MarkT4USA</td><td>40</td></tr><tr><td>PearlyMay</td><td>11</td></tr><tr><td>Ann-Marie</td><td>520</td></tr><tr><td>Kennys</td><td>30</td></tr><tr><td>beretta22</td><td>12</td></tr><tr><td>goodman</td><td>471</td></tr><tr><td>MichelleTeller</td><td>20</td></tr><tr><td>Sunshine2016</td><td>20</td></tr><tr><td>TheConservateam</td><td>77</td></tr><tr><td>memedeluxe</td><td>4</td></tr><tr><td>rexjonas</td><td>1</td></tr><tr><td>Gypsy124</td><td>56</td></tr><tr><td>BoondockSaint</td><td>6</td></tr><tr><td>InfiniteJester</td><td>23</td></tr><tr><td>BrotherLarry</td><td>183</td></tr><tr><td>alaskadaughter</td><td>2</td></tr><tr><td>Guner</td><td>6</td></tr><tr><td>BOCCAVERITA</td><td>23</td></tr><tr><td>HoJo3</td><td>1</td></tr><tr><td>ConstitutionBillofRights</td><td>52</td></tr><tr><td>Farrier1959</td><td>17</td></tr><tr><td>xfasciXitalianix</td><td>3</td></tr><tr><td>DaleEvans</td><td>1670</td></tr><tr><td>TraderJo</td><td>11</td></tr><tr><td>HuHenHarr</td><td>1142</td></tr><tr><td>Travis_Hawks</td><td>153</td></tr><tr><td>YLorenzo</td><td>770</td></tr><tr><td>DianaPrintz</td><td>26</td></tr><tr><td>HERALDofYAH</td><td>1370</td></tr><tr><td>LoisRogers</td><td>316</td></tr><tr><td>wondering04</td><td>13</td></tr><tr><td>fgrump</td><td>55</td></tr><tr><td>Hamamolnij</td><td>1</td></tr><tr><td>chispas9</td><td>3</td></tr><tr><td>Catholic_Knight</td><td>1</td></tr><tr><td>antediluvian</td><td>19</td></tr><tr><td>CollinLorenzo</td><td>2</td></tr><tr><td>MadMadamMim</td><td>53</td></tr><tr><td>OcarinaJones</td><td>8</td></tr><tr><td>RollandJames</td><td>10</td></tr><tr><td>ChainsawAlarmclock</td><td>3</td></tr><tr><td>johannamin</td><td>5</td></tr><tr><td>WeWantGunControl</td><td>332</td></tr><tr><td>lukeobrien</td><td>74</td></tr><tr><td>ZWY</td><td>231</td></tr><tr><td>bluetrilobite</td><td>7</td></tr><tr><td>LRichardson</td><td>5</td></tr><tr><td>Livid</td><td>64</td></tr><tr><td>MemorialRifleRange</td><td>667</td></tr><tr><td>bogthing</td><td>277</td></tr><tr><td>Breakfast_Imam</td><td>79</td></tr><tr><td>Aragorn</td><td>2049</td></tr><tr><td>Phil4Truth</td><td>16</td></tr><tr><td>Pompolitone</td><td>96</td></tr><tr><td>hatredshmatred</td><td>67</td></tr><tr><td>csgulyas</td><td>75</td></tr><tr><td>Isaac</td><td>6</td></tr><tr><td>refield</td><td>3</td></tr><tr><td>sourmanconserve</td><td>12</td></tr><tr><td>jaleal</td><td>1</td></tr><tr><td>Aryanwarlordsparta</td><td>1</td></tr><tr><td>WastedShark</td><td>7</td></tr><tr><td>Guitarbill</td><td>58</td></tr><tr><td>Cassini</td><td>12</td></tr><tr><td>EvilMann</td><td>19</td></tr><tr><td>DarkTriadMan</td><td>97</td></tr><tr><td>Cornervizion</td><td>8</td></tr><tr><td>JudsonPhillips</td><td>2</td></tr><tr><td>gargantualis</td><td>2</td></tr><tr><td>battleaxebill</td><td>539</td></tr><tr><td>Miniluv</td><td>1</td></tr><tr><td>jattaya</td><td>1</td></tr><tr><td>HansGurnade</td><td>156</td></tr><tr><td>altsociology</td><td>12</td></tr><tr><td>MarkMontag</td><td>1</td></tr><tr><td>NEETSOCMGTOWOTAKU</td><td>8</td></tr><tr><td>FascistTwitter</td><td>38</td></tr><tr><td>jprexena</td><td>1797</td></tr><tr><td>Mdonato48</td><td>174</td></tr><tr><td>CitySlickerTony</td><td>151</td></tr><tr><td>Conansdog</td><td>1882</td></tr><tr><td>Richard1972</td><td>154</td></tr><tr><td>Robertgilmaney</td><td>25</td></tr><tr><td>Hettman</td><td>405</td></tr><tr><td>RadCharlie</td><td>54</td></tr><tr><td>Number-Six</td><td>194</td></tr><tr><td>steveruns26</td><td>473</td></tr><tr><td>OneStonedCrow</td><td>16</td></tr><tr><td>wishgranter14</td><td>274</td></tr><tr><td>nuidat1611</td><td>74</td></tr><tr><td>docrampage</td><td>65</td></tr><tr><td>pepesilvia1</td><td>3</td></tr><tr><td>lestermacgurdy</td><td>93</td></tr><tr><td>CarnalMormon</td><td>715</td></tr><tr><td>Thomason</td><td>11</td></tr><tr><td>blat1982</td><td>88</td></tr><tr><td>PeaceAndJobs1</td><td>57</td></tr><tr><td>softwarnet</td><td>80</td></tr><tr><td>WildColonialBoy</td><td>5</td></tr><tr><td>ShowMeDontTellMe</td><td>49</td></tr><tr><td>PA_01</td><td>31</td></tr><tr><td>WilhelmVonJudengas</td><td>350</td></tr><tr><td>MuzzaChunka</td><td>14</td></tr><tr><td>_M</td><td>40</td></tr><tr><td>Freedomfighter1776</td><td>6</td></tr><tr><td>StormRanger</td><td>6</td></tr><tr><td>Boatswain1</td><td>6</td></tr><tr><td>JAQUEBAUER</td><td>23</td></tr><tr><td>ann-molly</td><td>10</td></tr><tr><td>Renegado</td><td>56</td></tr><tr><td>Arketex</td><td>33</td></tr><tr><td>moot0ne</td><td>4</td></tr><tr><td>allnaturestuff</td><td>2</td></tr><tr><td>Ryan2238</td><td>9</td></tr><tr><td>JakeHamel</td><td>234</td></tr><tr><td>MatthewMontoya</td><td>149</td></tr><tr><td>ColdBeer</td><td>3076</td></tr><tr><td>Nospin_43</td><td>78</td></tr><tr><td>alburgett</td><td>9</td></tr><tr><td>I_Am_Sand_X</td><td>14</td></tr><tr><td>MaouTsaou</td><td>347</td></tr><tr><td>Pat5zero</td><td>149</td></tr><tr><td>Aldaramira</td><td>256</td></tr><tr><td>hydro532</td><td>8</td></tr><tr><td>BrenanW</td><td>8</td></tr><tr><td>TheWardCleaverExperience</td><td>13</td></tr><tr><td>Lobo56</td><td>2</td></tr><tr><td>Spnn2372</td><td>231</td></tr><tr><td>chemx</td><td>231</td></tr><tr><td>Nemesis</td><td>3</td></tr><tr><td>atypeofflower</td><td>1</td></tr><tr><td>magnus14</td><td>1</td></tr><tr><td>kharyp</td><td>1</td></tr><tr><td>BranBran</td><td>1</td></tr><tr><td>ElectronNeutrino</td><td>45</td></tr><tr><td>worldatsix</td><td>10</td></tr><tr><td>Elbi</td><td>53</td></tr><tr><td>CleansedByJC</td><td>75</td></tr><tr><td>Alejandrodude13</td><td>643</td></tr><tr><td>JeanEBraveaux</td><td>5732</td></tr><tr><td>Sbmullin</td><td>4</td></tr><tr><td>Pensive_Daddy</td><td>453</td></tr><tr><td>drcogent</td><td>192</td></tr><tr><td>Cybergal55</td><td>68</td></tr><tr><td>WinterSoldier</td><td>62</td></tr><tr><td>Conservative15YrOld</td><td>2</td></tr><tr><td>CertYuJest</td><td>1</td></tr><tr><td>ClericPreston3</td><td>93</td></tr><tr><td>cat_lady_of_doom</td><td>127</td></tr><tr><td>joeyquestioner</td><td>56</td></tr><tr><td>Scarasha</td><td>122</td></tr><tr><td>jyonko</td><td>9</td></tr><tr><td>EllaCruz</td><td>16</td></tr><tr><td>bombbelt</td><td>15</td></tr><tr><td>Wuotan</td><td>1</td></tr><tr><td>Visigothic</td><td>7</td></tr><tr><td>Reerso</td><td>3</td></tr><tr><td>Mad_march</td><td>14</td></tr><tr><td>kdtfin</td><td>50</td></tr><tr><td>shannonhorn</td><td>5</td></tr><tr><td>nemesis777</td><td>6</td></tr><tr><td>danigirld1</td><td>1</td></tr><tr><td>davepeckjr</td><td>1</td></tr><tr><td>Triza</td><td>2</td></tr><tr><td>rpp618</td><td>28</td></tr><tr><td>Aussieredneck</td><td>244</td></tr><tr><td>Snare</td><td>4</td></tr><tr><td>gunconfiscation</td><td>20</td></tr><tr><td>noworldorder</td><td>4</td></tr><tr><td>rebel4life</td><td>2297</td></tr><tr><td>Trinacria</td><td>1507</td></tr><tr><td>Ruth-Plant</td><td>1057</td></tr><tr><td>justicephil</td><td>87</td></tr><tr><td>Agilis_Libertas</td><td>630</td></tr><tr><td>AuntieJules</td><td>124</td></tr><tr><td>Califly</td><td>1</td></tr><tr><td>emuelle1</td><td>126</td></tr><tr><td>Tokaise</td><td>17</td></tr><tr><td>skyladawn</td><td>40</td></tr><tr><td>game0nn</td><td>2</td></tr><tr><td>eBiblicalTruth</td><td>162</td></tr><tr><td>iagos</td><td>437</td></tr><tr><td>OzMAGA</td><td>383</td></tr><tr><td>CrazySadie</td><td>16</td></tr><tr><td>JosephScarafone</td><td>4</td></tr><tr><td>Hippiemamagypsylove</td><td>89</td></tr><tr><td>Obamascokedealer</td><td>8</td></tr><tr><td>WND</td><td>72</td></tr><tr><td>SNAFU</td><td>40</td></tr><tr><td>MauHau</td><td>6</td></tr><tr><td>JimDurfee</td><td>31</td></tr><tr><td>Spotted_Lady</td><td>16</td></tr><tr><td>Marginalized</td><td>58</td></tr><tr><td>Geraldad</td><td>29</td></tr><tr><td>Gatorhunting</td><td>412</td></tr><tr><td>Unicornsaregreat</td><td>25</td></tr><tr><td>TigerLily7</td><td>3</td></tr><tr><td>machciv</td><td>207</td></tr><tr><td>KratosonGab</td><td>12</td></tr><tr><td>Stahove1</td><td>78</td></tr><tr><td>Dawingman</td><td>142</td></tr><tr><td>thesentinel</td><td>41</td></tr><tr><td>rickybird</td><td>140</td></tr><tr><td>HollySet128</td><td>97</td></tr><tr><td>Tangential</td><td>30</td></tr><tr><td>KassandraTroy</td><td>25</td></tr><tr><td>jimaw63</td><td>7</td></tr><tr><td>Revolelbuod</td><td>12</td></tr><tr><td>thegoldwater</td><td>57</td></tr><tr><td>triple_red</td><td>50</td></tr><tr><td>RealKellinSheets</td><td>27</td></tr><tr><td>amostol</td><td>4</td></tr><tr><td>LionsOmega</td><td>12</td></tr><tr><td>Thirteen</td><td>170</td></tr><tr><td>WesZ28</td><td>102</td></tr><tr><td>YouKnwNthgJonSnow</td><td>1</td></tr><tr><td>mbg</td><td>1</td></tr><tr><td>Harmonica</td><td>53</td></tr><tr><td>inwarse</td><td>17</td></tr><tr><td>HappyHubby</td><td>27</td></tr><tr><td>montemomma</td><td>2</td></tr><tr><td>Sundancerij</td><td>3</td></tr><tr><td>Tom4Freedom</td><td>153</td></tr><tr><td>ButchDeadlift</td><td>21</td></tr><tr><td>ElConquistador</td><td>2</td></tr><tr><td>bunkerbill</td><td>19</td></tr><tr><td>yes_im_a_racist</td><td>22</td></tr><tr><td>PCsReasy</td><td>210</td></tr><tr><td>cvilatam</td><td>47</td></tr><tr><td>Dalcon</td><td>129</td></tr><tr><td>LogicSword</td><td>8</td></tr><tr><td>drom_techmarine</td><td>3975</td></tr><tr><td>AubreyLaVentana</td><td>78</td></tr><tr><td>cincinchili</td><td>191</td></tr><tr><td>Modem</td><td>244</td></tr><tr><td>Makmorn</td><td>79</td></tr><tr><td>Lucrative75</td><td>44</td></tr><tr><td>conservitiveman1</td><td>2</td></tr><tr><td>Curtisl13</td><td>9</td></tr><tr><td>meh6000000</td><td>114</td></tr><tr><td>_matt_</td><td>35</td></tr><tr><td>Walrus1</td><td>27</td></tr><tr><td>Knuts</td><td>1</td></tr><tr><td>gnomeland</td><td>23</td></tr><tr><td>viktor_deplorban</td><td>77</td></tr><tr><td>LaymanGrey</td><td>30</td></tr><tr><td>OctagonalMoon</td><td>2</td></tr><tr><td>tedmont</td><td>223</td></tr><tr><td>SoaringNow</td><td>787</td></tr><tr><td>Goose_Farquit</td><td>9</td></tr><tr><td>Cyrano</td><td>125</td></tr><tr><td>FreeAgent355</td><td>387</td></tr><tr><td>lmguerra74</td><td>79</td></tr><tr><td>Mefairgolf</td><td>271</td></tr><tr><td>hillbilly1488</td><td>715</td></tr><tr><td>masonrygeek</td><td>1</td></tr><tr><td>opposition_X</td><td>1485</td></tr><tr><td>Marijan</td><td>194</td></tr><tr><td>Mpars</td><td>409</td></tr><tr><td>Cobalt-Blue</td><td>17</td></tr><tr><td>ElDerecho</td><td>137</td></tr><tr><td>Gritsngravy</td><td>60</td></tr><tr><td>D3M0_Anon</td><td>8</td></tr><tr><td>1RonnieD</td><td>1</td></tr><tr><td>Bytes</td><td>38</td></tr><tr><td>SweetLiberties</td><td>16</td></tr><tr><td>MutluUm4711</td><td>1</td></tr><tr><td>GOATSLIVESMATTER</td><td>6</td></tr><tr><td>dawntoo</td><td>7</td></tr><tr><td>PSR04</td><td>7</td></tr><tr><td>GidgetG</td><td>93</td></tr><tr><td>ddpaulbell</td><td>103</td></tr><tr><td>GaiusMariusTitus117</td><td>8</td></tr><tr><td>Impresaria</td><td>264</td></tr><tr><td>Miri1967</td><td>2</td></tr><tr><td>ChadLilly</td><td>2963</td></tr><tr><td>Cutenerd99</td><td>1</td></tr><tr><td>JA37</td><td>1714</td></tr><tr><td>Jim32</td><td>1</td></tr><tr><td>Kikibittner</td><td>170</td></tr><tr><td>BlueScarlett</td><td>28</td></tr><tr><td>SCOWLER</td><td>780</td></tr><tr><td>IloveDonaldTrump</td><td>9</td></tr><tr><td>Engir</td><td>3582</td></tr><tr><td>deSteel</td><td>7</td></tr><tr><td>Timo1983</td><td>13</td></tr><tr><td>EastCountyDave</td><td>3</td></tr><tr><td>Brattz</td><td>5</td></tr><tr><td>RWITGuy</td><td>24</td></tr><tr><td>DavidFerrie</td><td>163</td></tr><tr><td>SiobhanFlanagan</td><td>3</td></tr><tr><td>Holdonamo</td><td>91</td></tr><tr><td>BigFatDaddy</td><td>121</td></tr><tr><td>Stoolsample</td><td>6</td></tr><tr><td>FlibirtyGibbet</td><td>2</td></tr><tr><td>Leopoindexter</td><td>13</td></tr><tr><td>citygirluvspa2</td><td>12</td></tr><tr><td>ufkev</td><td>713</td></tr><tr><td>HabuQueen</td><td>474</td></tr><tr><td>VotingFemale</td><td>1518</td></tr><tr><td>kenmac</td><td>1098</td></tr><tr><td>grego</td><td>69</td></tr><tr><td>LegendaryCollektor</td><td>9726</td></tr><tr><td>_AR14_</td><td>39</td></tr><tr><td>GTKRWN</td><td>5297</td></tr><tr><td>Igroki</td><td>239</td></tr><tr><td>FLYNNL1VE5</td><td>31</td></tr><tr><td>Sitnikoff</td><td>71</td></tr><tr><td>redbeardthefurious</td><td>1</td></tr><tr><td>jcinchrist</td><td>1</td></tr><tr><td>igotatan4U</td><td>1580</td></tr><tr><td>Paraliegance</td><td>1737</td></tr><tr><td>Tony100</td><td>501</td></tr><tr><td>itsmePPZ7H</td><td>60</td></tr><tr><td>GnonCompliant</td><td>1331</td></tr><tr><td>Charmander</td><td>357</td></tr><tr><td>Blockaderunner</td><td>120</td></tr><tr><td>GruntFreePress</td><td>9</td></tr><tr><td>RealFreeSpeech</td><td>72</td></tr><tr><td>cgsurf61</td><td>2</td></tr><tr><td>DesertRat</td><td>10</td></tr><tr><td>VincenzoBrooks</td><td>69</td></tr><tr><td>PeckerRight</td><td>1</td></tr><tr><td>NicoleSoMajor</td><td>4</td></tr><tr><td>Techman0</td><td>11</td></tr><tr><td>Noki_the_Fox</td><td>29</td></tr><tr><td>JacobinPanda</td><td>63</td></tr><tr><td>Logan5</td><td>2</td></tr><tr><td>LincolnsRock</td><td>8</td></tr><tr><td>KTH</td><td>325</td></tr><tr><td>RPG88</td><td>1078</td></tr><tr><td>DeplorableSurfer</td><td>196</td></tr><tr><td>_watchdog_</td><td>58</td></tr><tr><td>siciliangal</td><td>23</td></tr><tr><td>kleinemaus</td><td>33</td></tr><tr><td>DomAfonsoHenriques</td><td>30</td></tr><tr><td>Iridescentfilm</td><td>1</td></tr><tr><td>HateNiggers</td><td>75</td></tr><tr><td>eRedEye</td><td>492</td></tr><tr><td>zharbird</td><td>5</td></tr><tr><td>JohnN</td><td>5</td></tr><tr><td>Sherry</td><td>133</td></tr><tr><td>LocKirup</td><td>7</td></tr><tr><td>ybfishel</td><td>14</td></tr><tr><td>FireFightingCub</td><td>205</td></tr><tr><td>Anubiss</td><td>56</td></tr><tr><td>Brasser</td><td>58</td></tr><tr><td>Just_kill_me_already</td><td>4</td></tr><tr><td>GregoryGarrett</td><td>1</td></tr><tr><td>Christians</td><td>20</td></tr><tr><td>ArayanZ</td><td>18</td></tr><tr><td>CountryOfMOAB</td><td>5</td></tr><tr><td>BeeBear</td><td>44</td></tr><tr><td>HistoryInABottle</td><td>2</td></tr><tr><td>worsethanHitler</td><td>29</td></tr><tr><td>TheLoneWolf</td><td>13</td></tr><tr><td>sushiqk</td><td>61</td></tr><tr><td>Fr0ggy</td><td>8</td></tr><tr><td>PlatoSays</td><td>6</td></tr><tr><td>JohnWBur</td><td>109</td></tr><tr><td>as400guy05</td><td>6</td></tr><tr><td>IsaacSmithUSA</td><td>14</td></tr><tr><td>Micah13</td><td>1</td></tr><tr><td>SpeakerOfTurth</td><td>57</td></tr><tr><td>bbeeaann</td><td>43047</td></tr><tr><td>whiskey</td><td>173</td></tr><tr><td>TheForestFromTheTrees</td><td>10148</td></tr><tr><td>hunbun</td><td>987</td></tr><tr><td>FedraFarmer</td><td>2244</td></tr><tr><td>LexiconJewel</td><td>205</td></tr><tr><td>Mountaineer1</td><td>776</td></tr><tr><td>WhiteDate</td><td>12</td></tr><tr><td>Martjd1001</td><td>7</td></tr><tr><td>Badgerrr</td><td>4</td></tr><tr><td>ShareblueMedia</td><td>343</td></tr><tr><td>WandS</td><td>29</td></tr><tr><td>TheCanuckSailor</td><td>16</td></tr><tr><td>Runsondiesel</td><td>70</td></tr><tr><td>JimmyB2002</td><td>1</td></tr><tr><td>DonTempleton</td><td>90</td></tr><tr><td>DeplorableJNIC</td><td>2</td></tr><tr><td>6bird4</td><td>155</td></tr><tr><td>etnmamacyw</td><td>55</td></tr><tr><td>weaponizedautismbux</td><td>7</td></tr><tr><td>NotCaptainAmerica</td><td>24</td></tr><tr><td>dfu0</td><td>286</td></tr><tr><td>Mrs_Urgent_Fury</td><td>2</td></tr><tr><td>WhiteMansBible</td><td>2813</td></tr><tr><td>JTGIIIpercent</td><td>123</td></tr><tr><td>BladeoftheSword</td><td>62</td></tr><tr><td>GrGrandmaFoster</td><td>1395</td></tr><tr><td>FlyingFrog</td><td>24</td></tr><tr><td>HelloMurica</td><td>702</td></tr><tr><td>James_Dixon</td><td>476</td></tr><tr><td>bosunj</td><td>383</td></tr><tr><td>Casper_</td><td>710</td></tr><tr><td>Hawkster</td><td>1</td></tr><tr><td>KARTOSHKA</td><td>40</td></tr><tr><td>BFA</td><td>12</td></tr><tr><td>SamaelVrai</td><td>199</td></tr><tr><td>StuartOswald</td><td>35</td></tr><tr><td>eoptions</td><td>4</td></tr><tr><td>Observation</td><td>2</td></tr><tr><td>Ajohnright15</td><td>244</td></tr><tr><td>Pyles</td><td>3</td></tr><tr><td>Burn_Bag</td><td>2</td></tr><tr><td>BeauRyker</td><td>9</td></tr><tr><td>DonarVonMidgard</td><td>360</td></tr><tr><td>NickGandalfi</td><td>20</td></tr><tr><td>estranged2000</td><td>4</td></tr><tr><td>2_Held</td><td>6</td></tr><tr><td>novske</td><td>6</td></tr><tr><td>OllieTwist</td><td>4</td></tr><tr><td>Griffon_09</td><td>36</td></tr><tr><td>mytqin8</td><td>34</td></tr><tr><td>Lucy_Cannon</td><td>7</td></tr><tr><td>CivilstockOz</td><td>47</td></tr><tr><td>Travelingman</td><td>127</td></tr><tr><td>WrenchRatt</td><td>63</td></tr><tr><td>VortexQ</td><td>89</td></tr><tr><td>wirelessguru1</td><td>1962</td></tr><tr><td>cremaster</td><td>2</td></tr><tr><td>StephenClayMcGehee</td><td>1055</td></tr><tr><td>Adaptive</td><td>216</td></tr><tr><td>occdissent</td><td>616</td></tr><tr><td>Awesome_Trump</td><td>65</td></tr><tr><td>Banshee</td><td>562</td></tr><tr><td>PMFarmer</td><td>366</td></tr><tr><td>NoBS4U</td><td>320</td></tr><tr><td>RichardParker</td><td>7</td></tr><tr><td>RHubsted</td><td>212</td></tr><tr><td>Gab-Chan</td><td>155</td></tr><tr><td>AutomatonOf</td><td>6</td></tr><tr><td>BernieT</td><td>35</td></tr><tr><td>drowningindejavu</td><td>2</td></tr><tr><td>Mistierain</td><td>1</td></tr><tr><td>LexiKEKographer</td><td>3</td></tr><tr><td>dancercasey</td><td>13</td></tr><tr><td>RightSmarts</td><td>16</td></tr><tr><td>joesch1999</td><td>433</td></tr><tr><td>Mitchell_in_Motion</td><td>31</td></tr><tr><td>Tomofthenight</td><td>7</td></tr><tr><td>TyroneBNiggmanPhD</td><td>122</td></tr><tr><td>EdisonJones</td><td>41</td></tr><tr><td>TheImplicitGuardsmen</td><td>10</td></tr><tr><td>Deplorable_Arthur</td><td>1</td></tr><tr><td>DaddyCrabCakes</td><td>3473</td></tr><tr><td>KPrestonT2</td><td>747</td></tr><tr><td>SLCBagpiper</td><td>612</td></tr><tr><td>bbfohio</td><td>376</td></tr><tr><td>Republicat</td><td>164</td></tr><tr><td>Autumnal_Chrysalism</td><td>23</td></tr><tr><td>TheNumenorean</td><td>286</td></tr><tr><td>IAWTP</td><td>187</td></tr><tr><td>BSODmyself</td><td>122</td></tr><tr><td>greathuwhiteshark</td><td>52</td></tr><tr><td>Ace01</td><td>3</td></tr><tr><td>HWONDER</td><td>2</td></tr><tr><td>SmileyKnuckles</td><td>1</td></tr><tr><td>AMW</td><td>20</td></tr><tr><td>Seven67</td><td>30</td></tr><tr><td>oo00oo</td><td>60</td></tr><tr><td>TheLibertyDiva</td><td>4</td></tr><tr><td>alcardfan</td><td>4</td></tr><tr><td>ilostabet</td><td>15</td></tr><tr><td>RudeTemplar</td><td>19</td></tr><tr><td>d74g0n</td><td>5</td></tr><tr><td>rogerlocke</td><td>287</td></tr><tr><td>WilliamHenwood</td><td>842</td></tr><tr><td>Larryn757</td><td>1</td></tr><tr><td>kevinmckenzie</td><td>342</td></tr><tr><td>lmerchant</td><td>10</td></tr><tr><td>DownwithOPP312</td><td>19</td></tr><tr><td>gdavispa</td><td>37</td></tr><tr><td>angryroc456</td><td>15</td></tr><tr><td>drenee</td><td>5</td></tr><tr><td>Lyngfisken</td><td>2</td></tr><tr><td>PrettyPrinter</td><td>98</td></tr><tr><td>mothersmurfer</td><td>16</td></tr><tr><td>pepeescobar69x</td><td>1</td></tr><tr><td>Arculfe</td><td>178</td></tr><tr><td>lonegunman65</td><td>77</td></tr><tr><td>graceman33</td><td>132</td></tr><tr><td>goygenocide</td><td>31</td></tr><tr><td>airukraine</td><td>36</td></tr><tr><td>RamblingTroll</td><td>8</td></tr><tr><td>EEJinLV</td><td>46</td></tr><tr><td>andilinks</td><td>19</td></tr><tr><td>CTylerFL</td><td>7</td></tr><tr><td>Lpeach4peace</td><td>2</td></tr><tr><td>benjibuckles</td><td>10</td></tr><tr><td>Lightningscool</td><td>4</td></tr><tr><td>Shiftxp</td><td>15</td></tr><tr><td>Whiteknight1488</td><td>3785</td></tr><tr><td>StevenKeaton</td><td>417</td></tr><tr><td>Unenrolled</td><td>486</td></tr><tr><td>Bmacfucklibtars</td><td>2091</td></tr><tr><td>Brendyrose</td><td>8</td></tr><tr><td>ThatConfused1</td><td>1489</td></tr><tr><td>Chany</td><td>2</td></tr><tr><td>jljarvis</td><td>1006</td></tr><tr><td>mimi4</td><td>1</td></tr><tr><td>djw</td><td>23</td></tr><tr><td>OccamsEpilady</td><td>31829</td></tr><tr><td>TheDeadmanRules</td><td>23</td></tr><tr><td>JudgmentDay</td><td>106</td></tr><tr><td>baerdric</td><td>1516</td></tr><tr><td>CloseDanger</td><td>1</td></tr><tr><td>davidfisco</td><td>62</td></tr><tr><td>steelpaulo</td><td>394</td></tr><tr><td>alt-gringa</td><td>66</td></tr><tr><td>FrankGoneMad</td><td>251</td></tr><tr><td>Sprechundspiel</td><td>44</td></tr><tr><td>Gator1024</td><td>364</td></tr><tr><td>KenFromMichigan</td><td>33</td></tr><tr><td>douglaskaye</td><td>8</td></tr><tr><td>Truth0404</td><td>24</td></tr><tr><td>FatherJohn</td><td>55</td></tr><tr><td>Gnaevs</td><td>381</td></tr><tr><td>RealPresidentTrump</td><td>25</td></tr><tr><td>DenzaGrad</td><td>44</td></tr><tr><td>M16</td><td>25</td></tr><tr><td>DelmarvaRebel</td><td>35</td></tr><tr><td>GarySaintJust</td><td>50</td></tr><tr><td>timebreakerlynch</td><td>2</td></tr><tr><td>jjson</td><td>1</td></tr><tr><td>chef71bob</td><td>2</td></tr><tr><td>USMC-DevilDog</td><td>10772</td></tr><tr><td>mysticphoeniix</td><td>761</td></tr><tr><td>FEDUPCITIZEN7</td><td>584</td></tr><tr><td>3DAngelique</td><td>5896</td></tr><tr><td>D_vaughn</td><td>1623</td></tr><tr><td>ThemoslemReaper</td><td>414</td></tr><tr><td>TZilla</td><td>178</td></tr><tr><td>tinanikolai</td><td>11</td></tr><tr><td>Hugin2017</td><td>267</td></tr><tr><td>hail-the-swastika</td><td>5</td></tr><tr><td>weeklyflyer</td><td>259</td></tr><tr><td>TheCFTWatchers</td><td>17</td></tr><tr><td>TomSawyer</td><td>188</td></tr><tr><td>Naomilynn</td><td>9</td></tr><tr><td>jerrykimbro</td><td>5</td></tr><tr><td>cre8itol</td><td>2</td></tr><tr><td>ILANAMERCER</td><td>176</td></tr><tr><td>DaeshHunter</td><td>19</td></tr><tr><td>Andeta</td><td>15</td></tr><tr><td>Bluecollarbulletin</td><td>5</td></tr><tr><td>JakeTripper</td><td>7</td></tr><tr><td>oldmanspammy</td><td>1</td></tr><tr><td>Trump17</td><td>8</td></tr><tr><td>1776Again</td><td>30</td></tr><tr><td>Mur_Tech</td><td>39</td></tr><tr><td>armed_partisan</td><td>5</td></tr><tr><td>AlexDupont</td><td>372</td></tr><tr><td>JustinEarlLewis</td><td>119</td></tr><tr><td>illinois_j</td><td>19</td></tr><tr><td>AveEuropa</td><td>79</td></tr><tr><td>ThePiston</td><td>422</td></tr><tr><td>Bidenshairplugs</td><td>629</td></tr><tr><td>Tygsxr</td><td>8</td></tr><tr><td>RedPillBlues</td><td>4</td></tr><tr><td>chppayne</td><td>1</td></tr><tr><td>VigilantCitizen</td><td>1</td></tr><tr><td>0XFatimaX0</td><td>2075</td></tr><tr><td>iKarith</td><td>10</td></tr><tr><td>MarcusCicero2</td><td>22</td></tr><tr><td>Ivaginaryfriend</td><td>2</td></tr><tr><td>AllAmericanLady</td><td>5</td></tr><tr><td>AsIf</td><td>17</td></tr><tr><td>Zundel</td><td>2</td></tr><tr><td>thebiggerpicture</td><td>15</td></tr><tr><td>whoohoo001</td><td>105</td></tr><tr><td>TheDailyOnline</td><td>3</td></tr><tr><td>PreciousSnowflake</td><td>25</td></tr><tr><td>pyredaemon</td><td>4</td></tr><tr><td>RachelBartlett</td><td>2510</td></tr><tr><td>BioWreck</td><td>1836</td></tr><tr><td>Fash_McQueen</td><td>1467</td></tr><tr><td>CounterJihad</td><td>5385</td></tr><tr><td>BlueEyedDevil</td><td>2118</td></tr><tr><td>HALO13</td><td>180</td></tr><tr><td>steppnav</td><td>527</td></tr><tr><td>PickleJarsForHillary</td><td>177</td></tr><tr><td>TruthWillOut</td><td>3158</td></tr><tr><td>Agent156</td><td>15</td></tr><tr><td>Lanfeust1532</td><td>2</td></tr><tr><td>KasparHauser</td><td>5</td></tr><tr><td>Mrsteasdale</td><td>2</td></tr><tr><td>Vanderleun</td><td>40</td></tr><tr><td>Boodang</td><td>15</td></tr><tr><td>R8cerx</td><td>1</td></tr><tr><td>BarackObama2</td><td>5</td></tr><tr><td>Gracchi</td><td>7</td></tr><tr><td>CharlesMartel1st</td><td>151</td></tr><tr><td>RoaringTRex</td><td>4</td></tr><tr><td>Mark_</td><td>17</td></tr><tr><td>ftboomer</td><td>51</td></tr><tr><td>xblack13x</td><td>33</td></tr><tr><td>GregMRBCPA</td><td>15</td></tr><tr><td>Joinforbritain</td><td>15</td></tr><tr><td>Drumwaster</td><td>15</td></tr><tr><td>SoulSista</td><td>20</td></tr><tr><td>Zeehole</td><td>14</td></tr><tr><td>AcidBrainWash</td><td>3750</td></tr><tr><td>BoosterBunny</td><td>1223</td></tr><tr><td>NickGriffin</td><td>82</td></tr><tr><td>KatieontheRight</td><td>5</td></tr><tr><td>LodiSilverado</td><td>275</td></tr><tr><td>Danette</td><td>1</td></tr><tr><td>surfingbirds</td><td>1</td></tr><tr><td>shorty</td><td>3114</td></tr><tr><td>backwoodspatriot</td><td>496</td></tr><tr><td>tamplaz</td><td>7</td></tr><tr><td>OpenTheDoor</td><td>83</td></tr><tr><td>FunkMasterFash</td><td>3</td></tr><tr><td>Delboy898</td><td>1</td></tr><tr><td>Swath</td><td>443</td></tr><tr><td>TreasureState</td><td>131</td></tr><tr><td>Thor610</td><td>1</td></tr><tr><td>Figs</td><td>114</td></tr><tr><td>That_Patent_Guy</td><td>18</td></tr><tr><td>richardlarose</td><td>46</td></tr><tr><td>ProLibertyAmerican</td><td>40</td></tr><tr><td>John-Schroder</td><td>22</td></tr><tr><td>Digital_Coffee</td><td>6</td></tr><tr><td>GrouchyRasputin</td><td>106</td></tr><tr><td>FIEDEI_DEFENSOR</td><td>27</td></tr><tr><td>D_P_com</td><td>1</td></tr><tr><td>negativecriticism</td><td>110</td></tr><tr><td>Roamin_Roman</td><td>4</td></tr><tr><td>waldruhe</td><td>7</td></tr><tr><td>EddyCanuck</td><td>3</td></tr><tr><td>Jerbear</td><td>114</td></tr><tr><td>Southpaw68</td><td>4</td></tr><tr><td>crusader69</td><td>5</td></tr><tr><td>Aguinn</td><td>22</td></tr><tr><td>nefariousplot</td><td>270</td></tr><tr><td>LesK</td><td>22</td></tr><tr><td>Garryjcarlson</td><td>10</td></tr><tr><td>Generalben</td><td>1</td></tr><tr><td>tteclod</td><td>565</td></tr><tr><td>user_name_tak_n</td><td>268</td></tr><tr><td>henry_in_Texas</td><td>442</td></tr><tr><td>BaronVonUngernSternberg</td><td>59</td></tr><tr><td>Chasing_Rabbits</td><td>106</td></tr><tr><td>BoHoover</td><td>6</td></tr><tr><td>UnrealNateStorm</td><td>35</td></tr><tr><td>Shaddam</td><td>864</td></tr><tr><td>Southsider1</td><td>289</td></tr><tr><td>TheRealSmij</td><td>1975</td></tr><tr><td>CletusVanDamm</td><td>53</td></tr><tr><td>tomatoguts</td><td>1738</td></tr><tr><td>Feanor</td><td>150</td></tr><tr><td>mountainrepublic</td><td>19</td></tr><tr><td>gaylordsunandshield</td><td>145</td></tr><tr><td>FreivonReue</td><td>3</td></tr><tr><td>sportsbargastro</td><td>2242</td></tr><tr><td>coldacid</td><td>6</td></tr><tr><td>ChefJim</td><td>4</td></tr><tr><td>SayNo2BigGay</td><td>7</td></tr><tr><td>ProudlyWhiteProudlyRight</td><td>194</td></tr><tr><td>dianek68</td><td>60</td></tr><tr><td>KL35K</td><td>13</td></tr><tr><td>GEHRAUS</td><td>132</td></tr><tr><td>full_semi_auto</td><td>12</td></tr><tr><td>VOLVO-t5r</td><td>1</td></tr><tr><td>Kambeii</td><td>55</td></tr><tr><td>TheIntellectualBrigand</td><td>121</td></tr><tr><td>adolfo_hitleron</td><td>34</td></tr><tr><td>nvmd</td><td>9</td></tr><tr><td>cryo_hermit</td><td>7</td></tr><tr><td>k0dy</td><td>1</td></tr><tr><td>RealPlato</td><td>23</td></tr><tr><td>charpaddy</td><td>15</td></tr><tr><td>ASojourner</td><td>93</td></tr><tr><td>AP_PATRIOT</td><td>995</td></tr><tr><td>Naam</td><td>22640</td></tr><tr><td>secretangentman</td><td>1123</td></tr><tr><td>Edgy</td><td>116</td></tr><tr><td>TulipGirl</td><td>53</td></tr><tr><td>Seneiuer</td><td>17</td></tr><tr><td>Seventiesrockfan</td><td>1</td></tr><tr><td>SteveLove4All</td><td>789</td></tr><tr><td>Strictly_Jake</td><td>55</td></tr><tr><td>NSDAPFrance</td><td>1</td></tr><tr><td>OneLifeToGive</td><td>2</td></tr><tr><td>DJWalby</td><td>148</td></tr><tr><td>DaveLon495</td><td>114</td></tr><tr><td>S55N007</td><td>138</td></tr><tr><td>Strelokk</td><td>64</td></tr><tr><td>Trumplove454545</td><td>8</td></tr><tr><td>talisayslim</td><td>6</td></tr><tr><td>US_Veteran</td><td>12</td></tr><tr><td>mmoates</td><td>29</td></tr><tr><td>Promotor_Fidei</td><td>304</td></tr><tr><td>Metanoia</td><td>7</td></tr><tr><td>Deucalion_</td><td>72</td></tr><tr><td>AwesomeIva</td><td>37</td></tr><tr><td>BeEtLjOoZ</td><td>43</td></tr><tr><td>Honor1st</td><td>2</td></tr><tr><td>tonysprout</td><td>21</td></tr><tr><td>ladydshops</td><td>6</td></tr><tr><td>Cephus</td><td>1446</td></tr><tr><td>MacheteDiamond</td><td>3</td></tr><tr><td>SIGDAG</td><td>8</td></tr><tr><td>Justicia</td><td>8</td></tr><tr><td>ROCKintheUSSA</td><td>7606</td></tr><tr><td>TrevorGoodchild</td><td>1034</td></tr><tr><td>Amritas</td><td>1903</td></tr><tr><td>Hbomb</td><td>173</td></tr><tr><td>tippy69</td><td>37</td></tr><tr><td>NationalistFoil</td><td>132</td></tr><tr><td>Th3SilentComedy</td><td>381</td></tr><tr><td>lu_zero</td><td>38</td></tr><tr><td>OntarioCapitalist</td><td>1</td></tr><tr><td>poopswastika</td><td>19</td></tr><tr><td>andieiamwhoiam</td><td>2198</td></tr><tr><td>nunnyadayambiddness</td><td>1080</td></tr><tr><td>FREE_HEATHEN</td><td>3</td></tr><tr><td>scottishbking</td><td>5</td></tr><tr><td>OrthodoxHeretic</td><td>32</td></tr><tr><td>DJTrump2020</td><td>106</td></tr><tr><td>Sudreich</td><td>54</td></tr><tr><td>WaterBuck</td><td>63</td></tr><tr><td>Dan_Gray_</td><td>74</td></tr><tr><td>Ghastly_Grinner</td><td>33</td></tr><tr><td>Grimnirson</td><td>12</td></tr><tr><td>lovemycountry</td><td>7</td></tr><tr><td>workathomer</td><td>5</td></tr><tr><td>o_Opinionated</td><td>223</td></tr><tr><td>knip</td><td>4</td></tr><tr><td>CaptainChrisPBacon</td><td>1</td></tr><tr><td>DarrellG</td><td>21</td></tr><tr><td>genophilia</td><td>2948</td></tr><tr><td>TH</td><td>25</td></tr><tr><td>KneeGrow</td><td>107</td></tr><tr><td>KgdlBrown97</td><td>262</td></tr><tr><td>mgwilson</td><td>77</td></tr><tr><td>Bluesbreaker8</td><td>44</td></tr><tr><td>jamescpyun</td><td>170</td></tr><tr><td>Zonpower</td><td>2</td></tr><tr><td>CANST</td><td>90</td></tr><tr><td>AlaskaRaven</td><td>87</td></tr><tr><td>BobMartin</td><td>2098</td></tr><tr><td>Shuffleboard</td><td>203</td></tr><tr><td>mich_linux_guy</td><td>2</td></tr><tr><td>solarblaster</td><td>4</td></tr><tr><td>E53turner</td><td>43</td></tr><tr><td>RealDaveP</td><td>209</td></tr><tr><td>Ed1john</td><td>8</td></tr><tr><td>BillyDKid</td><td>3</td></tr><tr><td>RealAmericanPatriot</td><td>105</td></tr><tr><td>Samivel</td><td>6</td></tr><tr><td>whipcracker</td><td>5</td></tr><tr><td>RobertWarrenGilmore</td><td>2</td></tr><tr><td>Stopthemadness</td><td>26</td></tr><tr><td>LiberTarHeel</td><td>48</td></tr><tr><td>Sedsays</td><td>32</td></tr><tr><td>T3h_K1tt3h</td><td>324</td></tr><tr><td>Redhammer</td><td>3</td></tr><tr><td>depl0rable</td><td>15</td></tr><tr><td>TexasDeplorables</td><td>3</td></tr><tr><td>John_Galt1970</td><td>76</td></tr><tr><td>Healerofhomes</td><td>1</td></tr><tr><td>karma-lounge</td><td>581</td></tr><tr><td>ElGed</td><td>46</td></tr><tr><td>FinMin</td><td>785</td></tr><tr><td>nightwish</td><td>2170</td></tr><tr><td>SeanBDurkin</td><td>2</td></tr><tr><td>Ex2I8</td><td>578</td></tr><tr><td>Frank61</td><td>1811</td></tr><tr><td>JohnRivers</td><td>690</td></tr><tr><td>dsb</td><td>315</td></tr><tr><td>AltruisticEnigma</td><td>765</td></tr><tr><td>Teamlessgovmorefun</td><td>72</td></tr><tr><td>Rantingly</td><td>23</td></tr><tr><td>maxcua</td><td>19</td></tr><tr><td>ThePatrick</td><td>1</td></tr><tr><td>FastRedPill</td><td>1</td></tr><tr><td>TruthSeeker</td><td>10</td></tr><tr><td>Dwelsh</td><td>5</td></tr><tr><td>OhMy</td><td>4</td></tr><tr><td>Lakeem</td><td>158</td></tr><tr><td>cornyone</td><td>16</td></tr><tr><td>kt</td><td>29</td></tr><tr><td>MarkAnderson</td><td>1</td></tr><tr><td>PSchyemanskiy</td><td>9</td></tr><tr><td>TechnoEugenics</td><td>606</td></tr><tr><td>screamingchimp</td><td>1</td></tr></tbody></table>Showing the first 1000 rows.</div>"
      ]
     },
     "metadata": {
      "application/vnd.databricks.v1+output": {
       "addedWidgets": {},
       "aggData": [],
       "aggError": "",
       "aggOverflow": false,
       "aggSchema": [],
       "aggSeriesLimitReached": false,
       "aggType": "",
       "arguments": {},
       "columnCustomDisplayInfos": {},
       "data": [
        [
         "Slammer64",
         962
        ],
        [
         "WhiteMail3678",
         21
        ],
        [
         "LegalLolicon",
         336
        ],
        [
         "bbarian",
         154
        ],
        [
         "BucketHead41391",
         91
        ],
        [
         "CW1",
         175
        ],
        [
         "leadguitar",
         154
        ],
        [
         "greyhat63",
         16
        ],
        [
         "Joshmeister",
         209
        ],
        [
         "GertCornelis",
         4
        ],
        [
         "Hister",
         94
        ],
        [
         "Tuxedojoe",
         21
        ],
        [
         "qoheleth",
         129
        ],
        [
         "GSMenace",
         59
        ],
        [
         "mezzo",
         45
        ],
        [
         "PalmerStoat",
         1
        ],
        [
         "DeanNestor7",
         868
        ],
        [
         "DrEzekiel",
         2
        ],
        [
         "LyaNichol",
         1
        ],
        [
         "ExBladeRunner",
         178
        ],
        [
         "Piddlepuck86",
         153
        ],
        [
         "easher555",
         81
        ],
        [
         "thebigcomic",
         2
        ],
        [
         "Grubama",
         212
        ],
        [
         "OPRM",
         14
        ],
        [
         "pops-clark",
         239
        ],
        [
         "Teh_Landstander",
         20
        ],
        [
         "RealPhantomLibertarian",
         8
        ],
        [
         "PerpetualPierre",
         1
        ],
        [
         "DrFred57",
         83
        ],
        [
         "Millersteve",
         1
        ],
        [
         "PatriotInfidel",
         140
        ],
        [
         "notch",
         5
        ],
        [
         "Zophiel",
         93
        ],
        [
         "andrewcolomy",
         1
        ],
        [
         "LEHCIM",
         1
        ],
        [
         "CurtisPulaski",
         8
        ],
        [
         "OuttaTheBoxMarketing",
         19
        ],
        [
         "Mollytwo",
         17
        ],
        [
         "Soprano",
         908
        ],
        [
         "glassmenagerie",
         33
        ],
        [
         "In2it2ru2",
         1
        ],
        [
         "Sakker",
         619
        ],
        [
         "DeplorableLaughterRx",
         652
        ],
        [
         "ANC46",
         24
        ],
        [
         "MikeJohnson151",
         22
        ],
        [
         "GabrielWest",
         847
        ],
        [
         "Frankie_J",
         257
        ],
        [
         "LucVNO",
         79
        ],
        [
         "piranha",
         13
        ],
        [
         "DocH",
         28
        ],
        [
         "Username99",
         13
        ],
        [
         "Auminer",
         2
        ],
        [
         "GoofyGrape",
         2
        ],
        [
         "itchy8me",
         182
        ],
        [
         "omEon",
         16
        ],
        [
         "one-eyed-fat-man",
         7
        ],
        [
         "Drt4kidz",
         1
        ],
        [
         "Lasry",
         3
        ],
        [
         "Dachux",
         46
        ],
        [
         "freetexas2",
         1
        ],
        [
         "Busterizer",
         4
        ],
        [
         "Birdy",
         714
        ],
        [
         "ForBritain",
         32
        ],
        [
         "TheRealDonaldTrump45",
         38913
        ],
        [
         "Jami_USA",
         4344
        ],
        [
         "LynneMarie",
         7
        ],
        [
         "NewYorkerParody",
         4
        ],
        [
         "science",
         21
        ],
        [
         "zyalia6tz",
         260
        ],
        [
         "DE-Nazi-AKA-DA-Troll",
         476
        ],
        [
         "nubiangod",
         481
        ],
        [
         "shuhari",
         3760
        ],
        [
         "Rocrates",
         154
        ],
        [
         "Orthodox",
         589
        ],
        [
         "gconyers",
         7
        ],
        [
         "MelMax",
         20
        ],
        [
         "Lockerius",
         58
        ],
        [
         "ROYALMRBADNEWS",
         8
        ],
        [
         "Anonintel",
         172
        ],
        [
         "AzWarrior",
         12
        ],
        [
         "DictatorsNephew",
         10
        ],
        [
         "libbylibbylibby",
         1
        ],
        [
         "ThoughtCriminal303",
         13
        ],
        [
         "StormyBird",
         2
        ],
        [
         "Richard5159",
         1
        ],
        [
         "Ramer2008",
         1
        ],
        [
         "JamesDay",
         47
        ],
        [
         "Deformed",
         328
        ],
        [
         "MartaVonRunge",
         17
        ],
        [
         "American1765",
         29
        ],
        [
         "Archive_News",
         372
        ],
        [
         "Solidsnake",
         108
        ],
        [
         "JordanChristopher",
         148
        ],
        [
         "Margi59",
         274
        ],
        [
         "JAMONSQUIRE",
         3
        ],
        [
         "mbhpower",
         2
        ],
        [
         "InfoWarrior",
         45
        ],
        [
         "nonibaby",
         1
        ],
        [
         "Homunizam",
         131
        ],
        [
         "Poletical",
         7
        ],
        [
         "BLMTerrorist",
         26
        ],
        [
         "HEISENBURG",
         20
        ],
        [
         "LimticArt",
         6
        ],
        [
         "badger1970",
         1
        ],
        [
         "VastAwakening",
         34
        ],
        [
         "PeaceNotWar",
         34
        ],
        [
         "Gravelrash",
         6
        ],
        [
         "Ponderouschain",
         23
        ],
        [
         "acynecin",
         2
        ],
        [
         "shitlording",
         690
        ],
        [
         "BrianSombrets",
         483
        ],
        [
         "spotify",
         563
        ],
        [
         "KittenFur",
         1
        ],
        [
         "a",
         1312
        ],
        [
         "linguistic_killshot",
         4774
        ],
        [
         "2ndlook1",
         125
        ],
        [
         "CarolynEmerick",
         111
        ],
        [
         "Nette66",
         6
        ],
        [
         "James_K_Glass",
         434
        ],
        [
         "BowenBazaar",
         7
        ],
        [
         "LampshadeTechnician",
         1
        ],
        [
         "AnnieM",
         3
        ],
        [
         "WinyanStazWakien",
         6
        ],
        [
         "FeralBlonde",
         53
        ],
        [
         "GlobalistStatist",
         52
        ],
        [
         "Grandgiant311",
         4
        ],
        [
         "BOBOFkake",
         2148
        ],
        [
         "Americanproud",
         140
        ],
        [
         "benito-camesta",
         635
        ],
        [
         "TomKawczynski",
         411
        ],
        [
         "EPluribusUnum2020",
         19
        ],
        [
         "UncleVeracity",
         96
        ],
        [
         "Johnyrebb",
         3309
        ],
        [
         "GarethTheTerrible",
         5
        ],
        [
         "Ttiot",
         1
        ],
        [
         "jeanicebarcelo",
         17
        ],
        [
         "thermaltwitch",
         2
        ],
        [
         "darthstryfe",
         4
        ],
        [
         "mikemoore",
         100
        ],
        [
         "JohnGalt1961",
         9
        ],
        [
         "dub",
         28
        ],
        [
         "Skyfly",
         16
        ],
        [
         "Jack_Mehoff",
         136
        ],
        [
         "EvanTanner",
         49
        ],
        [
         "TheBaldChick",
         104
        ],
        [
         "TMGIJane",
         17
        ],
        [
         "RealMikePannone",
         15
        ],
        [
         "Foosa",
         5
        ],
        [
         "Duckhunter1960",
         33
        ],
        [
         "BASED_KRYSTIAN",
         2
        ],
        [
         "missourymule",
         1
        ],
        [
         "DaleyGator",
         3
        ],
        [
         "Nightmouse",
         963
        ],
        [
         "Santa401",
         641
        ],
        [
         "phoenixTPR",
         1681
        ],
        [
         "joZef",
         161
        ],
        [
         "Helpsnotontheway",
         2248
        ],
        [
         "JamYouMonkey",
         7
        ],
        [
         "jael",
         64
        ],
        [
         "aukai",
         4
        ],
        [
         "tommyminyard1027",
         10
        ],
        [
         "Trumpetpro",
         153
        ],
        [
         "Eclipsebrk",
         32
        ],
        [
         "PaleHorse",
         31
        ],
        [
         "Sparks1017",
         61
        ],
        [
         "Braulz",
         43
        ],
        [
         "Hajiklr",
         142
        ],
        [
         "AKCarrillo",
         47
        ],
        [
         "getyerfreedom",
         4
        ],
        [
         "kiwikek",
         21
        ],
        [
         "EdgeOfDank",
         1
        ],
        [
         "Nohorse",
         1
        ],
        [
         "WetCunt",
         47
        ],
        [
         "Pjackson6688",
         36
        ],
        [
         "JohnnyF",
         20
        ],
        [
         "Artco77",
         2
        ],
        [
         "scottyboy77",
         1
        ],
        [
         "ActivePooter",
         7
        ],
        [
         "cycles13",
         1
        ],
        [
         "TheKeys",
         8
        ],
        [
         "JacoSalad",
         2
        ],
        [
         "libertyfarmsiowa",
         1795
        ],
        [
         "HocEstBellum",
         1582
        ],
        [
         "Grames_Barnaby",
         1
        ],
        [
         "ihatematt",
         87
        ],
        [
         "USA_Aquanaut",
         3
        ],
        [
         "RickyBobbySez",
         930
        ],
        [
         "chrisplustina96",
         10
        ],
        [
         "Occidental_Spirit",
         53
        ],
        [
         "Freeanddivided",
         22
        ],
        [
         "IthePerson",
         110
        ],
        [
         "Lilangel",
         156
        ],
        [
         "FeInFL",
         161
        ],
        [
         "currentyear",
         90
        ],
        [
         "The_Grey_Man",
         2
        ],
        [
         "AprioriHitman",
         15
        ],
        [
         "PoliteSupremacist",
         485
        ],
        [
         "ZippyXavier",
         30
        ],
        [
         "bmar999",
         10
        ],
        [
         "DaFaking1",
         499
        ],
        [
         "cadev",
         9
        ],
        [
         "Majortruther",
         5
        ],
        [
         "Shadows8",
         1
        ],
        [
         "AvengerK97",
         4
        ],
        [
         "RealWednesdayy",
         85
        ],
        [
         "HighDutchman",
         1
        ],
        [
         "PBelle547",
         2
        ],
        [
         "toddwieland",
         7753
        ],
        [
         "Rikistik",
         180
        ],
        [
         "pauljosephwatson",
         42
        ],
        [
         "MarkT4USA",
         40
        ],
        [
         "PearlyMay",
         11
        ],
        [
         "Ann-Marie",
         520
        ],
        [
         "Kennys",
         30
        ],
        [
         "beretta22",
         12
        ],
        [
         "goodman",
         471
        ],
        [
         "MichelleTeller",
         20
        ],
        [
         "Sunshine2016",
         20
        ],
        [
         "TheConservateam",
         77
        ],
        [
         "memedeluxe",
         4
        ],
        [
         "rexjonas",
         1
        ],
        [
         "Gypsy124",
         56
        ],
        [
         "BoondockSaint",
         6
        ],
        [
         "InfiniteJester",
         23
        ],
        [
         "BrotherLarry",
         183
        ],
        [
         "alaskadaughter",
         2
        ],
        [
         "Guner",
         6
        ],
        [
         "BOCCAVERITA",
         23
        ],
        [
         "HoJo3",
         1
        ],
        [
         "ConstitutionBillofRights",
         52
        ],
        [
         "Farrier1959",
         17
        ],
        [
         "xfasciXitalianix",
         3
        ],
        [
         "DaleEvans",
         1670
        ],
        [
         "TraderJo",
         11
        ],
        [
         "HuHenHarr",
         1142
        ],
        [
         "Travis_Hawks",
         153
        ],
        [
         "YLorenzo",
         770
        ],
        [
         "DianaPrintz",
         26
        ],
        [
         "HERALDofYAH",
         1370
        ],
        [
         "LoisRogers",
         316
        ],
        [
         "wondering04",
         13
        ],
        [
         "fgrump",
         55
        ],
        [
         "Hamamolnij",
         1
        ],
        [
         "chispas9",
         3
        ],
        [
         "Catholic_Knight",
         1
        ],
        [
         "antediluvian",
         19
        ],
        [
         "CollinLorenzo",
         2
        ],
        [
         "MadMadamMim",
         53
        ],
        [
         "OcarinaJones",
         8
        ],
        [
         "RollandJames",
         10
        ],
        [
         "ChainsawAlarmclock",
         3
        ],
        [
         "johannamin",
         5
        ],
        [
         "WeWantGunControl",
         332
        ],
        [
         "lukeobrien",
         74
        ],
        [
         "ZWY",
         231
        ],
        [
         "bluetrilobite",
         7
        ],
        [
         "LRichardson",
         5
        ],
        [
         "Livid",
         64
        ],
        [
         "MemorialRifleRange",
         667
        ],
        [
         "bogthing",
         277
        ],
        [
         "Breakfast_Imam",
         79
        ],
        [
         "Aragorn",
         2049
        ],
        [
         "Phil4Truth",
         16
        ],
        [
         "Pompolitone",
         96
        ],
        [
         "hatredshmatred",
         67
        ],
        [
         "csgulyas",
         75
        ],
        [
         "Isaac",
         6
        ],
        [
         "refield",
         3
        ],
        [
         "sourmanconserve",
         12
        ],
        [
         "jaleal",
         1
        ],
        [
         "Aryanwarlordsparta",
         1
        ],
        [
         "WastedShark",
         7
        ],
        [
         "Guitarbill",
         58
        ],
        [
         "Cassini",
         12
        ],
        [
         "EvilMann",
         19
        ],
        [
         "DarkTriadMan",
         97
        ],
        [
         "Cornervizion",
         8
        ],
        [
         "JudsonPhillips",
         2
        ],
        [
         "gargantualis",
         2
        ],
        [
         "battleaxebill",
         539
        ],
        [
         "Miniluv",
         1
        ],
        [
         "jattaya",
         1
        ],
        [
         "HansGurnade",
         156
        ],
        [
         "altsociology",
         12
        ],
        [
         "MarkMontag",
         1
        ],
        [
         "NEETSOCMGTOWOTAKU",
         8
        ],
        [
         "FascistTwitter",
         38
        ],
        [
         "jprexena",
         1797
        ],
        [
         "Mdonato48",
         174
        ],
        [
         "CitySlickerTony",
         151
        ],
        [
         "Conansdog",
         1882
        ],
        [
         "Richard1972",
         154
        ],
        [
         "Robertgilmaney",
         25
        ],
        [
         "Hettman",
         405
        ],
        [
         "RadCharlie",
         54
        ],
        [
         "Number-Six",
         194
        ],
        [
         "steveruns26",
         473
        ],
        [
         "OneStonedCrow",
         16
        ],
        [
         "wishgranter14",
         274
        ],
        [
         "nuidat1611",
         74
        ],
        [
         "docrampage",
         65
        ],
        [
         "pepesilvia1",
         3
        ],
        [
         "lestermacgurdy",
         93
        ],
        [
         "CarnalMormon",
         715
        ],
        [
         "Thomason",
         11
        ],
        [
         "blat1982",
         88
        ],
        [
         "PeaceAndJobs1",
         57
        ],
        [
         "softwarnet",
         80
        ],
        [
         "WildColonialBoy",
         5
        ],
        [
         "ShowMeDontTellMe",
         49
        ],
        [
         "PA_01",
         31
        ],
        [
         "WilhelmVonJudengas",
         350
        ],
        [
         "MuzzaChunka",
         14
        ],
        [
         "_M",
         40
        ],
        [
         "Freedomfighter1776",
         6
        ],
        [
         "StormRanger",
         6
        ],
        [
         "Boatswain1",
         6
        ],
        [
         "JAQUEBAUER",
         23
        ],
        [
         "ann-molly",
         10
        ],
        [
         "Renegado",
         56
        ],
        [
         "Arketex",
         33
        ],
        [
         "moot0ne",
         4
        ],
        [
         "allnaturestuff",
         2
        ],
        [
         "Ryan2238",
         9
        ],
        [
         "JakeHamel",
         234
        ],
        [
         "MatthewMontoya",
         149
        ],
        [
         "ColdBeer",
         3076
        ],
        [
         "Nospin_43",
         78
        ],
        [
         "alburgett",
         9
        ],
        [
         "I_Am_Sand_X",
         14
        ],
        [
         "MaouTsaou",
         347
        ],
        [
         "Pat5zero",
         149
        ],
        [
         "Aldaramira",
         256
        ],
        [
         "hydro532",
         8
        ],
        [
         "BrenanW",
         8
        ],
        [
         "TheWardCleaverExperience",
         13
        ],
        [
         "Lobo56",
         2
        ],
        [
         "Spnn2372",
         231
        ],
        [
         "chemx",
         231
        ],
        [
         "Nemesis",
         3
        ],
        [
         "atypeofflower",
         1
        ],
        [
         "magnus14",
         1
        ],
        [
         "kharyp",
         1
        ],
        [
         "BranBran",
         1
        ],
        [
         "ElectronNeutrino",
         45
        ],
        [
         "worldatsix",
         10
        ],
        [
         "Elbi",
         53
        ],
        [
         "CleansedByJC",
         75
        ],
        [
         "Alejandrodude13",
         643
        ],
        [
         "JeanEBraveaux",
         5732
        ],
        [
         "Sbmullin",
         4
        ],
        [
         "Pensive_Daddy",
         453
        ],
        [
         "drcogent",
         192
        ],
        [
         "Cybergal55",
         68
        ],
        [
         "WinterSoldier",
         62
        ],
        [
         "Conservative15YrOld",
         2
        ],
        [
         "CertYuJest",
         1
        ],
        [
         "ClericPreston3",
         93
        ],
        [
         "cat_lady_of_doom",
         127
        ],
        [
         "joeyquestioner",
         56
        ],
        [
         "Scarasha",
         122
        ],
        [
         "jyonko",
         9
        ],
        [
         "EllaCruz",
         16
        ],
        [
         "bombbelt",
         15
        ],
        [
         "Wuotan",
         1
        ],
        [
         "Visigothic",
         7
        ],
        [
         "Reerso",
         3
        ],
        [
         "Mad_march",
         14
        ],
        [
         "kdtfin",
         50
        ],
        [
         "shannonhorn",
         5
        ],
        [
         "nemesis777",
         6
        ],
        [
         "danigirld1",
         1
        ],
        [
         "davepeckjr",
         1
        ],
        [
         "Triza",
         2
        ],
        [
         "rpp618",
         28
        ],
        [
         "Aussieredneck",
         244
        ],
        [
         "Snare",
         4
        ],
        [
         "gunconfiscation",
         20
        ],
        [
         "noworldorder",
         4
        ],
        [
         "rebel4life",
         2297
        ],
        [
         "Trinacria",
         1507
        ],
        [
         "Ruth-Plant",
         1057
        ],
        [
         "justicephil",
         87
        ],
        [
         "Agilis_Libertas",
         630
        ],
        [
         "AuntieJules",
         124
        ],
        [
         "Califly",
         1
        ],
        [
         "emuelle1",
         126
        ],
        [
         "Tokaise",
         17
        ],
        [
         "skyladawn",
         40
        ],
        [
         "game0nn",
         2
        ],
        [
         "eBiblicalTruth",
         162
        ],
        [
         "iagos",
         437
        ],
        [
         "OzMAGA",
         383
        ],
        [
         "CrazySadie",
         16
        ],
        [
         "JosephScarafone",
         4
        ],
        [
         "Hippiemamagypsylove",
         89
        ],
        [
         "Obamascokedealer",
         8
        ],
        [
         "WND",
         72
        ],
        [
         "SNAFU",
         40
        ],
        [
         "MauHau",
         6
        ],
        [
         "JimDurfee",
         31
        ],
        [
         "Spotted_Lady",
         16
        ],
        [
         "Marginalized",
         58
        ],
        [
         "Geraldad",
         29
        ],
        [
         "Gatorhunting",
         412
        ],
        [
         "Unicornsaregreat",
         25
        ],
        [
         "TigerLily7",
         3
        ],
        [
         "machciv",
         207
        ],
        [
         "KratosonGab",
         12
        ],
        [
         "Stahove1",
         78
        ],
        [
         "Dawingman",
         142
        ],
        [
         "thesentinel",
         41
        ],
        [
         "rickybird",
         140
        ],
        [
         "HollySet128",
         97
        ],
        [
         "Tangential",
         30
        ],
        [
         "KassandraTroy",
         25
        ],
        [
         "jimaw63",
         7
        ],
        [
         "Revolelbuod",
         12
        ],
        [
         "thegoldwater",
         57
        ],
        [
         "triple_red",
         50
        ],
        [
         "RealKellinSheets",
         27
        ],
        [
         "amostol",
         4
        ],
        [
         "LionsOmega",
         12
        ],
        [
         "Thirteen",
         170
        ],
        [
         "WesZ28",
         102
        ],
        [
         "YouKnwNthgJonSnow",
         1
        ],
        [
         "mbg",
         1
        ],
        [
         "Harmonica",
         53
        ],
        [
         "inwarse",
         17
        ],
        [
         "HappyHubby",
         27
        ],
        [
         "montemomma",
         2
        ],
        [
         "Sundancerij",
         3
        ],
        [
         "Tom4Freedom",
         153
        ],
        [
         "ButchDeadlift",
         21
        ],
        [
         "ElConquistador",
         2
        ],
        [
         "bunkerbill",
         19
        ],
        [
         "yes_im_a_racist",
         22
        ],
        [
         "PCsReasy",
         210
        ],
        [
         "cvilatam",
         47
        ],
        [
         "Dalcon",
         129
        ],
        [
         "LogicSword",
         8
        ],
        [
         "drom_techmarine",
         3975
        ],
        [
         "AubreyLaVentana",
         78
        ],
        [
         "cincinchili",
         191
        ],
        [
         "Modem",
         244
        ],
        [
         "Makmorn",
         79
        ],
        [
         "Lucrative75",
         44
        ],
        [
         "conservitiveman1",
         2
        ],
        [
         "Curtisl13",
         9
        ],
        [
         "meh6000000",
         114
        ],
        [
         "_matt_",
         35
        ],
        [
         "Walrus1",
         27
        ],
        [
         "Knuts",
         1
        ],
        [
         "gnomeland",
         23
        ],
        [
         "viktor_deplorban",
         77
        ],
        [
         "LaymanGrey",
         30
        ],
        [
         "OctagonalMoon",
         2
        ],
        [
         "tedmont",
         223
        ],
        [
         "SoaringNow",
         787
        ],
        [
         "Goose_Farquit",
         9
        ],
        [
         "Cyrano",
         125
        ],
        [
         "FreeAgent355",
         387
        ],
        [
         "lmguerra74",
         79
        ],
        [
         "Mefairgolf",
         271
        ],
        [
         "hillbilly1488",
         715
        ],
        [
         "masonrygeek",
         1
        ],
        [
         "opposition_X",
         1485
        ],
        [
         "Marijan",
         194
        ],
        [
         "Mpars",
         409
        ],
        [
         "Cobalt-Blue",
         17
        ],
        [
         "ElDerecho",
         137
        ],
        [
         "Gritsngravy",
         60
        ],
        [
         "D3M0_Anon",
         8
        ],
        [
         "1RonnieD",
         1
        ],
        [
         "Bytes",
         38
        ],
        [
         "SweetLiberties",
         16
        ],
        [
         "MutluUm4711",
         1
        ],
        [
         "GOATSLIVESMATTER",
         6
        ],
        [
         "dawntoo",
         7
        ],
        [
         "PSR04",
         7
        ],
        [
         "GidgetG",
         93
        ],
        [
         "ddpaulbell",
         103
        ],
        [
         "GaiusMariusTitus117",
         8
        ],
        [
         "Impresaria",
         264
        ],
        [
         "Miri1967",
         2
        ],
        [
         "ChadLilly",
         2963
        ],
        [
         "Cutenerd99",
         1
        ],
        [
         "JA37",
         1714
        ],
        [
         "Jim32",
         1
        ],
        [
         "Kikibittner",
         170
        ],
        [
         "BlueScarlett",
         28
        ],
        [
         "SCOWLER",
         780
        ],
        [
         "IloveDonaldTrump",
         9
        ],
        [
         "Engir",
         3582
        ],
        [
         "deSteel",
         7
        ],
        [
         "Timo1983",
         13
        ],
        [
         "EastCountyDave",
         3
        ],
        [
         "Brattz",
         5
        ],
        [
         "RWITGuy",
         24
        ],
        [
         "DavidFerrie",
         163
        ],
        [
         "SiobhanFlanagan",
         3
        ],
        [
         "Holdonamo",
         91
        ],
        [
         "BigFatDaddy",
         121
        ],
        [
         "Stoolsample",
         6
        ],
        [
         "FlibirtyGibbet",
         2
        ],
        [
         "Leopoindexter",
         13
        ],
        [
         "citygirluvspa2",
         12
        ],
        [
         "ufkev",
         713
        ],
        [
         "HabuQueen",
         474
        ],
        [
         "VotingFemale",
         1518
        ],
        [
         "kenmac",
         1098
        ],
        [
         "grego",
         69
        ],
        [
         "LegendaryCollektor",
         9726
        ],
        [
         "_AR14_",
         39
        ],
        [
         "GTKRWN",
         5297
        ],
        [
         "Igroki",
         239
        ],
        [
         "FLYNNL1VE5",
         31
        ],
        [
         "Sitnikoff",
         71
        ],
        [
         "redbeardthefurious",
         1
        ],
        [
         "jcinchrist",
         1
        ],
        [
         "igotatan4U",
         1580
        ],
        [
         "Paraliegance",
         1737
        ],
        [
         "Tony100",
         501
        ],
        [
         "itsmePPZ7H",
         60
        ],
        [
         "GnonCompliant",
         1331
        ],
        [
         "Charmander",
         357
        ],
        [
         "Blockaderunner",
         120
        ],
        [
         "GruntFreePress",
         9
        ],
        [
         "RealFreeSpeech",
         72
        ],
        [
         "cgsurf61",
         2
        ],
        [
         "DesertRat",
         10
        ],
        [
         "VincenzoBrooks",
         69
        ],
        [
         "PeckerRight",
         1
        ],
        [
         "NicoleSoMajor",
         4
        ],
        [
         "Techman0",
         11
        ],
        [
         "Noki_the_Fox",
         29
        ],
        [
         "JacobinPanda",
         63
        ],
        [
         "Logan5",
         2
        ],
        [
         "LincolnsRock",
         8
        ],
        [
         "KTH",
         325
        ],
        [
         "RPG88",
         1078
        ],
        [
         "DeplorableSurfer",
         196
        ],
        [
         "_watchdog_",
         58
        ],
        [
         "siciliangal",
         23
        ],
        [
         "kleinemaus",
         33
        ],
        [
         "DomAfonsoHenriques",
         30
        ],
        [
         "Iridescentfilm",
         1
        ],
        [
         "HateNiggers",
         75
        ],
        [
         "eRedEye",
         492
        ],
        [
         "zharbird",
         5
        ],
        [
         "JohnN",
         5
        ],
        [
         "Sherry",
         133
        ],
        [
         "LocKirup",
         7
        ],
        [
         "ybfishel",
         14
        ],
        [
         "FireFightingCub",
         205
        ],
        [
         "Anubiss",
         56
        ],
        [
         "Brasser",
         58
        ],
        [
         "Just_kill_me_already",
         4
        ],
        [
         "GregoryGarrett",
         1
        ],
        [
         "Christians",
         20
        ],
        [
         "ArayanZ",
         18
        ],
        [
         "CountryOfMOAB",
         5
        ],
        [
         "BeeBear",
         44
        ],
        [
         "HistoryInABottle",
         2
        ],
        [
         "worsethanHitler",
         29
        ],
        [
         "TheLoneWolf",
         13
        ],
        [
         "sushiqk",
         61
        ],
        [
         "Fr0ggy",
         8
        ],
        [
         "PlatoSays",
         6
        ],
        [
         "JohnWBur",
         109
        ],
        [
         "as400guy05",
         6
        ],
        [
         "IsaacSmithUSA",
         14
        ],
        [
         "Micah13",
         1
        ],
        [
         "SpeakerOfTurth",
         57
        ],
        [
         "bbeeaann",
         43047
        ],
        [
         "whiskey",
         173
        ],
        [
         "TheForestFromTheTrees",
         10148
        ],
        [
         "hunbun",
         987
        ],
        [
         "FedraFarmer",
         2244
        ],
        [
         "LexiconJewel",
         205
        ],
        [
         "Mountaineer1",
         776
        ],
        [
         "WhiteDate",
         12
        ],
        [
         "Martjd1001",
         7
        ],
        [
         "Badgerrr",
         4
        ],
        [
         "ShareblueMedia",
         343
        ],
        [
         "WandS",
         29
        ],
        [
         "TheCanuckSailor",
         16
        ],
        [
         "Runsondiesel",
         70
        ],
        [
         "JimmyB2002",
         1
        ],
        [
         "DonTempleton",
         90
        ],
        [
         "DeplorableJNIC",
         2
        ],
        [
         "6bird4",
         155
        ],
        [
         "etnmamacyw",
         55
        ],
        [
         "weaponizedautismbux",
         7
        ],
        [
         "NotCaptainAmerica",
         24
        ],
        [
         "dfu0",
         286
        ],
        [
         "Mrs_Urgent_Fury",
         2
        ],
        [
         "WhiteMansBible",
         2813
        ],
        [
         "JTGIIIpercent",
         123
        ],
        [
         "BladeoftheSword",
         62
        ],
        [
         "GrGrandmaFoster",
         1395
        ],
        [
         "FlyingFrog",
         24
        ],
        [
         "HelloMurica",
         702
        ],
        [
         "James_Dixon",
         476
        ],
        [
         "bosunj",
         383
        ],
        [
         "Casper_",
         710
        ],
        [
         "Hawkster",
         1
        ],
        [
         "KARTOSHKA",
         40
        ],
        [
         "BFA",
         12
        ],
        [
         "SamaelVrai",
         199
        ],
        [
         "StuartOswald",
         35
        ],
        [
         "eoptions",
         4
        ],
        [
         "Observation",
         2
        ],
        [
         "Ajohnright15",
         244
        ],
        [
         "Pyles",
         3
        ],
        [
         "Burn_Bag",
         2
        ],
        [
         "BeauRyker",
         9
        ],
        [
         "DonarVonMidgard",
         360
        ],
        [
         "NickGandalfi",
         20
        ],
        [
         "estranged2000",
         4
        ],
        [
         "2_Held",
         6
        ],
        [
         "novske",
         6
        ],
        [
         "OllieTwist",
         4
        ],
        [
         "Griffon_09",
         36
        ],
        [
         "mytqin8",
         34
        ],
        [
         "Lucy_Cannon",
         7
        ],
        [
         "CivilstockOz",
         47
        ],
        [
         "Travelingman",
         127
        ],
        [
         "WrenchRatt",
         63
        ],
        [
         "VortexQ",
         89
        ],
        [
         "wirelessguru1",
         1962
        ],
        [
         "cremaster",
         2
        ],
        [
         "StephenClayMcGehee",
         1055
        ],
        [
         "Adaptive",
         216
        ],
        [
         "occdissent",
         616
        ],
        [
         "Awesome_Trump",
         65
        ],
        [
         "Banshee",
         562
        ],
        [
         "PMFarmer",
         366
        ],
        [
         "NoBS4U",
         320
        ],
        [
         "RichardParker",
         7
        ],
        [
         "RHubsted",
         212
        ],
        [
         "Gab-Chan",
         155
        ],
        [
         "AutomatonOf",
         6
        ],
        [
         "BernieT",
         35
        ],
        [
         "drowningindejavu",
         2
        ],
        [
         "Mistierain",
         1
        ],
        [
         "LexiKEKographer",
         3
        ],
        [
         "dancercasey",
         13
        ],
        [
         "RightSmarts",
         16
        ],
        [
         "joesch1999",
         433
        ],
        [
         "Mitchell_in_Motion",
         31
        ],
        [
         "Tomofthenight",
         7
        ],
        [
         "TyroneBNiggmanPhD",
         122
        ],
        [
         "EdisonJones",
         41
        ],
        [
         "TheImplicitGuardsmen",
         10
        ],
        [
         "Deplorable_Arthur",
         1
        ],
        [
         "DaddyCrabCakes",
         3473
        ],
        [
         "KPrestonT2",
         747
        ],
        [
         "SLCBagpiper",
         612
        ],
        [
         "bbfohio",
         376
        ],
        [
         "Republicat",
         164
        ],
        [
         "Autumnal_Chrysalism",
         23
        ],
        [
         "TheNumenorean",
         286
        ],
        [
         "IAWTP",
         187
        ],
        [
         "BSODmyself",
         122
        ],
        [
         "greathuwhiteshark",
         52
        ],
        [
         "Ace01",
         3
        ],
        [
         "HWONDER",
         2
        ],
        [
         "SmileyKnuckles",
         1
        ],
        [
         "AMW",
         20
        ],
        [
         "Seven67",
         30
        ],
        [
         "oo00oo",
         60
        ],
        [
         "TheLibertyDiva",
         4
        ],
        [
         "alcardfan",
         4
        ],
        [
         "ilostabet",
         15
        ],
        [
         "RudeTemplar",
         19
        ],
        [
         "d74g0n",
         5
        ],
        [
         "rogerlocke",
         287
        ],
        [
         "WilliamHenwood",
         842
        ],
        [
         "Larryn757",
         1
        ],
        [
         "kevinmckenzie",
         342
        ],
        [
         "lmerchant",
         10
        ],
        [
         "DownwithOPP312",
         19
        ],
        [
         "gdavispa",
         37
        ],
        [
         "angryroc456",
         15
        ],
        [
         "drenee",
         5
        ],
        [
         "Lyngfisken",
         2
        ],
        [
         "PrettyPrinter",
         98
        ],
        [
         "mothersmurfer",
         16
        ],
        [
         "pepeescobar69x",
         1
        ],
        [
         "Arculfe",
         178
        ],
        [
         "lonegunman65",
         77
        ],
        [
         "graceman33",
         132
        ],
        [
         "goygenocide",
         31
        ],
        [
         "airukraine",
         36
        ],
        [
         "RamblingTroll",
         8
        ],
        [
         "EEJinLV",
         46
        ],
        [
         "andilinks",
         19
        ],
        [
         "CTylerFL",
         7
        ],
        [
         "Lpeach4peace",
         2
        ],
        [
         "benjibuckles",
         10
        ],
        [
         "Lightningscool",
         4
        ],
        [
         "Shiftxp",
         15
        ],
        [
         "Whiteknight1488",
         3785
        ],
        [
         "StevenKeaton",
         417
        ],
        [
         "Unenrolled",
         486
        ],
        [
         "Bmacfucklibtars",
         2091
        ],
        [
         "Brendyrose",
         8
        ],
        [
         "ThatConfused1",
         1489
        ],
        [
         "Chany",
         2
        ],
        [
         "jljarvis",
         1006
        ],
        [
         "mimi4",
         1
        ],
        [
         "djw",
         23
        ],
        [
         "OccamsEpilady",
         31829
        ],
        [
         "TheDeadmanRules",
         23
        ],
        [
         "JudgmentDay",
         106
        ],
        [
         "baerdric",
         1516
        ],
        [
         "CloseDanger",
         1
        ],
        [
         "davidfisco",
         62
        ],
        [
         "steelpaulo",
         394
        ],
        [
         "alt-gringa",
         66
        ],
        [
         "FrankGoneMad",
         251
        ],
        [
         "Sprechundspiel",
         44
        ],
        [
         "Gator1024",
         364
        ],
        [
         "KenFromMichigan",
         33
        ],
        [
         "douglaskaye",
         8
        ],
        [
         "Truth0404",
         24
        ],
        [
         "FatherJohn",
         55
        ],
        [
         "Gnaevs",
         381
        ],
        [
         "RealPresidentTrump",
         25
        ],
        [
         "DenzaGrad",
         44
        ],
        [
         "M16",
         25
        ],
        [
         "DelmarvaRebel",
         35
        ],
        [
         "GarySaintJust",
         50
        ],
        [
         "timebreakerlynch",
         2
        ],
        [
         "jjson",
         1
        ],
        [
         "chef71bob",
         2
        ],
        [
         "USMC-DevilDog",
         10772
        ],
        [
         "mysticphoeniix",
         761
        ],
        [
         "FEDUPCITIZEN7",
         584
        ],
        [
         "3DAngelique",
         5896
        ],
        [
         "D_vaughn",
         1623
        ],
        [
         "ThemoslemReaper",
         414
        ],
        [
         "TZilla",
         178
        ],
        [
         "tinanikolai",
         11
        ],
        [
         "Hugin2017",
         267
        ],
        [
         "hail-the-swastika",
         5
        ],
        [
         "weeklyflyer",
         259
        ],
        [
         "TheCFTWatchers",
         17
        ],
        [
         "TomSawyer",
         188
        ],
        [
         "Naomilynn",
         9
        ],
        [
         "jerrykimbro",
         5
        ],
        [
         "cre8itol",
         2
        ],
        [
         "ILANAMERCER",
         176
        ],
        [
         "DaeshHunter",
         19
        ],
        [
         "Andeta",
         15
        ],
        [
         "Bluecollarbulletin",
         5
        ],
        [
         "JakeTripper",
         7
        ],
        [
         "oldmanspammy",
         1
        ],
        [
         "Trump17",
         8
        ],
        [
         "1776Again",
         30
        ],
        [
         "Mur_Tech",
         39
        ],
        [
         "armed_partisan",
         5
        ],
        [
         "AlexDupont",
         372
        ],
        [
         "JustinEarlLewis",
         119
        ],
        [
         "illinois_j",
         19
        ],
        [
         "AveEuropa",
         79
        ],
        [
         "ThePiston",
         422
        ],
        [
         "Bidenshairplugs",
         629
        ],
        [
         "Tygsxr",
         8
        ],
        [
         "RedPillBlues",
         4
        ],
        [
         "chppayne",
         1
        ],
        [
         "VigilantCitizen",
         1
        ],
        [
         "0XFatimaX0",
         2075
        ],
        [
         "iKarith",
         10
        ],
        [
         "MarcusCicero2",
         22
        ],
        [
         "Ivaginaryfriend",
         2
        ],
        [
         "AllAmericanLady",
         5
        ],
        [
         "AsIf",
         17
        ],
        [
         "Zundel",
         2
        ],
        [
         "thebiggerpicture",
         15
        ],
        [
         "whoohoo001",
         105
        ],
        [
         "TheDailyOnline",
         3
        ],
        [
         "PreciousSnowflake",
         25
        ],
        [
         "pyredaemon",
         4
        ],
        [
         "RachelBartlett",
         2510
        ],
        [
         "BioWreck",
         1836
        ],
        [
         "Fash_McQueen",
         1467
        ],
        [
         "CounterJihad",
         5385
        ],
        [
         "BlueEyedDevil",
         2118
        ],
        [
         "HALO13",
         180
        ],
        [
         "steppnav",
         527
        ],
        [
         "PickleJarsForHillary",
         177
        ],
        [
         "TruthWillOut",
         3158
        ],
        [
         "Agent156",
         15
        ],
        [
         "Lanfeust1532",
         2
        ],
        [
         "KasparHauser",
         5
        ],
        [
         "Mrsteasdale",
         2
        ],
        [
         "Vanderleun",
         40
        ],
        [
         "Boodang",
         15
        ],
        [
         "R8cerx",
         1
        ],
        [
         "BarackObama2",
         5
        ],
        [
         "Gracchi",
         7
        ],
        [
         "CharlesMartel1st",
         151
        ],
        [
         "RoaringTRex",
         4
        ],
        [
         "Mark_",
         17
        ],
        [
         "ftboomer",
         51
        ],
        [
         "xblack13x",
         33
        ],
        [
         "GregMRBCPA",
         15
        ],
        [
         "Joinforbritain",
         15
        ],
        [
         "Drumwaster",
         15
        ],
        [
         "SoulSista",
         20
        ],
        [
         "Zeehole",
         14
        ],
        [
         "AcidBrainWash",
         3750
        ],
        [
         "BoosterBunny",
         1223
        ],
        [
         "NickGriffin",
         82
        ],
        [
         "KatieontheRight",
         5
        ],
        [
         "LodiSilverado",
         275
        ],
        [
         "Danette",
         1
        ],
        [
         "surfingbirds",
         1
        ],
        [
         "shorty",
         3114
        ],
        [
         "backwoodspatriot",
         496
        ],
        [
         "tamplaz",
         7
        ],
        [
         "OpenTheDoor",
         83
        ],
        [
         "FunkMasterFash",
         3
        ],
        [
         "Delboy898",
         1
        ],
        [
         "Swath",
         443
        ],
        [
         "TreasureState",
         131
        ],
        [
         "Thor610",
         1
        ],
        [
         "Figs",
         114
        ],
        [
         "That_Patent_Guy",
         18
        ],
        [
         "richardlarose",
         46
        ],
        [
         "ProLibertyAmerican",
         40
        ],
        [
         "John-Schroder",
         22
        ],
        [
         "Digital_Coffee",
         6
        ],
        [
         "GrouchyRasputin",
         106
        ],
        [
         "FIEDEI_DEFENSOR",
         27
        ],
        [
         "D_P_com",
         1
        ],
        [
         "negativecriticism",
         110
        ],
        [
         "Roamin_Roman",
         4
        ],
        [
         "waldruhe",
         7
        ],
        [
         "EddyCanuck",
         3
        ],
        [
         "Jerbear",
         114
        ],
        [
         "Southpaw68",
         4
        ],
        [
         "crusader69",
         5
        ],
        [
         "Aguinn",
         22
        ],
        [
         "nefariousplot",
         270
        ],
        [
         "LesK",
         22
        ],
        [
         "Garryjcarlson",
         10
        ],
        [
         "Generalben",
         1
        ],
        [
         "tteclod",
         565
        ],
        [
         "user_name_tak_n",
         268
        ],
        [
         "henry_in_Texas",
         442
        ],
        [
         "BaronVonUngernSternberg",
         59
        ],
        [
         "Chasing_Rabbits",
         106
        ],
        [
         "BoHoover",
         6
        ],
        [
         "UnrealNateStorm",
         35
        ],
        [
         "Shaddam",
         864
        ],
        [
         "Southsider1",
         289
        ],
        [
         "TheRealSmij",
         1975
        ],
        [
         "CletusVanDamm",
         53
        ],
        [
         "tomatoguts",
         1738
        ],
        [
         "Feanor",
         150
        ],
        [
         "mountainrepublic",
         19
        ],
        [
         "gaylordsunandshield",
         145
        ],
        [
         "FreivonReue",
         3
        ],
        [
         "sportsbargastro",
         2242
        ],
        [
         "coldacid",
         6
        ],
        [
         "ChefJim",
         4
        ],
        [
         "SayNo2BigGay",
         7
        ],
        [
         "ProudlyWhiteProudlyRight",
         194
        ],
        [
         "dianek68",
         60
        ],
        [
         "KL35K",
         13
        ],
        [
         "GEHRAUS",
         132
        ],
        [
         "full_semi_auto",
         12
        ],
        [
         "VOLVO-t5r",
         1
        ],
        [
         "Kambeii",
         55
        ],
        [
         "TheIntellectualBrigand",
         121
        ],
        [
         "adolfo_hitleron",
         34
        ],
        [
         "nvmd",
         9
        ],
        [
         "cryo_hermit",
         7
        ],
        [
         "k0dy",
         1
        ],
        [
         "RealPlato",
         23
        ],
        [
         "charpaddy",
         15
        ],
        [
         "ASojourner",
         93
        ],
        [
         "AP_PATRIOT",
         995
        ],
        [
         "Naam",
         22640
        ],
        [
         "secretangentman",
         1123
        ],
        [
         "Edgy",
         116
        ],
        [
         "TulipGirl",
         53
        ],
        [
         "Seneiuer",
         17
        ],
        [
         "Seventiesrockfan",
         1
        ],
        [
         "SteveLove4All",
         789
        ],
        [
         "Strictly_Jake",
         55
        ],
        [
         "NSDAPFrance",
         1
        ],
        [
         "OneLifeToGive",
         2
        ],
        [
         "DJWalby",
         148
        ],
        [
         "DaveLon495",
         114
        ],
        [
         "S55N007",
         138
        ],
        [
         "Strelokk",
         64
        ],
        [
         "Trumplove454545",
         8
        ],
        [
         "talisayslim",
         6
        ],
        [
         "US_Veteran",
         12
        ],
        [
         "mmoates",
         29
        ],
        [
         "Promotor_Fidei",
         304
        ],
        [
         "Metanoia",
         7
        ],
        [
         "Deucalion_",
         72
        ],
        [
         "AwesomeIva",
         37
        ],
        [
         "BeEtLjOoZ",
         43
        ],
        [
         "Honor1st",
         2
        ],
        [
         "tonysprout",
         21
        ],
        [
         "ladydshops",
         6
        ],
        [
         "Cephus",
         1446
        ],
        [
         "MacheteDiamond",
         3
        ],
        [
         "SIGDAG",
         8
        ],
        [
         "Justicia",
         8
        ],
        [
         "ROCKintheUSSA",
         7606
        ],
        [
         "TrevorGoodchild",
         1034
        ],
        [
         "Amritas",
         1903
        ],
        [
         "Hbomb",
         173
        ],
        [
         "tippy69",
         37
        ],
        [
         "NationalistFoil",
         132
        ],
        [
         "Th3SilentComedy",
         381
        ],
        [
         "lu_zero",
         38
        ],
        [
         "OntarioCapitalist",
         1
        ],
        [
         "poopswastika",
         19
        ],
        [
         "andieiamwhoiam",
         2198
        ],
        [
         "nunnyadayambiddness",
         1080
        ],
        [
         "FREE_HEATHEN",
         3
        ],
        [
         "scottishbking",
         5
        ],
        [
         "OrthodoxHeretic",
         32
        ],
        [
         "DJTrump2020",
         106
        ],
        [
         "Sudreich",
         54
        ],
        [
         "WaterBuck",
         63
        ],
        [
         "Dan_Gray_",
         74
        ],
        [
         "Ghastly_Grinner",
         33
        ],
        [
         "Grimnirson",
         12
        ],
        [
         "lovemycountry",
         7
        ],
        [
         "workathomer",
         5
        ],
        [
         "o_Opinionated",
         223
        ],
        [
         "knip",
         4
        ],
        [
         "CaptainChrisPBacon",
         1
        ],
        [
         "DarrellG",
         21
        ],
        [
         "genophilia",
         2948
        ],
        [
         "TH",
         25
        ],
        [
         "KneeGrow",
         107
        ],
        [
         "KgdlBrown97",
         262
        ],
        [
         "mgwilson",
         77
        ],
        [
         "Bluesbreaker8",
         44
        ],
        [
         "jamescpyun",
         170
        ],
        [
         "Zonpower",
         2
        ],
        [
         "CANST",
         90
        ],
        [
         "AlaskaRaven",
         87
        ],
        [
         "BobMartin",
         2098
        ],
        [
         "Shuffleboard",
         203
        ],
        [
         "mich_linux_guy",
         2
        ],
        [
         "solarblaster",
         4
        ],
        [
         "E53turner",
         43
        ],
        [
         "RealDaveP",
         209
        ],
        [
         "Ed1john",
         8
        ],
        [
         "BillyDKid",
         3
        ],
        [
         "RealAmericanPatriot",
         105
        ],
        [
         "Samivel",
         6
        ],
        [
         "whipcracker",
         5
        ],
        [
         "RobertWarrenGilmore",
         2
        ],
        [
         "Stopthemadness",
         26
        ],
        [
         "LiberTarHeel",
         48
        ],
        [
         "Sedsays",
         32
        ],
        [
         "T3h_K1tt3h",
         324
        ],
        [
         "Redhammer",
         3
        ],
        [
         "depl0rable",
         15
        ],
        [
         "TexasDeplorables",
         3
        ],
        [
         "John_Galt1970",
         76
        ],
        [
         "Healerofhomes",
         1
        ],
        [
         "karma-lounge",
         581
        ],
        [
         "ElGed",
         46
        ],
        [
         "FinMin",
         785
        ],
        [
         "nightwish",
         2170
        ],
        [
         "SeanBDurkin",
         2
        ],
        [
         "Ex2I8",
         578
        ],
        [
         "Frank61",
         1811
        ],
        [
         "JohnRivers",
         690
        ],
        [
         "dsb",
         315
        ],
        [
         "AltruisticEnigma",
         765
        ],
        [
         "Teamlessgovmorefun",
         72
        ],
        [
         "Rantingly",
         23
        ],
        [
         "maxcua",
         19
        ],
        [
         "ThePatrick",
         1
        ],
        [
         "FastRedPill",
         1
        ],
        [
         "TruthSeeker",
         10
        ],
        [
         "Dwelsh",
         5
        ],
        [
         "OhMy",
         4
        ],
        [
         "Lakeem",
         158
        ],
        [
         "cornyone",
         16
        ],
        [
         "kt",
         29
        ],
        [
         "MarkAnderson",
         1
        ],
        [
         "PSchyemanskiy",
         9
        ],
        [
         "TechnoEugenics",
         606
        ],
        [
         "screamingchimp",
         1
        ]
       ],
       "datasetInfos": [],
       "dbfsResultPath": null,
       "isJsonSchema": true,
       "metadata": {},
       "overflow": true,
       "plotOptions": {
        "customPlotOptions": {},
        "displayType": "table",
        "pivotAggregation": null,
        "pivotColumns": null,
        "xColumns": null,
        "yColumns": null
       },
       "removedWidgets": [],
       "schema": [
        {
         "metadata": "{}",
         "name": "id",
         "type": "\"string\""
        },
        {
         "metadata": "{}",
         "name": "degree",
         "type": "\"integer\""
        }
       ],
       "type": "table"
      }
     },
     "output_type": "display_data"
    }
   ],
   "source": [
    "display(network_graph.degrees)"
   ]
  },
  {
   "cell_type": "code",
   "execution_count": 0,
   "metadata": {
    "application/vnd.databricks.v1+cell": {
     "inputWidgets": {},
     "nuid": "a85b9144-16a7-4cdc-9290-e609209d6fe0",
     "showTitle": false,
     "title": ""
    }
   },
   "outputs": [
    {
     "data": {
      "text/html": [
       "<style scoped>\n",
       "  .table-result-container {\n",
       "    max-height: 300px;\n",
       "    overflow: auto;\n",
       "  }\n",
       "  table, th, td {\n",
       "    border: 1px solid black;\n",
       "    border-collapse: collapse;\n",
       "  }\n",
       "  th, td {\n",
       "    padding: 5px;\n",
       "  }\n",
       "  th {\n",
       "    text-align: left;\n",
       "  }\n",
       "</style><div class='table-result-container'><table class='table-result'><thead style='background-color: white'><tr><th>id</th><th>inDegree</th></tr></thead><tbody><tr><td>Hister</td><td>34</td></tr><tr><td>DeoVindice</td><td>6</td></tr><tr><td>LegalLolicon</td><td>122</td></tr><tr><td>Slammer64</td><td>841</td></tr><tr><td>TooChainz</td><td>2</td></tr><tr><td>WhiteMail3678</td><td>16</td></tr><tr><td>Evenstar</td><td>1</td></tr><tr><td>BradBarnhardSho</td><td>14</td></tr><tr><td>CW1</td><td>35</td></tr><tr><td>rm</td><td>316</td></tr><tr><td>bbarian</td><td>151</td></tr><tr><td>GiovanniDannato</td><td>1</td></tr><tr><td>HatchetMan</td><td>14</td></tr><tr><td>leadguitar</td><td>154</td></tr><tr><td>BucketHead41391</td><td>85</td></tr><tr><td>Joshmeister</td><td>209</td></tr><tr><td>gilligan</td><td>2</td></tr><tr><td>DrFred57</td><td>35</td></tr><tr><td>pops-clark</td><td>239</td></tr><tr><td>Grubama</td><td>212</td></tr><tr><td>Piddlepuck86</td><td>153</td></tr><tr><td>ExBladeRunner</td><td>78</td></tr><tr><td>CurtisPulaski</td><td>8</td></tr><tr><td>easher555</td><td>25</td></tr><tr><td>flashfyre</td><td>6</td></tr><tr><td>hsteggles</td><td>7</td></tr><tr><td>telikonol</td><td>37</td></tr><tr><td>TheRuralJuror</td><td>33</td></tr><tr><td>PatriotInfidel</td><td>30</td></tr><tr><td>kimdee2</td><td>6</td></tr><tr><td>RealPhantomLibertarian</td><td>4</td></tr><tr><td>Valor</td><td>1</td></tr><tr><td>Soprano</td><td>908</td></tr><tr><td>GabrielWest</td><td>243</td></tr><tr><td>DeplorableLaughterRx</td><td>195</td></tr><tr><td>ANC46</td><td>24</td></tr><tr><td>MikeJohnson151</td><td>22</td></tr><tr><td>MMMiller</td><td>3</td></tr><tr><td>Palmtile</td><td>5</td></tr><tr><td>Frankie_J</td><td>257</td></tr><tr><td>LucVNO</td><td>41</td></tr><tr><td>glassmenagerie</td><td>31</td></tr><tr><td>DocH</td><td>10</td></tr><tr><td>whytpharaoh69</td><td>3</td></tr><tr><td>Dblaze09</td><td>1</td></tr><tr><td>Clandestino</td><td>3</td></tr><tr><td>Sahdwv</td><td>1</td></tr><tr><td>omEon</td><td>11</td></tr><tr><td>FashGun</td><td>19</td></tr><tr><td>Username99</td><td>13</td></tr><tr><td>evilmidget223</td><td>3</td></tr><tr><td>Dachux</td><td>9</td></tr><tr><td>Sakker</td><td>594</td></tr><tr><td>Evell</td><td>1</td></tr><tr><td>heavenapostrophe</td><td>2</td></tr><tr><td>one-eyed-fat-man</td><td>7</td></tr><tr><td>Jami_USA</td><td>3191</td></tr><tr><td>ForBritain</td><td>32</td></tr><tr><td>shuhari</td><td>1577</td></tr><tr><td>TheRealDonaldTrump45</td><td>19538</td></tr><tr><td>nubiangod</td><td>60</td></tr><tr><td>Anonintel</td><td>172</td></tr><tr><td>Rocrates</td><td>143</td></tr><tr><td>JustinDMelvin</td><td>1</td></tr><tr><td>Birdy</td><td>440</td></tr><tr><td>StJames2017</td><td>23</td></tr><tr><td>EternalVolgar</td><td>7</td></tr><tr><td>Orthodox</td><td>252</td></tr><tr><td>zyalia6tz</td><td>17</td></tr><tr><td>Lockerius</td><td>15</td></tr><tr><td>ThoughtCriminal303</td><td>13</td></tr><tr><td>Kristinb</td><td>1</td></tr><tr><td>JoeSixpack</td><td>18</td></tr><tr><td>Naternot</td><td>4</td></tr><tr><td>DrDerb</td><td>10</td></tr><tr><td>NewYorkerParody</td><td>4</td></tr><tr><td>American1765</td><td>29</td></tr><tr><td>Deformed</td><td>307</td></tr><tr><td>lesbianwalrus_DEFUNCT</td><td>7</td></tr><tr><td>Homunizam</td><td>129</td></tr><tr><td>Margi59</td><td>116</td></tr><tr><td>Matthew_Dimock</td><td>10</td></tr><tr><td>Solidsnake</td><td>20</td></tr><tr><td>Schulin</td><td>1</td></tr><tr><td>Archive_News</td><td>81</td></tr><tr><td>VastAwakening</td><td>20</td></tr><tr><td>srhholdem2233</td><td>22</td></tr><tr><td>EugeneWhiting</td><td>2</td></tr><tr><td>Poletical</td><td>7</td></tr><tr><td>PeaceNotWar</td><td>34</td></tr><tr><td>David_Berger</td><td>4</td></tr><tr><td>HEISENBURG</td><td>20</td></tr><tr><td>InfoWarrior</td><td>44</td></tr><tr><td>JordanChristopher</td><td>114</td></tr><tr><td>linguistic_killshot</td><td>1670</td></tr><tr><td>spotify</td><td>507</td></tr><tr><td>CarolinaCurious</td><td>48</td></tr><tr><td>BrianSombrets</td><td>324</td></tr><tr><td>JonKirkpatrick</td><td>4</td></tr><tr><td>a</td><td>1224</td></tr><tr><td>LouieHuey</td><td>8</td></tr><tr><td>CarolynEmerick</td><td>91</td></tr><tr><td>shitlording</td><td>328</td></tr><tr><td>appliedecon</td><td>164</td></tr><tr><td>FeralBlonde</td><td>53</td></tr><tr><td>2ndlook1</td><td>52</td></tr><tr><td>BrainStressBall</td><td>20</td></tr><tr><td>LlamaMan</td><td>19</td></tr><tr><td>Agabus274</td><td>1</td></tr><tr><td>MoPark</td><td>5</td></tr><tr><td>James_K_Glass</td><td>121</td></tr><tr><td>Hotaugustnights1</td><td>9</td></tr><tr><td>Duckhunter1960</td><td>31</td></tr><tr><td>2525</td><td>55</td></tr><tr><td>amq</td><td>8</td></tr><tr><td>Johnyrebb</td><td>611</td></tr><tr><td>Anglo-Saxon</td><td>6</td></tr><tr><td>jeanicebarcelo</td><td>17</td></tr><tr><td>benito-camesta</td><td>635</td></tr><tr><td>TomKawczynski</td><td>411</td></tr><tr><td>UncleVeracity</td><td>84</td></tr><tr><td>Jack_Mehoff</td><td>136</td></tr><tr><td>BOBOFkake</td><td>1468</td></tr><tr><td>_1</td><td>21</td></tr><tr><td>Texas_Prime</td><td>36</td></tr><tr><td>TheBaldChick</td><td>76</td></tr><tr><td>mikemoore</td><td>27</td></tr><tr><td>jaxter77</td><td>7</td></tr><tr><td>EPluribusUnum2020</td><td>19</td></tr><tr><td>EvanTanner</td><td>49</td></tr><tr><td>NormanSpear1</td><td>2</td></tr><tr><td>dawns5900</td><td>1</td></tr><tr><td>Nakoni65</td><td>101</td></tr><tr><td>DavidKirkland</td><td>78</td></tr><tr><td>Aquilam</td><td>21</td></tr><tr><td>SMB</td><td>5</td></tr><tr><td>JustaDjimmi</td><td>1</td></tr><tr><td>Desolator2B</td><td>4</td></tr><tr><td>Americanproud</td><td>140</td></tr><tr><td>Nightmouse</td><td>962</td></tr><tr><td>phoenixTPR</td><td>1561</td></tr><tr><td>joZef</td><td>159</td></tr><tr><td>LibertyVox</td><td>12</td></tr><tr><td>Trumpetpro</td><td>74</td></tr><tr><td>TheKeys</td><td>8</td></tr><tr><td>ActivePooter</td><td>6</td></tr><tr><td>Pjackson6688</td><td>15</td></tr><tr><td>StormCommando</td><td>23</td></tr><tr><td>amyvanhym</td><td>6</td></tr><tr><td>Helpsnotontheway</td><td>612</td></tr><tr><td>WetCunt</td><td>47</td></tr><tr><td>JohnnyF</td><td>20</td></tr><tr><td>Santa401</td><td>237</td></tr><tr><td>djtmetz</td><td>3</td></tr><tr><td>Rrabbit</td><td>8</td></tr><tr><td>jasonhedgepeth</td><td>1</td></tr><tr><td>paulmatheos</td><td>1</td></tr><tr><td>dpinsen</td><td>4</td></tr><tr><td>Eclipsebrk</td><td>4</td></tr><tr><td>Braulz</td><td>43</td></tr><tr><td>ZippyXavier</td><td>29</td></tr><tr><td>HocEstBellum</td><td>973</td></tr><tr><td>ihatematt</td><td>87</td></tr><tr><td>Occidental_Spirit</td><td>18</td></tr><tr><td>FeInFL</td><td>115</td></tr><tr><td>libertyfarmsiowa</td><td>589</td></tr><tr><td>AdamSmith18</td><td>1</td></tr><tr><td>RickyBobbySez</td><td>561</td></tr><tr><td>Zaklog</td><td>12</td></tr><tr><td>cadev</td><td>9</td></tr><tr><td>theroadtopower</td><td>5</td></tr><tr><td>OkieGunLover</td><td>2</td></tr><tr><td>Lilangel</td><td>39</td></tr><tr><td>AprioriHitman</td><td>14</td></tr><tr><td>PeacockAngel</td><td>10</td></tr><tr><td>Pandanni</td><td>4</td></tr><tr><td>DaFaking1</td><td>199</td></tr><tr><td>IthePerson</td><td>109</td></tr><tr><td>SmilingJack</td><td>1</td></tr><tr><td>Mahmoud1212</td><td>77</td></tr><tr><td>slackerstacker</td><td>1</td></tr><tr><td>PoliteSupremacist</td><td>240</td></tr><tr><td>PBelle547</td><td>2</td></tr><tr><td>Paul007</td><td>4</td></tr><tr><td>RealWednesdayy</td><td>85</td></tr><tr><td>cabinetmaker</td><td>1</td></tr><tr><td>badslave</td><td>1</td></tr><tr><td>Ann-Marie</td><td>326</td></tr><tr><td>toddwieland</td><td>1571</td></tr><tr><td>bobcatready</td><td>12</td></tr><tr><td>Kennys</td><td>30</td></tr><tr><td>TheConservateam</td><td>77</td></tr><tr><td>goodman</td><td>248</td></tr><tr><td>pauljosephwatson</td><td>42</td></tr><tr><td>Mr_Kati</td><td>6</td></tr><tr><td>Sunshine2016</td><td>16</td></tr><tr><td>BOCCAVERITA</td><td>2</td></tr><tr><td>Gypsy124</td><td>31</td></tr><tr><td>beretta22</td><td>10</td></tr><tr><td>woltros</td><td>4</td></tr><tr><td>ConstitutionBillofRights</td><td>22</td></tr><tr><td>Farrier1959</td><td>16</td></tr><tr><td>MarkT4USA</td><td>18</td></tr><tr><td>RickyGP</td><td>3</td></tr><tr><td>GhostOfNiccolo</td><td>1</td></tr><tr><td>Angel9001</td><td>2</td></tr><tr><td>BradSherard</td><td>2</td></tr><tr><td>BrotherLarry</td><td>183</td></tr><tr><td>AntifaMom</td><td>8</td></tr><tr><td>Gerechtigkeit</td><td>1</td></tr><tr><td>YLorenzo</td><td>307</td></tr><tr><td>fgrump</td><td>38</td></tr><tr><td>pal</td><td>1</td></tr><tr><td>DaleEvans</td><td>737</td></tr><tr><td>WeWantGunControl</td><td>332</td></tr><tr><td>MadMadamMim</td><td>51</td></tr><tr><td>HuHenHarr</td><td>1118</td></tr><tr><td>janusss</td><td>5</td></tr><tr><td>LoisRogers</td><td>205</td></tr><tr><td>HERALDofYAH</td><td>391</td></tr><tr><td>wondering04</td><td>13</td></tr><tr><td>armorviol</td><td>7</td></tr><tr><td>bluetrilobite</td><td>7</td></tr><tr><td>SDriver</td><td>2</td></tr><tr><td>Travis_Hawks</td><td>47</td></tr><tr><td>Headforthehills</td><td>16</td></tr><tr><td>ChiefThunderhorse</td><td>3</td></tr><tr><td>DianaPrintz</td><td>26</td></tr><tr><td>hunterhawk</td><td>14</td></tr><tr><td>INFJKaren</td><td>14</td></tr><tr><td>OcarinaJones</td><td>8</td></tr><tr><td>Rhetaur</td><td>2</td></tr><tr><td>MemorialRifleRange</td><td>419</td></tr><tr><td>battleaxebill</td><td>157</td></tr><tr><td>Guitarbill</td><td>58</td></tr><tr><td>Florida_Rogue</td><td>6</td></tr><tr><td>Livid</td><td>64</td></tr><tr><td>Phil4Truth</td><td>16</td></tr><tr><td>FascistTwitter</td><td>20</td></tr><tr><td>Aragorn</td><td>561</td></tr><tr><td>anomalousprime</td><td>1</td></tr><tr><td>quinnotaur</td><td>11</td></tr><tr><td>Breakfast_Imam</td><td>45</td></tr><tr><td>ConsciousCaracal</td><td>8</td></tr><tr><td>ThatGamingAsshole</td><td>4</td></tr><tr><td>EvilMann</td><td>19</td></tr><tr><td>fordtruck</td><td>5</td></tr><tr><td>hatredshmatred</td><td>21</td></tr><tr><td>conservative_17</td><td>29</td></tr><tr><td>altsociology</td><td>4</td></tr><tr><td>bogthing</td><td>277</td></tr><tr><td>Khaleesi74</td><td>3</td></tr><tr><td>DarkTriadMan</td><td>71</td></tr><tr><td>kawfarmer</td><td>1</td></tr><tr><td>ARDavid</td><td>26</td></tr><tr><td>MAGAPatriot</td><td>33</td></tr><tr><td>frogg</td><td>27</td></tr><tr><td>Pompolitone</td><td>96</td></tr><tr><td>PeaceAndJobs1</td><td>57</td></tr><tr><td>Alicia777</td><td>4</td></tr><tr><td>jprexena</td><td>1136</td></tr><tr><td>Renegado</td><td>7</td></tr><tr><td>wishgranter14</td><td>254</td></tr><tr><td>MuzzaChunka</td><td>7</td></tr><tr><td>Hettman</td><td>405</td></tr><tr><td>blat1982</td><td>65</td></tr><tr><td>judiewood2</td><td>9</td></tr><tr><td>Number-Six</td><td>193</td></tr><tr><td>Mdonato48</td><td>114</td></tr><tr><td>KellKell</td><td>48</td></tr><tr><td>steveruns26</td><td>371</td></tr><tr><td>CarnalMormon</td><td>282</td></tr><tr><td>ShaHouMac</td><td>69</td></tr><tr><td>RadCharlie</td><td>54</td></tr><tr><td>Conansdog</td><td>1882</td></tr><tr><td>Richard1972</td><td>30</td></tr><tr><td>moot0ne</td><td>2</td></tr><tr><td>softwarnet</td><td>80</td></tr><tr><td>koellenko</td><td>1</td></tr><tr><td>KurtSchlichter</td><td>3</td></tr><tr><td>PA_01</td><td>14</td></tr><tr><td>CitySlickerTony</td><td>94</td></tr><tr><td>WhiteSparrow</td><td>206</td></tr><tr><td>Robertgilmaney</td><td>2</td></tr><tr><td>pepesilvia1</td><td>3</td></tr><tr><td>monchski</td><td>19</td></tr><tr><td>WilhelmVonJudengas</td><td>200</td></tr><tr><td>Nospin_43</td><td>63</td></tr><tr><td>ColdBeer</td><td>753</td></tr><tr><td>GeraldineJ</td><td>88</td></tr><tr><td>TheWardCleaverExperience</td><td>2</td></tr><tr><td>JakeHamel</td><td>58</td></tr><tr><td>enemy_88</td><td>134</td></tr><tr><td>Nemesis</td><td>3</td></tr><tr><td>Aldaramira</td><td>256</td></tr><tr><td>AelfredRex</td><td>1</td></tr><tr><td>Pat5zero</td><td>85</td></tr><tr><td>MaouTsaou</td><td>161</td></tr><tr><td>Dancesonurgrave</td><td>2</td></tr><tr><td>chemx</td><td>121</td></tr><tr><td>Heretic2</td><td>112</td></tr><tr><td>ElectronNeutrino</td><td>37</td></tr><tr><td>chimerarose</td><td>8</td></tr><tr><td>Rumrunner2020</td><td>7</td></tr><tr><td>Spnn2372</td><td>222</td></tr><tr><td>hazysun</td><td>10</td></tr><tr><td>tmjbog</td><td>22</td></tr><tr><td>DBrownie</td><td>2</td></tr><tr><td>WinterSoldier</td><td>61</td></tr><tr><td>CleansedByJC</td><td>75</td></tr><tr><td>Pensive_Daddy</td><td>115</td></tr><tr><td>EllaCruz</td><td>16</td></tr><tr><td>Scarasha</td><td>122</td></tr><tr><td>JeanEBraveaux</td><td>2651</td></tr><tr><td>Visigothic</td><td>7</td></tr><tr><td>Alejandrodude13</td><td>254</td></tr><tr><td>Cheryllynn</td><td>2</td></tr><tr><td>SongsofFreedom</td><td>78</td></tr><tr><td>Spirit_of_1776</td><td>16</td></tr><tr><td>Aussieredneck</td><td>244</td></tr><tr><td>Soft_Power_Thinker</td><td>28</td></tr><tr><td>lrdvdr77</td><td>2</td></tr><tr><td>Vonkali</td><td>122</td></tr><tr><td>Mad_march</td><td>12</td></tr><tr><td>winterwings</td><td>20</td></tr><tr><td>shannonhorn</td><td>5</td></tr><tr><td>nemesis777</td><td>5</td></tr><tr><td>cat_lady_of_doom</td><td>97</td></tr><tr><td>bombbelt</td><td>15</td></tr><tr><td>Sbmullin</td><td>4</td></tr><tr><td>AGirlAndHerFKNHammer</td><td>9</td></tr><tr><td>CAline</td><td>9</td></tr><tr><td>gunconfiscation</td><td>20</td></tr><tr><td>SashiaIshizu</td><td>35</td></tr><tr><td>Ruth-Plant</td><td>695</td></tr><tr><td>iagos</td><td>437</td></tr><tr><td>AuntieJules</td><td>122</td></tr><tr><td>Downwithbiggovernment</td><td>5</td></tr><tr><td>Trinacria</td><td>225</td></tr><tr><td>liquidsteel</td><td>1</td></tr><tr><td>Agilis_Libertas</td><td>138</td></tr><tr><td>eBiblicalTruth</td><td>135</td></tr><tr><td>MadxMan59</td><td>1</td></tr><tr><td>Hippiemamagypsylove</td><td>80</td></tr><tr><td>Marginalized</td><td>52</td></tr><tr><td>stt1887</td><td>2</td></tr><tr><td>rebel4life</td><td>1009</td></tr><tr><td>justicephil</td><td>87</td></tr><tr><td>SNAFU</td><td>16</td></tr><tr><td>KurdaMikes</td><td>55</td></tr><tr><td>unitedrtv</td><td>4</td></tr><tr><td>Spotted_Lady</td><td>16</td></tr><tr><td>Daviiid</td><td>6</td></tr><tr><td>leemcd56</td><td>2</td></tr><tr><td>EvaBrown</td><td>8</td></tr><tr><td>Hamid2244</td><td>2</td></tr><tr><td>Ornmee-aakhongpom</td><td>1</td></tr><tr><td>OzMAGA</td><td>154</td></tr><tr><td>Exploring_4NRG</td><td>1</td></tr><tr><td>WND</td><td>72</td></tr><tr><td>theNEP</td><td>12</td></tr><tr><td>kadoedelatoe</td><td>4</td></tr><tr><td>skyladawn</td><td>8</td></tr><tr><td>deplorable-infidel</td><td>1</td></tr><tr><td>Melpomene</td><td>3</td></tr><tr><td>neojoe</td><td>5</td></tr><tr><td>Geraldad</td><td>29</td></tr><tr><td>Dawingman</td><td>141</td></tr><tr><td>thesentinel</td><td>41</td></tr><tr><td>Stahove1</td><td>78</td></tr><tr><td>Gatorhunting</td><td>77</td></tr><tr><td>triple_red</td><td>15</td></tr><tr><td>thegoldwater</td><td>57</td></tr><tr><td>rickybird</td><td>139</td></tr><tr><td>inwarse</td><td>12</td></tr><tr><td>WesZ28</td><td>102</td></tr><tr><td>HollySet128</td><td>80</td></tr><tr><td>RealKellinSheets</td><td>10</td></tr><tr><td>Thirteen</td><td>170</td></tr><tr><td>HWR</td><td>11</td></tr><tr><td>KassandraTroy</td><td>25</td></tr><tr><td>Unicornsaregreat</td><td>25</td></tr><tr><td>DGrant</td><td>4</td></tr><tr><td>drom_techmarine</td><td>2810</td></tr><tr><td>ButchDeadlift</td><td>21</td></tr><tr><td>Tom4Freedom</td><td>48</td></tr><tr><td>cincinchili</td><td>162</td></tr><tr><td>PCsReasy</td><td>33</td></tr><tr><td>LaymanGrey</td><td>30</td></tr><tr><td>Dalcon</td><td>14</td></tr><tr><td>AubreyLaVentana</td><td>57</td></tr><tr><td>LogicSword</td><td>8</td></tr><tr><td>mandy4647</td><td>26</td></tr><tr><td>gnomeland</td><td>7</td></tr><tr><td>USEless</td><td>4</td></tr><tr><td>APMechanic</td><td>2</td></tr><tr><td>cvilatam</td><td>23</td></tr><tr><td>lightcrow</td><td>1</td></tr><tr><td>Curtisl13</td><td>9</td></tr><tr><td>viktor_deplorban</td><td>77</td></tr><tr><td>Pantog</td><td>1</td></tr><tr><td>Modem</td><td>187</td></tr><tr><td>TorpedoVegas</td><td>9</td></tr><tr><td>antidorsessions</td><td>1</td></tr><tr><td>yes_im_a_racist</td><td>8</td></tr><tr><td>HereticBear</td><td>1</td></tr><tr><td>DarkLife</td><td>9</td></tr><tr><td>claudia92399</td><td>1</td></tr><tr><td>Bytes</td><td>38</td></tr><tr><td>SoaringNow</td><td>352</td></tr><tr><td>prncssdi83</td><td>1</td></tr><tr><td>Gritsngravy</td><td>60</td></tr><tr><td>FreeAgent355</td><td>143</td></tr><tr><td>Mpars</td><td>265</td></tr><tr><td>ElDerecho</td><td>62</td></tr><tr><td>ddpaulbell</td><td>76</td></tr><tr><td>lmguerra74</td><td>71</td></tr><tr><td>hillbilly1488</td><td>345</td></tr><tr><td>SweetLiberties</td><td>16</td></tr><tr><td>Mefairgolf</td><td>75</td></tr><tr><td>Standtallusa</td><td>3</td></tr><tr><td>JH</td><td>20</td></tr><tr><td>opposition_X</td><td>484</td></tr><tr><td>NaziFlambe</td><td>84</td></tr><tr><td>Tatjana_Festerling</td><td>19</td></tr><tr><td>WestIsTheBest</td><td>2</td></tr><tr><td>lechocracu</td><td>3</td></tr><tr><td>Marijan</td><td>93</td></tr><tr><td>MichaelHill1951</td><td>1</td></tr><tr><td>Cobalt-Blue</td><td>16</td></tr><tr><td>tedmont</td><td>33</td></tr><tr><td>cgijoe</td><td>5</td></tr><tr><td>bydefault</td><td>1</td></tr><tr><td>digerid00</td><td>5</td></tr><tr><td>chill311</td><td>3</td></tr><tr><td>ChadLilly</td><td>720</td></tr><tr><td>RobinYoung</td><td>1</td></tr><tr><td>JA37</td><td>650</td></tr><tr><td>joeyDK</td><td>17</td></tr><tr><td>Impresaria</td><td>237</td></tr><tr><td>Timo1983</td><td>13</td></tr><tr><td>debchia</td><td>15</td></tr><tr><td>DavidFerrie</td><td>163</td></tr><tr><td>Engir</td><td>1396</td></tr><tr><td>brittlesslife</td><td>23</td></tr><tr><td>Holdonamo</td><td>90</td></tr><tr><td>IloveDonaldTrump</td><td>9</td></tr><tr><td>SCOWLER</td><td>326</td></tr><tr><td>Evercode</td><td>8</td></tr><tr><td>freddiefreeloader</td><td>17</td></tr><tr><td>annaquinter0</td><td>4</td></tr><tr><td>Jefoss</td><td>2</td></tr><tr><td>Paraliegance</td><td>592</td></tr><tr><td>ufkev</td><td>221</td></tr><tr><td>VotingFemale</td><td>1192</td></tr><tr><td>freetruthmedia</td><td>2</td></tr><tr><td>LegendaryCollektor</td><td>3285</td></tr><tr><td>kenmac</td><td>335</td></tr><tr><td>HabuQueen</td><td>446</td></tr><tr><td>AndrewAnglin</td><td>223</td></tr><tr><td>GTKRWN</td><td>1748</td></tr><tr><td>Tony100</td><td>134</td></tr><tr><td>huWhiteCat</td><td>2</td></tr><tr><td>Igroki</td><td>173</td></tr><tr><td>FLYNNL1VE5</td><td>27</td></tr><tr><td>grego</td><td>50</td></tr><tr><td>foxalaska</td><td>24</td></tr><tr><td>igotatan4U</td><td>1580</td></tr><tr><td>Blockaderunner</td><td>120</td></tr><tr><td>GnonCompliant</td><td>491</td></tr><tr><td>Charmander</td><td>354</td></tr><tr><td>Kattekop</td><td>3</td></tr><tr><td>Smithumz</td><td>89</td></tr><tr><td>Leopoindexter</td><td>13</td></tr><tr><td>RealFreeSpeech</td><td>29</td></tr><tr><td>joex</td><td>1</td></tr><tr><td>KTH</td><td>254</td></tr><tr><td>LibInquieto</td><td>25</td></tr><tr><td>Techman0</td><td>9</td></tr><tr><td>JonM</td><td>4</td></tr><tr><td>Jakdup</td><td>3</td></tr><tr><td>existentiallyours</td><td>4</td></tr><tr><td>_AR14_</td><td>39</td></tr><tr><td>UN_DIPLOMATIC</td><td>10</td></tr><tr><td>AndrewMeyer</td><td>3</td></tr><tr><td>Fr0ggy</td><td>8</td></tr><tr><td>_watchdog_</td><td>56</td></tr><tr><td>Anubiss</td><td>53</td></tr><tr><td>BeeBear</td><td>44</td></tr><tr><td>DeplorableSurfer</td><td>97</td></tr><tr><td>RPG88</td><td>263</td></tr><tr><td>cronosphere</td><td>5</td></tr><tr><td>SpeakerOfTurth</td><td>51</td></tr><tr><td>worsethanHitler</td><td>29</td></tr><tr><td>Brasser</td><td>51</td></tr><tr><td>LocKirup</td><td>7</td></tr><tr><td>eRedEye</td><td>165</td></tr><tr><td>as400guy05</td><td>2</td></tr><tr><td>PeterRWC</td><td>3</td></tr><tr><td>HateNiggers</td><td>17</td></tr><tr><td>rugmaster</td><td>17</td></tr><tr><td>Sherry</td><td>126</td></tr><tr><td>MeanGuitar</td><td>36</td></tr><tr><td>memegawker</td><td>8</td></tr><tr><td>ahdamn</td><td>1</td></tr><tr><td>Davin</td><td>2</td></tr><tr><td>Christians</td><td>7</td></tr><tr><td>SonofMeldrew</td><td>2</td></tr><tr><td>AntiNazi</td><td>10</td></tr><tr><td>whiskey</td><td>166</td></tr><tr><td>hunbun</td><td>979</td></tr><tr><td>FedraFarmer</td><td>1222</td></tr><tr><td>TheForestFromTheTrees</td><td>4252</td></tr><tr><td>ImperiumNews</td><td>18</td></tr><tr><td>SkyKnight</td><td>30</td></tr><tr><td>Mountaineer1</td><td>761</td></tr><tr><td>xspeak</td><td>1</td></tr><tr><td>WandS</td><td>29</td></tr><tr><td>ShareblueMedia</td><td>306</td></tr><tr><td>bbeeaann</td><td>17834</td></tr><tr><td>DonTempleton</td><td>90</td></tr><tr><td>Runsondiesel</td><td>63</td></tr><tr><td>OxAO</td><td>12</td></tr><tr><td>mysterycomment</td><td>16</td></tr><tr><td>dfu0</td><td>286</td></tr><tr><td>LexiconJewel</td><td>127</td></tr><tr><td>BostonPaul</td><td>33</td></tr><tr><td>UnkelRuckus</td><td>11</td></tr><tr><td>paddymcgrory</td><td>2</td></tr><tr><td>TimeToPayTheTab</td><td>15</td></tr><tr><td>6bird4</td><td>69</td></tr><tr><td>Roben</td><td>7</td></tr><tr><td>svenroy</td><td>109</td></tr><tr><td>LordCrocosquirrel</td><td>3</td></tr><tr><td>NotCaptainAmerica</td><td>24</td></tr><tr><td>Badgerrr</td><td>4</td></tr><tr><td>RealDavidDuke</td><td>5</td></tr><tr><td>jackelliot</td><td>33</td></tr><tr><td>undonefun</td><td>1</td></tr><tr><td>DeplorableJNIC</td><td>2</td></tr><tr><td>WhiteMansBible</td><td>751</td></tr><tr><td>James_Dixon</td><td>97</td></tr><tr><td>GrGrandmaFoster</td><td>435</td></tr><tr><td>michaelsreturn4ever</td><td>2</td></tr><tr><td>StephenS007</td><td>1</td></tr><tr><td>mytqin8</td><td>34</td></tr><tr><td>HelloMurica</td><td>236</td></tr><tr><td>FlyingFrog</td><td>8</td></tr><tr><td>BladeoftheSword</td><td>53</td></tr><tr><td>PyramidSkeem</td><td>6</td></tr><tr><td>BFA</td><td>12</td></tr><tr><td>Brown_Recluse</td><td>10</td></tr><tr><td>MartinOnGab</td><td>2</td></tr><tr><td>HorribleLilMe</td><td>9</td></tr><tr><td>Griffon_09</td><td>2</td></tr><tr><td>Casper_</td><td>337</td></tr><tr><td>LastOfUs</td><td>25</td></tr><tr><td>zsleepwalker</td><td>7</td></tr><tr><td>Grahamelambda</td><td>3</td></tr><tr><td>USAone</td><td>20</td></tr><tr><td>OllieTwist</td><td>4</td></tr><tr><td>KARTOSHKA</td><td>40</td></tr><tr><td>bosunj</td><td>203</td></tr><tr><td>NickGandalfi</td><td>20</td></tr><tr><td>Ajohnright15</td><td>241</td></tr><tr><td>WrenchRatt</td><td>33</td></tr><tr><td>RHubsted</td><td>44</td></tr><tr><td>Adaptive</td><td>204</td></tr><tr><td>Banshee</td><td>330</td></tr><tr><td>wirelessguru1</td><td>1922</td></tr><tr><td>DeplorableSpirit</td><td>13</td></tr><tr><td>BernieT</td><td>35</td></tr><tr><td>occdissent</td><td>301</td></tr><tr><td>Travelingman</td><td>125</td></tr><tr><td>KewlBeanz88</td><td>3</td></tr><tr><td>ZincSupreme</td><td>275</td></tr><tr><td>TyroneBNiggmanPhD</td><td>122</td></tr><tr><td>EdisonJones</td><td>3</td></tr><tr><td>TheImplicitGuardsmen</td><td>10</td></tr><tr><td>Awesome_Trump</td><td>63</td></tr><tr><td>StephenClayMcGehee</td><td>418</td></tr><tr><td>Hocksip60</td><td>1</td></tr><tr><td>PMFarmer</td><td>60</td></tr><tr><td>joesch1999</td><td>222</td></tr><tr><td>schizodan</td><td>2</td></tr><tr><td>VortexQ</td><td>89</td></tr><tr><td>SteveMNN</td><td>4</td></tr><tr><td>CivilstockOz</td><td>12</td></tr><tr><td>LexiKEKographer</td><td>2</td></tr><tr><td>NoBS4U</td><td>59</td></tr><tr><td>Mitchell_in_Motion</td><td>26</td></tr><tr><td>IllyaLaughs</td><td>3</td></tr><tr><td>KPrestonT2</td><td>730</td></tr><tr><td>DaddyCrabCakes</td><td>1154</td></tr><tr><td>greathuwhiteshark</td><td>52</td></tr><tr><td>SLCBagpiper</td><td>346</td></tr><tr><td>trumpy17</td><td>326</td></tr><tr><td>HWONDER</td><td>2</td></tr><tr><td>Republicat</td><td>161</td></tr><tr><td>AMW</td><td>20</td></tr><tr><td>bbfohio</td><td>370</td></tr><tr><td>daffydgam</td><td>2</td></tr><tr><td>BSODmyself</td><td>17</td></tr><tr><td>DeplorableNurse</td><td>4</td></tr><tr><td>TheNumenorean</td><td>117</td></tr><tr><td>RhondaSc</td><td>7</td></tr><tr><td>her4bert</td><td>7</td></tr><tr><td>Seven67</td><td>29</td></tr><tr><td>PriviLegend</td><td>6</td></tr><tr><td>CynHo</td><td>3</td></tr><tr><td>IAWTP</td><td>128</td></tr><tr><td>Snake_Plissken</td><td>18</td></tr><tr><td>lonegunman65</td><td>77</td></tr><tr><td>graceman33</td><td>131</td></tr><tr><td>Nunya-Biznass</td><td>6</td></tr><tr><td>rogerlocke</td><td>70</td></tr><tr><td>DownwithOPP312</td><td>19</td></tr><tr><td>lmerchant</td><td>9</td></tr><tr><td>benjibuckles</td><td>9</td></tr><tr><td>kevinmckenzie</td><td>119</td></tr><tr><td>angryroc456</td><td>15</td></tr><tr><td>wikileaksonweed</td><td>4</td></tr><tr><td>WilliamHenwood</td><td>62</td></tr><tr><td>HiddenHandChopper</td><td>41</td></tr><tr><td>mothersmurfer</td><td>16</td></tr><tr><td>PrettyPrinter</td><td>24</td></tr><tr><td>andilinks</td><td>19</td></tr><tr><td>LW_currentyear</td><td>1</td></tr><tr><td>EEJinLV</td><td>19</td></tr><tr><td>Shiftxp</td><td>1</td></tr><tr><td>Lightningscool</td><td>4</td></tr><tr><td>Philouphilou280</td><td>1</td></tr><tr><td>BrexitAteMyDog</td><td>2</td></tr><tr><td>ProjectRepublic</td><td>9</td></tr><tr><td>gdavispa</td><td>33</td></tr><tr><td>Arculfe</td><td>37</td></tr><tr><td>baerdric</td><td>359</td></tr><tr><td>OccamsEpilady</td><td>12646</td></tr><tr><td>steelpaulo</td><td>383</td></tr><tr><td>Unenrolled</td><td>247</td></tr><tr><td>StevenKeaton</td><td>270</td></tr><tr><td>Whiteknight1488</td><td>1689</td></tr><tr><td>alt-gringa</td><td>23</td></tr><tr><td>ThatConfused1</td><td>619</td></tr><tr><td>Sprechundspiel</td><td>44</td></tr><tr><td>angrywebmaster</td><td>7</td></tr><tr><td>davidfisco</td><td>53</td></tr><tr><td>WonkAntifa</td><td>4</td></tr><tr><td>Bmacfucklibtars</td><td>648</td></tr><tr><td>douglaskaye</td><td>7</td></tr><tr><td>JAC299</td><td>1</td></tr><tr><td>Gnaevs</td><td>102</td></tr><tr><td>MeanAuntRena</td><td>3</td></tr><tr><td>PareshaBrideofChrist</td><td>11</td></tr><tr><td>FrankGoneMad</td><td>192</td></tr><tr><td>EarlingGarrison</td><td>4</td></tr><tr><td>Brendyrose</td><td>8</td></tr><tr><td>colingerald</td><td>2</td></tr><tr><td>DblEagle</td><td>3</td></tr><tr><td>GarySavageSr</td><td>13</td></tr><tr><td>GarySaintJust</td><td>23</td></tr><tr><td>Tommywright</td><td>1</td></tr><tr><td>DenzaGrad</td><td>44</td></tr><tr><td>MHN</td><td>10</td></tr><tr><td>jljarvis</td><td>575</td></tr><tr><td>JudgmentDay</td><td>8</td></tr><tr><td>KenFromMichigan</td><td>33</td></tr><tr><td>theoldsquid</td><td>36</td></tr><tr><td>TheDeadmanRules</td><td>23</td></tr><tr><td>DelmarvaRebel</td><td>35</td></tr><tr><td>FatherJohn</td><td>54</td></tr><tr><td>USMC-DevilDog</td><td>8083</td></tr><tr><td>3DAngelique</td><td>2752</td></tr><tr><td>FEDUPCITIZEN7</td><td>559</td></tr><tr><td>weeklyflyer</td><td>221</td></tr><tr><td>Trump17</td><td>7</td></tr><tr><td>mysticphoeniix</td><td>260</td></tr><tr><td>TZilla</td><td>146</td></tr><tr><td>hail-the-swastika</td><td>2</td></tr><tr><td>Mur_Tech</td><td>39</td></tr><tr><td>Hugin2017</td><td>224</td></tr><tr><td>ILANAMERCER</td><td>176</td></tr><tr><td>ThemoslemReaper</td><td>87</td></tr><tr><td>D_vaughn</td><td>300</td></tr><tr><td>1776Again</td><td>30</td></tr><tr><td>TomSawyer</td><td>146</td></tr><tr><td>Ahiker</td><td>1</td></tr><tr><td>Bluecollarbulletin</td><td>5</td></tr><tr><td>dagoyimknow</td><td>2</td></tr><tr><td>NATOR420</td><td>2</td></tr><tr><td>TheCFTWatchers</td><td>7</td></tr><tr><td>tinanikolai</td><td>11</td></tr><tr><td>Powerslave1978</td><td>7</td></tr><tr><td>AlexDupont</td><td>291</td></tr><tr><td>MarcusCicero2</td><td>22</td></tr><tr><td>Mogills</td><td>1</td></tr><tr><td>illinois_j</td><td>16</td></tr><tr><td>Bidenshairplugs</td><td>441</td></tr><tr><td>JustinEarlLewis</td><td>86</td></tr><tr><td>PreciousSnowflake</td><td>25</td></tr><tr><td>Usidus</td><td>16</td></tr><tr><td>MaxMercer</td><td>33</td></tr><tr><td>RedPillBlues</td><td>4</td></tr><tr><td>RealRosie</td><td>47</td></tr><tr><td>CuckTheState</td><td>14</td></tr><tr><td>whoohoo001</td><td>105</td></tr><tr><td>Applefritter</td><td>1</td></tr><tr><td>Risotto</td><td>7</td></tr><tr><td>crunchyscallop</td><td>16</td></tr><tr><td>Nheiles</td><td>21</td></tr><tr><td>ThePiston</td><td>70</td></tr><tr><td>AsIf</td><td>15</td></tr><tr><td>AllAmericanLady</td><td>5</td></tr><tr><td>BCGJBH</td><td>1</td></tr><tr><td>KittyKittyPatriot</td><td>2</td></tr><tr><td>0XFatimaX0</td><td>828</td></tr><tr><td>CounterJihad</td><td>1657</td></tr><tr><td>RachelBartlett</td><td>813</td></tr><tr><td>CharlesMartel1st</td><td>151</td></tr><tr><td>BioWreck</td><td>652</td></tr><tr><td>BlueEyedDevil</td><td>520</td></tr><tr><td>HALO13</td><td>180</td></tr><tr><td>TruthWillOut</td><td>1700</td></tr><tr><td>retrocity5</td><td>28</td></tr><tr><td>Fash_McQueen</td><td>747</td></tr><tr><td>PickleJarsForHillary</td><td>81</td></tr><tr><td>AngryKrampus</td><td>1</td></tr><tr><td>Mark_</td><td>17</td></tr><tr><td>gvperagine</td><td>2</td></tr><tr><td>RoaringTRex</td><td>1</td></tr><tr><td>SoulSista</td><td>20</td></tr><tr><td>TheGoodSon</td><td>1</td></tr><tr><td>ftboomer</td><td>23</td></tr><tr><td>Vanderleun</td><td>11</td></tr><tr><td>makeupumind</td><td>24</td></tr><tr><td>TheRicksta1385</td><td>2</td></tr><tr><td>KasparHauser</td><td>4</td></tr><tr><td>xblack13x</td><td>32</td></tr><tr><td>Gracchi</td><td>5</td></tr><tr><td>AcidBrainWash</td><td>1424</td></tr><tr><td>richardlarose</td><td>46</td></tr><tr><td>shorty</td><td>2323</td></tr><tr><td>GrouchyRasputin</td><td>88</td></tr><tr><td>BoosterBunny</td><td>883</td></tr><tr><td>OpenTheDoor</td><td>4</td></tr><tr><td>Aguinn</td><td>21</td></tr><tr><td>LodiSilverado</td><td>175</td></tr><tr><td>godaddy</td><td>512</td></tr><tr><td>That_Patent_Guy</td><td>17</td></tr><tr><td>nefariousplot</td><td>215</td></tr><tr><td>Jerbear</td><td>112</td></tr><tr><td>Figs</td><td>82</td></tr><tr><td>Swath</td><td>94</td></tr><tr><td>xcct</td><td>2</td></tr><tr><td>backwoodspatriot</td><td>45</td></tr><tr><td>TreasureState</td><td>131</td></tr><tr><td>MasterMind119</td><td>8</td></tr><tr><td>NickGriffin</td><td>72</td></tr><tr><td>The9thNinja</td><td>10</td></tr><tr><td>ServantOfKek</td><td>1</td></tr><tr><td>DawdMark</td><td>1</td></tr><tr><td>StimpsonJCat</td><td>1</td></tr><tr><td>Mattycakes0231</td><td>7</td></tr><tr><td>sidrufdiamond</td><td>6</td></tr><tr><td>thinkfreely_sam</td><td>39</td></tr><tr><td>Paintguy</td><td>1</td></tr><tr><td>TrumpGirl2</td><td>3</td></tr><tr><td>gaylordsunandshield</td><td>145</td></tr><tr><td>ilpiolo</td><td>3</td></tr><tr><td>Shaddam</td><td>396</td></tr><tr><td>BaronVonUngernSternberg</td><td>59</td></tr><tr><td>tomatoguts</td><td>456</td></tr><tr><td>user_name_tak_n</td><td>251</td></tr><tr><td>Truth_Seeker28</td><td>2</td></tr><tr><td>TheRealSmij</td><td>1975</td></tr><tr><td>UnrealNateStorm</td><td>35</td></tr><tr><td>Kambeii</td><td>54</td></tr><tr><td>GEHRAUS</td><td>38</td></tr><tr><td>henry_in_Texas</td><td>377</td></tr><tr><td>BlackAgnes</td><td>14</td></tr><tr><td>ProudlyWhiteProudlyRight</td><td>194</td></tr><tr><td>Southsider1</td><td>132</td></tr><tr><td>Chasing_Rabbits</td><td>105</td></tr><tr><td>BrittPettibone</td><td>4</td></tr><tr><td>Tina4Short</td><td>1</td></tr><tr><td>Bearstylez</td><td>22</td></tr><tr><td>tteclod</td><td>88</td></tr><tr><td>ASojourner</td><td>86</td></tr><tr><td>DDosCapitol</td><td>3</td></tr><tr><td>F_von_Steiner</td><td>5</td></tr><tr><td>My_Shenanigans</td><td>3</td></tr><tr><td>OfficalHobane</td><td>2</td></tr><tr><td>Epiphany_Zone</td><td>14</td></tr><tr><td>CletusVanDamm</td><td>13</td></tr><tr><td>sportsbargastro</td><td>1047</td></tr><tr><td>adolfo_hitleron</td><td>34</td></tr><tr><td>Naam</td><td>9940</td></tr><tr><td>AP_PATRIOT</td><td>995</td></tr><tr><td>BabySisterKate</td><td>2</td></tr><tr><td>Promotor_Fidei</td><td>304</td></tr><tr><td>secretangentman</td><td>345</td></tr><tr><td>Flowerlady</td><td>14</td></tr><tr><td>DJWalby</td><td>66</td></tr><tr><td>Seneiuer</td><td>16</td></tr><tr><td>Strictly_Jake</td><td>55</td></tr><tr><td>SIGDAG</td><td>8</td></tr><tr><td>S55N007</td><td>138</td></tr><tr><td>Cephus</td><td>462</td></tr><tr><td>Deucalion_</td><td>38</td></tr><tr><td>SteveLove4All</td><td>267</td></tr><tr><td>mmoates</td><td>29</td></tr><tr><td>Edgy</td><td>116</td></tr><tr><td>DaveLon495</td><td>114</td></tr><tr><td>boblachiasse</td><td>1</td></tr><tr><td>US_Veteran</td><td>2</td></tr><tr><td>BigVig</td><td>12</td></tr><tr><td>AwesomeIva</td><td>37</td></tr><tr><td>Strelokk</td><td>46</td></tr><tr><td>Deplorable-expat</td><td>4</td></tr><tr><td>Kiajo</td><td>10</td></tr><tr><td>futant76</td><td>2</td></tr><tr><td>arbigram</td><td>25</td></tr><tr><td>EmJayGee</td><td>1</td></tr><tr><td>STGeorgina</td><td>42</td></tr><tr><td>BKnight561</td><td>5</td></tr><tr><td>BeEtLjOoZ</td><td>32</td></tr><tr><td>Lestrade</td><td>40</td></tr><tr><td>Dan_Gray_</td><td>74</td></tr><tr><td>TrevorGoodchild</td><td>281</td></tr><tr><td>NationalistFoil</td><td>93</td></tr><tr><td>ROCKintheUSSA</td><td>2266</td></tr><tr><td>Hbomb</td><td>172</td></tr><tr><td>andieiamwhoiam</td><td>1025</td></tr><tr><td>knip</td><td>4</td></tr><tr><td>lovemycountry</td><td>6</td></tr><tr><td>WannaBeSedated</td><td>15</td></tr><tr><td>WaterBuck</td><td>63</td></tr><tr><td>nunnyadayambiddness</td><td>471</td></tr><tr><td>12StringSamurai</td><td>3</td></tr><tr><td>SophieLMH</td><td>2</td></tr><tr><td>poopswastika</td><td>19</td></tr><tr><td>DJTrump2020</td><td>52</td></tr><tr><td>farneyman</td><td>1</td></tr><tr><td>Th3SilentComedy</td><td>169</td></tr><tr><td>Amritas</td><td>464</td></tr><tr><td>Sudreich</td><td>54</td></tr><tr><td>OrthodoxHeretic</td><td>16</td></tr><tr><td>MagpieM</td><td>4</td></tr><tr><td>Grimnirson</td><td>12</td></tr><tr><td>lu_zero</td><td>38</td></tr><tr><td>tippy69</td><td>26</td></tr><tr><td>o_Opinionated</td><td>223</td></tr><tr><td>tsimsparker</td><td>1</td></tr><tr><td>Akavit</td><td>1</td></tr><tr><td>talwolf2</td><td>2</td></tr><tr><td>Ghastly_Grinner</td><td>33</td></tr><tr><td>LiberTarHeel</td><td>20</td></tr><tr><td>genophilia</td><td>2922</td></tr><tr><td>Bluesbreaker8</td><td>44</td></tr><tr><td>heilige_tod</td><td>3</td></tr><tr><td>jamescpyun</td><td>168</td></tr><tr><td>KgdlBrown97</td><td>236</td></tr><tr><td>CANST</td><td>14</td></tr><tr><td>_14words_</td><td>2</td></tr><tr><td>Iixsive</td><td>17</td></tr><tr><td>BobMartin</td><td>584</td></tr><tr><td>Don-tTreadOnMe</td><td>132</td></tr><tr><td>T3h_K1tt3h</td><td>111</td></tr><tr><td>RealDaveP</td><td>209</td></tr><tr><td>Samivel</td><td>6</td></tr><tr><td>Shuffleboard</td><td>161</td></tr><tr><td>TH</td><td>6</td></tr><tr><td>Vexation</td><td>3</td></tr><tr><td>AaronJL</td><td>2</td></tr><tr><td>E53turner</td><td>43</td></tr><tr><td>DeplorablyECC</td><td>4</td></tr><tr><td>RealAmericanPatriot</td><td>101</td></tr><tr><td>Believer51Anon</td><td>1</td></tr><tr><td>AlaskaRaven</td><td>69</td></tr><tr><td>Redhammer</td><td>2</td></tr><tr><td>John_Galt1970</td><td>53</td></tr><tr><td>TheRealCovefefe11B</td><td>9</td></tr><tr><td>mgwilson</td><td>77</td></tr><tr><td>Sedsays</td><td>32</td></tr><tr><td>KneeGrow</td><td>105</td></tr><tr><td>ElGed</td><td>46</td></tr><tr><td>Frank61</td><td>228</td></tr><tr><td>Lakeem</td><td>158</td></tr><tr><td>PSchyemanskiy</td><td>9</td></tr><tr><td>Ex2I8</td><td>412</td></tr><tr><td>karma-lounge</td><td>581</td></tr><tr><td>nightwish</td><td>949</td></tr><tr><td>AltruisticEnigma</td><td>765</td></tr><tr><td>kt</td><td>13</td></tr><tr><td>Random_Slav</td><td>29</td></tr><tr><td>203rdAirMage_Bn</td><td>8</td></tr><tr><td>VerseCannon</td><td>4</td></tr><tr><td>Steve1</td><td>2</td></tr><tr><td>JohnRivers</td><td>324</td></tr><tr><td>dsb</td><td>113</td></tr><tr><td>Civil_Savage</td><td>1</td></tr><tr><td>TechnoEugenics</td><td>361</td></tr><tr><td>FinMin</td><td>373</td></tr><tr><td>Rantingly</td><td>23</td></tr><tr><td>Dwelsh</td><td>5</td></tr><tr><td>MickeyDee</td><td>35</td></tr><tr><td>Capn_Zag</td><td>4</td></tr><tr><td>Teamlessgovmorefun</td><td>70</td></tr><tr><td>vampyyri1123</td><td>13</td></tr><tr><td>Nemo11010</td><td>1</td></tr><tr><td>Christine_Thornz</td><td>35</td></tr><tr><td>durlin585</td><td>8</td></tr><tr><td>Marcn</td><td>1</td></tr><tr><td>cornyone</td><td>16</td></tr><tr><td>conmatt</td><td>1</td></tr><tr><td>robkaufman</td><td>12</td></tr><tr><td>BeauregardOCeallaigh</td><td>1</td></tr><tr><td>AnAnglo-American</td><td>130</td></tr><tr><td>whythetruth</td><td>385</td></tr><tr><td>WWWWWWWWWWWWWWWWWWWWWWWWW</td><td>24</td></tr><tr><td>AlCynic</td><td>307</td></tr><tr><td>For_God_And_Ulster</td><td>54</td></tr><tr><td>MikeinDFW</td><td>556</td></tr><tr><td>FurDog54</td><td>150</td></tr><tr><td>drallod</td><td>5</td></tr><tr><td>hellotonycrowe</td><td>150</td></tr><tr><td>HillaryCllinton</td><td>18</td></tr><tr><td>BePoliticallyIncorrect</td><td>1</td></tr><tr><td>John_the_White</td><td>53</td></tr><tr><td>GB32756</td><td>670</td></tr><tr><td>KebabRemovalService</td><td>44</td></tr><tr><td>kkogut</td><td>10</td></tr><tr><td>RockyPlace</td><td>57</td></tr><tr><td>Stingo</td><td>2</td></tr><tr><td>humdingishere</td><td>22</td></tr><tr><td>PhillipCMcGuire</td><td>13</td></tr><tr><td>jachinglaplume</td><td>349</td></tr><tr><td>Ra_</td><td>1322</td></tr><tr><td>Frogs0fWar</td><td>22</td></tr><tr><td>DoomsdayLibrary</td><td>940</td></tr><tr><td>imfromaz</td><td>2</td></tr><tr><td>Abort_Liberals</td><td>18</td></tr><tr><td>Josiah67</td><td>9</td></tr><tr><td>gloria0608</td><td>5</td></tr><tr><td>Fitz5</td><td>1</td></tr><tr><td>ludwigmaximilian</td><td>3</td></tr><tr><td>AmansPatriae</td><td>28</td></tr><tr><td>PatriotKracker80</td><td>39</td></tr><tr><td>JoakimS</td><td>1</td></tr><tr><td>MDOrleans</td><td>188</td></tr><tr><td>luther</td><td>107</td></tr><tr><td>EDGY_BOI_J</td><td>10</td></tr><tr><td>The_Emu</td><td>50</td></tr><tr><td>RuewenFate</td><td>69</td></tr><tr><td>BullshitMan</td><td>18</td></tr><tr><td>scs</td><td>2</td></tr><tr><td>cashmoneyglock</td><td>11</td></tr><tr><td>sevvie</td><td>12</td></tr><tr><td>freebird-is</td><td>1</td></tr><tr><td>Buddha0004</td><td>1</td></tr><tr><td>amjurfinah</td><td>17</td></tr><tr><td>brucechris</td><td>5</td></tr><tr><td>demonjacobs666</td><td>209</td></tr><tr><td>UnrealElijah</td><td>6</td></tr><tr><td>MissLiv888</td><td>2</td></tr><tr><td>Anthony_Helal</td><td>6</td></tr><tr><td>SrsTwist</td><td>2065</td></tr><tr><td>Bobmonk388</td><td>79</td></tr><tr><td>stuBOT</td><td>9</td></tr><tr><td>TPaine2016</td><td>254</td></tr><tr><td>MrR3</td><td>8</td></tr><tr><td>Deebz</td><td>1051</td></tr><tr><td>Butcherboy</td><td>26</td></tr><tr><td>Johnnywholesome</td><td>31</td></tr><tr><td>stonetoss</td><td>8</td></tr><tr><td>NathanKing</td><td>17</td></tr><tr><td>jimdarcy</td><td>18</td></tr><tr><td>ToddORiley</td><td>104</td></tr><tr><td>Robyn</td><td>1</td></tr><tr><td>krunk</td><td>102</td></tr><tr><td>texasgambler</td><td>2</td></tr><tr><td>gozira</td><td>29</td></tr><tr><td>RichardJLind</td><td>5</td></tr><tr><td>MeUs</td><td>98</td></tr><tr><td>crow_count</td><td>6</td></tr><tr><td>Simpletech215</td><td>37</td></tr><tr><td>AnnaLiese111</td><td>3</td></tr><tr><td>Robert_Gloversville1</td><td>6</td></tr><tr><td>onecrazychief</td><td>1</td></tr><tr><td>IndependentPundit</td><td>43</td></tr><tr><td>Eichkater</td><td>7</td></tr><tr><td>WalterBanks</td><td>40</td></tr><tr><td>Citizen4u2ask</td><td>3</td></tr><tr><td>felis_concolor</td><td>14</td></tr><tr><td>PryYour3rdEye</td><td>295</td></tr><tr><td>USNavyVeteran84</td><td>2204</td></tr><tr><td>Wiguy</td><td>59</td></tr><tr><td>AriesTrumpian</td><td>162</td></tr><tr><td>bong_jamesbong2001</td><td>79</td></tr><tr><td>VikiLauda</td><td>374</td></tr></tbody></table>Showing the first 1000 rows.</div>"
      ]
     },
     "metadata": {
      "application/vnd.databricks.v1+output": {
       "addedWidgets": {},
       "aggData": [],
       "aggError": "",
       "aggOverflow": false,
       "aggSchema": [],
       "aggSeriesLimitReached": false,
       "aggType": "",
       "arguments": {},
       "columnCustomDisplayInfos": {},
       "data": [
        [
         "Hister",
         34
        ],
        [
         "DeoVindice",
         6
        ],
        [
         "LegalLolicon",
         122
        ],
        [
         "Slammer64",
         841
        ],
        [
         "TooChainz",
         2
        ],
        [
         "WhiteMail3678",
         16
        ],
        [
         "Evenstar",
         1
        ],
        [
         "BradBarnhardSho",
         14
        ],
        [
         "CW1",
         35
        ],
        [
         "rm",
         316
        ],
        [
         "bbarian",
         151
        ],
        [
         "GiovanniDannato",
         1
        ],
        [
         "HatchetMan",
         14
        ],
        [
         "leadguitar",
         154
        ],
        [
         "BucketHead41391",
         85
        ],
        [
         "Joshmeister",
         209
        ],
        [
         "gilligan",
         2
        ],
        [
         "DrFred57",
         35
        ],
        [
         "pops-clark",
         239
        ],
        [
         "Grubama",
         212
        ],
        [
         "Piddlepuck86",
         153
        ],
        [
         "ExBladeRunner",
         78
        ],
        [
         "CurtisPulaski",
         8
        ],
        [
         "easher555",
         25
        ],
        [
         "flashfyre",
         6
        ],
        [
         "hsteggles",
         7
        ],
        [
         "telikonol",
         37
        ],
        [
         "TheRuralJuror",
         33
        ],
        [
         "PatriotInfidel",
         30
        ],
        [
         "kimdee2",
         6
        ],
        [
         "RealPhantomLibertarian",
         4
        ],
        [
         "Valor",
         1
        ],
        [
         "Soprano",
         908
        ],
        [
         "GabrielWest",
         243
        ],
        [
         "DeplorableLaughterRx",
         195
        ],
        [
         "ANC46",
         24
        ],
        [
         "MikeJohnson151",
         22
        ],
        [
         "MMMiller",
         3
        ],
        [
         "Palmtile",
         5
        ],
        [
         "Frankie_J",
         257
        ],
        [
         "LucVNO",
         41
        ],
        [
         "glassmenagerie",
         31
        ],
        [
         "DocH",
         10
        ],
        [
         "whytpharaoh69",
         3
        ],
        [
         "Dblaze09",
         1
        ],
        [
         "Clandestino",
         3
        ],
        [
         "Sahdwv",
         1
        ],
        [
         "omEon",
         11
        ],
        [
         "FashGun",
         19
        ],
        [
         "Username99",
         13
        ],
        [
         "evilmidget223",
         3
        ],
        [
         "Dachux",
         9
        ],
        [
         "Sakker",
         594
        ],
        [
         "Evell",
         1
        ],
        [
         "heavenapostrophe",
         2
        ],
        [
         "one-eyed-fat-man",
         7
        ],
        [
         "Jami_USA",
         3191
        ],
        [
         "ForBritain",
         32
        ],
        [
         "shuhari",
         1577
        ],
        [
         "TheRealDonaldTrump45",
         19538
        ],
        [
         "nubiangod",
         60
        ],
        [
         "Anonintel",
         172
        ],
        [
         "Rocrates",
         143
        ],
        [
         "JustinDMelvin",
         1
        ],
        [
         "Birdy",
         440
        ],
        [
         "StJames2017",
         23
        ],
        [
         "EternalVolgar",
         7
        ],
        [
         "Orthodox",
         252
        ],
        [
         "zyalia6tz",
         17
        ],
        [
         "Lockerius",
         15
        ],
        [
         "ThoughtCriminal303",
         13
        ],
        [
         "Kristinb",
         1
        ],
        [
         "JoeSixpack",
         18
        ],
        [
         "Naternot",
         4
        ],
        [
         "DrDerb",
         10
        ],
        [
         "NewYorkerParody",
         4
        ],
        [
         "American1765",
         29
        ],
        [
         "Deformed",
         307
        ],
        [
         "lesbianwalrus_DEFUNCT",
         7
        ],
        [
         "Homunizam",
         129
        ],
        [
         "Margi59",
         116
        ],
        [
         "Matthew_Dimock",
         10
        ],
        [
         "Solidsnake",
         20
        ],
        [
         "Schulin",
         1
        ],
        [
         "Archive_News",
         81
        ],
        [
         "VastAwakening",
         20
        ],
        [
         "srhholdem2233",
         22
        ],
        [
         "EugeneWhiting",
         2
        ],
        [
         "Poletical",
         7
        ],
        [
         "PeaceNotWar",
         34
        ],
        [
         "David_Berger",
         4
        ],
        [
         "HEISENBURG",
         20
        ],
        [
         "InfoWarrior",
         44
        ],
        [
         "JordanChristopher",
         114
        ],
        [
         "linguistic_killshot",
         1670
        ],
        [
         "spotify",
         507
        ],
        [
         "CarolinaCurious",
         48
        ],
        [
         "BrianSombrets",
         324
        ],
        [
         "JonKirkpatrick",
         4
        ],
        [
         "a",
         1224
        ],
        [
         "LouieHuey",
         8
        ],
        [
         "CarolynEmerick",
         91
        ],
        [
         "shitlording",
         328
        ],
        [
         "appliedecon",
         164
        ],
        [
         "FeralBlonde",
         53
        ],
        [
         "2ndlook1",
         52
        ],
        [
         "BrainStressBall",
         20
        ],
        [
         "LlamaMan",
         19
        ],
        [
         "Agabus274",
         1
        ],
        [
         "MoPark",
         5
        ],
        [
         "James_K_Glass",
         121
        ],
        [
         "Hotaugustnights1",
         9
        ],
        [
         "Duckhunter1960",
         31
        ],
        [
         "2525",
         55
        ],
        [
         "amq",
         8
        ],
        [
         "Johnyrebb",
         611
        ],
        [
         "Anglo-Saxon",
         6
        ],
        [
         "jeanicebarcelo",
         17
        ],
        [
         "benito-camesta",
         635
        ],
        [
         "TomKawczynski",
         411
        ],
        [
         "UncleVeracity",
         84
        ],
        [
         "Jack_Mehoff",
         136
        ],
        [
         "BOBOFkake",
         1468
        ],
        [
         "_1",
         21
        ],
        [
         "Texas_Prime",
         36
        ],
        [
         "TheBaldChick",
         76
        ],
        [
         "mikemoore",
         27
        ],
        [
         "jaxter77",
         7
        ],
        [
         "EPluribusUnum2020",
         19
        ],
        [
         "EvanTanner",
         49
        ],
        [
         "NormanSpear1",
         2
        ],
        [
         "dawns5900",
         1
        ],
        [
         "Nakoni65",
         101
        ],
        [
         "DavidKirkland",
         78
        ],
        [
         "Aquilam",
         21
        ],
        [
         "SMB",
         5
        ],
        [
         "JustaDjimmi",
         1
        ],
        [
         "Desolator2B",
         4
        ],
        [
         "Americanproud",
         140
        ],
        [
         "Nightmouse",
         962
        ],
        [
         "phoenixTPR",
         1561
        ],
        [
         "joZef",
         159
        ],
        [
         "LibertyVox",
         12
        ],
        [
         "Trumpetpro",
         74
        ],
        [
         "TheKeys",
         8
        ],
        [
         "ActivePooter",
         6
        ],
        [
         "Pjackson6688",
         15
        ],
        [
         "StormCommando",
         23
        ],
        [
         "amyvanhym",
         6
        ],
        [
         "Helpsnotontheway",
         612
        ],
        [
         "WetCunt",
         47
        ],
        [
         "JohnnyF",
         20
        ],
        [
         "Santa401",
         237
        ],
        [
         "djtmetz",
         3
        ],
        [
         "Rrabbit",
         8
        ],
        [
         "jasonhedgepeth",
         1
        ],
        [
         "paulmatheos",
         1
        ],
        [
         "dpinsen",
         4
        ],
        [
         "Eclipsebrk",
         4
        ],
        [
         "Braulz",
         43
        ],
        [
         "ZippyXavier",
         29
        ],
        [
         "HocEstBellum",
         973
        ],
        [
         "ihatematt",
         87
        ],
        [
         "Occidental_Spirit",
         18
        ],
        [
         "FeInFL",
         115
        ],
        [
         "libertyfarmsiowa",
         589
        ],
        [
         "AdamSmith18",
         1
        ],
        [
         "RickyBobbySez",
         561
        ],
        [
         "Zaklog",
         12
        ],
        [
         "cadev",
         9
        ],
        [
         "theroadtopower",
         5
        ],
        [
         "OkieGunLover",
         2
        ],
        [
         "Lilangel",
         39
        ],
        [
         "AprioriHitman",
         14
        ],
        [
         "PeacockAngel",
         10
        ],
        [
         "Pandanni",
         4
        ],
        [
         "DaFaking1",
         199
        ],
        [
         "IthePerson",
         109
        ],
        [
         "SmilingJack",
         1
        ],
        [
         "Mahmoud1212",
         77
        ],
        [
         "slackerstacker",
         1
        ],
        [
         "PoliteSupremacist",
         240
        ],
        [
         "PBelle547",
         2
        ],
        [
         "Paul007",
         4
        ],
        [
         "RealWednesdayy",
         85
        ],
        [
         "cabinetmaker",
         1
        ],
        [
         "badslave",
         1
        ],
        [
         "Ann-Marie",
         326
        ],
        [
         "toddwieland",
         1571
        ],
        [
         "bobcatready",
         12
        ],
        [
         "Kennys",
         30
        ],
        [
         "TheConservateam",
         77
        ],
        [
         "goodman",
         248
        ],
        [
         "pauljosephwatson",
         42
        ],
        [
         "Mr_Kati",
         6
        ],
        [
         "Sunshine2016",
         16
        ],
        [
         "BOCCAVERITA",
         2
        ],
        [
         "Gypsy124",
         31
        ],
        [
         "beretta22",
         10
        ],
        [
         "woltros",
         4
        ],
        [
         "ConstitutionBillofRights",
         22
        ],
        [
         "Farrier1959",
         16
        ],
        [
         "MarkT4USA",
         18
        ],
        [
         "RickyGP",
         3
        ],
        [
         "GhostOfNiccolo",
         1
        ],
        [
         "Angel9001",
         2
        ],
        [
         "BradSherard",
         2
        ],
        [
         "BrotherLarry",
         183
        ],
        [
         "AntifaMom",
         8
        ],
        [
         "Gerechtigkeit",
         1
        ],
        [
         "YLorenzo",
         307
        ],
        [
         "fgrump",
         38
        ],
        [
         "pal",
         1
        ],
        [
         "DaleEvans",
         737
        ],
        [
         "WeWantGunControl",
         332
        ],
        [
         "MadMadamMim",
         51
        ],
        [
         "HuHenHarr",
         1118
        ],
        [
         "janusss",
         5
        ],
        [
         "LoisRogers",
         205
        ],
        [
         "HERALDofYAH",
         391
        ],
        [
         "wondering04",
         13
        ],
        [
         "armorviol",
         7
        ],
        [
         "bluetrilobite",
         7
        ],
        [
         "SDriver",
         2
        ],
        [
         "Travis_Hawks",
         47
        ],
        [
         "Headforthehills",
         16
        ],
        [
         "ChiefThunderhorse",
         3
        ],
        [
         "DianaPrintz",
         26
        ],
        [
         "hunterhawk",
         14
        ],
        [
         "INFJKaren",
         14
        ],
        [
         "OcarinaJones",
         8
        ],
        [
         "Rhetaur",
         2
        ],
        [
         "MemorialRifleRange",
         419
        ],
        [
         "battleaxebill",
         157
        ],
        [
         "Guitarbill",
         58
        ],
        [
         "Florida_Rogue",
         6
        ],
        [
         "Livid",
         64
        ],
        [
         "Phil4Truth",
         16
        ],
        [
         "FascistTwitter",
         20
        ],
        [
         "Aragorn",
         561
        ],
        [
         "anomalousprime",
         1
        ],
        [
         "quinnotaur",
         11
        ],
        [
         "Breakfast_Imam",
         45
        ],
        [
         "ConsciousCaracal",
         8
        ],
        [
         "ThatGamingAsshole",
         4
        ],
        [
         "EvilMann",
         19
        ],
        [
         "fordtruck",
         5
        ],
        [
         "hatredshmatred",
         21
        ],
        [
         "conservative_17",
         29
        ],
        [
         "altsociology",
         4
        ],
        [
         "bogthing",
         277
        ],
        [
         "Khaleesi74",
         3
        ],
        [
         "DarkTriadMan",
         71
        ],
        [
         "kawfarmer",
         1
        ],
        [
         "ARDavid",
         26
        ],
        [
         "MAGAPatriot",
         33
        ],
        [
         "frogg",
         27
        ],
        [
         "Pompolitone",
         96
        ],
        [
         "PeaceAndJobs1",
         57
        ],
        [
         "Alicia777",
         4
        ],
        [
         "jprexena",
         1136
        ],
        [
         "Renegado",
         7
        ],
        [
         "wishgranter14",
         254
        ],
        [
         "MuzzaChunka",
         7
        ],
        [
         "Hettman",
         405
        ],
        [
         "blat1982",
         65
        ],
        [
         "judiewood2",
         9
        ],
        [
         "Number-Six",
         193
        ],
        [
         "Mdonato48",
         114
        ],
        [
         "KellKell",
         48
        ],
        [
         "steveruns26",
         371
        ],
        [
         "CarnalMormon",
         282
        ],
        [
         "ShaHouMac",
         69
        ],
        [
         "RadCharlie",
         54
        ],
        [
         "Conansdog",
         1882
        ],
        [
         "Richard1972",
         30
        ],
        [
         "moot0ne",
         2
        ],
        [
         "softwarnet",
         80
        ],
        [
         "koellenko",
         1
        ],
        [
         "KurtSchlichter",
         3
        ],
        [
         "PA_01",
         14
        ],
        [
         "CitySlickerTony",
         94
        ],
        [
         "WhiteSparrow",
         206
        ],
        [
         "Robertgilmaney",
         2
        ],
        [
         "pepesilvia1",
         3
        ],
        [
         "monchski",
         19
        ],
        [
         "WilhelmVonJudengas",
         200
        ],
        [
         "Nospin_43",
         63
        ],
        [
         "ColdBeer",
         753
        ],
        [
         "GeraldineJ",
         88
        ],
        [
         "TheWardCleaverExperience",
         2
        ],
        [
         "JakeHamel",
         58
        ],
        [
         "enemy_88",
         134
        ],
        [
         "Nemesis",
         3
        ],
        [
         "Aldaramira",
         256
        ],
        [
         "AelfredRex",
         1
        ],
        [
         "Pat5zero",
         85
        ],
        [
         "MaouTsaou",
         161
        ],
        [
         "Dancesonurgrave",
         2
        ],
        [
         "chemx",
         121
        ],
        [
         "Heretic2",
         112
        ],
        [
         "ElectronNeutrino",
         37
        ],
        [
         "chimerarose",
         8
        ],
        [
         "Rumrunner2020",
         7
        ],
        [
         "Spnn2372",
         222
        ],
        [
         "hazysun",
         10
        ],
        [
         "tmjbog",
         22
        ],
        [
         "DBrownie",
         2
        ],
        [
         "WinterSoldier",
         61
        ],
        [
         "CleansedByJC",
         75
        ],
        [
         "Pensive_Daddy",
         115
        ],
        [
         "EllaCruz",
         16
        ],
        [
         "Scarasha",
         122
        ],
        [
         "JeanEBraveaux",
         2651
        ],
        [
         "Visigothic",
         7
        ],
        [
         "Alejandrodude13",
         254
        ],
        [
         "Cheryllynn",
         2
        ],
        [
         "SongsofFreedom",
         78
        ],
        [
         "Spirit_of_1776",
         16
        ],
        [
         "Aussieredneck",
         244
        ],
        [
         "Soft_Power_Thinker",
         28
        ],
        [
         "lrdvdr77",
         2
        ],
        [
         "Vonkali",
         122
        ],
        [
         "Mad_march",
         12
        ],
        [
         "winterwings",
         20
        ],
        [
         "shannonhorn",
         5
        ],
        [
         "nemesis777",
         5
        ],
        [
         "cat_lady_of_doom",
         97
        ],
        [
         "bombbelt",
         15
        ],
        [
         "Sbmullin",
         4
        ],
        [
         "AGirlAndHerFKNHammer",
         9
        ],
        [
         "CAline",
         9
        ],
        [
         "gunconfiscation",
         20
        ],
        [
         "SashiaIshizu",
         35
        ],
        [
         "Ruth-Plant",
         695
        ],
        [
         "iagos",
         437
        ],
        [
         "AuntieJules",
         122
        ],
        [
         "Downwithbiggovernment",
         5
        ],
        [
         "Trinacria",
         225
        ],
        [
         "liquidsteel",
         1
        ],
        [
         "Agilis_Libertas",
         138
        ],
        [
         "eBiblicalTruth",
         135
        ],
        [
         "MadxMan59",
         1
        ],
        [
         "Hippiemamagypsylove",
         80
        ],
        [
         "Marginalized",
         52
        ],
        [
         "stt1887",
         2
        ],
        [
         "rebel4life",
         1009
        ],
        [
         "justicephil",
         87
        ],
        [
         "SNAFU",
         16
        ],
        [
         "KurdaMikes",
         55
        ],
        [
         "unitedrtv",
         4
        ],
        [
         "Spotted_Lady",
         16
        ],
        [
         "Daviiid",
         6
        ],
        [
         "leemcd56",
         2
        ],
        [
         "EvaBrown",
         8
        ],
        [
         "Hamid2244",
         2
        ],
        [
         "Ornmee-aakhongpom",
         1
        ],
        [
         "OzMAGA",
         154
        ],
        [
         "Exploring_4NRG",
         1
        ],
        [
         "WND",
         72
        ],
        [
         "theNEP",
         12
        ],
        [
         "kadoedelatoe",
         4
        ],
        [
         "skyladawn",
         8
        ],
        [
         "deplorable-infidel",
         1
        ],
        [
         "Melpomene",
         3
        ],
        [
         "neojoe",
         5
        ],
        [
         "Geraldad",
         29
        ],
        [
         "Dawingman",
         141
        ],
        [
         "thesentinel",
         41
        ],
        [
         "Stahove1",
         78
        ],
        [
         "Gatorhunting",
         77
        ],
        [
         "triple_red",
         15
        ],
        [
         "thegoldwater",
         57
        ],
        [
         "rickybird",
         139
        ],
        [
         "inwarse",
         12
        ],
        [
         "WesZ28",
         102
        ],
        [
         "HollySet128",
         80
        ],
        [
         "RealKellinSheets",
         10
        ],
        [
         "Thirteen",
         170
        ],
        [
         "HWR",
         11
        ],
        [
         "KassandraTroy",
         25
        ],
        [
         "Unicornsaregreat",
         25
        ],
        [
         "DGrant",
         4
        ],
        [
         "drom_techmarine",
         2810
        ],
        [
         "ButchDeadlift",
         21
        ],
        [
         "Tom4Freedom",
         48
        ],
        [
         "cincinchili",
         162
        ],
        [
         "PCsReasy",
         33
        ],
        [
         "LaymanGrey",
         30
        ],
        [
         "Dalcon",
         14
        ],
        [
         "AubreyLaVentana",
         57
        ],
        [
         "LogicSword",
         8
        ],
        [
         "mandy4647",
         26
        ],
        [
         "gnomeland",
         7
        ],
        [
         "USEless",
         4
        ],
        [
         "APMechanic",
         2
        ],
        [
         "cvilatam",
         23
        ],
        [
         "lightcrow",
         1
        ],
        [
         "Curtisl13",
         9
        ],
        [
         "viktor_deplorban",
         77
        ],
        [
         "Pantog",
         1
        ],
        [
         "Modem",
         187
        ],
        [
         "TorpedoVegas",
         9
        ],
        [
         "antidorsessions",
         1
        ],
        [
         "yes_im_a_racist",
         8
        ],
        [
         "HereticBear",
         1
        ],
        [
         "DarkLife",
         9
        ],
        [
         "claudia92399",
         1
        ],
        [
         "Bytes",
         38
        ],
        [
         "SoaringNow",
         352
        ],
        [
         "prncssdi83",
         1
        ],
        [
         "Gritsngravy",
         60
        ],
        [
         "FreeAgent355",
         143
        ],
        [
         "Mpars",
         265
        ],
        [
         "ElDerecho",
         62
        ],
        [
         "ddpaulbell",
         76
        ],
        [
         "lmguerra74",
         71
        ],
        [
         "hillbilly1488",
         345
        ],
        [
         "SweetLiberties",
         16
        ],
        [
         "Mefairgolf",
         75
        ],
        [
         "Standtallusa",
         3
        ],
        [
         "JH",
         20
        ],
        [
         "opposition_X",
         484
        ],
        [
         "NaziFlambe",
         84
        ],
        [
         "Tatjana_Festerling",
         19
        ],
        [
         "WestIsTheBest",
         2
        ],
        [
         "lechocracu",
         3
        ],
        [
         "Marijan",
         93
        ],
        [
         "MichaelHill1951",
         1
        ],
        [
         "Cobalt-Blue",
         16
        ],
        [
         "tedmont",
         33
        ],
        [
         "cgijoe",
         5
        ],
        [
         "bydefault",
         1
        ],
        [
         "digerid00",
         5
        ],
        [
         "chill311",
         3
        ],
        [
         "ChadLilly",
         720
        ],
        [
         "RobinYoung",
         1
        ],
        [
         "JA37",
         650
        ],
        [
         "joeyDK",
         17
        ],
        [
         "Impresaria",
         237
        ],
        [
         "Timo1983",
         13
        ],
        [
         "debchia",
         15
        ],
        [
         "DavidFerrie",
         163
        ],
        [
         "Engir",
         1396
        ],
        [
         "brittlesslife",
         23
        ],
        [
         "Holdonamo",
         90
        ],
        [
         "IloveDonaldTrump",
         9
        ],
        [
         "SCOWLER",
         326
        ],
        [
         "Evercode",
         8
        ],
        [
         "freddiefreeloader",
         17
        ],
        [
         "annaquinter0",
         4
        ],
        [
         "Jefoss",
         2
        ],
        [
         "Paraliegance",
         592
        ],
        [
         "ufkev",
         221
        ],
        [
         "VotingFemale",
         1192
        ],
        [
         "freetruthmedia",
         2
        ],
        [
         "LegendaryCollektor",
         3285
        ],
        [
         "kenmac",
         335
        ],
        [
         "HabuQueen",
         446
        ],
        [
         "AndrewAnglin",
         223
        ],
        [
         "GTKRWN",
         1748
        ],
        [
         "Tony100",
         134
        ],
        [
         "huWhiteCat",
         2
        ],
        [
         "Igroki",
         173
        ],
        [
         "FLYNNL1VE5",
         27
        ],
        [
         "grego",
         50
        ],
        [
         "foxalaska",
         24
        ],
        [
         "igotatan4U",
         1580
        ],
        [
         "Blockaderunner",
         120
        ],
        [
         "GnonCompliant",
         491
        ],
        [
         "Charmander",
         354
        ],
        [
         "Kattekop",
         3
        ],
        [
         "Smithumz",
         89
        ],
        [
         "Leopoindexter",
         13
        ],
        [
         "RealFreeSpeech",
         29
        ],
        [
         "joex",
         1
        ],
        [
         "KTH",
         254
        ],
        [
         "LibInquieto",
         25
        ],
        [
         "Techman0",
         9
        ],
        [
         "JonM",
         4
        ],
        [
         "Jakdup",
         3
        ],
        [
         "existentiallyours",
         4
        ],
        [
         "_AR14_",
         39
        ],
        [
         "UN_DIPLOMATIC",
         10
        ],
        [
         "AndrewMeyer",
         3
        ],
        [
         "Fr0ggy",
         8
        ],
        [
         "_watchdog_",
         56
        ],
        [
         "Anubiss",
         53
        ],
        [
         "BeeBear",
         44
        ],
        [
         "DeplorableSurfer",
         97
        ],
        [
         "RPG88",
         263
        ],
        [
         "cronosphere",
         5
        ],
        [
         "SpeakerOfTurth",
         51
        ],
        [
         "worsethanHitler",
         29
        ],
        [
         "Brasser",
         51
        ],
        [
         "LocKirup",
         7
        ],
        [
         "eRedEye",
         165
        ],
        [
         "as400guy05",
         2
        ],
        [
         "PeterRWC",
         3
        ],
        [
         "HateNiggers",
         17
        ],
        [
         "rugmaster",
         17
        ],
        [
         "Sherry",
         126
        ],
        [
         "MeanGuitar",
         36
        ],
        [
         "memegawker",
         8
        ],
        [
         "ahdamn",
         1
        ],
        [
         "Davin",
         2
        ],
        [
         "Christians",
         7
        ],
        [
         "SonofMeldrew",
         2
        ],
        [
         "AntiNazi",
         10
        ],
        [
         "whiskey",
         166
        ],
        [
         "hunbun",
         979
        ],
        [
         "FedraFarmer",
         1222
        ],
        [
         "TheForestFromTheTrees",
         4252
        ],
        [
         "ImperiumNews",
         18
        ],
        [
         "SkyKnight",
         30
        ],
        [
         "Mountaineer1",
         761
        ],
        [
         "xspeak",
         1
        ],
        [
         "WandS",
         29
        ],
        [
         "ShareblueMedia",
         306
        ],
        [
         "bbeeaann",
         17834
        ],
        [
         "DonTempleton",
         90
        ],
        [
         "Runsondiesel",
         63
        ],
        [
         "OxAO",
         12
        ],
        [
         "mysterycomment",
         16
        ],
        [
         "dfu0",
         286
        ],
        [
         "LexiconJewel",
         127
        ],
        [
         "BostonPaul",
         33
        ],
        [
         "UnkelRuckus",
         11
        ],
        [
         "paddymcgrory",
         2
        ],
        [
         "TimeToPayTheTab",
         15
        ],
        [
         "6bird4",
         69
        ],
        [
         "Roben",
         7
        ],
        [
         "svenroy",
         109
        ],
        [
         "LordCrocosquirrel",
         3
        ],
        [
         "NotCaptainAmerica",
         24
        ],
        [
         "Badgerrr",
         4
        ],
        [
         "RealDavidDuke",
         5
        ],
        [
         "jackelliot",
         33
        ],
        [
         "undonefun",
         1
        ],
        [
         "DeplorableJNIC",
         2
        ],
        [
         "WhiteMansBible",
         751
        ],
        [
         "James_Dixon",
         97
        ],
        [
         "GrGrandmaFoster",
         435
        ],
        [
         "michaelsreturn4ever",
         2
        ],
        [
         "StephenS007",
         1
        ],
        [
         "mytqin8",
         34
        ],
        [
         "HelloMurica",
         236
        ],
        [
         "FlyingFrog",
         8
        ],
        [
         "BladeoftheSword",
         53
        ],
        [
         "PyramidSkeem",
         6
        ],
        [
         "BFA",
         12
        ],
        [
         "Brown_Recluse",
         10
        ],
        [
         "MartinOnGab",
         2
        ],
        [
         "HorribleLilMe",
         9
        ],
        [
         "Griffon_09",
         2
        ],
        [
         "Casper_",
         337
        ],
        [
         "LastOfUs",
         25
        ],
        [
         "zsleepwalker",
         7
        ],
        [
         "Grahamelambda",
         3
        ],
        [
         "USAone",
         20
        ],
        [
         "OllieTwist",
         4
        ],
        [
         "KARTOSHKA",
         40
        ],
        [
         "bosunj",
         203
        ],
        [
         "NickGandalfi",
         20
        ],
        [
         "Ajohnright15",
         241
        ],
        [
         "WrenchRatt",
         33
        ],
        [
         "RHubsted",
         44
        ],
        [
         "Adaptive",
         204
        ],
        [
         "Banshee",
         330
        ],
        [
         "wirelessguru1",
         1922
        ],
        [
         "DeplorableSpirit",
         13
        ],
        [
         "BernieT",
         35
        ],
        [
         "occdissent",
         301
        ],
        [
         "Travelingman",
         125
        ],
        [
         "KewlBeanz88",
         3
        ],
        [
         "ZincSupreme",
         275
        ],
        [
         "TyroneBNiggmanPhD",
         122
        ],
        [
         "EdisonJones",
         3
        ],
        [
         "TheImplicitGuardsmen",
         10
        ],
        [
         "Awesome_Trump",
         63
        ],
        [
         "StephenClayMcGehee",
         418
        ],
        [
         "Hocksip60",
         1
        ],
        [
         "PMFarmer",
         60
        ],
        [
         "joesch1999",
         222
        ],
        [
         "schizodan",
         2
        ],
        [
         "VortexQ",
         89
        ],
        [
         "SteveMNN",
         4
        ],
        [
         "CivilstockOz",
         12
        ],
        [
         "LexiKEKographer",
         2
        ],
        [
         "NoBS4U",
         59
        ],
        [
         "Mitchell_in_Motion",
         26
        ],
        [
         "IllyaLaughs",
         3
        ],
        [
         "KPrestonT2",
         730
        ],
        [
         "DaddyCrabCakes",
         1154
        ],
        [
         "greathuwhiteshark",
         52
        ],
        [
         "SLCBagpiper",
         346
        ],
        [
         "trumpy17",
         326
        ],
        [
         "HWONDER",
         2
        ],
        [
         "Republicat",
         161
        ],
        [
         "AMW",
         20
        ],
        [
         "bbfohio",
         370
        ],
        [
         "daffydgam",
         2
        ],
        [
         "BSODmyself",
         17
        ],
        [
         "DeplorableNurse",
         4
        ],
        [
         "TheNumenorean",
         117
        ],
        [
         "RhondaSc",
         7
        ],
        [
         "her4bert",
         7
        ],
        [
         "Seven67",
         29
        ],
        [
         "PriviLegend",
         6
        ],
        [
         "CynHo",
         3
        ],
        [
         "IAWTP",
         128
        ],
        [
         "Snake_Plissken",
         18
        ],
        [
         "lonegunman65",
         77
        ],
        [
         "graceman33",
         131
        ],
        [
         "Nunya-Biznass",
         6
        ],
        [
         "rogerlocke",
         70
        ],
        [
         "DownwithOPP312",
         19
        ],
        [
         "lmerchant",
         9
        ],
        [
         "benjibuckles",
         9
        ],
        [
         "kevinmckenzie",
         119
        ],
        [
         "angryroc456",
         15
        ],
        [
         "wikileaksonweed",
         4
        ],
        [
         "WilliamHenwood",
         62
        ],
        [
         "HiddenHandChopper",
         41
        ],
        [
         "mothersmurfer",
         16
        ],
        [
         "PrettyPrinter",
         24
        ],
        [
         "andilinks",
         19
        ],
        [
         "LW_currentyear",
         1
        ],
        [
         "EEJinLV",
         19
        ],
        [
         "Shiftxp",
         1
        ],
        [
         "Lightningscool",
         4
        ],
        [
         "Philouphilou280",
         1
        ],
        [
         "BrexitAteMyDog",
         2
        ],
        [
         "ProjectRepublic",
         9
        ],
        [
         "gdavispa",
         33
        ],
        [
         "Arculfe",
         37
        ],
        [
         "baerdric",
         359
        ],
        [
         "OccamsEpilady",
         12646
        ],
        [
         "steelpaulo",
         383
        ],
        [
         "Unenrolled",
         247
        ],
        [
         "StevenKeaton",
         270
        ],
        [
         "Whiteknight1488",
         1689
        ],
        [
         "alt-gringa",
         23
        ],
        [
         "ThatConfused1",
         619
        ],
        [
         "Sprechundspiel",
         44
        ],
        [
         "angrywebmaster",
         7
        ],
        [
         "davidfisco",
         53
        ],
        [
         "WonkAntifa",
         4
        ],
        [
         "Bmacfucklibtars",
         648
        ],
        [
         "douglaskaye",
         7
        ],
        [
         "JAC299",
         1
        ],
        [
         "Gnaevs",
         102
        ],
        [
         "MeanAuntRena",
         3
        ],
        [
         "PareshaBrideofChrist",
         11
        ],
        [
         "FrankGoneMad",
         192
        ],
        [
         "EarlingGarrison",
         4
        ],
        [
         "Brendyrose",
         8
        ],
        [
         "colingerald",
         2
        ],
        [
         "DblEagle",
         3
        ],
        [
         "GarySavageSr",
         13
        ],
        [
         "GarySaintJust",
         23
        ],
        [
         "Tommywright",
         1
        ],
        [
         "DenzaGrad",
         44
        ],
        [
         "MHN",
         10
        ],
        [
         "jljarvis",
         575
        ],
        [
         "JudgmentDay",
         8
        ],
        [
         "KenFromMichigan",
         33
        ],
        [
         "theoldsquid",
         36
        ],
        [
         "TheDeadmanRules",
         23
        ],
        [
         "DelmarvaRebel",
         35
        ],
        [
         "FatherJohn",
         54
        ],
        [
         "USMC-DevilDog",
         8083
        ],
        [
         "3DAngelique",
         2752
        ],
        [
         "FEDUPCITIZEN7",
         559
        ],
        [
         "weeklyflyer",
         221
        ],
        [
         "Trump17",
         7
        ],
        [
         "mysticphoeniix",
         260
        ],
        [
         "TZilla",
         146
        ],
        [
         "hail-the-swastika",
         2
        ],
        [
         "Mur_Tech",
         39
        ],
        [
         "Hugin2017",
         224
        ],
        [
         "ILANAMERCER",
         176
        ],
        [
         "ThemoslemReaper",
         87
        ],
        [
         "D_vaughn",
         300
        ],
        [
         "1776Again",
         30
        ],
        [
         "TomSawyer",
         146
        ],
        [
         "Ahiker",
         1
        ],
        [
         "Bluecollarbulletin",
         5
        ],
        [
         "dagoyimknow",
         2
        ],
        [
         "NATOR420",
         2
        ],
        [
         "TheCFTWatchers",
         7
        ],
        [
         "tinanikolai",
         11
        ],
        [
         "Powerslave1978",
         7
        ],
        [
         "AlexDupont",
         291
        ],
        [
         "MarcusCicero2",
         22
        ],
        [
         "Mogills",
         1
        ],
        [
         "illinois_j",
         16
        ],
        [
         "Bidenshairplugs",
         441
        ],
        [
         "JustinEarlLewis",
         86
        ],
        [
         "PreciousSnowflake",
         25
        ],
        [
         "Usidus",
         16
        ],
        [
         "MaxMercer",
         33
        ],
        [
         "RedPillBlues",
         4
        ],
        [
         "RealRosie",
         47
        ],
        [
         "CuckTheState",
         14
        ],
        [
         "whoohoo001",
         105
        ],
        [
         "Applefritter",
         1
        ],
        [
         "Risotto",
         7
        ],
        [
         "crunchyscallop",
         16
        ],
        [
         "Nheiles",
         21
        ],
        [
         "ThePiston",
         70
        ],
        [
         "AsIf",
         15
        ],
        [
         "AllAmericanLady",
         5
        ],
        [
         "BCGJBH",
         1
        ],
        [
         "KittyKittyPatriot",
         2
        ],
        [
         "0XFatimaX0",
         828
        ],
        [
         "CounterJihad",
         1657
        ],
        [
         "RachelBartlett",
         813
        ],
        [
         "CharlesMartel1st",
         151
        ],
        [
         "BioWreck",
         652
        ],
        [
         "BlueEyedDevil",
         520
        ],
        [
         "HALO13",
         180
        ],
        [
         "TruthWillOut",
         1700
        ],
        [
         "retrocity5",
         28
        ],
        [
         "Fash_McQueen",
         747
        ],
        [
         "PickleJarsForHillary",
         81
        ],
        [
         "AngryKrampus",
         1
        ],
        [
         "Mark_",
         17
        ],
        [
         "gvperagine",
         2
        ],
        [
         "RoaringTRex",
         1
        ],
        [
         "SoulSista",
         20
        ],
        [
         "TheGoodSon",
         1
        ],
        [
         "ftboomer",
         23
        ],
        [
         "Vanderleun",
         11
        ],
        [
         "makeupumind",
         24
        ],
        [
         "TheRicksta1385",
         2
        ],
        [
         "KasparHauser",
         4
        ],
        [
         "xblack13x",
         32
        ],
        [
         "Gracchi",
         5
        ],
        [
         "AcidBrainWash",
         1424
        ],
        [
         "richardlarose",
         46
        ],
        [
         "shorty",
         2323
        ],
        [
         "GrouchyRasputin",
         88
        ],
        [
         "BoosterBunny",
         883
        ],
        [
         "OpenTheDoor",
         4
        ],
        [
         "Aguinn",
         21
        ],
        [
         "LodiSilverado",
         175
        ],
        [
         "godaddy",
         512
        ],
        [
         "That_Patent_Guy",
         17
        ],
        [
         "nefariousplot",
         215
        ],
        [
         "Jerbear",
         112
        ],
        [
         "Figs",
         82
        ],
        [
         "Swath",
         94
        ],
        [
         "xcct",
         2
        ],
        [
         "backwoodspatriot",
         45
        ],
        [
         "TreasureState",
         131
        ],
        [
         "MasterMind119",
         8
        ],
        [
         "NickGriffin",
         72
        ],
        [
         "The9thNinja",
         10
        ],
        [
         "ServantOfKek",
         1
        ],
        [
         "DawdMark",
         1
        ],
        [
         "StimpsonJCat",
         1
        ],
        [
         "Mattycakes0231",
         7
        ],
        [
         "sidrufdiamond",
         6
        ],
        [
         "thinkfreely_sam",
         39
        ],
        [
         "Paintguy",
         1
        ],
        [
         "TrumpGirl2",
         3
        ],
        [
         "gaylordsunandshield",
         145
        ],
        [
         "ilpiolo",
         3
        ],
        [
         "Shaddam",
         396
        ],
        [
         "BaronVonUngernSternberg",
         59
        ],
        [
         "tomatoguts",
         456
        ],
        [
         "user_name_tak_n",
         251
        ],
        [
         "Truth_Seeker28",
         2
        ],
        [
         "TheRealSmij",
         1975
        ],
        [
         "UnrealNateStorm",
         35
        ],
        [
         "Kambeii",
         54
        ],
        [
         "GEHRAUS",
         38
        ],
        [
         "henry_in_Texas",
         377
        ],
        [
         "BlackAgnes",
         14
        ],
        [
         "ProudlyWhiteProudlyRight",
         194
        ],
        [
         "Southsider1",
         132
        ],
        [
         "Chasing_Rabbits",
         105
        ],
        [
         "BrittPettibone",
         4
        ],
        [
         "Tina4Short",
         1
        ],
        [
         "Bearstylez",
         22
        ],
        [
         "tteclod",
         88
        ],
        [
         "ASojourner",
         86
        ],
        [
         "DDosCapitol",
         3
        ],
        [
         "F_von_Steiner",
         5
        ],
        [
         "My_Shenanigans",
         3
        ],
        [
         "OfficalHobane",
         2
        ],
        [
         "Epiphany_Zone",
         14
        ],
        [
         "CletusVanDamm",
         13
        ],
        [
         "sportsbargastro",
         1047
        ],
        [
         "adolfo_hitleron",
         34
        ],
        [
         "Naam",
         9940
        ],
        [
         "AP_PATRIOT",
         995
        ],
        [
         "BabySisterKate",
         2
        ],
        [
         "Promotor_Fidei",
         304
        ],
        [
         "secretangentman",
         345
        ],
        [
         "Flowerlady",
         14
        ],
        [
         "DJWalby",
         66
        ],
        [
         "Seneiuer",
         16
        ],
        [
         "Strictly_Jake",
         55
        ],
        [
         "SIGDAG",
         8
        ],
        [
         "S55N007",
         138
        ],
        [
         "Cephus",
         462
        ],
        [
         "Deucalion_",
         38
        ],
        [
         "SteveLove4All",
         267
        ],
        [
         "mmoates",
         29
        ],
        [
         "Edgy",
         116
        ],
        [
         "DaveLon495",
         114
        ],
        [
         "boblachiasse",
         1
        ],
        [
         "US_Veteran",
         2
        ],
        [
         "BigVig",
         12
        ],
        [
         "AwesomeIva",
         37
        ],
        [
         "Strelokk",
         46
        ],
        [
         "Deplorable-expat",
         4
        ],
        [
         "Kiajo",
         10
        ],
        [
         "futant76",
         2
        ],
        [
         "arbigram",
         25
        ],
        [
         "EmJayGee",
         1
        ],
        [
         "STGeorgina",
         42
        ],
        [
         "BKnight561",
         5
        ],
        [
         "BeEtLjOoZ",
         32
        ],
        [
         "Lestrade",
         40
        ],
        [
         "Dan_Gray_",
         74
        ],
        [
         "TrevorGoodchild",
         281
        ],
        [
         "NationalistFoil",
         93
        ],
        [
         "ROCKintheUSSA",
         2266
        ],
        [
         "Hbomb",
         172
        ],
        [
         "andieiamwhoiam",
         1025
        ],
        [
         "knip",
         4
        ],
        [
         "lovemycountry",
         6
        ],
        [
         "WannaBeSedated",
         15
        ],
        [
         "WaterBuck",
         63
        ],
        [
         "nunnyadayambiddness",
         471
        ],
        [
         "12StringSamurai",
         3
        ],
        [
         "SophieLMH",
         2
        ],
        [
         "poopswastika",
         19
        ],
        [
         "DJTrump2020",
         52
        ],
        [
         "farneyman",
         1
        ],
        [
         "Th3SilentComedy",
         169
        ],
        [
         "Amritas",
         464
        ],
        [
         "Sudreich",
         54
        ],
        [
         "OrthodoxHeretic",
         16
        ],
        [
         "MagpieM",
         4
        ],
        [
         "Grimnirson",
         12
        ],
        [
         "lu_zero",
         38
        ],
        [
         "tippy69",
         26
        ],
        [
         "o_Opinionated",
         223
        ],
        [
         "tsimsparker",
         1
        ],
        [
         "Akavit",
         1
        ],
        [
         "talwolf2",
         2
        ],
        [
         "Ghastly_Grinner",
         33
        ],
        [
         "LiberTarHeel",
         20
        ],
        [
         "genophilia",
         2922
        ],
        [
         "Bluesbreaker8",
         44
        ],
        [
         "heilige_tod",
         3
        ],
        [
         "jamescpyun",
         168
        ],
        [
         "KgdlBrown97",
         236
        ],
        [
         "CANST",
         14
        ],
        [
         "_14words_",
         2
        ],
        [
         "Iixsive",
         17
        ],
        [
         "BobMartin",
         584
        ],
        [
         "Don-tTreadOnMe",
         132
        ],
        [
         "T3h_K1tt3h",
         111
        ],
        [
         "RealDaveP",
         209
        ],
        [
         "Samivel",
         6
        ],
        [
         "Shuffleboard",
         161
        ],
        [
         "TH",
         6
        ],
        [
         "Vexation",
         3
        ],
        [
         "AaronJL",
         2
        ],
        [
         "E53turner",
         43
        ],
        [
         "DeplorablyECC",
         4
        ],
        [
         "RealAmericanPatriot",
         101
        ],
        [
         "Believer51Anon",
         1
        ],
        [
         "AlaskaRaven",
         69
        ],
        [
         "Redhammer",
         2
        ],
        [
         "John_Galt1970",
         53
        ],
        [
         "TheRealCovefefe11B",
         9
        ],
        [
         "mgwilson",
         77
        ],
        [
         "Sedsays",
         32
        ],
        [
         "KneeGrow",
         105
        ],
        [
         "ElGed",
         46
        ],
        [
         "Frank61",
         228
        ],
        [
         "Lakeem",
         158
        ],
        [
         "PSchyemanskiy",
         9
        ],
        [
         "Ex2I8",
         412
        ],
        [
         "karma-lounge",
         581
        ],
        [
         "nightwish",
         949
        ],
        [
         "AltruisticEnigma",
         765
        ],
        [
         "kt",
         13
        ],
        [
         "Random_Slav",
         29
        ],
        [
         "203rdAirMage_Bn",
         8
        ],
        [
         "VerseCannon",
         4
        ],
        [
         "Steve1",
         2
        ],
        [
         "JohnRivers",
         324
        ],
        [
         "dsb",
         113
        ],
        [
         "Civil_Savage",
         1
        ],
        [
         "TechnoEugenics",
         361
        ],
        [
         "FinMin",
         373
        ],
        [
         "Rantingly",
         23
        ],
        [
         "Dwelsh",
         5
        ],
        [
         "MickeyDee",
         35
        ],
        [
         "Capn_Zag",
         4
        ],
        [
         "Teamlessgovmorefun",
         70
        ],
        [
         "vampyyri1123",
         13
        ],
        [
         "Nemo11010",
         1
        ],
        [
         "Christine_Thornz",
         35
        ],
        [
         "durlin585",
         8
        ],
        [
         "Marcn",
         1
        ],
        [
         "cornyone",
         16
        ],
        [
         "conmatt",
         1
        ],
        [
         "robkaufman",
         12
        ],
        [
         "BeauregardOCeallaigh",
         1
        ],
        [
         "AnAnglo-American",
         130
        ],
        [
         "whythetruth",
         385
        ],
        [
         "WWWWWWWWWWWWWWWWWWWWWWWWW",
         24
        ],
        [
         "AlCynic",
         307
        ],
        [
         "For_God_And_Ulster",
         54
        ],
        [
         "MikeinDFW",
         556
        ],
        [
         "FurDog54",
         150
        ],
        [
         "drallod",
         5
        ],
        [
         "hellotonycrowe",
         150
        ],
        [
         "HillaryCllinton",
         18
        ],
        [
         "BePoliticallyIncorrect",
         1
        ],
        [
         "John_the_White",
         53
        ],
        [
         "GB32756",
         670
        ],
        [
         "KebabRemovalService",
         44
        ],
        [
         "kkogut",
         10
        ],
        [
         "RockyPlace",
         57
        ],
        [
         "Stingo",
         2
        ],
        [
         "humdingishere",
         22
        ],
        [
         "PhillipCMcGuire",
         13
        ],
        [
         "jachinglaplume",
         349
        ],
        [
         "Ra_",
         1322
        ],
        [
         "Frogs0fWar",
         22
        ],
        [
         "DoomsdayLibrary",
         940
        ],
        [
         "imfromaz",
         2
        ],
        [
         "Abort_Liberals",
         18
        ],
        [
         "Josiah67",
         9
        ],
        [
         "gloria0608",
         5
        ],
        [
         "Fitz5",
         1
        ],
        [
         "ludwigmaximilian",
         3
        ],
        [
         "AmansPatriae",
         28
        ],
        [
         "PatriotKracker80",
         39
        ],
        [
         "JoakimS",
         1
        ],
        [
         "MDOrleans",
         188
        ],
        [
         "luther",
         107
        ],
        [
         "EDGY_BOI_J",
         10
        ],
        [
         "The_Emu",
         50
        ],
        [
         "RuewenFate",
         69
        ],
        [
         "BullshitMan",
         18
        ],
        [
         "scs",
         2
        ],
        [
         "cashmoneyglock",
         11
        ],
        [
         "sevvie",
         12
        ],
        [
         "freebird-is",
         1
        ],
        [
         "Buddha0004",
         1
        ],
        [
         "amjurfinah",
         17
        ],
        [
         "brucechris",
         5
        ],
        [
         "demonjacobs666",
         209
        ],
        [
         "UnrealElijah",
         6
        ],
        [
         "MissLiv888",
         2
        ],
        [
         "Anthony_Helal",
         6
        ],
        [
         "SrsTwist",
         2065
        ],
        [
         "Bobmonk388",
         79
        ],
        [
         "stuBOT",
         9
        ],
        [
         "TPaine2016",
         254
        ],
        [
         "MrR3",
         8
        ],
        [
         "Deebz",
         1051
        ],
        [
         "Butcherboy",
         26
        ],
        [
         "Johnnywholesome",
         31
        ],
        [
         "stonetoss",
         8
        ],
        [
         "NathanKing",
         17
        ],
        [
         "jimdarcy",
         18
        ],
        [
         "ToddORiley",
         104
        ],
        [
         "Robyn",
         1
        ],
        [
         "krunk",
         102
        ],
        [
         "texasgambler",
         2
        ],
        [
         "gozira",
         29
        ],
        [
         "RichardJLind",
         5
        ],
        [
         "MeUs",
         98
        ],
        [
         "crow_count",
         6
        ],
        [
         "Simpletech215",
         37
        ],
        [
         "AnnaLiese111",
         3
        ],
        [
         "Robert_Gloversville1",
         6
        ],
        [
         "onecrazychief",
         1
        ],
        [
         "IndependentPundit",
         43
        ],
        [
         "Eichkater",
         7
        ],
        [
         "WalterBanks",
         40
        ],
        [
         "Citizen4u2ask",
         3
        ],
        [
         "felis_concolor",
         14
        ],
        [
         "PryYour3rdEye",
         295
        ],
        [
         "USNavyVeteran84",
         2204
        ],
        [
         "Wiguy",
         59
        ],
        [
         "AriesTrumpian",
         162
        ],
        [
         "bong_jamesbong2001",
         79
        ],
        [
         "VikiLauda",
         374
        ]
       ],
       "datasetInfos": [],
       "dbfsResultPath": null,
       "isJsonSchema": true,
       "metadata": {},
       "overflow": true,
       "plotOptions": {
        "customPlotOptions": {},
        "displayType": "table",
        "pivotAggregation": null,
        "pivotColumns": null,
        "xColumns": null,
        "yColumns": null
       },
       "removedWidgets": [],
       "schema": [
        {
         "metadata": "{}",
         "name": "id",
         "type": "\"string\""
        },
        {
         "metadata": "{}",
         "name": "inDegree",
         "type": "\"integer\""
        }
       ],
       "type": "table"
      }
     },
     "output_type": "display_data"
    }
   ],
   "source": [
    "display(network_graph.inDegrees)"
   ]
  },
  {
   "cell_type": "code",
   "execution_count": 0,
   "metadata": {
    "application/vnd.databricks.v1+cell": {
     "inputWidgets": {},
     "nuid": "a9243a2b-d0c6-4ef8-9e35-06472f8d4c73",
     "showTitle": false,
     "title": ""
    }
   },
   "outputs": [
    {
     "data": {
      "text/html": [
       "<style scoped>\n",
       "  .table-result-container {\n",
       "    max-height: 300px;\n",
       "    overflow: auto;\n",
       "  }\n",
       "  table, th, td {\n",
       "    border: 1px solid black;\n",
       "    border-collapse: collapse;\n",
       "  }\n",
       "  th, td {\n",
       "    padding: 5px;\n",
       "  }\n",
       "  th {\n",
       "    text-align: left;\n",
       "  }\n",
       "</style><div class='table-result-container'><table class='table-result'><thead style='background-color: white'><tr><th>id</th><th>outDegree</th></tr></thead><tbody><tr><td>DeanNestor7</td><td>562</td></tr><tr><td>ProudPrimate</td><td>4</td></tr><tr><td>Hister</td><td>60</td></tr><tr><td>CW1</td><td>140</td></tr><tr><td>Slammer64</td><td>121</td></tr><tr><td>LegalLolicon</td><td>214</td></tr><tr><td>greyhat63</td><td>15</td></tr><tr><td>Perspicacious01</td><td>1</td></tr><tr><td>Tuxedojoe</td><td>15</td></tr><tr><td>qoheleth</td><td>109</td></tr><tr><td>CajunTexan</td><td>4</td></tr><tr><td>takeoutthefeds68</td><td>15</td></tr><tr><td>GSMenace</td><td>49</td></tr><tr><td>Klatuu</td><td>17</td></tr><tr><td>Rumpel</td><td>8</td></tr><tr><td>MYBEVY</td><td>2</td></tr><tr><td>Mera1506</td><td>1</td></tr><tr><td>BradBarnhardSho</td><td>3</td></tr><tr><td>easher555</td><td>56</td></tr><tr><td>DrFred57</td><td>48</td></tr><tr><td>ExBladeRunner</td><td>100</td></tr><tr><td>PatriotInfidel</td><td>110</td></tr><tr><td>foilhat</td><td>1</td></tr><tr><td>lilmac_d</td><td>4</td></tr><tr><td>Zophiel</td><td>79</td></tr><tr><td>Mollytwo</td><td>5</td></tr><tr><td>nigga</td><td>5</td></tr><tr><td>RealPhantomLibertarian</td><td>4</td></tr><tr><td>GabrielWest</td><td>604</td></tr><tr><td>DeplorableLaughterRx</td><td>457</td></tr><tr><td>itchy8me</td><td>77</td></tr><tr><td>mcgoverntm</td><td>1</td></tr><tr><td>heavenapostrophe</td><td>38</td></tr><tr><td>FashGun</td><td>5</td></tr><tr><td>Dachux</td><td>37</td></tr><tr><td>Sakker</td><td>25</td></tr><tr><td>LucVNO</td><td>38</td></tr><tr><td>zyalia6tz</td><td>243</td></tr><tr><td>TheRealDonaldTrump45</td><td>19375</td></tr><tr><td>shuhari</td><td>2183</td></tr><tr><td>Jami_USA</td><td>1153</td></tr><tr><td>nubiangod</td><td>421</td></tr><tr><td>Birdy</td><td>274</td></tr><tr><td>DE-Nazi-AKA-DA-Troll</td><td>375</td></tr><tr><td>Orthodox</td><td>337</td></tr><tr><td>Lockerius</td><td>43</td></tr><tr><td>LynneMarie</td><td>4</td></tr><tr><td>Spooky530</td><td>8</td></tr><tr><td>MelMax</td><td>11</td></tr><tr><td>Rocrates</td><td>11</td></tr><tr><td>TrumpCountryUSA</td><td>1</td></tr><tr><td>AHempster</td><td>3</td></tr><tr><td>twatta1717</td><td>1</td></tr><tr><td>MBCB4TRUMP</td><td>12</td></tr><tr><td>sjwmith</td><td>1</td></tr><tr><td>Best_Korea</td><td>58</td></tr><tr><td>Lara04011</td><td>2</td></tr><tr><td>Ramer2008</td><td>1</td></tr><tr><td>Archive_News</td><td>291</td></tr><tr><td>Ponderouschain</td><td>17</td></tr><tr><td>Solidsnake</td><td>88</td></tr><tr><td>internetpartisan</td><td>4</td></tr><tr><td>VastAwakening</td><td>14</td></tr><tr><td>Margi59</td><td>158</td></tr><tr><td>lesbianwalrus_DEFUNCT</td><td>9</td></tr><tr><td>BLMTerrorist</td><td>24</td></tr><tr><td>Destefano</td><td>1</td></tr><tr><td>JordanChristopher</td><td>34</td></tr><tr><td>NotaLoneWolf</td><td>2</td></tr><tr><td>KoljaBonke</td><td>16</td></tr><tr><td>Snow_Worries</td><td>14</td></tr><tr><td>2ndlook1</td><td>73</td></tr><tr><td>BrianSombrets</td><td>159</td></tr><tr><td>linguistic_killshot</td><td>3104</td></tr><tr><td>James_K_Glass</td><td>313</td></tr><tr><td>spotify</td><td>56</td></tr><tr><td>shitlording</td><td>362</td></tr><tr><td>PplRCrazy</td><td>3</td></tr><tr><td>busibees</td><td>36</td></tr><tr><td>a</td><td>88</td></tr><tr><td>Dividends4Life</td><td>12</td></tr><tr><td>Skyfly</td><td>11</td></tr><tr><td>BOBOFkake</td><td>680</td></tr><tr><td>dub</td><td>17</td></tr><tr><td>mikemoore</td><td>73</td></tr><tr><td>Johnyrebb</td><td>2698</td></tr><tr><td>_1</td><td>5</td></tr><tr><td>WingChun_Life</td><td>4</td></tr><tr><td>Aquilam</td><td>32</td></tr><tr><td>DavidKirkland</td><td>31</td></tr><tr><td>AndreaNYNY</td><td>2</td></tr><tr><td>2525</td><td>8</td></tr><tr><td>TheBaldChick</td><td>28</td></tr><tr><td>NSFWradio</td><td>1</td></tr><tr><td>ONEARTHASITISINHEAVEN</td><td>1</td></tr><tr><td>Helpsnotontheway</td><td>1636</td></tr><tr><td>Hajiklr</td><td>120</td></tr><tr><td>Saintsnsinners</td><td>6</td></tr><tr><td>Santa401</td><td>404</td></tr><tr><td>Sparks1017</td><td>57</td></tr><tr><td>Cuck_Fensorship</td><td>2</td></tr><tr><td>phoenixTPR</td><td>120</td></tr><tr><td>Eclipsebrk</td><td>28</td></tr><tr><td>Trumpetpro</td><td>79</td></tr><tr><td>jael</td><td>20</td></tr><tr><td>djtmetz</td><td>36</td></tr><tr><td>PaleHorse</td><td>24</td></tr><tr><td>patriot25</td><td>3</td></tr><tr><td>libertyfarmsiowa</td><td>1206</td></tr><tr><td>HocEstBellum</td><td>609</td></tr><tr><td>Occidental_Spirit</td><td>35</td></tr><tr><td>FeInFL</td><td>46</td></tr><tr><td>Lilangel</td><td>117</td></tr><tr><td>CurtiusSimplus</td><td>234</td></tr><tr><td>RickyBobbySez</td><td>369</td></tr><tr><td>Vexing_Hiraeth</td><td>1</td></tr><tr><td>DaFaking1</td><td>300</td></tr><tr><td>chrisplustina96</td><td>4</td></tr><tr><td>Honingpot</td><td>1</td></tr><tr><td>PoliteSupremacist</td><td>245</td></tr><tr><td>StAutist</td><td>7</td></tr><tr><td>toddwieland</td><td>6182</td></tr><tr><td>Sunshine2016</td><td>4</td></tr><tr><td>goodman</td><td>223</td></tr><tr><td>jimjed</td><td>2</td></tr><tr><td>CptMann</td><td>2</td></tr><tr><td>bobcatready</td><td>7</td></tr><tr><td>MarchForOurRights</td><td>1</td></tr><tr><td>Gypsy124</td><td>25</td></tr><tr><td>Rikistik</td><td>151</td></tr><tr><td>leserbriefing</td><td>1</td></tr><tr><td>BOCCAVERITA</td><td>21</td></tr><tr><td>M1911</td><td>1</td></tr><tr><td>HERALDofYAH</td><td>979</td></tr><tr><td>antediluvian</td><td>6</td></tr><tr><td>YLorenzo</td><td>463</td></tr><tr><td>DaleEvans</td><td>933</td></tr><tr><td>fgrump</td><td>17</td></tr><tr><td>Quitbullshiting</td><td>3</td></tr><tr><td>Travis_Hawks</td><td>106</td></tr><tr><td>LoisRogers</td><td>111</td></tr><tr><td>ZWY</td><td>155</td></tr><tr><td>RollandJames</td><td>10</td></tr><tr><td>Merdeux</td><td>2</td></tr><tr><td>Aragorn</td><td>1488</td></tr><tr><td>MemorialRifleRange</td><td>248</td></tr><tr><td>Breakfast_Imam</td><td>34</td></tr><tr><td>battleaxebill</td><td>382</td></tr><tr><td>Florida_Rogue</td><td>3</td></tr><tr><td>refield</td><td>3</td></tr><tr><td>FascistTwitter</td><td>18</td></tr><tr><td>ARDavid</td><td>21</td></tr><tr><td>boatsailor</td><td>20</td></tr><tr><td>Frig624</td><td>1</td></tr><tr><td>HansGurnade</td><td>102</td></tr><tr><td>altsociology</td><td>8</td></tr><tr><td>Robertgilmaney</td><td>23</td></tr><tr><td>jprexena</td><td>661</td></tr><tr><td>steveruns26</td><td>102</td></tr><tr><td>Renegado</td><td>49</td></tr><tr><td>CitySlickerTony</td><td>57</td></tr><tr><td>Mdonato48</td><td>60</td></tr><tr><td>WhiteSparrow</td><td>393</td></tr><tr><td>ShaHouMac</td><td>79</td></tr><tr><td>Richard1972</td><td>124</td></tr><tr><td>Alicia777</td><td>14</td></tr><tr><td>nuidat1611</td><td>67</td></tr><tr><td>ManWithAPlan</td><td>13</td></tr><tr><td>WildColonialBoy</td><td>1</td></tr><tr><td>blat1982</td><td>23</td></tr><tr><td>CarnalMormon</td><td>433</td></tr><tr><td>Dexter_DR3</td><td>8</td></tr><tr><td>Arketex</td><td>20</td></tr><tr><td>Ironmanrob</td><td>1</td></tr><tr><td>PA_01</td><td>17</td></tr><tr><td>JAQUEBAUER</td><td>18</td></tr><tr><td>wishgranter14</td><td>20</td></tr><tr><td>Thorwing</td><td>7</td></tr><tr><td>RxRankings</td><td>1</td></tr><tr><td>JakeHamel</td><td>176</td></tr><tr><td>ColdBeer</td><td>2323</td></tr><tr><td>Herr_Wolf</td><td>16</td></tr><tr><td>TheWardCleaverExperience</td><td>11</td></tr><tr><td>alburgett</td><td>3</td></tr><tr><td>GeraldineJ</td><td>148</td></tr><tr><td>Katsumi27</td><td>1</td></tr><tr><td>chemx</td><td>110</td></tr><tr><td>smartboy12</td><td>22</td></tr><tr><td>Ryan2238</td><td>7</td></tr><tr><td>chimerarose</td><td>5</td></tr><tr><td>hazysun</td><td>18</td></tr><tr><td>MaouTsaou</td><td>186</td></tr><tr><td>Pat5zero</td><td>64</td></tr><tr><td>Nospin_43</td><td>15</td></tr><tr><td>JeanEBraveaux</td><td>3081</td></tr><tr><td>Alejandrodude13</td><td>389</td></tr><tr><td>Pensive_Daddy</td><td>338</td></tr><tr><td>Elbi</td><td>52</td></tr><tr><td>Freedomalternative</td><td>1</td></tr><tr><td>CatWoman123</td><td>1</td></tr><tr><td>Mad_march</td><td>2</td></tr><tr><td>kdtfin</td><td>48</td></tr><tr><td>Cybergal55</td><td>58</td></tr><tr><td>Squattybaudy</td><td>2</td></tr><tr><td>HughMann37</td><td>2</td></tr><tr><td>MikeyGab</td><td>1</td></tr><tr><td>danigirld1</td><td>1</td></tr><tr><td>Ruth-Plant</td><td>362</td></tr><tr><td>Trinacria</td><td>1282</td></tr><tr><td>rebel4life</td><td>1288</td></tr><tr><td>Agilis_Libertas</td><td>492</td></tr><tr><td>eBiblicalTruth</td><td>27</td></tr><tr><td>CrazySadie</td><td>15</td></tr><tr><td>emuelle1</td><td>107</td></tr><tr><td>Hippiemamagypsylove</td><td>9</td></tr><tr><td>OzMAGA</td><td>229</td></tr><tr><td>skyladawn</td><td>32</td></tr><tr><td>HangEmHigh</td><td>8</td></tr><tr><td>SNAFU</td><td>24</td></tr><tr><td>kcSnoWhite</td><td>95</td></tr><tr><td>NinetyEight_Six</td><td>5</td></tr><tr><td>JimDurfee</td><td>29</td></tr><tr><td>colovion</td><td>1</td></tr><tr><td>Gatorhunting</td><td>335</td></tr><tr><td>HollySet128</td><td>17</td></tr><tr><td>Tangential</td><td>8</td></tr><tr><td>machciv</td><td>137</td></tr><tr><td>triple_red</td><td>35</td></tr><tr><td>LionsOmega</td><td>9</td></tr><tr><td>14Totenkopf88</td><td>4</td></tr><tr><td>HappyHubby</td><td>24</td></tr><tr><td>PCsReasy</td><td>177</td></tr><tr><td>USEless</td><td>7</td></tr><tr><td>claudia92399</td><td>15</td></tr><tr><td>7LayersOfIrony</td><td>1</td></tr><tr><td>Modem</td><td>57</td></tr><tr><td>Dalcon</td><td>115</td></tr><tr><td>meh6000000</td><td>79</td></tr><tr><td>yes_im_a_racist</td><td>14</td></tr><tr><td>Tom4Freedom</td><td>105</td></tr><tr><td>AubreyLaVentana</td><td>21</td></tr><tr><td>gnomeland</td><td>16</td></tr><tr><td>TulpaOmega</td><td>6</td></tr><tr><td>_matt_</td><td>14</td></tr><tr><td>cvilatam</td><td>24</td></tr><tr><td>cincinchili</td><td>29</td></tr><tr><td>Chewybass</td><td>1</td></tr><tr><td>drom_techmarine</td><td>1165</td></tr><tr><td>Walrus1</td><td>25</td></tr><tr><td>Mpars</td><td>144</td></tr><tr><td>FreeAgent355</td><td>244</td></tr><tr><td>tedmont</td><td>190</td></tr><tr><td>ElDerecho</td><td>75</td></tr><tr><td>SoaringNow</td><td>435</td></tr><tr><td>Mefairgolf</td><td>196</td></tr><tr><td>DavidJensen</td><td>2</td></tr><tr><td>Marijan</td><td>101</td></tr><tr><td>hillbilly1488</td><td>370</td></tr><tr><td>opposition_X</td><td>1001</td></tr><tr><td>Cyrano</td><td>112</td></tr><tr><td>lechocracu</td><td>1</td></tr><tr><td>TheNattyRabbit</td><td>3</td></tr><tr><td>Manuel_k_b</td><td>2</td></tr><tr><td>sirmikesalot</td><td>1</td></tr><tr><td>Speaknow17</td><td>7</td></tr><tr><td>ddpaulbell</td><td>27</td></tr><tr><td>Betorn</td><td>1</td></tr><tr><td>bydefault</td><td>1</td></tr><tr><td>GidgetG</td><td>76</td></tr><tr><td>JA37</td><td>1064</td></tr><tr><td>Engir</td><td>2186</td></tr><tr><td>BigFatDaddy</td><td>82</td></tr><tr><td>ChadLilly</td><td>2243</td></tr><tr><td>Kikibittner</td><td>147</td></tr><tr><td>brittlesslife</td><td>9</td></tr><tr><td>SCOWLER</td><td>454</td></tr><tr><td>C_S</td><td>1</td></tr><tr><td>SURREALartist</td><td>1</td></tr><tr><td>GTKRWN</td><td>3549</td></tr><tr><td>kenmac</td><td>763</td></tr><tr><td>ArmchairGeneral</td><td>1</td></tr><tr><td>ufkev</td><td>492</td></tr><tr><td>Paraliegance</td><td>1145</td></tr><tr><td>VincenzoBrooks</td><td>60</td></tr><tr><td>itsmePPZ7H</td><td>53</td></tr><tr><td>LegendaryCollektor</td><td>6441</td></tr><tr><td>VotingFemale</td><td>326</td></tr><tr><td>Igroki</td><td>66</td></tr><tr><td>ApologistJose</td><td>1</td></tr><tr><td>LibInquieto</td><td>23</td></tr><tr><td>RiverRat63</td><td>1</td></tr><tr><td>AndrewAnglin</td><td>363</td></tr><tr><td>Khovtoliv</td><td>2</td></tr><tr><td>GnonCompliant</td><td>840</td></tr><tr><td>Jakdup</td><td>6</td></tr><tr><td>KTH</td><td>71</td></tr><tr><td>grego</td><td>19</td></tr><tr><td>lbscks</td><td>1</td></tr><tr><td>Tony100</td><td>367</td></tr><tr><td>futt</td><td>4</td></tr><tr><td>DBLancaster</td><td>1</td></tr><tr><td>SilentMajorityRising</td><td>3</td></tr><tr><td>RPG88</td><td>815</td></tr><tr><td>RodH</td><td>1</td></tr><tr><td>DeplorableSurfer</td><td>99</td></tr><tr><td>anto1191</td><td>1</td></tr><tr><td>Brasser</td><td>7</td></tr><tr><td>zharbird</td><td>5</td></tr><tr><td>eRedEye</td><td>327</td></tr><tr><td>Sherry</td><td>7</td></tr><tr><td>siciliangal</td><td>22</td></tr><tr><td>tsingi</td><td>1</td></tr><tr><td>kleinemaus</td><td>21</td></tr><tr><td>PeterRWC</td><td>12</td></tr><tr><td>HateNiggers</td><td>58</td></tr><tr><td>CountryOfMOAB</td><td>5</td></tr><tr><td>sushiqk</td><td>43</td></tr><tr><td>DrRivkahSchitlipz</td><td>2</td></tr><tr><td>TheLoneWolf</td><td>3</td></tr><tr><td>FedraFarmer</td><td>1022</td></tr><tr><td>bbeeaann</td><td>25213</td></tr><tr><td>LexiconJewel</td><td>78</td></tr><tr><td>etnmamacyw</td><td>48</td></tr><tr><td>TheForestFromTheTrees</td><td>5896</td></tr><tr><td>WhiteDate</td><td>10</td></tr><tr><td>svenroy</td><td>32</td></tr><tr><td>TimeToPayTheTab</td><td>71</td></tr><tr><td>DistractionNWS</td><td>6</td></tr><tr><td>Mountaineer1</td><td>15</td></tr><tr><td>Frea</td><td>3</td></tr><tr><td>CyberFrog</td><td>2</td></tr><tr><td>TheProjectFenix</td><td>1</td></tr><tr><td>6bird4</td><td>86</td></tr><tr><td>WhiteMansBible</td><td>2062</td></tr><tr><td>GrGrandmaFoster</td><td>960</td></tr><tr><td>bosunj</td><td>180</td></tr><tr><td>James_Dixon</td><td>379</td></tr><tr><td>ConspiracyCat</td><td>1</td></tr><tr><td>Casper_</td><td>373</td></tr><tr><td>Lucy_Cannon</td><td>7</td></tr><tr><td>oknotok</td><td>2</td></tr><tr><td>JTGIIIpercent</td><td>94</td></tr><tr><td>HelloMurica</td><td>466</td></tr><tr><td>BladeoftheSword</td><td>9</td></tr><tr><td>bfry33782</td><td>1</td></tr><tr><td>jackhot</td><td>31</td></tr><tr><td>ReinerZufall</td><td>10</td></tr><tr><td>MansellRoy</td><td>26</td></tr><tr><td>msirispage</td><td>2</td></tr><tr><td>LastOfUs</td><td>31</td></tr><tr><td>estranged2000</td><td>4</td></tr><tr><td>Tomofthenight</td><td>6</td></tr><tr><td>StephenClayMcGehee</td><td>637</td></tr><tr><td>UnbendingMind</td><td>1</td></tr><tr><td>Astromantaray</td><td>3</td></tr><tr><td>occdissent</td><td>315</td></tr><tr><td>Skytroop</td><td>2</td></tr><tr><td>RHubsted</td><td>168</td></tr><tr><td>Banshee</td><td>232</td></tr><tr><td>WrenchRatt</td><td>30</td></tr><tr><td>PMFarmer</td><td>306</td></tr><tr><td>Adaptive</td><td>12</td></tr><tr><td>Clockwork_Cato</td><td>4</td></tr><tr><td>CivilstockOz</td><td>35</td></tr><tr><td>ianvaleni</td><td>1</td></tr><tr><td>NoBS4U</td><td>261</td></tr><tr><td>Muskrat_Mike</td><td>3</td></tr><tr><td>Mitchell_in_Motion</td><td>5</td></tr><tr><td>wirelessguru1</td><td>40</td></tr><tr><td>DaddyCrabCakes</td><td>2319</td></tr><tr><td>Krickt</td><td>1</td></tr><tr><td>trumpy17</td><td>157</td></tr><tr><td>IAWTP</td><td>59</td></tr><tr><td>InvertedIdentity</td><td>66</td></tr><tr><td>TheNumenorean</td><td>169</td></tr><tr><td>Seek_n_find</td><td>2</td></tr><tr><td>bbfohio</td><td>6</td></tr><tr><td>TheLibertyDiva</td><td>4</td></tr><tr><td>JakeTaylor14W</td><td>3</td></tr><tr><td>BSODmyself</td><td>105</td></tr><tr><td>jamest777</td><td>5</td></tr><tr><td>Pb315</td><td>1</td></tr><tr><td>ilostabet</td><td>7</td></tr><tr><td>ZenithEyes</td><td>1</td></tr><tr><td>SLCBagpiper</td><td>266</td></tr><tr><td>Waterdragon53</td><td>41</td></tr><tr><td>oo00oo</td><td>1</td></tr><tr><td>unicorn_</td><td>13</td></tr><tr><td>WilliamHenwood</td><td>780</td></tr><tr><td>rogerlocke</td><td>217</td></tr><tr><td>EEJinLV</td><td>27</td></tr><tr><td>kevinmckenzie</td><td>223</td></tr><tr><td>Arculfe</td><td>141</td></tr><tr><td>General_Company</td><td>1</td></tr><tr><td>BeG123</td><td>1</td></tr><tr><td>Zogkiller</td><td>2</td></tr><tr><td>PrettyPrinter</td><td>74</td></tr><tr><td>Shiftxp</td><td>14</td></tr><tr><td>Lpeach4peace</td><td>2</td></tr><tr><td>Bmacfucklibtars</td><td>1443</td></tr><tr><td>Whiteknight1488</td><td>2096</td></tr><tr><td>JudgmentDay</td><td>98</td></tr><tr><td>StevenKeaton</td><td>147</td></tr><tr><td>jljarvis</td><td>431</td></tr><tr><td>ThatConfused1</td><td>870</td></tr><tr><td>baerdric</td><td>1157</td></tr><tr><td>OccamsEpilady</td><td>19183</td></tr><tr><td>Unenrolled</td><td>239</td></tr><tr><td>davidfisco</td><td>9</td></tr><tr><td>DeanWin1776</td><td>4</td></tr><tr><td>FrankGoneMad</td><td>59</td></tr><tr><td>GarySaintJust</td><td>27</td></tr><tr><td>das_entropy</td><td>6</td></tr><tr><td>Diomedes</td><td>7</td></tr><tr><td>MikeGolf</td><td>1</td></tr><tr><td>Gnaevs</td><td>279</td></tr><tr><td>Truth0404</td><td>5</td></tr><tr><td>GarySavageSr</td><td>12</td></tr><tr><td>M16</td><td>18</td></tr><tr><td>Gator1024</td><td>279</td></tr><tr><td>Ghost_is_a_SJDoublejew</td><td>4</td></tr><tr><td>FatherJohn</td><td>1</td></tr><tr><td>ThemoslemReaper</td><td>327</td></tr><tr><td>Hugin2017</td><td>43</td></tr><tr><td>OnlyOneAmerica</td><td>1</td></tr><tr><td>D_vaughn</td><td>1323</td></tr><tr><td>3DAngelique</td><td>3144</td></tr><tr><td>USMC-DevilDog</td><td>2689</td></tr><tr><td>AngloAmerican_Heritage</td><td>14</td></tr><tr><td>weeklyflyer</td><td>38</td></tr><tr><td>HeetCrusher</td><td>13</td></tr><tr><td>mysticphoeniix</td><td>501</td></tr><tr><td>TheCFTWatchers</td><td>10</td></tr><tr><td>TZilla</td><td>32</td></tr><tr><td>FEDUPCITIZEN7</td><td>25</td></tr><tr><td>armed_partisan</td><td>3</td></tr><tr><td>Foofy</td><td>1</td></tr><tr><td>noahKG</td><td>6</td></tr><tr><td>ThePiston</td><td>352</td></tr><tr><td>0XFatimaX0</td><td>1247</td></tr><tr><td>Powerslave1978</td><td>8</td></tr><tr><td>Bidenshairplugs</td><td>188</td></tr><tr><td>thegepstur</td><td>1</td></tr><tr><td>AveEuropa</td><td>13</td></tr><tr><td>iKarith</td><td>10</td></tr><tr><td>JustinEarlLewis</td><td>33</td></tr><tr><td>Nheiles</td><td>1</td></tr><tr><td>crunchyscallop</td><td>43</td></tr><tr><td>MaxMercer</td><td>34</td></tr><tr><td>AsIf</td><td>2</td></tr><tr><td>AlexDupont</td><td>81</td></tr><tr><td>jwinebrenner12</td><td>1</td></tr><tr><td>RachelBartlett</td><td>1697</td></tr><tr><td>steppnav</td><td>490</td></tr><tr><td>BlueEyedDevil</td><td>1598</td></tr><tr><td>CounterJihad</td><td>3728</td></tr><tr><td>BioWreck</td><td>1184</td></tr><tr><td>umbrellawanker</td><td>4</td></tr><tr><td>Fash_McQueen</td><td>720</td></tr><tr><td>DeplorableGeema</td><td>1</td></tr><tr><td>Drumwaster</td><td>8</td></tr><tr><td>AmFreely</td><td>1</td></tr><tr><td>Agent156</td><td>11</td></tr><tr><td>ftboomer</td><td>28</td></tr><tr><td>TruthWillOut</td><td>1458</td></tr><tr><td>PickleJarsForHillary</td><td>96</td></tr><tr><td>TeaPartyCore</td><td>6</td></tr><tr><td>DickSwhet</td><td>1</td></tr><tr><td>RoaringTRex</td><td>3</td></tr><tr><td>Smellydragon</td><td>6</td></tr><tr><td>JoyousL</td><td>11</td></tr><tr><td>TheRicksta1385</td><td>7</td></tr><tr><td>retrocity5</td><td>4</td></tr><tr><td>BMW45ACP</td><td>7</td></tr><tr><td>Joinforbritain</td><td>8</td></tr><tr><td>Vanderleun</td><td>29</td></tr><tr><td>negativecriticism</td><td>72</td></tr><tr><td>nefariousplot</td><td>55</td></tr><tr><td>AcidBrainWash</td><td>2326</td></tr><tr><td>OpenTheDoor</td><td>79</td></tr><tr><td>BoosterBunny</td><td>340</td></tr><tr><td>backwoodspatriot</td><td>451</td></tr><tr><td>Disgruntled_Employee</td><td>1</td></tr><tr><td>LodiSilverado</td><td>100</td></tr><tr><td>John-Schroder</td><td>20</td></tr><tr><td>Free2see</td><td>1</td></tr><tr><td>complexa</td><td>18</td></tr><tr><td>eradicate_leftism</td><td>26</td></tr><tr><td>NickGriffin</td><td>10</td></tr><tr><td>American_Girl1622</td><td>1</td></tr><tr><td>shorty</td><td>791</td></tr><tr><td>Figs</td><td>32</td></tr><tr><td>Swath</td><td>349</td></tr><tr><td>tteclod</td><td>477</td></tr><tr><td>Shaddam</td><td>468</td></tr><tr><td>henry_in_Texas</td><td>65</td></tr><tr><td>tomatoguts</td><td>1282</td></tr><tr><td>sportsbargastro</td><td>1195</td></tr><tr><td>AmericanRosie</td><td>5</td></tr><tr><td>CletusVanDamm</td><td>40</td></tr><tr><td>ChallengerNationalisim</td><td>5</td></tr><tr><td>Feanor</td><td>82</td></tr><tr><td>GEHRAUS</td><td>94</td></tr><tr><td>Drooesterreich</td><td>15</td></tr><tr><td>Determined1776</td><td>1</td></tr><tr><td>charpaddy</td><td>14</td></tr><tr><td>Tina4Short</td><td>20</td></tr><tr><td>user_name_tak_n</td><td>17</td></tr><tr><td>Southsider1</td><td>157</td></tr><tr><td>KL35K</td><td>13</td></tr><tr><td>Naam</td><td>12700</td></tr><tr><td>secretangentman</td><td>778</td></tr><tr><td>SteveLove4All</td><td>522</td></tr><tr><td>Cephus</td><td>984</td></tr><tr><td>TulipGirl</td><td>27</td></tr><tr><td>Tom7</td><td>1</td></tr><tr><td>talisayslim</td><td>6</td></tr><tr><td>Sunshineclare</td><td>35</td></tr><tr><td>DJWalby</td><td>82</td></tr><tr><td>tonysprout</td><td>21</td></tr><tr><td>Lestrade</td><td>15</td></tr><tr><td>kicsunshine</td><td>5</td></tr><tr><td>Deucalion_</td><td>34</td></tr><tr><td>Strelokk</td><td>18</td></tr><tr><td>HeartOfGore</td><td>1</td></tr><tr><td>HighLevelJinni</td><td>1</td></tr><tr><td>Trumplove454545</td><td>8</td></tr><tr><td>DJTrump2020</td><td>54</td></tr><tr><td>ROCKintheUSSA</td><td>5340</td></tr><tr><td>andieiamwhoiam</td><td>1173</td></tr><tr><td>Scots</td><td>1</td></tr><tr><td>TrevorGoodchild</td><td>753</td></tr><tr><td>Amritas</td><td>1439</td></tr><tr><td>NationalistFoil</td><td>39</td></tr><tr><td>nunnyadayambiddness</td><td>609</td></tr><tr><td>WannaBeSedated</td><td>8</td></tr><tr><td>tippy69</td><td>11</td></tr><tr><td>OrthodoxHeretic</td><td>16</td></tr><tr><td>workathomer</td><td>5</td></tr><tr><td>Apolloslair</td><td>1</td></tr><tr><td>AlaskaRaven</td><td>18</td></tr><tr><td>genophilia</td><td>26</td></tr><tr><td>LiberTarHeel</td><td>28</td></tr><tr><td>BobMartin</td><td>1514</td></tr><tr><td>T3h_K1tt3h</td><td>213</td></tr><tr><td>Gambino443</td><td>7</td></tr><tr><td>grayfur</td><td>20</td></tr><tr><td>Shuffleboard</td><td>42</td></tr><tr><td>solarblaster</td><td>1</td></tr><tr><td>KgdlBrown97</td><td>26</td></tr><tr><td>Don-tTreadOnMe</td><td>67</td></tr><tr><td>hooc</td><td>5</td></tr><tr><td>Stopthemadness</td><td>23</td></tr><tr><td>TheRealCovefefe11B</td><td>43</td></tr><tr><td>John_Galt1970</td><td>23</td></tr><tr><td>KIAZER_robb</td><td>1</td></tr><tr><td>NordicFrontier</td><td>1</td></tr><tr><td>Frank61</td><td>1583</td></tr><tr><td>dsb</td><td>202</td></tr><tr><td>TheBeowulf</td><td>66</td></tr><tr><td>nightwish</td><td>1221</td></tr><tr><td>TechnoEugenics</td><td>245</td></tr><tr><td>JohnRivers</td><td>366</td></tr><tr><td>Ex2I8</td><td>166</td></tr><tr><td>LadyoftheWest</td><td>4</td></tr><tr><td>FinMin</td><td>412</td></tr><tr><td>CognitiveAxiom</td><td>1</td></tr><tr><td>Nemo11010</td><td>4</td></tr><tr><td>morpheouz</td><td>2</td></tr><tr><td>Jeanns</td><td>14</td></tr><tr><td>Military_First</td><td>3</td></tr><tr><td>whythetruth</td><td>1215</td></tr><tr><td>KiltsandWhisky</td><td>27</td></tr><tr><td>MikeinDFW</td><td>1389</td></tr><tr><td>AlCynic</td><td>541</td></tr><tr><td>GB32756</td><td>394</td></tr><tr><td>AnAnglo-American</td><td>221</td></tr><tr><td>JoSchmidt</td><td>40</td></tr><tr><td>KebabRemovalService</td><td>46</td></tr><tr><td>Sheldor63</td><td>1</td></tr><tr><td>hellotonycrowe</td><td>303</td></tr><tr><td>BePoliticallyIncorrect</td><td>16</td></tr><tr><td>PhillipCMcGuire</td><td>9</td></tr><tr><td>DoomsdayLibrary</td><td>70</td></tr><tr><td>SaltandLight</td><td>35</td></tr><tr><td>skotish</td><td>12</td></tr><tr><td>jachinglaplume</td><td>181</td></tr><tr><td>Ra_</td><td>882</td></tr><tr><td>KekistaniConsulate</td><td>1</td></tr><tr><td>RuewenFate</td><td>162</td></tr><tr><td>TheXclass</td><td>10</td></tr><tr><td>The_Emu</td><td>37</td></tr><tr><td>MDOrleans</td><td>614</td></tr><tr><td>BigDawgTexan</td><td>8</td></tr><tr><td>Sachsenwelshgirl</td><td>3</td></tr><tr><td>demonjacobs666</td><td>11</td></tr><tr><td>UnrealElijah</td><td>17</td></tr><tr><td>KLCJR1977</td><td>11</td></tr><tr><td>amjurfinah</td><td>4</td></tr><tr><td>Luxurydecordeb</td><td>1</td></tr><tr><td>TPaine2016</td><td>412</td></tr><tr><td>ToddORiley</td><td>91</td></tr><tr><td>Bobmonk388</td><td>6</td></tr><tr><td>Deebz</td><td>2369</td></tr><tr><td>krunk</td><td>144</td></tr><tr><td>felis_concolor</td><td>16</td></tr><tr><td>Fahrenheit</td><td>8</td></tr><tr><td>Butcherboy</td><td>47</td></tr><tr><td>NathanKing</td><td>138</td></tr><tr><td>KorneliaSan</td><td>13</td></tr><tr><td>Heimatliebe</td><td>1</td></tr><tr><td>Eichkater</td><td>1</td></tr><tr><td>SagNovotny</td><td>3</td></tr><tr><td>Wiguy</td><td>48</td></tr><tr><td>TruthPill</td><td>5</td></tr><tr><td>Gunnar</td><td>162</td></tr><tr><td>ramcclain</td><td>122</td></tr><tr><td>Peone</td><td>39</td></tr><tr><td>johnix</td><td>71</td></tr><tr><td>TwilieAtkins</td><td>3</td></tr><tr><td>PryYour3rdEye</td><td>275</td></tr><tr><td>Oflameo</td><td>75</td></tr><tr><td>nxtblg</td><td>153</td></tr><tr><td>MonicaFibonacci</td><td>43</td></tr><tr><td>Astraea</td><td>19</td></tr><tr><td>CozyDelphi</td><td>3</td></tr><tr><td>AndrewGS</td><td>2</td></tr><tr><td>AlbertaProud</td><td>1</td></tr><tr><td>CFN</td><td>112</td></tr><tr><td>iSapiens</td><td>1190</td></tr><tr><td>Obi0ne80</td><td>1</td></tr><tr><td>TheVillain</td><td>1</td></tr><tr><td>OmaAmaRovo</td><td>62</td></tr><tr><td>LonesomeHomestead</td><td>46</td></tr><tr><td>TheRob</td><td>23</td></tr><tr><td>CorneliusRye</td><td>465</td></tr><tr><td>Fatman1369</td><td>2</td></tr><tr><td>Berengar</td><td>3</td></tr><tr><td>ChrisRaven</td><td>7</td></tr><tr><td>Amber</td><td>125</td></tr><tr><td>meanandjudgemental</td><td>156</td></tr><tr><td>weimericanlad</td><td>26</td></tr><tr><td>ConservNEWS</td><td>9</td></tr><tr><td>RLeeFine</td><td>6</td></tr><tr><td>tarmac492</td><td>2</td></tr><tr><td>KarenW</td><td>60</td></tr><tr><td>Tendweller</td><td>34</td></tr><tr><td>NewFrontierNews</td><td>1</td></tr><tr><td>longpenis</td><td>19</td></tr><tr><td>Diggz01</td><td>19</td></tr><tr><td>Rafael</td><td>6</td></tr><tr><td>MemesForTay</td><td>19</td></tr><tr><td>Barycza</td><td>1</td></tr><tr><td>357magnum</td><td>82</td></tr><tr><td>aballinger</td><td>4</td></tr><tr><td>Luke_Luck</td><td>263</td></tr><tr><td>chrispereira</td><td>2</td></tr><tr><td>jlgb2117</td><td>11</td></tr><tr><td>JiEd</td><td>34</td></tr><tr><td>mohamscamel</td><td>933</td></tr><tr><td>nachosgrande</td><td>1</td></tr><tr><td>smittys</td><td>182</td></tr><tr><td>Laconic_Oak</td><td>13</td></tr><tr><td>rlyeh</td><td>1415</td></tr><tr><td>we_are_being_played</td><td>18</td></tr><tr><td>ExposeTheNose</td><td>80</td></tr><tr><td>GnonProphet</td><td>51</td></tr><tr><td>Quietlife</td><td>3</td></tr><tr><td>Chaos-and-Order</td><td>2</td></tr><tr><td>Etherspace</td><td>3</td></tr><tr><td>weedy</td><td>1</td></tr><tr><td>blusea</td><td>11</td></tr><tr><td>Habsburg</td><td>1</td></tr><tr><td>Draculalovedogs</td><td>2044</td></tr><tr><td>Skipjacks</td><td>5574</td></tr><tr><td>Chuckinv</td><td>1041</td></tr><tr><td>Quartermaster</td><td>887</td></tr><tr><td>JPerkinsJune</td><td>361</td></tr><tr><td>BigJohn</td><td>78</td></tr><tr><td>beth3</td><td>60</td></tr><tr><td>Marbro</td><td>21</td></tr><tr><td>Flawliss</td><td>15</td></tr><tr><td>dankemp</td><td>2</td></tr><tr><td>HEISENBURGER</td><td>842</td></tr><tr><td>ShotgunRider</td><td>4</td></tr><tr><td>RichFsr</td><td>2</td></tr><tr><td>serfer5</td><td>3</td></tr><tr><td>hrg2</td><td>1</td></tr><tr><td>JohnGritt</td><td>2004</td></tr><tr><td>Snugglebunny</td><td>742</td></tr><tr><td>Kurtis-Lachance</td><td>58</td></tr><tr><td>ProleSerf</td><td>109</td></tr><tr><td>Coolio</td><td>167</td></tr><tr><td>genej78</td><td>11</td></tr><tr><td>BrandonWilhite</td><td>71</td></tr><tr><td>ColinOnTheWold</td><td>6</td></tr><tr><td>donaldfox</td><td>100</td></tr><tr><td>AidanChrysler</td><td>1</td></tr><tr><td>Fludacoup</td><td>10</td></tr><tr><td>RebukeSkyTalker</td><td>1</td></tr><tr><td>SvOstrow</td><td>1</td></tr><tr><td>FrameGames</td><td>2</td></tr><tr><td>JohnnyAmerica</td><td>5</td></tr><tr><td>1s3</td><td>967</td></tr><tr><td>alternative_right</td><td>3937</td></tr><tr><td>BavarianBumpkin</td><td>84</td></tr><tr><td>BlueAngel</td><td>123</td></tr><tr><td>Infowarriorpress</td><td>10</td></tr><tr><td>The_Notorious_Moon</td><td>2</td></tr><tr><td>TheDeplorableCapitalist</td><td>82</td></tr><tr><td>badger5</td><td>8</td></tr><tr><td>DeplorableOldFart</td><td>56</td></tr><tr><td>WarAtTheZoo</td><td>40</td></tr><tr><td>SMatty</td><td>6</td></tr><tr><td>VineDivine</td><td>6</td></tr><tr><td>Rule62eh</td><td>3</td></tr><tr><td>nofaithnewe</td><td>702</td></tr><tr><td>Titanic_Britain_Author</td><td>3793</td></tr><tr><td>blazinherb</td><td>138</td></tr><tr><td>UHF</td><td>9</td></tr><tr><td>OxbowNicky</td><td>2</td></tr><tr><td>kkdontlikeyoulovestheNRA</td><td>3</td></tr><tr><td>winterwolf333555999</td><td>14</td></tr><tr><td>Kennyray</td><td>3</td></tr><tr><td>Max_Wyatt</td><td>4</td></tr><tr><td>PatriotCane</td><td>8</td></tr><tr><td>realGodEmperorTrump</td><td>3</td></tr><tr><td>theyowntheinternet</td><td>1</td></tr><tr><td>griggsmen</td><td>1</td></tr><tr><td>wolfsDad</td><td>187</td></tr><tr><td>teapartyson</td><td>45</td></tr><tr><td>BunnySue</td><td>10</td></tr><tr><td>QuitFreeLoading</td><td>71</td></tr><tr><td>TheGrimComedian</td><td>442</td></tr><tr><td>ConstitutionalLibertarian</td><td>15</td></tr><tr><td>Bageera</td><td>28</td></tr><tr><td>Abyssus</td><td>31</td></tr><tr><td>RickSR</td><td>6</td></tr><tr><td>FFRnews</td><td>209</td></tr><tr><td>tlprice71</td><td>32</td></tr><tr><td>kateusa</td><td>68</td></tr><tr><td>BlackCrow</td><td>541</td></tr><tr><td>h4rdm0us</td><td>2417</td></tr><tr><td>American2theKor</td><td>627</td></tr><tr><td>Were-Puppy</td><td>52</td></tr><tr><td>CycloneBee</td><td>543</td></tr><tr><td>racketmensch</td><td>26</td></tr><tr><td>Dizza</td><td>959</td></tr><tr><td>HopeStillElle</td><td>43</td></tr><tr><td>Truther34</td><td>28</td></tr><tr><td>CGMCPO</td><td>17</td></tr><tr><td>Strawberryfields1928</td><td>1</td></tr><tr><td>conspirituality_theory</td><td>1</td></tr><tr><td>IndigenousEuropean</td><td>14</td></tr><tr><td>xargon666</td><td>3</td></tr><tr><td>Tier1MEMES</td><td>584</td></tr><tr><td>JohnBains1</td><td>84</td></tr><tr><td>GothGirl71</td><td>27</td></tr><tr><td>vor0220</td><td>1496</td></tr><tr><td>VGoth</td><td>677</td></tr><tr><td>Orangeone4</td><td>4033</td></tr><tr><td>BrownEyedCanadianGirl</td><td>3</td></tr><tr><td>TriggerBeth</td><td>99</td></tr><tr><td>gusjenkins111</td><td>22</td></tr><tr><td>whippersnapper</td><td>15</td></tr><tr><td>StarPrincess</td><td>520</td></tr><tr><td>Spawn_of_Cucky2</td><td>6</td></tr><tr><td>turningright</td><td>1</td></tr><tr><td>olddustyghost</td><td>175</td></tr><tr><td>Alwaysberunning</td><td>2</td></tr><tr><td>JohnOfConnecticut</td><td>12</td></tr><tr><td>Blacksheep</td><td>25</td></tr><tr><td>BeingLorrie</td><td>18</td></tr><tr><td>Shareshten</td><td>1</td></tr><tr><td>Nikkisuglytruth</td><td>1</td></tr><tr><td>Pixilott</td><td>3</td></tr><tr><td>ItsOKtoWakeUpNow</td><td>26</td></tr><tr><td>TedHong</td><td>4943</td></tr><tr><td>EmilyAnderson</td><td>388</td></tr><tr><td>thrakazog</td><td>6</td></tr><tr><td>Poruje</td><td>24</td></tr><tr><td>Patriotic1</td><td>11</td></tr><tr><td>Inx</td><td>55</td></tr><tr><td>Aurora3</td><td>88</td></tr><tr><td>altrite1</td><td>16</td></tr><tr><td>JustSheila</td><td>10</td></tr><tr><td>fearpornrefugee</td><td>13</td></tr><tr><td>EthanEdwards</td><td>1185</td></tr><tr><td>Michele3Belezze</td><td>10</td></tr><tr><td>dffedlock</td><td>21</td></tr><tr><td>MISTERBLONDEMAN</td><td>1</td></tr><tr><td>_Rev1972</td><td>38</td></tr><tr><td>bapdco</td><td>5</td></tr><tr><td>Sparky4160</td><td>36</td></tr><tr><td>LibertyRevolutionary</td><td>4735</td></tr><tr><td>MotorSportDude</td><td>164</td></tr><tr><td>AlvinB1959</td><td>57</td></tr><tr><td>GAE</td><td>20</td></tr><tr><td>MachineTrooper</td><td>255</td></tr><tr><td>TheBadGoy</td><td>477</td></tr><tr><td>RodStokes</td><td>11</td></tr><tr><td>RapefugeeWatch</td><td>214</td></tr><tr><td>libertycore</td><td>24</td></tr><tr><td>Ecki53</td><td>1</td></tr><tr><td>BWinters17</td><td>8</td></tr><tr><td>Jerzy</td><td>4</td></tr><tr><td>PilgrimsLanded</td><td>1</td></tr><tr><td>realRonnieEvil</td><td>6</td></tr><tr><td>CmdrSlamm</td><td>190</td></tr><tr><td>NortonI</td><td>133</td></tr><tr><td>TheMadHessian</td><td>10</td></tr><tr><td>Razimaha</td><td>110</td></tr><tr><td>jimbunte</td><td>40</td></tr><tr><td>Bronsonesque</td><td>110</td></tr><tr><td>Caish</td><td>53</td></tr><tr><td>CroppedRaccoon</td><td>264</td></tr><tr><td>mstrbass2000</td><td>237</td></tr><tr><td>friend-thru-the-storm</td><td>15</td></tr><tr><td>SaltyQTrumpenhofer</td><td>6</td></tr><tr><td>elspeth62</td><td>43</td></tr><tr><td>AfarBell</td><td>12</td></tr><tr><td>PaesurBiey</td><td>16107</td></tr><tr><td>Razorback247</td><td>779</td></tr><tr><td>AussieKing69</td><td>28</td></tr><tr><td>Davidhunting</td><td>256</td></tr><tr><td>ChuckLindbergh</td><td>2</td></tr><tr><td>WANAGL</td><td>7</td></tr><tr><td>tmf1205</td><td>3</td></tr><tr><td>deanberryministry</td><td>750</td></tr><tr><td>spherical_cube</td><td>21</td></tr><tr><td>rk3001</td><td>1</td></tr><tr><td>Timber</td><td>65</td></tr><tr><td>Wehrmacht</td><td>23</td></tr><tr><td>velocirapture</td><td>2</td></tr><tr><td>mumsplume</td><td>4</td></tr><tr><td>JohnAdams1797</td><td>10</td></tr><tr><td>MillstoneSociety</td><td>64</td></tr><tr><td>SharonMc</td><td>1</td></tr><tr><td>lbm4894</td><td>95</td></tr><tr><td>deSelby</td><td>2</td></tr><tr><td>LCMB</td><td>11</td></tr><tr><td>DanSandy</td><td>2</td></tr><tr><td>ivanorlovski</td><td>4</td></tr><tr><td>C_Arnold07</td><td>17</td></tr><tr><td>ioughttobechief</td><td>4</td></tr><tr><td>Kenton</td><td>62</td></tr><tr><td>yuvonasexton</td><td>1933</td></tr><tr><td>Alxndrdmmrng</td><td>23</td></tr><tr><td>KimJong-un</td><td>635</td></tr><tr><td>Moonman</td><td>938</td></tr><tr><td>kt59tone</td><td>26</td></tr><tr><td>jackshand</td><td>37</td></tr><tr><td>right_guy</td><td>13</td></tr><tr><td>ShannonMontague</td><td>18</td></tr><tr><td>DakotaMoonbeam</td><td>40</td></tr><tr><td>erz</td><td>10</td></tr><tr><td>tgremlin82</td><td>1</td></tr><tr><td>Davekoester</td><td>2</td></tr><tr><td>RoyPemberton</td><td>19</td></tr><tr><td>Journo_List</td><td>8</td></tr><tr><td>CommyUSA</td><td>3</td></tr><tr><td>Aitch748</td><td>179</td></tr><tr><td>ProjectLambda</td><td>15</td></tr><tr><td>VRobb</td><td>9</td></tr><tr><td>johnben_net</td><td>47</td></tr><tr><td>HWR88</td><td>589</td></tr><tr><td>UnrulyRefugee</td><td>366</td></tr><tr><td>bighominid</td><td>12</td></tr><tr><td>Britelight</td><td>8</td></tr><tr><td>Sydsnothere</td><td>4</td></tr><tr><td>Maatstream</td><td>67</td></tr><tr><td>RevTim</td><td>13</td></tr><tr><td>Stan_Semivirgin</td><td>32</td></tr><tr><td>TamaraDHolloway</td><td>6</td></tr><tr><td>Westel</td><td>283</td></tr><tr><td>MBizon</td><td>45</td></tr><tr><td>micah719</td><td>1</td></tr><tr><td>BOBachter</td><td>71</td></tr><tr><td>AlienAbles</td><td>9</td></tr><tr><td>Duarf</td><td>7</td></tr><tr><td>GeorgeAngus</td><td>65</td></tr><tr><td>Voyeurger</td><td>51</td></tr><tr><td>Yvonne_Micklich_AI</td><td>290</td></tr><tr><td>lilbutterfly70</td><td>14</td></tr><tr><td>Angry_White_Goy</td><td>1156</td></tr><tr><td>gt49</td><td>7</td></tr><tr><td>SClancy6591</td><td>156</td></tr><tr><td>chunga1958</td><td>1739</td></tr><tr><td>Luna</td><td>5</td></tr><tr><td>TheMidMerican</td><td>1</td></tr><tr><td>WashingtonFront</td><td>2</td></tr><tr><td>PandaTricks</td><td>1</td></tr><tr><td>Paladingoldsilver</td><td>10</td></tr><tr><td>FreeRangeHuman</td><td>1</td></tr><tr><td>22TCM</td><td>86</td></tr><tr><td>roscoeellis</td><td>44</td></tr><tr><td>Lisafedup</td><td>359</td></tr><tr><td>RighteousPatriot</td><td>1</td></tr><tr><td>SingingTimberwolf</td><td>207</td></tr><tr><td>RadioInfidelShow</td><td>116</td></tr><tr><td>AmericanSpartan78</td><td>1</td></tr><tr><td>FoxesAflame</td><td>229</td></tr><tr><td>AttilaTheArmenian</td><td>3</td></tr><tr><td>kekservative</td><td>496</td></tr><tr><td>SynapseZap</td><td>28</td></tr><tr><td>Brofford64</td><td>79</td></tr><tr><td>Tliarch</td><td>122</td></tr><tr><td>Jean-Louis</td><td>1</td></tr><tr><td>tommotom73</td><td>1</td></tr><tr><td>libtardhammer</td><td>847</td></tr><tr><td>Stuckin79</td><td>338</td></tr><tr><td>Annie53annette</td><td>3648</td></tr><tr><td>Alberon80</td><td>15</td></tr><tr><td>ChristineML1</td><td>3</td></tr><tr><td>Downright-Alt-Right</td><td>118</td></tr><tr><td>charliewings</td><td>1</td></tr><tr><td>Greekgod</td><td>1</td></tr><tr><td>FullBoyle</td><td>28</td></tr><tr><td>maximus_aurelius</td><td>367</td></tr><tr><td>Hangfire181</td><td>1</td></tr><tr><td>UncleJohnsBand</td><td>9</td></tr><tr><td>strongerlonger</td><td>66</td></tr><tr><td>socalMike_SD</td><td>99</td></tr><tr><td>bwbb</td><td>34</td></tr><tr><td>Marinov1</td><td>1</td></tr><tr><td>dkhead</td><td>185</td></tr><tr><td>SF</td><td>68</td></tr><tr><td>RWill</td><td>136</td></tr><tr><td>minervaneryse</td><td>8</td></tr><tr><td>DrKek</td><td>25</td></tr><tr><td>thonsinger71</td><td>1</td></tr><tr><td>northentier</td><td>2</td></tr><tr><td>genuflect</td><td>8</td></tr><tr><td>MetalBass</td><td>747</td></tr><tr><td>Scottno3</td><td>248</td></tr><tr><td>Jaque_Bauer</td><td>16</td></tr><tr><td>CyLyBu</td><td>21</td></tr><tr><td>StJoeBlues</td><td>2</td></tr><tr><td>TheRealElonBell</td><td>2</td></tr><tr><td>4annegs</td><td>36</td></tr><tr><td>ReactionaryCat</td><td>489</td></tr><tr><td>sournack</td><td>47</td></tr><tr><td>ArchangelOfGab</td><td>37</td></tr><tr><td>LettGuo</td><td>586</td></tr><tr><td>Jeremy20_9</td><td>46</td></tr><tr><td>RT88</td><td>56</td></tr><tr><td>Mthrshp</td><td>3</td></tr><tr><td>Donn5150</td><td>1</td></tr><tr><td>kilobot</td><td>3</td></tr><tr><td>LAofVA</td><td>11</td></tr><tr><td>dedoggs</td><td>2</td></tr><tr><td>Akatomdavis</td><td>273</td></tr><tr><td>4rnation</td><td>1</td></tr><tr><td>PutnamC</td><td>145</td></tr><tr><td>21stCenturySpartan</td><td>4477</td></tr><tr><td>Violetfire</td><td>743</td></tr><tr><td>hessnice</td><td>17</td></tr><tr><td>DickScrimshaw</td><td>18</td></tr><tr><td>SCALE</td><td>150</td></tr><tr><td>Fashdaddey</td><td>9</td></tr><tr><td>TheMissus</td><td>4</td></tr><tr><td>kingdomMan</td><td>53</td></tr><tr><td>ThisIsShorthouse</td><td>6</td></tr><tr><td>Villaintarian</td><td>33</td></tr><tr><td>Merrymary</td><td>446</td></tr><tr><td>UtahRattler</td><td>66</td></tr><tr><td>DaveD53</td><td>72</td></tr><tr><td>SwampDrainerTee</td><td>21</td></tr><tr><td>MRCooper</td><td>158</td></tr><tr><td>cosmic_sol</td><td>9</td></tr><tr><td>NinaDavies</td><td>1906</td></tr><tr><td>hope</td><td>27</td></tr><tr><td>OldDannyboy12</td><td>18</td></tr><tr><td>Dango</td><td>37</td></tr><tr><td>CharlieFarnsbarns</td><td>2851</td></tr><tr><td>No_Islam_Peace</td><td>8</td></tr><tr><td>vullo</td><td>81</td></tr><tr><td>squirrel327</td><td>46</td></tr><tr><td>DissidentIrishMan96</td><td>1</td></tr><tr><td>DeplorableTillman</td><td>7</td></tr><tr><td>ooijerm</td><td>3</td></tr><tr><td>mischabi</td><td>1</td></tr><tr><td>Befokd</td><td>4</td></tr><tr><td>Teufelshunde2</td><td>4138</td></tr><tr><td>KittCatt</td><td>113</td></tr><tr><td>GatesOfToledo</td><td>2487</td></tr><tr><td>doomcat13</td><td>70</td></tr><tr><td>Sikafred</td><td>38</td></tr><tr><td>jugger</td><td>104</td></tr><tr><td>AldoCella</td><td>11</td></tr><tr><td>ChuckoButler</td><td>3</td></tr><tr><td>GoldenDragon</td><td>4</td></tr><tr><td>c0s</td><td>11</td></tr><tr><td>Rabuliz</td><td>18</td></tr><tr><td>AndrewMitchell</td><td>2</td></tr><tr><td>lovelymiss</td><td>993</td></tr><tr><td>Spiral-INfinity</td><td>509</td></tr><tr><td>SummaSonica</td><td>1</td></tr><tr><td>Stillwearsgrey</td><td>73</td></tr><tr><td>CloseTheFed</td><td>417</td></tr></tbody></table>Showing the first 1000 rows.</div>"
      ]
     },
     "metadata": {
      "application/vnd.databricks.v1+output": {
       "addedWidgets": {},
       "aggData": [],
       "aggError": "",
       "aggOverflow": false,
       "aggSchema": [],
       "aggSeriesLimitReached": false,
       "aggType": "",
       "arguments": {},
       "columnCustomDisplayInfos": {},
       "data": [
        [
         "DeanNestor7",
         562
        ],
        [
         "ProudPrimate",
         4
        ],
        [
         "Hister",
         60
        ],
        [
         "CW1",
         140
        ],
        [
         "Slammer64",
         121
        ],
        [
         "LegalLolicon",
         214
        ],
        [
         "greyhat63",
         15
        ],
        [
         "Perspicacious01",
         1
        ],
        [
         "Tuxedojoe",
         15
        ],
        [
         "qoheleth",
         109
        ],
        [
         "CajunTexan",
         4
        ],
        [
         "takeoutthefeds68",
         15
        ],
        [
         "GSMenace",
         49
        ],
        [
         "Klatuu",
         17
        ],
        [
         "Rumpel",
         8
        ],
        [
         "MYBEVY",
         2
        ],
        [
         "Mera1506",
         1
        ],
        [
         "BradBarnhardSho",
         3
        ],
        [
         "easher555",
         56
        ],
        [
         "DrFred57",
         48
        ],
        [
         "ExBladeRunner",
         100
        ],
        [
         "PatriotInfidel",
         110
        ],
        [
         "foilhat",
         1
        ],
        [
         "lilmac_d",
         4
        ],
        [
         "Zophiel",
         79
        ],
        [
         "Mollytwo",
         5
        ],
        [
         "nigga",
         5
        ],
        [
         "RealPhantomLibertarian",
         4
        ],
        [
         "GabrielWest",
         604
        ],
        [
         "DeplorableLaughterRx",
         457
        ],
        [
         "itchy8me",
         77
        ],
        [
         "mcgoverntm",
         1
        ],
        [
         "heavenapostrophe",
         38
        ],
        [
         "FashGun",
         5
        ],
        [
         "Dachux",
         37
        ],
        [
         "Sakker",
         25
        ],
        [
         "LucVNO",
         38
        ],
        [
         "zyalia6tz",
         243
        ],
        [
         "TheRealDonaldTrump45",
         19375
        ],
        [
         "shuhari",
         2183
        ],
        [
         "Jami_USA",
         1153
        ],
        [
         "nubiangod",
         421
        ],
        [
         "Birdy",
         274
        ],
        [
         "DE-Nazi-AKA-DA-Troll",
         375
        ],
        [
         "Orthodox",
         337
        ],
        [
         "Lockerius",
         43
        ],
        [
         "LynneMarie",
         4
        ],
        [
         "Spooky530",
         8
        ],
        [
         "MelMax",
         11
        ],
        [
         "Rocrates",
         11
        ],
        [
         "TrumpCountryUSA",
         1
        ],
        [
         "AHempster",
         3
        ],
        [
         "twatta1717",
         1
        ],
        [
         "MBCB4TRUMP",
         12
        ],
        [
         "sjwmith",
         1
        ],
        [
         "Best_Korea",
         58
        ],
        [
         "Lara04011",
         2
        ],
        [
         "Ramer2008",
         1
        ],
        [
         "Archive_News",
         291
        ],
        [
         "Ponderouschain",
         17
        ],
        [
         "Solidsnake",
         88
        ],
        [
         "internetpartisan",
         4
        ],
        [
         "VastAwakening",
         14
        ],
        [
         "Margi59",
         158
        ],
        [
         "lesbianwalrus_DEFUNCT",
         9
        ],
        [
         "BLMTerrorist",
         24
        ],
        [
         "Destefano",
         1
        ],
        [
         "JordanChristopher",
         34
        ],
        [
         "NotaLoneWolf",
         2
        ],
        [
         "KoljaBonke",
         16
        ],
        [
         "Snow_Worries",
         14
        ],
        [
         "2ndlook1",
         73
        ],
        [
         "BrianSombrets",
         159
        ],
        [
         "linguistic_killshot",
         3104
        ],
        [
         "James_K_Glass",
         313
        ],
        [
         "spotify",
         56
        ],
        [
         "shitlording",
         362
        ],
        [
         "PplRCrazy",
         3
        ],
        [
         "busibees",
         36
        ],
        [
         "a",
         88
        ],
        [
         "Dividends4Life",
         12
        ],
        [
         "Skyfly",
         11
        ],
        [
         "BOBOFkake",
         680
        ],
        [
         "dub",
         17
        ],
        [
         "mikemoore",
         73
        ],
        [
         "Johnyrebb",
         2698
        ],
        [
         "_1",
         5
        ],
        [
         "WingChun_Life",
         4
        ],
        [
         "Aquilam",
         32
        ],
        [
         "DavidKirkland",
         31
        ],
        [
         "AndreaNYNY",
         2
        ],
        [
         "2525",
         8
        ],
        [
         "TheBaldChick",
         28
        ],
        [
         "NSFWradio",
         1
        ],
        [
         "ONEARTHASITISINHEAVEN",
         1
        ],
        [
         "Helpsnotontheway",
         1636
        ],
        [
         "Hajiklr",
         120
        ],
        [
         "Saintsnsinners",
         6
        ],
        [
         "Santa401",
         404
        ],
        [
         "Sparks1017",
         57
        ],
        [
         "Cuck_Fensorship",
         2
        ],
        [
         "phoenixTPR",
         120
        ],
        [
         "Eclipsebrk",
         28
        ],
        [
         "Trumpetpro",
         79
        ],
        [
         "jael",
         20
        ],
        [
         "djtmetz",
         36
        ],
        [
         "PaleHorse",
         24
        ],
        [
         "patriot25",
         3
        ],
        [
         "libertyfarmsiowa",
         1206
        ],
        [
         "HocEstBellum",
         609
        ],
        [
         "Occidental_Spirit",
         35
        ],
        [
         "FeInFL",
         46
        ],
        [
         "Lilangel",
         117
        ],
        [
         "CurtiusSimplus",
         234
        ],
        [
         "RickyBobbySez",
         369
        ],
        [
         "Vexing_Hiraeth",
         1
        ],
        [
         "DaFaking1",
         300
        ],
        [
         "chrisplustina96",
         4
        ],
        [
         "Honingpot",
         1
        ],
        [
         "PoliteSupremacist",
         245
        ],
        [
         "StAutist",
         7
        ],
        [
         "toddwieland",
         6182
        ],
        [
         "Sunshine2016",
         4
        ],
        [
         "goodman",
         223
        ],
        [
         "jimjed",
         2
        ],
        [
         "CptMann",
         2
        ],
        [
         "bobcatready",
         7
        ],
        [
         "MarchForOurRights",
         1
        ],
        [
         "Gypsy124",
         25
        ],
        [
         "Rikistik",
         151
        ],
        [
         "leserbriefing",
         1
        ],
        [
         "BOCCAVERITA",
         21
        ],
        [
         "M1911",
         1
        ],
        [
         "HERALDofYAH",
         979
        ],
        [
         "antediluvian",
         6
        ],
        [
         "YLorenzo",
         463
        ],
        [
         "DaleEvans",
         933
        ],
        [
         "fgrump",
         17
        ],
        [
         "Quitbullshiting",
         3
        ],
        [
         "Travis_Hawks",
         106
        ],
        [
         "LoisRogers",
         111
        ],
        [
         "ZWY",
         155
        ],
        [
         "RollandJames",
         10
        ],
        [
         "Merdeux",
         2
        ],
        [
         "Aragorn",
         1488
        ],
        [
         "MemorialRifleRange",
         248
        ],
        [
         "Breakfast_Imam",
         34
        ],
        [
         "battleaxebill",
         382
        ],
        [
         "Florida_Rogue",
         3
        ],
        [
         "refield",
         3
        ],
        [
         "FascistTwitter",
         18
        ],
        [
         "ARDavid",
         21
        ],
        [
         "boatsailor",
         20
        ],
        [
         "Frig624",
         1
        ],
        [
         "HansGurnade",
         102
        ],
        [
         "altsociology",
         8
        ],
        [
         "Robertgilmaney",
         23
        ],
        [
         "jprexena",
         661
        ],
        [
         "steveruns26",
         102
        ],
        [
         "Renegado",
         49
        ],
        [
         "CitySlickerTony",
         57
        ],
        [
         "Mdonato48",
         60
        ],
        [
         "WhiteSparrow",
         393
        ],
        [
         "ShaHouMac",
         79
        ],
        [
         "Richard1972",
         124
        ],
        [
         "Alicia777",
         14
        ],
        [
         "nuidat1611",
         67
        ],
        [
         "ManWithAPlan",
         13
        ],
        [
         "WildColonialBoy",
         1
        ],
        [
         "blat1982",
         23
        ],
        [
         "CarnalMormon",
         433
        ],
        [
         "Dexter_DR3",
         8
        ],
        [
         "Arketex",
         20
        ],
        [
         "Ironmanrob",
         1
        ],
        [
         "PA_01",
         17
        ],
        [
         "JAQUEBAUER",
         18
        ],
        [
         "wishgranter14",
         20
        ],
        [
         "Thorwing",
         7
        ],
        [
         "RxRankings",
         1
        ],
        [
         "JakeHamel",
         176
        ],
        [
         "ColdBeer",
         2323
        ],
        [
         "Herr_Wolf",
         16
        ],
        [
         "TheWardCleaverExperience",
         11
        ],
        [
         "alburgett",
         3
        ],
        [
         "GeraldineJ",
         148
        ],
        [
         "Katsumi27",
         1
        ],
        [
         "chemx",
         110
        ],
        [
         "smartboy12",
         22
        ],
        [
         "Ryan2238",
         7
        ],
        [
         "chimerarose",
         5
        ],
        [
         "hazysun",
         18
        ],
        [
         "MaouTsaou",
         186
        ],
        [
         "Pat5zero",
         64
        ],
        [
         "Nospin_43",
         15
        ],
        [
         "JeanEBraveaux",
         3081
        ],
        [
         "Alejandrodude13",
         389
        ],
        [
         "Pensive_Daddy",
         338
        ],
        [
         "Elbi",
         52
        ],
        [
         "Freedomalternative",
         1
        ],
        [
         "CatWoman123",
         1
        ],
        [
         "Mad_march",
         2
        ],
        [
         "kdtfin",
         48
        ],
        [
         "Cybergal55",
         58
        ],
        [
         "Squattybaudy",
         2
        ],
        [
         "HughMann37",
         2
        ],
        [
         "MikeyGab",
         1
        ],
        [
         "danigirld1",
         1
        ],
        [
         "Ruth-Plant",
         362
        ],
        [
         "Trinacria",
         1282
        ],
        [
         "rebel4life",
         1288
        ],
        [
         "Agilis_Libertas",
         492
        ],
        [
         "eBiblicalTruth",
         27
        ],
        [
         "CrazySadie",
         15
        ],
        [
         "emuelle1",
         107
        ],
        [
         "Hippiemamagypsylove",
         9
        ],
        [
         "OzMAGA",
         229
        ],
        [
         "skyladawn",
         32
        ],
        [
         "HangEmHigh",
         8
        ],
        [
         "SNAFU",
         24
        ],
        [
         "kcSnoWhite",
         95
        ],
        [
         "NinetyEight_Six",
         5
        ],
        [
         "JimDurfee",
         29
        ],
        [
         "colovion",
         1
        ],
        [
         "Gatorhunting",
         335
        ],
        [
         "HollySet128",
         17
        ],
        [
         "Tangential",
         8
        ],
        [
         "machciv",
         137
        ],
        [
         "triple_red",
         35
        ],
        [
         "LionsOmega",
         9
        ],
        [
         "14Totenkopf88",
         4
        ],
        [
         "HappyHubby",
         24
        ],
        [
         "PCsReasy",
         177
        ],
        [
         "USEless",
         7
        ],
        [
         "claudia92399",
         15
        ],
        [
         "7LayersOfIrony",
         1
        ],
        [
         "Modem",
         57
        ],
        [
         "Dalcon",
         115
        ],
        [
         "meh6000000",
         79
        ],
        [
         "yes_im_a_racist",
         14
        ],
        [
         "Tom4Freedom",
         105
        ],
        [
         "AubreyLaVentana",
         21
        ],
        [
         "gnomeland",
         16
        ],
        [
         "TulpaOmega",
         6
        ],
        [
         "_matt_",
         14
        ],
        [
         "cvilatam",
         24
        ],
        [
         "cincinchili",
         29
        ],
        [
         "Chewybass",
         1
        ],
        [
         "drom_techmarine",
         1165
        ],
        [
         "Walrus1",
         25
        ],
        [
         "Mpars",
         144
        ],
        [
         "FreeAgent355",
         244
        ],
        [
         "tedmont",
         190
        ],
        [
         "ElDerecho",
         75
        ],
        [
         "SoaringNow",
         435
        ],
        [
         "Mefairgolf",
         196
        ],
        [
         "DavidJensen",
         2
        ],
        [
         "Marijan",
         101
        ],
        [
         "hillbilly1488",
         370
        ],
        [
         "opposition_X",
         1001
        ],
        [
         "Cyrano",
         112
        ],
        [
         "lechocracu",
         1
        ],
        [
         "TheNattyRabbit",
         3
        ],
        [
         "Manuel_k_b",
         2
        ],
        [
         "sirmikesalot",
         1
        ],
        [
         "Speaknow17",
         7
        ],
        [
         "ddpaulbell",
         27
        ],
        [
         "Betorn",
         1
        ],
        [
         "bydefault",
         1
        ],
        [
         "GidgetG",
         76
        ],
        [
         "JA37",
         1064
        ],
        [
         "Engir",
         2186
        ],
        [
         "BigFatDaddy",
         82
        ],
        [
         "ChadLilly",
         2243
        ],
        [
         "Kikibittner",
         147
        ],
        [
         "brittlesslife",
         9
        ],
        [
         "SCOWLER",
         454
        ],
        [
         "C_S",
         1
        ],
        [
         "SURREALartist",
         1
        ],
        [
         "GTKRWN",
         3549
        ],
        [
         "kenmac",
         763
        ],
        [
         "ArmchairGeneral",
         1
        ],
        [
         "ufkev",
         492
        ],
        [
         "Paraliegance",
         1145
        ],
        [
         "VincenzoBrooks",
         60
        ],
        [
         "itsmePPZ7H",
         53
        ],
        [
         "LegendaryCollektor",
         6441
        ],
        [
         "VotingFemale",
         326
        ],
        [
         "Igroki",
         66
        ],
        [
         "ApologistJose",
         1
        ],
        [
         "LibInquieto",
         23
        ],
        [
         "RiverRat63",
         1
        ],
        [
         "AndrewAnglin",
         363
        ],
        [
         "Khovtoliv",
         2
        ],
        [
         "GnonCompliant",
         840
        ],
        [
         "Jakdup",
         6
        ],
        [
         "KTH",
         71
        ],
        [
         "grego",
         19
        ],
        [
         "lbscks",
         1
        ],
        [
         "Tony100",
         367
        ],
        [
         "futt",
         4
        ],
        [
         "DBLancaster",
         1
        ],
        [
         "SilentMajorityRising",
         3
        ],
        [
         "RPG88",
         815
        ],
        [
         "RodH",
         1
        ],
        [
         "DeplorableSurfer",
         99
        ],
        [
         "anto1191",
         1
        ],
        [
         "Brasser",
         7
        ],
        [
         "zharbird",
         5
        ],
        [
         "eRedEye",
         327
        ],
        [
         "Sherry",
         7
        ],
        [
         "siciliangal",
         22
        ],
        [
         "tsingi",
         1
        ],
        [
         "kleinemaus",
         21
        ],
        [
         "PeterRWC",
         12
        ],
        [
         "HateNiggers",
         58
        ],
        [
         "CountryOfMOAB",
         5
        ],
        [
         "sushiqk",
         43
        ],
        [
         "DrRivkahSchitlipz",
         2
        ],
        [
         "TheLoneWolf",
         3
        ],
        [
         "FedraFarmer",
         1022
        ],
        [
         "bbeeaann",
         25213
        ],
        [
         "LexiconJewel",
         78
        ],
        [
         "etnmamacyw",
         48
        ],
        [
         "TheForestFromTheTrees",
         5896
        ],
        [
         "WhiteDate",
         10
        ],
        [
         "svenroy",
         32
        ],
        [
         "TimeToPayTheTab",
         71
        ],
        [
         "DistractionNWS",
         6
        ],
        [
         "Mountaineer1",
         15
        ],
        [
         "Frea",
         3
        ],
        [
         "CyberFrog",
         2
        ],
        [
         "TheProjectFenix",
         1
        ],
        [
         "6bird4",
         86
        ],
        [
         "WhiteMansBible",
         2062
        ],
        [
         "GrGrandmaFoster",
         960
        ],
        [
         "bosunj",
         180
        ],
        [
         "James_Dixon",
         379
        ],
        [
         "ConspiracyCat",
         1
        ],
        [
         "Casper_",
         373
        ],
        [
         "Lucy_Cannon",
         7
        ],
        [
         "oknotok",
         2
        ],
        [
         "JTGIIIpercent",
         94
        ],
        [
         "HelloMurica",
         466
        ],
        [
         "BladeoftheSword",
         9
        ],
        [
         "bfry33782",
         1
        ],
        [
         "jackhot",
         31
        ],
        [
         "ReinerZufall",
         10
        ],
        [
         "MansellRoy",
         26
        ],
        [
         "msirispage",
         2
        ],
        [
         "LastOfUs",
         31
        ],
        [
         "estranged2000",
         4
        ],
        [
         "Tomofthenight",
         6
        ],
        [
         "StephenClayMcGehee",
         637
        ],
        [
         "UnbendingMind",
         1
        ],
        [
         "Astromantaray",
         3
        ],
        [
         "occdissent",
         315
        ],
        [
         "Skytroop",
         2
        ],
        [
         "RHubsted",
         168
        ],
        [
         "Banshee",
         232
        ],
        [
         "WrenchRatt",
         30
        ],
        [
         "PMFarmer",
         306
        ],
        [
         "Adaptive",
         12
        ],
        [
         "Clockwork_Cato",
         4
        ],
        [
         "CivilstockOz",
         35
        ],
        [
         "ianvaleni",
         1
        ],
        [
         "NoBS4U",
         261
        ],
        [
         "Muskrat_Mike",
         3
        ],
        [
         "Mitchell_in_Motion",
         5
        ],
        [
         "wirelessguru1",
         40
        ],
        [
         "DaddyCrabCakes",
         2319
        ],
        [
         "Krickt",
         1
        ],
        [
         "trumpy17",
         157
        ],
        [
         "IAWTP",
         59
        ],
        [
         "InvertedIdentity",
         66
        ],
        [
         "TheNumenorean",
         169
        ],
        [
         "Seek_n_find",
         2
        ],
        [
         "bbfohio",
         6
        ],
        [
         "TheLibertyDiva",
         4
        ],
        [
         "JakeTaylor14W",
         3
        ],
        [
         "BSODmyself",
         105
        ],
        [
         "jamest777",
         5
        ],
        [
         "Pb315",
         1
        ],
        [
         "ilostabet",
         7
        ],
        [
         "ZenithEyes",
         1
        ],
        [
         "SLCBagpiper",
         266
        ],
        [
         "Waterdragon53",
         41
        ],
        [
         "oo00oo",
         1
        ],
        [
         "unicorn_",
         13
        ],
        [
         "WilliamHenwood",
         780
        ],
        [
         "rogerlocke",
         217
        ],
        [
         "EEJinLV",
         27
        ],
        [
         "kevinmckenzie",
         223
        ],
        [
         "Arculfe",
         141
        ],
        [
         "General_Company",
         1
        ],
        [
         "BeG123",
         1
        ],
        [
         "Zogkiller",
         2
        ],
        [
         "PrettyPrinter",
         74
        ],
        [
         "Shiftxp",
         14
        ],
        [
         "Lpeach4peace",
         2
        ],
        [
         "Bmacfucklibtars",
         1443
        ],
        [
         "Whiteknight1488",
         2096
        ],
        [
         "JudgmentDay",
         98
        ],
        [
         "StevenKeaton",
         147
        ],
        [
         "jljarvis",
         431
        ],
        [
         "ThatConfused1",
         870
        ],
        [
         "baerdric",
         1157
        ],
        [
         "OccamsEpilady",
         19183
        ],
        [
         "Unenrolled",
         239
        ],
        [
         "davidfisco",
         9
        ],
        [
         "DeanWin1776",
         4
        ],
        [
         "FrankGoneMad",
         59
        ],
        [
         "GarySaintJust",
         27
        ],
        [
         "das_entropy",
         6
        ],
        [
         "Diomedes",
         7
        ],
        [
         "MikeGolf",
         1
        ],
        [
         "Gnaevs",
         279
        ],
        [
         "Truth0404",
         5
        ],
        [
         "GarySavageSr",
         12
        ],
        [
         "M16",
         18
        ],
        [
         "Gator1024",
         279
        ],
        [
         "Ghost_is_a_SJDoublejew",
         4
        ],
        [
         "FatherJohn",
         1
        ],
        [
         "ThemoslemReaper",
         327
        ],
        [
         "Hugin2017",
         43
        ],
        [
         "OnlyOneAmerica",
         1
        ],
        [
         "D_vaughn",
         1323
        ],
        [
         "3DAngelique",
         3144
        ],
        [
         "USMC-DevilDog",
         2689
        ],
        [
         "AngloAmerican_Heritage",
         14
        ],
        [
         "weeklyflyer",
         38
        ],
        [
         "HeetCrusher",
         13
        ],
        [
         "mysticphoeniix",
         501
        ],
        [
         "TheCFTWatchers",
         10
        ],
        [
         "TZilla",
         32
        ],
        [
         "FEDUPCITIZEN7",
         25
        ],
        [
         "armed_partisan",
         3
        ],
        [
         "Foofy",
         1
        ],
        [
         "noahKG",
         6
        ],
        [
         "ThePiston",
         352
        ],
        [
         "0XFatimaX0",
         1247
        ],
        [
         "Powerslave1978",
         8
        ],
        [
         "Bidenshairplugs",
         188
        ],
        [
         "thegepstur",
         1
        ],
        [
         "AveEuropa",
         13
        ],
        [
         "iKarith",
         10
        ],
        [
         "JustinEarlLewis",
         33
        ],
        [
         "Nheiles",
         1
        ],
        [
         "crunchyscallop",
         43
        ],
        [
         "MaxMercer",
         34
        ],
        [
         "AsIf",
         2
        ],
        [
         "AlexDupont",
         81
        ],
        [
         "jwinebrenner12",
         1
        ],
        [
         "RachelBartlett",
         1697
        ],
        [
         "steppnav",
         490
        ],
        [
         "BlueEyedDevil",
         1598
        ],
        [
         "CounterJihad",
         3728
        ],
        [
         "BioWreck",
         1184
        ],
        [
         "umbrellawanker",
         4
        ],
        [
         "Fash_McQueen",
         720
        ],
        [
         "DeplorableGeema",
         1
        ],
        [
         "Drumwaster",
         8
        ],
        [
         "AmFreely",
         1
        ],
        [
         "Agent156",
         11
        ],
        [
         "ftboomer",
         28
        ],
        [
         "TruthWillOut",
         1458
        ],
        [
         "PickleJarsForHillary",
         96
        ],
        [
         "TeaPartyCore",
         6
        ],
        [
         "DickSwhet",
         1
        ],
        [
         "RoaringTRex",
         3
        ],
        [
         "Smellydragon",
         6
        ],
        [
         "JoyousL",
         11
        ],
        [
         "TheRicksta1385",
         7
        ],
        [
         "retrocity5",
         4
        ],
        [
         "BMW45ACP",
         7
        ],
        [
         "Joinforbritain",
         8
        ],
        [
         "Vanderleun",
         29
        ],
        [
         "negativecriticism",
         72
        ],
        [
         "nefariousplot",
         55
        ],
        [
         "AcidBrainWash",
         2326
        ],
        [
         "OpenTheDoor",
         79
        ],
        [
         "BoosterBunny",
         340
        ],
        [
         "backwoodspatriot",
         451
        ],
        [
         "Disgruntled_Employee",
         1
        ],
        [
         "LodiSilverado",
         100
        ],
        [
         "John-Schroder",
         20
        ],
        [
         "Free2see",
         1
        ],
        [
         "complexa",
         18
        ],
        [
         "eradicate_leftism",
         26
        ],
        [
         "NickGriffin",
         10
        ],
        [
         "American_Girl1622",
         1
        ],
        [
         "shorty",
         791
        ],
        [
         "Figs",
         32
        ],
        [
         "Swath",
         349
        ],
        [
         "tteclod",
         477
        ],
        [
         "Shaddam",
         468
        ],
        [
         "henry_in_Texas",
         65
        ],
        [
         "tomatoguts",
         1282
        ],
        [
         "sportsbargastro",
         1195
        ],
        [
         "AmericanRosie",
         5
        ],
        [
         "CletusVanDamm",
         40
        ],
        [
         "ChallengerNationalisim",
         5
        ],
        [
         "Feanor",
         82
        ],
        [
         "GEHRAUS",
         94
        ],
        [
         "Drooesterreich",
         15
        ],
        [
         "Determined1776",
         1
        ],
        [
         "charpaddy",
         14
        ],
        [
         "Tina4Short",
         20
        ],
        [
         "user_name_tak_n",
         17
        ],
        [
         "Southsider1",
         157
        ],
        [
         "KL35K",
         13
        ],
        [
         "Naam",
         12700
        ],
        [
         "secretangentman",
         778
        ],
        [
         "SteveLove4All",
         522
        ],
        [
         "Cephus",
         984
        ],
        [
         "TulipGirl",
         27
        ],
        [
         "Tom7",
         1
        ],
        [
         "talisayslim",
         6
        ],
        [
         "Sunshineclare",
         35
        ],
        [
         "DJWalby",
         82
        ],
        [
         "tonysprout",
         21
        ],
        [
         "Lestrade",
         15
        ],
        [
         "kicsunshine",
         5
        ],
        [
         "Deucalion_",
         34
        ],
        [
         "Strelokk",
         18
        ],
        [
         "HeartOfGore",
         1
        ],
        [
         "HighLevelJinni",
         1
        ],
        [
         "Trumplove454545",
         8
        ],
        [
         "DJTrump2020",
         54
        ],
        [
         "ROCKintheUSSA",
         5340
        ],
        [
         "andieiamwhoiam",
         1173
        ],
        [
         "Scots",
         1
        ],
        [
         "TrevorGoodchild",
         753
        ],
        [
         "Amritas",
         1439
        ],
        [
         "NationalistFoil",
         39
        ],
        [
         "nunnyadayambiddness",
         609
        ],
        [
         "WannaBeSedated",
         8
        ],
        [
         "tippy69",
         11
        ],
        [
         "OrthodoxHeretic",
         16
        ],
        [
         "workathomer",
         5
        ],
        [
         "Apolloslair",
         1
        ],
        [
         "AlaskaRaven",
         18
        ],
        [
         "genophilia",
         26
        ],
        [
         "LiberTarHeel",
         28
        ],
        [
         "BobMartin",
         1514
        ],
        [
         "T3h_K1tt3h",
         213
        ],
        [
         "Gambino443",
         7
        ],
        [
         "grayfur",
         20
        ],
        [
         "Shuffleboard",
         42
        ],
        [
         "solarblaster",
         1
        ],
        [
         "KgdlBrown97",
         26
        ],
        [
         "Don-tTreadOnMe",
         67
        ],
        [
         "hooc",
         5
        ],
        [
         "Stopthemadness",
         23
        ],
        [
         "TheRealCovefefe11B",
         43
        ],
        [
         "John_Galt1970",
         23
        ],
        [
         "KIAZER_robb",
         1
        ],
        [
         "NordicFrontier",
         1
        ],
        [
         "Frank61",
         1583
        ],
        [
         "dsb",
         202
        ],
        [
         "TheBeowulf",
         66
        ],
        [
         "nightwish",
         1221
        ],
        [
         "TechnoEugenics",
         245
        ],
        [
         "JohnRivers",
         366
        ],
        [
         "Ex2I8",
         166
        ],
        [
         "LadyoftheWest",
         4
        ],
        [
         "FinMin",
         412
        ],
        [
         "CognitiveAxiom",
         1
        ],
        [
         "Nemo11010",
         4
        ],
        [
         "morpheouz",
         2
        ],
        [
         "Jeanns",
         14
        ],
        [
         "Military_First",
         3
        ],
        [
         "whythetruth",
         1215
        ],
        [
         "KiltsandWhisky",
         27
        ],
        [
         "MikeinDFW",
         1389
        ],
        [
         "AlCynic",
         541
        ],
        [
         "GB32756",
         394
        ],
        [
         "AnAnglo-American",
         221
        ],
        [
         "JoSchmidt",
         40
        ],
        [
         "KebabRemovalService",
         46
        ],
        [
         "Sheldor63",
         1
        ],
        [
         "hellotonycrowe",
         303
        ],
        [
         "BePoliticallyIncorrect",
         16
        ],
        [
         "PhillipCMcGuire",
         9
        ],
        [
         "DoomsdayLibrary",
         70
        ],
        [
         "SaltandLight",
         35
        ],
        [
         "skotish",
         12
        ],
        [
         "jachinglaplume",
         181
        ],
        [
         "Ra_",
         882
        ],
        [
         "KekistaniConsulate",
         1
        ],
        [
         "RuewenFate",
         162
        ],
        [
         "TheXclass",
         10
        ],
        [
         "The_Emu",
         37
        ],
        [
         "MDOrleans",
         614
        ],
        [
         "BigDawgTexan",
         8
        ],
        [
         "Sachsenwelshgirl",
         3
        ],
        [
         "demonjacobs666",
         11
        ],
        [
         "UnrealElijah",
         17
        ],
        [
         "KLCJR1977",
         11
        ],
        [
         "amjurfinah",
         4
        ],
        [
         "Luxurydecordeb",
         1
        ],
        [
         "TPaine2016",
         412
        ],
        [
         "ToddORiley",
         91
        ],
        [
         "Bobmonk388",
         6
        ],
        [
         "Deebz",
         2369
        ],
        [
         "krunk",
         144
        ],
        [
         "felis_concolor",
         16
        ],
        [
         "Fahrenheit",
         8
        ],
        [
         "Butcherboy",
         47
        ],
        [
         "NathanKing",
         138
        ],
        [
         "KorneliaSan",
         13
        ],
        [
         "Heimatliebe",
         1
        ],
        [
         "Eichkater",
         1
        ],
        [
         "SagNovotny",
         3
        ],
        [
         "Wiguy",
         48
        ],
        [
         "TruthPill",
         5
        ],
        [
         "Gunnar",
         162
        ],
        [
         "ramcclain",
         122
        ],
        [
         "Peone",
         39
        ],
        [
         "johnix",
         71
        ],
        [
         "TwilieAtkins",
         3
        ],
        [
         "PryYour3rdEye",
         275
        ],
        [
         "Oflameo",
         75
        ],
        [
         "nxtblg",
         153
        ],
        [
         "MonicaFibonacci",
         43
        ],
        [
         "Astraea",
         19
        ],
        [
         "CozyDelphi",
         3
        ],
        [
         "AndrewGS",
         2
        ],
        [
         "AlbertaProud",
         1
        ],
        [
         "CFN",
         112
        ],
        [
         "iSapiens",
         1190
        ],
        [
         "Obi0ne80",
         1
        ],
        [
         "TheVillain",
         1
        ],
        [
         "OmaAmaRovo",
         62
        ],
        [
         "LonesomeHomestead",
         46
        ],
        [
         "TheRob",
         23
        ],
        [
         "CorneliusRye",
         465
        ],
        [
         "Fatman1369",
         2
        ],
        [
         "Berengar",
         3
        ],
        [
         "ChrisRaven",
         7
        ],
        [
         "Amber",
         125
        ],
        [
         "meanandjudgemental",
         156
        ],
        [
         "weimericanlad",
         26
        ],
        [
         "ConservNEWS",
         9
        ],
        [
         "RLeeFine",
         6
        ],
        [
         "tarmac492",
         2
        ],
        [
         "KarenW",
         60
        ],
        [
         "Tendweller",
         34
        ],
        [
         "NewFrontierNews",
         1
        ],
        [
         "longpenis",
         19
        ],
        [
         "Diggz01",
         19
        ],
        [
         "Rafael",
         6
        ],
        [
         "MemesForTay",
         19
        ],
        [
         "Barycza",
         1
        ],
        [
         "357magnum",
         82
        ],
        [
         "aballinger",
         4
        ],
        [
         "Luke_Luck",
         263
        ],
        [
         "chrispereira",
         2
        ],
        [
         "jlgb2117",
         11
        ],
        [
         "JiEd",
         34
        ],
        [
         "mohamscamel",
         933
        ],
        [
         "nachosgrande",
         1
        ],
        [
         "smittys",
         182
        ],
        [
         "Laconic_Oak",
         13
        ],
        [
         "rlyeh",
         1415
        ],
        [
         "we_are_being_played",
         18
        ],
        [
         "ExposeTheNose",
         80
        ],
        [
         "GnonProphet",
         51
        ],
        [
         "Quietlife",
         3
        ],
        [
         "Chaos-and-Order",
         2
        ],
        [
         "Etherspace",
         3
        ],
        [
         "weedy",
         1
        ],
        [
         "blusea",
         11
        ],
        [
         "Habsburg",
         1
        ],
        [
         "Draculalovedogs",
         2044
        ],
        [
         "Skipjacks",
         5574
        ],
        [
         "Chuckinv",
         1041
        ],
        [
         "Quartermaster",
         887
        ],
        [
         "JPerkinsJune",
         361
        ],
        [
         "BigJohn",
         78
        ],
        [
         "beth3",
         60
        ],
        [
         "Marbro",
         21
        ],
        [
         "Flawliss",
         15
        ],
        [
         "dankemp",
         2
        ],
        [
         "HEISENBURGER",
         842
        ],
        [
         "ShotgunRider",
         4
        ],
        [
         "RichFsr",
         2
        ],
        [
         "serfer5",
         3
        ],
        [
         "hrg2",
         1
        ],
        [
         "JohnGritt",
         2004
        ],
        [
         "Snugglebunny",
         742
        ],
        [
         "Kurtis-Lachance",
         58
        ],
        [
         "ProleSerf",
         109
        ],
        [
         "Coolio",
         167
        ],
        [
         "genej78",
         11
        ],
        [
         "BrandonWilhite",
         71
        ],
        [
         "ColinOnTheWold",
         6
        ],
        [
         "donaldfox",
         100
        ],
        [
         "AidanChrysler",
         1
        ],
        [
         "Fludacoup",
         10
        ],
        [
         "RebukeSkyTalker",
         1
        ],
        [
         "SvOstrow",
         1
        ],
        [
         "FrameGames",
         2
        ],
        [
         "JohnnyAmerica",
         5
        ],
        [
         "1s3",
         967
        ],
        [
         "alternative_right",
         3937
        ],
        [
         "BavarianBumpkin",
         84
        ],
        [
         "BlueAngel",
         123
        ],
        [
         "Infowarriorpress",
         10
        ],
        [
         "The_Notorious_Moon",
         2
        ],
        [
         "TheDeplorableCapitalist",
         82
        ],
        [
         "badger5",
         8
        ],
        [
         "DeplorableOldFart",
         56
        ],
        [
         "WarAtTheZoo",
         40
        ],
        [
         "SMatty",
         6
        ],
        [
         "VineDivine",
         6
        ],
        [
         "Rule62eh",
         3
        ],
        [
         "nofaithnewe",
         702
        ],
        [
         "Titanic_Britain_Author",
         3793
        ],
        [
         "blazinherb",
         138
        ],
        [
         "UHF",
         9
        ],
        [
         "OxbowNicky",
         2
        ],
        [
         "kkdontlikeyoulovestheNRA",
         3
        ],
        [
         "winterwolf333555999",
         14
        ],
        [
         "Kennyray",
         3
        ],
        [
         "Max_Wyatt",
         4
        ],
        [
         "PatriotCane",
         8
        ],
        [
         "realGodEmperorTrump",
         3
        ],
        [
         "theyowntheinternet",
         1
        ],
        [
         "griggsmen",
         1
        ],
        [
         "wolfsDad",
         187
        ],
        [
         "teapartyson",
         45
        ],
        [
         "BunnySue",
         10
        ],
        [
         "QuitFreeLoading",
         71
        ],
        [
         "TheGrimComedian",
         442
        ],
        [
         "ConstitutionalLibertarian",
         15
        ],
        [
         "Bageera",
         28
        ],
        [
         "Abyssus",
         31
        ],
        [
         "RickSR",
         6
        ],
        [
         "FFRnews",
         209
        ],
        [
         "tlprice71",
         32
        ],
        [
         "kateusa",
         68
        ],
        [
         "BlackCrow",
         541
        ],
        [
         "h4rdm0us",
         2417
        ],
        [
         "American2theKor",
         627
        ],
        [
         "Were-Puppy",
         52
        ],
        [
         "CycloneBee",
         543
        ],
        [
         "racketmensch",
         26
        ],
        [
         "Dizza",
         959
        ],
        [
         "HopeStillElle",
         43
        ],
        [
         "Truther34",
         28
        ],
        [
         "CGMCPO",
         17
        ],
        [
         "Strawberryfields1928",
         1
        ],
        [
         "conspirituality_theory",
         1
        ],
        [
         "IndigenousEuropean",
         14
        ],
        [
         "xargon666",
         3
        ],
        [
         "Tier1MEMES",
         584
        ],
        [
         "JohnBains1",
         84
        ],
        [
         "GothGirl71",
         27
        ],
        [
         "vor0220",
         1496
        ],
        [
         "VGoth",
         677
        ],
        [
         "Orangeone4",
         4033
        ],
        [
         "BrownEyedCanadianGirl",
         3
        ],
        [
         "TriggerBeth",
         99
        ],
        [
         "gusjenkins111",
         22
        ],
        [
         "whippersnapper",
         15
        ],
        [
         "StarPrincess",
         520
        ],
        [
         "Spawn_of_Cucky2",
         6
        ],
        [
         "turningright",
         1
        ],
        [
         "olddustyghost",
         175
        ],
        [
         "Alwaysberunning",
         2
        ],
        [
         "JohnOfConnecticut",
         12
        ],
        [
         "Blacksheep",
         25
        ],
        [
         "BeingLorrie",
         18
        ],
        [
         "Shareshten",
         1
        ],
        [
         "Nikkisuglytruth",
         1
        ],
        [
         "Pixilott",
         3
        ],
        [
         "ItsOKtoWakeUpNow",
         26
        ],
        [
         "TedHong",
         4943
        ],
        [
         "EmilyAnderson",
         388
        ],
        [
         "thrakazog",
         6
        ],
        [
         "Poruje",
         24
        ],
        [
         "Patriotic1",
         11
        ],
        [
         "Inx",
         55
        ],
        [
         "Aurora3",
         88
        ],
        [
         "altrite1",
         16
        ],
        [
         "JustSheila",
         10
        ],
        [
         "fearpornrefugee",
         13
        ],
        [
         "EthanEdwards",
         1185
        ],
        [
         "Michele3Belezze",
         10
        ],
        [
         "dffedlock",
         21
        ],
        [
         "MISTERBLONDEMAN",
         1
        ],
        [
         "_Rev1972",
         38
        ],
        [
         "bapdco",
         5
        ],
        [
         "Sparky4160",
         36
        ],
        [
         "LibertyRevolutionary",
         4735
        ],
        [
         "MotorSportDude",
         164
        ],
        [
         "AlvinB1959",
         57
        ],
        [
         "GAE",
         20
        ],
        [
         "MachineTrooper",
         255
        ],
        [
         "TheBadGoy",
         477
        ],
        [
         "RodStokes",
         11
        ],
        [
         "RapefugeeWatch",
         214
        ],
        [
         "libertycore",
         24
        ],
        [
         "Ecki53",
         1
        ],
        [
         "BWinters17",
         8
        ],
        [
         "Jerzy",
         4
        ],
        [
         "PilgrimsLanded",
         1
        ],
        [
         "realRonnieEvil",
         6
        ],
        [
         "CmdrSlamm",
         190
        ],
        [
         "NortonI",
         133
        ],
        [
         "TheMadHessian",
         10
        ],
        [
         "Razimaha",
         110
        ],
        [
         "jimbunte",
         40
        ],
        [
         "Bronsonesque",
         110
        ],
        [
         "Caish",
         53
        ],
        [
         "CroppedRaccoon",
         264
        ],
        [
         "mstrbass2000",
         237
        ],
        [
         "friend-thru-the-storm",
         15
        ],
        [
         "SaltyQTrumpenhofer",
         6
        ],
        [
         "elspeth62",
         43
        ],
        [
         "AfarBell",
         12
        ],
        [
         "PaesurBiey",
         16107
        ],
        [
         "Razorback247",
         779
        ],
        [
         "AussieKing69",
         28
        ],
        [
         "Davidhunting",
         256
        ],
        [
         "ChuckLindbergh",
         2
        ],
        [
         "WANAGL",
         7
        ],
        [
         "tmf1205",
         3
        ],
        [
         "deanberryministry",
         750
        ],
        [
         "spherical_cube",
         21
        ],
        [
         "rk3001",
         1
        ],
        [
         "Timber",
         65
        ],
        [
         "Wehrmacht",
         23
        ],
        [
         "velocirapture",
         2
        ],
        [
         "mumsplume",
         4
        ],
        [
         "JohnAdams1797",
         10
        ],
        [
         "MillstoneSociety",
         64
        ],
        [
         "SharonMc",
         1
        ],
        [
         "lbm4894",
         95
        ],
        [
         "deSelby",
         2
        ],
        [
         "LCMB",
         11
        ],
        [
         "DanSandy",
         2
        ],
        [
         "ivanorlovski",
         4
        ],
        [
         "C_Arnold07",
         17
        ],
        [
         "ioughttobechief",
         4
        ],
        [
         "Kenton",
         62
        ],
        [
         "yuvonasexton",
         1933
        ],
        [
         "Alxndrdmmrng",
         23
        ],
        [
         "KimJong-un",
         635
        ],
        [
         "Moonman",
         938
        ],
        [
         "kt59tone",
         26
        ],
        [
         "jackshand",
         37
        ],
        [
         "right_guy",
         13
        ],
        [
         "ShannonMontague",
         18
        ],
        [
         "DakotaMoonbeam",
         40
        ],
        [
         "erz",
         10
        ],
        [
         "tgremlin82",
         1
        ],
        [
         "Davekoester",
         2
        ],
        [
         "RoyPemberton",
         19
        ],
        [
         "Journo_List",
         8
        ],
        [
         "CommyUSA",
         3
        ],
        [
         "Aitch748",
         179
        ],
        [
         "ProjectLambda",
         15
        ],
        [
         "VRobb",
         9
        ],
        [
         "johnben_net",
         47
        ],
        [
         "HWR88",
         589
        ],
        [
         "UnrulyRefugee",
         366
        ],
        [
         "bighominid",
         12
        ],
        [
         "Britelight",
         8
        ],
        [
         "Sydsnothere",
         4
        ],
        [
         "Maatstream",
         67
        ],
        [
         "RevTim",
         13
        ],
        [
         "Stan_Semivirgin",
         32
        ],
        [
         "TamaraDHolloway",
         6
        ],
        [
         "Westel",
         283
        ],
        [
         "MBizon",
         45
        ],
        [
         "micah719",
         1
        ],
        [
         "BOBachter",
         71
        ],
        [
         "AlienAbles",
         9
        ],
        [
         "Duarf",
         7
        ],
        [
         "GeorgeAngus",
         65
        ],
        [
         "Voyeurger",
         51
        ],
        [
         "Yvonne_Micklich_AI",
         290
        ],
        [
         "lilbutterfly70",
         14
        ],
        [
         "Angry_White_Goy",
         1156
        ],
        [
         "gt49",
         7
        ],
        [
         "SClancy6591",
         156
        ],
        [
         "chunga1958",
         1739
        ],
        [
         "Luna",
         5
        ],
        [
         "TheMidMerican",
         1
        ],
        [
         "WashingtonFront",
         2
        ],
        [
         "PandaTricks",
         1
        ],
        [
         "Paladingoldsilver",
         10
        ],
        [
         "FreeRangeHuman",
         1
        ],
        [
         "22TCM",
         86
        ],
        [
         "roscoeellis",
         44
        ],
        [
         "Lisafedup",
         359
        ],
        [
         "RighteousPatriot",
         1
        ],
        [
         "SingingTimberwolf",
         207
        ],
        [
         "RadioInfidelShow",
         116
        ],
        [
         "AmericanSpartan78",
         1
        ],
        [
         "FoxesAflame",
         229
        ],
        [
         "AttilaTheArmenian",
         3
        ],
        [
         "kekservative",
         496
        ],
        [
         "SynapseZap",
         28
        ],
        [
         "Brofford64",
         79
        ],
        [
         "Tliarch",
         122
        ],
        [
         "Jean-Louis",
         1
        ],
        [
         "tommotom73",
         1
        ],
        [
         "libtardhammer",
         847
        ],
        [
         "Stuckin79",
         338
        ],
        [
         "Annie53annette",
         3648
        ],
        [
         "Alberon80",
         15
        ],
        [
         "ChristineML1",
         3
        ],
        [
         "Downright-Alt-Right",
         118
        ],
        [
         "charliewings",
         1
        ],
        [
         "Greekgod",
         1
        ],
        [
         "FullBoyle",
         28
        ],
        [
         "maximus_aurelius",
         367
        ],
        [
         "Hangfire181",
         1
        ],
        [
         "UncleJohnsBand",
         9
        ],
        [
         "strongerlonger",
         66
        ],
        [
         "socalMike_SD",
         99
        ],
        [
         "bwbb",
         34
        ],
        [
         "Marinov1",
         1
        ],
        [
         "dkhead",
         185
        ],
        [
         "SF",
         68
        ],
        [
         "RWill",
         136
        ],
        [
         "minervaneryse",
         8
        ],
        [
         "DrKek",
         25
        ],
        [
         "thonsinger71",
         1
        ],
        [
         "northentier",
         2
        ],
        [
         "genuflect",
         8
        ],
        [
         "MetalBass",
         747
        ],
        [
         "Scottno3",
         248
        ],
        [
         "Jaque_Bauer",
         16
        ],
        [
         "CyLyBu",
         21
        ],
        [
         "StJoeBlues",
         2
        ],
        [
         "TheRealElonBell",
         2
        ],
        [
         "4annegs",
         36
        ],
        [
         "ReactionaryCat",
         489
        ],
        [
         "sournack",
         47
        ],
        [
         "ArchangelOfGab",
         37
        ],
        [
         "LettGuo",
         586
        ],
        [
         "Jeremy20_9",
         46
        ],
        [
         "RT88",
         56
        ],
        [
         "Mthrshp",
         3
        ],
        [
         "Donn5150",
         1
        ],
        [
         "kilobot",
         3
        ],
        [
         "LAofVA",
         11
        ],
        [
         "dedoggs",
         2
        ],
        [
         "Akatomdavis",
         273
        ],
        [
         "4rnation",
         1
        ],
        [
         "PutnamC",
         145
        ],
        [
         "21stCenturySpartan",
         4477
        ],
        [
         "Violetfire",
         743
        ],
        [
         "hessnice",
         17
        ],
        [
         "DickScrimshaw",
         18
        ],
        [
         "SCALE",
         150
        ],
        [
         "Fashdaddey",
         9
        ],
        [
         "TheMissus",
         4
        ],
        [
         "kingdomMan",
         53
        ],
        [
         "ThisIsShorthouse",
         6
        ],
        [
         "Villaintarian",
         33
        ],
        [
         "Merrymary",
         446
        ],
        [
         "UtahRattler",
         66
        ],
        [
         "DaveD53",
         72
        ],
        [
         "SwampDrainerTee",
         21
        ],
        [
         "MRCooper",
         158
        ],
        [
         "cosmic_sol",
         9
        ],
        [
         "NinaDavies",
         1906
        ],
        [
         "hope",
         27
        ],
        [
         "OldDannyboy12",
         18
        ],
        [
         "Dango",
         37
        ],
        [
         "CharlieFarnsbarns",
         2851
        ],
        [
         "No_Islam_Peace",
         8
        ],
        [
         "vullo",
         81
        ],
        [
         "squirrel327",
         46
        ],
        [
         "DissidentIrishMan96",
         1
        ],
        [
         "DeplorableTillman",
         7
        ],
        [
         "ooijerm",
         3
        ],
        [
         "mischabi",
         1
        ],
        [
         "Befokd",
         4
        ],
        [
         "Teufelshunde2",
         4138
        ],
        [
         "KittCatt",
         113
        ],
        [
         "GatesOfToledo",
         2487
        ],
        [
         "doomcat13",
         70
        ],
        [
         "Sikafred",
         38
        ],
        [
         "jugger",
         104
        ],
        [
         "AldoCella",
         11
        ],
        [
         "ChuckoButler",
         3
        ],
        [
         "GoldenDragon",
         4
        ],
        [
         "c0s",
         11
        ],
        [
         "Rabuliz",
         18
        ],
        [
         "AndrewMitchell",
         2
        ],
        [
         "lovelymiss",
         993
        ],
        [
         "Spiral-INfinity",
         509
        ],
        [
         "SummaSonica",
         1
        ],
        [
         "Stillwearsgrey",
         73
        ],
        [
         "CloseTheFed",
         417
        ]
       ],
       "datasetInfos": [],
       "dbfsResultPath": null,
       "isJsonSchema": true,
       "metadata": {},
       "overflow": true,
       "plotOptions": {
        "customPlotOptions": {},
        "displayType": "table",
        "pivotAggregation": null,
        "pivotColumns": null,
        "xColumns": null,
        "yColumns": null
       },
       "removedWidgets": [],
       "schema": [
        {
         "metadata": "{}",
         "name": "id",
         "type": "\"string\""
        },
        {
         "metadata": "{}",
         "name": "outDegree",
         "type": "\"integer\""
        }
       ],
       "type": "table"
      }
     },
     "output_type": "display_data"
    }
   ],
   "source": [
    "display(network_graph.outDegrees)"
   ]
  },
  {
   "cell_type": "code",
   "execution_count": 0,
   "metadata": {
    "application/vnd.databricks.v1+cell": {
     "inputWidgets": {},
     "nuid": "e83839ee-cfac-467b-a62d-7642bb212081",
     "showTitle": false,
     "title": ""
    }
   },
   "outputs": [
    {
     "data": {
      "text/html": [
       "<style scoped>\n",
       "  .table-result-container {\n",
       "    max-height: 300px;\n",
       "    overflow: auto;\n",
       "  }\n",
       "  table, th, td {\n",
       "    border: 1px solid black;\n",
       "    border-collapse: collapse;\n",
       "  }\n",
       "  th, td {\n",
       "    padding: 5px;\n",
       "  }\n",
       "  th {\n",
       "    text-align: left;\n",
       "  }\n",
       "</style><div class='table-result-container'><table class='table-result'><thead style='background-color: white'><tr><th>src</th><th>dst</th><th>relationship</th></tr></thead><tbody><tr><td>Frank61</td><td>RDFloyd</td><td>repliedBy</td></tr><tr><td>DemonTwoSix</td><td>RockyBasterd</td><td>repliedBy</td></tr><tr><td>DemonTwoSix</td><td>DemonTwoSix</td><td>repliedBy</td></tr><tr><td>DemonTwoSix</td><td>RockyBasterd</td><td>repliedBy</td></tr><tr><td>DemonTwoSix</td><td>DemonTwoSix</td><td>repliedBy</td></tr><tr><td>DemonTwoSix</td><td>StoneSovryn</td><td>repliedBy</td></tr><tr><td>ManweSulimo828</td><td>ManweSulimo828</td><td>repliedBy</td></tr><tr><td>ManweSulimo828</td><td>wacko2</td><td>repliedBy</td></tr><tr><td>ManweSulimo828</td><td>ManweSulimo828</td><td>repliedBy</td></tr><tr><td>ManweSulimo828</td><td>FurDog54</td><td>repliedBy</td></tr><tr><td>ManweSulimo828</td><td>PhilipSchuyler</td><td>repliedBy</td></tr><tr><td>Frank61</td><td>blkdiamond97</td><td>repliedBy</td></tr><tr><td>DaddyCrabCakes</td><td>Erudite</td><td>repliedBy</td></tr><tr><td>DaddyCrabCakes</td><td>DaddyCrabCakes</td><td>repliedBy</td></tr><tr><td>Frank61</td><td>wolfenii</td><td>repliedBy</td></tr><tr><td>JWS</td><td>EricThomas</td><td>repliedBy</td></tr><tr><td>ThePolitiGamer</td><td>row17</td><td>repliedBy</td></tr><tr><td>ThePolitiGamer</td><td>row17</td><td>repliedBy</td></tr><tr><td>ThePolitiGamer</td><td>ThePolitiGamer</td><td>repliedBy</td></tr><tr><td>HEISNOWHERE</td><td>hoofed</td><td>repliedBy</td></tr><tr><td>Brattinella</td><td>Luke_Luck</td><td>repliedBy</td></tr><tr><td>Brattinella</td><td>MartyGraw</td><td>repliedBy</td></tr><tr><td>Escoffier</td><td>genophilia</td><td>repliedBy</td></tr><tr><td>ThemoslemReaper</td><td>ANPress</td><td>repliedBy</td></tr><tr><td>Frank61</td><td>Frank61</td><td>repliedBy</td></tr><tr><td>Frank61</td><td>AriShekelstein</td><td>repliedBy</td></tr><tr><td>HEISNOWHERE</td><td>janiec</td><td>repliedBy</td></tr><tr><td>Alan103</td><td>EastAngle</td><td>repliedBy</td></tr><tr><td>kstewskis</td><td>StoneSovryn</td><td>repliedBy</td></tr><tr><td>Violetfire</td><td>USMC-DevilDog</td><td>repliedBy</td></tr><tr><td>Donnalea1</td><td>TCA3317</td><td>repliedBy</td></tr><tr><td>Frank61</td><td>TCA3317</td><td>repliedBy</td></tr><tr><td>alternative_right</td><td>CuckSlayer2017</td><td>repliedBy</td></tr><tr><td>alternative_right</td><td>alternative_right</td><td>repliedBy</td></tr><tr><td>alternative_right</td><td>CuckSlayer2017</td><td>repliedBy</td></tr><tr><td>alternative_right</td><td>CuckSlayer2017</td><td>repliedBy</td></tr><tr><td>alternative_right</td><td>alternative_right</td><td>repliedBy</td></tr><tr><td>alternative_right</td><td>CuckSlayer2017</td><td>repliedBy</td></tr><tr><td>alternative_right</td><td>alternative_right</td><td>repliedBy</td></tr><tr><td>alternative_right</td><td>CuckSlayer2017</td><td>repliedBy</td></tr><tr><td>alternative_right</td><td>alternative_right</td><td>repliedBy</td></tr><tr><td>alternative_right</td><td>CuckSlayer2017</td><td>repliedBy</td></tr><tr><td>alternative_right</td><td>alternative_right</td><td>repliedBy</td></tr><tr><td>alternative_right</td><td>ANV</td><td>repliedBy</td></tr><tr><td>alternative_right</td><td>Annie53annette</td><td>repliedBy</td></tr><tr><td>alternative_right</td><td>ANV</td><td>repliedBy</td></tr><tr><td>alternative_right</td><td>Annie53annette</td><td>repliedBy</td></tr><tr><td>alternative_right</td><td>Patriotpapa2018</td><td>repliedBy</td></tr><tr><td>alternative_right</td><td>Annie53annette</td><td>repliedBy</td></tr><tr><td>alternative_right</td><td>PePe2</td><td>repliedBy</td></tr><tr><td>Ivan_Ivanovich</td><td>USMC-DevilDog</td><td>repliedBy</td></tr><tr><td>PepeReagan</td><td>MartyGraw</td><td>repliedBy</td></tr><tr><td>HEISNOWHERE</td><td>22TCM</td><td>repliedBy</td></tr><tr><td>Donnalea1</td><td>Luke_Luck</td><td>repliedBy</td></tr><tr><td>Donnalea1</td><td>MartyGraw</td><td>repliedBy</td></tr><tr><td>Frank61</td><td>TCA3317</td><td>repliedBy</td></tr><tr><td>Shepherd</td><td>FreedomRenegade</td><td>repliedBy</td></tr><tr><td>XIX</td><td>PhilipSchuyler</td><td>repliedBy</td></tr><tr><td>Shepherd</td><td>caroljohns827</td><td>repliedBy</td></tr><tr><td>Shepherd</td><td>USMC-DevilDog</td><td>repliedBy</td></tr><tr><td>MartyGraw</td><td>BrainStressBall</td><td>repliedBy</td></tr><tr><td>MartyGraw</td><td>MartyGraw</td><td>repliedBy</td></tr><tr><td>wbvt_98fm</td><td>HuHenHarr</td><td>repliedBy</td></tr><tr><td>wbvt_98fm</td><td>wbvt_98fm</td><td>repliedBy</td></tr><tr><td>Prodigal</td><td>Bangoob</td><td>repliedBy</td></tr><tr><td>Prodigal</td><td>Prodigal</td><td>repliedBy</td></tr><tr><td>Prodigal</td><td>Bangoob</td><td>repliedBy</td></tr><tr><td>Prodigal</td><td>Prodigal</td><td>repliedBy</td></tr><tr><td>Prodigal</td><td>Bangoob</td><td>repliedBy</td></tr><tr><td>DemonTwoSix</td><td>RockyBasterd</td><td>repliedBy</td></tr><tr><td>DemonTwoSix</td><td>DemonTwoSix</td><td>repliedBy</td></tr><tr><td>DemonTwoSix</td><td>USMC-DevilDog</td><td>repliedBy</td></tr><tr><td>RagnarthePirate</td><td>RealTrumpTweets</td><td>repliedBy</td></tr><tr><td>LAofVA</td><td>LAofVA</td><td>repliedBy</td></tr><tr><td>DemonTwoSix</td><td>USMC-DevilDog</td><td>repliedBy</td></tr><tr><td>jprexena</td><td>jprexena</td><td>repliedBy</td></tr><tr><td>Prodigal</td><td>Bangoob</td><td>repliedBy</td></tr><tr><td>Prodigal</td><td>Prodigal</td><td>repliedBy</td></tr><tr><td>Prodigal</td><td>Bangoob</td><td>repliedBy</td></tr><tr><td>UnrepentantDeplorable</td><td>BGKB</td><td>repliedBy</td></tr><tr><td>hankemup</td><td>elspeth62</td><td>repliedBy</td></tr><tr><td>DG10</td><td>22TCM</td><td>repliedBy</td></tr><tr><td>truthwhisper</td><td>JCPH8235</td><td>repliedBy</td></tr><tr><td>truthwhisper</td><td>truthwhisper</td><td>repliedBy</td></tr><tr><td>truthwhisper</td><td>SurvivorMed</td><td>repliedBy</td></tr><tr><td>MartyGraw</td><td>VanCough</td><td>repliedBy</td></tr><tr><td>MartyGraw</td><td>MartyGraw</td><td>repliedBy</td></tr><tr><td>kstewskis</td><td>Mad_march</td><td>repliedBy</td></tr><tr><td>Freeanddivided</td><td>edgarallanpoegrom</td><td>repliedBy</td></tr><tr><td>TedMidward</td><td>Luke_Luck</td><td>repliedBy</td></tr><tr><td>TedMidward</td><td>MartyGraw</td><td>repliedBy</td></tr><tr><td>kstewskis</td><td>WhatsaMattaU</td><td>repliedBy</td></tr><tr><td>kstewskis</td><td>WhatsaMattaU</td><td>repliedBy</td></tr><tr><td>kstewskis</td><td>USMC-DevilDog</td><td>repliedBy</td></tr><tr><td>im3421</td><td>MartyGraw</td><td>repliedBy</td></tr><tr><td>DerStoppenfloppen</td><td>way2opinionated</td><td>repliedBy</td></tr><tr><td>DerStoppenfloppen</td><td>Nationalist_UK</td><td>repliedBy</td></tr><tr><td>Luke_Luck</td><td>MartyGraw</td><td>repliedBy</td></tr><tr><td>WhiteMansBible</td><td>Final-Red-Pill-Revolution</td><td>repliedBy</td></tr><tr><td>WhiteMansBible</td><td>SecondUSRevolt</td><td>repliedBy</td></tr><tr><td>haremesc</td><td>MartyGraw</td><td>repliedBy</td></tr><tr><td>FoxGibsonAgain</td><td>blkdiamond97</td><td>repliedBy</td></tr><tr><td>ARDavid</td><td>Nightmouse</td><td>repliedBy</td></tr><tr><td>jprexena</td><td>jprexena</td><td>repliedBy</td></tr><tr><td>Mica4711</td><td>Merdeux</td><td>repliedBy</td></tr><tr><td>Mica4711</td><td>AntifaMom</td><td>repliedBy</td></tr><tr><td>FoxGibsonAgain</td><td>janiec</td><td>repliedBy</td></tr><tr><td>1s3</td><td>Hilloftyr</td><td>repliedBy</td></tr><tr><td>CB19</td><td>floridadatanerd</td><td>repliedBy</td></tr><tr><td>CB19</td><td>floridadatanerd</td><td>repliedBy</td></tr><tr><td>jprexena</td><td>jprexena</td><td>repliedBy</td></tr><tr><td>WolverineTongue</td><td>BrooklynDave</td><td>repliedBy</td></tr><tr><td>WolverineTongue</td><td>WolverineTongue</td><td>repliedBy</td></tr><tr><td>WolverineTongue</td><td>BrooklynDave</td><td>repliedBy</td></tr><tr><td>WolverineTongue</td><td>WolverineTongue</td><td>repliedBy</td></tr><tr><td>WolverineTongue</td><td>BrooklynDave</td><td>repliedBy</td></tr><tr><td>WolverineTongue</td><td>WolverineTongue</td><td>repliedBy</td></tr><tr><td>WolverineTongue</td><td>BrooklynDave</td><td>repliedBy</td></tr><tr><td>WolverineTongue</td><td>WolverineTongue</td><td>repliedBy</td></tr><tr><td>NavyVetForTrump</td><td>SurvivorMed</td><td>repliedBy</td></tr><tr><td>tieridge</td><td>wolfenii</td><td>repliedBy</td></tr><tr><td>DemonTwoSix</td><td>Deebz</td><td>repliedBy</td></tr><tr><td>DemonTwoSix</td><td>DemonTwoSix</td><td>repliedBy</td></tr><tr><td>DemonTwoSix</td><td>Deebz</td><td>repliedBy</td></tr><tr><td>DemonTwoSix</td><td>DemonTwoSix</td><td>repliedBy</td></tr><tr><td>DemonTwoSix</td><td>valinor</td><td>repliedBy</td></tr><tr><td>DemonTwoSix</td><td>DemonTwoSix</td><td>repliedBy</td></tr><tr><td>DemonTwoSix</td><td>gaylordsunandshield</td><td>repliedBy</td></tr><tr><td>alternative_right</td><td>CuckSlayer2017</td><td>repliedBy</td></tr><tr><td>alternative_right</td><td>CuckSlayer2017</td><td>repliedBy</td></tr><tr><td>alternative_right</td><td>alternative_right</td><td>repliedBy</td></tr><tr><td>alternative_right</td><td>CuckSlayer2017</td><td>repliedBy</td></tr><tr><td>alternative_right</td><td>alternative_right</td><td>repliedBy</td></tr><tr><td>alternative_right</td><td>CuckSlayer2017</td><td>repliedBy</td></tr><tr><td>alternative_right</td><td>alternative_right</td><td>repliedBy</td></tr><tr><td>alternative_right</td><td>CuckSlayer2017</td><td>repliedBy</td></tr><tr><td>alternative_right</td><td>alternative_right</td><td>repliedBy</td></tr><tr><td>alternative_right</td><td>ANV</td><td>repliedBy</td></tr><tr><td>alternative_right</td><td>Annie53annette</td><td>repliedBy</td></tr><tr><td>alternative_right</td><td>ANV</td><td>repliedBy</td></tr><tr><td>alternative_right</td><td>Annie53annette</td><td>repliedBy</td></tr><tr><td>alternative_right</td><td>Patriotpapa2018</td><td>repliedBy</td></tr><tr><td>alternative_right</td><td>Annie53annette</td><td>repliedBy</td></tr><tr><td>alternative_right</td><td>PePe2</td><td>repliedBy</td></tr><tr><td>truthwhisper</td><td>SurvivorMed</td><td>repliedBy</td></tr><tr><td>Deebz</td><td>DemonTwoSix</td><td>repliedBy</td></tr><tr><td>Deebz</td><td>Deebz</td><td>repliedBy</td></tr><tr><td>Deebz</td><td>DemonTwoSix</td><td>repliedBy</td></tr><tr><td>Deebz</td><td>valinor</td><td>repliedBy</td></tr><tr><td>Deebz</td><td>DemonTwoSix</td><td>repliedBy</td></tr><tr><td>Deebz</td><td>gaylordsunandshield</td><td>repliedBy</td></tr><tr><td>CycloneBee</td><td>wolfenii</td><td>repliedBy</td></tr><tr><td>DemonTwoSix</td><td>Deebz</td><td>repliedBy</td></tr><tr><td>DemonTwoSix</td><td>DemonTwoSix</td><td>repliedBy</td></tr><tr><td>DemonTwoSix</td><td>valinor</td><td>repliedBy</td></tr><tr><td>DemonTwoSix</td><td>DemonTwoSix</td><td>repliedBy</td></tr><tr><td>DemonTwoSix</td><td>gaylordsunandshield</td><td>repliedBy</td></tr><tr><td>Deebz</td><td>DemonTwoSix</td><td>repliedBy</td></tr><tr><td>Deebz</td><td>valinor</td><td>repliedBy</td></tr><tr><td>Deebz</td><td>DemonTwoSix</td><td>repliedBy</td></tr><tr><td>Deebz</td><td>gaylordsunandshield</td><td>repliedBy</td></tr><tr><td>Chrishelms</td><td>LOVEUS</td><td>repliedBy</td></tr><tr><td>Chrishelms</td><td>Chrishelms</td><td>repliedBy</td></tr><tr><td>Chrishelms</td><td>LOVEUS</td><td>repliedBy</td></tr><tr><td>Chrishelms</td><td>ChristiJunior</td><td>repliedBy</td></tr><tr><td>DemonTwoSix</td><td>valinor</td><td>repliedBy</td></tr><tr><td>DemonTwoSix</td><td>DemonTwoSix</td><td>repliedBy</td></tr><tr><td>DemonTwoSix</td><td>gaylordsunandshield</td><td>repliedBy</td></tr><tr><td>cvilatam</td><td>DemonTwoSix</td><td>repliedBy</td></tr><tr><td>cvilatam</td><td>cvilatam</td><td>repliedBy</td></tr><tr><td>cvilatam</td><td>DemonTwoSix</td><td>repliedBy</td></tr><tr><td>cvilatam</td><td>wrath0fkhan</td><td>repliedBy</td></tr><tr><td>valinor</td><td>DemonTwoSix</td><td>repliedBy</td></tr><tr><td>valinor</td><td>gaylordsunandshield</td><td>repliedBy</td></tr><tr><td>Real_John_Wayne</td><td>ILANAMERCER</td><td>repliedBy</td></tr><tr><td>jenninthewest</td><td>Escoffier</td><td>repliedBy</td></tr><tr><td>jenninthewest</td><td>jenninthewest</td><td>repliedBy</td></tr><tr><td>jenninthewest</td><td>Escoffier</td><td>repliedBy</td></tr><tr><td>jenninthewest</td><td>jenninthewest</td><td>repliedBy</td></tr><tr><td>allovertheplace</td><td>PhilipSchuyler</td><td>repliedBy</td></tr><tr><td>DemonTwoSix</td><td>cvilatam</td><td>repliedBy</td></tr><tr><td>DemonTwoSix</td><td>DemonTwoSix</td><td>repliedBy</td></tr><tr><td>DemonTwoSix</td><td>wrath0fkhan</td><td>repliedBy</td></tr><tr><td>JudiLake</td><td>2AFreedom</td><td>repliedBy</td></tr><tr><td>CareBearz</td><td>NoGlobalistSlave</td><td>repliedBy</td></tr><tr><td>jenninthewest</td><td>Escoffier</td><td>repliedBy</td></tr><tr><td>jenninthewest</td><td>jenninthewest</td><td>repliedBy</td></tr><tr><td>ThePolitiGamer</td><td>TheRomanticRealist</td><td>repliedBy</td></tr><tr><td>ThePolitiGamer</td><td>ThePolitiGamer</td><td>repliedBy</td></tr><tr><td>ThePolitiGamer</td><td>TheRomanticRealist</td><td>repliedBy</td></tr><tr><td>ThePolitiGamer</td><td>ThePolitiGamer</td><td>repliedBy</td></tr><tr><td>TempusThales</td><td>SrsTwist</td><td>repliedBy</td></tr><tr><td>ThePolitiGamer</td><td>TheRomanticRealist</td><td>repliedBy</td></tr><tr><td>ThePolitiGamer</td><td>ThePolitiGamer</td><td>repliedBy</td></tr><tr><td>ThePolitiGamer</td><td>TheRomanticRealist</td><td>repliedBy</td></tr><tr><td>ThePolitiGamer</td><td>ThePolitiGamer</td><td>repliedBy</td></tr><tr><td>doulbtingblake</td><td>PhilipSchuyler</td><td>repliedBy</td></tr><tr><td>budop69</td><td>DemonTwoSix</td><td>repliedBy</td></tr><tr><td>budop69</td><td>wrath0fkhan</td><td>repliedBy</td></tr><tr><td>LegendaryCollektor</td><td>worldwideweirdnews</td><td>repliedBy</td></tr><tr><td>im3421</td><td>SurvivorMed</td><td>repliedBy</td></tr><tr><td>im3421</td><td>Patriot_Games</td><td>repliedBy</td></tr><tr><td>im3421</td><td>SurvivorMed</td><td>repliedBy</td></tr><tr><td>CycloneBee</td><td>Bombislamdotcom</td><td>repliedBy</td></tr><tr><td>HEISNOWHERE</td><td>SurvivorMed</td><td>repliedBy</td></tr><tr><td>DemonTwoSix</td><td>wrath0fkhan</td><td>repliedBy</td></tr><tr><td>LegendaryCollektor</td><td>The_Outsider</td><td>repliedBy</td></tr><tr><td>ProfPlum</td><td>Cyph</td><td>repliedBy</td></tr><tr><td>ProfPlum</td><td>Bangoob</td><td>repliedBy</td></tr><tr><td>ProfPlum</td><td>Bangoob</td><td>repliedBy</td></tr><tr><td>DonLegaracci</td><td>LegendaryCollektor</td><td>repliedBy</td></tr><tr><td>DonLegaracci</td><td>worldwideweirdnews</td><td>repliedBy</td></tr><tr><td>Razorback247</td><td>Bilzingslebensmann</td><td>repliedBy</td></tr><tr><td>Razorback247</td><td>TienLeung</td><td>repliedBy</td></tr><tr><td>toddwieland</td><td>causticbob</td><td>repliedBy</td></tr><tr><td>sinister_midget</td><td>BitChute</td><td>repliedBy</td></tr><tr><td>FedraFarmer</td><td>strangemans</td><td>repliedBy</td></tr><tr><td>Real_John_Wayne</td><td>SurvivorMed</td><td>repliedBy</td></tr><tr><td>Real_John_Wayne</td><td>Patriot_Games</td><td>repliedBy</td></tr><tr><td>Real_John_Wayne</td><td>SurvivorMed</td><td>repliedBy</td></tr><tr><td>ThePolitiGamer</td><td>TheRomanticRealist</td><td>repliedBy</td></tr><tr><td>ThePolitiGamer</td><td>ThePolitiGamer</td><td>repliedBy</td></tr><tr><td>bbeeaann</td><td>TimAdams1</td><td>repliedBy</td></tr><tr><td>bbeeaann</td><td>bbeeaann</td><td>repliedBy</td></tr><tr><td>FrankDeSilva</td><td>CarolynEmerick</td><td>repliedBy</td></tr><tr><td>Merrymary</td><td>Nightmouse</td><td>repliedBy</td></tr><tr><td>CryptoMadeMan</td><td>HuHenHarr</td><td>repliedBy</td></tr><tr><td>CryptoMadeMan</td><td>CryptoMadeMan</td><td>repliedBy</td></tr><tr><td>CryptoMadeMan</td><td>HuHenHarr</td><td>repliedBy</td></tr><tr><td>CryptoMadeMan</td><td>CryptoMadeMan</td><td>repliedBy</td></tr><tr><td>Prodigal</td><td>Bangoob</td><td>repliedBy</td></tr><tr><td>Merrymary</td><td>bitchingood</td><td>repliedBy</td></tr><tr><td>WhiteMansBible</td><td>Real_John_Wayne</td><td>repliedBy</td></tr><tr><td>WhiteMansBible</td><td>Wifewithapurpose</td><td>repliedBy</td></tr><tr><td>Cyph</td><td>Bangoob</td><td>repliedBy</td></tr><tr><td>Cyph</td><td>Bangoob</td><td>repliedBy</td></tr><tr><td>Cyph</td><td>Cyph</td><td>repliedBy</td></tr><tr><td>Cyph</td><td>Bangoob</td><td>repliedBy</td></tr><tr><td>Cyph</td><td>Bangoob</td><td>repliedBy</td></tr><tr><td>FoxGibsonAgain</td><td>NativeCal4Trump</td><td>repliedBy</td></tr><tr><td>Patriot2262</td><td>bitchingood</td><td>repliedBy</td></tr><tr><td>Cyph</td><td>Bangoob</td><td>repliedBy</td></tr><tr><td>Cyph</td><td>Bangoob</td><td>repliedBy</td></tr><tr><td>Mbarris01</td><td>HuHenHarr</td><td>repliedBy</td></tr><tr><td>Mbarris01</td><td>Mbarris01</td><td>repliedBy</td></tr><tr><td>Mbarris01</td><td>HuHenHarr</td><td>repliedBy</td></tr><tr><td>Mbarris01</td><td>Mbarris01</td><td>repliedBy</td></tr><tr><td>FoxGibsonAgain</td><td>MartyGraw</td><td>repliedBy</td></tr><tr><td>cedarnsage</td><td>ChristiJunior</td><td>repliedBy</td></tr><tr><td>Gerryattric</td><td>Lockerius</td><td>repliedBy</td></tr><tr><td>Gerryattric</td><td>Gerryattric</td><td>repliedBy</td></tr><tr><td>Gerryattric</td><td>Lockerius</td><td>repliedBy</td></tr><tr><td>Gerryattric</td><td>EdwardKyle</td><td>repliedBy</td></tr><tr><td>Gerryattric</td><td>Southsider1</td><td>repliedBy</td></tr><tr><td>FoxGibsonAgain</td><td>USairborne</td><td>repliedBy</td></tr><tr><td>Annie53annette</td><td>NoGlobalistSlave</td><td>repliedBy</td></tr><tr><td>CryptoMadeMan</td><td>Rad-er-Cad</td><td>repliedBy</td></tr><tr><td>CryptoMadeMan</td><td>CryptoMadeMan</td><td>repliedBy</td></tr><tr><td>CryptoMadeMan</td><td>HuHenHarr</td><td>repliedBy</td></tr><tr><td>CryptoMadeMan</td><td>CryptoMadeMan</td><td>repliedBy</td></tr><tr><td>FoxGibsonAgain</td><td>wolfenii</td><td>repliedBy</td></tr><tr><td>RachelBartlett</td><td>blkdiamond97</td><td>repliedBy</td></tr><tr><td>st3v3n</td><td>AlreadyGone</td><td>repliedBy</td></tr><tr><td>FoxGibsonAgain</td><td>USairborne</td><td>repliedBy</td></tr><tr><td>leamorabito</td><td>BlueGood</td><td>repliedBy</td></tr><tr><td>TempusThales</td><td>desperados</td><td>repliedBy</td></tr><tr><td>Jami_USA</td><td>1PsychoticMotherfuck</td><td>repliedBy</td></tr><tr><td>Jami_USA</td><td>Jami_USA</td><td>repliedBy</td></tr><tr><td>Donnalea1</td><td>USairborne</td><td>repliedBy</td></tr><tr><td>TheRealMontes</td><td>worldwideweirdnews</td><td>repliedBy</td></tr><tr><td>KgdlBrown97</td><td>OTP-USA</td><td>repliedBy</td></tr><tr><td>WolverineTongue</td><td>TPaine2016</td><td>repliedBy</td></tr><tr><td>WolverineTongue</td><td>WolverineTongue</td><td>repliedBy</td></tr><tr><td>Violetfire</td><td>seekandfind</td><td>repliedBy</td></tr><tr><td>Violetfire</td><td>Violetfire</td><td>repliedBy</td></tr><tr><td>Patriot2262</td><td>FredricAnton</td><td>repliedBy</td></tr><tr><td>Moonbasking</td><td>RealTrumpTweets</td><td>repliedBy</td></tr><tr><td>WolverineTongue</td><td>DebFul19</td><td>repliedBy</td></tr><tr><td>WolverineTongue</td><td>WolverineTongue</td><td>repliedBy</td></tr><tr><td>WolverineTongue</td><td>DebFul19</td><td>repliedBy</td></tr><tr><td>WolverineTongue</td><td>WolverineTongue</td><td>repliedBy</td></tr><tr><td>anarchafem</td><td>Conansdog</td><td>repliedBy</td></tr><tr><td>anarchafem</td><td>anarchafem</td><td>repliedBy</td></tr><tr><td>anarchafem</td><td>Conansdog</td><td>repliedBy</td></tr><tr><td>anarchafem</td><td>anarchafem</td><td>repliedBy</td></tr><tr><td>anarchafem</td><td>Conansdog</td><td>repliedBy</td></tr><tr><td>anarchafem</td><td>anarchafem</td><td>repliedBy</td></tr><tr><td>anarchafem</td><td>Conansdog</td><td>repliedBy</td></tr><tr><td>anarchafem</td><td>anarchafem</td><td>repliedBy</td></tr><tr><td>anarchafem</td><td>Conansdog</td><td>repliedBy</td></tr><tr><td>anarchafem</td><td>anarchafem</td><td>repliedBy</td></tr><tr><td>Moonbasking</td><td>Broken77</td><td>repliedBy</td></tr><tr><td>Moonbasking</td><td>22TCM</td><td>repliedBy</td></tr><tr><td>Mbarris01</td><td>DemonTwoSix</td><td>repliedBy</td></tr><tr><td>Mbarris01</td><td>Mbarris01</td><td>repliedBy</td></tr><tr><td>leamorabito</td><td>WarAtTheZoo</td><td>repliedBy</td></tr><tr><td>Mbarris01</td><td>HuHenHarr</td><td>repliedBy</td></tr><tr><td>Mbarris01</td><td>Mbarris01</td><td>repliedBy</td></tr><tr><td>WolverineTongue</td><td>DebFul19</td><td>repliedBy</td></tr><tr><td>WolverineTongue</td><td>WolverineTongue</td><td>repliedBy</td></tr><tr><td>Pholcidae</td><td>dave1163sag</td><td>repliedBy</td></tr><tr><td>FoolOnTheHill</td><td>realDonadlTrump</td><td>repliedBy</td></tr><tr><td>FoolOnTheHill</td><td>FoolOnTheHill</td><td>repliedBy</td></tr><tr><td>FoolOnTheHill</td><td>22TCM</td><td>repliedBy</td></tr><tr><td>WolverineTongue</td><td>DebFul19</td><td>repliedBy</td></tr><tr><td>WolverineTongue</td><td>WolverineTongue</td><td>repliedBy</td></tr><tr><td>seamrog</td><td>NiggerologistPhD</td><td>repliedBy</td></tr><tr><td>seamrog</td><td>seamrog</td><td>repliedBy</td></tr><tr><td>seamrog</td><td>NativeCal4Trump</td><td>repliedBy</td></tr><tr><td>seamrog</td><td>haremesc</td><td>repliedBy</td></tr><tr><td>seamrog</td><td>NativeCal4Trump</td><td>repliedBy</td></tr><tr><td>NiggerologistPhD</td><td>seamrog</td><td>repliedBy</td></tr><tr><td>NiggerologistPhD</td><td>NativeCal4Trump</td><td>repliedBy</td></tr><tr><td>NiggerologistPhD</td><td>haremesc</td><td>repliedBy</td></tr><tr><td>NiggerologistPhD</td><td>NativeCal4Trump</td><td>repliedBy</td></tr><tr><td>EmilyAnderson</td><td>WarAtTheZoo</td><td>repliedBy</td></tr><tr><td>Mbarris01</td><td>PuppetStringNews</td><td>repliedBy</td></tr><tr><td>alternative_right</td><td>USMC-DevilDog</td><td>repliedBy</td></tr><tr><td>PantsFreeZone</td><td>worldwideweirdnews</td><td>repliedBy</td></tr><tr><td>Bilzingslebensmann</td><td>TienLeung</td><td>repliedBy</td></tr><tr><td>meowski</td><td>Birdy</td><td>repliedBy</td></tr><tr><td>meowski</td><td>meowski</td><td>repliedBy</td></tr><tr><td>meowski</td><td>Birdy</td><td>repliedBy</td></tr><tr><td>meowski</td><td>meowski</td><td>repliedBy</td></tr><tr><td>meowski</td><td>Birdy</td><td>repliedBy</td></tr><tr><td>meowski</td><td>meowski</td><td>repliedBy</td></tr><tr><td>meowski</td><td>Birdy</td><td>repliedBy</td></tr><tr><td>meowski</td><td>meowski</td><td>repliedBy</td></tr><tr><td>meowski</td><td>Birdy</td><td>repliedBy</td></tr><tr><td>meowski</td><td>Wifewithapurpose</td><td>repliedBy</td></tr><tr><td>meowski</td><td>Birdy</td><td>repliedBy</td></tr><tr><td>meowski</td><td>Wifewithapurpose</td><td>repliedBy</td></tr><tr><td>Deplorable_Satoshi</td><td>DireWolf1488</td><td>repliedBy</td></tr><tr><td>FoolOnTheHill</td><td>NativeCal4Trump</td><td>repliedBy</td></tr><tr><td>seamrog</td><td>NativeCal4Trump</td><td>repliedBy</td></tr><tr><td>seamrog</td><td>haremesc</td><td>repliedBy</td></tr><tr><td>seamrog</td><td>NativeCal4Trump</td><td>repliedBy</td></tr><tr><td>LSherwood</td><td>genophilia</td><td>repliedBy</td></tr><tr><td>anarchafem</td><td>Conansdog</td><td>repliedBy</td></tr><tr><td>anarchafem</td><td>anarchafem</td><td>repliedBy</td></tr><tr><td>anarchafem</td><td>Conansdog</td><td>repliedBy</td></tr><tr><td>anarchafem</td><td>anarchafem</td><td>repliedBy</td></tr><tr><td>anarchafem</td><td>Conansdog</td><td>repliedBy</td></tr><tr><td>anarchafem</td><td>anarchafem</td><td>repliedBy</td></tr><tr><td>anarchafem</td><td>Conansdog</td><td>repliedBy</td></tr><tr><td>anarchafem</td><td>anarchafem</td><td>repliedBy</td></tr><tr><td>Shepherd</td><td>GodsTruthWar</td><td>repliedBy</td></tr><tr><td>Seasoned</td><td>22TCM</td><td>repliedBy</td></tr><tr><td>PA_01</td><td>CarolynEmerick</td><td>repliedBy</td></tr><tr><td>Shepherd</td><td>NativeCal4Trump</td><td>repliedBy</td></tr><tr><td>FoolOnTheHill</td><td>MartyGraw</td><td>repliedBy</td></tr><tr><td>NiggerologistPhD</td><td>BeingLorrie</td><td>repliedBy</td></tr><tr><td>grandpalampshade</td><td>StreetSweeper</td><td>repliedBy</td></tr><tr><td>anarchafem</td><td>Conansdog</td><td>repliedBy</td></tr><tr><td>anarchafem</td><td>anarchafem</td><td>repliedBy</td></tr><tr><td>anarchafem</td><td>Conansdog</td><td>repliedBy</td></tr><tr><td>anarchafem</td><td>anarchafem</td><td>repliedBy</td></tr><tr><td>anarchafem</td><td>Conansdog</td><td>repliedBy</td></tr><tr><td>anarchafem</td><td>anarchafem</td><td>repliedBy</td></tr><tr><td>FoolOnTheHill</td><td>ChristiJunior</td><td>repliedBy</td></tr><tr><td>HEISNOWHERE</td><td>TaLoNxNL</td><td>repliedBy</td></tr><tr><td>FoolOnTheHill</td><td>22TCM</td><td>repliedBy</td></tr><tr><td>Chrishelms</td><td>LOVEUS</td><td>repliedBy</td></tr><tr><td>Chrishelms</td><td>ChristiJunior</td><td>repliedBy</td></tr><tr><td>anarchafem</td><td>Conansdog</td><td>repliedBy</td></tr><tr><td>anarchafem</td><td>anarchafem</td><td>repliedBy</td></tr><tr><td>anarchafem</td><td>Conansdog</td><td>repliedBy</td></tr><tr><td>anarchafem</td><td>anarchafem</td><td>repliedBy</td></tr><tr><td>LadyMarianne</td><td>WildWelshWoman</td><td>repliedBy</td></tr><tr><td>Shepherd</td><td>cbdfan</td><td>repliedBy</td></tr><tr><td>RAMGOOSE</td><td>Bombislamdotcom</td><td>repliedBy</td></tr><tr><td>DemonTwoSix</td><td>SurvivorMed</td><td>repliedBy</td></tr><tr><td>Birdy</td><td>meowski</td><td>repliedBy</td></tr><tr><td>Birdy</td><td>Birdy</td><td>repliedBy</td></tr><tr><td>Birdy</td><td>meowski</td><td>repliedBy</td></tr><tr><td>Birdy</td><td>Birdy</td><td>repliedBy</td></tr><tr><td>Birdy</td><td>meowski</td><td>repliedBy</td></tr><tr><td>Birdy</td><td>Birdy</td><td>repliedBy</td></tr><tr><td>Birdy</td><td>meowski</td><td>repliedBy</td></tr><tr><td>Birdy</td><td>Birdy</td><td>repliedBy</td></tr><tr><td>Birdy</td><td>Wifewithapurpose</td><td>repliedBy</td></tr><tr><td>Birdy</td><td>Birdy</td><td>repliedBy</td></tr><tr><td>Birdy</td><td>Wifewithapurpose</td><td>repliedBy</td></tr><tr><td>Bilzingslebensmann</td><td>Final-Red-Pill-Revolution</td><td>repliedBy</td></tr><tr><td>Bilzingslebensmann</td><td>Raze</td><td>repliedBy</td></tr><tr><td>Ivan_Ivanovich</td><td>Rebelin2deep</td><td>repliedBy</td></tr><tr><td>DaddyCrabCakes</td><td>SurvivorMed</td><td>repliedBy</td></tr><tr><td>DG10</td><td>WildWelshWoman</td><td>repliedBy</td></tr><tr><td>Fashed-N-Furious</td><td>DeplorableNurse</td><td>repliedBy</td></tr><tr><td>The_Outsider</td><td>Birdy</td><td>repliedBy</td></tr><tr><td>The_Outsider</td><td>The_Outsider</td><td>repliedBy</td></tr><tr><td>The_Outsider</td><td>Birdy</td><td>repliedBy</td></tr><tr><td>The_Outsider</td><td>The_Outsider</td><td>repliedBy</td></tr><tr><td>The_Outsider</td><td>Birdy</td><td>repliedBy</td></tr><tr><td>The_Outsider</td><td>Wifewithapurpose</td><td>repliedBy</td></tr><tr><td>The_Outsider</td><td>Birdy</td><td>repliedBy</td></tr><tr><td>The_Outsider</td><td>Wifewithapurpose</td><td>repliedBy</td></tr><tr><td>lkusa</td><td>janiec</td><td>repliedBy</td></tr><tr><td>meowski</td><td>Birdy</td><td>repliedBy</td></tr><tr><td>meowski</td><td>meowski</td><td>repliedBy</td></tr><tr><td>meowski</td><td>Birdy</td><td>repliedBy</td></tr><tr><td>meowski</td><td>meowski</td><td>repliedBy</td></tr><tr><td>meowski</td><td>Birdy</td><td>repliedBy</td></tr><tr><td>meowski</td><td>meowski</td><td>repliedBy</td></tr><tr><td>meowski</td><td>Birdy</td><td>repliedBy</td></tr><tr><td>meowski</td><td>Wifewithapurpose</td><td>repliedBy</td></tr><tr><td>meowski</td><td>Birdy</td><td>repliedBy</td></tr><tr><td>meowski</td><td>Wifewithapurpose</td><td>repliedBy</td></tr><tr><td>TimeToPayTheTab</td><td>Zwhiz</td><td>repliedBy</td></tr><tr><td>TimeToPayTheTab</td><td>TheFullMonte</td><td>repliedBy</td></tr><tr><td>TimeToPayTheTab</td><td>kgrace</td><td>repliedBy</td></tr><tr><td>UnCL3</td><td>Spahnranch1969</td><td>repliedBy</td></tr><tr><td>UnCL3</td><td>phoenixTPR</td><td>repliedBy</td></tr><tr><td>Bilzingslebensmann</td><td>Spahnranch1969</td><td>repliedBy</td></tr><tr><td>Bilzingslebensmann</td><td>phoenixTPR</td><td>repliedBy</td></tr><tr><td>CycloneBee</td><td>Newparadigm1</td><td>repliedBy</td></tr><tr><td>CycloneBee</td><td>CycloneBee</td><td>repliedBy</td></tr><tr><td>CycloneBee</td><td>Newparadigm1</td><td>repliedBy</td></tr><tr><td>ConniptionQueen</td><td>Raze</td><td>repliedBy</td></tr><tr><td>Birdy</td><td>meowski</td><td>repliedBy</td></tr><tr><td>Birdy</td><td>Birdy</td><td>repliedBy</td></tr><tr><td>Birdy</td><td>meowski</td><td>repliedBy</td></tr><tr><td>Birdy</td><td>Birdy</td><td>repliedBy</td></tr><tr><td>Birdy</td><td>meowski</td><td>repliedBy</td></tr><tr><td>Birdy</td><td>Birdy</td><td>repliedBy</td></tr><tr><td>Birdy</td><td>Wifewithapurpose</td><td>repliedBy</td></tr><tr><td>Birdy</td><td>Birdy</td><td>repliedBy</td></tr><tr><td>Birdy</td><td>Wifewithapurpose</td><td>repliedBy</td></tr><tr><td>BoaPeep</td><td>cbdfan</td><td>repliedBy</td></tr><tr><td>DemonTwoSix</td><td>Mbarris01</td><td>repliedBy</td></tr><tr><td>Birdy</td><td>The_Outsider</td><td>repliedBy</td></tr><tr><td>Birdy</td><td>Birdy</td><td>repliedBy</td></tr><tr><td>Birdy</td><td>The_Outsider</td><td>repliedBy</td></tr><tr><td>Birdy</td><td>Birdy</td><td>repliedBy</td></tr><tr><td>Birdy</td><td>Wifewithapurpose</td><td>repliedBy</td></tr><tr><td>Birdy</td><td>Birdy</td><td>repliedBy</td></tr><tr><td>Birdy</td><td>Wifewithapurpose</td><td>repliedBy</td></tr><tr><td>welshdragon</td><td>WildWelshWoman</td><td>repliedBy</td></tr><tr><td>TimeToPayTheTab</td><td>kgrace</td><td>repliedBy</td></tr><tr><td>meowski</td><td>Birdy</td><td>repliedBy</td></tr><tr><td>meowski</td><td>meowski</td><td>repliedBy</td></tr><tr><td>meowski</td><td>Birdy</td><td>repliedBy</td></tr><tr><td>meowski</td><td>meowski</td><td>repliedBy</td></tr><tr><td>meowski</td><td>Birdy</td><td>repliedBy</td></tr><tr><td>meowski</td><td>Wifewithapurpose</td><td>repliedBy</td></tr><tr><td>meowski</td><td>Birdy</td><td>repliedBy</td></tr><tr><td>meowski</td><td>Wifewithapurpose</td><td>repliedBy</td></tr><tr><td>Real_John_Wayne</td><td>Wifewithapurpose</td><td>repliedBy</td></tr><tr><td>anarchafem</td><td>Conansdog</td><td>repliedBy</td></tr><tr><td>anarchafem</td><td>anarchafem</td><td>repliedBy</td></tr><tr><td>Mbarris01</td><td>PhilipSchuyler</td><td>repliedBy</td></tr><tr><td>DemonTwoSix</td><td>JucheTony</td><td>repliedBy</td></tr><tr><td>DemonTwoSix</td><td>DemonTwoSix</td><td>repliedBy</td></tr><tr><td>DemonTwoSix</td><td>RockyBasterd</td><td>repliedBy</td></tr><tr><td>DemonTwoSix</td><td>KimJong-un</td><td>repliedBy</td></tr><tr><td>DemonTwoSix</td><td>Grimslud</td><td>repliedBy</td></tr><tr><td>DemonTwoSix</td><td>KimJong-un</td><td>repliedBy</td></tr><tr><td>DemonTwoSix</td><td>TomKawczynski</td><td>repliedBy</td></tr><tr><td>DemonTwoSix</td><td>TomKawczynski</td><td>repliedBy</td></tr><tr><td>Birdy</td><td>meowski</td><td>repliedBy</td></tr><tr><td>Birdy</td><td>Birdy</td><td>repliedBy</td></tr><tr><td>Birdy</td><td>meowski</td><td>repliedBy</td></tr><tr><td>Birdy</td><td>Birdy</td><td>repliedBy</td></tr><tr><td>Birdy</td><td>Wifewithapurpose</td><td>repliedBy</td></tr><tr><td>Birdy</td><td>Birdy</td><td>repliedBy</td></tr><tr><td>Birdy</td><td>Wifewithapurpose</td><td>repliedBy</td></tr><tr><td>ReactionaryCat</td><td>Kathyd51</td><td>repliedBy</td></tr><tr><td>ReactionaryCat</td><td>GuardAmerican</td><td>repliedBy</td></tr><tr><td>ReactionaryCat</td><td>Kathyd51</td><td>repliedBy</td></tr><tr><td>ReactionaryCat</td><td>GuardAmerican</td><td>repliedBy</td></tr><tr><td>leamorabito</td><td>MDB50</td><td>repliedBy</td></tr><tr><td>leamorabito</td><td>TheFireRises</td><td>repliedBy</td></tr><tr><td>The_Outsider</td><td>LadyMarmelade</td><td>repliedBy</td></tr><tr><td>The_Outsider</td><td>The_Outsider</td><td>repliedBy</td></tr><tr><td>The_Outsider</td><td>LadyMarmelade</td><td>repliedBy</td></tr><tr><td>The_Outsider</td><td>The_Outsider</td><td>repliedBy</td></tr><tr><td>The_Outsider</td><td>LadyMarmelade</td><td>repliedBy</td></tr><tr><td>The_Outsider</td><td>Wifewithapurpose</td><td>repliedBy</td></tr><tr><td>The_Outsider</td><td>Birdy</td><td>repliedBy</td></tr><tr><td>The_Outsider</td><td>Wifewithapurpose</td><td>repliedBy</td></tr><tr><td>The_Outsider</td><td>Birdy</td><td>repliedBy</td></tr><tr><td>The_Outsider</td><td>Wifewithapurpose</td><td>repliedBy</td></tr><tr><td>Birdy</td><td>CowboyRanger</td><td>repliedBy</td></tr><tr><td>Birdy</td><td>Wifewithapurpose</td><td>repliedBy</td></tr><tr><td>Birdy</td><td>Birdy</td><td>repliedBy</td></tr><tr><td>Birdy</td><td>Wifewithapurpose</td><td>repliedBy</td></tr><tr><td>Birdy</td><td>Birdy</td><td>repliedBy</td></tr><tr><td>Birdy</td><td>Wifewithapurpose</td><td>repliedBy</td></tr><tr><td>WonderfullyDeplorable</td><td>janiec</td><td>repliedBy</td></tr><tr><td>GuardAmerican</td><td>BeatrixOsier</td><td>repliedBy</td></tr><tr><td>GuardAmerican</td><td>GuardAmerican</td><td>repliedBy</td></tr><tr><td>WhiteMansBible</td><td>PNN</td><td>repliedBy</td></tr><tr><td>The_Outsider</td><td>LadyMarmelade</td><td>repliedBy</td></tr><tr><td>The_Outsider</td><td>The_Outsider</td><td>repliedBy</td></tr><tr><td>The_Outsider</td><td>LadyMarmelade</td><td>repliedBy</td></tr><tr><td>The_Outsider</td><td>Wifewithapurpose</td><td>repliedBy</td></tr><tr><td>The_Outsider</td><td>Birdy</td><td>repliedBy</td></tr><tr><td>The_Outsider</td><td>Wifewithapurpose</td><td>repliedBy</td></tr><tr><td>The_Outsider</td><td>Birdy</td><td>repliedBy</td></tr><tr><td>The_Outsider</td><td>Wifewithapurpose</td><td>repliedBy</td></tr><tr><td>leamorabito</td><td>Sidephase</td><td>repliedBy</td></tr><tr><td>OpenTheDoor</td><td>GuardAmerican</td><td>repliedBy</td></tr><tr><td>OpenTheDoor</td><td>GuardAmerican</td><td>repliedBy</td></tr><tr><td>meowski</td><td>Birdy</td><td>repliedBy</td></tr><tr><td>meowski</td><td>meowski</td><td>repliedBy</td></tr><tr><td>meowski</td><td>Birdy</td><td>repliedBy</td></tr><tr><td>meowski</td><td>Wifewithapurpose</td><td>repliedBy</td></tr><tr><td>meowski</td><td>Birdy</td><td>repliedBy</td></tr><tr><td>meowski</td><td>Wifewithapurpose</td><td>repliedBy</td></tr><tr><td>meowski</td><td>Birdy</td><td>repliedBy</td></tr><tr><td>meowski</td><td>meowski</td><td>repliedBy</td></tr><tr><td>meowski</td><td>Birdy</td><td>repliedBy</td></tr><tr><td>meowski</td><td>Wifewithapurpose</td><td>repliedBy</td></tr><tr><td>meowski</td><td>Birdy</td><td>repliedBy</td></tr><tr><td>meowski</td><td>Wifewithapurpose</td><td>repliedBy</td></tr><tr><td>LSherwood</td><td>mdoerner1</td><td>repliedBy</td></tr><tr><td>The_Outsider</td><td>LadyMarmelade</td><td>repliedBy</td></tr><tr><td>The_Outsider</td><td>Wifewithapurpose</td><td>repliedBy</td></tr><tr><td>The_Outsider</td><td>Birdy</td><td>repliedBy</td></tr><tr><td>The_Outsider</td><td>Wifewithapurpose</td><td>repliedBy</td></tr><tr><td>The_Outsider</td><td>Birdy</td><td>repliedBy</td></tr><tr><td>The_Outsider</td><td>Wifewithapurpose</td><td>repliedBy</td></tr><tr><td>ROCKintheUSSA</td><td>PhilipSchuyler</td><td>repliedBy</td></tr><tr><td>MDB50</td><td>TheFireRises</td><td>repliedBy</td></tr><tr><td>PaesurBiey</td><td>DKF</td><td>repliedBy</td></tr><tr><td>PaesurBiey</td><td>PaesurBiey</td><td>repliedBy</td></tr><tr><td>leamorabito</td><td>rudedog4q2</td><td>repliedBy</td></tr><tr><td>The_Outsider</td><td>Birdy</td><td>repliedBy</td></tr><tr><td>The_Outsider</td><td>The_Outsider</td><td>repliedBy</td></tr><tr><td>The_Outsider</td><td>Birdy</td><td>repliedBy</td></tr><tr><td>The_Outsider</td><td>Wifewithapurpose</td><td>repliedBy</td></tr><tr><td>The_Outsider</td><td>Birdy</td><td>repliedBy</td></tr><tr><td>The_Outsider</td><td>Wifewithapurpose</td><td>repliedBy</td></tr><tr><td>WolverineTongue</td><td>DKF</td><td>repliedBy</td></tr><tr><td>WolverineTongue</td><td>WolverineTongue</td><td>repliedBy</td></tr><tr><td>OpenTheDoor</td><td>phoenixTPR</td><td>repliedBy</td></tr><tr><td>Bilzingslebensmann</td><td>RaviCrux</td><td>repliedBy</td></tr><tr><td>SteveLove4All</td><td>RDFloyd</td><td>repliedBy</td></tr><tr><td>Birdy</td><td>4thHorseman</td><td>repliedBy</td></tr><tr><td>Birdy</td><td>Birdy</td><td>repliedBy</td></tr><tr><td>Birdy</td><td>Wifewithapurpose</td><td>repliedBy</td></tr><tr><td>Birdy</td><td>Birdy</td><td>repliedBy</td></tr><tr><td>Birdy</td><td>Wifewithapurpose</td><td>repliedBy</td></tr><tr><td>MartyGraw</td><td>RustySpoon</td><td>repliedBy</td></tr><tr><td>MartyGraw</td><td>MartyGraw</td><td>repliedBy</td></tr><tr><td>MartyGraw</td><td>RustySpoon</td><td>repliedBy</td></tr><tr><td>MartyGraw</td><td>MartyGraw</td><td>repliedBy</td></tr><tr><td>MartyGraw</td><td>BudDude6</td><td>repliedBy</td></tr><tr><td>MartyGraw</td><td>MartyGraw</td><td>repliedBy</td></tr><tr><td>MartyGraw</td><td>Luminary</td><td>repliedBy</td></tr><tr><td>MartyGraw</td><td>MartyGraw</td><td>repliedBy</td></tr><tr><td>MartyGraw</td><td>Luminary</td><td>repliedBy</td></tr><tr><td>MartyGraw</td><td>MartyGraw</td><td>repliedBy</td></tr><tr><td>MartyGraw</td><td>Goyim1488</td><td>repliedBy</td></tr><tr><td>MartyGraw</td><td>MartyGraw</td><td>repliedBy</td></tr><tr><td>MartyGraw</td><td>Goyim1488</td><td>repliedBy</td></tr><tr><td>MartyGraw</td><td>MartyGraw</td><td>repliedBy</td></tr><tr><td>MartyGraw</td><td>Goyim1488</td><td>repliedBy</td></tr><tr><td>Birdy</td><td>The_Outsider</td><td>repliedBy</td></tr><tr><td>Birdy</td><td>Birdy</td><td>repliedBy</td></tr><tr><td>Birdy</td><td>Wifewithapurpose</td><td>repliedBy</td></tr><tr><td>Birdy</td><td>Birdy</td><td>repliedBy</td></tr><tr><td>Birdy</td><td>Wifewithapurpose</td><td>repliedBy</td></tr><tr><td>Real_John_Wayne</td><td>SurvivorMed</td><td>repliedBy</td></tr><tr><td>IlI</td><td>HolocaustSurvivalist</td><td>repliedBy</td></tr><tr><td>kenbarber</td><td>RealTrumpTweets</td><td>repliedBy</td></tr><tr><td>PaesurBiey</td><td>chipchip</td><td>repliedBy</td></tr><tr><td>PaesurBiey</td><td>PaesurBiey</td><td>repliedBy</td></tr><tr><td>PaesurBiey</td><td>chipchip</td><td>repliedBy</td></tr><tr><td>PaesurBiey</td><td>PaesurBiey</td><td>repliedBy</td></tr><tr><td>GuardAmerican</td><td>Kathyd51</td><td>repliedBy</td></tr><tr><td>GuardAmerican</td><td>GuardAmerican</td><td>repliedBy</td></tr><tr><td>The_Outsider</td><td>louche</td><td>repliedBy</td></tr><tr><td>The_Outsider</td><td>The_Outsider</td><td>repliedBy</td></tr><tr><td>The_Outsider</td><td>Wifewithapurpose</td><td>repliedBy</td></tr><tr><td>The_Outsider</td><td>Birdy</td><td>repliedBy</td></tr><tr><td>The_Outsider</td><td>Wifewithapurpose</td><td>repliedBy</td></tr><tr><td>The_Outsider</td><td>Birdy</td><td>repliedBy</td></tr><tr><td>The_Outsider</td><td>Wifewithapurpose</td><td>repliedBy</td></tr><tr><td>seamrog</td><td>IndyMark5315</td><td>repliedBy</td></tr><tr><td>GuardAmerican</td><td>Peone</td><td>repliedBy</td></tr><tr><td>GuardAmerican</td><td>GuardAmerican</td><td>repliedBy</td></tr><tr><td>GuardAmerican</td><td>GuardAmerican</td><td>repliedBy</td></tr><tr><td>FrijFryslanNL</td><td>ObamaSucksAnus</td><td>repliedBy</td></tr><tr><td>FrijFryslanNL</td><td>ObamaSucksAnus</td><td>repliedBy</td></tr><tr><td>FrijFryslanNL</td><td>RabbiHighComma</td><td>repliedBy</td></tr><tr><td>FrijFryslanNL</td><td>ObamaSucksAnus</td><td>repliedBy</td></tr><tr><td>WolverineTongue</td><td>seekandfind</td><td>repliedBy</td></tr><tr><td>WolverineTongue</td><td>WolverineTongue</td><td>repliedBy</td></tr><tr><td>NavyVetForTrump</td><td>flashfyre</td><td>repliedBy</td></tr><tr><td>NavyVetForTrump</td><td>NavyVetForTrump</td><td>repliedBy</td></tr><tr><td>WolverineTongue</td><td>FellowTraveler</td><td>repliedBy</td></tr><tr><td>WolverineTongue</td><td>WolverineTongue</td><td>repliedBy</td></tr><tr><td>RienholdO</td><td>wolfenii</td><td>repliedBy</td></tr><tr><td>Merrymary</td><td>HempOilCures</td><td>repliedBy</td></tr><tr><td>SorosOfTheLiver</td><td>Skipjacks</td><td>repliedBy</td></tr><tr><td>SorosOfTheLiver</td><td>rudedog4q2</td><td>repliedBy</td></tr><tr><td>Merrymary</td><td>HempOilCures</td><td>repliedBy</td></tr><tr><td>olddustyghost</td><td>Wifewithapurpose</td><td>repliedBy</td></tr><tr><td>olddustyghost</td><td>Birdy</td><td>repliedBy</td></tr><tr><td>olddustyghost</td><td>Wifewithapurpose</td><td>repliedBy</td></tr><tr><td>olddustyghost</td><td>Birdy</td><td>repliedBy</td></tr><tr><td>olddustyghost</td><td>Wifewithapurpose</td><td>repliedBy</td></tr><tr><td>ArchHighLord</td><td>Alah-is-a-gay-god</td><td>repliedBy</td></tr><tr><td>PaesurBiey</td><td>chipchip</td><td>repliedBy</td></tr><tr><td>PaesurBiey</td><td>PaesurBiey</td><td>repliedBy</td></tr><tr><td>WolverineTongue</td><td>Amos_Amish2</td><td>repliedBy</td></tr><tr><td>WolverineTongue</td><td>WolverineTongue</td><td>repliedBy</td></tr><tr><td>GuardAmerican</td><td>GuardAmerican</td><td>repliedBy</td></tr><tr><td>MyOwnPrivateDomicile</td><td>Kek_Magician</td><td>repliedBy</td></tr><tr><td>WhiteMansBible</td><td>Blondenfun1</td><td>repliedBy</td></tr><tr><td>WhiteMansBible</td><td>WhiteMansBible</td><td>repliedBy</td></tr><tr><td>WhiteMansBible</td><td>Blondenfun1</td><td>repliedBy</td></tr><tr><td>WhiteMansBible</td><td>WhiteMansBible</td><td>repliedBy</td></tr><tr><td>WhiteMansBible</td><td>Blondenfun1</td><td>repliedBy</td></tr><tr><td>WhiteMansBible</td><td>WhiteMansBible</td><td>repliedBy</td></tr><tr><td>WhiteMansBible</td><td>Blondenfun1</td><td>repliedBy</td></tr><tr><td>Brassmonkey3434</td><td>SurvivorMed</td><td>repliedBy</td></tr><tr><td>Merrymary</td><td>12ten48</td><td>repliedBy</td></tr><tr><td>Merrymary</td><td>Merrymary</td><td>repliedBy</td></tr><tr><td>Merrymary</td><td>12ten48</td><td>repliedBy</td></tr><tr><td>Escoffier</td><td>MartyGraw</td><td>repliedBy</td></tr><tr><td>Eye_of_Odin</td><td>bitchingood</td><td>repliedBy</td></tr><tr><td>GuardAmerican</td><td>GuardAmerican</td><td>repliedBy</td></tr><tr><td>RabbiHighComma</td><td>ObamaSucksAnus</td><td>repliedBy</td></tr><tr><td>RachelBartlett</td><td>Racehorse</td><td>repliedBy</td></tr><tr><td>RachelBartlett</td><td>Wifewithapurpose</td><td>repliedBy</td></tr><tr><td>FalconNest</td><td>PhilipSchuyler</td><td>repliedBy</td></tr><tr><td>FuckFBandTwitter</td><td>SurvivorMed</td><td>repliedBy</td></tr><tr><td>Patriot2262</td><td>Shepherd</td><td>repliedBy</td></tr><tr><td>DTOM_EVER</td><td>SurvivorMed</td><td>repliedBy</td></tr><tr><td>WolverineTongue</td><td>PrettyPrinter</td><td>repliedBy</td></tr><tr><td>WolverineTongue</td><td>WolverineTongue</td><td>repliedBy</td></tr><tr><td>WolverineTongue</td><td>RachelBartlett</td><td>repliedBy</td></tr><tr><td>WolverineTongue</td><td>WolverineTongue</td><td>repliedBy</td></tr><tr><td>Caish</td><td>TempusThales</td><td>repliedBy</td></tr><tr><td>BooBreeze</td><td>MartaVonRunge</td><td>repliedBy</td></tr><tr><td>BooBreeze</td><td>BooBreeze</td><td>repliedBy</td></tr><tr><td>BooBreeze</td><td>nhnationalists</td><td>repliedBy</td></tr><tr><td>BooBreeze</td><td>BooBreeze</td><td>repliedBy</td></tr><tr><td>BooBreeze</td><td>nhnationalists</td><td>repliedBy</td></tr><tr><td>BooBreeze</td><td>BooBreeze</td><td>repliedBy</td></tr><tr><td>BooBreeze</td><td>nhnationalists</td><td>repliedBy</td></tr><tr><td>BooBreeze</td><td>BooBreeze</td><td>repliedBy</td></tr><tr><td>thefinn</td><td>nhnationalists</td><td>repliedBy</td></tr><tr><td>thefinn</td><td>BooBreeze</td><td>repliedBy</td></tr><tr><td>thefinn</td><td>nhnationalists</td><td>repliedBy</td></tr><tr><td>thefinn</td><td>BooBreeze</td><td>repliedBy</td></tr><tr><td>BooBreeze</td><td>MartaVonRunge</td><td>repliedBy</td></tr><tr><td>BooBreeze</td><td>BooBreeze</td><td>repliedBy</td></tr><tr><td>BooBreeze</td><td>nhnationalists</td><td>repliedBy</td></tr><tr><td>BooBreeze</td><td>BooBreeze</td><td>repliedBy</td></tr><tr><td>BooBreeze</td><td>nhnationalists</td><td>repliedBy</td></tr><tr><td>BooBreeze</td><td>BooBreeze</td><td>repliedBy</td></tr><tr><td>BooBreeze</td><td>nhnationalists</td><td>repliedBy</td></tr><tr><td>BooBreeze</td><td>BooBreeze</td><td>repliedBy</td></tr><tr><td>RachelBartlett</td><td>ChristiJunior</td><td>repliedBy</td></tr><tr><td>PatriotInfidel</td><td>NathanKing</td><td>repliedBy</td></tr><tr><td>PatriotInfidel</td><td>TruthHurtsNews</td><td>repliedBy</td></tr><tr><td>DonLegaracci</td><td>RachelBartlett</td><td>repliedBy</td></tr><tr><td>DonLegaracci</td><td>WolverineTongue</td><td>repliedBy</td></tr><tr><td>DonLegaracci</td><td>RachelBartlett</td><td>repliedBy</td></tr><tr><td>DonLegaracci</td><td>WolverineTongue</td><td>repliedBy</td></tr><tr><td>HEISNOWHERE</td><td>odysseus94</td><td>repliedBy</td></tr><tr><td>HEISNOWHERE</td><td>HEISNOWHERE</td><td>repliedBy</td></tr><tr><td>HEISNOWHERE</td><td>Brassmonkey3434</td><td>repliedBy</td></tr><tr><td>Teddy_da_Bear</td><td>kgrace</td><td>repliedBy</td></tr><tr><td>Escoffier</td><td>JeremiahCoombs</td><td>repliedBy</td></tr><tr><td>DemonTwoSix</td><td>DimitriNosarev</td><td>repliedBy</td></tr><tr><td>Escoffier</td><td>JeremiahCoombs</td><td>repliedBy</td></tr><tr><td>NativeCal4Trump</td><td>NativeCal4Trump</td><td>repliedBy</td></tr><tr><td>DougMorrison</td><td>shorty</td><td>repliedBy</td></tr><tr><td>DougMorrison</td><td>DougMorrison</td><td>repliedBy</td></tr><tr><td>DougMorrison</td><td>kgrace</td><td>repliedBy</td></tr><tr><td>RachelBartlett</td><td>DimitriNosarev</td><td>repliedBy</td></tr><tr><td>BarabbasMcTaint</td><td>Disspat</td><td>repliedBy</td></tr><tr><td>nubiangod</td><td>JSello</td><td>repliedBy</td></tr><tr><td>anarchafem</td><td>Unenrolled</td><td>repliedBy</td></tr><tr><td>anarchafem</td><td>anarchafem</td><td>repliedBy</td></tr><tr><td>DemonTwoSix</td><td>MDB50</td><td>repliedBy</td></tr><tr><td>DemonTwoSix</td><td>gaylordsunandshield</td><td>repliedBy</td></tr><tr><td>shorty</td><td>DougMorrison</td><td>repliedBy</td></tr><tr><td>shorty</td><td>kgrace</td><td>repliedBy</td></tr><tr><td>HEISNOWHERE</td><td>Brassmonkey3434</td><td>repliedBy</td></tr><tr><td>MDB50</td><td>gaylordsunandshield</td><td>repliedBy</td></tr><tr><td>DemonTwoSix</td><td>leamorabito</td><td>repliedBy</td></tr><tr><td>DemonTwoSix</td><td>DemonTwoSix</td><td>repliedBy</td></tr><tr><td>DemonTwoSix</td><td>leamorabito</td><td>repliedBy</td></tr><tr><td>DemonTwoSix</td><td>DemonTwoSix</td><td>repliedBy</td></tr><tr><td>DemonTwoSix</td><td>RockyBasterd</td><td>repliedBy</td></tr><tr><td>DemonTwoSix</td><td>KimJong-un</td><td>repliedBy</td></tr><tr><td>DemonTwoSix</td><td>Grimslud</td><td>repliedBy</td></tr><tr><td>DemonTwoSix</td><td>KimJong-un</td><td>repliedBy</td></tr><tr><td>DemonTwoSix</td><td>TomKawczynski</td><td>repliedBy</td></tr><tr><td>DemonTwoSix</td><td>TomKawczynski</td><td>repliedBy</td></tr><tr><td>leamorabito</td><td>DTOM_EVER</td><td>repliedBy</td></tr><tr><td>leamorabito</td><td>leamorabito</td><td>repliedBy</td></tr><tr><td>leamorabito</td><td>DemonTwoSix</td><td>repliedBy</td></tr><tr><td>leamorabito</td><td>RockyBasterd</td><td>repliedBy</td></tr><tr><td>leamorabito</td><td>KimJong-un</td><td>repliedBy</td></tr><tr><td>leamorabito</td><td>Grimslud</td><td>repliedBy</td></tr><tr><td>leamorabito</td><td>KimJong-un</td><td>repliedBy</td></tr><tr><td>leamorabito</td><td>TomKawczynski</td><td>repliedBy</td></tr><tr><td>leamorabito</td><td>TomKawczynski</td><td>repliedBy</td></tr><tr><td>Mcarr</td><td>RickyBobbySez</td><td>repliedBy</td></tr><tr><td>leamorabito</td><td>DemonTwoSix</td><td>repliedBy</td></tr><tr><td>leamorabito</td><td>leamorabito</td><td>repliedBy</td></tr><tr><td>leamorabito</td><td>DemonTwoSix</td><td>repliedBy</td></tr><tr><td>leamorabito</td><td>RockyBasterd</td><td>repliedBy</td></tr><tr><td>leamorabito</td><td>KimJong-un</td><td>repliedBy</td></tr><tr><td>leamorabito</td><td>Grimslud</td><td>repliedBy</td></tr><tr><td>leamorabito</td><td>KimJong-un</td><td>repliedBy</td></tr><tr><td>leamorabito</td><td>TomKawczynski</td><td>repliedBy</td></tr><tr><td>leamorabito</td><td>TomKawczynski</td><td>repliedBy</td></tr><tr><td>meowski</td><td>Birdy</td><td>repliedBy</td></tr><tr><td>meowski</td><td>Wifewithapurpose</td><td>repliedBy</td></tr><tr><td>meowski</td><td>Birdy</td><td>repliedBy</td></tr><tr><td>meowski</td><td>Wifewithapurpose</td><td>repliedBy</td></tr><tr><td>BarabbasMcTaint</td><td>MartyGraw</td><td>repliedBy</td></tr><tr><td>DougMorrison</td><td>kgrace</td><td>repliedBy</td></tr><tr><td>nhnationalists</td><td>BooBreeze</td><td>repliedBy</td></tr><tr><td>nhnationalists</td><td>nhnationalists</td><td>repliedBy</td></tr><tr><td>nhnationalists</td><td>BooBreeze</td><td>repliedBy</td></tr><tr><td>nhnationalists</td><td>nhnationalists</td><td>repliedBy</td></tr><tr><td>nhnationalists</td><td>BooBreeze</td><td>repliedBy</td></tr><tr><td>BooBreeze</td><td>nhnationalists</td><td>repliedBy</td></tr><tr><td>BooBreeze</td><td>BooBreeze</td><td>repliedBy</td></tr><tr><td>BooBreeze</td><td>nhnationalists</td><td>repliedBy</td></tr><tr><td>BooBreeze</td><td>BooBreeze</td><td>repliedBy</td></tr><tr><td>BooBreeze</td><td>nhnationalists</td><td>repliedBy</td></tr><tr><td>BooBreeze</td><td>BooBreeze</td><td>repliedBy</td></tr><tr><td>DemonTwoSix</td><td>leamorabito</td><td>repliedBy</td></tr><tr><td>DemonTwoSix</td><td>DemonTwoSix</td><td>repliedBy</td></tr><tr><td>DemonTwoSix</td><td>RockyBasterd</td><td>repliedBy</td></tr><tr><td>DemonTwoSix</td><td>KimJong-un</td><td>repliedBy</td></tr><tr><td>DemonTwoSix</td><td>Grimslud</td><td>repliedBy</td></tr><tr><td>DemonTwoSix</td><td>KimJong-un</td><td>repliedBy</td></tr><tr><td>DemonTwoSix</td><td>TomKawczynski</td><td>repliedBy</td></tr><tr><td>DemonTwoSix</td><td>TomKawczynski</td><td>repliedBy</td></tr><tr><td>ZWY</td><td>JSello</td><td>repliedBy</td></tr><tr><td>ZWY</td><td>JSello</td><td>repliedBy</td></tr><tr><td>DTOM_EVER</td><td>leamorabito</td><td>repliedBy</td></tr><tr><td>DTOM_EVER</td><td>DemonTwoSix</td><td>repliedBy</td></tr><tr><td>DTOM_EVER</td><td>RockyBasterd</td><td>repliedBy</td></tr><tr><td>DTOM_EVER</td><td>KimJong-un</td><td>repliedBy</td></tr><tr><td>DTOM_EVER</td><td>Grimslud</td><td>repliedBy</td></tr><tr><td>DTOM_EVER</td><td>KimJong-un</td><td>repliedBy</td></tr><tr><td>DTOM_EVER</td><td>TomKawczynski</td><td>repliedBy</td></tr><tr><td>DTOM_EVER</td><td>TomKawczynski</td><td>repliedBy</td></tr><tr><td>Skipjacks</td><td>rudedog4q2</td><td>repliedBy</td></tr><tr><td>leamorabito</td><td>DemonTwoSix</td><td>repliedBy</td></tr><tr><td>leamorabito</td><td>RockyBasterd</td><td>repliedBy</td></tr><tr><td>leamorabito</td><td>KimJong-un</td><td>repliedBy</td></tr><tr><td>leamorabito</td><td>Grimslud</td><td>repliedBy</td></tr><tr><td>leamorabito</td><td>KimJong-un</td><td>repliedBy</td></tr><tr><td>leamorabito</td><td>TomKawczynski</td><td>repliedBy</td></tr><tr><td>leamorabito</td><td>TomKawczynski</td><td>repliedBy</td></tr><tr><td>WhiteMansBible</td><td>Blondenfun1</td><td>repliedBy</td></tr><tr><td>WhiteMansBible</td><td>WhiteMansBible</td><td>repliedBy</td></tr><tr><td>WhiteMansBible</td><td>Blondenfun1</td><td>repliedBy</td></tr><tr><td>WhiteMansBible</td><td>WhiteMansBible</td><td>repliedBy</td></tr><tr><td>WhiteMansBible</td><td>Blondenfun1</td><td>repliedBy</td></tr><tr><td>PatriotInfidel</td><td>2AFreedom</td><td>repliedBy</td></tr><tr><td>DemonTwoSix</td><td>RockyBasterd</td><td>repliedBy</td></tr><tr><td>DemonTwoSix</td><td>DemonTwoSix</td><td>repliedBy</td></tr><tr><td>DemonTwoSix</td><td>RockyBasterd</td><td>repliedBy</td></tr><tr><td>DemonTwoSix</td><td>DemonTwoSix</td><td>repliedBy</td></tr><tr><td>DemonTwoSix</td><td>RockyBasterd</td><td>repliedBy</td></tr><tr><td>DemonTwoSix</td><td>KimJong-un</td><td>repliedBy</td></tr><tr><td>DemonTwoSix</td><td>Grimslud</td><td>repliedBy</td></tr><tr><td>DemonTwoSix</td><td>KimJong-un</td><td>repliedBy</td></tr><tr><td>DemonTwoSix</td><td>TomKawczynski</td><td>repliedBy</td></tr><tr><td>DemonTwoSix</td><td>TomKawczynski</td><td>repliedBy</td></tr><tr><td>leamorabito</td><td>Nightmouse</td><td>repliedBy</td></tr><tr><td>PatriotInfidel</td><td>kimcheetwo</td><td>repliedBy</td></tr><tr><td>judgedread</td><td>Wifewithapurpose</td><td>repliedBy</td></tr><tr><td>judgedread</td><td>Birdy</td><td>repliedBy</td></tr><tr><td>judgedread</td><td>Wifewithapurpose</td><td>repliedBy</td></tr><tr><td>judgedread</td><td>Birdy</td><td>repliedBy</td></tr><tr><td>judgedread</td><td>Wifewithapurpose</td><td>repliedBy</td></tr><tr><td>Mcarr</td><td>Final-Red-Pill-Revolution</td><td>repliedBy</td></tr><tr><td>Mcarr</td><td>Raze</td><td>repliedBy</td></tr><tr><td>BarabbasMcTaint</td><td>MartyGraw</td><td>repliedBy</td></tr><tr><td>Moonbasking</td><td>Final-Red-Pill-Revolution</td><td>repliedBy</td></tr><tr><td>Moonbasking</td><td>Moonbasking</td><td>repliedBy</td></tr><tr><td>Moonbasking</td><td>Final-Red-Pill-Revolution</td><td>repliedBy</td></tr><tr><td>Moonbasking</td><td>Raze</td><td>repliedBy</td></tr><tr><td>leamorabito</td><td>DTOM_EVER</td><td>repliedBy</td></tr><tr><td>leamorabito</td><td>americancheese</td><td>repliedBy</td></tr><tr><td>leamorabito</td><td>DTOM_EVER</td><td>repliedBy</td></tr><tr><td>leamorabito</td><td>CarolynEmerick</td><td>repliedBy</td></tr><tr><td>FoxGibsonAgain</td><td>Grumpy_Hoosier</td><td>repliedBy</td></tr><tr><td>easher555</td><td>Number-Six</td><td>repliedBy</td></tr><tr><td>DemonTwoSix</td><td>RockyBasterd</td><td>repliedBy</td></tr><tr><td>DemonTwoSix</td><td>DemonTwoSix</td><td>repliedBy</td></tr><tr><td>DemonTwoSix</td><td>RockyBasterd</td><td>repliedBy</td></tr><tr><td>DemonTwoSix</td><td>KimJong-un</td><td>repliedBy</td></tr><tr><td>DemonTwoSix</td><td>Grimslud</td><td>repliedBy</td></tr><tr><td>DemonTwoSix</td><td>KimJong-un</td><td>repliedBy</td></tr><tr><td>DemonTwoSix</td><td>TomKawczynski</td><td>repliedBy</td></tr><tr><td>DemonTwoSix</td><td>TomKawczynski</td><td>repliedBy</td></tr><tr><td>FoxGibsonAgain</td><td>crow_count</td><td>repliedBy</td></tr><tr><td>FoxGibsonAgain</td><td>FoxGibsonAgain</td><td>repliedBy</td></tr><tr><td>FoxGibsonAgain</td><td>crow_count</td><td>repliedBy</td></tr><tr><td>FoxGibsonAgain</td><td>FoxGibsonAgain</td><td>repliedBy</td></tr><tr><td>FoxGibsonAgain</td><td>crow_count</td><td>repliedBy</td></tr><tr><td>FoxGibsonAgain</td><td>FoxGibsonAgain</td><td>repliedBy</td></tr><tr><td>FoxGibsonAgain</td><td>Southsider1</td><td>repliedBy</td></tr><tr><td>jonsey</td><td>Dindu_Wrangler</td><td>repliedBy</td></tr><tr><td>jonsey</td><td>DeplorableNurse</td><td>repliedBy</td></tr><tr><td>DTOM_EVER</td><td>americancheese</td><td>repliedBy</td></tr><tr><td>DTOM_EVER</td><td>DTOM_EVER</td><td>repliedBy</td></tr><tr><td>DTOM_EVER</td><td>CarolynEmerick</td><td>repliedBy</td></tr><tr><td>Fauxlocaust</td><td>Disspat</td><td>repliedBy</td></tr><tr><td>DemonTwoSix</td><td>RockyBasterd</td><td>repliedBy</td></tr><tr><td>DemonTwoSix</td><td>KimJong-un</td><td>repliedBy</td></tr><tr><td>DemonTwoSix</td><td>Grimslud</td><td>repliedBy</td></tr><tr><td>DemonTwoSix</td><td>KimJong-un</td><td>repliedBy</td></tr><tr><td>DemonTwoSix</td><td>TomKawczynski</td><td>repliedBy</td></tr><tr><td>DemonTwoSix</td><td>TomKawczynski</td><td>repliedBy</td></tr><tr><td>Moonbasking</td><td>HolocaustSurvivalist</td><td>repliedBy</td></tr><tr><td>Jimbo451</td><td>Birdy</td><td>repliedBy</td></tr><tr><td>Jimbo451</td><td>Wifewithapurpose</td><td>repliedBy</td></tr><tr><td>Jimbo451</td><td>Birdy</td><td>repliedBy</td></tr><tr><td>Jimbo451</td><td>Wifewithapurpose</td><td>repliedBy</td></tr><tr><td>FoxGibsonAgain</td><td>crow_count</td><td>repliedBy</td></tr><tr><td>FoxGibsonAgain</td><td>FoxGibsonAgain</td><td>repliedBy</td></tr><tr><td>FoxGibsonAgain</td><td>crow_count</td><td>repliedBy</td></tr><tr><td>FoxGibsonAgain</td><td>FoxGibsonAgain</td><td>repliedBy</td></tr><tr><td>FoxGibsonAgain</td><td>Southsider1</td><td>repliedBy</td></tr><tr><td>Fauxlocaust</td><td>Wifewithapurpose</td><td>repliedBy</td></tr><tr><td>ChadLilly</td><td>BillieJeanmoo</td><td>repliedBy</td></tr><tr><td>ChadLilly</td><td>BethDittmander</td><td>repliedBy</td></tr><tr><td>ChadLilly</td><td>Big_John_Talley</td><td>repliedBy</td></tr><tr><td>BarabbasMcTaint</td><td>kgrace</td><td>repliedBy</td></tr><tr><td>Moonbasking</td><td>Final-Red-Pill-Revolution</td><td>repliedBy</td></tr><tr><td>Moonbasking</td><td>Raze</td><td>repliedBy</td></tr><tr><td>KimJong-un</td><td>Grimslud</td><td>repliedBy</td></tr><tr><td>KimJong-un</td><td>KimJong-un</td><td>repliedBy</td></tr><tr><td>KimJong-un</td><td>TomKawczynski</td><td>repliedBy</td></tr><tr><td>KimJong-un</td><td>TomKawczynski</td><td>repliedBy</td></tr><tr><td>ThemoslemReaper</td><td>FrancisMeyrick</td><td>repliedBy</td></tr><tr><td>Beagsgab</td><td>Jeanfreau</td><td>repliedBy</td></tr><tr><td>Beagsgab</td><td>MyAmericanMorning</td><td>repliedBy</td></tr><tr><td>Fauxlocaust</td><td>TomKawczynski</td><td>repliedBy</td></tr><tr><td>Fauxlocaust</td><td>FriendOfRhodesia</td><td>repliedBy</td></tr><tr><td>Fauxlocaust</td><td>TomKawczynski</td><td>repliedBy</td></tr><tr><td>TriggerNation1</td><td>Disspat</td><td>repliedBy</td></tr><tr><td>Top_Of_The_Food_Chain</td><td>HempOilCures</td><td>repliedBy</td></tr><tr><td>JohnGritt</td><td>Wifewithapurpose</td><td>repliedBy</td></tr><tr><td>Seasoned</td><td>Hettman</td><td>repliedBy</td></tr><tr><td>Seasoned</td><td>Seasoned</td><td>repliedBy</td></tr><tr><td>Seasoned</td><td>Hettman</td><td>repliedBy</td></tr><tr><td>Seasoned</td><td>Seasoned</td><td>repliedBy</td></tr><tr><td>Seasoned</td><td>Hettman</td><td>repliedBy</td></tr><tr><td>Seasoned</td><td>Seasoned</td><td>repliedBy</td></tr><tr><td>Seasoned</td><td>Hettman</td><td>repliedBy</td></tr><tr><td>Seasoned</td><td>Seasoned</td><td>repliedBy</td></tr><tr><td>Seasoned</td><td>Hettman</td><td>repliedBy</td></tr><tr><td>Seasoned</td><td>Seasoned</td><td>repliedBy</td></tr><tr><td>Seasoned</td><td>Hettman</td><td>repliedBy</td></tr><tr><td>Seasoned</td><td>Seasoned</td><td>repliedBy</td></tr><tr><td>Seasoned</td><td>Hettman</td><td>repliedBy</td></tr><tr><td>Seasoned</td><td>Seasoned</td><td>repliedBy</td></tr><tr><td>Seasoned</td><td>TruthWillOut</td><td>repliedBy</td></tr><tr><td>Seasoned</td><td>Hettman</td><td>repliedBy</td></tr><tr><td>Seasoned</td><td>Seasoned</td><td>repliedBy</td></tr><tr><td>Seasoned</td><td>Hettman</td><td>repliedBy</td></tr><tr><td>Seasoned</td><td>Seasoned</td><td>repliedBy</td></tr><tr><td>Seasoned</td><td>Hettman</td><td>repliedBy</td></tr><tr><td>Seasoned</td><td>Seasoned</td><td>repliedBy</td></tr><tr><td>Seasoned</td><td>Hettman</td><td>repliedBy</td></tr><tr><td>Seasoned</td><td>Seasoned</td><td>repliedBy</td></tr><tr><td>Seasoned</td><td>Hettman</td><td>repliedBy</td></tr><tr><td>Seasoned</td><td>Seasoned</td><td>repliedBy</td></tr><tr><td>Seasoned</td><td>TruthWillOut</td><td>repliedBy</td></tr><tr><td>Seasoned</td><td>Hettman</td><td>repliedBy</td></tr><tr><td>Seasoned</td><td>Seasoned</td><td>repliedBy</td></tr><tr><td>Seasoned</td><td>Hettman</td><td>repliedBy</td></tr><tr><td>Seasoned</td><td>Seasoned</td><td>repliedBy</td></tr><tr><td>Seasoned</td><td>Hettman</td><td>repliedBy</td></tr><tr><td>Seasoned</td><td>Seasoned</td><td>repliedBy</td></tr><tr><td>Seasoned</td><td>Hettman</td><td>repliedBy</td></tr><tr><td>Seasoned</td><td>Seasoned</td><td>repliedBy</td></tr><tr><td>Seasoned</td><td>Hettman</td><td>repliedBy</td></tr><tr><td>Seasoned</td><td>Seasoned</td><td>repliedBy</td></tr><tr><td>Seasoned</td><td>Hettman</td><td>repliedBy</td></tr><tr><td>Seasoned</td><td>Seasoned</td><td>repliedBy</td></tr><tr><td>Seasoned</td><td>TruthWillOut</td><td>repliedBy</td></tr><tr><td>Seasoned</td><td>Hettman</td><td>repliedBy</td></tr><tr><td>Seasoned</td><td>Seasoned</td><td>repliedBy</td></tr><tr><td>Seasoned</td><td>Hettman</td><td>repliedBy</td></tr><tr><td>Seasoned</td><td>Seasoned</td><td>repliedBy</td></tr><tr><td>Seasoned</td><td>Hettman</td><td>repliedBy</td></tr><tr><td>Seasoned</td><td>Seasoned</td><td>repliedBy</td></tr><tr><td>Seasoned</td><td>Hettman</td><td>repliedBy</td></tr><tr><td>Seasoned</td><td>Seasoned</td><td>repliedBy</td></tr><tr><td>Seasoned</td><td>TruthWillOut</td><td>repliedBy</td></tr><tr><td>Seasoned</td><td>Hettman</td><td>repliedBy</td></tr><tr><td>Seasoned</td><td>Seasoned</td><td>repliedBy</td></tr><tr><td>Seasoned</td><td>Hettman</td><td>repliedBy</td></tr><tr><td>Seasoned</td><td>Seasoned</td><td>repliedBy</td></tr><tr><td>Seasoned</td><td>Hettman</td><td>repliedBy</td></tr><tr><td>Seasoned</td><td>Seasoned</td><td>repliedBy</td></tr><tr><td>Seasoned</td><td>Hettman</td><td>repliedBy</td></tr><tr><td>Seasoned</td><td>Seasoned</td><td>repliedBy</td></tr><tr><td>Seasoned</td><td>Hettman</td><td>repliedBy</td></tr><tr><td>Seasoned</td><td>Seasoned</td><td>repliedBy</td></tr><tr><td>Seasoned</td><td>TruthWillOut</td><td>repliedBy</td></tr><tr><td>Seasoned</td><td>HocEstBellum</td><td>repliedBy</td></tr><tr><td>Tony100</td><td>Hettman</td><td>repliedBy</td></tr><tr><td>Tony100</td><td>PoliticsGhost</td><td>repliedBy</td></tr><tr><td>Tony100</td><td>Hettman</td><td>repliedBy</td></tr><tr><td>Tony100</td><td>H0GG</td><td>repliedBy</td></tr><tr><td>Tony100</td><td>PoliticsGhost</td><td>repliedBy</td></tr><tr><td>djb21212</td><td>RestlessRagingFury</td><td>repliedBy</td></tr><tr><td>djb21212</td><td>NoGlobalistSlave</td><td>repliedBy</td></tr><tr><td>Seasoned</td><td>Hettman</td><td>repliedBy</td></tr><tr><td>Seasoned</td><td>Seasoned</td><td>repliedBy</td></tr><tr><td>Seasoned</td><td>Hettman</td><td>repliedBy</td></tr><tr><td>Seasoned</td><td>Seasoned</td><td>repliedBy</td></tr><tr><td>Seasoned</td><td>Hettman</td><td>repliedBy</td></tr><tr><td>Seasoned</td><td>Seasoned</td><td>repliedBy</td></tr><tr><td>Seasoned</td><td>TruthWillOut</td><td>repliedBy</td></tr><tr><td>djb21212</td><td>NoGlobalistSlave</td><td>repliedBy</td></tr><tr><td>Seasoned</td><td>Hettman</td><td>repliedBy</td></tr><tr><td>Seasoned</td><td>Seasoned</td><td>repliedBy</td></tr><tr><td>Seasoned</td><td>Hettman</td><td>repliedBy</td></tr><tr><td>Seasoned</td><td>Seasoned</td><td>repliedBy</td></tr><tr><td>Seasoned</td><td>Hettman</td><td>repliedBy</td></tr><tr><td>Seasoned</td><td>Seasoned</td><td>repliedBy</td></tr><tr><td>Seasoned</td><td>Hettman</td><td>repliedBy</td></tr><tr><td>Seasoned</td><td>Seasoned</td><td>repliedBy</td></tr><tr><td>Seasoned</td><td>TruthWillOut</td><td>repliedBy</td></tr><tr><td>Seasoned</td><td>Hettman</td><td>repliedBy</td></tr><tr><td>Seasoned</td><td>Seasoned</td><td>repliedBy</td></tr><tr><td>Seasoned</td><td>Hettman</td><td>repliedBy</td></tr><tr><td>Seasoned</td><td>Seasoned</td><td>repliedBy</td></tr><tr><td>Seasoned</td><td>Hettman</td><td>repliedBy</td></tr><tr><td>Seasoned</td><td>Seasoned</td><td>repliedBy</td></tr><tr><td>Seasoned</td><td>TruthWillOut</td><td>repliedBy</td></tr><tr><td>Seasoned</td><td>Hettman</td><td>repliedBy</td></tr><tr><td>Seasoned</td><td>Seasoned</td><td>repliedBy</td></tr><tr><td>Seasoned</td><td>rudedog4q2</td><td>repliedBy</td></tr><tr><td>brutuslaurentius</td><td>Adolfsghost</td><td>repliedBy</td></tr><tr><td>brutuslaurentius</td><td>brutuslaurentius</td><td>repliedBy</td></tr><tr><td>brutuslaurentius</td><td>Adolfsghost</td><td>repliedBy</td></tr><tr><td>brutuslaurentius</td><td>brutuslaurentius</td><td>repliedBy</td></tr><tr><td>Seasoned</td><td>Hettman</td><td>repliedBy</td></tr><tr><td>Seasoned</td><td>Seasoned</td><td>repliedBy</td></tr><tr><td>Seasoned</td><td>Hettman</td><td>repliedBy</td></tr><tr><td>Seasoned</td><td>Seasoned</td><td>repliedBy</td></tr><tr><td>Seasoned</td><td>TruthWillOut</td><td>repliedBy</td></tr><tr><td>Seasoned</td><td>Hettman</td><td>repliedBy</td></tr><tr><td>Seasoned</td><td>Seasoned</td><td>repliedBy</td></tr><tr><td>Seasoned</td><td>Hettman</td><td>repliedBy</td></tr><tr><td>Seasoned</td><td>Seasoned</td><td>repliedBy</td></tr><tr><td>Seasoned</td><td>TruthWillOut</td><td>repliedBy</td></tr><tr><td>Bmacfucklibtars</td><td>Bmacfucklibtars</td><td>repliedBy</td></tr><tr><td>ThePolitiGamer</td><td>CycloneBee</td><td>repliedBy</td></tr><tr><td>ThePolitiGamer</td><td>ThePolitiGamer</td><td>repliedBy</td></tr><tr><td>ThePolitiGamer</td><td>CycloneBee</td><td>repliedBy</td></tr><tr><td>ThePolitiGamer</td><td>ThePolitiGamer</td><td>repliedBy</td></tr><tr><td>Seasoned</td><td>Hettman</td><td>repliedBy</td></tr><tr><td>Seasoned</td><td>Seasoned</td><td>repliedBy</td></tr><tr><td>Seasoned</td><td>TruthWillOut</td><td>repliedBy</td></tr><tr><td>Seasoned</td><td>rudedog4q2</td><td>repliedBy</td></tr><tr><td>Annie53annette</td><td>Hettman</td><td>repliedBy</td></tr><tr><td>Annie53annette</td><td>Annie53annette</td><td>repliedBy</td></tr><tr><td>Annie53annette</td><td>Hettman</td><td>repliedBy</td></tr><tr><td>Annie53annette</td><td>Annie53annette</td><td>repliedBy</td></tr><tr><td>Annie53annette</td><td>Hettman</td><td>repliedBy</td></tr><tr><td>Annie53annette</td><td>Annie53annette</td><td>repliedBy</td></tr><tr><td>Annie53annette</td><td>Hettman</td><td>repliedBy</td></tr><tr><td>Annie53annette</td><td>Annie53annette</td><td>repliedBy</td></tr><tr><td>Annie53annette</td><td>Hettman</td><td>repliedBy</td></tr><tr><td>tieridge</td><td>TammyBickel</td><td>repliedBy</td></tr><tr><td>tieridge</td><td>GuardAmerican</td><td>repliedBy</td></tr><tr><td>nubiangod</td><td>LOMcartel</td><td>repliedBy</td></tr><tr><td>nubiangod</td><td>nubiangod</td><td>repliedBy</td></tr><tr><td>secretangentman</td><td>UKBRIT</td><td>repliedBy</td></tr><tr><td>secretangentman</td><td>PePe2</td><td>repliedBy</td></tr><tr><td>Bmacfucklibtars</td><td>CyborgKnight</td><td>repliedBy</td></tr><tr><td>Annie53annette</td><td>UKBRIT</td><td>repliedBy</td></tr><tr><td>Annie53annette</td><td>Annie53annette</td><td>repliedBy</td></tr><tr><td>Annie53annette</td><td>Hettman</td><td>repliedBy</td></tr><tr><td>Annie53annette</td><td>Annie53annette</td><td>repliedBy</td></tr><tr><td>Annie53annette</td><td>Hettman</td><td>repliedBy</td></tr><tr><td>Annie53annette</td><td>Annie53annette</td><td>repliedBy</td></tr><tr><td>Annie53annette</td><td>Hettman</td><td>repliedBy</td></tr><tr><td>RickyBobbySez</td><td>Gunnar</td><td>repliedBy</td></tr><tr><td>MacAndCheesy</td><td>genophilia</td><td>repliedBy</td></tr><tr><td>Aragorn</td><td>Annie53annette</td><td>repliedBy</td></tr><tr><td>Aragorn</td><td>Aragorn</td><td>repliedBy</td></tr><tr><td>Aragorn</td><td>Annie53annette</td><td>repliedBy</td></tr><tr><td>Aragorn</td><td>Wifewithapurpose</td><td>repliedBy</td></tr><tr><td>justspring</td><td>TheRealDonaldTrump45</td><td>repliedBy</td></tr><tr><td>justspring</td><td>justspring</td><td>repliedBy</td></tr><tr><td>justspring</td><td>TheRealDonaldTrump45</td><td>repliedBy</td></tr><tr><td>justspring</td><td>justspring</td><td>repliedBy</td></tr></tbody></table>Showing the first 1000 rows.</div>"
      ]
     },
     "metadata": {
      "application/vnd.databricks.v1+output": {
       "addedWidgets": {},
       "aggData": [],
       "aggError": "",
       "aggOverflow": false,
       "aggSchema": [],
       "aggSeriesLimitReached": false,
       "aggType": "",
       "arguments": {},
       "columnCustomDisplayInfos": {},
       "data": [
        [
         "Frank61",
         "RDFloyd",
         "repliedBy"
        ],
        [
         "DemonTwoSix",
         "RockyBasterd",
         "repliedBy"
        ],
        [
         "DemonTwoSix",
         "DemonTwoSix",
         "repliedBy"
        ],
        [
         "DemonTwoSix",
         "RockyBasterd",
         "repliedBy"
        ],
        [
         "DemonTwoSix",
         "DemonTwoSix",
         "repliedBy"
        ],
        [
         "DemonTwoSix",
         "StoneSovryn",
         "repliedBy"
        ],
        [
         "ManweSulimo828",
         "ManweSulimo828",
         "repliedBy"
        ],
        [
         "ManweSulimo828",
         "wacko2",
         "repliedBy"
        ],
        [
         "ManweSulimo828",
         "ManweSulimo828",
         "repliedBy"
        ],
        [
         "ManweSulimo828",
         "FurDog54",
         "repliedBy"
        ],
        [
         "ManweSulimo828",
         "PhilipSchuyler",
         "repliedBy"
        ],
        [
         "Frank61",
         "blkdiamond97",
         "repliedBy"
        ],
        [
         "DaddyCrabCakes",
         "Erudite",
         "repliedBy"
        ],
        [
         "DaddyCrabCakes",
         "DaddyCrabCakes",
         "repliedBy"
        ],
        [
         "Frank61",
         "wolfenii",
         "repliedBy"
        ],
        [
         "JWS",
         "EricThomas",
         "repliedBy"
        ],
        [
         "ThePolitiGamer",
         "row17",
         "repliedBy"
        ],
        [
         "ThePolitiGamer",
         "row17",
         "repliedBy"
        ],
        [
         "ThePolitiGamer",
         "ThePolitiGamer",
         "repliedBy"
        ],
        [
         "HEISNOWHERE",
         "hoofed",
         "repliedBy"
        ],
        [
         "Brattinella",
         "Luke_Luck",
         "repliedBy"
        ],
        [
         "Brattinella",
         "MartyGraw",
         "repliedBy"
        ],
        [
         "Escoffier",
         "genophilia",
         "repliedBy"
        ],
        [
         "ThemoslemReaper",
         "ANPress",
         "repliedBy"
        ],
        [
         "Frank61",
         "Frank61",
         "repliedBy"
        ],
        [
         "Frank61",
         "AriShekelstein",
         "repliedBy"
        ],
        [
         "HEISNOWHERE",
         "janiec",
         "repliedBy"
        ],
        [
         "Alan103",
         "EastAngle",
         "repliedBy"
        ],
        [
         "kstewskis",
         "StoneSovryn",
         "repliedBy"
        ],
        [
         "Violetfire",
         "USMC-DevilDog",
         "repliedBy"
        ],
        [
         "Donnalea1",
         "TCA3317",
         "repliedBy"
        ],
        [
         "Frank61",
         "TCA3317",
         "repliedBy"
        ],
        [
         "alternative_right",
         "CuckSlayer2017",
         "repliedBy"
        ],
        [
         "alternative_right",
         "alternative_right",
         "repliedBy"
        ],
        [
         "alternative_right",
         "CuckSlayer2017",
         "repliedBy"
        ],
        [
         "alternative_right",
         "CuckSlayer2017",
         "repliedBy"
        ],
        [
         "alternative_right",
         "alternative_right",
         "repliedBy"
        ],
        [
         "alternative_right",
         "CuckSlayer2017",
         "repliedBy"
        ],
        [
         "alternative_right",
         "alternative_right",
         "repliedBy"
        ],
        [
         "alternative_right",
         "CuckSlayer2017",
         "repliedBy"
        ],
        [
         "alternative_right",
         "alternative_right",
         "repliedBy"
        ],
        [
         "alternative_right",
         "CuckSlayer2017",
         "repliedBy"
        ],
        [
         "alternative_right",
         "alternative_right",
         "repliedBy"
        ],
        [
         "alternative_right",
         "ANV",
         "repliedBy"
        ],
        [
         "alternative_right",
         "Annie53annette",
         "repliedBy"
        ],
        [
         "alternative_right",
         "ANV",
         "repliedBy"
        ],
        [
         "alternative_right",
         "Annie53annette",
         "repliedBy"
        ],
        [
         "alternative_right",
         "Patriotpapa2018",
         "repliedBy"
        ],
        [
         "alternative_right",
         "Annie53annette",
         "repliedBy"
        ],
        [
         "alternative_right",
         "PePe2",
         "repliedBy"
        ],
        [
         "Ivan_Ivanovich",
         "USMC-DevilDog",
         "repliedBy"
        ],
        [
         "PepeReagan",
         "MartyGraw",
         "repliedBy"
        ],
        [
         "HEISNOWHERE",
         "22TCM",
         "repliedBy"
        ],
        [
         "Donnalea1",
         "Luke_Luck",
         "repliedBy"
        ],
        [
         "Donnalea1",
         "MartyGraw",
         "repliedBy"
        ],
        [
         "Frank61",
         "TCA3317",
         "repliedBy"
        ],
        [
         "Shepherd",
         "FreedomRenegade",
         "repliedBy"
        ],
        [
         "XIX",
         "PhilipSchuyler",
         "repliedBy"
        ],
        [
         "Shepherd",
         "caroljohns827",
         "repliedBy"
        ],
        [
         "Shepherd",
         "USMC-DevilDog",
         "repliedBy"
        ],
        [
         "MartyGraw",
         "BrainStressBall",
         "repliedBy"
        ],
        [
         "MartyGraw",
         "MartyGraw",
         "repliedBy"
        ],
        [
         "wbvt_98fm",
         "HuHenHarr",
         "repliedBy"
        ],
        [
         "wbvt_98fm",
         "wbvt_98fm",
         "repliedBy"
        ],
        [
         "Prodigal",
         "Bangoob",
         "repliedBy"
        ],
        [
         "Prodigal",
         "Prodigal",
         "repliedBy"
        ],
        [
         "Prodigal",
         "Bangoob",
         "repliedBy"
        ],
        [
         "Prodigal",
         "Prodigal",
         "repliedBy"
        ],
        [
         "Prodigal",
         "Bangoob",
         "repliedBy"
        ],
        [
         "DemonTwoSix",
         "RockyBasterd",
         "repliedBy"
        ],
        [
         "DemonTwoSix",
         "DemonTwoSix",
         "repliedBy"
        ],
        [
         "DemonTwoSix",
         "USMC-DevilDog",
         "repliedBy"
        ],
        [
         "RagnarthePirate",
         "RealTrumpTweets",
         "repliedBy"
        ],
        [
         "LAofVA",
         "LAofVA",
         "repliedBy"
        ],
        [
         "DemonTwoSix",
         "USMC-DevilDog",
         "repliedBy"
        ],
        [
         "jprexena",
         "jprexena",
         "repliedBy"
        ],
        [
         "Prodigal",
         "Bangoob",
         "repliedBy"
        ],
        [
         "Prodigal",
         "Prodigal",
         "repliedBy"
        ],
        [
         "Prodigal",
         "Bangoob",
         "repliedBy"
        ],
        [
         "UnrepentantDeplorable",
         "BGKB",
         "repliedBy"
        ],
        [
         "hankemup",
         "elspeth62",
         "repliedBy"
        ],
        [
         "DG10",
         "22TCM",
         "repliedBy"
        ],
        [
         "truthwhisper",
         "JCPH8235",
         "repliedBy"
        ],
        [
         "truthwhisper",
         "truthwhisper",
         "repliedBy"
        ],
        [
         "truthwhisper",
         "SurvivorMed",
         "repliedBy"
        ],
        [
         "MartyGraw",
         "VanCough",
         "repliedBy"
        ],
        [
         "MartyGraw",
         "MartyGraw",
         "repliedBy"
        ],
        [
         "kstewskis",
         "Mad_march",
         "repliedBy"
        ],
        [
         "Freeanddivided",
         "edgarallanpoegrom",
         "repliedBy"
        ],
        [
         "TedMidward",
         "Luke_Luck",
         "repliedBy"
        ],
        [
         "TedMidward",
         "MartyGraw",
         "repliedBy"
        ],
        [
         "kstewskis",
         "WhatsaMattaU",
         "repliedBy"
        ],
        [
         "kstewskis",
         "WhatsaMattaU",
         "repliedBy"
        ],
        [
         "kstewskis",
         "USMC-DevilDog",
         "repliedBy"
        ],
        [
         "im3421",
         "MartyGraw",
         "repliedBy"
        ],
        [
         "DerStoppenfloppen",
         "way2opinionated",
         "repliedBy"
        ],
        [
         "DerStoppenfloppen",
         "Nationalist_UK",
         "repliedBy"
        ],
        [
         "Luke_Luck",
         "MartyGraw",
         "repliedBy"
        ],
        [
         "WhiteMansBible",
         "Final-Red-Pill-Revolution",
         "repliedBy"
        ],
        [
         "WhiteMansBible",
         "SecondUSRevolt",
         "repliedBy"
        ],
        [
         "haremesc",
         "MartyGraw",
         "repliedBy"
        ],
        [
         "FoxGibsonAgain",
         "blkdiamond97",
         "repliedBy"
        ],
        [
         "ARDavid",
         "Nightmouse",
         "repliedBy"
        ],
        [
         "jprexena",
         "jprexena",
         "repliedBy"
        ],
        [
         "Mica4711",
         "Merdeux",
         "repliedBy"
        ],
        [
         "Mica4711",
         "AntifaMom",
         "repliedBy"
        ],
        [
         "FoxGibsonAgain",
         "janiec",
         "repliedBy"
        ],
        [
         "1s3",
         "Hilloftyr",
         "repliedBy"
        ],
        [
         "CB19",
         "floridadatanerd",
         "repliedBy"
        ],
        [
         "CB19",
         "floridadatanerd",
         "repliedBy"
        ],
        [
         "jprexena",
         "jprexena",
         "repliedBy"
        ],
        [
         "WolverineTongue",
         "BrooklynDave",
         "repliedBy"
        ],
        [
         "WolverineTongue",
         "WolverineTongue",
         "repliedBy"
        ],
        [
         "WolverineTongue",
         "BrooklynDave",
         "repliedBy"
        ],
        [
         "WolverineTongue",
         "WolverineTongue",
         "repliedBy"
        ],
        [
         "WolverineTongue",
         "BrooklynDave",
         "repliedBy"
        ],
        [
         "WolverineTongue",
         "WolverineTongue",
         "repliedBy"
        ],
        [
         "WolverineTongue",
         "BrooklynDave",
         "repliedBy"
        ],
        [
         "WolverineTongue",
         "WolverineTongue",
         "repliedBy"
        ],
        [
         "NavyVetForTrump",
         "SurvivorMed",
         "repliedBy"
        ],
        [
         "tieridge",
         "wolfenii",
         "repliedBy"
        ],
        [
         "DemonTwoSix",
         "Deebz",
         "repliedBy"
        ],
        [
         "DemonTwoSix",
         "DemonTwoSix",
         "repliedBy"
        ],
        [
         "DemonTwoSix",
         "Deebz",
         "repliedBy"
        ],
        [
         "DemonTwoSix",
         "DemonTwoSix",
         "repliedBy"
        ],
        [
         "DemonTwoSix",
         "valinor",
         "repliedBy"
        ],
        [
         "DemonTwoSix",
         "DemonTwoSix",
         "repliedBy"
        ],
        [
         "DemonTwoSix",
         "gaylordsunandshield",
         "repliedBy"
        ],
        [
         "alternative_right",
         "CuckSlayer2017",
         "repliedBy"
        ],
        [
         "alternative_right",
         "CuckSlayer2017",
         "repliedBy"
        ],
        [
         "alternative_right",
         "alternative_right",
         "repliedBy"
        ],
        [
         "alternative_right",
         "CuckSlayer2017",
         "repliedBy"
        ],
        [
         "alternative_right",
         "alternative_right",
         "repliedBy"
        ],
        [
         "alternative_right",
         "CuckSlayer2017",
         "repliedBy"
        ],
        [
         "alternative_right",
         "alternative_right",
         "repliedBy"
        ],
        [
         "alternative_right",
         "CuckSlayer2017",
         "repliedBy"
        ],
        [
         "alternative_right",
         "alternative_right",
         "repliedBy"
        ],
        [
         "alternative_right",
         "ANV",
         "repliedBy"
        ],
        [
         "alternative_right",
         "Annie53annette",
         "repliedBy"
        ],
        [
         "alternative_right",
         "ANV",
         "repliedBy"
        ],
        [
         "alternative_right",
         "Annie53annette",
         "repliedBy"
        ],
        [
         "alternative_right",
         "Patriotpapa2018",
         "repliedBy"
        ],
        [
         "alternative_right",
         "Annie53annette",
         "repliedBy"
        ],
        [
         "alternative_right",
         "PePe2",
         "repliedBy"
        ],
        [
         "truthwhisper",
         "SurvivorMed",
         "repliedBy"
        ],
        [
         "Deebz",
         "DemonTwoSix",
         "repliedBy"
        ],
        [
         "Deebz",
         "Deebz",
         "repliedBy"
        ],
        [
         "Deebz",
         "DemonTwoSix",
         "repliedBy"
        ],
        [
         "Deebz",
         "valinor",
         "repliedBy"
        ],
        [
         "Deebz",
         "DemonTwoSix",
         "repliedBy"
        ],
        [
         "Deebz",
         "gaylordsunandshield",
         "repliedBy"
        ],
        [
         "CycloneBee",
         "wolfenii",
         "repliedBy"
        ],
        [
         "DemonTwoSix",
         "Deebz",
         "repliedBy"
        ],
        [
         "DemonTwoSix",
         "DemonTwoSix",
         "repliedBy"
        ],
        [
         "DemonTwoSix",
         "valinor",
         "repliedBy"
        ],
        [
         "DemonTwoSix",
         "DemonTwoSix",
         "repliedBy"
        ],
        [
         "DemonTwoSix",
         "gaylordsunandshield",
         "repliedBy"
        ],
        [
         "Deebz",
         "DemonTwoSix",
         "repliedBy"
        ],
        [
         "Deebz",
         "valinor",
         "repliedBy"
        ],
        [
         "Deebz",
         "DemonTwoSix",
         "repliedBy"
        ],
        [
         "Deebz",
         "gaylordsunandshield",
         "repliedBy"
        ],
        [
         "Chrishelms",
         "LOVEUS",
         "repliedBy"
        ],
        [
         "Chrishelms",
         "Chrishelms",
         "repliedBy"
        ],
        [
         "Chrishelms",
         "LOVEUS",
         "repliedBy"
        ],
        [
         "Chrishelms",
         "ChristiJunior",
         "repliedBy"
        ],
        [
         "DemonTwoSix",
         "valinor",
         "repliedBy"
        ],
        [
         "DemonTwoSix",
         "DemonTwoSix",
         "repliedBy"
        ],
        [
         "DemonTwoSix",
         "gaylordsunandshield",
         "repliedBy"
        ],
        [
         "cvilatam",
         "DemonTwoSix",
         "repliedBy"
        ],
        [
         "cvilatam",
         "cvilatam",
         "repliedBy"
        ],
        [
         "cvilatam",
         "DemonTwoSix",
         "repliedBy"
        ],
        [
         "cvilatam",
         "wrath0fkhan",
         "repliedBy"
        ],
        [
         "valinor",
         "DemonTwoSix",
         "repliedBy"
        ],
        [
         "valinor",
         "gaylordsunandshield",
         "repliedBy"
        ],
        [
         "Real_John_Wayne",
         "ILANAMERCER",
         "repliedBy"
        ],
        [
         "jenninthewest",
         "Escoffier",
         "repliedBy"
        ],
        [
         "jenninthewest",
         "jenninthewest",
         "repliedBy"
        ],
        [
         "jenninthewest",
         "Escoffier",
         "repliedBy"
        ],
        [
         "jenninthewest",
         "jenninthewest",
         "repliedBy"
        ],
        [
         "allovertheplace",
         "PhilipSchuyler",
         "repliedBy"
        ],
        [
         "DemonTwoSix",
         "cvilatam",
         "repliedBy"
        ],
        [
         "DemonTwoSix",
         "DemonTwoSix",
         "repliedBy"
        ],
        [
         "DemonTwoSix",
         "wrath0fkhan",
         "repliedBy"
        ],
        [
         "JudiLake",
         "2AFreedom",
         "repliedBy"
        ],
        [
         "CareBearz",
         "NoGlobalistSlave",
         "repliedBy"
        ],
        [
         "jenninthewest",
         "Escoffier",
         "repliedBy"
        ],
        [
         "jenninthewest",
         "jenninthewest",
         "repliedBy"
        ],
        [
         "ThePolitiGamer",
         "TheRomanticRealist",
         "repliedBy"
        ],
        [
         "ThePolitiGamer",
         "ThePolitiGamer",
         "repliedBy"
        ],
        [
         "ThePolitiGamer",
         "TheRomanticRealist",
         "repliedBy"
        ],
        [
         "ThePolitiGamer",
         "ThePolitiGamer",
         "repliedBy"
        ],
        [
         "TempusThales",
         "SrsTwist",
         "repliedBy"
        ],
        [
         "ThePolitiGamer",
         "TheRomanticRealist",
         "repliedBy"
        ],
        [
         "ThePolitiGamer",
         "ThePolitiGamer",
         "repliedBy"
        ],
        [
         "ThePolitiGamer",
         "TheRomanticRealist",
         "repliedBy"
        ],
        [
         "ThePolitiGamer",
         "ThePolitiGamer",
         "repliedBy"
        ],
        [
         "doulbtingblake",
         "PhilipSchuyler",
         "repliedBy"
        ],
        [
         "budop69",
         "DemonTwoSix",
         "repliedBy"
        ],
        [
         "budop69",
         "wrath0fkhan",
         "repliedBy"
        ],
        [
         "LegendaryCollektor",
         "worldwideweirdnews",
         "repliedBy"
        ],
        [
         "im3421",
         "SurvivorMed",
         "repliedBy"
        ],
        [
         "im3421",
         "Patriot_Games",
         "repliedBy"
        ],
        [
         "im3421",
         "SurvivorMed",
         "repliedBy"
        ],
        [
         "CycloneBee",
         "Bombislamdotcom",
         "repliedBy"
        ],
        [
         "HEISNOWHERE",
         "SurvivorMed",
         "repliedBy"
        ],
        [
         "DemonTwoSix",
         "wrath0fkhan",
         "repliedBy"
        ],
        [
         "LegendaryCollektor",
         "The_Outsider",
         "repliedBy"
        ],
        [
         "ProfPlum",
         "Cyph",
         "repliedBy"
        ],
        [
         "ProfPlum",
         "Bangoob",
         "repliedBy"
        ],
        [
         "ProfPlum",
         "Bangoob",
         "repliedBy"
        ],
        [
         "DonLegaracci",
         "LegendaryCollektor",
         "repliedBy"
        ],
        [
         "DonLegaracci",
         "worldwideweirdnews",
         "repliedBy"
        ],
        [
         "Razorback247",
         "Bilzingslebensmann",
         "repliedBy"
        ],
        [
         "Razorback247",
         "TienLeung",
         "repliedBy"
        ],
        [
         "toddwieland",
         "causticbob",
         "repliedBy"
        ],
        [
         "sinister_midget",
         "BitChute",
         "repliedBy"
        ],
        [
         "FedraFarmer",
         "strangemans",
         "repliedBy"
        ],
        [
         "Real_John_Wayne",
         "SurvivorMed",
         "repliedBy"
        ],
        [
         "Real_John_Wayne",
         "Patriot_Games",
         "repliedBy"
        ],
        [
         "Real_John_Wayne",
         "SurvivorMed",
         "repliedBy"
        ],
        [
         "ThePolitiGamer",
         "TheRomanticRealist",
         "repliedBy"
        ],
        [
         "ThePolitiGamer",
         "ThePolitiGamer",
         "repliedBy"
        ],
        [
         "bbeeaann",
         "TimAdams1",
         "repliedBy"
        ],
        [
         "bbeeaann",
         "bbeeaann",
         "repliedBy"
        ],
        [
         "FrankDeSilva",
         "CarolynEmerick",
         "repliedBy"
        ],
        [
         "Merrymary",
         "Nightmouse",
         "repliedBy"
        ],
        [
         "CryptoMadeMan",
         "HuHenHarr",
         "repliedBy"
        ],
        [
         "CryptoMadeMan",
         "CryptoMadeMan",
         "repliedBy"
        ],
        [
         "CryptoMadeMan",
         "HuHenHarr",
         "repliedBy"
        ],
        [
         "CryptoMadeMan",
         "CryptoMadeMan",
         "repliedBy"
        ],
        [
         "Prodigal",
         "Bangoob",
         "repliedBy"
        ],
        [
         "Merrymary",
         "bitchingood",
         "repliedBy"
        ],
        [
         "WhiteMansBible",
         "Real_John_Wayne",
         "repliedBy"
        ],
        [
         "WhiteMansBible",
         "Wifewithapurpose",
         "repliedBy"
        ],
        [
         "Cyph",
         "Bangoob",
         "repliedBy"
        ],
        [
         "Cyph",
         "Bangoob",
         "repliedBy"
        ],
        [
         "Cyph",
         "Cyph",
         "repliedBy"
        ],
        [
         "Cyph",
         "Bangoob",
         "repliedBy"
        ],
        [
         "Cyph",
         "Bangoob",
         "repliedBy"
        ],
        [
         "FoxGibsonAgain",
         "NativeCal4Trump",
         "repliedBy"
        ],
        [
         "Patriot2262",
         "bitchingood",
         "repliedBy"
        ],
        [
         "Cyph",
         "Bangoob",
         "repliedBy"
        ],
        [
         "Cyph",
         "Bangoob",
         "repliedBy"
        ],
        [
         "Mbarris01",
         "HuHenHarr",
         "repliedBy"
        ],
        [
         "Mbarris01",
         "Mbarris01",
         "repliedBy"
        ],
        [
         "Mbarris01",
         "HuHenHarr",
         "repliedBy"
        ],
        [
         "Mbarris01",
         "Mbarris01",
         "repliedBy"
        ],
        [
         "FoxGibsonAgain",
         "MartyGraw",
         "repliedBy"
        ],
        [
         "cedarnsage",
         "ChristiJunior",
         "repliedBy"
        ],
        [
         "Gerryattric",
         "Lockerius",
         "repliedBy"
        ],
        [
         "Gerryattric",
         "Gerryattric",
         "repliedBy"
        ],
        [
         "Gerryattric",
         "Lockerius",
         "repliedBy"
        ],
        [
         "Gerryattric",
         "EdwardKyle",
         "repliedBy"
        ],
        [
         "Gerryattric",
         "Southsider1",
         "repliedBy"
        ],
        [
         "FoxGibsonAgain",
         "USairborne",
         "repliedBy"
        ],
        [
         "Annie53annette",
         "NoGlobalistSlave",
         "repliedBy"
        ],
        [
         "CryptoMadeMan",
         "Rad-er-Cad",
         "repliedBy"
        ],
        [
         "CryptoMadeMan",
         "CryptoMadeMan",
         "repliedBy"
        ],
        [
         "CryptoMadeMan",
         "HuHenHarr",
         "repliedBy"
        ],
        [
         "CryptoMadeMan",
         "CryptoMadeMan",
         "repliedBy"
        ],
        [
         "FoxGibsonAgain",
         "wolfenii",
         "repliedBy"
        ],
        [
         "RachelBartlett",
         "blkdiamond97",
         "repliedBy"
        ],
        [
         "st3v3n",
         "AlreadyGone",
         "repliedBy"
        ],
        [
         "FoxGibsonAgain",
         "USairborne",
         "repliedBy"
        ],
        [
         "leamorabito",
         "BlueGood",
         "repliedBy"
        ],
        [
         "TempusThales",
         "desperados",
         "repliedBy"
        ],
        [
         "Jami_USA",
         "1PsychoticMotherfuck",
         "repliedBy"
        ],
        [
         "Jami_USA",
         "Jami_USA",
         "repliedBy"
        ],
        [
         "Donnalea1",
         "USairborne",
         "repliedBy"
        ],
        [
         "TheRealMontes",
         "worldwideweirdnews",
         "repliedBy"
        ],
        [
         "KgdlBrown97",
         "OTP-USA",
         "repliedBy"
        ],
        [
         "WolverineTongue",
         "TPaine2016",
         "repliedBy"
        ],
        [
         "WolverineTongue",
         "WolverineTongue",
         "repliedBy"
        ],
        [
         "Violetfire",
         "seekandfind",
         "repliedBy"
        ],
        [
         "Violetfire",
         "Violetfire",
         "repliedBy"
        ],
        [
         "Patriot2262",
         "FredricAnton",
         "repliedBy"
        ],
        [
         "Moonbasking",
         "RealTrumpTweets",
         "repliedBy"
        ],
        [
         "WolverineTongue",
         "DebFul19",
         "repliedBy"
        ],
        [
         "WolverineTongue",
         "WolverineTongue",
         "repliedBy"
        ],
        [
         "WolverineTongue",
         "DebFul19",
         "repliedBy"
        ],
        [
         "WolverineTongue",
         "WolverineTongue",
         "repliedBy"
        ],
        [
         "anarchafem",
         "Conansdog",
         "repliedBy"
        ],
        [
         "anarchafem",
         "anarchafem",
         "repliedBy"
        ],
        [
         "anarchafem",
         "Conansdog",
         "repliedBy"
        ],
        [
         "anarchafem",
         "anarchafem",
         "repliedBy"
        ],
        [
         "anarchafem",
         "Conansdog",
         "repliedBy"
        ],
        [
         "anarchafem",
         "anarchafem",
         "repliedBy"
        ],
        [
         "anarchafem",
         "Conansdog",
         "repliedBy"
        ],
        [
         "anarchafem",
         "anarchafem",
         "repliedBy"
        ],
        [
         "anarchafem",
         "Conansdog",
         "repliedBy"
        ],
        [
         "anarchafem",
         "anarchafem",
         "repliedBy"
        ],
        [
         "Moonbasking",
         "Broken77",
         "repliedBy"
        ],
        [
         "Moonbasking",
         "22TCM",
         "repliedBy"
        ],
        [
         "Mbarris01",
         "DemonTwoSix",
         "repliedBy"
        ],
        [
         "Mbarris01",
         "Mbarris01",
         "repliedBy"
        ],
        [
         "leamorabito",
         "WarAtTheZoo",
         "repliedBy"
        ],
        [
         "Mbarris01",
         "HuHenHarr",
         "repliedBy"
        ],
        [
         "Mbarris01",
         "Mbarris01",
         "repliedBy"
        ],
        [
         "WolverineTongue",
         "DebFul19",
         "repliedBy"
        ],
        [
         "WolverineTongue",
         "WolverineTongue",
         "repliedBy"
        ],
        [
         "Pholcidae",
         "dave1163sag",
         "repliedBy"
        ],
        [
         "FoolOnTheHill",
         "realDonadlTrump",
         "repliedBy"
        ],
        [
         "FoolOnTheHill",
         "FoolOnTheHill",
         "repliedBy"
        ],
        [
         "FoolOnTheHill",
         "22TCM",
         "repliedBy"
        ],
        [
         "WolverineTongue",
         "DebFul19",
         "repliedBy"
        ],
        [
         "WolverineTongue",
         "WolverineTongue",
         "repliedBy"
        ],
        [
         "seamrog",
         "NiggerologistPhD",
         "repliedBy"
        ],
        [
         "seamrog",
         "seamrog",
         "repliedBy"
        ],
        [
         "seamrog",
         "NativeCal4Trump",
         "repliedBy"
        ],
        [
         "seamrog",
         "haremesc",
         "repliedBy"
        ],
        [
         "seamrog",
         "NativeCal4Trump",
         "repliedBy"
        ],
        [
         "NiggerologistPhD",
         "seamrog",
         "repliedBy"
        ],
        [
         "NiggerologistPhD",
         "NativeCal4Trump",
         "repliedBy"
        ],
        [
         "NiggerologistPhD",
         "haremesc",
         "repliedBy"
        ],
        [
         "NiggerologistPhD",
         "NativeCal4Trump",
         "repliedBy"
        ],
        [
         "EmilyAnderson",
         "WarAtTheZoo",
         "repliedBy"
        ],
        [
         "Mbarris01",
         "PuppetStringNews",
         "repliedBy"
        ],
        [
         "alternative_right",
         "USMC-DevilDog",
         "repliedBy"
        ],
        [
         "PantsFreeZone",
         "worldwideweirdnews",
         "repliedBy"
        ],
        [
         "Bilzingslebensmann",
         "TienLeung",
         "repliedBy"
        ],
        [
         "meowski",
         "Birdy",
         "repliedBy"
        ],
        [
         "meowski",
         "meowski",
         "repliedBy"
        ],
        [
         "meowski",
         "Birdy",
         "repliedBy"
        ],
        [
         "meowski",
         "meowski",
         "repliedBy"
        ],
        [
         "meowski",
         "Birdy",
         "repliedBy"
        ],
        [
         "meowski",
         "meowski",
         "repliedBy"
        ],
        [
         "meowski",
         "Birdy",
         "repliedBy"
        ],
        [
         "meowski",
         "meowski",
         "repliedBy"
        ],
        [
         "meowski",
         "Birdy",
         "repliedBy"
        ],
        [
         "meowski",
         "Wifewithapurpose",
         "repliedBy"
        ],
        [
         "meowski",
         "Birdy",
         "repliedBy"
        ],
        [
         "meowski",
         "Wifewithapurpose",
         "repliedBy"
        ],
        [
         "Deplorable_Satoshi",
         "DireWolf1488",
         "repliedBy"
        ],
        [
         "FoolOnTheHill",
         "NativeCal4Trump",
         "repliedBy"
        ],
        [
         "seamrog",
         "NativeCal4Trump",
         "repliedBy"
        ],
        [
         "seamrog",
         "haremesc",
         "repliedBy"
        ],
        [
         "seamrog",
         "NativeCal4Trump",
         "repliedBy"
        ],
        [
         "LSherwood",
         "genophilia",
         "repliedBy"
        ],
        [
         "anarchafem",
         "Conansdog",
         "repliedBy"
        ],
        [
         "anarchafem",
         "anarchafem",
         "repliedBy"
        ],
        [
         "anarchafem",
         "Conansdog",
         "repliedBy"
        ],
        [
         "anarchafem",
         "anarchafem",
         "repliedBy"
        ],
        [
         "anarchafem",
         "Conansdog",
         "repliedBy"
        ],
        [
         "anarchafem",
         "anarchafem",
         "repliedBy"
        ],
        [
         "anarchafem",
         "Conansdog",
         "repliedBy"
        ],
        [
         "anarchafem",
         "anarchafem",
         "repliedBy"
        ],
        [
         "Shepherd",
         "GodsTruthWar",
         "repliedBy"
        ],
        [
         "Seasoned",
         "22TCM",
         "repliedBy"
        ],
        [
         "PA_01",
         "CarolynEmerick",
         "repliedBy"
        ],
        [
         "Shepherd",
         "NativeCal4Trump",
         "repliedBy"
        ],
        [
         "FoolOnTheHill",
         "MartyGraw",
         "repliedBy"
        ],
        [
         "NiggerologistPhD",
         "BeingLorrie",
         "repliedBy"
        ],
        [
         "grandpalampshade",
         "StreetSweeper",
         "repliedBy"
        ],
        [
         "anarchafem",
         "Conansdog",
         "repliedBy"
        ],
        [
         "anarchafem",
         "anarchafem",
         "repliedBy"
        ],
        [
         "anarchafem",
         "Conansdog",
         "repliedBy"
        ],
        [
         "anarchafem",
         "anarchafem",
         "repliedBy"
        ],
        [
         "anarchafem",
         "Conansdog",
         "repliedBy"
        ],
        [
         "anarchafem",
         "anarchafem",
         "repliedBy"
        ],
        [
         "FoolOnTheHill",
         "ChristiJunior",
         "repliedBy"
        ],
        [
         "HEISNOWHERE",
         "TaLoNxNL",
         "repliedBy"
        ],
        [
         "FoolOnTheHill",
         "22TCM",
         "repliedBy"
        ],
        [
         "Chrishelms",
         "LOVEUS",
         "repliedBy"
        ],
        [
         "Chrishelms",
         "ChristiJunior",
         "repliedBy"
        ],
        [
         "anarchafem",
         "Conansdog",
         "repliedBy"
        ],
        [
         "anarchafem",
         "anarchafem",
         "repliedBy"
        ],
        [
         "anarchafem",
         "Conansdog",
         "repliedBy"
        ],
        [
         "anarchafem",
         "anarchafem",
         "repliedBy"
        ],
        [
         "LadyMarianne",
         "WildWelshWoman",
         "repliedBy"
        ],
        [
         "Shepherd",
         "cbdfan",
         "repliedBy"
        ],
        [
         "RAMGOOSE",
         "Bombislamdotcom",
         "repliedBy"
        ],
        [
         "DemonTwoSix",
         "SurvivorMed",
         "repliedBy"
        ],
        [
         "Birdy",
         "meowski",
         "repliedBy"
        ],
        [
         "Birdy",
         "Birdy",
         "repliedBy"
        ],
        [
         "Birdy",
         "meowski",
         "repliedBy"
        ],
        [
         "Birdy",
         "Birdy",
         "repliedBy"
        ],
        [
         "Birdy",
         "meowski",
         "repliedBy"
        ],
        [
         "Birdy",
         "Birdy",
         "repliedBy"
        ],
        [
         "Birdy",
         "meowski",
         "repliedBy"
        ],
        [
         "Birdy",
         "Birdy",
         "repliedBy"
        ],
        [
         "Birdy",
         "Wifewithapurpose",
         "repliedBy"
        ],
        [
         "Birdy",
         "Birdy",
         "repliedBy"
        ],
        [
         "Birdy",
         "Wifewithapurpose",
         "repliedBy"
        ],
        [
         "Bilzingslebensmann",
         "Final-Red-Pill-Revolution",
         "repliedBy"
        ],
        [
         "Bilzingslebensmann",
         "Raze",
         "repliedBy"
        ],
        [
         "Ivan_Ivanovich",
         "Rebelin2deep",
         "repliedBy"
        ],
        [
         "DaddyCrabCakes",
         "SurvivorMed",
         "repliedBy"
        ],
        [
         "DG10",
         "WildWelshWoman",
         "repliedBy"
        ],
        [
         "Fashed-N-Furious",
         "DeplorableNurse",
         "repliedBy"
        ],
        [
         "The_Outsider",
         "Birdy",
         "repliedBy"
        ],
        [
         "The_Outsider",
         "The_Outsider",
         "repliedBy"
        ],
        [
         "The_Outsider",
         "Birdy",
         "repliedBy"
        ],
        [
         "The_Outsider",
         "The_Outsider",
         "repliedBy"
        ],
        [
         "The_Outsider",
         "Birdy",
         "repliedBy"
        ],
        [
         "The_Outsider",
         "Wifewithapurpose",
         "repliedBy"
        ],
        [
         "The_Outsider",
         "Birdy",
         "repliedBy"
        ],
        [
         "The_Outsider",
         "Wifewithapurpose",
         "repliedBy"
        ],
        [
         "lkusa",
         "janiec",
         "repliedBy"
        ],
        [
         "meowski",
         "Birdy",
         "repliedBy"
        ],
        [
         "meowski",
         "meowski",
         "repliedBy"
        ],
        [
         "meowski",
         "Birdy",
         "repliedBy"
        ],
        [
         "meowski",
         "meowski",
         "repliedBy"
        ],
        [
         "meowski",
         "Birdy",
         "repliedBy"
        ],
        [
         "meowski",
         "meowski",
         "repliedBy"
        ],
        [
         "meowski",
         "Birdy",
         "repliedBy"
        ],
        [
         "meowski",
         "Wifewithapurpose",
         "repliedBy"
        ],
        [
         "meowski",
         "Birdy",
         "repliedBy"
        ],
        [
         "meowski",
         "Wifewithapurpose",
         "repliedBy"
        ],
        [
         "TimeToPayTheTab",
         "Zwhiz",
         "repliedBy"
        ],
        [
         "TimeToPayTheTab",
         "TheFullMonte",
         "repliedBy"
        ],
        [
         "TimeToPayTheTab",
         "kgrace",
         "repliedBy"
        ],
        [
         "UnCL3",
         "Spahnranch1969",
         "repliedBy"
        ],
        [
         "UnCL3",
         "phoenixTPR",
         "repliedBy"
        ],
        [
         "Bilzingslebensmann",
         "Spahnranch1969",
         "repliedBy"
        ],
        [
         "Bilzingslebensmann",
         "phoenixTPR",
         "repliedBy"
        ],
        [
         "CycloneBee",
         "Newparadigm1",
         "repliedBy"
        ],
        [
         "CycloneBee",
         "CycloneBee",
         "repliedBy"
        ],
        [
         "CycloneBee",
         "Newparadigm1",
         "repliedBy"
        ],
        [
         "ConniptionQueen",
         "Raze",
         "repliedBy"
        ],
        [
         "Birdy",
         "meowski",
         "repliedBy"
        ],
        [
         "Birdy",
         "Birdy",
         "repliedBy"
        ],
        [
         "Birdy",
         "meowski",
         "repliedBy"
        ],
        [
         "Birdy",
         "Birdy",
         "repliedBy"
        ],
        [
         "Birdy",
         "meowski",
         "repliedBy"
        ],
        [
         "Birdy",
         "Birdy",
         "repliedBy"
        ],
        [
         "Birdy",
         "Wifewithapurpose",
         "repliedBy"
        ],
        [
         "Birdy",
         "Birdy",
         "repliedBy"
        ],
        [
         "Birdy",
         "Wifewithapurpose",
         "repliedBy"
        ],
        [
         "BoaPeep",
         "cbdfan",
         "repliedBy"
        ],
        [
         "DemonTwoSix",
         "Mbarris01",
         "repliedBy"
        ],
        [
         "Birdy",
         "The_Outsider",
         "repliedBy"
        ],
        [
         "Birdy",
         "Birdy",
         "repliedBy"
        ],
        [
         "Birdy",
         "The_Outsider",
         "repliedBy"
        ],
        [
         "Birdy",
         "Birdy",
         "repliedBy"
        ],
        [
         "Birdy",
         "Wifewithapurpose",
         "repliedBy"
        ],
        [
         "Birdy",
         "Birdy",
         "repliedBy"
        ],
        [
         "Birdy",
         "Wifewithapurpose",
         "repliedBy"
        ],
        [
         "welshdragon",
         "WildWelshWoman",
         "repliedBy"
        ],
        [
         "TimeToPayTheTab",
         "kgrace",
         "repliedBy"
        ],
        [
         "meowski",
         "Birdy",
         "repliedBy"
        ],
        [
         "meowski",
         "meowski",
         "repliedBy"
        ],
        [
         "meowski",
         "Birdy",
         "repliedBy"
        ],
        [
         "meowski",
         "meowski",
         "repliedBy"
        ],
        [
         "meowski",
         "Birdy",
         "repliedBy"
        ],
        [
         "meowski",
         "Wifewithapurpose",
         "repliedBy"
        ],
        [
         "meowski",
         "Birdy",
         "repliedBy"
        ],
        [
         "meowski",
         "Wifewithapurpose",
         "repliedBy"
        ],
        [
         "Real_John_Wayne",
         "Wifewithapurpose",
         "repliedBy"
        ],
        [
         "anarchafem",
         "Conansdog",
         "repliedBy"
        ],
        [
         "anarchafem",
         "anarchafem",
         "repliedBy"
        ],
        [
         "Mbarris01",
         "PhilipSchuyler",
         "repliedBy"
        ],
        [
         "DemonTwoSix",
         "JucheTony",
         "repliedBy"
        ],
        [
         "DemonTwoSix",
         "DemonTwoSix",
         "repliedBy"
        ],
        [
         "DemonTwoSix",
         "RockyBasterd",
         "repliedBy"
        ],
        [
         "DemonTwoSix",
         "KimJong-un",
         "repliedBy"
        ],
        [
         "DemonTwoSix",
         "Grimslud",
         "repliedBy"
        ],
        [
         "DemonTwoSix",
         "KimJong-un",
         "repliedBy"
        ],
        [
         "DemonTwoSix",
         "TomKawczynski",
         "repliedBy"
        ],
        [
         "DemonTwoSix",
         "TomKawczynski",
         "repliedBy"
        ],
        [
         "Birdy",
         "meowski",
         "repliedBy"
        ],
        [
         "Birdy",
         "Birdy",
         "repliedBy"
        ],
        [
         "Birdy",
         "meowski",
         "repliedBy"
        ],
        [
         "Birdy",
         "Birdy",
         "repliedBy"
        ],
        [
         "Birdy",
         "Wifewithapurpose",
         "repliedBy"
        ],
        [
         "Birdy",
         "Birdy",
         "repliedBy"
        ],
        [
         "Birdy",
         "Wifewithapurpose",
         "repliedBy"
        ],
        [
         "ReactionaryCat",
         "Kathyd51",
         "repliedBy"
        ],
        [
         "ReactionaryCat",
         "GuardAmerican",
         "repliedBy"
        ],
        [
         "ReactionaryCat",
         "Kathyd51",
         "repliedBy"
        ],
        [
         "ReactionaryCat",
         "GuardAmerican",
         "repliedBy"
        ],
        [
         "leamorabito",
         "MDB50",
         "repliedBy"
        ],
        [
         "leamorabito",
         "TheFireRises",
         "repliedBy"
        ],
        [
         "The_Outsider",
         "LadyMarmelade",
         "repliedBy"
        ],
        [
         "The_Outsider",
         "The_Outsider",
         "repliedBy"
        ],
        [
         "The_Outsider",
         "LadyMarmelade",
         "repliedBy"
        ],
        [
         "The_Outsider",
         "The_Outsider",
         "repliedBy"
        ],
        [
         "The_Outsider",
         "LadyMarmelade",
         "repliedBy"
        ],
        [
         "The_Outsider",
         "Wifewithapurpose",
         "repliedBy"
        ],
        [
         "The_Outsider",
         "Birdy",
         "repliedBy"
        ],
        [
         "The_Outsider",
         "Wifewithapurpose",
         "repliedBy"
        ],
        [
         "The_Outsider",
         "Birdy",
         "repliedBy"
        ],
        [
         "The_Outsider",
         "Wifewithapurpose",
         "repliedBy"
        ],
        [
         "Birdy",
         "CowboyRanger",
         "repliedBy"
        ],
        [
         "Birdy",
         "Wifewithapurpose",
         "repliedBy"
        ],
        [
         "Birdy",
         "Birdy",
         "repliedBy"
        ],
        [
         "Birdy",
         "Wifewithapurpose",
         "repliedBy"
        ],
        [
         "Birdy",
         "Birdy",
         "repliedBy"
        ],
        [
         "Birdy",
         "Wifewithapurpose",
         "repliedBy"
        ],
        [
         "WonderfullyDeplorable",
         "janiec",
         "repliedBy"
        ],
        [
         "GuardAmerican",
         "BeatrixOsier",
         "repliedBy"
        ],
        [
         "GuardAmerican",
         "GuardAmerican",
         "repliedBy"
        ],
        [
         "WhiteMansBible",
         "PNN",
         "repliedBy"
        ],
        [
         "The_Outsider",
         "LadyMarmelade",
         "repliedBy"
        ],
        [
         "The_Outsider",
         "The_Outsider",
         "repliedBy"
        ],
        [
         "The_Outsider",
         "LadyMarmelade",
         "repliedBy"
        ],
        [
         "The_Outsider",
         "Wifewithapurpose",
         "repliedBy"
        ],
        [
         "The_Outsider",
         "Birdy",
         "repliedBy"
        ],
        [
         "The_Outsider",
         "Wifewithapurpose",
         "repliedBy"
        ],
        [
         "The_Outsider",
         "Birdy",
         "repliedBy"
        ],
        [
         "The_Outsider",
         "Wifewithapurpose",
         "repliedBy"
        ],
        [
         "leamorabito",
         "Sidephase",
         "repliedBy"
        ],
        [
         "OpenTheDoor",
         "GuardAmerican",
         "repliedBy"
        ],
        [
         "OpenTheDoor",
         "GuardAmerican",
         "repliedBy"
        ],
        [
         "meowski",
         "Birdy",
         "repliedBy"
        ],
        [
         "meowski",
         "meowski",
         "repliedBy"
        ],
        [
         "meowski",
         "Birdy",
         "repliedBy"
        ],
        [
         "meowski",
         "Wifewithapurpose",
         "repliedBy"
        ],
        [
         "meowski",
         "Birdy",
         "repliedBy"
        ],
        [
         "meowski",
         "Wifewithapurpose",
         "repliedBy"
        ],
        [
         "meowski",
         "Birdy",
         "repliedBy"
        ],
        [
         "meowski",
         "meowski",
         "repliedBy"
        ],
        [
         "meowski",
         "Birdy",
         "repliedBy"
        ],
        [
         "meowski",
         "Wifewithapurpose",
         "repliedBy"
        ],
        [
         "meowski",
         "Birdy",
         "repliedBy"
        ],
        [
         "meowski",
         "Wifewithapurpose",
         "repliedBy"
        ],
        [
         "LSherwood",
         "mdoerner1",
         "repliedBy"
        ],
        [
         "The_Outsider",
         "LadyMarmelade",
         "repliedBy"
        ],
        [
         "The_Outsider",
         "Wifewithapurpose",
         "repliedBy"
        ],
        [
         "The_Outsider",
         "Birdy",
         "repliedBy"
        ],
        [
         "The_Outsider",
         "Wifewithapurpose",
         "repliedBy"
        ],
        [
         "The_Outsider",
         "Birdy",
         "repliedBy"
        ],
        [
         "The_Outsider",
         "Wifewithapurpose",
         "repliedBy"
        ],
        [
         "ROCKintheUSSA",
         "PhilipSchuyler",
         "repliedBy"
        ],
        [
         "MDB50",
         "TheFireRises",
         "repliedBy"
        ],
        [
         "PaesurBiey",
         "DKF",
         "repliedBy"
        ],
        [
         "PaesurBiey",
         "PaesurBiey",
         "repliedBy"
        ],
        [
         "leamorabito",
         "rudedog4q2",
         "repliedBy"
        ],
        [
         "The_Outsider",
         "Birdy",
         "repliedBy"
        ],
        [
         "The_Outsider",
         "The_Outsider",
         "repliedBy"
        ],
        [
         "The_Outsider",
         "Birdy",
         "repliedBy"
        ],
        [
         "The_Outsider",
         "Wifewithapurpose",
         "repliedBy"
        ],
        [
         "The_Outsider",
         "Birdy",
         "repliedBy"
        ],
        [
         "The_Outsider",
         "Wifewithapurpose",
         "repliedBy"
        ],
        [
         "WolverineTongue",
         "DKF",
         "repliedBy"
        ],
        [
         "WolverineTongue",
         "WolverineTongue",
         "repliedBy"
        ],
        [
         "OpenTheDoor",
         "phoenixTPR",
         "repliedBy"
        ],
        [
         "Bilzingslebensmann",
         "RaviCrux",
         "repliedBy"
        ],
        [
         "SteveLove4All",
         "RDFloyd",
         "repliedBy"
        ],
        [
         "Birdy",
         "4thHorseman",
         "repliedBy"
        ],
        [
         "Birdy",
         "Birdy",
         "repliedBy"
        ],
        [
         "Birdy",
         "Wifewithapurpose",
         "repliedBy"
        ],
        [
         "Birdy",
         "Birdy",
         "repliedBy"
        ],
        [
         "Birdy",
         "Wifewithapurpose",
         "repliedBy"
        ],
        [
         "MartyGraw",
         "RustySpoon",
         "repliedBy"
        ],
        [
         "MartyGraw",
         "MartyGraw",
         "repliedBy"
        ],
        [
         "MartyGraw",
         "RustySpoon",
         "repliedBy"
        ],
        [
         "MartyGraw",
         "MartyGraw",
         "repliedBy"
        ],
        [
         "MartyGraw",
         "BudDude6",
         "repliedBy"
        ],
        [
         "MartyGraw",
         "MartyGraw",
         "repliedBy"
        ],
        [
         "MartyGraw",
         "Luminary",
         "repliedBy"
        ],
        [
         "MartyGraw",
         "MartyGraw",
         "repliedBy"
        ],
        [
         "MartyGraw",
         "Luminary",
         "repliedBy"
        ],
        [
         "MartyGraw",
         "MartyGraw",
         "repliedBy"
        ],
        [
         "MartyGraw",
         "Goyim1488",
         "repliedBy"
        ],
        [
         "MartyGraw",
         "MartyGraw",
         "repliedBy"
        ],
        [
         "MartyGraw",
         "Goyim1488",
         "repliedBy"
        ],
        [
         "MartyGraw",
         "MartyGraw",
         "repliedBy"
        ],
        [
         "MartyGraw",
         "Goyim1488",
         "repliedBy"
        ],
        [
         "Birdy",
         "The_Outsider",
         "repliedBy"
        ],
        [
         "Birdy",
         "Birdy",
         "repliedBy"
        ],
        [
         "Birdy",
         "Wifewithapurpose",
         "repliedBy"
        ],
        [
         "Birdy",
         "Birdy",
         "repliedBy"
        ],
        [
         "Birdy",
         "Wifewithapurpose",
         "repliedBy"
        ],
        [
         "Real_John_Wayne",
         "SurvivorMed",
         "repliedBy"
        ],
        [
         "IlI",
         "HolocaustSurvivalist",
         "repliedBy"
        ],
        [
         "kenbarber",
         "RealTrumpTweets",
         "repliedBy"
        ],
        [
         "PaesurBiey",
         "chipchip",
         "repliedBy"
        ],
        [
         "PaesurBiey",
         "PaesurBiey",
         "repliedBy"
        ],
        [
         "PaesurBiey",
         "chipchip",
         "repliedBy"
        ],
        [
         "PaesurBiey",
         "PaesurBiey",
         "repliedBy"
        ],
        [
         "GuardAmerican",
         "Kathyd51",
         "repliedBy"
        ],
        [
         "GuardAmerican",
         "GuardAmerican",
         "repliedBy"
        ],
        [
         "The_Outsider",
         "louche",
         "repliedBy"
        ],
        [
         "The_Outsider",
         "The_Outsider",
         "repliedBy"
        ],
        [
         "The_Outsider",
         "Wifewithapurpose",
         "repliedBy"
        ],
        [
         "The_Outsider",
         "Birdy",
         "repliedBy"
        ],
        [
         "The_Outsider",
         "Wifewithapurpose",
         "repliedBy"
        ],
        [
         "The_Outsider",
         "Birdy",
         "repliedBy"
        ],
        [
         "The_Outsider",
         "Wifewithapurpose",
         "repliedBy"
        ],
        [
         "seamrog",
         "IndyMark5315",
         "repliedBy"
        ],
        [
         "GuardAmerican",
         "Peone",
         "repliedBy"
        ],
        [
         "GuardAmerican",
         "GuardAmerican",
         "repliedBy"
        ],
        [
         "GuardAmerican",
         "GuardAmerican",
         "repliedBy"
        ],
        [
         "FrijFryslanNL",
         "ObamaSucksAnus",
         "repliedBy"
        ],
        [
         "FrijFryslanNL",
         "ObamaSucksAnus",
         "repliedBy"
        ],
        [
         "FrijFryslanNL",
         "RabbiHighComma",
         "repliedBy"
        ],
        [
         "FrijFryslanNL",
         "ObamaSucksAnus",
         "repliedBy"
        ],
        [
         "WolverineTongue",
         "seekandfind",
         "repliedBy"
        ],
        [
         "WolverineTongue",
         "WolverineTongue",
         "repliedBy"
        ],
        [
         "NavyVetForTrump",
         "flashfyre",
         "repliedBy"
        ],
        [
         "NavyVetForTrump",
         "NavyVetForTrump",
         "repliedBy"
        ],
        [
         "WolverineTongue",
         "FellowTraveler",
         "repliedBy"
        ],
        [
         "WolverineTongue",
         "WolverineTongue",
         "repliedBy"
        ],
        [
         "RienholdO",
         "wolfenii",
         "repliedBy"
        ],
        [
         "Merrymary",
         "HempOilCures",
         "repliedBy"
        ],
        [
         "SorosOfTheLiver",
         "Skipjacks",
         "repliedBy"
        ],
        [
         "SorosOfTheLiver",
         "rudedog4q2",
         "repliedBy"
        ],
        [
         "Merrymary",
         "HempOilCures",
         "repliedBy"
        ],
        [
         "olddustyghost",
         "Wifewithapurpose",
         "repliedBy"
        ],
        [
         "olddustyghost",
         "Birdy",
         "repliedBy"
        ],
        [
         "olddustyghost",
         "Wifewithapurpose",
         "repliedBy"
        ],
        [
         "olddustyghost",
         "Birdy",
         "repliedBy"
        ],
        [
         "olddustyghost",
         "Wifewithapurpose",
         "repliedBy"
        ],
        [
         "ArchHighLord",
         "Alah-is-a-gay-god",
         "repliedBy"
        ],
        [
         "PaesurBiey",
         "chipchip",
         "repliedBy"
        ],
        [
         "PaesurBiey",
         "PaesurBiey",
         "repliedBy"
        ],
        [
         "WolverineTongue",
         "Amos_Amish2",
         "repliedBy"
        ],
        [
         "WolverineTongue",
         "WolverineTongue",
         "repliedBy"
        ],
        [
         "GuardAmerican",
         "GuardAmerican",
         "repliedBy"
        ],
        [
         "MyOwnPrivateDomicile",
         "Kek_Magician",
         "repliedBy"
        ],
        [
         "WhiteMansBible",
         "Blondenfun1",
         "repliedBy"
        ],
        [
         "WhiteMansBible",
         "WhiteMansBible",
         "repliedBy"
        ],
        [
         "WhiteMansBible",
         "Blondenfun1",
         "repliedBy"
        ],
        [
         "WhiteMansBible",
         "WhiteMansBible",
         "repliedBy"
        ],
        [
         "WhiteMansBible",
         "Blondenfun1",
         "repliedBy"
        ],
        [
         "WhiteMansBible",
         "WhiteMansBible",
         "repliedBy"
        ],
        [
         "WhiteMansBible",
         "Blondenfun1",
         "repliedBy"
        ],
        [
         "Brassmonkey3434",
         "SurvivorMed",
         "repliedBy"
        ],
        [
         "Merrymary",
         "12ten48",
         "repliedBy"
        ],
        [
         "Merrymary",
         "Merrymary",
         "repliedBy"
        ],
        [
         "Merrymary",
         "12ten48",
         "repliedBy"
        ],
        [
         "Escoffier",
         "MartyGraw",
         "repliedBy"
        ],
        [
         "Eye_of_Odin",
         "bitchingood",
         "repliedBy"
        ],
        [
         "GuardAmerican",
         "GuardAmerican",
         "repliedBy"
        ],
        [
         "RabbiHighComma",
         "ObamaSucksAnus",
         "repliedBy"
        ],
        [
         "RachelBartlett",
         "Racehorse",
         "repliedBy"
        ],
        [
         "RachelBartlett",
         "Wifewithapurpose",
         "repliedBy"
        ],
        [
         "FalconNest",
         "PhilipSchuyler",
         "repliedBy"
        ],
        [
         "FuckFBandTwitter",
         "SurvivorMed",
         "repliedBy"
        ],
        [
         "Patriot2262",
         "Shepherd",
         "repliedBy"
        ],
        [
         "DTOM_EVER",
         "SurvivorMed",
         "repliedBy"
        ],
        [
         "WolverineTongue",
         "PrettyPrinter",
         "repliedBy"
        ],
        [
         "WolverineTongue",
         "WolverineTongue",
         "repliedBy"
        ],
        [
         "WolverineTongue",
         "RachelBartlett",
         "repliedBy"
        ],
        [
         "WolverineTongue",
         "WolverineTongue",
         "repliedBy"
        ],
        [
         "Caish",
         "TempusThales",
         "repliedBy"
        ],
        [
         "BooBreeze",
         "MartaVonRunge",
         "repliedBy"
        ],
        [
         "BooBreeze",
         "BooBreeze",
         "repliedBy"
        ],
        [
         "BooBreeze",
         "nhnationalists",
         "repliedBy"
        ],
        [
         "BooBreeze",
         "BooBreeze",
         "repliedBy"
        ],
        [
         "BooBreeze",
         "nhnationalists",
         "repliedBy"
        ],
        [
         "BooBreeze",
         "BooBreeze",
         "repliedBy"
        ],
        [
         "BooBreeze",
         "nhnationalists",
         "repliedBy"
        ],
        [
         "BooBreeze",
         "BooBreeze",
         "repliedBy"
        ],
        [
         "thefinn",
         "nhnationalists",
         "repliedBy"
        ],
        [
         "thefinn",
         "BooBreeze",
         "repliedBy"
        ],
        [
         "thefinn",
         "nhnationalists",
         "repliedBy"
        ],
        [
         "thefinn",
         "BooBreeze",
         "repliedBy"
        ],
        [
         "BooBreeze",
         "MartaVonRunge",
         "repliedBy"
        ],
        [
         "BooBreeze",
         "BooBreeze",
         "repliedBy"
        ],
        [
         "BooBreeze",
         "nhnationalists",
         "repliedBy"
        ],
        [
         "BooBreeze",
         "BooBreeze",
         "repliedBy"
        ],
        [
         "BooBreeze",
         "nhnationalists",
         "repliedBy"
        ],
        [
         "BooBreeze",
         "BooBreeze",
         "repliedBy"
        ],
        [
         "BooBreeze",
         "nhnationalists",
         "repliedBy"
        ],
        [
         "BooBreeze",
         "BooBreeze",
         "repliedBy"
        ],
        [
         "RachelBartlett",
         "ChristiJunior",
         "repliedBy"
        ],
        [
         "PatriotInfidel",
         "NathanKing",
         "repliedBy"
        ],
        [
         "PatriotInfidel",
         "TruthHurtsNews",
         "repliedBy"
        ],
        [
         "DonLegaracci",
         "RachelBartlett",
         "repliedBy"
        ],
        [
         "DonLegaracci",
         "WolverineTongue",
         "repliedBy"
        ],
        [
         "DonLegaracci",
         "RachelBartlett",
         "repliedBy"
        ],
        [
         "DonLegaracci",
         "WolverineTongue",
         "repliedBy"
        ],
        [
         "HEISNOWHERE",
         "odysseus94",
         "repliedBy"
        ],
        [
         "HEISNOWHERE",
         "HEISNOWHERE",
         "repliedBy"
        ],
        [
         "HEISNOWHERE",
         "Brassmonkey3434",
         "repliedBy"
        ],
        [
         "Teddy_da_Bear",
         "kgrace",
         "repliedBy"
        ],
        [
         "Escoffier",
         "JeremiahCoombs",
         "repliedBy"
        ],
        [
         "DemonTwoSix",
         "DimitriNosarev",
         "repliedBy"
        ],
        [
         "Escoffier",
         "JeremiahCoombs",
         "repliedBy"
        ],
        [
         "NativeCal4Trump",
         "NativeCal4Trump",
         "repliedBy"
        ],
        [
         "DougMorrison",
         "shorty",
         "repliedBy"
        ],
        [
         "DougMorrison",
         "DougMorrison",
         "repliedBy"
        ],
        [
         "DougMorrison",
         "kgrace",
         "repliedBy"
        ],
        [
         "RachelBartlett",
         "DimitriNosarev",
         "repliedBy"
        ],
        [
         "BarabbasMcTaint",
         "Disspat",
         "repliedBy"
        ],
        [
         "nubiangod",
         "JSello",
         "repliedBy"
        ],
        [
         "anarchafem",
         "Unenrolled",
         "repliedBy"
        ],
        [
         "anarchafem",
         "anarchafem",
         "repliedBy"
        ],
        [
         "DemonTwoSix",
         "MDB50",
         "repliedBy"
        ],
        [
         "DemonTwoSix",
         "gaylordsunandshield",
         "repliedBy"
        ],
        [
         "shorty",
         "DougMorrison",
         "repliedBy"
        ],
        [
         "shorty",
         "kgrace",
         "repliedBy"
        ],
        [
         "HEISNOWHERE",
         "Brassmonkey3434",
         "repliedBy"
        ],
        [
         "MDB50",
         "gaylordsunandshield",
         "repliedBy"
        ],
        [
         "DemonTwoSix",
         "leamorabito",
         "repliedBy"
        ],
        [
         "DemonTwoSix",
         "DemonTwoSix",
         "repliedBy"
        ],
        [
         "DemonTwoSix",
         "leamorabito",
         "repliedBy"
        ],
        [
         "DemonTwoSix",
         "DemonTwoSix",
         "repliedBy"
        ],
        [
         "DemonTwoSix",
         "RockyBasterd",
         "repliedBy"
        ],
        [
         "DemonTwoSix",
         "KimJong-un",
         "repliedBy"
        ],
        [
         "DemonTwoSix",
         "Grimslud",
         "repliedBy"
        ],
        [
         "DemonTwoSix",
         "KimJong-un",
         "repliedBy"
        ],
        [
         "DemonTwoSix",
         "TomKawczynski",
         "repliedBy"
        ],
        [
         "DemonTwoSix",
         "TomKawczynski",
         "repliedBy"
        ],
        [
         "leamorabito",
         "DTOM_EVER",
         "repliedBy"
        ],
        [
         "leamorabito",
         "leamorabito",
         "repliedBy"
        ],
        [
         "leamorabito",
         "DemonTwoSix",
         "repliedBy"
        ],
        [
         "leamorabito",
         "RockyBasterd",
         "repliedBy"
        ],
        [
         "leamorabito",
         "KimJong-un",
         "repliedBy"
        ],
        [
         "leamorabito",
         "Grimslud",
         "repliedBy"
        ],
        [
         "leamorabito",
         "KimJong-un",
         "repliedBy"
        ],
        [
         "leamorabito",
         "TomKawczynski",
         "repliedBy"
        ],
        [
         "leamorabito",
         "TomKawczynski",
         "repliedBy"
        ],
        [
         "Mcarr",
         "RickyBobbySez",
         "repliedBy"
        ],
        [
         "leamorabito",
         "DemonTwoSix",
         "repliedBy"
        ],
        [
         "leamorabito",
         "leamorabito",
         "repliedBy"
        ],
        [
         "leamorabito",
         "DemonTwoSix",
         "repliedBy"
        ],
        [
         "leamorabito",
         "RockyBasterd",
         "repliedBy"
        ],
        [
         "leamorabito",
         "KimJong-un",
         "repliedBy"
        ],
        [
         "leamorabito",
         "Grimslud",
         "repliedBy"
        ],
        [
         "leamorabito",
         "KimJong-un",
         "repliedBy"
        ],
        [
         "leamorabito",
         "TomKawczynski",
         "repliedBy"
        ],
        [
         "leamorabito",
         "TomKawczynski",
         "repliedBy"
        ],
        [
         "meowski",
         "Birdy",
         "repliedBy"
        ],
        [
         "meowski",
         "Wifewithapurpose",
         "repliedBy"
        ],
        [
         "meowski",
         "Birdy",
         "repliedBy"
        ],
        [
         "meowski",
         "Wifewithapurpose",
         "repliedBy"
        ],
        [
         "BarabbasMcTaint",
         "MartyGraw",
         "repliedBy"
        ],
        [
         "DougMorrison",
         "kgrace",
         "repliedBy"
        ],
        [
         "nhnationalists",
         "BooBreeze",
         "repliedBy"
        ],
        [
         "nhnationalists",
         "nhnationalists",
         "repliedBy"
        ],
        [
         "nhnationalists",
         "BooBreeze",
         "repliedBy"
        ],
        [
         "nhnationalists",
         "nhnationalists",
         "repliedBy"
        ],
        [
         "nhnationalists",
         "BooBreeze",
         "repliedBy"
        ],
        [
         "BooBreeze",
         "nhnationalists",
         "repliedBy"
        ],
        [
         "BooBreeze",
         "BooBreeze",
         "repliedBy"
        ],
        [
         "BooBreeze",
         "nhnationalists",
         "repliedBy"
        ],
        [
         "BooBreeze",
         "BooBreeze",
         "repliedBy"
        ],
        [
         "BooBreeze",
         "nhnationalists",
         "repliedBy"
        ],
        [
         "BooBreeze",
         "BooBreeze",
         "repliedBy"
        ],
        [
         "DemonTwoSix",
         "leamorabito",
         "repliedBy"
        ],
        [
         "DemonTwoSix",
         "DemonTwoSix",
         "repliedBy"
        ],
        [
         "DemonTwoSix",
         "RockyBasterd",
         "repliedBy"
        ],
        [
         "DemonTwoSix",
         "KimJong-un",
         "repliedBy"
        ],
        [
         "DemonTwoSix",
         "Grimslud",
         "repliedBy"
        ],
        [
         "DemonTwoSix",
         "KimJong-un",
         "repliedBy"
        ],
        [
         "DemonTwoSix",
         "TomKawczynski",
         "repliedBy"
        ],
        [
         "DemonTwoSix",
         "TomKawczynski",
         "repliedBy"
        ],
        [
         "ZWY",
         "JSello",
         "repliedBy"
        ],
        [
         "ZWY",
         "JSello",
         "repliedBy"
        ],
        [
         "DTOM_EVER",
         "leamorabito",
         "repliedBy"
        ],
        [
         "DTOM_EVER",
         "DemonTwoSix",
         "repliedBy"
        ],
        [
         "DTOM_EVER",
         "RockyBasterd",
         "repliedBy"
        ],
        [
         "DTOM_EVER",
         "KimJong-un",
         "repliedBy"
        ],
        [
         "DTOM_EVER",
         "Grimslud",
         "repliedBy"
        ],
        [
         "DTOM_EVER",
         "KimJong-un",
         "repliedBy"
        ],
        [
         "DTOM_EVER",
         "TomKawczynski",
         "repliedBy"
        ],
        [
         "DTOM_EVER",
         "TomKawczynski",
         "repliedBy"
        ],
        [
         "Skipjacks",
         "rudedog4q2",
         "repliedBy"
        ],
        [
         "leamorabito",
         "DemonTwoSix",
         "repliedBy"
        ],
        [
         "leamorabito",
         "RockyBasterd",
         "repliedBy"
        ],
        [
         "leamorabito",
         "KimJong-un",
         "repliedBy"
        ],
        [
         "leamorabito",
         "Grimslud",
         "repliedBy"
        ],
        [
         "leamorabito",
         "KimJong-un",
         "repliedBy"
        ],
        [
         "leamorabito",
         "TomKawczynski",
         "repliedBy"
        ],
        [
         "leamorabito",
         "TomKawczynski",
         "repliedBy"
        ],
        [
         "WhiteMansBible",
         "Blondenfun1",
         "repliedBy"
        ],
        [
         "WhiteMansBible",
         "WhiteMansBible",
         "repliedBy"
        ],
        [
         "WhiteMansBible",
         "Blondenfun1",
         "repliedBy"
        ],
        [
         "WhiteMansBible",
         "WhiteMansBible",
         "repliedBy"
        ],
        [
         "WhiteMansBible",
         "Blondenfun1",
         "repliedBy"
        ],
        [
         "PatriotInfidel",
         "2AFreedom",
         "repliedBy"
        ],
        [
         "DemonTwoSix",
         "RockyBasterd",
         "repliedBy"
        ],
        [
         "DemonTwoSix",
         "DemonTwoSix",
         "repliedBy"
        ],
        [
         "DemonTwoSix",
         "RockyBasterd",
         "repliedBy"
        ],
        [
         "DemonTwoSix",
         "DemonTwoSix",
         "repliedBy"
        ],
        [
         "DemonTwoSix",
         "RockyBasterd",
         "repliedBy"
        ],
        [
         "DemonTwoSix",
         "KimJong-un",
         "repliedBy"
        ],
        [
         "DemonTwoSix",
         "Grimslud",
         "repliedBy"
        ],
        [
         "DemonTwoSix",
         "KimJong-un",
         "repliedBy"
        ],
        [
         "DemonTwoSix",
         "TomKawczynski",
         "repliedBy"
        ],
        [
         "DemonTwoSix",
         "TomKawczynski",
         "repliedBy"
        ],
        [
         "leamorabito",
         "Nightmouse",
         "repliedBy"
        ],
        [
         "PatriotInfidel",
         "kimcheetwo",
         "repliedBy"
        ],
        [
         "judgedread",
         "Wifewithapurpose",
         "repliedBy"
        ],
        [
         "judgedread",
         "Birdy",
         "repliedBy"
        ],
        [
         "judgedread",
         "Wifewithapurpose",
         "repliedBy"
        ],
        [
         "judgedread",
         "Birdy",
         "repliedBy"
        ],
        [
         "judgedread",
         "Wifewithapurpose",
         "repliedBy"
        ],
        [
         "Mcarr",
         "Final-Red-Pill-Revolution",
         "repliedBy"
        ],
        [
         "Mcarr",
         "Raze",
         "repliedBy"
        ],
        [
         "BarabbasMcTaint",
         "MartyGraw",
         "repliedBy"
        ],
        [
         "Moonbasking",
         "Final-Red-Pill-Revolution",
         "repliedBy"
        ],
        [
         "Moonbasking",
         "Moonbasking",
         "repliedBy"
        ],
        [
         "Moonbasking",
         "Final-Red-Pill-Revolution",
         "repliedBy"
        ],
        [
         "Moonbasking",
         "Raze",
         "repliedBy"
        ],
        [
         "leamorabito",
         "DTOM_EVER",
         "repliedBy"
        ],
        [
         "leamorabito",
         "americancheese",
         "repliedBy"
        ],
        [
         "leamorabito",
         "DTOM_EVER",
         "repliedBy"
        ],
        [
         "leamorabito",
         "CarolynEmerick",
         "repliedBy"
        ],
        [
         "FoxGibsonAgain",
         "Grumpy_Hoosier",
         "repliedBy"
        ],
        [
         "easher555",
         "Number-Six",
         "repliedBy"
        ],
        [
         "DemonTwoSix",
         "RockyBasterd",
         "repliedBy"
        ],
        [
         "DemonTwoSix",
         "DemonTwoSix",
         "repliedBy"
        ],
        [
         "DemonTwoSix",
         "RockyBasterd",
         "repliedBy"
        ],
        [
         "DemonTwoSix",
         "KimJong-un",
         "repliedBy"
        ],
        [
         "DemonTwoSix",
         "Grimslud",
         "repliedBy"
        ],
        [
         "DemonTwoSix",
         "KimJong-un",
         "repliedBy"
        ],
        [
         "DemonTwoSix",
         "TomKawczynski",
         "repliedBy"
        ],
        [
         "DemonTwoSix",
         "TomKawczynski",
         "repliedBy"
        ],
        [
         "FoxGibsonAgain",
         "crow_count",
         "repliedBy"
        ],
        [
         "FoxGibsonAgain",
         "FoxGibsonAgain",
         "repliedBy"
        ],
        [
         "FoxGibsonAgain",
         "crow_count",
         "repliedBy"
        ],
        [
         "FoxGibsonAgain",
         "FoxGibsonAgain",
         "repliedBy"
        ],
        [
         "FoxGibsonAgain",
         "crow_count",
         "repliedBy"
        ],
        [
         "FoxGibsonAgain",
         "FoxGibsonAgain",
         "repliedBy"
        ],
        [
         "FoxGibsonAgain",
         "Southsider1",
         "repliedBy"
        ],
        [
         "jonsey",
         "Dindu_Wrangler",
         "repliedBy"
        ],
        [
         "jonsey",
         "DeplorableNurse",
         "repliedBy"
        ],
        [
         "DTOM_EVER",
         "americancheese",
         "repliedBy"
        ],
        [
         "DTOM_EVER",
         "DTOM_EVER",
         "repliedBy"
        ],
        [
         "DTOM_EVER",
         "CarolynEmerick",
         "repliedBy"
        ],
        [
         "Fauxlocaust",
         "Disspat",
         "repliedBy"
        ],
        [
         "DemonTwoSix",
         "RockyBasterd",
         "repliedBy"
        ],
        [
         "DemonTwoSix",
         "KimJong-un",
         "repliedBy"
        ],
        [
         "DemonTwoSix",
         "Grimslud",
         "repliedBy"
        ],
        [
         "DemonTwoSix",
         "KimJong-un",
         "repliedBy"
        ],
        [
         "DemonTwoSix",
         "TomKawczynski",
         "repliedBy"
        ],
        [
         "DemonTwoSix",
         "TomKawczynski",
         "repliedBy"
        ],
        [
         "Moonbasking",
         "HolocaustSurvivalist",
         "repliedBy"
        ],
        [
         "Jimbo451",
         "Birdy",
         "repliedBy"
        ],
        [
         "Jimbo451",
         "Wifewithapurpose",
         "repliedBy"
        ],
        [
         "Jimbo451",
         "Birdy",
         "repliedBy"
        ],
        [
         "Jimbo451",
         "Wifewithapurpose",
         "repliedBy"
        ],
        [
         "FoxGibsonAgain",
         "crow_count",
         "repliedBy"
        ],
        [
         "FoxGibsonAgain",
         "FoxGibsonAgain",
         "repliedBy"
        ],
        [
         "FoxGibsonAgain",
         "crow_count",
         "repliedBy"
        ],
        [
         "FoxGibsonAgain",
         "FoxGibsonAgain",
         "repliedBy"
        ],
        [
         "FoxGibsonAgain",
         "Southsider1",
         "repliedBy"
        ],
        [
         "Fauxlocaust",
         "Wifewithapurpose",
         "repliedBy"
        ],
        [
         "ChadLilly",
         "BillieJeanmoo",
         "repliedBy"
        ],
        [
         "ChadLilly",
         "BethDittmander",
         "repliedBy"
        ],
        [
         "ChadLilly",
         "Big_John_Talley",
         "repliedBy"
        ],
        [
         "BarabbasMcTaint",
         "kgrace",
         "repliedBy"
        ],
        [
         "Moonbasking",
         "Final-Red-Pill-Revolution",
         "repliedBy"
        ],
        [
         "Moonbasking",
         "Raze",
         "repliedBy"
        ],
        [
         "KimJong-un",
         "Grimslud",
         "repliedBy"
        ],
        [
         "KimJong-un",
         "KimJong-un",
         "repliedBy"
        ],
        [
         "KimJong-un",
         "TomKawczynski",
         "repliedBy"
        ],
        [
         "KimJong-un",
         "TomKawczynski",
         "repliedBy"
        ],
        [
         "ThemoslemReaper",
         "FrancisMeyrick",
         "repliedBy"
        ],
        [
         "Beagsgab",
         "Jeanfreau",
         "repliedBy"
        ],
        [
         "Beagsgab",
         "MyAmericanMorning",
         "repliedBy"
        ],
        [
         "Fauxlocaust",
         "TomKawczynski",
         "repliedBy"
        ],
        [
         "Fauxlocaust",
         "FriendOfRhodesia",
         "repliedBy"
        ],
        [
         "Fauxlocaust",
         "TomKawczynski",
         "repliedBy"
        ],
        [
         "TriggerNation1",
         "Disspat",
         "repliedBy"
        ],
        [
         "Top_Of_The_Food_Chain",
         "HempOilCures",
         "repliedBy"
        ],
        [
         "JohnGritt",
         "Wifewithapurpose",
         "repliedBy"
        ],
        [
         "Seasoned",
         "Hettman",
         "repliedBy"
        ],
        [
         "Seasoned",
         "Seasoned",
         "repliedBy"
        ],
        [
         "Seasoned",
         "Hettman",
         "repliedBy"
        ],
        [
         "Seasoned",
         "Seasoned",
         "repliedBy"
        ],
        [
         "Seasoned",
         "Hettman",
         "repliedBy"
        ],
        [
         "Seasoned",
         "Seasoned",
         "repliedBy"
        ],
        [
         "Seasoned",
         "Hettman",
         "repliedBy"
        ],
        [
         "Seasoned",
         "Seasoned",
         "repliedBy"
        ],
        [
         "Seasoned",
         "Hettman",
         "repliedBy"
        ],
        [
         "Seasoned",
         "Seasoned",
         "repliedBy"
        ],
        [
         "Seasoned",
         "Hettman",
         "repliedBy"
        ],
        [
         "Seasoned",
         "Seasoned",
         "repliedBy"
        ],
        [
         "Seasoned",
         "Hettman",
         "repliedBy"
        ],
        [
         "Seasoned",
         "Seasoned",
         "repliedBy"
        ],
        [
         "Seasoned",
         "TruthWillOut",
         "repliedBy"
        ],
        [
         "Seasoned",
         "Hettman",
         "repliedBy"
        ],
        [
         "Seasoned",
         "Seasoned",
         "repliedBy"
        ],
        [
         "Seasoned",
         "Hettman",
         "repliedBy"
        ],
        [
         "Seasoned",
         "Seasoned",
         "repliedBy"
        ],
        [
         "Seasoned",
         "Hettman",
         "repliedBy"
        ],
        [
         "Seasoned",
         "Seasoned",
         "repliedBy"
        ],
        [
         "Seasoned",
         "Hettman",
         "repliedBy"
        ],
        [
         "Seasoned",
         "Seasoned",
         "repliedBy"
        ],
        [
         "Seasoned",
         "Hettman",
         "repliedBy"
        ],
        [
         "Seasoned",
         "Seasoned",
         "repliedBy"
        ],
        [
         "Seasoned",
         "TruthWillOut",
         "repliedBy"
        ],
        [
         "Seasoned",
         "Hettman",
         "repliedBy"
        ],
        [
         "Seasoned",
         "Seasoned",
         "repliedBy"
        ],
        [
         "Seasoned",
         "Hettman",
         "repliedBy"
        ],
        [
         "Seasoned",
         "Seasoned",
         "repliedBy"
        ],
        [
         "Seasoned",
         "Hettman",
         "repliedBy"
        ],
        [
         "Seasoned",
         "Seasoned",
         "repliedBy"
        ],
        [
         "Seasoned",
         "Hettman",
         "repliedBy"
        ],
        [
         "Seasoned",
         "Seasoned",
         "repliedBy"
        ],
        [
         "Seasoned",
         "Hettman",
         "repliedBy"
        ],
        [
         "Seasoned",
         "Seasoned",
         "repliedBy"
        ],
        [
         "Seasoned",
         "Hettman",
         "repliedBy"
        ],
        [
         "Seasoned",
         "Seasoned",
         "repliedBy"
        ],
        [
         "Seasoned",
         "TruthWillOut",
         "repliedBy"
        ],
        [
         "Seasoned",
         "Hettman",
         "repliedBy"
        ],
        [
         "Seasoned",
         "Seasoned",
         "repliedBy"
        ],
        [
         "Seasoned",
         "Hettman",
         "repliedBy"
        ],
        [
         "Seasoned",
         "Seasoned",
         "repliedBy"
        ],
        [
         "Seasoned",
         "Hettman",
         "repliedBy"
        ],
        [
         "Seasoned",
         "Seasoned",
         "repliedBy"
        ],
        [
         "Seasoned",
         "Hettman",
         "repliedBy"
        ],
        [
         "Seasoned",
         "Seasoned",
         "repliedBy"
        ],
        [
         "Seasoned",
         "TruthWillOut",
         "repliedBy"
        ],
        [
         "Seasoned",
         "Hettman",
         "repliedBy"
        ],
        [
         "Seasoned",
         "Seasoned",
         "repliedBy"
        ],
        [
         "Seasoned",
         "Hettman",
         "repliedBy"
        ],
        [
         "Seasoned",
         "Seasoned",
         "repliedBy"
        ],
        [
         "Seasoned",
         "Hettman",
         "repliedBy"
        ],
        [
         "Seasoned",
         "Seasoned",
         "repliedBy"
        ],
        [
         "Seasoned",
         "Hettman",
         "repliedBy"
        ],
        [
         "Seasoned",
         "Seasoned",
         "repliedBy"
        ],
        [
         "Seasoned",
         "Hettman",
         "repliedBy"
        ],
        [
         "Seasoned",
         "Seasoned",
         "repliedBy"
        ],
        [
         "Seasoned",
         "TruthWillOut",
         "repliedBy"
        ],
        [
         "Seasoned",
         "HocEstBellum",
         "repliedBy"
        ],
        [
         "Tony100",
         "Hettman",
         "repliedBy"
        ],
        [
         "Tony100",
         "PoliticsGhost",
         "repliedBy"
        ],
        [
         "Tony100",
         "Hettman",
         "repliedBy"
        ],
        [
         "Tony100",
         "H0GG",
         "repliedBy"
        ],
        [
         "Tony100",
         "PoliticsGhost",
         "repliedBy"
        ],
        [
         "djb21212",
         "RestlessRagingFury",
         "repliedBy"
        ],
        [
         "djb21212",
         "NoGlobalistSlave",
         "repliedBy"
        ],
        [
         "Seasoned",
         "Hettman",
         "repliedBy"
        ],
        [
         "Seasoned",
         "Seasoned",
         "repliedBy"
        ],
        [
         "Seasoned",
         "Hettman",
         "repliedBy"
        ],
        [
         "Seasoned",
         "Seasoned",
         "repliedBy"
        ],
        [
         "Seasoned",
         "Hettman",
         "repliedBy"
        ],
        [
         "Seasoned",
         "Seasoned",
         "repliedBy"
        ],
        [
         "Seasoned",
         "TruthWillOut",
         "repliedBy"
        ],
        [
         "djb21212",
         "NoGlobalistSlave",
         "repliedBy"
        ],
        [
         "Seasoned",
         "Hettman",
         "repliedBy"
        ],
        [
         "Seasoned",
         "Seasoned",
         "repliedBy"
        ],
        [
         "Seasoned",
         "Hettman",
         "repliedBy"
        ],
        [
         "Seasoned",
         "Seasoned",
         "repliedBy"
        ],
        [
         "Seasoned",
         "Hettman",
         "repliedBy"
        ],
        [
         "Seasoned",
         "Seasoned",
         "repliedBy"
        ],
        [
         "Seasoned",
         "Hettman",
         "repliedBy"
        ],
        [
         "Seasoned",
         "Seasoned",
         "repliedBy"
        ],
        [
         "Seasoned",
         "TruthWillOut",
         "repliedBy"
        ],
        [
         "Seasoned",
         "Hettman",
         "repliedBy"
        ],
        [
         "Seasoned",
         "Seasoned",
         "repliedBy"
        ],
        [
         "Seasoned",
         "Hettman",
         "repliedBy"
        ],
        [
         "Seasoned",
         "Seasoned",
         "repliedBy"
        ],
        [
         "Seasoned",
         "Hettman",
         "repliedBy"
        ],
        [
         "Seasoned",
         "Seasoned",
         "repliedBy"
        ],
        [
         "Seasoned",
         "TruthWillOut",
         "repliedBy"
        ],
        [
         "Seasoned",
         "Hettman",
         "repliedBy"
        ],
        [
         "Seasoned",
         "Seasoned",
         "repliedBy"
        ],
        [
         "Seasoned",
         "rudedog4q2",
         "repliedBy"
        ],
        [
         "brutuslaurentius",
         "Adolfsghost",
         "repliedBy"
        ],
        [
         "brutuslaurentius",
         "brutuslaurentius",
         "repliedBy"
        ],
        [
         "brutuslaurentius",
         "Adolfsghost",
         "repliedBy"
        ],
        [
         "brutuslaurentius",
         "brutuslaurentius",
         "repliedBy"
        ],
        [
         "Seasoned",
         "Hettman",
         "repliedBy"
        ],
        [
         "Seasoned",
         "Seasoned",
         "repliedBy"
        ],
        [
         "Seasoned",
         "Hettman",
         "repliedBy"
        ],
        [
         "Seasoned",
         "Seasoned",
         "repliedBy"
        ],
        [
         "Seasoned",
         "TruthWillOut",
         "repliedBy"
        ],
        [
         "Seasoned",
         "Hettman",
         "repliedBy"
        ],
        [
         "Seasoned",
         "Seasoned",
         "repliedBy"
        ],
        [
         "Seasoned",
         "Hettman",
         "repliedBy"
        ],
        [
         "Seasoned",
         "Seasoned",
         "repliedBy"
        ],
        [
         "Seasoned",
         "TruthWillOut",
         "repliedBy"
        ],
        [
         "Bmacfucklibtars",
         "Bmacfucklibtars",
         "repliedBy"
        ],
        [
         "ThePolitiGamer",
         "CycloneBee",
         "repliedBy"
        ],
        [
         "ThePolitiGamer",
         "ThePolitiGamer",
         "repliedBy"
        ],
        [
         "ThePolitiGamer",
         "CycloneBee",
         "repliedBy"
        ],
        [
         "ThePolitiGamer",
         "ThePolitiGamer",
         "repliedBy"
        ],
        [
         "Seasoned",
         "Hettman",
         "repliedBy"
        ],
        [
         "Seasoned",
         "Seasoned",
         "repliedBy"
        ],
        [
         "Seasoned",
         "TruthWillOut",
         "repliedBy"
        ],
        [
         "Seasoned",
         "rudedog4q2",
         "repliedBy"
        ],
        [
         "Annie53annette",
         "Hettman",
         "repliedBy"
        ],
        [
         "Annie53annette",
         "Annie53annette",
         "repliedBy"
        ],
        [
         "Annie53annette",
         "Hettman",
         "repliedBy"
        ],
        [
         "Annie53annette",
         "Annie53annette",
         "repliedBy"
        ],
        [
         "Annie53annette",
         "Hettman",
         "repliedBy"
        ],
        [
         "Annie53annette",
         "Annie53annette",
         "repliedBy"
        ],
        [
         "Annie53annette",
         "Hettman",
         "repliedBy"
        ],
        [
         "Annie53annette",
         "Annie53annette",
         "repliedBy"
        ],
        [
         "Annie53annette",
         "Hettman",
         "repliedBy"
        ],
        [
         "tieridge",
         "TammyBickel",
         "repliedBy"
        ],
        [
         "tieridge",
         "GuardAmerican",
         "repliedBy"
        ],
        [
         "nubiangod",
         "LOMcartel",
         "repliedBy"
        ],
        [
         "nubiangod",
         "nubiangod",
         "repliedBy"
        ],
        [
         "secretangentman",
         "UKBRIT",
         "repliedBy"
        ],
        [
         "secretangentman",
         "PePe2",
         "repliedBy"
        ],
        [
         "Bmacfucklibtars",
         "CyborgKnight",
         "repliedBy"
        ],
        [
         "Annie53annette",
         "UKBRIT",
         "repliedBy"
        ],
        [
         "Annie53annette",
         "Annie53annette",
         "repliedBy"
        ],
        [
         "Annie53annette",
         "Hettman",
         "repliedBy"
        ],
        [
         "Annie53annette",
         "Annie53annette",
         "repliedBy"
        ],
        [
         "Annie53annette",
         "Hettman",
         "repliedBy"
        ],
        [
         "Annie53annette",
         "Annie53annette",
         "repliedBy"
        ],
        [
         "Annie53annette",
         "Hettman",
         "repliedBy"
        ],
        [
         "RickyBobbySez",
         "Gunnar",
         "repliedBy"
        ],
        [
         "MacAndCheesy",
         "genophilia",
         "repliedBy"
        ],
        [
         "Aragorn",
         "Annie53annette",
         "repliedBy"
        ],
        [
         "Aragorn",
         "Aragorn",
         "repliedBy"
        ],
        [
         "Aragorn",
         "Annie53annette",
         "repliedBy"
        ],
        [
         "Aragorn",
         "Wifewithapurpose",
         "repliedBy"
        ],
        [
         "justspring",
         "TheRealDonaldTrump45",
         "repliedBy"
        ],
        [
         "justspring",
         "justspring",
         "repliedBy"
        ],
        [
         "justspring",
         "TheRealDonaldTrump45",
         "repliedBy"
        ],
        [
         "justspring",
         "justspring",
         "repliedBy"
        ]
       ],
       "datasetInfos": [],
       "dbfsResultPath": null,
       "isJsonSchema": true,
       "metadata": {},
       "overflow": true,
       "plotOptions": {
        "customPlotOptions": {},
        "displayType": "table",
        "pivotAggregation": null,
        "pivotColumns": null,
        "xColumns": null,
        "yColumns": null
       },
       "removedWidgets": [],
       "schema": [
        {
         "metadata": "{}",
         "name": "src",
         "type": "\"string\""
        },
        {
         "metadata": "{}",
         "name": "dst",
         "type": "\"string\""
        },
        {
         "metadata": "{}",
         "name": "relationship",
         "type": "\"string\""
        }
       ],
       "type": "table"
      }
     },
     "output_type": "display_data"
    }
   ],
   "source": [
    "display(network_graph.edges)"
   ]
  },
  {
   "cell_type": "code",
   "execution_count": 0,
   "metadata": {
    "application/vnd.databricks.v1+cell": {
     "inputWidgets": {},
     "nuid": "59a54f57-cf60-4277-a47b-a7f67b31e8f0",
     "showTitle": false,
     "title": ""
    }
   },
   "outputs": [
    {
     "data": {
      "text/html": [
       "<style scoped>\n",
       "  .ansiout {\n",
       "    display: block;\n",
       "    unicode-bidi: embed;\n",
       "    white-space: pre-wrap;\n",
       "    word-wrap: break-word;\n",
       "    word-break: break-all;\n",
       "    font-family: \"Source Code Pro\", \"Menlo\", monospace;;\n",
       "    font-size: 13px;\n",
       "    color: #555;\n",
       "    margin-left: 4px;\n",
       "    line-height: 19px;\n",
       "  }\n",
       "</style>\n",
       "<div class=\"ansiout\"></div>"
      ]
     },
     "metadata": {
      "application/vnd.databricks.v1+output": {
       "addedWidgets": {},
       "arguments": {},
       "data": "<div class=\"ansiout\"></div>",
       "datasetInfos": [],
       "metadata": {},
       "removedWidgets": [],
       "type": "html"
      }
     },
     "output_type": "display_data"
    }
   ],
   "source": [
    "# Checkpoint write\n",
    "edges_1.write.mode('overwrite').parquet(\"dbfs:/mnt/group12/graph/edges\")\n",
    "vertex.write.mode('overwrite').parquet(\"dbfs:/mnt/group12/graph/vertex\")"
   ]
  },
  {
   "cell_type": "code",
   "execution_count": 0,
   "metadata": {
    "application/vnd.databricks.v1+cell": {
     "inputWidgets": {},
     "nuid": "c244945f-03ee-405c-86b0-37a75347688f",
     "showTitle": false,
     "title": ""
    }
   },
   "outputs": [
    {
     "data": {
      "text/html": [
       "<style scoped>\n",
       "  .ansiout {\n",
       "    display: block;\n",
       "    unicode-bidi: embed;\n",
       "    white-space: pre-wrap;\n",
       "    word-wrap: break-word;\n",
       "    word-break: break-all;\n",
       "    font-family: \"Source Code Pro\", \"Menlo\", monospace;;\n",
       "    font-size: 13px;\n",
       "    color: #555;\n",
       "    margin-left: 4px;\n",
       "    line-height: 19px;\n",
       "  }\n",
       "</style>\n",
       "<div class=\"ansiout\"></div>"
      ]
     },
     "metadata": {
      "application/vnd.databricks.v1+output": {
       "addedWidgets": {},
       "arguments": {},
       "data": "<div class=\"ansiout\"></div>",
       "datasetInfos": [],
       "metadata": {},
       "removedWidgets": [],
       "type": "html"
      }
     },
     "output_type": "display_data"
    },
    {
     "data": {
      "text/html": [
       "<style scoped>\n",
       "  .ansiout {\n",
       "    display: block;\n",
       "    unicode-bidi: embed;\n",
       "    white-space: pre-wrap;\n",
       "    word-wrap: break-word;\n",
       "    word-break: break-all;\n",
       "    font-family: \"Source Code Pro\", \"Menlo\", monospace;;\n",
       "    font-size: 13px;\n",
       "    color: #555;\n",
       "    margin-left: 4px;\n",
       "    line-height: 19px;\n",
       "  }\n",
       "</style>\n",
       "<div class=\"ansiout\"><span class=\"ansi-red-fg\">---------------------------------------------------------------------------</span>\n",
       "<span class=\"ansi-red-fg\">NameError</span>                                 Traceback (most recent call last)\n",
       "<span class=\"ansi-green-fg\">&lt;command-4128460820458874&gt;</span> in <span class=\"ansi-cyan-fg\">&lt;module&gt;</span>\n",
       "<span class=\"ansi-green-intense-fg ansi-bold\">      1</span> <span class=\"ansi-red-fg\"># connected conponents</span>\n",
       "<span class=\"ansi-green-intense-fg ansi-bold\">      2</span> sc<span class=\"ansi-blue-fg\">.</span>setCheckpointDir<span class=\"ansi-blue-fg\">(</span><span class=\"ansi-blue-fg\">&#34;/tmp/graphframes-example-connected-components&#34;</span><span class=\"ansi-blue-fg\">)</span>\n",
       "<span class=\"ansi-green-fg\">----&gt; 3</span><span class=\"ansi-red-fg\"> </span>result_CC <span class=\"ansi-blue-fg\">=</span> network_graph<span class=\"ansi-blue-fg\">.</span>connectedComponents<span class=\"ansi-blue-fg\">(</span><span class=\"ansi-blue-fg\">)</span>\n",
       "<span class=\"ansi-green-intense-fg ansi-bold\">      4</span> result_CC<span class=\"ansi-blue-fg\">.</span>select<span class=\"ansi-blue-fg\">(</span><span class=\"ansi-blue-fg\">&#34;id&#34;</span><span class=\"ansi-blue-fg\">,</span> <span class=\"ansi-blue-fg\">&#34;component&#34;</span><span class=\"ansi-blue-fg\">)</span><span class=\"ansi-blue-fg\">.</span>orderBy<span class=\"ansi-blue-fg\">(</span><span class=\"ansi-blue-fg\">&#34;component&#34;</span><span class=\"ansi-blue-fg\">)</span><span class=\"ansi-blue-fg\">.</span>show<span class=\"ansi-blue-fg\">(</span><span class=\"ansi-blue-fg\">)</span>\n",
       "\n",
       "<span class=\"ansi-red-fg\">NameError</span>: name &#39;network_graph&#39; is not defined</div>"
      ]
     },
     "metadata": {
      "application/vnd.databricks.v1+output": {
       "arguments": {},
       "data": "<div class=\"ansiout\"><span class=\"ansi-red-fg\">---------------------------------------------------------------------------</span>\n<span class=\"ansi-red-fg\">NameError</span>                                 Traceback (most recent call last)\n<span class=\"ansi-green-fg\">&lt;command-4128460820458874&gt;</span> in <span class=\"ansi-cyan-fg\">&lt;module&gt;</span>\n<span class=\"ansi-green-intense-fg ansi-bold\">      1</span> <span class=\"ansi-red-fg\"># connected conponents</span>\n<span class=\"ansi-green-intense-fg ansi-bold\">      2</span> sc<span class=\"ansi-blue-fg\">.</span>setCheckpointDir<span class=\"ansi-blue-fg\">(</span><span class=\"ansi-blue-fg\">&#34;/tmp/graphframes-example-connected-components&#34;</span><span class=\"ansi-blue-fg\">)</span>\n<span class=\"ansi-green-fg\">----&gt; 3</span><span class=\"ansi-red-fg\"> </span>result_CC <span class=\"ansi-blue-fg\">=</span> network_graph<span class=\"ansi-blue-fg\">.</span>connectedComponents<span class=\"ansi-blue-fg\">(</span><span class=\"ansi-blue-fg\">)</span>\n<span class=\"ansi-green-intense-fg ansi-bold\">      4</span> result_CC<span class=\"ansi-blue-fg\">.</span>select<span class=\"ansi-blue-fg\">(</span><span class=\"ansi-blue-fg\">&#34;id&#34;</span><span class=\"ansi-blue-fg\">,</span> <span class=\"ansi-blue-fg\">&#34;component&#34;</span><span class=\"ansi-blue-fg\">)</span><span class=\"ansi-blue-fg\">.</span>orderBy<span class=\"ansi-blue-fg\">(</span><span class=\"ansi-blue-fg\">&#34;component&#34;</span><span class=\"ansi-blue-fg\">)</span><span class=\"ansi-blue-fg\">.</span>show<span class=\"ansi-blue-fg\">(</span><span class=\"ansi-blue-fg\">)</span>\n\n<span class=\"ansi-red-fg\">NameError</span>: name &#39;network_graph&#39; is not defined</div>",
       "errorSummary": "<span class=\"ansi-red-fg\">NameError</span>: name &#39;network_graph&#39; is not defined",
       "errorTraceType": "html",
       "metadata": {},
       "type": "ipynbError"
      }
     },
     "output_type": "display_data"
    }
   ],
   "source": [
    "# connected conponents\n",
    "sc.setCheckpointDir(\"/tmp/graphframes-example-connected-components\")\n",
    "result_CC = network_graph.connectedComponents()\n",
    "result_CC.select(\"id\", \"component\").orderBy(\"component\").show()\n"
   ]
  },
  {
   "cell_type": "code",
   "execution_count": 0,
   "metadata": {
    "application/vnd.databricks.v1+cell": {
     "inputWidgets": {},
     "nuid": "7e8cf188-f56e-4e4f-a622-76f2c06f17bc",
     "showTitle": false,
     "title": ""
    }
   },
   "outputs": [
    {
     "data": {
      "text/html": [
       "<style scoped>\n",
       "  .ansiout {\n",
       "    display: block;\n",
       "    unicode-bidi: embed;\n",
       "    white-space: pre-wrap;\n",
       "    word-wrap: break-word;\n",
       "    word-break: break-all;\n",
       "    font-family: \"Source Code Pro\", \"Menlo\", monospace;;\n",
       "    font-size: 13px;\n",
       "    color: #555;\n",
       "    margin-left: 4px;\n",
       "    line-height: 19px;\n",
       "  }\n",
       "</style>\n",
       "<div class=\"ansiout\">+-------------+-----+\n",
       "    component|count|\n",
       "+-------------+-----+\n",
       " 712964571215|    1|\n",
       "1245540515846|    1|\n",
       " 326417514573|    1|\n",
       " 412316860454|    1|\n",
       " 455266533470|    2|\n",
       " 231928234012|    2|\n",
       "            0|16813|\n",
       " 601295421448|    2|\n",
       " 687194767386|    1|\n",
       " 386547056670|    2|\n",
       "1443109011461|    1|\n",
       "1563368095809|    1|\n",
       "  17179869256|    1|\n",
       " 352187318307|    2|\n",
       "1185410973711|    2|\n",
       "1099511627833|    1|\n",
       " 309237645338|    2|\n",
       "1116691496962|    2|\n",
       "1460288880694|    1|\n",
       " 360777252926|    2|\n",
       "+-------------+-----+\n",
       "only showing top 20 rows\n",
       "\n",
       "</div>"
      ]
     },
     "metadata": {
      "application/vnd.databricks.v1+output": {
       "addedWidgets": {},
       "arguments": {},
       "data": "<div class=\"ansiout\">+-------------+-----+\n|    component|count|\n+-------------+-----+\n| 712964571215|    1|\n|1245540515846|    1|\n| 326417514573|    1|\n| 412316860454|    1|\n| 455266533470|    2|\n| 231928234012|    2|\n|            0|16813|\n| 601295421448|    2|\n| 687194767386|    1|\n| 386547056670|    2|\n|1443109011461|    1|\n|1563368095809|    1|\n|  17179869256|    1|\n| 352187318307|    2|\n|1185410973711|    2|\n|1099511627833|    1|\n| 309237645338|    2|\n|1116691496962|    2|\n|1460288880694|    1|\n| 360777252926|    2|\n+-------------+-----+\nonly showing top 20 rows\n\n</div>",
       "datasetInfos": [],
       "metadata": {},
       "removedWidgets": [],
       "type": "html"
      }
     },
     "output_type": "display_data"
    }
   ],
   "source": [
    "result_CC.select(\"id\", \"component\").groupBy(\"component\").count().show()"
   ]
  },
  {
   "cell_type": "code",
   "execution_count": 0,
   "metadata": {
    "application/vnd.databricks.v1+cell": {
     "inputWidgets": {},
     "nuid": "1dcd882d-72a6-4e4f-a97b-3a29c3078d93",
     "showTitle": false,
     "title": ""
    }
   },
   "outputs": [
    {
     "data": {
      "text/html": [
       "<style scoped>\n",
       "  .ansiout {\n",
       "    display: block;\n",
       "    unicode-bidi: embed;\n",
       "    white-space: pre-wrap;\n",
       "    word-wrap: break-word;\n",
       "    word-break: break-all;\n",
       "    font-family: \"Source Code Pro\", \"Menlo\", monospace;;\n",
       "    font-size: 13px;\n",
       "    color: #555;\n",
       "    margin-left: 4px;\n",
       "    line-height: 19px;\n",
       "  }\n",
       "</style>\n",
       "<div class=\"ansiout\"></div>"
      ]
     },
     "metadata": {
      "application/vnd.databricks.v1+output": {
       "addedWidgets": {},
       "arguments": {},
       "data": "<div class=\"ansiout\"></div>",
       "datasetInfos": [],
       "metadata": {},
       "removedWidgets": [],
       "type": "html"
      }
     },
     "output_type": "display_data"
    }
   ],
   "source": [
    "# Giant component filtering\n",
    "vertex_Filtered = result_CC.select('id').filter(F.col('component') == 0)"
   ]
  },
  {
   "cell_type": "code",
   "execution_count": 0,
   "metadata": {
    "application/vnd.databricks.v1+cell": {
     "inputWidgets": {},
     "nuid": "471aade8-1299-4e9e-95ca-bfacfcd96079",
     "showTitle": false,
     "title": ""
    }
   },
   "outputs": [
    {
     "data": {
      "text/html": [
       "<style scoped>\n",
       "  .ansiout {\n",
       "    display: block;\n",
       "    unicode-bidi: embed;\n",
       "    white-space: pre-wrap;\n",
       "    word-wrap: break-word;\n",
       "    word-break: break-all;\n",
       "    font-family: \"Source Code Pro\", \"Menlo\", monospace;;\n",
       "    font-size: 13px;\n",
       "    color: #555;\n",
       "    margin-left: 4px;\n",
       "    line-height: 19px;\n",
       "  }\n",
       "</style>\n",
       "<div class=\"ansiout\">Out[21]: 16813</div>"
      ]
     },
     "metadata": {
      "application/vnd.databricks.v1+output": {
       "addedWidgets": {},
       "arguments": {},
       "data": "<div class=\"ansiout\">Out[21]: 16813</div>",
       "datasetInfos": [],
       "metadata": {},
       "removedWidgets": [],
       "type": "html"
      }
     },
     "output_type": "display_data"
    }
   ],
   "source": [
    "vertex_Filtered.count()"
   ]
  },
  {
   "cell_type": "code",
   "execution_count": 0,
   "metadata": {
    "application/vnd.databricks.v1+cell": {
     "inputWidgets": {},
     "nuid": "32d67a43-1460-44eb-9c98-083873662875",
     "showTitle": false,
     "title": ""
    }
   },
   "outputs": [
    {
     "data": {
      "text/html": [
       "<style scoped>\n",
       "  .ansiout {\n",
       "    display: block;\n",
       "    unicode-bidi: embed;\n",
       "    white-space: pre-wrap;\n",
       "    word-wrap: break-word;\n",
       "    word-break: break-all;\n",
       "    font-family: \"Source Code Pro\", \"Menlo\", monospace;;\n",
       "    font-size: 13px;\n",
       "    color: #555;\n",
       "    margin-left: 4px;\n",
       "    line-height: 19px;\n",
       "  }\n",
       "</style>\n",
       "<div class=\"ansiout\"></div>"
      ]
     },
     "metadata": {
      "application/vnd.databricks.v1+output": {
       "addedWidgets": {},
       "arguments": {},
       "data": "<div class=\"ansiout\"></div>",
       "datasetInfos": [],
       "metadata": {},
       "removedWidgets": [],
       "type": "html"
      }
     },
     "output_type": "display_data"
    }
   ],
   "source": [
    "edges_Filtered = edges_1.join(vertex_Filtered, edges_1.src == vertex_Filtered.id, \"inner\" )"
   ]
  },
  {
   "cell_type": "code",
   "execution_count": 0,
   "metadata": {
    "application/vnd.databricks.v1+cell": {
     "inputWidgets": {},
     "nuid": "c34ffc99-3d77-48af-97c8-84a4e11dc90d",
     "showTitle": false,
     "title": ""
    }
   },
   "outputs": [
    {
     "data": {
      "text/html": [
       "<style scoped>\n",
       "  .ansiout {\n",
       "    display: block;\n",
       "    unicode-bidi: embed;\n",
       "    white-space: pre-wrap;\n",
       "    word-wrap: break-word;\n",
       "    word-break: break-all;\n",
       "    font-family: \"Source Code Pro\", \"Menlo\", monospace;;\n",
       "    font-size: 13px;\n",
       "    color: #555;\n",
       "    margin-left: 4px;\n",
       "    line-height: 19px;\n",
       "  }\n",
       "</style>\n",
       "<div class=\"ansiout\">Out[23]: 1091995</div>"
      ]
     },
     "metadata": {
      "application/vnd.databricks.v1+output": {
       "addedWidgets": {},
       "arguments": {},
       "data": "<div class=\"ansiout\">Out[23]: 1091995</div>",
       "datasetInfos": [],
       "metadata": {},
       "removedWidgets": [],
       "type": "html"
      }
     },
     "output_type": "display_data"
    }
   ],
   "source": [
    "edges_Filtered.count()"
   ]
  },
  {
   "cell_type": "code",
   "execution_count": 0,
   "metadata": {
    "application/vnd.databricks.v1+cell": {
     "inputWidgets": {},
     "nuid": "be66c890-23ee-475d-ba9e-cd8ac9cf249f",
     "showTitle": false,
     "title": ""
    }
   },
   "outputs": [
    {
     "data": {
      "text/html": [
       "<style scoped>\n",
       "  .ansiout {\n",
       "    display: block;\n",
       "    unicode-bidi: embed;\n",
       "    white-space: pre-wrap;\n",
       "    word-wrap: break-word;\n",
       "    word-break: break-all;\n",
       "    font-family: \"Source Code Pro\", \"Menlo\", monospace;;\n",
       "    font-size: 13px;\n",
       "    color: #555;\n",
       "    margin-left: 4px;\n",
       "    line-height: 19px;\n",
       "  }\n",
       "</style>\n",
       "<div class=\"ansiout\"></div>"
      ]
     },
     "metadata": {
      "application/vnd.databricks.v1+output": {
       "addedWidgets": {},
       "arguments": {},
       "data": "<div class=\"ansiout\"></div>",
       "datasetInfos": [],
       "metadata": {},
       "removedWidgets": [],
       "type": "html"
      }
     },
     "output_type": "display_data"
    }
   ],
   "source": [
    "# Checkpoint output\n",
    "vertex_Filtered.write.mode('overwrite').parquet(\"dbfs:/mnt/group12/graph/vertex_filtered\")\n",
    "edges_Filtered.write.mode('overwrite').parquet(\"dbfs:/mnt/group12/graph/edges_filtered\")\n"
   ]
  },
  {
   "cell_type": "code",
   "execution_count": 0,
   "metadata": {
    "application/vnd.databricks.v1+cell": {
     "inputWidgets": {},
     "nuid": "0babcdf4-b0c8-44a3-a3f6-f9d9b2c6248a",
     "showTitle": false,
     "title": ""
    }
   },
   "outputs": [
    {
     "data": {
      "text/html": [
       "<style scoped>\n",
       "  .ansiout {\n",
       "    display: block;\n",
       "    unicode-bidi: embed;\n",
       "    white-space: pre-wrap;\n",
       "    word-wrap: break-word;\n",
       "    word-break: break-all;\n",
       "    font-family: \"Source Code Pro\", \"Menlo\", monospace;;\n",
       "    font-size: 13px;\n",
       "    color: #555;\n",
       "    margin-left: 4px;\n",
       "    line-height: 19px;\n",
       "  }\n",
       "</style>\n",
       "<div class=\"ansiout\"></div>"
      ]
     },
     "metadata": {
      "application/vnd.databricks.v1+output": {
       "addedWidgets": {},
       "arguments": {},
       "data": "<div class=\"ansiout\"></div>",
       "datasetInfos": [],
       "metadata": {},
       "removedWidgets": [],
       "type": "html"
      }
     },
     "output_type": "display_data"
    }
   ],
   "source": [
    "# Checkpoint reading\n",
    "vertex_Filtered = spark.read.option(\"header\",\"true\").parquet(\"dbfs:/mnt/group12/graph/vertex_filtered\")\n",
    "edges_Filtered = spark.read.option(\"header\",\"true\").parquet(\"dbfs:/mnt/group12/graph/edges_filtered\")"
   ]
  },
  {
   "cell_type": "code",
   "execution_count": 0,
   "metadata": {
    "application/vnd.databricks.v1+cell": {
     "inputWidgets": {},
     "nuid": "1c68ce18-15fc-4ec3-b7b2-14bb5f76697c",
     "showTitle": false,
     "title": ""
    }
   },
   "outputs": [
    {
     "data": {
      "text/html": [
       "<style scoped>\n",
       "  .ansiout {\n",
       "    display: block;\n",
       "    unicode-bidi: embed;\n",
       "    white-space: pre-wrap;\n",
       "    word-wrap: break-word;\n",
       "    word-break: break-all;\n",
       "    font-family: \"Source Code Pro\", \"Menlo\", monospace;;\n",
       "    font-size: 13px;\n",
       "    color: #555;\n",
       "    margin-left: 4px;\n",
       "    line-height: 19px;\n",
       "  }\n",
       "</style>\n",
       "<div class=\"ansiout\"></div>"
      ]
     },
     "metadata": {
      "application/vnd.databricks.v1+output": {
       "addedWidgets": {},
       "arguments": {},
       "data": "<div class=\"ansiout\"></div>",
       "datasetInfos": [],
       "metadata": {},
       "removedWidgets": [],
       "type": "html"
      }
     },
     "output_type": "display_data"
    }
   ],
   "source": [
    "#recreate graph with filtered vertex and edges\n",
    "graph_Filtered = GraphFrame(vertex_Filtered, edges_Filtered)"
   ]
  },
  {
   "cell_type": "code",
   "execution_count": 0,
   "metadata": {
    "application/vnd.databricks.v1+cell": {
     "inputWidgets": {},
     "nuid": "15afa43b-720e-45be-974f-afcdbfe6efb0",
     "showTitle": false,
     "title": ""
    }
   },
   "outputs": [
    {
     "data": {
      "text/html": [
       "<style scoped>\n",
       "  .ansiout {\n",
       "    display: block;\n",
       "    unicode-bidi: embed;\n",
       "    white-space: pre-wrap;\n",
       "    word-wrap: break-word;\n",
       "    word-break: break-all;\n",
       "    font-family: \"Source Code Pro\", \"Menlo\", monospace;;\n",
       "    font-size: 13px;\n",
       "    color: #555;\n",
       "    margin-left: 4px;\n",
       "    line-height: 19px;\n",
       "  }\n",
       "</style>\n",
       "<div class=\"ansiout\"></div>"
      ]
     },
     "metadata": {
      "application/vnd.databricks.v1+output": {
       "addedWidgets": {},
       "arguments": {},
       "data": "<div class=\"ansiout\"></div>",
       "datasetInfos": [],
       "metadata": {},
       "removedWidgets": [],
       "type": "html"
      }
     },
     "output_type": "display_data"
    }
   ],
   "source": [
    "# Triangle count\n",
    "results = graph_Filtered.triangleCount()"
   ]
  },
  {
   "cell_type": "code",
   "execution_count": 0,
   "metadata": {
    "application/vnd.databricks.v1+cell": {
     "inputWidgets": {},
     "nuid": "becf1ca6-2396-462e-b78e-72b9c0367eea",
     "showTitle": false,
     "title": ""
    }
   },
   "outputs": [
    {
     "data": {
      "text/html": [
       "<style scoped>\n",
       "  .table-result-container {\n",
       "    max-height: 300px;\n",
       "    overflow: auto;\n",
       "  }\n",
       "  table, th, td {\n",
       "    border: 1px solid black;\n",
       "    border-collapse: collapse;\n",
       "  }\n",
       "  th, td {\n",
       "    padding: 5px;\n",
       "  }\n",
       "  th {\n",
       "    text-align: left;\n",
       "  }\n",
       "</style><div class='table-result-container'><table class='table-result'><thead style='background-color: white'><tr><th>summary</th><th>count</th><th>id</th></tr></thead><tbody><tr><td>count</td><td>16813</td><td>16813</td></tr><tr><td>mean</td><td>336.7469220246238</td><td>5.866471030204233E17</td></tr><tr><td>stddev</td><td>2130.444869957944</td><td>3.1591913322235663E18</td></tr><tr><td>min</td><td>0</td><td>-DeepThought-</td></tr><tr><td>max</td><td>49427</td><td>zyalia6tz</td></tr></tbody></table></div>"
      ]
     },
     "metadata": {
      "application/vnd.databricks.v1+output": {
       "addedWidgets": {},
       "aggData": [],
       "aggError": "",
       "aggOverflow": false,
       "aggSchema": [],
       "aggSeriesLimitReached": false,
       "aggType": "",
       "arguments": {},
       "columnCustomDisplayInfos": {},
       "data": [
        [
         "count",
         "16813",
         "16813"
        ],
        [
         "mean",
         "336.7469220246238",
         "5.866471030204233E17"
        ],
        [
         "stddev",
         "2130.444869957944",
         "3.1591913322235663E18"
        ],
        [
         "min",
         "0",
         "-DeepThought-"
        ],
        [
         "max",
         "49427",
         "zyalia6tz"
        ]
       ],
       "datasetInfos": [],
       "dbfsResultPath": null,
       "isJsonSchema": true,
       "metadata": {},
       "overflow": false,
       "plotOptions": {
        "customPlotOptions": {},
        "displayType": "table",
        "pivotAggregation": null,
        "pivotColumns": null,
        "xColumns": null,
        "yColumns": null
       },
       "removedWidgets": [],
       "schema": [
        {
         "metadata": "{}",
         "name": "summary",
         "type": "\"string\""
        },
        {
         "metadata": "{}",
         "name": "count",
         "type": "\"string\""
        },
        {
         "metadata": "{}",
         "name": "id",
         "type": "\"string\""
        }
       ],
       "type": "table"
      }
     },
     "output_type": "display_data"
    }
   ],
   "source": [
    "display(results.describe())"
   ]
  },
  {
   "cell_type": "code",
   "execution_count": 0,
   "metadata": {
    "application/vnd.databricks.v1+cell": {
     "inputWidgets": {},
     "nuid": "20822c26-3a7c-4b6e-9772-4e9ee169816f",
     "showTitle": false,
     "title": ""
    }
   },
   "outputs": [
    {
     "data": {
      "text/html": [
       "<style scoped>\n",
       "  .ansiout {\n",
       "    display: block;\n",
       "    unicode-bidi: embed;\n",
       "    white-space: pre-wrap;\n",
       "    word-wrap: break-word;\n",
       "    word-break: break-all;\n",
       "    font-family: \"Source Code Pro\", \"Menlo\", monospace;;\n",
       "    font-size: 13px;\n",
       "    color: #555;\n",
       "    margin-left: 4px;\n",
       "    line-height: 19px;\n",
       "  }\n",
       "</style>\n",
       "<div class=\"ansiout\"></div>"
      ]
     },
     "metadata": {
      "application/vnd.databricks.v1+output": {
       "addedWidgets": {},
       "arguments": {},
       "data": "<div class=\"ansiout\"></div>",
       "datasetInfos": [],
       "metadata": {},
       "removedWidgets": [],
       "type": "html"
      }
     },
     "output_type": "display_data"
    }
   ],
   "source": [
    "# Run PageRank until convergence to tolerance \"tol\".\n",
    "results_pageRank = graph_Filtered.pageRank(resetProbability=0.15, tol=0.01)"
   ]
  },
  {
   "cell_type": "code",
   "execution_count": 0,
   "metadata": {
    "application/vnd.databricks.v1+cell": {
     "inputWidgets": {},
     "nuid": "7e228f06-8b01-4d18-b8e3-0353b71d47ae",
     "showTitle": false,
     "title": ""
    }
   },
   "outputs": [
    {
     "data": {
      "text/html": [
       "<style scoped>\n",
       "  .ansiout {\n",
       "    display: block;\n",
       "    unicode-bidi: embed;\n",
       "    white-space: pre-wrap;\n",
       "    word-wrap: break-word;\n",
       "    word-break: break-all;\n",
       "    font-family: \"Source Code Pro\", \"Menlo\", monospace;;\n",
       "    font-size: 13px;\n",
       "    color: #555;\n",
       "    margin-left: 4px;\n",
       "    line-height: 19px;\n",
       "  }\n",
       "</style>\n",
       "<div class=\"ansiout\"></div>"
      ]
     },
     "metadata": {
      "application/vnd.databricks.v1+output": {
       "addedWidgets": {},
       "arguments": {},
       "data": "<div class=\"ansiout\"></div>",
       "datasetInfos": [],
       "metadata": {},
       "removedWidgets": [],
       "type": "html"
      }
     },
     "output_type": "display_data"
    }
   ],
   "source": [
    "edges_withWeight = results_pageRank.edges.select(\"src\", \"dst\", \"weight\")"
   ]
  },
  {
   "cell_type": "code",
   "execution_count": 0,
   "metadata": {
    "application/vnd.databricks.v1+cell": {
     "inputWidgets": {},
     "nuid": "cd6f810c-c323-4ac9-bf73-2a860538ef4f",
     "showTitle": false,
     "title": ""
    }
   },
   "outputs": [
    {
     "data": {
      "text/html": [
       "<style scoped>\n",
       "  .ansiout {\n",
       "    display: block;\n",
       "    unicode-bidi: embed;\n",
       "    white-space: pre-wrap;\n",
       "    word-wrap: break-word;\n",
       "    word-break: break-all;\n",
       "    font-family: \"Source Code Pro\", \"Menlo\", monospace;;\n",
       "    font-size: 13px;\n",
       "    color: #555;\n",
       "    margin-left: 4px;\n",
       "    line-height: 19px;\n",
       "  }\n",
       "</style>\n",
       "<div class=\"ansiout\"></div>"
      ]
     },
     "metadata": {
      "application/vnd.databricks.v1+output": {
       "addedWidgets": {},
       "arguments": {},
       "data": "<div class=\"ansiout\"></div>",
       "datasetInfos": [],
       "metadata": {},
       "removedWidgets": [],
       "type": "html"
      }
     },
     "output_type": "display_data"
    }
   ],
   "source": [
    "results_withoutSort = results_pageRank.vertices.select(\"id\", \"pagerank\")"
   ]
  },
  {
   "cell_type": "code",
   "execution_count": 0,
   "metadata": {
    "application/vnd.databricks.v1+cell": {
     "inputWidgets": {},
     "nuid": "fe8e8db0-ec9c-43fd-af1d-bd0efe81196b",
     "showTitle": false,
     "title": ""
    }
   },
   "outputs": [
    {
     "data": {
      "text/html": [
       "<style scoped>\n",
       "  .ansiout {\n",
       "    display: block;\n",
       "    unicode-bidi: embed;\n",
       "    white-space: pre-wrap;\n",
       "    word-wrap: break-word;\n",
       "    word-break: break-all;\n",
       "    font-family: \"Source Code Pro\", \"Menlo\", monospace;;\n",
       "    font-size: 13px;\n",
       "    color: #555;\n",
       "    margin-left: 4px;\n",
       "    line-height: 19px;\n",
       "  }\n",
       "</style>\n",
       "<div class=\"ansiout\"></div>"
      ]
     },
     "metadata": {
      "application/vnd.databricks.v1+output": {
       "addedWidgets": {},
       "arguments": {},
       "data": "<div class=\"ansiout\"></div>",
       "datasetInfos": [],
       "metadata": {},
       "removedWidgets": [],
       "type": "html"
      }
     },
     "output_type": "display_data"
    }
   ],
   "source": [
    "results_sortedByRank = results_withoutSort.sort(F.col('pagerank').desc())"
   ]
  },
  {
   "cell_type": "code",
   "execution_count": 0,
   "metadata": {
    "application/vnd.databricks.v1+cell": {
     "inputWidgets": {},
     "nuid": "84055c83-631d-4c0f-aa01-046850b0e10d",
     "showTitle": false,
     "title": ""
    }
   },
   "outputs": [
    {
     "data": {
      "text/html": [
       "<style scoped>\n",
       "  .ansiout {\n",
       "    display: block;\n",
       "    unicode-bidi: embed;\n",
       "    white-space: pre-wrap;\n",
       "    word-wrap: break-word;\n",
       "    word-break: break-all;\n",
       "    font-family: \"Source Code Pro\", \"Menlo\", monospace;;\n",
       "    font-size: 13px;\n",
       "    color: #555;\n",
       "    margin-left: 4px;\n",
       "    line-height: 19px;\n",
       "  }\n",
       "</style>\n",
       "<div class=\"ansiout\"></div>"
      ]
     },
     "metadata": {
      "application/vnd.databricks.v1+output": {
       "addedWidgets": {},
       "arguments": {},
       "data": "<div class=\"ansiout\"></div>",
       "datasetInfos": [],
       "metadata": {},
       "removedWidgets": [],
       "type": "html"
      }
     },
     "output_type": "display_data"
    }
   ],
   "source": [
    "# Pagerank checkpoint output\n",
    "results_sortedByRank.write.mode('overwrite').parquet(\"dbfs:/mnt/group12/graph/pagerank\")"
   ]
  },
  {
   "cell_type": "code",
   "execution_count": 0,
   "metadata": {
    "application/vnd.databricks.v1+cell": {
     "inputWidgets": {},
     "nuid": "c4855a64-8c42-4c6e-98ea-4a33cb744d39",
     "showTitle": false,
     "title": ""
    }
   },
   "outputs": [
    {
     "data": {
      "text/html": [
       "<style scoped>\n",
       "  .table-result-container {\n",
       "    max-height: 300px;\n",
       "    overflow: auto;\n",
       "  }\n",
       "  table, th, td {\n",
       "    border: 1px solid black;\n",
       "    border-collapse: collapse;\n",
       "  }\n",
       "  th, td {\n",
       "    padding: 5px;\n",
       "  }\n",
       "  th {\n",
       "    text-align: left;\n",
       "  }\n",
       "</style><div class='table-result-container'><table class='table-result'><thead style='background-color: white'><tr><th>id</th><th>label</th></tr></thead><tbody><tr><td>LyaNichol</td><td>26</td></tr><tr><td>Nanatchi</td><td>29</td></tr><tr><td>rm</td><td>65</td></tr><tr><td>Imokurnt</td><td>19</td></tr><tr><td>Wineyards</td><td>54</td></tr><tr><td>BalaamsAss</td><td>0</td></tr><tr><td>Klatuu</td><td>22</td></tr><tr><td>DeoVindice</td><td>7</td></tr><tr><td>REVOLUTION2017</td><td>34</td></tr><tr><td>Tweetest_boi</td><td>50</td></tr><tr><td>greyhat63</td><td>57</td></tr><tr><td>Perspicacious01</td><td>32</td></tr><tr><td>Slammer64</td><td>326417514580</td></tr><tr><td>PalmerStoat</td><td>31</td></tr><tr><td>Rockee1</td><td>39</td></tr><tr><td>LibertyRobin</td><td>25</td></tr><tr><td>DeanNestor7</td><td>6</td></tr><tr><td>yosemitedyess</td><td>68</td></tr><tr><td>leadguitar</td><td>58</td></tr><tr><td>Evenstar</td><td>9</td></tr><tr><td>MYBEVY</td><td>27</td></tr><tr><td>qoheleth</td><td>63</td></tr><tr><td>Wakeup_pl</td><td>51</td></tr><tr><td>gilligan</td><td>56</td></tr><tr><td>Westernmutt</td><td>52</td></tr><tr><td>Hister</td><td>17</td></tr><tr><td>SaRaAshcraft</td><td>41</td></tr><tr><td>Mera1506</td><td>28</td></tr><tr><td>ProudPrimate</td><td>33</td></tr><tr><td>Curtis_Goodnight</td><td>5</td></tr><tr><td>BradBarnhardSho</td><td>1</td></tr><tr><td>FILMCRITHULK</td><td>10</td></tr><tr><td>Troyb</td><td>48</td></tr><tr><td>takeoutthefeds68</td><td>67</td></tr><tr><td>Smkilburn</td><td>44</td></tr><tr><td>mistyrain303</td><td>61</td></tr><tr><td>CW1</td><td>3</td></tr><tr><td>RealMaggieL</td><td>37</td></tr><tr><td>GSMenace</td><td>12</td></tr><tr><td>bbarian</td><td>55</td></tr><tr><td>DrEzekiel</td><td>8</td></tr><tr><td>nimajneb</td><td>62</td></tr><tr><td>Freethinker14</td><td>11</td></tr><tr><td>Tuxedojoe</td><td>326417514580</td></tr><tr><td>Rabbidsith</td><td>35</td></tr><tr><td>BucketHead41391</td><td>2</td></tr><tr><td>saltykontinuum</td><td>66</td></tr><tr><td>CajunTexan</td><td>4</td></tr><tr><td>GertCornelis</td><td>13</td></tr><tr><td>RacMusic</td><td>36</td></tr><tr><td>Horata</td><td>18</td></tr><tr><td>GiovanniDannato</td><td>14</td></tr><tr><td>JustAnotherUsername</td><td>21</td></tr><tr><td>mezzo</td><td>59</td></tr><tr><td>GlennHDuncan</td><td>15</td></tr><tr><td>RecoveringExistentialist</td><td>38</td></tr><tr><td>OWilkinson</td><td>30</td></tr><tr><td>SimonDeMontfort</td><td>42</td></tr><tr><td>LedaSwann</td><td>23</td></tr><tr><td>TheStateofTexas</td><td>46</td></tr><tr><td>Joshmeister</td><td>20</td></tr><tr><td>mikeyroar</td><td>60</td></tr><tr><td>Rumpel</td><td>40</td></tr><tr><td>HatchetMan</td><td>16</td></tr><tr><td>randymelder</td><td>64</td></tr><tr><td>Steadman2030</td><td>45</td></tr><tr><td>TooChainz</td><td>47</td></tr><tr><td>WhiteMail3678</td><td>53</td></tr><tr><td>LegalLolicon</td><td>24</td></tr><tr><td>tillietwit</td><td>8589934658</td></tr><tr><td>Awakening950</td><td>8589934592</td></tr><tr><td>TomCruise1488</td><td>8589934627</td></tr><tr><td>ClaraBow62</td><td>8589934596</td></tr><tr><td>DrFred57</td><td>8589934599</td></tr><tr><td>destr0yer</td><td>8589934637</td></tr><tr><td>sherbz</td><td>8589934653</td></tr><tr><td>DeWitteGeuzen</td><td>8589934598</td></tr><tr><td>rogerrocket</td><td>8589934652</td></tr><tr><td>RealPhantomLibertarian</td><td>8589934622</td></tr><tr><td>hsteggles</td><td>8589934641</td></tr><tr><td>OuttaTheBoxMarketing</td><td>8589934616</td></tr><tr><td>hunterkyke</td><td>8589934642</td></tr><tr><td>TXStaysRed</td><td>8589934624</td></tr><tr><td>commando101</td><td>8589934636</td></tr><tr><td>CSIcop</td><td>8589934593</td></tr><tr><td>Legacy_Redeemer</td><td>8589934607</td></tr><tr><td>andrewcolomy</td><td>8589934632</td></tr><tr><td>OutofStep503</td><td>8589934615</td></tr><tr><td>UnitedDixieWhiteKnights</td><td>8589934628</td></tr><tr><td>LEHCIM</td><td>8589934605</td></tr><tr><td>notch</td><td>8589934648</td></tr><tr><td>OPRM</td><td>8589934613</td></tr><tr><td>unowen</td><td>8589934659</td></tr><tr><td>MizDi</td><td>8589934610</td></tr><tr><td>Mollytwo</td><td>8589934611</td></tr><tr><td>thebigcomic</td><td>8589934657</td></tr><tr><td>Gunzilla</td><td>8589934603</td></tr><tr><td>bobadobalina</td><td>8589934635</td></tr><tr><td>NormKarsh</td><td>8589934612</td></tr><tr><td>Valerius</td><td>8589934629</td></tr><tr><td>lilmac_d</td><td>8589934645</td></tr><tr><td>m_h_a_r</td><td>8589934646</td></tr><tr><td>jaklumen</td><td>8589934643</td></tr><tr><td>nigga</td><td>8589934647</td></tr><tr><td>pmjones</td><td>8589934649</td></tr><tr><td>Teh_Landstander</td><td>8589934625</td></tr><tr><td>Grubama</td><td>8589934602</td></tr><tr><td>ExBladeRunner</td><td>8589934601</td></tr><tr><td>telikonol</td><td>8589934656</td></tr><tr><td>PatriotInfidel</td><td>8589934619</td></tr><tr><td>Cenepk10</td><td>8589934594</td></tr><tr><td>PNWDeplorable</td><td>8589934618</td></tr><tr><td>ChrisProck</td><td>8589934595</td></tr><tr><td>Millersteve</td><td>8589934609</td></tr><tr><td>kimdee2</td><td>8589934644</td></tr><tr><td>LaKingFish</td><td>8589934606</td></tr><tr><td>CurtisPulaski</td><td>8589934597</td></tr><tr><td>axsomreport</td><td>8589934633</td></tr><tr><td>foilhat</td><td>8589934640</td></tr><tr><td>Piddlepuck86</td><td>8589934621</td></tr><tr><td>woli2017</td><td>8589934660</td></tr><tr><td>easher555</td><td>8589934638</td></tr><tr><td>precysetraining</td><td>8589934651</td></tr><tr><td>bellTackel</td><td>8589934634</td></tr><tr><td>Sulesko</td><td>8589934623</td></tr><tr><td>Johanson</td><td>8589934604</td></tr><tr><td>Ohio-Against-Islam</td><td>8589934614</td></tr><tr><td>Zophiel</td><td>1176821039109</td></tr><tr><td>flashfyre</td><td>8589934639</td></tr><tr><td>Elianastar</td><td>8589934600</td></tr><tr><td>pops-clark</td><td>8589934650</td></tr><tr><td>PCH5150</td><td>8589934617</td></tr><tr><td>somecnut</td><td>8589934655</td></tr><tr><td>Valor</td><td>8589934630</td></tr><tr><td>Liberty_Over_Safety</td><td>8589934608</td></tr><tr><td>PerpetualPierre</td><td>8589934620</td></tr><tr><td>solarman</td><td>8589934654</td></tr><tr><td>TheRuralJuror</td><td>8589934626</td></tr><tr><td>CivilUnrest21</td><td>17179869191</td></tr><tr><td>glassmenagerie</td><td>17179869241</td></tr><tr><td>Evell</td><td>17179869201</td></tr><tr><td>Soprano</td><td>17179869228</td></tr><tr><td>soundmoneyTheBand</td><td>17179869255</td></tr><tr><td>turmic</td><td>17179869256</td></tr><tr><td>mrbanshee</td><td>17179869248</td></tr><tr><td>MMMiller</td><td>17179869218</td></tr><tr><td>mcgoverntm</td><td>17179869247</td></tr><tr><td>vl3509</td><td>17179869257</td></tr><tr><td>frogdivision</td><td>17179869240</td></tr><tr><td>Busterizer</td><td>17179869190</td></tr><tr><td>hillary1</td><td>17179869244</td></tr><tr><td>MikeJohnson151</td><td>17179869219</td></tr><tr><td>Sahdwv</td><td>17179869224</td></tr><tr><td>FashGun</td><td>17179869202</td></tr><tr><td>itchy8me</td><td>17179869245</td></tr><tr><td>Sheltowee</td><td>17179869226</td></tr><tr><td>jlew3000</td><td>17179869246</td></tr><tr><td>Asgod</td><td>17179869186</td></tr><tr><td>DocH</td><td>17179869199</td></tr><tr><td>Clandestino</td><td>17179869192</td></tr><tr><td>heavenapostrophe</td><td>17179869243</td></tr><tr><td>HullBreach</td><td>17179869210</td></tr><tr><td>Xerion</td><td>17179869234</td></tr><tr><td>floridajacks</td><td>17179869238</td></tr><tr><td>TripleCrownDonkey</td><td>17179869231</td></tr><tr><td>outforbeer</td><td>17179869251</td></tr><tr><td>habz1959</td><td>17179869242</td></tr><tr><td>LucVNO</td><td>17179869217</td></tr><tr><td>HeyYou</td><td>17179869209</td></tr><tr><td>buttsecks</td><td>17179869235</td></tr><tr><td>ANC46</td><td>17179869185</td></tr><tr><td>Laurentia</td><td>17179869214</td></tr><tr><td>Auminer</td><td>17179869187</td></tr><tr><td>Frankie_J</td><td>17179869203</td></tr><tr><td>GabrielWest</td><td>1365799600166</td></tr><tr><td>piranha</td><td>17179869252</td></tr><tr><td>In2it2ru2</td><td>17179869211</td></tr><tr><td>DarrylN</td><td>17179869195</td></tr><tr><td>evilmidget223</td><td>17179869237</td></tr><tr><td>Trumptard</td><td>17179869232</td></tr><tr><td>SomethingMusic</td><td>17179869227</td></tr><tr><td>DeplorableLaughterRx</td><td>1176821039109</td></tr><tr><td>Dachux</td><td>17179869194</td></tr><tr><td>Robert5150</td><td>17179869223</td></tr><tr><td>Technomancy</td><td>17179869229</td></tr><tr><td>HellMary</td><td>17179869208</td></tr><tr><td>JamesDavis</td><td>17179869212</td></tr><tr><td>GhostOfCobain</td><td>17179869206</td></tr><tr><td>Mitzibitzi</td><td>17179869220</td></tr><tr><td>Dblaze09</td><td>17179869196</td></tr><tr><td>2004done</td><td>17179869184</td></tr><tr><td>FreedomPostOrg</td><td>17179869204</td></tr><tr><td>freetexas2</td><td>17179869239</td></tr><tr><td>Terlynden</td><td>17179869230</td></tr><tr><td>LivingonaBlueDot2</td><td>17179869216</td></tr><tr><td>whytpharaoh69</td><td>17179869258</td></tr><tr><td>Lasry</td><td>1176821039109</td></tr><tr><td>Bribribrianna</td><td>17179869189</td></tr><tr><td>DeathBySalad</td><td>17179869197</td></tr><tr><td>Palmtile</td><td>17179869222</td></tr><tr><td>carpedonktum</td><td>17179869236</td></tr><tr><td>Corr2112</td><td>17179869193</td></tr><tr><td>BOZGAL</td><td>17179869188</td></tr><tr><td>LegallyShip</td><td>17179869215</td></tr><tr><td>one-eyed-fat-man</td><td>17179869250</td></tr><tr><td>GoofyGrape</td><td>17179869207</td></tr><tr><td>skyler</td><td>17179869254</td></tr><tr><td>omEon</td><td>17179869249</td></tr><tr><td>Drt4kidz</td><td>17179869200</td></tr><tr><td>Username99</td><td>17179869233</td></tr><tr><td>NickMonaco</td><td>17179869221</td></tr><tr><td>Sakker</td><td>17179869225</td></tr><tr><td>pswbb</td><td>17179869253</td></tr><tr><td>twatta1717</td><td>25769803846</td></tr><tr><td>eagles_feather</td><td>25769803830</td></tr><tr><td>fresheyeball</td><td>25769803831</td></tr><tr><td>DeplorableCrystal</td><td>25769803790</td></tr><tr><td>Sypher_277</td><td>25769803825</td></tr><tr><td>Anonintel</td><td>25769803780</td></tr><tr><td>EternalVolgar</td><td>25769803793</td></tr><tr><td>Deformed</td><td>25769803789</td></tr><tr><td>DanaBougon</td><td>25769803787</td></tr><tr><td>NewYorkerParody</td><td>25769803812</td></tr><tr><td>TrumpCountryUSA</td><td>25769803828</td></tr><tr><td>nubiangod</td><td>25769803838</td></tr><tr><td>Mutt</td><td>25769803810</td></tr><tr><td>DE-Nazi-AKA-DA-Troll</td><td>1176821039109</td></tr><tr><td>DictatorsNephew</td><td>25769803791</td></tr><tr><td>MBCB4TRUMP</td><td>25769803806</td></tr><tr><td>Puffy</td><td>25769803815</td></tr><tr><td>JGlaze</td><td>25769803796</td></tr><tr><td>ForBritain</td><td>25769803794</td></tr><tr><td>Orthodox</td><td>1176821039109</td></tr><tr><td>TheRealDonaldTrump45</td><td>1176821039109</td></tr><tr><td>theyrcoming</td><td>25769803845</td></tr><tr><td>bernd</td><td>25769803829</td></tr><tr><td>Beau</td><td>25769803782</td></tr><tr><td>quizbayz</td><td>25769803839</td></tr><tr><td>LynneMarie</td><td>25769803805</td></tr><tr><td>Mol</td><td>25769803809</td></tr><tr><td>lauraandrhino</td><td>25769803834</td></tr><tr><td>ROYALMRBADNEWS</td><td>25769803817</td></tr><tr><td>American1765</td><td>25769803779</td></tr><tr><td>galt2030</td><td>25769803832</td></tr><tr><td>MelMax</td><td>25769803808</td></tr><tr><td>Ramer2008</td><td>25769803818</td></tr><tr><td>gconyers</td><td>25769803833</td></tr><tr><td>vhfanDR</td><td>25769803847</td></tr><tr><td>sjwmith</td><td>25769803843</td></tr><tr><td>Naternot</td><td>25769803811</td></tr><tr><td>DavidOfOne</td><td>25769803788</td></tr><tr><td>PGeeve</td><td>25769803814</td></tr><tr><td>norseman76</td><td>1176821039109</td></tr><tr><td>Lockerius</td><td>25769803804</td></tr><tr><td>science</td><td>25769803841</td></tr><tr><td>StJames2017</td><td>25769803823</td></tr><tr><td>Kristinb</td><td>25769803802</td></tr><tr><td>AzWarrior</td><td>25769803781</td></tr><tr><td>libbylibbylibby</td><td>25769803835</td></tr><tr><td>AHempster</td><td>25769803776</td></tr><tr><td>Birdy</td><td>25769803784</td></tr><tr><td>JoeSixpack</td><td>25769803800</td></tr><tr><td>MartaVonRunge</td><td>25769803807</td></tr><tr><td>shuhari</td><td>25769803842</td></tr><tr><td>ThoughtCriminal303</td><td>25769803827</td></tr><tr><td>JamesDay</td><td>25769803798</td></tr><tr><td>AdamWarlock</td><td>25769803777</td></tr><tr><td>StormyBird</td><td>25769803824</td></tr><tr><td>JR_Patriot</td><td>25769803797</td></tr><tr><td>Jami_USA</td><td>25769803799</td></tr><tr><td>CJSR</td><td>25769803785</td></tr><tr><td>slamperein</td><td>25769803844</td></tr><tr><td>Lara04011</td><td>25769803803</td></tr><tr><td>Spooky530</td><td>25769803822</td></tr><tr><td>zyalia6tz</td><td>1176821039109</td></tr><tr><td>SXN</td><td>25769803821</td></tr><tr><td>DrDerb</td><td>25769803792</td></tr><tr><td>Rocrates</td><td>25769803820</td></tr><tr><td>Richard5159</td><td>25769803819</td></tr><tr><td>Best_Korea</td><td>609885356051</td></tr><tr><td>newworldicon</td><td>25769803836</td></tr><tr><td>Hermann</td><td>25769803795</td></tr><tr><td>Alucard</td><td>25769803778</td></tr><tr><td>roblet</td><td>25769803840</td></tr><tr><td>PunchStone</td><td>25769803816</td></tr><tr><td>JustinDMelvin</td><td>25769803801</td></tr><tr><td>LimticArt</td><td>34359738398</td></tr><tr><td>Solidsnake</td><td>326417514580</td></tr><tr><td>Aaptwak</td><td>34359738369</td></tr><tr><td>roar88</td><td>34359738429</td></tr><tr><td>InfoWarrior</td><td>34359738392</td></tr><tr><td>VastAwakening</td><td>34359738414</td></tr><tr><td>Manco_Nada</td><td>34359738399</td></tr><tr><td>Snow_Worries</td><td>1176821039109</td></tr><tr><td>MelissaLynn65</td><td>34359738402</td></tr><tr><td>Poletical</td><td>34359738407</td></tr><tr><td>HEISENBURG</td><td>34359738387</td></tr><tr><td>BLMTerrorist</td><td>34359738373</td></tr><tr><td>Cunningfox</td><td>34359738378</td></tr><tr><td>Ibonic</td><td>34359738391</td></tr><tr><td>mbhpower</td><td>34359738426</td></tr><tr><td>Margi59</td><td>1262720385088</td></tr><tr><td>Archive_News</td><td>34359738372</td></tr><tr><td>Angel4Light</td><td>34359738370</td></tr><tr><td>HickoryTomato</td><td>34359738389</td></tr><tr><td>NotaLoneWolf</td><td>34359738404</td></tr><tr><td>1943Trucker</td><td>34359738368</td></tr><tr><td>TobaccoRoad</td><td>34359738413</td></tr><tr><td>Wases</td><td>34359738416</td></tr><tr><td>ElektroHund</td><td>34359738384</td></tr><tr><td>Schulin</td><td>34359738409</td></tr><tr><td>WarHammer28</td><td>34359738415</td></tr><tr><td>JAMONSQUIRE</td><td>34359738393</td></tr><tr><td>Weblollipop</td><td>34359738417</td></tr><tr><td>thelastofthemohicans</td><td>34359738433</td></tr><tr><td>acynecin</td><td>34359738420</td></tr><tr><td>ab_eo_tempore</td><td>34359738419</td></tr><tr><td>CJlovesAmerica1234</td><td>34359738375</td></tr><tr><td>PatriotBoots</td><td>34359738405</td></tr><tr><td>KoljaBonke</td><td>34359738396</td></tr><tr><td>Destefano</td><td>34359738381</td></tr><tr><td>AnotherBill</td><td>34359738371</td></tr><tr><td>HamishHamilton</td><td>34359738388</td></tr><tr><td>PeaceNotWar</td><td>34359738406</td></tr><tr><td>David_Berger</td><td>34359738379</td></tr><tr><td>rmead777</td><td>34359738428</td></tr><tr><td>Not2late</td><td>34359738403</td></tr><tr><td>Dholderman77</td><td>34359738382</td></tr><tr><td>badger1970</td><td>34359738421</td></tr><tr><td>YippieKiYayE13</td><td>34359738418</td></tr><tr><td>seomilwaukee</td><td>34359738430</td></tr><tr><td>JackLDaniels</td><td>34359738394</td></tr><tr><td>JordanChristopher</td><td>326417514580</td></tr><tr><td>carbonunit</td><td>34359738422</td></tr><tr><td>Bonesawisready</td><td>34359738374</td></tr><tr><td>DutchKarin</td><td>34359738383</td></tr><tr><td>Matthew_Dimock</td><td>34359738401</td></tr><tr><td>nonibaby</td><td>34359738427</td></tr><tr><td>lesbianwalrus_DEFUNCT</td><td>34359738425</td></tr><tr><td>sparkzz</td><td>34359738431</td></tr><tr><td>Cranki</td><td>34359738377</td></tr><tr><td>Gravelrash</td><td>34359738386</td></tr><tr><td>LG72</td><td>34359738397</td></tr><tr><td>TheOptionOracle</td><td>34359738412</td></tr><tr><td>cg</td><td>34359738423</td></tr><tr><td>srhholdem2233</td><td>34359738432</td></tr><tr><td>Demo1972</td><td>34359738380</td></tr><tr><td>Ciaparat</td><td>34359738376</td></tr><tr><td>Homunizam</td><td>34359738390</td></tr><tr><td>EugeneWhiting</td><td>34359738385</td></tr><tr><td>Ponderouschain</td><td>34359738408</td></tr><tr><td>internetpartisan</td><td>34359738424</td></tr><tr><td>DeplorableKirk</td><td>42949672976</td></tr><tr><td>BamaStrong</td><td>42949672966</td></tr><tr><td>CarolinaCurious</td><td>42949672971</td></tr><tr><td>PFavata66</td><td>42949673000</td></tr><tr><td>Hotaugustnights1</td><td>42949672983</td></tr><tr><td>Spar10fit</td><td>42949673007</td></tr><tr><td>WorldVoices</td><td>42949673012</td></tr><tr><td>DaleNixon84x</td><td>42949672975</td></tr><tr><td>Baerchi0815</td><td>42949672965</td></tr><tr><td>CZRboB</td><td>42949672970</td></tr><tr><td>alainbeauregard</td><td>42949673014</td></tr><tr><td>tekstar77</td><td>42949673033</td></tr><tr><td>KittenFur</td><td>42949672987</td></tr><tr><td>VolksReich</td><td>42949673010</td></tr><tr><td>HeinousAeinous</td><td>42949672982</td></tr><tr><td>SonsOfReagan</td><td>42949673006</td></tr><tr><td>Nette66</td><td>42949672998</td></tr><tr><td>JonKirkpatrick</td><td>42949672985</td></tr><tr><td>rancher_86</td><td>42949673027</td></tr><tr><td>LampshadeTechnician</td><td>42949672990</td></tr><tr><td>Gothic_metal_lover</td><td>42949672980</td></tr><tr><td>Agabus274</td><td>42949672961</td></tr><tr><td>shufunk</td><td>42949673031</td></tr><tr><td>SilveryBlue</td><td>42949673005</td></tr><tr><td>NieSmeOtpor</td><td>42949672999</td></tr><tr><td>nanowerx</td><td>42949673025</td></tr><tr><td>spotify</td><td>42949673032</td></tr><tr><td>jgrismer</td><td>42949673021</td></tr><tr><td>BrainStressBall</td><td>42949672968</td></tr><tr><td>Lars81</td><td>42949672991</td></tr><tr><td>bigmammasBAps</td><td>42949673016</td></tr><tr><td>WinyanStazWakien</td><td>42949673011</td></tr><tr><td>querfront</td><td>42949673026</td></tr><tr><td>2ndlook1</td><td>42949672960</td></tr><tr><td>BrianSombrets</td><td>42949672969</td></tr><tr><td>LouieHuey</td><td>42949672995</td></tr><tr><td>frmarques12</td><td>42949673019</td></tr><tr><td>KlausHenchmann</td><td>42949672988</td></tr><tr><td>linguistic_killshot</td><td>326417514580</td></tr><tr><td>KellyB71</td><td>42949672986</td></tr><tr><td>TruthSeeker1776</td><td>42949673009</td></tr><tr><td>dbcoopersmoney</td><td>42949673018</td></tr><tr><td>Dividends4Life</td><td>42949672977</td></tr><tr><td>Maxd11</td><td>42949672996</td></tr><tr><td>scubadude</td><td>42949673028</td></tr><tr><td>LastmaninEurope</td><td>42949672992</td></tr><tr><td>moosegroyper</td><td>42949673024</td></tr><tr><td>BowenBazaar</td><td>42949672967</td></tr><tr><td>LlamaMan</td><td>42949672994</td></tr><tr><td>CptMorganII</td><td>42949672973</td></tr><tr><td>hereiam</td><td>42949673020</td></tr><tr><td>busibees</td><td>42949673017</td></tr><tr><td>The9thCrusade</td><td>42949673008</td></tr><tr><td>POLARFAISE</td><td>42949673001</td></tr><tr><td>GlobalistStatist</td><td>42949672979</td></tr><tr><td>ReflectionsofJM</td><td>42949673004</td></tr><tr><td>AndersonDan</td><td>42949672962</td></tr><tr><td>sheerfuckingterror</td><td>42949673029</td></tr><tr><td>FeralBlonde</td><td>42949672978</td></tr><tr><td>Panem</td><td>42949673002</td></tr><tr><td>appliedecon</td><td>42949673015</td></tr><tr><td>krazyglue</td><td>42949673022</td></tr><tr><td>AnnieM</td><td>42949672963</td></tr><tr><td>James_K_Glass</td><td>1580547964991</td></tr><tr><td>PplRCrazy</td><td>42949673003</td></tr><tr><td>AnonYMooseBoG</td><td>42949672964</td></tr><tr><td>Kongpancake</td><td>42949672989</td></tr><tr><td>CarolynEmerick</td><td>42949672972</td></tr><tr><td>MoPark</td><td>42949672997</td></tr><tr><td>DOITQ</td><td>42949672974</td></tr><tr><td>Gunnar341</td><td>42949672981</td></tr><tr><td>LibVanquisher</td><td>42949672993</td></tr><tr><td>a</td><td>42949673013</td></tr><tr><td>shitlording</td><td>1580547964991</td></tr><tr><td>JustaDjimmi</td><td>51539607590</td></tr><tr><td>CoxSteve</td><td>51539607568</td></tr><tr><td>BASED_KRYSTIAN</td><td>51539607563</td></tr><tr><td>Jerlou</td><td>51539607586</td></tr><tr><td>SMB</td><td>51539607606</td></tr><tr><td>WingChun_Life</td><td>51539607620</td></tr><tr><td>vonstein</td><td>51539607644</td></tr><tr><td>amq</td><td>51539607623</td></tr><tr><td>Based_aspie</td><td>51539607565</td></tr><tr><td>Redmex</td><td>51539607605</td></tr><tr><td>EPluribusUnum2020</td><td>51539607576</td></tr><tr><td>BOBOFkake</td><td>51539607564</td></tr><tr><td>paulo2020</td><td>51539607640</td></tr><tr><td>capital0</td><td>51539607626</td></tr><tr><td>NSFWradio</td><td>51539607594</td></tr><tr><td>Wild_Bill316</td><td>51539607619</td></tr><tr><td>GarethTheTerrible</td><td>51539607582</td></tr><tr><td>AndreaNYNY</td><td>51539607557</td></tr><tr><td>DBHnBuckhead</td><td>51539607570</td></tr><tr><td>Netfrogs</td><td>51539607596</td></tr><tr><td>Aquilam</td><td>51539607560</td></tr><tr><td>AprilReigne</td><td>51539607559</td></tr><tr><td>therealAlexMorris</td><td>51539607642</td></tr><tr><td>Anglo-Saxon</td><td>51539607558</td></tr><tr><td>Sensei_J</td><td>51539607608</td></tr><tr><td>Jack_Mehoff</td><td>51539607585</td></tr><tr><td>blckops</td><td>51539607625</td></tr><tr><td>old-ager</td><td>51539607639</td></tr><tr><td>RSmithers</td><td>51539607603</td></tr><tr><td>FactsareSafe</td><td>51539607580</td></tr><tr><td>ACL9000</td><td>51539607553</td></tr><tr><td>AzureMace</td><td>51539607562</td></tr><tr><td>benito-camesta</td><td>51539607624</td></tr><tr><td>fiatlux5777</td><td>51539607632</td></tr><tr><td>EnochChurchill</td><td>51539607578</td></tr><tr><td>jimtdavis</td><td>51539607635</td></tr><tr><td>dedriannes</td><td>51539607630</td></tr><tr><td>Mo0815</td><td>51539607593</td></tr><tr><td>Nakoni65</td><td>51539607595</td></tr><tr><td>Ttiot</td><td>51539607616</td></tr><tr><td>DerekMYohe</td><td>51539607573</td></tr><tr><td>HouseHendoe</td><td>51539607584</td></tr><tr><td>dub</td><td>326417514580</td></tr><tr><td>DavidKirkland</td><td>51539607571</td></tr><tr><td>JohnGalt1961</td><td>51539607587</td></tr><tr><td>mikekto</td><td>51539607636</td></tr><tr><td>Johnny5024</td><td>51539607588</td></tr><tr><td>ONEARTHASITISINHEAVEN</td><td>51539607598</td></tr><tr><td>Johnyrebb</td><td>1151051235329</td></tr><tr><td>AmericanTruth</td><td>51539607554</td></tr><tr><td>LibsNoFun</td><td>51539607592</td></tr><tr><td>Porkey_Pig</td><td>51539607601</td></tr><tr><td>TMGIJane</td><td>51539607611</td></tr><tr><td>Sadist</td><td>51539607607</td></tr><tr><td>wmathison</td><td>51539607645</td></tr><tr><td>TomKawczynski</td><td>51539607615</td></tr><tr><td>Aynfan</td><td>51539607561</td></tr><tr><td>NormanSpear1</td><td>51539607597</td></tr><tr><td>Desolator2B</td><td>51539607574</td></tr><tr><td>jeanicebarcelo</td><td>51539607634</td></tr><tr><td>KJBoyer</td><td>51539607591</td></tr><tr><td>RealMikePannone</td><td>51539607604</td></tr><tr><td>Ehkoh</td><td>51539607577</td></tr><tr><td>Americanproud</td><td>51539607555</td></tr><tr><td>Cookey4444</td><td>51539607567</td></tr><tr><td>2525</td><td>51539607552</td></tr><tr><td>Tashdacat</td><td>51539607612</td></tr><tr><td>dawns5900</td><td>51539607629</td></tr><tr><td>missourymule</td><td>51539607638</td></tr><tr><td>Deplazierter</td><td>51539607572</td></tr><tr><td>americarise-fedup</td><td>51539607622</td></tr><tr><td>ChaunceyTinker</td><td>51539607566</td></tr><tr><td>shannonrwatts</td><td>51539607641</td></tr><tr><td>TheBaldChick</td><td>51539607614</td></tr><tr><td>thermaltwitch</td><td>51539607643</td></tr><tr><td>WhiskeyRebel</td><td>51539607618</td></tr><tr><td>jaxter77</td><td>51539607633</td></tr><tr><td>Duckhunter1960</td><td>51539607575</td></tr><tr><td>Skyfly</td><td>51539607610</td></tr><tr><td>ProjectWeepingAngel</td><td>51539607602</td></tr><tr><td>Foosa</td><td>51539607581</td></tr><tr><td>Shepherd-of-fire</td><td>51539607609</td></tr><tr><td>PieAlwaysWins</td><td>51539607600</td></tr><tr><td>PabloNada</td><td>51539607599</td></tr><tr><td>clarktrentwastaken</td><td>51539607627</td></tr><tr><td>Andraste09</td><td>51539607556</td></tr><tr><td>Grandgiant311</td><td>51539607583</td></tr><tr><td>UncleVeracity</td><td>51539607617</td></tr><tr><td>darthstryfe</td><td>51539607628</td></tr><tr><td>_1</td><td>326417514580</td></tr><tr><td>mikemoore</td><td>1176821039109</td></tr><tr><td>Crom_dom</td><td>51539607569</td></tr><tr><td>Texas_Prime</td><td>51539607613</td></tr><tr><td>EvanTanner</td><td>51539607579</td></tr><tr><td>patriot25</td><td>60129542213</td></tr><tr><td>UnkleRollo</td><td>60129542194</td></tr><tr><td>WaterIsLife</td><td>60129542195</td></tr><tr><td>Pjackson6688</td><td>60129542180</td></tr><tr><td>Rrabbit</td><td>60129542184</td></tr><tr><td>aukai</td><td>60129542199</td></tr><tr><td>Nkreider</td><td>60129542176</td></tr><tr><td>Helpsnotontheway</td><td>1176821039109</td></tr><tr><td>jasonhedgepeth</td><td>60129542209</td></tr><tr><td>Nightmouse</td><td>60129542175</td></tr><tr><td>WetCunt</td><td>60129542196</td></tr><tr><td>tommyminyard1027</td><td>60129542221</td></tr><tr><td>JamesK-American</td><td>60129542167</td></tr><tr><td>Matth779</td><td>60129542173</td></tr><tr><td>DaleyGator</td><td>60129542152</td></tr><tr><td>Nohorse</td><td>60129542177</td></tr><tr><td>joZef</td><td>60129542210</td></tr><tr><td>INTERNETCON</td><td>60129542162</td></tr><tr><td>EdgeOfDank</td><td>60129542156</td></tr><tr><td>Braulz</td><td>60129542150</td></tr><tr><td>lynchem</td><td>60129542212</td></tr><tr><td>Pompapompa</td><td>60129542181</td></tr><tr><td>Trumpetpro</td><td>1176821039109</td></tr><tr><td>Hajiklr</td><td>60129542158</td></tr><tr><td>Kev0</td><td>60129542170</td></tr><tr><td>red_pill_rightist</td><td>60129542217</td></tr><tr><td>amyvanhym</td><td>60129542198</td></tr><tr><td>bvb</td><td>60129542200</td></tr><tr><td>StormCommando</td><td>60129542188</td></tr><tr><td>Swood7797</td><td>60129542189</td></tr><tr><td>Santa401</td><td>25769803842</td></tr><tr><td>pvoce</td><td>60129542216</td></tr><tr><td>Rob-the-robot</td><td>60129542182</td></tr><tr><td>Artco77</td><td>60129542148</td></tr><tr><td>Deweylasv</td><td>60129542154</td></tr><tr><td>Ronwins3</td><td>60129542183</td></tr><tr><td>Owen-Monet</td><td>60129542178</td></tr><tr><td>AKCarrillo</td><td>60129542144</td></tr><tr><td>LordKel</td><td>60129542172</td></tr><tr><td>cycles13</td><td>60129542202</td></tr><tr><td>JamYouMonkey</td><td>60129542166</td></tr><tr><td>Hendo0609</td><td>60129542160</td></tr><tr><td>Sparks1017</td><td>60129542187</td></tr><tr><td>djtmetz</td><td>1580547964991</td></tr><tr><td>TrumpFarage1488</td><td>60129542192</td></tr><tr><td>Invictus36</td><td>60129542163</td></tr><tr><td>McDermie</td><td>60129542174</td></tr><tr><td>Blitz_Wolfer</td><td>60129542149</td></tr><tr><td>Eclipsebrk</td><td>60129542155</td></tr><tr><td>jael</td><td>60129542208</td></tr><tr><td>c_am_el_s</td><td>60129542201</td></tr><tr><td>JadedByPolitics</td><td>60129542165</td></tr><tr><td>dpinsen</td><td>60129542205</td></tr><tr><td>TheOriginalG</td><td>60129542191</td></tr><tr><td>AltrightAmerican</td><td>60129542146</td></tr><tr><td>Americanannie</td><td>60129542147</td></tr><tr><td>JohnnyF</td><td>60129542169</td></tr><tr><td>ElveTwelve</td><td>60129542157</td></tr><tr><td>JWilderness</td><td>60129542164</td></tr><tr><td>vpenley</td><td>60129542222</td></tr><tr><td>getyerfreedom</td><td>60129542206</td></tr><tr><td>dharmapunk5</td><td>60129542203</td></tr><tr><td>zimbobH</td><td>60129542223</td></tr><tr><td>Saintsnsinners</td><td>60129542185</td></tr><tr><td>phoenixTPR</td><td>1176821039109</td></tr><tr><td>kiwikek</td><td>60129542211</td></tr><tr><td>Hippy_Pimp</td><td>60129542161</td></tr><tr><td>paulmatheos</td><td>60129542214</td></tr><tr><td>techosapien</td><td>60129542220</td></tr><tr><td>Dcat1</td><td>60129542153</td></tr><tr><td>LibertyVox</td><td>60129542171</td></tr><tr><td>Zabka_Speaks</td><td>60129542197</td></tr><tr><td>TheKeys</td><td>60129542190</td></tr><tr><td>Cuck_Fensorship</td><td>60129542151</td></tr><tr><td>scottyboy77</td><td>60129542218</td></tr><tr><td>JohnQPublic</td><td>60129542168</td></tr><tr><td>sdavis1465</td><td>60129542219</td></tr><tr><td>PaleHorse</td><td>60129542179</td></tr><tr><td>hoveling</td><td>60129542207</td></tr><tr><td>ActivePooter</td><td>60129542145</td></tr><tr><td>Shadows8</td><td>68719476787</td></tr><tr><td>Watfam5</td><td>68719476798</td></tr><tr><td>msimek</td><td>68719476815</td></tr><tr><td>OkieGunLover</td><td>68719476775</td></tr><tr><td>PBelle547</td><td>68719476776</td></tr><tr><td>AdamSmith18</td><td>68719476737</td></tr><tr><td>currentyear</td><td>68719476809</td></tr><tr><td>Zaklog</td><td>68719476800</td></tr><tr><td>ZippyXavier</td><td>68719476802</td></tr><tr><td>redhead6886</td><td>68719476816</td></tr><tr><td>JulianEckstein</td><td>68719476763</td></tr><tr><td>ThermopticMind</td><td>68719476795</td></tr><tr><td>Honingpot</td><td>68719476759</td></tr><tr><td>HocEstBellum</td><td>1176821039109</td></tr><tr><td>RealWednesdayy</td><td>68719476783</td></tr><tr><td>AvengerK97</td><td>68719476742</td></tr><tr><td>SmilingJack</td><td>68719476788</td></tr><tr><td>Majortruther</td><td>68719476769</td></tr><tr><td>Jeepstaff1</td><td>68719476762</td></tr><tr><td>Heydrich</td><td>68719476756</td></tr><tr><td>cadev</td><td>68719476807</td></tr><tr><td>Releasethememo</td><td>68719476784</td></tr><tr><td>ufish</td><td>68719476820</td></tr><tr><td>Wrench2tc</td><td>68719476799</td></tr><tr><td>Paul007</td><td>68719476778</td></tr><tr><td>kelotsuba</td><td>68719476812</td></tr><tr><td>AprioriHitman</td><td>68719476741</td></tr><tr><td>FerociousTruth</td><td>68719476751</td></tr><tr><td>RickyBobbySez</td><td>68719476785</td></tr><tr><td>wjappe</td><td>68719476821</td></tr><tr><td>BasedTXN</td><td>68719476743</td></tr><tr><td>MarieB68</td><td>68719476771</td></tr><tr><td>FeInFL</td><td>68719476750</td></tr><tr><td>PeacockAngel</td><td>68719476779</td></tr><tr><td>CurtiusSimplus</td><td>68719476746</td></tr><tr><td>chrisplustina96</td><td>68719476808</td></tr><tr><td>DaFaking1</td><td>68719476747</td></tr><tr><td>Grames_Barnaby</td><td>68719476754</td></tr><tr><td>CapoBlako</td><td>68719476744</td></tr><tr><td>PoliteSupremacist</td><td>68719476781</td></tr><tr><td>Alice_F</td><td>68719476738</td></tr><tr><td>fussaboy</td><td>68719476810</td></tr><tr><td>HairMoccasins</td><td>68719476755</td></tr><tr><td>Freeanddivided</td><td>68719476752</td></tr><tr><td>LizardShit69</td><td>68719476765</td></tr><tr><td>cabinetmaker</td><td>68719476806</td></tr><tr><td>Anubis716</td><td>68719476740</td></tr><tr><td>Vexing_Hiraeth</td><td>68719476797</td></tr><tr><td>TheLordBme</td><td>68719476793</td></tr><tr><td>AnthonyParsons</td><td>68719476739</td></tr><tr><td>slackerstacker</td><td>68719476817</td></tr><tr><td>HouseCracka</td><td>68719476760</td></tr><tr><td>Nitai22</td><td>68719476773</td></tr><tr><td>LoveWatercolor</td><td>68719476766</td></tr><tr><td>Peter_Green</td><td>68719476780</td></tr><tr><td>moviecaveman</td><td>68719476814</td></tr><tr><td>Mandos</td><td>68719476770</td></tr><tr><td>PonderingMindz</td><td>68719476782</td></tr><tr><td>Ennuion</td><td>68719476749</td></tr><tr><td>StAutist</td><td>68719476791</td></tr><tr><td>SsmithSally</td><td>68719476790</td></tr><tr><td>IthePerson</td><td>68719476761</td></tr><tr><td>badslave</td><td>68719476803</td></tr><tr><td>APB</td><td>68719476736</td></tr><tr><td>MaeLin</td><td>68719476767</td></tr><tr><td>Godwins</td><td>68719476753</td></tr><tr><td>Sun2mold</td><td>68719476792</td></tr><tr><td>theroadtopower</td><td>68719476818</td></tr><tr><td>ZiaErica</td><td>68719476801</td></tr><tr><td>HighDutchman</td><td>68719476757</td></tr><tr><td>Lilangel</td><td>68719476764</td></tr><tr><td>USA_Aquanaut</td><td>68719476796</td></tr><tr><td>bmar999</td><td>68719476804</td></tr><tr><td>Sparke</td><td>68719476789</td></tr><tr><td>brandonari</td><td>68719476805</td></tr><tr><td>Mahmoud1212</td><td>68719476768</td></tr><tr><td>Demiglace</td><td>68719476748</td></tr><tr><td>Occidental_Spirit</td><td>68719476774</td></tr><tr><td>CaptainCanuck</td><td>68719476745</td></tr><tr><td>RottenNutshell</td><td>68719476786</td></tr><tr><td>Michilimackinac</td><td>68719476772</td></tr><tr><td>Pandanni</td><td>68719476777</td></tr><tr><td>libertyfarmsiowa</td><td>25769803842</td></tr><tr><td>The_Grey_Man</td><td>68719476794</td></tr><tr><td>ihatematt</td><td>68719476811</td></tr><tr><td>twidget</td><td>68719476819</td></tr><tr><td>Kennys</td><td>77309411361</td></tr><tr><td>ConstitutionBillofRights</td><td>77309411343</td></tr><tr><td>MichelleTeller</td><td>77309411366</td></tr><tr><td>ShadowSprite222</td><td>77309411375</td></tr><tr><td>CptMann</td><td>77309411344</td></tr><tr><td>artsy897</td><td>77309411387</td></tr><tr><td>jimjed</td><td>77309411396</td></tr><tr><td>PrestonsDad</td><td>77309411372</td></tr><tr><td>gringotj</td><td>77309411393</td></tr><tr><td>Fairchild</td><td>77309411347</td></tr><tr><td>HiliaryClinton</td><td>77309411356</td></tr><tr><td>AntifaMom</td><td>77309411331</td></tr><tr><td>PearlyMay</td><td>77309411370</td></tr><tr><td>ilovegrover</td><td>77309411394</td></tr><tr><td>Sunshine2016</td><td>77309411377</td></tr><tr><td>ColchesterCollection</td><td>77309411342</td></tr><tr><td>Guner</td><td>77309411352</td></tr><tr><td>pauljosephwatson</td><td>77309411399</td></tr><tr><td>BOCCAVERITA</td><td>77309411333</td></tr><tr><td>HardKnockJimmy</td><td>77309411354</td></tr><tr><td>woltros</td><td>77309411403</td></tr><tr><td>beretta22</td><td>77309411388</td></tr><tr><td>TheConservateam</td><td>77309411379</td></tr><tr><td>Axote</td><td>77309411332</td></tr><tr><td>BradSherard</td><td>77309411336</td></tr><tr><td>toddwieland</td><td>1176821039109</td></tr><tr><td>shapiro</td><td>77309411401</td></tr><tr><td>BoondockSaint</td><td>77309411335</td></tr><tr><td>Pnhearer</td><td>77309411371</td></tr><tr><td>TrumpArmy</td><td>77309411381</td></tr><tr><td>JTCoyote</td><td>77309411359</td></tr><tr><td>WangFoo</td><td>77309411383</td></tr><tr><td>bobcatready</td><td>77309411390</td></tr><tr><td>Bookah72</td><td>77309411334</td></tr><tr><td>jessegarboden</td><td>77309411395</td></tr><tr><td>Ann-Marie</td><td>77309411330</td></tr><tr><td>RickyGP</td><td>77309411373</td></tr><tr><td>GhostOfNiccolo</td><td>77309411350</td></tr><tr><td>Farrier1959</td><td>77309411348</td></tr><tr><td>BrotherLarry</td><td>77309411337</td></tr><tr><td>CaptainKirk</td><td>77309411339</td></tr><tr><td>pcfreeguy</td><td>77309411400</td></tr><tr><td>ThoughtfulChrysalis</td><td>77309411380</td></tr><tr><td>NickSmith36</td><td>77309411369</td></tr><tr><td>goodman</td><td>77309411392</td></tr><tr><td>Chef_Boyhowdy</td><td>77309411340</td></tr><tr><td>leserbriefing</td><td>77309411397</td></tr><tr><td>HoJo3</td><td>77309411357</td></tr><tr><td>SwansonFineArts</td><td>77309411378</td></tr><tr><td>SkyeBoat</td><td>77309411376</td></tr><tr><td>News_GCST</td><td>77309411368</td></tr><tr><td>Dutigad1</td><td>77309411346</td></tr><tr><td>Bryansix</td><td>77309411338</td></tr><tr><td>byshields</td><td>77309411391</td></tr><tr><td>anderjo58</td><td>77309411386</td></tr><tr><td>Angel9001</td><td>77309411329</td></tr><tr><td>Mr_Kati</td><td>77309411367</td></tr><tr><td>MarchForOurRights</td><td>77309411363</td></tr><tr><td>Helnbak08</td><td>77309411355</td></tr><tr><td>Jejfarmer</td><td>77309411360</td></tr><tr><td>DaveWTheThinker</td><td>77309411345</td></tr><tr><td>Rikistik</td><td>77309411374</td></tr><tr><td>WRSA</td><td>77309411382</td></tr><tr><td>billy_campbell</td><td>77309411389</td></tr><tr><td>Gtana</td><td>77309411351</td></tr><tr><td>ClintEastwood</td><td>77309411341</td></tr><tr><td>Max88million</td><td>77309411365</td></tr><tr><td>Khaspar</td><td>77309411362</td></tr><tr><td>alaskadaughter</td><td>77309411385</td></tr><tr><td>InfiniteJester</td><td>77309411358</td></tr><tr><td>_The_Watchers_</td><td>77309411384</td></tr><tr><td>8Bit_Shades</td><td>77309411328</td></tr><tr><td>memedeluxe</td><td>77309411398</td></tr><tr><td>Gypsy124</td><td>25769803842</td></tr><tr><td>MarkT4USA</td><td>77309411364</td></tr><tr><td>Gerechtigkeit</td><td>77309411349</td></tr><tr><td>RKO0909</td><td>85899345962</td></tr><tr><td>Suzieqgirl</td><td>85899345970</td></tr><tr><td>HarleyQwinSC</td><td>85899345941</td></tr><tr><td>LoisRogers</td><td>1176821039109</td></tr><tr><td>CarolinaKat</td><td>85899345928</td></tr><tr><td>bluetrilobite</td><td>85899345984</td></tr><tr><td>wyoboy1110</td><td>85899345995</td></tr><tr><td>Jack_Dorsey</td><td>85899345947</td></tr><tr><td>ZWY</td><td>85899345979</td></tr><tr><td>Nulton</td><td>85899345956</td></tr><tr><td>HERALDofYAH</td><td>25769803799</td></tr><tr><td>XenoGuenon</td><td>85899345977</td></tr><tr><td>wondering04</td><td>85899345994</td></tr><tr><td>MadMadamMim</td><td>85899345951</td></tr><tr><td>DaleEvans</td><td>1151051235329</td></tr><tr><td>Argurion</td><td>85899345923</td></tr><tr><td>pal</td><td>85899345992</td></tr><tr><td>Barnabus75</td><td>85899345924</td></tr><tr><td>avgFloridian</td><td>85899345983</td></tr><tr><td>fgrump</td><td>85899345986</td></tr><tr><td>RollandJames</td><td>85899345965</td></tr><tr><td>M1911</td><td>85899345950</td></tr><tr><td>ajfan</td><td>85899345980</td></tr><tr><td>Ahazuerus</td><td>85899345922</td></tr><tr><td>OnwardTruth</td><td>85899345959</td></tr><tr><td>Travis_Hawks</td><td>704374636592</td></tr><tr><td>chispas9</td><td>85899345985</td></tr><tr><td>INFJKaren</td><td>85899345945</td></tr><tr><td>hunterhawk</td><td>85899345987</td></tr><tr><td>SDriver</td><td>85899345967</td></tr><tr><td>DrDudePhD</td><td>85899345936</td></tr><tr><td>TracyPatriot</td><td>85899345971</td></tr><tr><td>HuHenHarr</td><td>85899345943</td></tr><tr><td>JonLiberty</td><td>85899345948</td></tr><tr><td>Nevantausta</td><td>85899345954</td></tr><tr><td>ChainsawAlarmclock</td><td>85899345931</td></tr><tr><td>jlavin</td><td>85899345989</td></tr><tr><td>Quitbullshiting</td><td>85899345961</td></tr><tr><td>USMCSSGT</td><td>85899345975</td></tr><tr><td>Bizzlefazz</td><td>85899345926</td></tr><tr><td>DynoStorm</td><td>85899345937</td></tr><tr><td>WeWantGunControl</td><td>85899345976</td></tr><tr><td>Bear93</td><td>85899345925</td></tr><tr><td>AA1</td><td>85899345921</td></tr><tr><td>Merdeux</td><td>85899345952</td></tr><tr><td>CollinLorenzo</td><td>85899345933</td></tr><tr><td>CelticSavage1933</td><td>85899345930</td></tr><tr><td>PatrickKWhite</td><td>85899345960</td></tr><tr><td>johannamin</td><td>85899345990</td></tr><tr><td>IcemanTM</td><td>85899345946</td></tr><tr><td>OCANADA</td><td>85899345957</td></tr><tr><td>Brian_Finch</td><td>85899345927</td></tr><tr><td>Rslatts88</td><td>85899345966</td></tr><tr><td>SigeberhtAcker</td><td>85899345968</td></tr><tr><td>Hufford</td><td>85899345944</td></tr><tr><td>sjcnotsjw</td><td>85899345993</td></tr><tr><td>Nullifyfedlaws</td><td>85899345955</td></tr><tr><td>DianaPrintz</td><td>85899345935</td></tr><tr><td>SomeOldGuy</td><td>85899345969</td></tr><tr><td>2017TRUMP</td><td>85899345920</td></tr><tr><td>ChiefThunderhorse</td><td>85899345932</td></tr><tr><td>Catholic_Knight</td><td>85899345929</td></tr><tr><td>antediluvian</td><td>85899345981</td></tr><tr><td>Headforthehills</td><td>85899345942</td></tr><tr><td>OcarinaJones</td><td>85899345958</td></tr><tr><td>lukeobrien</td><td>85899345991</td></tr><tr><td>TwainHarteBoss</td><td>85899345974</td></tr><tr><td>Hamamolnij</td><td>85899345940</td></tr><tr><td>FAGGY</td><td>85899345938</td></tr><tr><td>armorviol</td><td>85899345982</td></tr><tr><td>MizM</td><td>85899345953</td></tr><tr><td>Rhetaur</td><td>85899345963</td></tr><tr><td>YLorenzo</td><td>25769803799</td></tr><tr><td>janusss</td><td>85899345988</td></tr><tr><td>Richard_Grayson</td><td>85899345964</td></tr><tr><td>TraderJo</td><td>85899345972</td></tr><tr><td>refield</td><td>94489280590</td></tr><tr><td>Bikerbrst2u</td><td>94489280520</td></tr><tr><td>Fischauge</td><td>94489280536</td></tr><tr><td>gargantualis</td><td>94489280580</td></tr><tr><td>SPQR_753_BC</td><td>94489280563</td></tr><tr><td>EvilMann</td><td>94489280534</td></tr><tr><td>mcdemarco</td><td>94489280587</td></tr><tr><td>AlphaPatriot</td><td>94489280515</td></tr><tr><td>Bklyn1925</td><td>94489280522</td></tr><tr><td>TNarch</td><td>94489280565</td></tr><tr><td>fordtruck</td><td>94489280578</td></tr><tr><td>sourmanconserve</td><td>94489280593</td></tr><tr><td>WillPeavy</td><td>94489280569</td></tr><tr><td>spanishmonkey</td><td>94489280594</td></tr><tr><td>Jesshot4vcin</td><td>94489280543</td></tr><tr><td>Short_Fat_Bear</td><td>94489280564</td></tr><tr><td>mikebhou</td><td>94489280588</td></tr><tr><td>frogg</td><td>94489280579</td></tr><tr><td>romeo730</td><td>94489280591</td></tr><tr><td>Anyapaintingnw</td><td>94489280516</td></tr><tr><td>Cornervizion</td><td>94489280529</td></tr><tr><td>beislhur</td><td>94489280573</td></tr><tr><td>BristolCommonSense</td><td>94489280524</td></tr><tr><td>JudsonPhillips</td><td>94489280544</td></tr><tr><td>ConsciousCaracal</td><td>94489280527</td></tr><tr><td>Phil4Truth</td><td>94489280558</td></tr><tr><td>ImpeachDrumpf</td><td>94489280541</td></tr><tr><td>MemorialRifleRange</td><td>94489280553</td></tr><tr><td>thedireshow</td><td>94489280595</td></tr><tr><td>Breakfast_Imam</td><td>94489280523</td></tr><tr><td>Pompolitone</td><td>94489280559</td></tr><tr><td>Michele</td><td>94489280554</td></tr><tr><td>rssemfam</td><td>94489280592</td></tr><tr><td>Davetheconservative</td><td>94489280533</td></tr><tr><td>quinnotaur</td><td>94489280589</td></tr><tr><td>MAGAPatriot</td><td>94489280549</td></tr><tr><td>kawfarmer</td><td>94489280585</td></tr><tr><td>Moiraj</td><td>94489280556</td></tr><tr><td>jattaya</td><td>94489280583</td></tr><tr><td>conservative_17</td><td>94489280576</td></tr><tr><td>KHJF2018</td><td>94489280545</td></tr><tr><td>LRichardson</td><td>94489280547</td></tr><tr><td>altsociology</td><td>94489280570</td></tr><tr><td>WastedShark</td><td>94489280568</td></tr><tr><td>theincrediblesie</td><td>94489280596</td></tr><tr><td>Livid</td><td>94489280548</td></tr><tr><td>FascistTwitter</td><td>94489280535</td></tr><tr><td>battleaxebill</td><td>94489280572</td></tr><tr><td>Buttnugget</td><td>94489280525</td></tr><tr><td>Uncabill</td><td>94489280567</td></tr><tr><td>AGENTVX</td><td>94489280513</td></tr><tr><td>BillZankich</td><td>94489280521</td></tr><tr><td>Cassini</td><td>94489280526</td></tr><tr><td>Isaac</td><td>94489280542</td></tr><tr><td>ThatGamingAsshole</td><td>94489280566</td></tr><tr><td>anomalousprime</td><td>94489280571</td></tr><tr><td>bogthing</td><td>94489280575</td></tr><tr><td>hatredshmatred</td><td>94489280581</td></tr><tr><td>MarkMontag</td><td>94489280551</td></tr><tr><td>CryptoWatcher</td><td>94489280530</td></tr><tr><td>Conspirologist</td><td>94489280528</td></tr><tr><td>Guitarbill</td><td>94489280538</td></tr><tr><td>RationalPress</td><td>94489280561</td></tr><tr><td>Aryanwarlordsparta</td><td>94489280518</td></tr><tr><td>HansGurnade</td><td>94489280540</td></tr><tr><td>Miniluv</td><td>94489280555</td></tr><tr><td>Rzorger</td><td>94489280562</td></tr><tr><td>jivinsisterKatie</td><td>94489280584</td></tr><tr><td>Florida_Rogue</td><td>94489280537</td></tr><tr><td>csgulyas</td><td>94489280577</td></tr><tr><td>Biden2020</td><td>94489280519</td></tr><tr><td>Aragorn</td><td>1151051235329</td></tr><tr><td>Mark_Three</td><td>94489280552</td></tr><tr><td>Mareth</td><td>94489280550</td></tr><tr><td>NEETSOCMGTOWOTAKU</td><td>94489280557</td></tr><tr><td>DarkTriadMan</td><td>1151051235329</td></tr><tr><td>RUDE_RON</td><td>94489280560</td></tr><tr><td>101elle101</td><td>94489280512</td></tr><tr><td>jaleal</td><td>94489280582</td></tr><tr><td>ARDavid</td><td>94489280514</td></tr><tr><td>louisianajeff</td><td>94489280586</td></tr><tr><td>boatsailor</td><td>94489280574</td></tr><tr><td>GuyRessler</td><td>94489280539</td></tr><tr><td>Dahlia</td><td>94489280531</td></tr><tr><td>Khaleesi74</td><td>94489280546</td></tr><tr><td>vahtryn</td><td>103079215187</td></tr><tr><td>PeaceAndJobs1</td><td>103079215141</td></tr><tr><td>Eric_Nielsen</td><td>103079215119</td></tr><tr><td>pepesilvia1</td><td>103079215183</td></tr><tr><td>Thomason</td><td>103079215159</td></tr><tr><td>AnonymousLobotomist</td><td>103079215106</td></tr><tr><td>JAQUEBAUER</td><td>103079215127</td></tr><tr><td>CSAFD</td><td>103079215109</td></tr><tr><td>moot0ne</td><td>103079215181</td></tr><tr><td>Dexter_DR3</td><td>25769803842</td></tr><tr><td>defender63</td><td>103079215170</td></tr><tr><td>SmartGrunt</td><td>103079215153</td></tr><tr><td>lyliandria</td><td>103079215179</td></tr><tr><td>Sol-Rad-Man</td><td>103079215154</td></tr><tr><td>ShowMeDontTellMe</td><td>103079215151</td></tr><tr><td>McCarthythe3rd</td><td>103079215134</td></tr><tr><td>OneStonedCrow</td><td>103079215139</td></tr><tr><td>Mdonato48</td><td>103079215135</td></tr><tr><td>Thegoodfrank</td><td>103079215157</td></tr><tr><td>Hettman</td><td>103079215122</td></tr><tr><td>_M</td><td>103079215165</td></tr><tr><td>softwarnet</td><td>103079215185</td></tr><tr><td>CarnalMormon</td><td>1580547964991</td></tr><tr><td>Alicia777</td><td>103079215105</td></tr><tr><td>IntolerantAsian</td><td>103079215124</td></tr><tr><td>ItIsWhatItIs</td><td>103079215126</td></tr><tr><td>NorthernRake</td><td>103079215137</td></tr><tr><td>Seuchen_Vogel</td><td>103079215149</td></tr><tr><td>Thorwing</td><td>103079215160</td></tr><tr><td>Boatswain1</td><td>103079215108</td></tr><tr><td>garybourgeault</td><td>103079215172</td></tr><tr><td>jprexena</td><td>103079215173</td></tr><tr><td>ShaHouMac</td><td>103079215150</td></tr><tr><td>StormRanger</td><td>103079215155</td></tr><tr><td>Celticpunk</td><td>103079215111</td></tr><tr><td>judiewood2</td><td>103079215174</td></tr><tr><td>VonStoffeln</td><td>103079215161</td></tr><tr><td>Conansdog</td><td>103079215114</td></tr><tr><td>Freedomfighter1776</td><td>103079215120</td></tr><tr><td>InsaneReject</td><td>103079215123</td></tr><tr><td>DrShelly</td><td>103079215118</td></tr><tr><td>Arketex</td><td>25769803842</td></tr><tr><td>WilhelmVonJudengas</td><td>103079215164</td></tr><tr><td>koellenko</td><td>103079215177</td></tr><tr><td>Richard1972</td><td>103079215146</td></tr><tr><td>GarbageDumpster</td><td>103079215121</td></tr><tr><td>KurtSchlichter</td><td>103079215131</td></tr><tr><td>RadCharlie</td><td>103079215143</td></tr><tr><td>steveruns26</td><td>1090921693212</td></tr><tr><td>Slydog134</td><td>103079215152</td></tr><tr><td>Theo22</td><td>103079215158</td></tr><tr><td>WildColonialBoy</td><td>103079215163</td></tr><tr><td>KellKell</td><td>103079215130</td></tr><tr><td>nuidat1611</td><td>103079215182</td></tr><tr><td>ann-molly</td><td>103079215167</td></tr><tr><td>docrampage</td><td>103079215171</td></tr><tr><td>ChiLi-FLake</td><td>103079215112</td></tr><tr><td>JJLaRue42</td><td>103079215128</td></tr><tr><td>Number-Six</td><td>103079215138</td></tr><tr><td>RxRankings</td><td>103079215148</td></tr><tr><td>allnaturestuff</td><td>103079215166</td></tr><tr><td>LutherVaughn</td><td>103079215132</td></tr><tr><td>WhiteSparrow</td><td>326417514580</td></tr><tr><td>Rambo_1</td><td>103079215144</td></tr><tr><td>Judson1776</td><td>103079215129</td></tr><tr><td>kameshdeepakbe</td><td>103079215175</td></tr><tr><td>captnnero</td><td>103079215169</td></tr><tr><td>Ironmanrob</td><td>103079215125</td></tr><tr><td>lestermacgurdy</td><td>103079215178</td></tr><tr><td>blat1982</td><td>326417514580</td></tr><tr><td>monchski</td><td>103079215180</td></tr><tr><td>shitvids</td><td>103079215184</td></tr><tr><td>ProbablyFascist</td><td>103079215142</td></tr><tr><td>DDB65</td><td>103079215115</td></tr><tr><td>ManWithAPlan</td><td>103079215133</td></tr><tr><td>MuzzaChunka</td><td>103079215136</td></tr><tr><td>Discriminator</td><td>103079215117</td></tr></tbody></table>Showing the first 1000 rows.</div>"
      ]
     },
     "metadata": {
      "application/vnd.databricks.v1+output": {
       "addedWidgets": {},
       "aggData": [],
       "aggError": "",
       "aggOverflow": false,
       "aggSchema": [],
       "aggSeriesLimitReached": false,
       "aggType": "",
       "arguments": {},
       "columnCustomDisplayInfos": {},
       "data": [
        [
         "LyaNichol",
         26
        ],
        [
         "Nanatchi",
         29
        ],
        [
         "rm",
         65
        ],
        [
         "Imokurnt",
         19
        ],
        [
         "Wineyards",
         54
        ],
        [
         "BalaamsAss",
         0
        ],
        [
         "Klatuu",
         22
        ],
        [
         "DeoVindice",
         7
        ],
        [
         "REVOLUTION2017",
         34
        ],
        [
         "Tweetest_boi",
         50
        ],
        [
         "greyhat63",
         57
        ],
        [
         "Perspicacious01",
         32
        ],
        [
         "Slammer64",
         326417514580
        ],
        [
         "PalmerStoat",
         31
        ],
        [
         "Rockee1",
         39
        ],
        [
         "LibertyRobin",
         25
        ],
        [
         "DeanNestor7",
         6
        ],
        [
         "yosemitedyess",
         68
        ],
        [
         "leadguitar",
         58
        ],
        [
         "Evenstar",
         9
        ],
        [
         "MYBEVY",
         27
        ],
        [
         "qoheleth",
         63
        ],
        [
         "Wakeup_pl",
         51
        ],
        [
         "gilligan",
         56
        ],
        [
         "Westernmutt",
         52
        ],
        [
         "Hister",
         17
        ],
        [
         "SaRaAshcraft",
         41
        ],
        [
         "Mera1506",
         28
        ],
        [
         "ProudPrimate",
         33
        ],
        [
         "Curtis_Goodnight",
         5
        ],
        [
         "BradBarnhardSho",
         1
        ],
        [
         "FILMCRITHULK",
         10
        ],
        [
         "Troyb",
         48
        ],
        [
         "takeoutthefeds68",
         67
        ],
        [
         "Smkilburn",
         44
        ],
        [
         "mistyrain303",
         61
        ],
        [
         "CW1",
         3
        ],
        [
         "RealMaggieL",
         37
        ],
        [
         "GSMenace",
         12
        ],
        [
         "bbarian",
         55
        ],
        [
         "DrEzekiel",
         8
        ],
        [
         "nimajneb",
         62
        ],
        [
         "Freethinker14",
         11
        ],
        [
         "Tuxedojoe",
         326417514580
        ],
        [
         "Rabbidsith",
         35
        ],
        [
         "BucketHead41391",
         2
        ],
        [
         "saltykontinuum",
         66
        ],
        [
         "CajunTexan",
         4
        ],
        [
         "GertCornelis",
         13
        ],
        [
         "RacMusic",
         36
        ],
        [
         "Horata",
         18
        ],
        [
         "GiovanniDannato",
         14
        ],
        [
         "JustAnotherUsername",
         21
        ],
        [
         "mezzo",
         59
        ],
        [
         "GlennHDuncan",
         15
        ],
        [
         "RecoveringExistentialist",
         38
        ],
        [
         "OWilkinson",
         30
        ],
        [
         "SimonDeMontfort",
         42
        ],
        [
         "LedaSwann",
         23
        ],
        [
         "TheStateofTexas",
         46
        ],
        [
         "Joshmeister",
         20
        ],
        [
         "mikeyroar",
         60
        ],
        [
         "Rumpel",
         40
        ],
        [
         "HatchetMan",
         16
        ],
        [
         "randymelder",
         64
        ],
        [
         "Steadman2030",
         45
        ],
        [
         "TooChainz",
         47
        ],
        [
         "WhiteMail3678",
         53
        ],
        [
         "LegalLolicon",
         24
        ],
        [
         "tillietwit",
         8589934658
        ],
        [
         "Awakening950",
         8589934592
        ],
        [
         "TomCruise1488",
         8589934627
        ],
        [
         "ClaraBow62",
         8589934596
        ],
        [
         "DrFred57",
         8589934599
        ],
        [
         "destr0yer",
         8589934637
        ],
        [
         "sherbz",
         8589934653
        ],
        [
         "DeWitteGeuzen",
         8589934598
        ],
        [
         "rogerrocket",
         8589934652
        ],
        [
         "RealPhantomLibertarian",
         8589934622
        ],
        [
         "hsteggles",
         8589934641
        ],
        [
         "OuttaTheBoxMarketing",
         8589934616
        ],
        [
         "hunterkyke",
         8589934642
        ],
        [
         "TXStaysRed",
         8589934624
        ],
        [
         "commando101",
         8589934636
        ],
        [
         "CSIcop",
         8589934593
        ],
        [
         "Legacy_Redeemer",
         8589934607
        ],
        [
         "andrewcolomy",
         8589934632
        ],
        [
         "OutofStep503",
         8589934615
        ],
        [
         "UnitedDixieWhiteKnights",
         8589934628
        ],
        [
         "LEHCIM",
         8589934605
        ],
        [
         "notch",
         8589934648
        ],
        [
         "OPRM",
         8589934613
        ],
        [
         "unowen",
         8589934659
        ],
        [
         "MizDi",
         8589934610
        ],
        [
         "Mollytwo",
         8589934611
        ],
        [
         "thebigcomic",
         8589934657
        ],
        [
         "Gunzilla",
         8589934603
        ],
        [
         "bobadobalina",
         8589934635
        ],
        [
         "NormKarsh",
         8589934612
        ],
        [
         "Valerius",
         8589934629
        ],
        [
         "lilmac_d",
         8589934645
        ],
        [
         "m_h_a_r",
         8589934646
        ],
        [
         "jaklumen",
         8589934643
        ],
        [
         "nigga",
         8589934647
        ],
        [
         "pmjones",
         8589934649
        ],
        [
         "Teh_Landstander",
         8589934625
        ],
        [
         "Grubama",
         8589934602
        ],
        [
         "ExBladeRunner",
         8589934601
        ],
        [
         "telikonol",
         8589934656
        ],
        [
         "PatriotInfidel",
         8589934619
        ],
        [
         "Cenepk10",
         8589934594
        ],
        [
         "PNWDeplorable",
         8589934618
        ],
        [
         "ChrisProck",
         8589934595
        ],
        [
         "Millersteve",
         8589934609
        ],
        [
         "kimdee2",
         8589934644
        ],
        [
         "LaKingFish",
         8589934606
        ],
        [
         "CurtisPulaski",
         8589934597
        ],
        [
         "axsomreport",
         8589934633
        ],
        [
         "foilhat",
         8589934640
        ],
        [
         "Piddlepuck86",
         8589934621
        ],
        [
         "woli2017",
         8589934660
        ],
        [
         "easher555",
         8589934638
        ],
        [
         "precysetraining",
         8589934651
        ],
        [
         "bellTackel",
         8589934634
        ],
        [
         "Sulesko",
         8589934623
        ],
        [
         "Johanson",
         8589934604
        ],
        [
         "Ohio-Against-Islam",
         8589934614
        ],
        [
         "Zophiel",
         1176821039109
        ],
        [
         "flashfyre",
         8589934639
        ],
        [
         "Elianastar",
         8589934600
        ],
        [
         "pops-clark",
         8589934650
        ],
        [
         "PCH5150",
         8589934617
        ],
        [
         "somecnut",
         8589934655
        ],
        [
         "Valor",
         8589934630
        ],
        [
         "Liberty_Over_Safety",
         8589934608
        ],
        [
         "PerpetualPierre",
         8589934620
        ],
        [
         "solarman",
         8589934654
        ],
        [
         "TheRuralJuror",
         8589934626
        ],
        [
         "CivilUnrest21",
         17179869191
        ],
        [
         "glassmenagerie",
         17179869241
        ],
        [
         "Evell",
         17179869201
        ],
        [
         "Soprano",
         17179869228
        ],
        [
         "soundmoneyTheBand",
         17179869255
        ],
        [
         "turmic",
         17179869256
        ],
        [
         "mrbanshee",
         17179869248
        ],
        [
         "MMMiller",
         17179869218
        ],
        [
         "mcgoverntm",
         17179869247
        ],
        [
         "vl3509",
         17179869257
        ],
        [
         "frogdivision",
         17179869240
        ],
        [
         "Busterizer",
         17179869190
        ],
        [
         "hillary1",
         17179869244
        ],
        [
         "MikeJohnson151",
         17179869219
        ],
        [
         "Sahdwv",
         17179869224
        ],
        [
         "FashGun",
         17179869202
        ],
        [
         "itchy8me",
         17179869245
        ],
        [
         "Sheltowee",
         17179869226
        ],
        [
         "jlew3000",
         17179869246
        ],
        [
         "Asgod",
         17179869186
        ],
        [
         "DocH",
         17179869199
        ],
        [
         "Clandestino",
         17179869192
        ],
        [
         "heavenapostrophe",
         17179869243
        ],
        [
         "HullBreach",
         17179869210
        ],
        [
         "Xerion",
         17179869234
        ],
        [
         "floridajacks",
         17179869238
        ],
        [
         "TripleCrownDonkey",
         17179869231
        ],
        [
         "outforbeer",
         17179869251
        ],
        [
         "habz1959",
         17179869242
        ],
        [
         "LucVNO",
         17179869217
        ],
        [
         "HeyYou",
         17179869209
        ],
        [
         "buttsecks",
         17179869235
        ],
        [
         "ANC46",
         17179869185
        ],
        [
         "Laurentia",
         17179869214
        ],
        [
         "Auminer",
         17179869187
        ],
        [
         "Frankie_J",
         17179869203
        ],
        [
         "GabrielWest",
         1365799600166
        ],
        [
         "piranha",
         17179869252
        ],
        [
         "In2it2ru2",
         17179869211
        ],
        [
         "DarrylN",
         17179869195
        ],
        [
         "evilmidget223",
         17179869237
        ],
        [
         "Trumptard",
         17179869232
        ],
        [
         "SomethingMusic",
         17179869227
        ],
        [
         "DeplorableLaughterRx",
         1176821039109
        ],
        [
         "Dachux",
         17179869194
        ],
        [
         "Robert5150",
         17179869223
        ],
        [
         "Technomancy",
         17179869229
        ],
        [
         "HellMary",
         17179869208
        ],
        [
         "JamesDavis",
         17179869212
        ],
        [
         "GhostOfCobain",
         17179869206
        ],
        [
         "Mitzibitzi",
         17179869220
        ],
        [
         "Dblaze09",
         17179869196
        ],
        [
         "2004done",
         17179869184
        ],
        [
         "FreedomPostOrg",
         17179869204
        ],
        [
         "freetexas2",
         17179869239
        ],
        [
         "Terlynden",
         17179869230
        ],
        [
         "LivingonaBlueDot2",
         17179869216
        ],
        [
         "whytpharaoh69",
         17179869258
        ],
        [
         "Lasry",
         1176821039109
        ],
        [
         "Bribribrianna",
         17179869189
        ],
        [
         "DeathBySalad",
         17179869197
        ],
        [
         "Palmtile",
         17179869222
        ],
        [
         "carpedonktum",
         17179869236
        ],
        [
         "Corr2112",
         17179869193
        ],
        [
         "BOZGAL",
         17179869188
        ],
        [
         "LegallyShip",
         17179869215
        ],
        [
         "one-eyed-fat-man",
         17179869250
        ],
        [
         "GoofyGrape",
         17179869207
        ],
        [
         "skyler",
         17179869254
        ],
        [
         "omEon",
         17179869249
        ],
        [
         "Drt4kidz",
         17179869200
        ],
        [
         "Username99",
         17179869233
        ],
        [
         "NickMonaco",
         17179869221
        ],
        [
         "Sakker",
         17179869225
        ],
        [
         "pswbb",
         17179869253
        ],
        [
         "twatta1717",
         25769803846
        ],
        [
         "eagles_feather",
         25769803830
        ],
        [
         "fresheyeball",
         25769803831
        ],
        [
         "DeplorableCrystal",
         25769803790
        ],
        [
         "Sypher_277",
         25769803825
        ],
        [
         "Anonintel",
         25769803780
        ],
        [
         "EternalVolgar",
         25769803793
        ],
        [
         "Deformed",
         25769803789
        ],
        [
         "DanaBougon",
         25769803787
        ],
        [
         "NewYorkerParody",
         25769803812
        ],
        [
         "TrumpCountryUSA",
         25769803828
        ],
        [
         "nubiangod",
         25769803838
        ],
        [
         "Mutt",
         25769803810
        ],
        [
         "DE-Nazi-AKA-DA-Troll",
         1176821039109
        ],
        [
         "DictatorsNephew",
         25769803791
        ],
        [
         "MBCB4TRUMP",
         25769803806
        ],
        [
         "Puffy",
         25769803815
        ],
        [
         "JGlaze",
         25769803796
        ],
        [
         "ForBritain",
         25769803794
        ],
        [
         "Orthodox",
         1176821039109
        ],
        [
         "TheRealDonaldTrump45",
         1176821039109
        ],
        [
         "theyrcoming",
         25769803845
        ],
        [
         "bernd",
         25769803829
        ],
        [
         "Beau",
         25769803782
        ],
        [
         "quizbayz",
         25769803839
        ],
        [
         "LynneMarie",
         25769803805
        ],
        [
         "Mol",
         25769803809
        ],
        [
         "lauraandrhino",
         25769803834
        ],
        [
         "ROYALMRBADNEWS",
         25769803817
        ],
        [
         "American1765",
         25769803779
        ],
        [
         "galt2030",
         25769803832
        ],
        [
         "MelMax",
         25769803808
        ],
        [
         "Ramer2008",
         25769803818
        ],
        [
         "gconyers",
         25769803833
        ],
        [
         "vhfanDR",
         25769803847
        ],
        [
         "sjwmith",
         25769803843
        ],
        [
         "Naternot",
         25769803811
        ],
        [
         "DavidOfOne",
         25769803788
        ],
        [
         "PGeeve",
         25769803814
        ],
        [
         "norseman76",
         1176821039109
        ],
        [
         "Lockerius",
         25769803804
        ],
        [
         "science",
         25769803841
        ],
        [
         "StJames2017",
         25769803823
        ],
        [
         "Kristinb",
         25769803802
        ],
        [
         "AzWarrior",
         25769803781
        ],
        [
         "libbylibbylibby",
         25769803835
        ],
        [
         "AHempster",
         25769803776
        ],
        [
         "Birdy",
         25769803784
        ],
        [
         "JoeSixpack",
         25769803800
        ],
        [
         "MartaVonRunge",
         25769803807
        ],
        [
         "shuhari",
         25769803842
        ],
        [
         "ThoughtCriminal303",
         25769803827
        ],
        [
         "JamesDay",
         25769803798
        ],
        [
         "AdamWarlock",
         25769803777
        ],
        [
         "StormyBird",
         25769803824
        ],
        [
         "JR_Patriot",
         25769803797
        ],
        [
         "Jami_USA",
         25769803799
        ],
        [
         "CJSR",
         25769803785
        ],
        [
         "slamperein",
         25769803844
        ],
        [
         "Lara04011",
         25769803803
        ],
        [
         "Spooky530",
         25769803822
        ],
        [
         "zyalia6tz",
         1176821039109
        ],
        [
         "SXN",
         25769803821
        ],
        [
         "DrDerb",
         25769803792
        ],
        [
         "Rocrates",
         25769803820
        ],
        [
         "Richard5159",
         25769803819
        ],
        [
         "Best_Korea",
         609885356051
        ],
        [
         "newworldicon",
         25769803836
        ],
        [
         "Hermann",
         25769803795
        ],
        [
         "Alucard",
         25769803778
        ],
        [
         "roblet",
         25769803840
        ],
        [
         "PunchStone",
         25769803816
        ],
        [
         "JustinDMelvin",
         25769803801
        ],
        [
         "LimticArt",
         34359738398
        ],
        [
         "Solidsnake",
         326417514580
        ],
        [
         "Aaptwak",
         34359738369
        ],
        [
         "roar88",
         34359738429
        ],
        [
         "InfoWarrior",
         34359738392
        ],
        [
         "VastAwakening",
         34359738414
        ],
        [
         "Manco_Nada",
         34359738399
        ],
        [
         "Snow_Worries",
         1176821039109
        ],
        [
         "MelissaLynn65",
         34359738402
        ],
        [
         "Poletical",
         34359738407
        ],
        [
         "HEISENBURG",
         34359738387
        ],
        [
         "BLMTerrorist",
         34359738373
        ],
        [
         "Cunningfox",
         34359738378
        ],
        [
         "Ibonic",
         34359738391
        ],
        [
         "mbhpower",
         34359738426
        ],
        [
         "Margi59",
         1262720385088
        ],
        [
         "Archive_News",
         34359738372
        ],
        [
         "Angel4Light",
         34359738370
        ],
        [
         "HickoryTomato",
         34359738389
        ],
        [
         "NotaLoneWolf",
         34359738404
        ],
        [
         "1943Trucker",
         34359738368
        ],
        [
         "TobaccoRoad",
         34359738413
        ],
        [
         "Wases",
         34359738416
        ],
        [
         "ElektroHund",
         34359738384
        ],
        [
         "Schulin",
         34359738409
        ],
        [
         "WarHammer28",
         34359738415
        ],
        [
         "JAMONSQUIRE",
         34359738393
        ],
        [
         "Weblollipop",
         34359738417
        ],
        [
         "thelastofthemohicans",
         34359738433
        ],
        [
         "acynecin",
         34359738420
        ],
        [
         "ab_eo_tempore",
         34359738419
        ],
        [
         "CJlovesAmerica1234",
         34359738375
        ],
        [
         "PatriotBoots",
         34359738405
        ],
        [
         "KoljaBonke",
         34359738396
        ],
        [
         "Destefano",
         34359738381
        ],
        [
         "AnotherBill",
         34359738371
        ],
        [
         "HamishHamilton",
         34359738388
        ],
        [
         "PeaceNotWar",
         34359738406
        ],
        [
         "David_Berger",
         34359738379
        ],
        [
         "rmead777",
         34359738428
        ],
        [
         "Not2late",
         34359738403
        ],
        [
         "Dholderman77",
         34359738382
        ],
        [
         "badger1970",
         34359738421
        ],
        [
         "YippieKiYayE13",
         34359738418
        ],
        [
         "seomilwaukee",
         34359738430
        ],
        [
         "JackLDaniels",
         34359738394
        ],
        [
         "JordanChristopher",
         326417514580
        ],
        [
         "carbonunit",
         34359738422
        ],
        [
         "Bonesawisready",
         34359738374
        ],
        [
         "DutchKarin",
         34359738383
        ],
        [
         "Matthew_Dimock",
         34359738401
        ],
        [
         "nonibaby",
         34359738427
        ],
        [
         "lesbianwalrus_DEFUNCT",
         34359738425
        ],
        [
         "sparkzz",
         34359738431
        ],
        [
         "Cranki",
         34359738377
        ],
        [
         "Gravelrash",
         34359738386
        ],
        [
         "LG72",
         34359738397
        ],
        [
         "TheOptionOracle",
         34359738412
        ],
        [
         "cg",
         34359738423
        ],
        [
         "srhholdem2233",
         34359738432
        ],
        [
         "Demo1972",
         34359738380
        ],
        [
         "Ciaparat",
         34359738376
        ],
        [
         "Homunizam",
         34359738390
        ],
        [
         "EugeneWhiting",
         34359738385
        ],
        [
         "Ponderouschain",
         34359738408
        ],
        [
         "internetpartisan",
         34359738424
        ],
        [
         "DeplorableKirk",
         42949672976
        ],
        [
         "BamaStrong",
         42949672966
        ],
        [
         "CarolinaCurious",
         42949672971
        ],
        [
         "PFavata66",
         42949673000
        ],
        [
         "Hotaugustnights1",
         42949672983
        ],
        [
         "Spar10fit",
         42949673007
        ],
        [
         "WorldVoices",
         42949673012
        ],
        [
         "DaleNixon84x",
         42949672975
        ],
        [
         "Baerchi0815",
         42949672965
        ],
        [
         "CZRboB",
         42949672970
        ],
        [
         "alainbeauregard",
         42949673014
        ],
        [
         "tekstar77",
         42949673033
        ],
        [
         "KittenFur",
         42949672987
        ],
        [
         "VolksReich",
         42949673010
        ],
        [
         "HeinousAeinous",
         42949672982
        ],
        [
         "SonsOfReagan",
         42949673006
        ],
        [
         "Nette66",
         42949672998
        ],
        [
         "JonKirkpatrick",
         42949672985
        ],
        [
         "rancher_86",
         42949673027
        ],
        [
         "LampshadeTechnician",
         42949672990
        ],
        [
         "Gothic_metal_lover",
         42949672980
        ],
        [
         "Agabus274",
         42949672961
        ],
        [
         "shufunk",
         42949673031
        ],
        [
         "SilveryBlue",
         42949673005
        ],
        [
         "NieSmeOtpor",
         42949672999
        ],
        [
         "nanowerx",
         42949673025
        ],
        [
         "spotify",
         42949673032
        ],
        [
         "jgrismer",
         42949673021
        ],
        [
         "BrainStressBall",
         42949672968
        ],
        [
         "Lars81",
         42949672991
        ],
        [
         "bigmammasBAps",
         42949673016
        ],
        [
         "WinyanStazWakien",
         42949673011
        ],
        [
         "querfront",
         42949673026
        ],
        [
         "2ndlook1",
         42949672960
        ],
        [
         "BrianSombrets",
         42949672969
        ],
        [
         "LouieHuey",
         42949672995
        ],
        [
         "frmarques12",
         42949673019
        ],
        [
         "KlausHenchmann",
         42949672988
        ],
        [
         "linguistic_killshot",
         326417514580
        ],
        [
         "KellyB71",
         42949672986
        ],
        [
         "TruthSeeker1776",
         42949673009
        ],
        [
         "dbcoopersmoney",
         42949673018
        ],
        [
         "Dividends4Life",
         42949672977
        ],
        [
         "Maxd11",
         42949672996
        ],
        [
         "scubadude",
         42949673028
        ],
        [
         "LastmaninEurope",
         42949672992
        ],
        [
         "moosegroyper",
         42949673024
        ],
        [
         "BowenBazaar",
         42949672967
        ],
        [
         "LlamaMan",
         42949672994
        ],
        [
         "CptMorganII",
         42949672973
        ],
        [
         "hereiam",
         42949673020
        ],
        [
         "busibees",
         42949673017
        ],
        [
         "The9thCrusade",
         42949673008
        ],
        [
         "POLARFAISE",
         42949673001
        ],
        [
         "GlobalistStatist",
         42949672979
        ],
        [
         "ReflectionsofJM",
         42949673004
        ],
        [
         "AndersonDan",
         42949672962
        ],
        [
         "sheerfuckingterror",
         42949673029
        ],
        [
         "FeralBlonde",
         42949672978
        ],
        [
         "Panem",
         42949673002
        ],
        [
         "appliedecon",
         42949673015
        ],
        [
         "krazyglue",
         42949673022
        ],
        [
         "AnnieM",
         42949672963
        ],
        [
         "James_K_Glass",
         1580547964991
        ],
        [
         "PplRCrazy",
         42949673003
        ],
        [
         "AnonYMooseBoG",
         42949672964
        ],
        [
         "Kongpancake",
         42949672989
        ],
        [
         "CarolynEmerick",
         42949672972
        ],
        [
         "MoPark",
         42949672997
        ],
        [
         "DOITQ",
         42949672974
        ],
        [
         "Gunnar341",
         42949672981
        ],
        [
         "LibVanquisher",
         42949672993
        ],
        [
         "a",
         42949673013
        ],
        [
         "shitlording",
         1580547964991
        ],
        [
         "JustaDjimmi",
         51539607590
        ],
        [
         "CoxSteve",
         51539607568
        ],
        [
         "BASED_KRYSTIAN",
         51539607563
        ],
        [
         "Jerlou",
         51539607586
        ],
        [
         "SMB",
         51539607606
        ],
        [
         "WingChun_Life",
         51539607620
        ],
        [
         "vonstein",
         51539607644
        ],
        [
         "amq",
         51539607623
        ],
        [
         "Based_aspie",
         51539607565
        ],
        [
         "Redmex",
         51539607605
        ],
        [
         "EPluribusUnum2020",
         51539607576
        ],
        [
         "BOBOFkake",
         51539607564
        ],
        [
         "paulo2020",
         51539607640
        ],
        [
         "capital0",
         51539607626
        ],
        [
         "NSFWradio",
         51539607594
        ],
        [
         "Wild_Bill316",
         51539607619
        ],
        [
         "GarethTheTerrible",
         51539607582
        ],
        [
         "AndreaNYNY",
         51539607557
        ],
        [
         "DBHnBuckhead",
         51539607570
        ],
        [
         "Netfrogs",
         51539607596
        ],
        [
         "Aquilam",
         51539607560
        ],
        [
         "AprilReigne",
         51539607559
        ],
        [
         "therealAlexMorris",
         51539607642
        ],
        [
         "Anglo-Saxon",
         51539607558
        ],
        [
         "Sensei_J",
         51539607608
        ],
        [
         "Jack_Mehoff",
         51539607585
        ],
        [
         "blckops",
         51539607625
        ],
        [
         "old-ager",
         51539607639
        ],
        [
         "RSmithers",
         51539607603
        ],
        [
         "FactsareSafe",
         51539607580
        ],
        [
         "ACL9000",
         51539607553
        ],
        [
         "AzureMace",
         51539607562
        ],
        [
         "benito-camesta",
         51539607624
        ],
        [
         "fiatlux5777",
         51539607632
        ],
        [
         "EnochChurchill",
         51539607578
        ],
        [
         "jimtdavis",
         51539607635
        ],
        [
         "dedriannes",
         51539607630
        ],
        [
         "Mo0815",
         51539607593
        ],
        [
         "Nakoni65",
         51539607595
        ],
        [
         "Ttiot",
         51539607616
        ],
        [
         "DerekMYohe",
         51539607573
        ],
        [
         "HouseHendoe",
         51539607584
        ],
        [
         "dub",
         326417514580
        ],
        [
         "DavidKirkland",
         51539607571
        ],
        [
         "JohnGalt1961",
         51539607587
        ],
        [
         "mikekto",
         51539607636
        ],
        [
         "Johnny5024",
         51539607588
        ],
        [
         "ONEARTHASITISINHEAVEN",
         51539607598
        ],
        [
         "Johnyrebb",
         1151051235329
        ],
        [
         "AmericanTruth",
         51539607554
        ],
        [
         "LibsNoFun",
         51539607592
        ],
        [
         "Porkey_Pig",
         51539607601
        ],
        [
         "TMGIJane",
         51539607611
        ],
        [
         "Sadist",
         51539607607
        ],
        [
         "wmathison",
         51539607645
        ],
        [
         "TomKawczynski",
         51539607615
        ],
        [
         "Aynfan",
         51539607561
        ],
        [
         "NormanSpear1",
         51539607597
        ],
        [
         "Desolator2B",
         51539607574
        ],
        [
         "jeanicebarcelo",
         51539607634
        ],
        [
         "KJBoyer",
         51539607591
        ],
        [
         "RealMikePannone",
         51539607604
        ],
        [
         "Ehkoh",
         51539607577
        ],
        [
         "Americanproud",
         51539607555
        ],
        [
         "Cookey4444",
         51539607567
        ],
        [
         "2525",
         51539607552
        ],
        [
         "Tashdacat",
         51539607612
        ],
        [
         "dawns5900",
         51539607629
        ],
        [
         "missourymule",
         51539607638
        ],
        [
         "Deplazierter",
         51539607572
        ],
        [
         "americarise-fedup",
         51539607622
        ],
        [
         "ChaunceyTinker",
         51539607566
        ],
        [
         "shannonrwatts",
         51539607641
        ],
        [
         "TheBaldChick",
         51539607614
        ],
        [
         "thermaltwitch",
         51539607643
        ],
        [
         "WhiskeyRebel",
         51539607618
        ],
        [
         "jaxter77",
         51539607633
        ],
        [
         "Duckhunter1960",
         51539607575
        ],
        [
         "Skyfly",
         51539607610
        ],
        [
         "ProjectWeepingAngel",
         51539607602
        ],
        [
         "Foosa",
         51539607581
        ],
        [
         "Shepherd-of-fire",
         51539607609
        ],
        [
         "PieAlwaysWins",
         51539607600
        ],
        [
         "PabloNada",
         51539607599
        ],
        [
         "clarktrentwastaken",
         51539607627
        ],
        [
         "Andraste09",
         51539607556
        ],
        [
         "Grandgiant311",
         51539607583
        ],
        [
         "UncleVeracity",
         51539607617
        ],
        [
         "darthstryfe",
         51539607628
        ],
        [
         "_1",
         326417514580
        ],
        [
         "mikemoore",
         1176821039109
        ],
        [
         "Crom_dom",
         51539607569
        ],
        [
         "Texas_Prime",
         51539607613
        ],
        [
         "EvanTanner",
         51539607579
        ],
        [
         "patriot25",
         60129542213
        ],
        [
         "UnkleRollo",
         60129542194
        ],
        [
         "WaterIsLife",
         60129542195
        ],
        [
         "Pjackson6688",
         60129542180
        ],
        [
         "Rrabbit",
         60129542184
        ],
        [
         "aukai",
         60129542199
        ],
        [
         "Nkreider",
         60129542176
        ],
        [
         "Helpsnotontheway",
         1176821039109
        ],
        [
         "jasonhedgepeth",
         60129542209
        ],
        [
         "Nightmouse",
         60129542175
        ],
        [
         "WetCunt",
         60129542196
        ],
        [
         "tommyminyard1027",
         60129542221
        ],
        [
         "JamesK-American",
         60129542167
        ],
        [
         "Matth779",
         60129542173
        ],
        [
         "DaleyGator",
         60129542152
        ],
        [
         "Nohorse",
         60129542177
        ],
        [
         "joZef",
         60129542210
        ],
        [
         "INTERNETCON",
         60129542162
        ],
        [
         "EdgeOfDank",
         60129542156
        ],
        [
         "Braulz",
         60129542150
        ],
        [
         "lynchem",
         60129542212
        ],
        [
         "Pompapompa",
         60129542181
        ],
        [
         "Trumpetpro",
         1176821039109
        ],
        [
         "Hajiklr",
         60129542158
        ],
        [
         "Kev0",
         60129542170
        ],
        [
         "red_pill_rightist",
         60129542217
        ],
        [
         "amyvanhym",
         60129542198
        ],
        [
         "bvb",
         60129542200
        ],
        [
         "StormCommando",
         60129542188
        ],
        [
         "Swood7797",
         60129542189
        ],
        [
         "Santa401",
         25769803842
        ],
        [
         "pvoce",
         60129542216
        ],
        [
         "Rob-the-robot",
         60129542182
        ],
        [
         "Artco77",
         60129542148
        ],
        [
         "Deweylasv",
         60129542154
        ],
        [
         "Ronwins3",
         60129542183
        ],
        [
         "Owen-Monet",
         60129542178
        ],
        [
         "AKCarrillo",
         60129542144
        ],
        [
         "LordKel",
         60129542172
        ],
        [
         "cycles13",
         60129542202
        ],
        [
         "JamYouMonkey",
         60129542166
        ],
        [
         "Hendo0609",
         60129542160
        ],
        [
         "Sparks1017",
         60129542187
        ],
        [
         "djtmetz",
         1580547964991
        ],
        [
         "TrumpFarage1488",
         60129542192
        ],
        [
         "Invictus36",
         60129542163
        ],
        [
         "McDermie",
         60129542174
        ],
        [
         "Blitz_Wolfer",
         60129542149
        ],
        [
         "Eclipsebrk",
         60129542155
        ],
        [
         "jael",
         60129542208
        ],
        [
         "c_am_el_s",
         60129542201
        ],
        [
         "JadedByPolitics",
         60129542165
        ],
        [
         "dpinsen",
         60129542205
        ],
        [
         "TheOriginalG",
         60129542191
        ],
        [
         "AltrightAmerican",
         60129542146
        ],
        [
         "Americanannie",
         60129542147
        ],
        [
         "JohnnyF",
         60129542169
        ],
        [
         "ElveTwelve",
         60129542157
        ],
        [
         "JWilderness",
         60129542164
        ],
        [
         "vpenley",
         60129542222
        ],
        [
         "getyerfreedom",
         60129542206
        ],
        [
         "dharmapunk5",
         60129542203
        ],
        [
         "zimbobH",
         60129542223
        ],
        [
         "Saintsnsinners",
         60129542185
        ],
        [
         "phoenixTPR",
         1176821039109
        ],
        [
         "kiwikek",
         60129542211
        ],
        [
         "Hippy_Pimp",
         60129542161
        ],
        [
         "paulmatheos",
         60129542214
        ],
        [
         "techosapien",
         60129542220
        ],
        [
         "Dcat1",
         60129542153
        ],
        [
         "LibertyVox",
         60129542171
        ],
        [
         "Zabka_Speaks",
         60129542197
        ],
        [
         "TheKeys",
         60129542190
        ],
        [
         "Cuck_Fensorship",
         60129542151
        ],
        [
         "scottyboy77",
         60129542218
        ],
        [
         "JohnQPublic",
         60129542168
        ],
        [
         "sdavis1465",
         60129542219
        ],
        [
         "PaleHorse",
         60129542179
        ],
        [
         "hoveling",
         60129542207
        ],
        [
         "ActivePooter",
         60129542145
        ],
        [
         "Shadows8",
         68719476787
        ],
        [
         "Watfam5",
         68719476798
        ],
        [
         "msimek",
         68719476815
        ],
        [
         "OkieGunLover",
         68719476775
        ],
        [
         "PBelle547",
         68719476776
        ],
        [
         "AdamSmith18",
         68719476737
        ],
        [
         "currentyear",
         68719476809
        ],
        [
         "Zaklog",
         68719476800
        ],
        [
         "ZippyXavier",
         68719476802
        ],
        [
         "redhead6886",
         68719476816
        ],
        [
         "JulianEckstein",
         68719476763
        ],
        [
         "ThermopticMind",
         68719476795
        ],
        [
         "Honingpot",
         68719476759
        ],
        [
         "HocEstBellum",
         1176821039109
        ],
        [
         "RealWednesdayy",
         68719476783
        ],
        [
         "AvengerK97",
         68719476742
        ],
        [
         "SmilingJack",
         68719476788
        ],
        [
         "Majortruther",
         68719476769
        ],
        [
         "Jeepstaff1",
         68719476762
        ],
        [
         "Heydrich",
         68719476756
        ],
        [
         "cadev",
         68719476807
        ],
        [
         "Releasethememo",
         68719476784
        ],
        [
         "ufish",
         68719476820
        ],
        [
         "Wrench2tc",
         68719476799
        ],
        [
         "Paul007",
         68719476778
        ],
        [
         "kelotsuba",
         68719476812
        ],
        [
         "AprioriHitman",
         68719476741
        ],
        [
         "FerociousTruth",
         68719476751
        ],
        [
         "RickyBobbySez",
         68719476785
        ],
        [
         "wjappe",
         68719476821
        ],
        [
         "BasedTXN",
         68719476743
        ],
        [
         "MarieB68",
         68719476771
        ],
        [
         "FeInFL",
         68719476750
        ],
        [
         "PeacockAngel",
         68719476779
        ],
        [
         "CurtiusSimplus",
         68719476746
        ],
        [
         "chrisplustina96",
         68719476808
        ],
        [
         "DaFaking1",
         68719476747
        ],
        [
         "Grames_Barnaby",
         68719476754
        ],
        [
         "CapoBlako",
         68719476744
        ],
        [
         "PoliteSupremacist",
         68719476781
        ],
        [
         "Alice_F",
         68719476738
        ],
        [
         "fussaboy",
         68719476810
        ],
        [
         "HairMoccasins",
         68719476755
        ],
        [
         "Freeanddivided",
         68719476752
        ],
        [
         "LizardShit69",
         68719476765
        ],
        [
         "cabinetmaker",
         68719476806
        ],
        [
         "Anubis716",
         68719476740
        ],
        [
         "Vexing_Hiraeth",
         68719476797
        ],
        [
         "TheLordBme",
         68719476793
        ],
        [
         "AnthonyParsons",
         68719476739
        ],
        [
         "slackerstacker",
         68719476817
        ],
        [
         "HouseCracka",
         68719476760
        ],
        [
         "Nitai22",
         68719476773
        ],
        [
         "LoveWatercolor",
         68719476766
        ],
        [
         "Peter_Green",
         68719476780
        ],
        [
         "moviecaveman",
         68719476814
        ],
        [
         "Mandos",
         68719476770
        ],
        [
         "PonderingMindz",
         68719476782
        ],
        [
         "Ennuion",
         68719476749
        ],
        [
         "StAutist",
         68719476791
        ],
        [
         "SsmithSally",
         68719476790
        ],
        [
         "IthePerson",
         68719476761
        ],
        [
         "badslave",
         68719476803
        ],
        [
         "APB",
         68719476736
        ],
        [
         "MaeLin",
         68719476767
        ],
        [
         "Godwins",
         68719476753
        ],
        [
         "Sun2mold",
         68719476792
        ],
        [
         "theroadtopower",
         68719476818
        ],
        [
         "ZiaErica",
         68719476801
        ],
        [
         "HighDutchman",
         68719476757
        ],
        [
         "Lilangel",
         68719476764
        ],
        [
         "USA_Aquanaut",
         68719476796
        ],
        [
         "bmar999",
         68719476804
        ],
        [
         "Sparke",
         68719476789
        ],
        [
         "brandonari",
         68719476805
        ],
        [
         "Mahmoud1212",
         68719476768
        ],
        [
         "Demiglace",
         68719476748
        ],
        [
         "Occidental_Spirit",
         68719476774
        ],
        [
         "CaptainCanuck",
         68719476745
        ],
        [
         "RottenNutshell",
         68719476786
        ],
        [
         "Michilimackinac",
         68719476772
        ],
        [
         "Pandanni",
         68719476777
        ],
        [
         "libertyfarmsiowa",
         25769803842
        ],
        [
         "The_Grey_Man",
         68719476794
        ],
        [
         "ihatematt",
         68719476811
        ],
        [
         "twidget",
         68719476819
        ],
        [
         "Kennys",
         77309411361
        ],
        [
         "ConstitutionBillofRights",
         77309411343
        ],
        [
         "MichelleTeller",
         77309411366
        ],
        [
         "ShadowSprite222",
         77309411375
        ],
        [
         "CptMann",
         77309411344
        ],
        [
         "artsy897",
         77309411387
        ],
        [
         "jimjed",
         77309411396
        ],
        [
         "PrestonsDad",
         77309411372
        ],
        [
         "gringotj",
         77309411393
        ],
        [
         "Fairchild",
         77309411347
        ],
        [
         "HiliaryClinton",
         77309411356
        ],
        [
         "AntifaMom",
         77309411331
        ],
        [
         "PearlyMay",
         77309411370
        ],
        [
         "ilovegrover",
         77309411394
        ],
        [
         "Sunshine2016",
         77309411377
        ],
        [
         "ColchesterCollection",
         77309411342
        ],
        [
         "Guner",
         77309411352
        ],
        [
         "pauljosephwatson",
         77309411399
        ],
        [
         "BOCCAVERITA",
         77309411333
        ],
        [
         "HardKnockJimmy",
         77309411354
        ],
        [
         "woltros",
         77309411403
        ],
        [
         "beretta22",
         77309411388
        ],
        [
         "TheConservateam",
         77309411379
        ],
        [
         "Axote",
         77309411332
        ],
        [
         "BradSherard",
         77309411336
        ],
        [
         "toddwieland",
         1176821039109
        ],
        [
         "shapiro",
         77309411401
        ],
        [
         "BoondockSaint",
         77309411335
        ],
        [
         "Pnhearer",
         77309411371
        ],
        [
         "TrumpArmy",
         77309411381
        ],
        [
         "JTCoyote",
         77309411359
        ],
        [
         "WangFoo",
         77309411383
        ],
        [
         "bobcatready",
         77309411390
        ],
        [
         "Bookah72",
         77309411334
        ],
        [
         "jessegarboden",
         77309411395
        ],
        [
         "Ann-Marie",
         77309411330
        ],
        [
         "RickyGP",
         77309411373
        ],
        [
         "GhostOfNiccolo",
         77309411350
        ],
        [
         "Farrier1959",
         77309411348
        ],
        [
         "BrotherLarry",
         77309411337
        ],
        [
         "CaptainKirk",
         77309411339
        ],
        [
         "pcfreeguy",
         77309411400
        ],
        [
         "ThoughtfulChrysalis",
         77309411380
        ],
        [
         "NickSmith36",
         77309411369
        ],
        [
         "goodman",
         77309411392
        ],
        [
         "Chef_Boyhowdy",
         77309411340
        ],
        [
         "leserbriefing",
         77309411397
        ],
        [
         "HoJo3",
         77309411357
        ],
        [
         "SwansonFineArts",
         77309411378
        ],
        [
         "SkyeBoat",
         77309411376
        ],
        [
         "News_GCST",
         77309411368
        ],
        [
         "Dutigad1",
         77309411346
        ],
        [
         "Bryansix",
         77309411338
        ],
        [
         "byshields",
         77309411391
        ],
        [
         "anderjo58",
         77309411386
        ],
        [
         "Angel9001",
         77309411329
        ],
        [
         "Mr_Kati",
         77309411367
        ],
        [
         "MarchForOurRights",
         77309411363
        ],
        [
         "Helnbak08",
         77309411355
        ],
        [
         "Jejfarmer",
         77309411360
        ],
        [
         "DaveWTheThinker",
         77309411345
        ],
        [
         "Rikistik",
         77309411374
        ],
        [
         "WRSA",
         77309411382
        ],
        [
         "billy_campbell",
         77309411389
        ],
        [
         "Gtana",
         77309411351
        ],
        [
         "ClintEastwood",
         77309411341
        ],
        [
         "Max88million",
         77309411365
        ],
        [
         "Khaspar",
         77309411362
        ],
        [
         "alaskadaughter",
         77309411385
        ],
        [
         "InfiniteJester",
         77309411358
        ],
        [
         "_The_Watchers_",
         77309411384
        ],
        [
         "8Bit_Shades",
         77309411328
        ],
        [
         "memedeluxe",
         77309411398
        ],
        [
         "Gypsy124",
         25769803842
        ],
        [
         "MarkT4USA",
         77309411364
        ],
        [
         "Gerechtigkeit",
         77309411349
        ],
        [
         "RKO0909",
         85899345962
        ],
        [
         "Suzieqgirl",
         85899345970
        ],
        [
         "HarleyQwinSC",
         85899345941
        ],
        [
         "LoisRogers",
         1176821039109
        ],
        [
         "CarolinaKat",
         85899345928
        ],
        [
         "bluetrilobite",
         85899345984
        ],
        [
         "wyoboy1110",
         85899345995
        ],
        [
         "Jack_Dorsey",
         85899345947
        ],
        [
         "ZWY",
         85899345979
        ],
        [
         "Nulton",
         85899345956
        ],
        [
         "HERALDofYAH",
         25769803799
        ],
        [
         "XenoGuenon",
         85899345977
        ],
        [
         "wondering04",
         85899345994
        ],
        [
         "MadMadamMim",
         85899345951
        ],
        [
         "DaleEvans",
         1151051235329
        ],
        [
         "Argurion",
         85899345923
        ],
        [
         "pal",
         85899345992
        ],
        [
         "Barnabus75",
         85899345924
        ],
        [
         "avgFloridian",
         85899345983
        ],
        [
         "fgrump",
         85899345986
        ],
        [
         "RollandJames",
         85899345965
        ],
        [
         "M1911",
         85899345950
        ],
        [
         "ajfan",
         85899345980
        ],
        [
         "Ahazuerus",
         85899345922
        ],
        [
         "OnwardTruth",
         85899345959
        ],
        [
         "Travis_Hawks",
         704374636592
        ],
        [
         "chispas9",
         85899345985
        ],
        [
         "INFJKaren",
         85899345945
        ],
        [
         "hunterhawk",
         85899345987
        ],
        [
         "SDriver",
         85899345967
        ],
        [
         "DrDudePhD",
         85899345936
        ],
        [
         "TracyPatriot",
         85899345971
        ],
        [
         "HuHenHarr",
         85899345943
        ],
        [
         "JonLiberty",
         85899345948
        ],
        [
         "Nevantausta",
         85899345954
        ],
        [
         "ChainsawAlarmclock",
         85899345931
        ],
        [
         "jlavin",
         85899345989
        ],
        [
         "Quitbullshiting",
         85899345961
        ],
        [
         "USMCSSGT",
         85899345975
        ],
        [
         "Bizzlefazz",
         85899345926
        ],
        [
         "DynoStorm",
         85899345937
        ],
        [
         "WeWantGunControl",
         85899345976
        ],
        [
         "Bear93",
         85899345925
        ],
        [
         "AA1",
         85899345921
        ],
        [
         "Merdeux",
         85899345952
        ],
        [
         "CollinLorenzo",
         85899345933
        ],
        [
         "CelticSavage1933",
         85899345930
        ],
        [
         "PatrickKWhite",
         85899345960
        ],
        [
         "johannamin",
         85899345990
        ],
        [
         "IcemanTM",
         85899345946
        ],
        [
         "OCANADA",
         85899345957
        ],
        [
         "Brian_Finch",
         85899345927
        ],
        [
         "Rslatts88",
         85899345966
        ],
        [
         "SigeberhtAcker",
         85899345968
        ],
        [
         "Hufford",
         85899345944
        ],
        [
         "sjcnotsjw",
         85899345993
        ],
        [
         "Nullifyfedlaws",
         85899345955
        ],
        [
         "DianaPrintz",
         85899345935
        ],
        [
         "SomeOldGuy",
         85899345969
        ],
        [
         "2017TRUMP",
         85899345920
        ],
        [
         "ChiefThunderhorse",
         85899345932
        ],
        [
         "Catholic_Knight",
         85899345929
        ],
        [
         "antediluvian",
         85899345981
        ],
        [
         "Headforthehills",
         85899345942
        ],
        [
         "OcarinaJones",
         85899345958
        ],
        [
         "lukeobrien",
         85899345991
        ],
        [
         "TwainHarteBoss",
         85899345974
        ],
        [
         "Hamamolnij",
         85899345940
        ],
        [
         "FAGGY",
         85899345938
        ],
        [
         "armorviol",
         85899345982
        ],
        [
         "MizM",
         85899345953
        ],
        [
         "Rhetaur",
         85899345963
        ],
        [
         "YLorenzo",
         25769803799
        ],
        [
         "janusss",
         85899345988
        ],
        [
         "Richard_Grayson",
         85899345964
        ],
        [
         "TraderJo",
         85899345972
        ],
        [
         "refield",
         94489280590
        ],
        [
         "Bikerbrst2u",
         94489280520
        ],
        [
         "Fischauge",
         94489280536
        ],
        [
         "gargantualis",
         94489280580
        ],
        [
         "SPQR_753_BC",
         94489280563
        ],
        [
         "EvilMann",
         94489280534
        ],
        [
         "mcdemarco",
         94489280587
        ],
        [
         "AlphaPatriot",
         94489280515
        ],
        [
         "Bklyn1925",
         94489280522
        ],
        [
         "TNarch",
         94489280565
        ],
        [
         "fordtruck",
         94489280578
        ],
        [
         "sourmanconserve",
         94489280593
        ],
        [
         "WillPeavy",
         94489280569
        ],
        [
         "spanishmonkey",
         94489280594
        ],
        [
         "Jesshot4vcin",
         94489280543
        ],
        [
         "Short_Fat_Bear",
         94489280564
        ],
        [
         "mikebhou",
         94489280588
        ],
        [
         "frogg",
         94489280579
        ],
        [
         "romeo730",
         94489280591
        ],
        [
         "Anyapaintingnw",
         94489280516
        ],
        [
         "Cornervizion",
         94489280529
        ],
        [
         "beislhur",
         94489280573
        ],
        [
         "BristolCommonSense",
         94489280524
        ],
        [
         "JudsonPhillips",
         94489280544
        ],
        [
         "ConsciousCaracal",
         94489280527
        ],
        [
         "Phil4Truth",
         94489280558
        ],
        [
         "ImpeachDrumpf",
         94489280541
        ],
        [
         "MemorialRifleRange",
         94489280553
        ],
        [
         "thedireshow",
         94489280595
        ],
        [
         "Breakfast_Imam",
         94489280523
        ],
        [
         "Pompolitone",
         94489280559
        ],
        [
         "Michele",
         94489280554
        ],
        [
         "rssemfam",
         94489280592
        ],
        [
         "Davetheconservative",
         94489280533
        ],
        [
         "quinnotaur",
         94489280589
        ],
        [
         "MAGAPatriot",
         94489280549
        ],
        [
         "kawfarmer",
         94489280585
        ],
        [
         "Moiraj",
         94489280556
        ],
        [
         "jattaya",
         94489280583
        ],
        [
         "conservative_17",
         94489280576
        ],
        [
         "KHJF2018",
         94489280545
        ],
        [
         "LRichardson",
         94489280547
        ],
        [
         "altsociology",
         94489280570
        ],
        [
         "WastedShark",
         94489280568
        ],
        [
         "theincrediblesie",
         94489280596
        ],
        [
         "Livid",
         94489280548
        ],
        [
         "FascistTwitter",
         94489280535
        ],
        [
         "battleaxebill",
         94489280572
        ],
        [
         "Buttnugget",
         94489280525
        ],
        [
         "Uncabill",
         94489280567
        ],
        [
         "AGENTVX",
         94489280513
        ],
        [
         "BillZankich",
         94489280521
        ],
        [
         "Cassini",
         94489280526
        ],
        [
         "Isaac",
         94489280542
        ],
        [
         "ThatGamingAsshole",
         94489280566
        ],
        [
         "anomalousprime",
         94489280571
        ],
        [
         "bogthing",
         94489280575
        ],
        [
         "hatredshmatred",
         94489280581
        ],
        [
         "MarkMontag",
         94489280551
        ],
        [
         "CryptoWatcher",
         94489280530
        ],
        [
         "Conspirologist",
         94489280528
        ],
        [
         "Guitarbill",
         94489280538
        ],
        [
         "RationalPress",
         94489280561
        ],
        [
         "Aryanwarlordsparta",
         94489280518
        ],
        [
         "HansGurnade",
         94489280540
        ],
        [
         "Miniluv",
         94489280555
        ],
        [
         "Rzorger",
         94489280562
        ],
        [
         "jivinsisterKatie",
         94489280584
        ],
        [
         "Florida_Rogue",
         94489280537
        ],
        [
         "csgulyas",
         94489280577
        ],
        [
         "Biden2020",
         94489280519
        ],
        [
         "Aragorn",
         1151051235329
        ],
        [
         "Mark_Three",
         94489280552
        ],
        [
         "Mareth",
         94489280550
        ],
        [
         "NEETSOCMGTOWOTAKU",
         94489280557
        ],
        [
         "DarkTriadMan",
         1151051235329
        ],
        [
         "RUDE_RON",
         94489280560
        ],
        [
         "101elle101",
         94489280512
        ],
        [
         "jaleal",
         94489280582
        ],
        [
         "ARDavid",
         94489280514
        ],
        [
         "louisianajeff",
         94489280586
        ],
        [
         "boatsailor",
         94489280574
        ],
        [
         "GuyRessler",
         94489280539
        ],
        [
         "Dahlia",
         94489280531
        ],
        [
         "Khaleesi74",
         94489280546
        ],
        [
         "vahtryn",
         103079215187
        ],
        [
         "PeaceAndJobs1",
         103079215141
        ],
        [
         "Eric_Nielsen",
         103079215119
        ],
        [
         "pepesilvia1",
         103079215183
        ],
        [
         "Thomason",
         103079215159
        ],
        [
         "AnonymousLobotomist",
         103079215106
        ],
        [
         "JAQUEBAUER",
         103079215127
        ],
        [
         "CSAFD",
         103079215109
        ],
        [
         "moot0ne",
         103079215181
        ],
        [
         "Dexter_DR3",
         25769803842
        ],
        [
         "defender63",
         103079215170
        ],
        [
         "SmartGrunt",
         103079215153
        ],
        [
         "lyliandria",
         103079215179
        ],
        [
         "Sol-Rad-Man",
         103079215154
        ],
        [
         "ShowMeDontTellMe",
         103079215151
        ],
        [
         "McCarthythe3rd",
         103079215134
        ],
        [
         "OneStonedCrow",
         103079215139
        ],
        [
         "Mdonato48",
         103079215135
        ],
        [
         "Thegoodfrank",
         103079215157
        ],
        [
         "Hettman",
         103079215122
        ],
        [
         "_M",
         103079215165
        ],
        [
         "softwarnet",
         103079215185
        ],
        [
         "CarnalMormon",
         1580547964991
        ],
        [
         "Alicia777",
         103079215105
        ],
        [
         "IntolerantAsian",
         103079215124
        ],
        [
         "ItIsWhatItIs",
         103079215126
        ],
        [
         "NorthernRake",
         103079215137
        ],
        [
         "Seuchen_Vogel",
         103079215149
        ],
        [
         "Thorwing",
         103079215160
        ],
        [
         "Boatswain1",
         103079215108
        ],
        [
         "garybourgeault",
         103079215172
        ],
        [
         "jprexena",
         103079215173
        ],
        [
         "ShaHouMac",
         103079215150
        ],
        [
         "StormRanger",
         103079215155
        ],
        [
         "Celticpunk",
         103079215111
        ],
        [
         "judiewood2",
         103079215174
        ],
        [
         "VonStoffeln",
         103079215161
        ],
        [
         "Conansdog",
         103079215114
        ],
        [
         "Freedomfighter1776",
         103079215120
        ],
        [
         "InsaneReject",
         103079215123
        ],
        [
         "DrShelly",
         103079215118
        ],
        [
         "Arketex",
         25769803842
        ],
        [
         "WilhelmVonJudengas",
         103079215164
        ],
        [
         "koellenko",
         103079215177
        ],
        [
         "Richard1972",
         103079215146
        ],
        [
         "GarbageDumpster",
         103079215121
        ],
        [
         "KurtSchlichter",
         103079215131
        ],
        [
         "RadCharlie",
         103079215143
        ],
        [
         "steveruns26",
         1090921693212
        ],
        [
         "Slydog134",
         103079215152
        ],
        [
         "Theo22",
         103079215158
        ],
        [
         "WildColonialBoy",
         103079215163
        ],
        [
         "KellKell",
         103079215130
        ],
        [
         "nuidat1611",
         103079215182
        ],
        [
         "ann-molly",
         103079215167
        ],
        [
         "docrampage",
         103079215171
        ],
        [
         "ChiLi-FLake",
         103079215112
        ],
        [
         "JJLaRue42",
         103079215128
        ],
        [
         "Number-Six",
         103079215138
        ],
        [
         "RxRankings",
         103079215148
        ],
        [
         "allnaturestuff",
         103079215166
        ],
        [
         "LutherVaughn",
         103079215132
        ],
        [
         "WhiteSparrow",
         326417514580
        ],
        [
         "Rambo_1",
         103079215144
        ],
        [
         "Judson1776",
         103079215129
        ],
        [
         "kameshdeepakbe",
         103079215175
        ],
        [
         "captnnero",
         103079215169
        ],
        [
         "Ironmanrob",
         103079215125
        ],
        [
         "lestermacgurdy",
         103079215178
        ],
        [
         "blat1982",
         326417514580
        ],
        [
         "monchski",
         103079215180
        ],
        [
         "shitvids",
         103079215184
        ],
        [
         "ProbablyFascist",
         103079215142
        ],
        [
         "DDB65",
         103079215115
        ],
        [
         "ManWithAPlan",
         103079215133
        ],
        [
         "MuzzaChunka",
         103079215136
        ],
        [
         "Discriminator",
         103079215117
        ]
       ],
       "datasetInfos": [],
       "dbfsResultPath": null,
       "isJsonSchema": true,
       "metadata": {},
       "overflow": true,
       "plotOptions": {
        "customPlotOptions": {},
        "displayType": "table",
        "pivotAggregation": null,
        "pivotColumns": null,
        "xColumns": null,
        "yColumns": null
       },
       "removedWidgets": [],
       "schema": [
        {
         "metadata": "{}",
         "name": "id",
         "type": "\"string\""
        },
        {
         "metadata": "{}",
         "name": "label",
         "type": "\"long\""
        }
       ],
       "type": "table"
      }
     },
     "output_type": "display_data"
    }
   ],
   "source": [
    "# LPA\n",
    "results_LPA = graph_Filtered.labelPropagation(maxIter=20)\n",
    "display(results_LPA)"
   ]
  },
  {
   "cell_type": "code",
   "execution_count": 0,
   "metadata": {
    "application/vnd.databricks.v1+cell": {
     "inputWidgets": {},
     "nuid": "b67d074e-862c-41e6-86de-447d7b26e942",
     "showTitle": false,
     "title": ""
    }
   },
   "outputs": [
    {
     "data": {
      "text/html": [
       "<style scoped>\n",
       "  .ansiout {\n",
       "    display: block;\n",
       "    unicode-bidi: embed;\n",
       "    white-space: pre-wrap;\n",
       "    word-wrap: break-word;\n",
       "    word-break: break-all;\n",
       "    font-family: \"Source Code Pro\", \"Menlo\", monospace;;\n",
       "    font-size: 13px;\n",
       "    color: #555;\n",
       "    margin-left: 4px;\n",
       "    line-height: 19px;\n",
       "  }\n",
       "</style>\n",
       "<div class=\"ansiout\">Out[10]: 16096</div>"
      ]
     },
     "metadata": {
      "application/vnd.databricks.v1+output": {
       "addedWidgets": {},
       "arguments": {},
       "data": "<div class=\"ansiout\">Out[10]: 16096</div>",
       "datasetInfos": [],
       "metadata": {},
       "removedWidgets": [],
       "type": "html"
      }
     },
     "output_type": "display_data"
    }
   ],
   "source": [
    "results_LPA.select(F.col('label')).distinct().count()"
   ]
  },
  {
   "cell_type": "code",
   "execution_count": 0,
   "metadata": {
    "application/vnd.databricks.v1+cell": {
     "inputWidgets": {},
     "nuid": "83bf6997-31b5-4059-9b94-0ca4f4bb8c3c",
     "showTitle": false,
     "title": ""
    }
   },
   "outputs": [
    {
     "data": {
      "text/html": [
       "<style scoped>\n",
       "  .ansiout {\n",
       "    display: block;\n",
       "    unicode-bidi: embed;\n",
       "    white-space: pre-wrap;\n",
       "    word-wrap: break-word;\n",
       "    word-break: break-all;\n",
       "    font-family: \"Source Code Pro\", \"Menlo\", monospace;;\n",
       "    font-size: 13px;\n",
       "    color: #555;\n",
       "    margin-left: 4px;\n",
       "    line-height: 19px;\n",
       "  }\n",
       "</style>\n",
       "<div class=\"ansiout\"></div>"
      ]
     },
     "metadata": {
      "application/vnd.databricks.v1+output": {
       "addedWidgets": {},
       "arguments": {},
       "data": "<div class=\"ansiout\"></div>",
       "datasetInfos": [],
       "metadata": {},
       "removedWidgets": [],
       "type": "html"
      }
     },
     "output_type": "display_data"
    }
   ],
   "source": [
    "results_LPA_Sorted = results_LPA.groupBy(F.col('label')).count().sort(F.col('count').desc())"
   ]
  },
  {
   "cell_type": "code",
   "execution_count": 0,
   "metadata": {
    "application/vnd.databricks.v1+cell": {
     "inputWidgets": {},
     "nuid": "516d950c-ac09-46c2-a00e-9733e0ed1e1d",
     "showTitle": false,
     "title": ""
    }
   },
   "outputs": [
    {
     "data": {
      "text/html": [
       "<style scoped>\n",
       "  .ansiout {\n",
       "    display: block;\n",
       "    unicode-bidi: embed;\n",
       "    white-space: pre-wrap;\n",
       "    word-wrap: break-word;\n",
       "    word-break: break-all;\n",
       "    font-family: \"Source Code Pro\", \"Menlo\", monospace;;\n",
       "    font-size: 13px;\n",
       "    color: #555;\n",
       "    margin-left: 4px;\n",
       "    line-height: 19px;\n",
       "  }\n",
       "</style>\n",
       "<div class=\"ansiout\"></div>"
      ]
     },
     "metadata": {
      "application/vnd.databricks.v1+output": {
       "addedWidgets": {},
       "arguments": {},
       "data": "<div class=\"ansiout\"></div>",
       "datasetInfos": [],
       "metadata": {},
       "removedWidgets": [],
       "type": "html"
      }
     },
     "output_type": "display_data"
    }
   ],
   "source": [
    "# Sort communities of more than 4 users\n",
    "results_LPA_Filtered = results_LPA_Sorted.select(F.col('label'), F.col('count')).filter(F.col('count') >= 5)"
   ]
  },
  {
   "cell_type": "code",
   "execution_count": 0,
   "metadata": {
    "application/vnd.databricks.v1+cell": {
     "inputWidgets": {},
     "nuid": "488eb6a8-59d5-4e1c-bcc1-e6f1fa129238",
     "showTitle": false,
     "title": ""
    }
   },
   "outputs": [
    {
     "data": {
      "text/html": [
       "<style scoped>\n",
       "  .ansiout {\n",
       "    display: block;\n",
       "    unicode-bidi: embed;\n",
       "    white-space: pre-wrap;\n",
       "    word-wrap: break-word;\n",
       "    word-break: break-all;\n",
       "    font-family: \"Source Code Pro\", \"Menlo\", monospace;;\n",
       "    font-size: 13px;\n",
       "    color: #555;\n",
       "    margin-left: 4px;\n",
       "    line-height: 19px;\n",
       "  }\n",
       "</style>\n",
       "<div class=\"ansiout\">+-------------+-----+\n",
       "        label|count|\n",
       "+-------------+-----+\n",
       "1176821039109|  321|\n",
       "  25769803842|  134|\n",
       " 326417514580|   89|\n",
       "1580547964991|   40|\n",
       "1151051235329|   34|\n",
       "  25769803799|   22|\n",
       " 704374636592|   17|\n",
       "1090921693212|   12|\n",
       "1262720385088|   10|\n",
       "1176821039118|    5|\n",
       "1219770712068|    5|\n",
       " 146028888078|    5|\n",
       " 309237645336|    5|\n",
       "+-------------+-----+\n",
       "\n",
       "</div>"
      ]
     },
     "metadata": {
      "application/vnd.databricks.v1+output": {
       "addedWidgets": {},
       "arguments": {},
       "data": "<div class=\"ansiout\">+-------------+-----+\n|        label|count|\n+-------------+-----+\n|1176821039109|  321|\n|  25769803842|  134|\n| 326417514580|   89|\n|1580547964991|   40|\n|1151051235329|   34|\n|  25769803799|   22|\n| 704374636592|   17|\n|1090921693212|   12|\n|1262720385088|   10|\n|1176821039118|    5|\n|1219770712068|    5|\n| 146028888078|    5|\n| 309237645336|    5|\n+-------------+-----+\n\n</div>",
       "datasetInfos": [],
       "metadata": {},
       "removedWidgets": [],
       "type": "html"
      }
     },
     "output_type": "display_data"
    }
   ],
   "source": [
    "results_LPA_Filtered.show()"
   ]
  },
  {
   "cell_type": "code",
   "execution_count": 0,
   "metadata": {
    "application/vnd.databricks.v1+cell": {
     "inputWidgets": {},
     "nuid": "6180f2f6-bffc-431e-9cff-e56695b70cb1",
     "showTitle": false,
     "title": ""
    }
   },
   "outputs": [
    {
     "data": {
      "text/html": [
       "<style scoped>\n",
       "  .ansiout {\n",
       "    display: block;\n",
       "    unicode-bidi: embed;\n",
       "    white-space: pre-wrap;\n",
       "    word-wrap: break-word;\n",
       "    word-break: break-all;\n",
       "    font-family: \"Source Code Pro\", \"Menlo\", monospace;;\n",
       "    font-size: 13px;\n",
       "    color: #555;\n",
       "    margin-left: 4px;\n",
       "    line-height: 19px;\n",
       "  }\n",
       "</style>\n",
       "<div class=\"ansiout\"></div>"
      ]
     },
     "metadata": {
      "application/vnd.databricks.v1+output": {
       "addedWidgets": {},
       "arguments": {},
       "data": "<div class=\"ansiout\"></div>",
       "datasetInfos": [],
       "metadata": {},
       "removedWidgets": [],
       "type": "html"
      }
     },
     "output_type": "display_data"
    }
   ],
   "source": [
    "# LPA checkpoint output\n",
    "results_LPA_Filtered.write.mode('overwrite').parquet(\"dbfs:/mnt/group12/graph/result_LPA\")"
   ]
  },
  {
   "cell_type": "code",
   "execution_count": 0,
   "metadata": {
    "application/vnd.databricks.v1+cell": {
     "inputWidgets": {},
     "nuid": "d5590e56-1ea0-461f-8c61-222ff1d8f23b",
     "showTitle": false,
     "title": ""
    }
   },
   "outputs": [
    {
     "data": {
      "text/html": [
       "<style scoped>\n",
       "  .ansiout {\n",
       "    display: block;\n",
       "    unicode-bidi: embed;\n",
       "    white-space: pre-wrap;\n",
       "    word-wrap: break-word;\n",
       "    word-break: break-all;\n",
       "    font-family: \"Source Code Pro\", \"Menlo\", monospace;;\n",
       "    font-size: 13px;\n",
       "    color: #555;\n",
       "    margin-left: 4px;\n",
       "    line-height: 19px;\n",
       "  }\n",
       "</style>\n",
       "<div class=\"ansiout\"></div>"
      ]
     },
     "metadata": {
      "application/vnd.databricks.v1+output": {
       "addedWidgets": {},
       "arguments": {},
       "data": "<div class=\"ansiout\"></div>",
       "datasetInfos": [],
       "metadata": {},
       "removedWidgets": [],
       "type": "html"
      }
     },
     "output_type": "display_data"
    }
   ],
   "source": [
    "results_LPA = results_LPA.join(results_LPA_Filtered, results_LPA.label == results_LPA_Filtered.label, \"inner\" ).select('id', results_LPA.label)"
   ]
  },
  {
   "cell_type": "code",
   "execution_count": 0,
   "metadata": {
    "application/vnd.databricks.v1+cell": {
     "inputWidgets": {},
     "nuid": "75740cc3-b9b7-4cfd-bd46-bf3800a778ef",
     "showTitle": false,
     "title": ""
    }
   },
   "outputs": [
    {
     "data": {
      "text/html": [
       "<style scoped>\n",
       "  .ansiout {\n",
       "    display: block;\n",
       "    unicode-bidi: embed;\n",
       "    white-space: pre-wrap;\n",
       "    word-wrap: break-word;\n",
       "    word-break: break-all;\n",
       "    font-family: \"Source Code Pro\", \"Menlo\", monospace;;\n",
       "    font-size: 13px;\n",
       "    color: #555;\n",
       "    margin-left: 4px;\n",
       "    line-height: 19px;\n",
       "  }\n",
       "</style>\n",
       "<div class=\"ansiout\"></div>"
      ]
     },
     "metadata": {
      "application/vnd.databricks.v1+output": {
       "addedWidgets": {},
       "arguments": {},
       "data": "<div class=\"ansiout\"></div>",
       "datasetInfos": [],
       "metadata": {},
       "removedWidgets": [],
       "type": "html"
      }
     },
     "output_type": "display_data"
    }
   ],
   "source": [
    "# Reading checkpoint data\n",
    "results_sortedByRank = spark.read.option(\"header\",\"true\").parquet(\"dbfs:/mnt/group12/graph/pagerank\")"
   ]
  },
  {
   "cell_type": "code",
   "execution_count": 0,
   "metadata": {
    "application/vnd.databricks.v1+cell": {
     "inputWidgets": {},
     "nuid": "651434be-37cd-4292-b2b3-b58ca805efde",
     "showTitle": false,
     "title": ""
    }
   },
   "outputs": [
    {
     "data": {
      "text/html": [
       "<style scoped>\n",
       "  .ansiout {\n",
       "    display: block;\n",
       "    unicode-bidi: embed;\n",
       "    white-space: pre-wrap;\n",
       "    word-wrap: break-word;\n",
       "    word-break: break-all;\n",
       "    font-family: \"Source Code Pro\", \"Menlo\", monospace;;\n",
       "    font-size: 13px;\n",
       "    color: #555;\n",
       "    margin-left: 4px;\n",
       "    line-height: 19px;\n",
       "  }\n",
       "</style>\n",
       "<div class=\"ansiout\"></div>"
      ]
     },
     "metadata": {
      "application/vnd.databricks.v1+output": {
       "addedWidgets": {},
       "arguments": {},
       "data": "<div class=\"ansiout\"></div>",
       "datasetInfos": [],
       "metadata": {},
       "removedWidgets": [],
       "type": "html"
      }
     },
     "output_type": "display_data"
    }
   ],
   "source": [
    "results_joined = results_sortedByRank.join(results_LPA, results_sortedByRank.id == results_LPA.id, \"inner\" ).select(results_sortedByRank.id, \"pagerank\", \"label\")"
   ]
  },
  {
   "cell_type": "code",
   "execution_count": 0,
   "metadata": {
    "application/vnd.databricks.v1+cell": {
     "inputWidgets": {},
     "nuid": "6fbd4b54-d5e8-497e-918f-0e939fd0db9e",
     "showTitle": false,
     "title": ""
    }
   },
   "outputs": [
    {
     "data": {
      "text/html": [
       "<style scoped>\n",
       "  .ansiout {\n",
       "    display: block;\n",
       "    unicode-bidi: embed;\n",
       "    white-space: pre-wrap;\n",
       "    word-wrap: break-word;\n",
       "    word-break: break-all;\n",
       "    font-family: \"Source Code Pro\", \"Menlo\", monospace;;\n",
       "    font-size: 13px;\n",
       "    color: #555;\n",
       "    margin-left: 4px;\n",
       "    line-height: 19px;\n",
       "  }\n",
       "</style>\n",
       "<div class=\"ansiout\">Out[32]: 699</div>"
      ]
     },
     "metadata": {
      "application/vnd.databricks.v1+output": {
       "addedWidgets": {},
       "arguments": {},
       "data": "<div class=\"ansiout\">Out[32]: 699</div>",
       "datasetInfos": [],
       "metadata": {},
       "removedWidgets": [],
       "type": "html"
      }
     },
     "output_type": "display_data"
    }
   ],
   "source": [
    "results_joined.count()"
   ]
  },
  {
   "cell_type": "code",
   "execution_count": 0,
   "metadata": {
    "application/vnd.databricks.v1+cell": {
     "inputWidgets": {},
     "nuid": "99390a9b-45e9-4e64-afad-6058b643880a",
     "showTitle": false,
     "title": ""
    }
   },
   "outputs": [
    {
     "data": {
      "text/html": [
       "<style scoped>\n",
       "  .ansiout {\n",
       "    display: block;\n",
       "    unicode-bidi: embed;\n",
       "    white-space: pre-wrap;\n",
       "    word-wrap: break-word;\n",
       "    word-break: break-all;\n",
       "    font-family: \"Source Code Pro\", \"Menlo\", monospace;;\n",
       "    font-size: 13px;\n",
       "    color: #555;\n",
       "    margin-left: 4px;\n",
       "    line-height: 19px;\n",
       "  }\n",
       "</style>\n",
       "<div class=\"ansiout\"></div>"
      ]
     },
     "metadata": {
      "application/vnd.databricks.v1+output": {
       "addedWidgets": {},
       "arguments": {},
       "data": "<div class=\"ansiout\"></div>",
       "datasetInfos": [],
       "metadata": {},
       "removedWidgets": [],
       "type": "html"
      }
     },
     "output_type": "display_data"
    }
   ],
   "source": [
    "# Final vertex checkpoint write\n",
    "results_joined.write.mode('overwrite').parquet(\"dbfs:/mnt/group12/graph/final_vertex\")"
   ]
  },
  {
   "cell_type": "code",
   "execution_count": 0,
   "metadata": {
    "application/vnd.databricks.v1+cell": {
     "inputWidgets": {},
     "nuid": "1dbcc3cc-91d0-46e7-8877-01f61b0f2258",
     "showTitle": false,
     "title": ""
    }
   },
   "outputs": [
    {
     "data": {
      "text/html": [
       "<style scoped>\n",
       "  .ansiout {\n",
       "    display: block;\n",
       "    unicode-bidi: embed;\n",
       "    white-space: pre-wrap;\n",
       "    word-wrap: break-word;\n",
       "    word-break: break-all;\n",
       "    font-family: \"Source Code Pro\", \"Menlo\", monospace;;\n",
       "    font-size: 13px;\n",
       "    color: #555;\n",
       "    margin-left: 4px;\n",
       "    line-height: 19px;\n",
       "  }\n",
       "</style>\n",
       "<div class=\"ansiout\"></div>"
      ]
     },
     "metadata": {
      "application/vnd.databricks.v1+output": {
       "addedWidgets": {},
       "arguments": {},
       "data": "<div class=\"ansiout\"></div>",
       "datasetInfos": [],
       "metadata": {},
       "removedWidgets": [],
       "type": "html"
      }
     },
     "output_type": "display_data"
    }
   ],
   "source": [
    "# Checkpoint read\n",
    "results_joined = spark.read.option(\"header\",\"true\").parquet(\"dbfs:/mnt/group12/graph/final_vertex\")"
   ]
  },
  {
   "cell_type": "code",
   "execution_count": 0,
   "metadata": {
    "application/vnd.databricks.v1+cell": {
     "inputWidgets": {},
     "nuid": "77da70b8-9000-4c98-ac2d-d4e2777ddf62",
     "showTitle": false,
     "title": ""
    }
   },
   "outputs": [
    {
     "data": {
      "text/html": [
       "<style scoped>\n",
       "  .ansiout {\n",
       "    display: block;\n",
       "    unicode-bidi: embed;\n",
       "    white-space: pre-wrap;\n",
       "    word-wrap: break-word;\n",
       "    word-break: break-all;\n",
       "    font-family: \"Source Code Pro\", \"Menlo\", monospace;;\n",
       "    font-size: 13px;\n",
       "    color: #555;\n",
       "    margin-left: 4px;\n",
       "    line-height: 19px;\n",
       "  }\n",
       "</style>\n",
       "<div class=\"ansiout\"></div>"
      ]
     },
     "metadata": {
      "application/vnd.databricks.v1+output": {
       "addedWidgets": {},
       "arguments": {},
       "data": "<div class=\"ansiout\"></div>",
       "datasetInfos": [],
       "metadata": {},
       "removedWidgets": [],
       "type": "html"
      }
     },
     "output_type": "display_data"
    }
   ],
   "source": [
    "edges_Filtered = spark.read.option(\"header\",\"true\").parquet(\"dbfs:/mnt/group12/graph/edges_filtered\")"
   ]
  },
  {
   "cell_type": "code",
   "execution_count": 0,
   "metadata": {
    "application/vnd.databricks.v1+cell": {
     "inputWidgets": {},
     "nuid": "c4ed530d-31d8-4bd2-9871-3bb3c62e096f",
     "showTitle": false,
     "title": ""
    }
   },
   "outputs": [
    {
     "data": {
      "text/html": [
       "<style scoped>\n",
       "  .ansiout {\n",
       "    display: block;\n",
       "    unicode-bidi: embed;\n",
       "    white-space: pre-wrap;\n",
       "    word-wrap: break-word;\n",
       "    word-break: break-all;\n",
       "    font-family: \"Source Code Pro\", \"Menlo\", monospace;;\n",
       "    font-size: 13px;\n",
       "    color: #555;\n",
       "    margin-left: 4px;\n",
       "    line-height: 19px;\n",
       "  }\n",
       "</style>\n",
       "<div class=\"ansiout\"></div>"
      ]
     },
     "metadata": {
      "application/vnd.databricks.v1+output": {
       "addedWidgets": {},
       "arguments": {},
       "data": "<div class=\"ansiout\"></div>",
       "datasetInfos": [],
       "metadata": {},
       "removedWidgets": [],
       "type": "html"
      }
     },
     "output_type": "display_data"
    }
   ],
   "source": [
    "original_edges = spark.read.option(\"header\", \"true\").parquet(\"dbfs:/mnt/group12/graph/edges\")"
   ]
  },
  {
   "cell_type": "code",
   "execution_count": 0,
   "metadata": {
    "application/vnd.databricks.v1+cell": {
     "inputWidgets": {},
     "nuid": "d79c6aa5-2f2e-428d-8b70-afe125fa21d8",
     "showTitle": false,
     "title": ""
    }
   },
   "outputs": [
    {
     "data": {
      "text/html": [
       "<style scoped>\n",
       "  .ansiout {\n",
       "    display: block;\n",
       "    unicode-bidi: embed;\n",
       "    white-space: pre-wrap;\n",
       "    word-wrap: break-word;\n",
       "    word-break: break-all;\n",
       "    font-family: \"Source Code Pro\", \"Menlo\", monospace;;\n",
       "    font-size: 13px;\n",
       "    color: #555;\n",
       "    margin-left: 4px;\n",
       "    line-height: 19px;\n",
       "  }\n",
       "</style>"
      ]
     },
     "metadata": {
      "application/vnd.databricks.v1+output": {
       "arguments": {},
       "data": "",
       "errorSummary": "Cancelled",
       "errorTraceType": "html",
       "metadata": {},
       "type": "ipynbError"
      }
     },
     "output_type": "display_data"
    }
   ],
   "source": [
    "edges_Filtered.count()"
   ]
  },
  {
   "cell_type": "code",
   "execution_count": 0,
   "metadata": {
    "application/vnd.databricks.v1+cell": {
     "inputWidgets": {},
     "nuid": "75368df0-ecea-4077-846e-0e9514f951e2",
     "showTitle": false,
     "title": ""
    }
   },
   "outputs": [
    {
     "data": {
      "text/html": [
       "<style scoped>\n",
       "  .ansiout {\n",
       "    display: block;\n",
       "    unicode-bidi: embed;\n",
       "    white-space: pre-wrap;\n",
       "    word-wrap: break-word;\n",
       "    word-break: break-all;\n",
       "    font-family: \"Source Code Pro\", \"Menlo\", monospace;;\n",
       "    font-size: 13px;\n",
       "    color: #555;\n",
       "    margin-left: 4px;\n",
       "    line-height: 19px;\n",
       "  }\n",
       "</style>\n",
       "<div class=\"ansiout\"></div>"
      ]
     },
     "metadata": {
      "application/vnd.databricks.v1+output": {
       "addedWidgets": {},
       "arguments": {},
       "data": "<div class=\"ansiout\"></div>",
       "datasetInfos": [],
       "metadata": {},
       "removedWidgets": [],
       "type": "html"
      }
     },
     "output_type": "display_data"
    }
   ],
   "source": [
    "# Filter edges of nodes only in the filtered vertex\n",
    "edges_Final = original_edges.join(results_joined, original_edges.src == results_joined.id, \"inner\" ).select(\"src\", \"dst\", \"relationship\")\n",
    "edges_Final = edges_Final.join(results_joined, edges_Final.dst == results_joined.id, \"inner\" ).select(\"src\", \"dst\", \"relationship\")"
   ]
  },
  {
   "cell_type": "code",
   "execution_count": 0,
   "metadata": {
    "application/vnd.databricks.v1+cell": {
     "inputWidgets": {},
     "nuid": "3e1d9354-4046-4022-be7f-844b5df276e8",
     "showTitle": false,
     "title": ""
    }
   },
   "outputs": [
    {
     "data": {
      "text/html": [
       "<style scoped>\n",
       "  .ansiout {\n",
       "    display: block;\n",
       "    unicode-bidi: embed;\n",
       "    white-space: pre-wrap;\n",
       "    word-wrap: break-word;\n",
       "    word-break: break-all;\n",
       "    font-family: \"Source Code Pro\", \"Menlo\", monospace;;\n",
       "    font-size: 13px;\n",
       "    color: #555;\n",
       "    margin-left: 4px;\n",
       "    line-height: 19px;\n",
       "  }\n",
       "</style>\n",
       "<div class=\"ansiout\"></div>"
      ]
     },
     "metadata": {
      "application/vnd.databricks.v1+output": {
       "addedWidgets": {},
       "arguments": {},
       "data": "<div class=\"ansiout\"></div>",
       "datasetInfos": [],
       "metadata": {},
       "removedWidgets": [],
       "type": "html"
      }
     },
     "output_type": "display_data"
    }
   ],
   "source": [
    "edges_Final = edges_Final.groupBy('src','dst').count().withColumnRenamed(\"count\", \"weight\") # only unique edges"
   ]
  },
  {
   "cell_type": "code",
   "execution_count": 0,
   "metadata": {
    "application/vnd.databricks.v1+cell": {
     "inputWidgets": {},
     "nuid": "73e90246-2bb9-463f-a1cd-deb480aa9f9a",
     "showTitle": false,
     "title": ""
    }
   },
   "outputs": [
    {
     "data": {
      "text/html": [
       "<style scoped>\n",
       "  .ansiout {\n",
       "    display: block;\n",
       "    unicode-bidi: embed;\n",
       "    white-space: pre-wrap;\n",
       "    word-wrap: break-word;\n",
       "    word-break: break-all;\n",
       "    font-family: \"Source Code Pro\", \"Menlo\", monospace;;\n",
       "    font-size: 13px;\n",
       "    color: #555;\n",
       "    margin-left: 4px;\n",
       "    line-height: 19px;\n",
       "  }\n",
       "</style>\n",
       "<div class=\"ansiout\">Out[10]: 30363</div>"
      ]
     },
     "metadata": {
      "application/vnd.databricks.v1+output": {
       "addedWidgets": {},
       "arguments": {},
       "data": "<div class=\"ansiout\">Out[10]: 30363</div>",
       "datasetInfos": [],
       "metadata": {},
       "removedWidgets": [],
       "type": "html"
      }
     },
     "output_type": "display_data"
    }
   ],
   "source": [
    "edges_Final.count()"
   ]
  },
  {
   "cell_type": "code",
   "execution_count": 0,
   "metadata": {
    "application/vnd.databricks.v1+cell": {
     "inputWidgets": {},
     "nuid": "ba44e86f-2114-4ebc-8e57-54dba4d8eda4",
     "showTitle": false,
     "title": ""
    }
   },
   "outputs": [
    {
     "data": {
      "text/html": [
       "<style scoped>\n",
       "  .ansiout {\n",
       "    display: block;\n",
       "    unicode-bidi: embed;\n",
       "    white-space: pre-wrap;\n",
       "    word-wrap: break-word;\n",
       "    word-break: break-all;\n",
       "    font-family: \"Source Code Pro\", \"Menlo\", monospace;;\n",
       "    font-size: 13px;\n",
       "    color: #555;\n",
       "    margin-left: 4px;\n",
       "    line-height: 19px;\n",
       "  }\n",
       "</style>\n",
       "<div class=\"ansiout\">Out[11]: 699</div>"
      ]
     },
     "metadata": {
      "application/vnd.databricks.v1+output": {
       "addedWidgets": {},
       "arguments": {},
       "data": "<div class=\"ansiout\">Out[11]: 699</div>",
       "datasetInfos": [],
       "metadata": {},
       "removedWidgets": [],
       "type": "html"
      }
     },
     "output_type": "display_data"
    }
   ],
   "source": [
    "vertex.count()"
   ]
  },
  {
   "cell_type": "code",
   "execution_count": 0,
   "metadata": {
    "application/vnd.databricks.v1+cell": {
     "inputWidgets": {},
     "nuid": "07fa25b4-4d6c-421d-a84c-b68972c6d1dc",
     "showTitle": false,
     "title": ""
    }
   },
   "outputs": [
    {
     "data": {
      "text/html": [
       "<style scoped>\n",
       "  .ansiout {\n",
       "    display: block;\n",
       "    unicode-bidi: embed;\n",
       "    white-space: pre-wrap;\n",
       "    word-wrap: break-word;\n",
       "    word-break: break-all;\n",
       "    font-family: \"Source Code Pro\", \"Menlo\", monospace;;\n",
       "    font-size: 13px;\n",
       "    color: #555;\n",
       "    margin-left: 4px;\n",
       "    line-height: 19px;\n",
       "  }\n",
       "</style>\n",
       "<div class=\"ansiout\"></div>"
      ]
     },
     "metadata": {
      "application/vnd.databricks.v1+output": {
       "addedWidgets": {},
       "arguments": {},
       "data": "<div class=\"ansiout\"></div>",
       "datasetInfos": [],
       "metadata": {},
       "removedWidgets": [],
       "type": "html"
      }
     },
     "output_type": "display_data"
    }
   ],
   "source": [
    "# Final edges checkpoint write\n",
    "edges_Final.write.mode('overwrite').parquet(\"dbfs:/mnt/group12/graph/final_edges\")"
   ]
  },
  {
   "cell_type": "code",
   "execution_count": 0,
   "metadata": {
    "application/vnd.databricks.v1+cell": {
     "inputWidgets": {},
     "nuid": "78d92e9d-df1e-42d9-97b7-80f8dc23d0e6",
     "showTitle": false,
     "title": ""
    }
   },
   "outputs": [
    {
     "data": {
      "text/html": [
       "<style scoped>\n",
       "  .ansiout {\n",
       "    display: block;\n",
       "    unicode-bidi: embed;\n",
       "    white-space: pre-wrap;\n",
       "    word-wrap: break-word;\n",
       "    word-break: break-all;\n",
       "    font-family: \"Source Code Pro\", \"Menlo\", monospace;;\n",
       "    font-size: 13px;\n",
       "    color: #555;\n",
       "    margin-left: 4px;\n",
       "    line-height: 19px;\n",
       "  }\n",
       "</style>\n",
       "<div class=\"ansiout\">root\n",
       "-- src: string (nullable = true)\n",
       "-- dst: string (nullable = true)\n",
       "-- weight: long (nullable = false)\n",
       "\n",
       "</div>"
      ]
     },
     "metadata": {
      "application/vnd.databricks.v1+output": {
       "addedWidgets": {},
       "arguments": {},
       "data": "<div class=\"ansiout\">root\n |-- src: string (nullable = true)\n |-- dst: string (nullable = true)\n |-- weight: long (nullable = false)\n\n</div>",
       "datasetInfos": [],
       "metadata": {},
       "removedWidgets": [],
       "type": "html"
      }
     },
     "output_type": "display_data"
    }
   ],
   "source": [
    "edges_Final.printSchema()"
   ]
  },
  {
   "cell_type": "code",
   "execution_count": 0,
   "metadata": {
    "application/vnd.databricks.v1+cell": {
     "inputWidgets": {},
     "nuid": "ff23fafb-49b7-4425-84fd-2232834a09d3",
     "showTitle": false,
     "title": ""
    }
   },
   "outputs": [
    {
     "data": {
      "text/html": [
       "<style scoped>\n",
       "  .ansiout {\n",
       "    display: block;\n",
       "    unicode-bidi: embed;\n",
       "    white-space: pre-wrap;\n",
       "    word-wrap: break-word;\n",
       "    word-break: break-all;\n",
       "    font-family: \"Source Code Pro\", \"Menlo\", monospace;;\n",
       "    font-size: 13px;\n",
       "    color: #555;\n",
       "    margin-left: 4px;\n",
       "    line-height: 19px;\n",
       "  }\n",
       "</style>\n",
       "<div class=\"ansiout\"></div>"
      ]
     },
     "metadata": {
      "application/vnd.databricks.v1+output": {
       "addedWidgets": {},
       "arguments": {},
       "data": "<div class=\"ansiout\"></div>",
       "datasetInfos": [],
       "metadata": {},
       "removedWidgets": [],
       "type": "html"
      }
     },
     "output_type": "display_data"
    }
   ],
   "source": [
    "# Checkpoint reading\n",
    "vertex = spark.read.option(\"header\",\"true\").parquet(\"dbfs:/mnt/group12/graph/final_vertex\")"
   ]
  },
  {
   "cell_type": "code",
   "execution_count": 0,
   "metadata": {
    "application/vnd.databricks.v1+cell": {
     "inputWidgets": {},
     "nuid": "07792597-22f7-41cb-bc15-dd80bfb19908",
     "showTitle": false,
     "title": ""
    }
   },
   "outputs": [
    {
     "data": {
      "text/html": [
       "<style scoped>\n",
       "  .ansiout {\n",
       "    display: block;\n",
       "    unicode-bidi: embed;\n",
       "    white-space: pre-wrap;\n",
       "    word-wrap: break-word;\n",
       "    word-break: break-all;\n",
       "    font-family: \"Source Code Pro\", \"Menlo\", monospace;;\n",
       "    font-size: 13px;\n",
       "    color: #555;\n",
       "    margin-left: 4px;\n",
       "    line-height: 19px;\n",
       "  }\n",
       "</style>\n",
       "<div class=\"ansiout\"></div>"
      ]
     },
     "metadata": {
      "application/vnd.databricks.v1+output": {
       "addedWidgets": {},
       "arguments": {},
       "data": "<div class=\"ansiout\"></div>",
       "datasetInfos": [],
       "metadata": {},
       "removedWidgets": [],
       "type": "html"
      }
     },
     "output_type": "display_data"
    }
   ],
   "source": [
    "# Storing vertex and edges in a single JSON file\n",
    "vertex.coalesce(1).write.mode('overwrite').json(\"dbfs:/mnt/group12/graph/vertex_json\")\n",
    "edges_Final.coalesce(1).write.mode('overwrite').json(\"dbfs:/mnt/group12/graph/edges_json\")"
   ]
  },
  {
   "cell_type": "code",
   "execution_count": 0,
   "metadata": {
    "application/vnd.databricks.v1+cell": {
     "inputWidgets": {},
     "nuid": "a2d8a389-85c8-4901-8406-2cc4f5642b13",
     "showTitle": false,
     "title": ""
    }
   },
   "outputs": [
    {
     "data": {
      "text/html": [
       "<style scoped>\n",
       "  .table-result-container {\n",
       "    max-height: 300px;\n",
       "    overflow: auto;\n",
       "  }\n",
       "  table, th, td {\n",
       "    border: 1px solid black;\n",
       "    border-collapse: collapse;\n",
       "  }\n",
       "  th, td {\n",
       "    padding: 5px;\n",
       "  }\n",
       "  th {\n",
       "    text-align: left;\n",
       "  }\n",
       "</style><div class='table-result-container'><table class='table-result'><thead style='background-color: white'><tr><th>path</th><th>name</th><th>size</th></tr></thead><tbody><tr><td>dbfs:/mnt/group12/graph/vertex_json/_SUCCESS</td><td>_SUCCESS</td><td>0</td></tr><tr><td>dbfs:/mnt/group12/graph/vertex_json/_committed_6242222523956333587</td><td>_committed_6242222523956333587</td><td>115</td></tr><tr><td>dbfs:/mnt/group12/graph/vertex_json/_started_6242222523956333587</td><td>_started_6242222523956333587</td><td>0</td></tr><tr><td>dbfs:/mnt/group12/graph/vertex_json/part-00000-tid-6242222523956333587-74c2336f-a0eb-4337-8a40-23ae7431ea80-4548-1-c000.json</td><td>part-00000-tid-6242222523956333587-74c2336f-a0eb-4337-8a40-23ae7431ea80-4548-1-c000.json</td><td>50105</td></tr></tbody></table></div>"
      ]
     },
     "metadata": {
      "application/vnd.databricks.v1+output": {
       "addedWidgets": {},
       "aggData": [],
       "aggError": "",
       "aggOverflow": false,
       "aggSchema": [],
       "aggSeriesLimitReached": false,
       "aggType": "",
       "arguments": {},
       "columnCustomDisplayInfos": {},
       "data": [
        [
         "dbfs:/mnt/group12/graph/vertex_json/_SUCCESS",
         "_SUCCESS",
         0
        ],
        [
         "dbfs:/mnt/group12/graph/vertex_json/_committed_6242222523956333587",
         "_committed_6242222523956333587",
         115
        ],
        [
         "dbfs:/mnt/group12/graph/vertex_json/_started_6242222523956333587",
         "_started_6242222523956333587",
         0
        ],
        [
         "dbfs:/mnt/group12/graph/vertex_json/part-00000-tid-6242222523956333587-74c2336f-a0eb-4337-8a40-23ae7431ea80-4548-1-c000.json",
         "part-00000-tid-6242222523956333587-74c2336f-a0eb-4337-8a40-23ae7431ea80-4548-1-c000.json",
         50105
        ]
       ],
       "datasetInfos": [],
       "dbfsResultPath": null,
       "isJsonSchema": true,
       "metadata": {},
       "overflow": false,
       "plotOptions": {
        "customPlotOptions": {},
        "displayType": "table",
        "pivotAggregation": null,
        "pivotColumns": null,
        "xColumns": null,
        "yColumns": null
       },
       "removedWidgets": [],
       "schema": [
        {
         "metadata": "{}",
         "name": "path",
         "type": "\"string\""
        },
        {
         "metadata": "{}",
         "name": "name",
         "type": "\"string\""
        },
        {
         "metadata": "{}",
         "name": "size",
         "type": "\"long\""
        }
       ],
       "type": "table"
      }
     },
     "output_type": "display_data"
    }
   ],
   "source": [
    "display(dbutils.fs.ls(\"mnt/group12/graph/vertex_json\"))"
   ]
  },
  {
   "cell_type": "code",
   "execution_count": 0,
   "metadata": {
    "application/vnd.databricks.v1+cell": {
     "inputWidgets": {},
     "nuid": "ee1f2312-407e-4a31-ba2e-8d4223e1bccd",
     "showTitle": false,
     "title": ""
    }
   },
   "outputs": [
    {
     "data": {
      "text/html": [
       "<style scoped>\n",
       "  .table-result-container {\n",
       "    max-height: 300px;\n",
       "    overflow: auto;\n",
       "  }\n",
       "  table, th, td {\n",
       "    border: 1px solid black;\n",
       "    border-collapse: collapse;\n",
       "  }\n",
       "  th, td {\n",
       "    padding: 5px;\n",
       "  }\n",
       "  th {\n",
       "    text-align: left;\n",
       "  }\n",
       "</style><div class='table-result-container'><table class='table-result'><thead style='background-color: white'><tr><th>path</th><th>name</th><th>size</th></tr></thead><tbody><tr><td>dbfs:/mnt/group12/graph/edges_json/_SUCCESS</td><td>_SUCCESS</td><td>0</td></tr><tr><td>dbfs:/mnt/group12/graph/edges_json/_committed_1177843133252683134</td><td>_committed_1177843133252683134</td><td>115</td></tr><tr><td>dbfs:/mnt/group12/graph/edges_json/_started_1177843133252683134</td><td>_started_1177843133252683134</td><td>0</td></tr><tr><td>dbfs:/mnt/group12/graph/edges_json/part-00000-tid-1177843133252683134-9b7f2d76-36bc-4a11-bf6d-d6cd0c797c32-4796-1-c000.json</td><td>part-00000-tid-1177843133252683134-9b7f2d76-36bc-4a11-bf6d-d6cd0c797c32-4796-1-c000.json</td><td>1584032</td></tr></tbody></table></div>"
      ]
     },
     "metadata": {
      "application/vnd.databricks.v1+output": {
       "addedWidgets": {},
       "aggData": [],
       "aggError": "",
       "aggOverflow": false,
       "aggSchema": [],
       "aggSeriesLimitReached": false,
       "aggType": "",
       "arguments": {},
       "columnCustomDisplayInfos": {},
       "data": [
        [
         "dbfs:/mnt/group12/graph/edges_json/_SUCCESS",
         "_SUCCESS",
         0
        ],
        [
         "dbfs:/mnt/group12/graph/edges_json/_committed_1177843133252683134",
         "_committed_1177843133252683134",
         115
        ],
        [
         "dbfs:/mnt/group12/graph/edges_json/_started_1177843133252683134",
         "_started_1177843133252683134",
         0
        ],
        [
         "dbfs:/mnt/group12/graph/edges_json/part-00000-tid-1177843133252683134-9b7f2d76-36bc-4a11-bf6d-d6cd0c797c32-4796-1-c000.json",
         "part-00000-tid-1177843133252683134-9b7f2d76-36bc-4a11-bf6d-d6cd0c797c32-4796-1-c000.json",
         1584032
        ]
       ],
       "datasetInfos": [],
       "dbfsResultPath": null,
       "isJsonSchema": true,
       "metadata": {},
       "overflow": false,
       "plotOptions": {
        "customPlotOptions": {},
        "displayType": "table",
        "pivotAggregation": null,
        "pivotColumns": null,
        "xColumns": null,
        "yColumns": null
       },
       "removedWidgets": [],
       "schema": [
        {
         "metadata": "{}",
         "name": "path",
         "type": "\"string\""
        },
        {
         "metadata": "{}",
         "name": "name",
         "type": "\"string\""
        },
        {
         "metadata": "{}",
         "name": "size",
         "type": "\"long\""
        }
       ],
       "type": "table"
      }
     },
     "output_type": "display_data"
    }
   ],
   "source": [
    "display(dbutils.fs.ls(\"mnt/group12/graph/edges_json\"))"
   ]
  },
  {
   "cell_type": "code",
   "execution_count": 0,
   "metadata": {
    "application/vnd.databricks.v1+cell": {
     "inputWidgets": {},
     "nuid": "f9c103b8-da67-4b62-b4b7-f140adb4694e",
     "showTitle": false,
     "title": ""
    }
   },
   "outputs": [],
   "source": []
  }
 ],
 "metadata": {
  "application/vnd.databricks.v1+notebook": {
   "dashboards": [],
   "language": "python",
   "notebookMetadata": {
    "pythonIndentUnit": 2
   },
   "notebookName": "Network_Graph",
   "notebookOrigID": 2443711113281790,
   "widgets": {}
  },
  "kernelspec": {
   "display_name": "Python 3",
   "language": "python",
   "name": "python3"
  },
  "language_info": {
   "codemirror_mode": {
    "name": "ipython",
    "version": 3
   },
   "file_extension": ".py",
   "mimetype": "text/x-python",
   "name": "python",
   "nbconvert_exporter": "python",
   "pygments_lexer": "ipython3",
   "version": "3.8.2"
  }
 },
 "nbformat": 4,
 "nbformat_minor": 1
}
