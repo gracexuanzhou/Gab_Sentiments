{
 "cells": [
  {
   "cell_type": "code",
   "execution_count": 0,
   "metadata": {
    "application/vnd.databricks.v1+cell": {
     "inputWidgets": {},
     "nuid": "417a03c2-0587-47e6-ac29-58d0dd5c969d",
     "showTitle": false,
     "title": ""
    }
   },
   "outputs": [
    {
     "data": {
      "text/html": [
       "<style scoped>\n",
       "  .ansiout {\n",
       "    display: block;\n",
       "    unicode-bidi: embed;\n",
       "    white-space: pre-wrap;\n",
       "    word-wrap: break-word;\n",
       "    word-break: break-all;\n",
       "    font-family: \"Source Code Pro\", \"Menlo\", monospace;;\n",
       "    font-size: 13px;\n",
       "    color: #555;\n",
       "    margin-left: 4px;\n",
       "    line-height: 19px;\n",
       "  }\n",
       "</style>\n",
       "<div class=\"ansiout\">Python interpreter will be restarted.\n",
       "Requirement already satisfied: nltk in /databricks/python3/lib/python3.8/site-packages (3.6.1)\n",
       "Requirement already satisfied: tqdm in /databricks/python3/lib/python3.8/site-packages (from nltk) (4.59.0)\n",
       "Requirement already satisfied: regex in /databricks/python3/lib/python3.8/site-packages (from nltk) (2021.4.4)\n",
       "Requirement already satisfied: click in /databricks/python3/lib/python3.8/site-packages (from nltk) (7.1.2)\n",
       "Requirement already satisfied: joblib in /databricks/python3/lib/python3.8/site-packages (from nltk) (1.0.1)\n",
       "WARNING: You are using pip version 21.0.1; however, version 21.3.1 is available.\n",
       "You should consider upgrading via the &#39;/local_disk0/.ephemeral_nfs/envs/pythonEnv-af60931d-0b1d-41af-b20d-93ed3116d40a/bin/python -m pip install --upgrade pip&#39; command.\n",
       "Python interpreter will be restarted.\n",
       "</div>"
      ]
     },
     "metadata": {
      "application/vnd.databricks.v1+output": {
       "addedWidgets": {},
       "arguments": {},
       "data": "<div class=\"ansiout\">Python interpreter will be restarted.\nRequirement already satisfied: nltk in /databricks/python3/lib/python3.8/site-packages (3.6.1)\nRequirement already satisfied: tqdm in /databricks/python3/lib/python3.8/site-packages (from nltk) (4.59.0)\nRequirement already satisfied: regex in /databricks/python3/lib/python3.8/site-packages (from nltk) (2021.4.4)\nRequirement already satisfied: click in /databricks/python3/lib/python3.8/site-packages (from nltk) (7.1.2)\nRequirement already satisfied: joblib in /databricks/python3/lib/python3.8/site-packages (from nltk) (1.0.1)\nWARNING: You are using pip version 21.0.1; however, version 21.3.1 is available.\nYou should consider upgrading via the &#39;/local_disk0/.ephemeral_nfs/envs/pythonEnv-af60931d-0b1d-41af-b20d-93ed3116d40a/bin/python -m pip install --upgrade pip&#39; command.\nPython interpreter will be restarted.\n</div>",
       "datasetInfos": [],
       "metadata": {},
       "removedWidgets": [],
       "type": "html"
      }
     },
     "output_type": "display_data"
    }
   ],
   "source": [
    "%pip install nltk"
   ]
  },
  {
   "cell_type": "code",
   "execution_count": 0,
   "metadata": {
    "application/vnd.databricks.v1+cell": {
     "inputWidgets": {},
     "nuid": "2e951102-d400-4353-8488-4f372a0d1896",
     "showTitle": false,
     "title": ""
    }
   },
   "outputs": [
    {
     "data": {
      "text/html": [
       "<style scoped>\n",
       "  .ansiout {\n",
       "    display: block;\n",
       "    unicode-bidi: embed;\n",
       "    white-space: pre-wrap;\n",
       "    word-wrap: break-word;\n",
       "    word-break: break-all;\n",
       "    font-family: \"Source Code Pro\", \"Menlo\", monospace;;\n",
       "    font-size: 13px;\n",
       "    color: #555;\n",
       "    margin-left: 4px;\n",
       "    line-height: 19px;\n",
       "  }\n",
       "</style>\n",
       "<div class=\"ansiout\">Python interpreter will be restarted.\n",
       "Collecting vaderSentiment\n",
       "  Downloading vaderSentiment-3.3.2-py2.py3-none-any.whl (125 kB)\n",
       "Requirement already satisfied: requests in /databricks/python3/lib/python3.8/site-packages (from vaderSentiment) (2.25.1)\n",
       "Requirement already satisfied: certifi&gt;=2017.4.17 in /databricks/python3/lib/python3.8/site-packages (from requests-&gt;vaderSentiment) (2020.12.5)\n",
       "Requirement already satisfied: chardet&lt;5,&gt;=3.0.2 in /databricks/python3/lib/python3.8/site-packages (from requests-&gt;vaderSentiment) (4.0.0)\n",
       "Requirement already satisfied: urllib3&lt;1.27,&gt;=1.21.1 in /databricks/python3/lib/python3.8/site-packages (from requests-&gt;vaderSentiment) (1.25.11)\n",
       "Requirement already satisfied: idna&lt;3,&gt;=2.5 in /databricks/python3/lib/python3.8/site-packages (from requests-&gt;vaderSentiment) (2.10)\n",
       "Installing collected packages: vaderSentiment\n",
       "Successfully installed vaderSentiment-3.3.2\n",
       "WARNING: You are using pip version 21.0.1; however, version 21.3.1 is available.\n",
       "You should consider upgrading via the &#39;/local_disk0/.ephemeral_nfs/envs/pythonEnv-af60931d-0b1d-41af-b20d-93ed3116d40a/bin/python -m pip install --upgrade pip&#39; command.\n",
       "Python interpreter will be restarted.\n",
       "</div>"
      ]
     },
     "metadata": {
      "application/vnd.databricks.v1+output": {
       "addedWidgets": {},
       "arguments": {},
       "data": "<div class=\"ansiout\">Python interpreter will be restarted.\nCollecting vaderSentiment\n  Downloading vaderSentiment-3.3.2-py2.py3-none-any.whl (125 kB)\nRequirement already satisfied: requests in /databricks/python3/lib/python3.8/site-packages (from vaderSentiment) (2.25.1)\nRequirement already satisfied: certifi&gt;=2017.4.17 in /databricks/python3/lib/python3.8/site-packages (from requests-&gt;vaderSentiment) (2020.12.5)\nRequirement already satisfied: chardet&lt;5,&gt;=3.0.2 in /databricks/python3/lib/python3.8/site-packages (from requests-&gt;vaderSentiment) (4.0.0)\nRequirement already satisfied: urllib3&lt;1.27,&gt;=1.21.1 in /databricks/python3/lib/python3.8/site-packages (from requests-&gt;vaderSentiment) (1.25.11)\nRequirement already satisfied: idna&lt;3,&gt;=2.5 in /databricks/python3/lib/python3.8/site-packages (from requests-&gt;vaderSentiment) (2.10)\nInstalling collected packages: vaderSentiment\nSuccessfully installed vaderSentiment-3.3.2\nWARNING: You are using pip version 21.0.1; however, version 21.3.1 is available.\nYou should consider upgrading via the &#39;/local_disk0/.ephemeral_nfs/envs/pythonEnv-af60931d-0b1d-41af-b20d-93ed3116d40a/bin/python -m pip install --upgrade pip&#39; command.\nPython interpreter will be restarted.\n</div>",
       "datasetInfos": [],
       "metadata": {},
       "removedWidgets": [],
       "type": "html"
      }
     },
     "output_type": "display_data"
    }
   ],
   "source": [
    "%pip install vaderSentiment"
   ]
  },
  {
   "cell_type": "code",
   "execution_count": 0,
   "metadata": {
    "application/vnd.databricks.v1+cell": {
     "inputWidgets": {},
     "nuid": "606e9170-2ba6-4098-8081-3cf82dbab61d",
     "showTitle": false,
     "title": ""
    }
   },
   "outputs": [
    {
     "data": {
      "text/html": [
       "<style scoped>\n",
       "  .ansiout {\n",
       "    display: block;\n",
       "    unicode-bidi: embed;\n",
       "    white-space: pre-wrap;\n",
       "    word-wrap: break-word;\n",
       "    word-break: break-all;\n",
       "    font-family: \"Source Code Pro\", \"Menlo\", monospace;;\n",
       "    font-size: 13px;\n",
       "    color: #555;\n",
       "    margin-left: 4px;\n",
       "    line-height: 19px;\n",
       "  }\n",
       "</style>\n",
       "<div class=\"ansiout\">Python interpreter will be restarted.\n",
       "Collecting liwc\n",
       "  Downloading liwc-0.5.0-py2.py3-none-any.whl (5.1 kB)\n",
       "Installing collected packages: liwc\n",
       "Successfully installed liwc-0.5.0\n",
       "WARNING: You are using pip version 21.0.1; however, version 21.3.1 is available.\n",
       "You should consider upgrading via the &#39;/local_disk0/.ephemeral_nfs/envs/pythonEnv-af60931d-0b1d-41af-b20d-93ed3116d40a/bin/python -m pip install --upgrade pip&#39; command.\n",
       "Python interpreter will be restarted.\n",
       "</div>"
      ]
     },
     "metadata": {
      "application/vnd.databricks.v1+output": {
       "addedWidgets": {},
       "arguments": {},
       "data": "<div class=\"ansiout\">Python interpreter will be restarted.\nCollecting liwc\n  Downloading liwc-0.5.0-py2.py3-none-any.whl (5.1 kB)\nInstalling collected packages: liwc\nSuccessfully installed liwc-0.5.0\nWARNING: You are using pip version 21.0.1; however, version 21.3.1 is available.\nYou should consider upgrading via the &#39;/local_disk0/.ephemeral_nfs/envs/pythonEnv-af60931d-0b1d-41af-b20d-93ed3116d40a/bin/python -m pip install --upgrade pip&#39; command.\nPython interpreter will be restarted.\n</div>",
       "datasetInfos": [],
       "metadata": {},
       "removedWidgets": [],
       "type": "html"
      }
     },
     "output_type": "display_data"
    }
   ],
   "source": [
    "%pip install liwc"
   ]
  },
  {
   "cell_type": "code",
   "execution_count": 0,
   "metadata": {
    "application/vnd.databricks.v1+cell": {
     "inputWidgets": {},
     "nuid": "9acd57fd-0fcd-4703-a65e-0e7bfc125620",
     "showTitle": false,
     "title": ""
    }
   },
   "outputs": [
    {
     "data": {
      "text/html": [
       "<style scoped>\n",
       "  .ansiout {\n",
       "    display: block;\n",
       "    unicode-bidi: embed;\n",
       "    white-space: pre-wrap;\n",
       "    word-wrap: break-word;\n",
       "    word-break: break-all;\n",
       "    font-family: \"Source Code Pro\", \"Menlo\", monospace;;\n",
       "    font-size: 13px;\n",
       "    color: #555;\n",
       "    margin-left: 4px;\n",
       "    line-height: 19px;\n",
       "  }\n",
       "</style>\n",
       "<div class=\"ansiout\">[nltk_data] Downloading package stopwords to /root/nltk_data...\n",
       "[nltk_data]   Unzipping corpora/stopwords.zip.\n",
       "</div>"
      ]
     },
     "metadata": {
      "application/vnd.databricks.v1+output": {
       "addedWidgets": {},
       "arguments": {},
       "data": "<div class=\"ansiout\">[nltk_data] Downloading package stopwords to /root/nltk_data...\n[nltk_data]   Unzipping corpora/stopwords.zip.\n</div>",
       "datasetInfos": [],
       "metadata": {},
       "removedWidgets": [],
       "type": "html"
      }
     },
     "output_type": "display_data"
    }
   ],
   "source": [
    "from pyspark.sql import functions as F\n",
    "from pyspark.sql.types import *\n",
    "from pyspark.sql.window import *\n",
    "from itertools import islice\n",
    "import requests\n",
    "import nltk\n",
    "import re\n",
    "import liwc\n",
    "import re\n",
    "from collections import Counter\n",
    "parse, category_names = liwc.load_token_parser('/dbfs/mnt/group12/liwc_en2.dic')\n",
    "from vaderSentiment.vaderSentiment import SentimentIntensityAnalyzer\n",
    "nltk.download('stopwords')\n",
    "from nltk.corpus import stopwords\n",
    "StopWords = stopwords.words(\"english\")\n",
    "\n",
    "stopwords_list = requests.get(\"https://gist.githubusercontent.com/rg089/35e00abf8941d72d419224cfd5b5925d/raw/12d899b70156fd0041fa9778d657330b024b959c/stopwords.txt\").content\n",
    "stopwords_2 = set(stopwords_list.decode().splitlines()) \n",
    "vader = SentimentIntensityAnalyzer()"
   ]
  },
  {
   "cell_type": "code",
   "execution_count": 0,
   "metadata": {
    "application/vnd.databricks.v1+cell": {
     "inputWidgets": {},
     "nuid": "fe482e69-4596-435b-bbdd-36a18e11bb47",
     "showTitle": false,
     "title": ""
    }
   },
   "outputs": [
    {
     "data": {
      "text/html": [
       "<style scoped>\n",
       "  .ansiout {\n",
       "    display: block;\n",
       "    unicode-bidi: embed;\n",
       "    white-space: pre-wrap;\n",
       "    word-wrap: break-word;\n",
       "    word-break: break-all;\n",
       "    font-family: \"Source Code Pro\", \"Menlo\", monospace;;\n",
       "    font-size: 13px;\n",
       "    color: #555;\n",
       "    margin-left: 4px;\n",
       "    line-height: 19px;\n",
       "  }\n",
       "</style>\n",
       "<div class=\"ansiout\"></div>"
      ]
     },
     "metadata": {
      "application/vnd.databricks.v1+output": {
       "addedWidgets": {},
       "arguments": {},
       "data": "<div class=\"ansiout\"></div>",
       "datasetInfos": [],
       "metadata": {},
       "removedWidgets": [],
       "type": "html"
      }
     },
     "output_type": "display_data"
    }
   ],
   "source": [
    "# Defining udfs\n",
    "\n",
    "# Stopwords token filtering\n",
    "def stop_words_filter(x):\n",
    "    return (~x.isin(StopWords)) & (~x.isin(stopwords_2)) & (x.isNotNull()) & (F.length(x) > 2)\n",
    "\n",
    "# Text cleaning\n",
    "def clean_body(x):\n",
    "    punc='!\"#$%&\\()*+,-./:;<=>?@[\\\\]^_`{|}~'\n",
    "    cleaned = x.lower()\n",
    "    cleaned = re.sub(r'https?:\\/\\/.*[\\r\\n]*', '', cleaned, flags=re.MULTILINE)\n",
    "    cleaned = re.sub(r'[u|a]\\d+.*', '', cleaned, flags=re.MULTILINE) # remove special line break characters\n",
    "    for ch in punc:\n",
    "        cleaned = cleaned.replace(ch, '')\n",
    "    return cleaned\n",
    "\n",
    "def take(n, iterable):\n",
    "    \"Return first n items of the iterable as a list\"\n",
    "    return list(islice(iterable, n))\n",
    "\n",
    "# Cound word occurences\n",
    "def word_count_agg(token_lists):\n",
    "    word_count = {}\n",
    "    for token_list in token_lists:\n",
    "        for token in token_list:\n",
    "            if token not in word_count:\n",
    "                word_count[token] = 0\n",
    "            word_count[token] += 1\n",
    "    sorted_word_count = dict(sorted(word_count.items(), key=lambda item: item[1], reverse=True))\n",
    "    n_items = take(50, sorted_word_count.items()) #Top 50\n",
    "    return dict(n_items)\n",
    "\n",
    "# Vader sentiment analysis\n",
    "def sentiment_vader(text):\n",
    "    if (text == None or len(text) < 2):\n",
    "        return -69\n",
    "    sentiment_dict = vader.polarity_scores(text)\n",
    "    if (\"compound\" in sentiment_dict):\n",
    "        return sentiment_dict[\"compound\"]\n",
    "    return -69\n",
    "\n",
    "# LIWC linguistic analysis\n",
    "def liwc_analysis(text):\n",
    "    if (text == None or len(text) < 2):\n",
    "        return {\"tokens\": 0}\n",
    "    tokens = text.split(' ')\n",
    "    liwc_magic = Counter(category for token in tokens for category in parse(token))\n",
    "    liwc_results = dict(liwc_magic)\n",
    "    i = len(tokens)\n",
    "    for category in category_names:\n",
    "        if category in liwc_results:\n",
    "            print(category)\n",
    "            liwc_results[category] = round(((float(liwc_results[category]) / i) * 100), 2)\n",
    "    liwc_results[\"tokens\"] = i\n",
    "    return liwc_results\n",
    "  \n",
    "sentiment_liwc_udf = F.udf(lambda x: liwc_analysis(x), MapType(StringType(), FloatType())) \n",
    "sentiment_vader_udf = F.udf(lambda x: sentiment_vader(x), FloatType()) \n",
    "udf_word_count_agg = F.udf(word_count_agg , MapType(StringType(), IntegerType()))\n",
    "clean_body_udf = F.udf(clean_body , StringType())\n"
   ]
  },
  {
   "cell_type": "code",
   "execution_count": 0,
   "metadata": {
    "application/vnd.databricks.v1+cell": {
     "inputWidgets": {},
     "nuid": "51e3ec31-d2e2-4be9-8bf1-1af567421317",
     "showTitle": false,
     "title": ""
    }
   },
   "outputs": [
    {
     "data": {
      "text/html": [
       "<style scoped>\n",
       "  .ansiout {\n",
       "    display: block;\n",
       "    unicode-bidi: embed;\n",
       "    white-space: pre-wrap;\n",
       "    word-wrap: break-word;\n",
       "    word-break: break-all;\n",
       "    font-family: \"Source Code Pro\", \"Menlo\", monospace;;\n",
       "    font-size: 13px;\n",
       "    color: #555;\n",
       "    margin-left: 4px;\n",
       "    line-height: 19px;\n",
       "  }\n",
       "</style>\n",
       "<div class=\"ansiout\"></div>"
      ]
     },
     "metadata": {
      "application/vnd.databricks.v1+output": {
       "addedWidgets": {},
       "arguments": {},
       "data": "<div class=\"ansiout\"></div>",
       "datasetInfos": [],
       "metadata": {},
       "removedWidgets": [],
       "type": "html"
      }
     },
     "output_type": "display_data"
    }
   ],
   "source": [
    "data_output = spark.read.option(\"header\",True).csv(\"dbfs:/mnt/group12/twitter/data.csv\")"
   ]
  },
  {
   "cell_type": "code",
   "execution_count": 0,
   "metadata": {
    "application/vnd.databricks.v1+cell": {
     "inputWidgets": {},
     "nuid": "53c68db8-0dfd-4c50-8811-b51416cefc1b",
     "showTitle": false,
     "title": ""
    }
   },
   "outputs": [
    {
     "data": {
      "text/html": [
       "<style scoped>\n",
       "  .ansiout {\n",
       "    display: block;\n",
       "    unicode-bidi: embed;\n",
       "    white-space: pre-wrap;\n",
       "    word-wrap: break-word;\n",
       "    word-break: break-all;\n",
       "    font-family: \"Source Code Pro\", \"Menlo\", monospace;;\n",
       "    font-size: 13px;\n",
       "    color: #555;\n",
       "    margin-left: 4px;\n",
       "    line-height: 19px;\n",
       "  }\n",
       "</style>\n",
       "<div class=\"ansiout\">root\n",
       "-- _id: string (nullable = true)\n",
       "-- additional_field: string (nullable = true)\n",
       "-- author_id: string (nullable = true)\n",
       "-- conversation_id: string (nullable = true)\n",
       "-- created_at: string (nullable = true)\n",
       "-- id: string (nullable = true)\n",
       "-- lang: string (nullable = true)\n",
       "-- possibly_sensitive: string (nullable = true)\n",
       "-- public_metrics.like_count: string (nullable = true)\n",
       "-- public_metrics.quote_count: string (nullable = true)\n",
       "-- public_metrics.reply_count: string (nullable = true)\n",
       "-- public_metrics.retweet_count: string (nullable = true)\n",
       "-- source: string (nullable = true)\n",
       "-- text: string (nullable = true)\n",
       "\n",
       "</div>"
      ]
     },
     "metadata": {
      "application/vnd.databricks.v1+output": {
       "addedWidgets": {},
       "arguments": {},
       "data": "<div class=\"ansiout\">root\n |-- _id: string (nullable = true)\n |-- additional_field: string (nullable = true)\n |-- author_id: string (nullable = true)\n |-- conversation_id: string (nullable = true)\n |-- created_at: string (nullable = true)\n |-- id: string (nullable = true)\n |-- lang: string (nullable = true)\n |-- possibly_sensitive: string (nullable = true)\n |-- public_metrics.like_count: string (nullable = true)\n |-- public_metrics.quote_count: string (nullable = true)\n |-- public_metrics.reply_count: string (nullable = true)\n |-- public_metrics.retweet_count: string (nullable = true)\n |-- source: string (nullable = true)\n |-- text: string (nullable = true)\n\n</div>",
       "datasetInfos": [],
       "metadata": {},
       "removedWidgets": [],
       "type": "html"
      }
     },
     "output_type": "display_data"
    }
   ],
   "source": [
    "data_output.printSchema()"
   ]
  },
  {
   "cell_type": "code",
   "execution_count": 0,
   "metadata": {
    "application/vnd.databricks.v1+cell": {
     "inputWidgets": {},
     "nuid": "0c8c3c93-4ce2-480f-ab51-c3c120a35cec",
     "showTitle": false,
     "title": ""
    }
   },
   "outputs": [
    {
     "data": {
      "text/html": [
       "<style scoped>\n",
       "  .ansiout {\n",
       "    display: block;\n",
       "    unicode-bidi: embed;\n",
       "    white-space: pre-wrap;\n",
       "    word-wrap: break-word;\n",
       "    word-break: break-all;\n",
       "    font-family: \"Source Code Pro\", \"Menlo\", monospace;;\n",
       "    font-size: 13px;\n",
       "    color: #555;\n",
       "    margin-left: 4px;\n",
       "    line-height: 19px;\n",
       "  }\n",
       "</style>\n",
       "<div class=\"ansiout\"></div>"
      ]
     },
     "metadata": {
      "application/vnd.databricks.v1+output": {
       "addedWidgets": {},
       "arguments": {},
       "data": "<div class=\"ansiout\"></div>",
       "datasetInfos": [],
       "metadata": {},
       "removedWidgets": [],
       "type": "html"
      }
     },
     "output_type": "display_data"
    }
   ],
   "source": [
    "data_chunk_filtered = data_output.withColumn('word_count', F.size(F.split(F.col('text'), ' ')))\n",
    "data_chunk_filtered = data_chunk_filtered.filter((F.col(\"word_count\") > 5))\n",
    "data_chunk_tokens = data_chunk_filtered.withColumn('cleaned_body', clean_body_udf(F.col('text')))\n",
    "data_chunk_tokens = data_chunk_tokens.withColumn('tokens', F.filter(F.split(F.col('cleaned_body'), ' '), stop_words_filter))"
   ]
  },
  {
   "cell_type": "code",
   "execution_count": 0,
   "metadata": {
    "application/vnd.databricks.v1+cell": {
     "inputWidgets": {},
     "nuid": "2931ad33-83ba-4f93-8c6e-cfc891c9ced8",
     "showTitle": false,
     "title": ""
    }
   },
   "outputs": [
    {
     "data": {
      "text/html": [
       "<style scoped>\n",
       "  .ansiout {\n",
       "    display: block;\n",
       "    unicode-bidi: embed;\n",
       "    white-space: pre-wrap;\n",
       "    word-wrap: break-word;\n",
       "    word-break: break-all;\n",
       "    font-family: \"Source Code Pro\", \"Menlo\", monospace;;\n",
       "    font-size: 13px;\n",
       "    color: #555;\n",
       "    margin-left: 4px;\n",
       "    line-height: 19px;\n",
       "  }\n",
       "</style>\n",
       "<div class=\"ansiout\">Out[6]: 142807</div>"
      ]
     },
     "metadata": {
      "application/vnd.databricks.v1+output": {
       "addedWidgets": {},
       "arguments": {},
       "data": "<div class=\"ansiout\">Out[6]: 142807</div>",
       "datasetInfos": [],
       "metadata": {},
       "removedWidgets": [],
       "type": "html"
      }
     },
     "output_type": "display_data"
    }
   ],
   "source": [
    "data_chunk_tokens.count()"
   ]
  },
  {
   "cell_type": "code",
   "execution_count": 0,
   "metadata": {
    "application/vnd.databricks.v1+cell": {
     "inputWidgets": {},
     "nuid": "75f6beef-f0bd-4354-a8d9-ea8876ff941b",
     "showTitle": false,
     "title": ""
    }
   },
   "outputs": [
    {
     "data": {
      "text/html": [
       "<style scoped>\n",
       "  .ansiout {\n",
       "    display: block;\n",
       "    unicode-bidi: embed;\n",
       "    white-space: pre-wrap;\n",
       "    word-wrap: break-word;\n",
       "    word-break: break-all;\n",
       "    font-family: \"Source Code Pro\", \"Menlo\", monospace;;\n",
       "    font-size: 13px;\n",
       "    color: #555;\n",
       "    margin-left: 4px;\n",
       "    line-height: 19px;\n",
       "  }\n",
       "</style>\n",
       "<div class=\"ansiout\"></div>"
      ]
     },
     "metadata": {
      "application/vnd.databricks.v1+output": {
       "addedWidgets": {},
       "arguments": {},
       "data": "<div class=\"ansiout\"></div>",
       "datasetInfos": [],
       "metadata": {},
       "removedWidgets": [],
       "type": "html"
      }
     },
     "output_type": "display_data"
    }
   ],
   "source": [
    "data_sample_sentiment = data_chunk_tokens.withColumn(\"vader_sentiment\", sentiment_vader_udf(F.col(\"text\")))\n",
    "data_sample_sentiment = data_sample_sentiment.withColumn(\"liwc_sentiment\", sentiment_liwc_udf(F.col(\"text\")))"
   ]
  },
  {
   "cell_type": "code",
   "execution_count": 0,
   "metadata": {
    "application/vnd.databricks.v1+cell": {
     "inputWidgets": {},
     "nuid": "39276e1f-c2a0-46c3-bdb3-b2f8bd37cac2",
     "showTitle": false,
     "title": ""
    }
   },
   "outputs": [
    {
     "data": {
      "text/html": [
       "<style scoped>\n",
       "  .ansiout {\n",
       "    display: block;\n",
       "    unicode-bidi: embed;\n",
       "    white-space: pre-wrap;\n",
       "    word-wrap: break-word;\n",
       "    word-break: break-all;\n",
       "    font-family: \"Source Code Pro\", \"Menlo\", monospace;;\n",
       "    font-size: 13px;\n",
       "    color: #555;\n",
       "    margin-left: 4px;\n",
       "    line-height: 19px;\n",
       "  }\n",
       "</style>\n",
       "<div class=\"ansiout\"></div>"
      ]
     },
     "metadata": {
      "application/vnd.databricks.v1+output": {
       "addedWidgets": {},
       "arguments": {},
       "data": "<div class=\"ansiout\"></div>",
       "datasetInfos": [],
       "metadata": {},
       "removedWidgets": [],
       "type": "html"
      }
     },
     "output_type": "display_data"
    }
   ],
   "source": [
    "# Data aggregation by topic\n",
    "data_grouped = data_sample_sentiment.groupby(\"additional_field\").agg(\n",
    "    F.count(\"_id\").alias(\"number_of_messages\"),\n",
    "\tF.avg(\"vader_sentiment\").alias(\"avg_vader_sentiment\"), \n",
    "    F.create_map(\n",
    "        F.lit('negative_emotions'), F.avg(\"liwc_sentiment.negemo\"),\n",
    "        F.lit('positive_emotions'), F.avg(\"liwc_sentiment.posemo\"),\n",
    "        F.lit('anger'), F.avg(\"liwc_sentiment.anger\"), \n",
    "        F.lit('sad'), F.avg(\"liwc_sentiment.sad\"), \n",
    "        F.lit('money'), F.avg(\"liwc_sentiment.money\"),\t\n",
    "        F.lit('health'), F.avg(\"liwc_sentiment.health\"), \n",
    "        F.lit('social'), F.avg(\"liwc_sentiment.social\"),\n",
    "        F.lit('anxiety'), F.avg(\"liwc_sentiment.anx\"), \n",
    "        F.lit('humans'), F.avg(\"liwc_sentiment.friends\"), \n",
    "        F.lit('family'), F.avg(\"liwc_sentiment.family\"), \n",
    "        F.lit('friends'), F.avg(\"liwc_sentiment.friends\"), \n",
    "        F.lit('focusfuture'), F.avg(\"liwc_sentiment.focusfuture\"), \n",
    "        F.lit('focuspast'), F.avg(\"liwc_sentiment.focuspast\"), \n",
    "        F.lit('focuspresent'), F.avg(\"liwc_sentiment.focuspresent\"), \n",
    "        F.lit('work'), F.avg(\"liwc_sentiment.work\"),\n",
    "        F.lit('drives'), F.avg(\"liwc_sentiment.drives\"), \n",
    "        F.lit('discrepancies'), F.avg(\"liwc_sentiment.discrep\"),\n",
    "        F.lit('time'), F.avg(\"liwc_sentiment.time\"), \n",
    "        F.lit('leisure'), F.avg(\"liwc_sentiment.leisure\"),\n",
    "        F.lit('death'), F.avg(\"liwc_sentiment.death\"), \n",
    "        F.lit('religion'), F.avg(\"liwc_sentiment.relig\"),\n",
    "    ).alias('liwc_sentiment_map'),\n",
    "    udf_word_count_agg(F.collect_list(\"tokens\")).alias('word_count')\n",
    ")"
   ]
  },
  {
   "cell_type": "code",
   "execution_count": 0,
   "metadata": {
    "application/vnd.databricks.v1+cell": {
     "inputWidgets": {},
     "nuid": "1714b6b6-a85b-44be-8c22-cdabe3cb1a51",
     "showTitle": false,
     "title": ""
    }
   },
   "outputs": [
    {
     "data": {
      "text/html": [
       "<style scoped>\n",
       "  .ansiout {\n",
       "    display: block;\n",
       "    unicode-bidi: embed;\n",
       "    white-space: pre-wrap;\n",
       "    word-wrap: break-word;\n",
       "    word-break: break-all;\n",
       "    font-family: \"Source Code Pro\", \"Menlo\", monospace;;\n",
       "    font-size: 13px;\n",
       "    color: #555;\n",
       "    margin-left: 4px;\n",
       "    line-height: 19px;\n",
       "  }\n",
       "</style>\n",
       "<div class=\"ansiout\"></div>"
      ]
     },
     "metadata": {
      "application/vnd.databricks.v1+output": {
       "addedWidgets": {},
       "arguments": {},
       "data": "<div class=\"ansiout\"></div>",
       "datasetInfos": [],
       "metadata": {},
       "removedWidgets": [],
       "type": "html"
      }
     },
     "output_type": "display_data"
    }
   ],
   "source": [
    "# Write output\n",
    "data_grouped.coalesce(1).write.mode('overwrite').json(\"dbfs:/mnt/group12/data_output/topics_twitter.json\")"
   ]
  },
  {
   "cell_type": "code",
   "execution_count": 0,
   "metadata": {
    "application/vnd.databricks.v1+cell": {
     "inputWidgets": {},
     "nuid": "f648b20e-9619-457e-b86a-5cc992bc74b9",
     "showTitle": false,
     "title": ""
    }
   },
   "outputs": [
    {
     "data": {
      "text/html": [
       "<style scoped>\n",
       "  .table-result-container {\n",
       "    max-height: 300px;\n",
       "    overflow: auto;\n",
       "  }\n",
       "  table, th, td {\n",
       "    border: 1px solid black;\n",
       "    border-collapse: collapse;\n",
       "  }\n",
       "  th, td {\n",
       "    padding: 5px;\n",
       "  }\n",
       "  th {\n",
       "    text-align: left;\n",
       "  }\n",
       "</style><div class='table-result-container'><table class='table-result'><thead style='background-color: white'><tr><th>path</th><th>name</th><th>size</th></tr></thead><tbody><tr><td>dbfs:/mnt/group12/data_output/topics_twitter.json/_SUCCESS</td><td>_SUCCESS</td><td>0</td></tr><tr><td>dbfs:/mnt/group12/data_output/topics_twitter.json/_committed_4440859935142537306</td><td>_committed_4440859935142537306</td><td>117</td></tr><tr><td>dbfs:/mnt/group12/data_output/topics_twitter.json/_started_4440859935142537306</td><td>_started_4440859935142537306</td><td>0</td></tr><tr><td>dbfs:/mnt/group12/data_output/topics_twitter.json/part-00000-tid-4440859935142537306-3f5ca972-fb0a-4248-8756-5249de36167d-424672-1-c000.json</td><td>part-00000-tid-4440859935142537306-3f5ca972-fb0a-4248-8756-5249de36167d-424672-1-c000.json</td><td>6840</td></tr></tbody></table></div>"
      ]
     },
     "metadata": {
      "application/vnd.databricks.v1+output": {
       "addedWidgets": {},
       "aggData": [],
       "aggError": "",
       "aggOverflow": false,
       "aggSchema": [],
       "aggSeriesLimitReached": false,
       "aggType": "",
       "arguments": {},
       "columnCustomDisplayInfos": {},
       "data": [
        [
         "dbfs:/mnt/group12/data_output/topics_twitter.json/_SUCCESS",
         "_SUCCESS",
         0
        ],
        [
         "dbfs:/mnt/group12/data_output/topics_twitter.json/_committed_4440859935142537306",
         "_committed_4440859935142537306",
         117
        ],
        [
         "dbfs:/mnt/group12/data_output/topics_twitter.json/_started_4440859935142537306",
         "_started_4440859935142537306",
         0
        ],
        [
         "dbfs:/mnt/group12/data_output/topics_twitter.json/part-00000-tid-4440859935142537306-3f5ca972-fb0a-4248-8756-5249de36167d-424672-1-c000.json",
         "part-00000-tid-4440859935142537306-3f5ca972-fb0a-4248-8756-5249de36167d-424672-1-c000.json",
         6840
        ]
       ],
       "datasetInfos": [],
       "dbfsResultPath": null,
       "isJsonSchema": true,
       "metadata": {},
       "overflow": false,
       "plotOptions": {
        "customPlotOptions": {},
        "displayType": "table",
        "pivotAggregation": null,
        "pivotColumns": null,
        "xColumns": null,
        "yColumns": null
       },
       "removedWidgets": [],
       "schema": [
        {
         "metadata": "{}",
         "name": "path",
         "type": "\"string\""
        },
        {
         "metadata": "{}",
         "name": "name",
         "type": "\"string\""
        },
        {
         "metadata": "{}",
         "name": "size",
         "type": "\"long\""
        }
       ],
       "type": "table"
      }
     },
     "output_type": "display_data"
    }
   ],
   "source": [
    "display(dbutils.fs.ls('mnt/group12/data_output/topics_twitter.json'))"
   ]
  },
  {
   "cell_type": "code",
   "execution_count": 0,
   "metadata": {
    "application/vnd.databricks.v1+cell": {
     "inputWidgets": {},
     "nuid": "4c39e02d-9f6d-4ec2-b30c-1bd678022e72",
     "showTitle": false,
     "title": ""
    }
   },
   "outputs": [
    {
     "data": {
      "text/html": [
       "<style scoped>\n",
       "  .ansiout {\n",
       "    display: block;\n",
       "    unicode-bidi: embed;\n",
       "    white-space: pre-wrap;\n",
       "    word-wrap: break-word;\n",
       "    word-break: break-all;\n",
       "    font-family: \"Source Code Pro\", \"Menlo\", monospace;;\n",
       "    font-size: 13px;\n",
       "    color: #555;\n",
       "    margin-left: 4px;\n",
       "    line-height: 19px;\n",
       "  }\n",
       "</style>"
      ]
     },
     "metadata": {
      "application/vnd.databricks.v1+output": {
       "arguments": {},
       "data": "",
       "errorSummary": "",
       "errorTraceType": null,
       "metadata": {},
       "type": "ipynbError"
      }
     },
     "output_type": "display_data"
    }
   ],
   "source": []
  }
 ],
 "metadata": {
  "application/vnd.databricks.v1+notebook": {
   "dashboards": [],
   "language": "python",
   "notebookMetadata": {
    "pythonIndentUnit": 2
   },
   "notebookName": "Master Pipeline: Data aggregation of Twitter Analysis",
   "notebookOrigID": 979877130385179,
   "widgets": {}
  },
  "kernelspec": {
   "display_name": "Python 3",
   "language": "python",
   "name": "python3"
  },
  "language_info": {
   "codemirror_mode": {
    "name": "ipython",
    "version": 3
   },
   "file_extension": ".py",
   "mimetype": "text/x-python",
   "name": "python",
   "nbconvert_exporter": "python",
   "pygments_lexer": "ipython3",
   "version": "3.8.2"
  }
 },
 "nbformat": 4,
 "nbformat_minor": 1
}
