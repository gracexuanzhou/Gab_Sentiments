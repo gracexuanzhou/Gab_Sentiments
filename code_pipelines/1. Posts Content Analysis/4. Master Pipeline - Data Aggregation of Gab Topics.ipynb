{
 "cells": [
  {
   "cell_type": "code",
   "execution_count": 0,
   "metadata": {
    "application/vnd.databricks.v1+cell": {
     "inputWidgets": {},
     "nuid": "417a03c2-0587-47e6-ac29-58d0dd5c969d",
     "showTitle": false,
     "title": ""
    }
   },
   "outputs": [
    {
     "data": {
      "text/html": [
       "<style scoped>\n",
       "  .ansiout {\n",
       "    display: block;\n",
       "    unicode-bidi: embed;\n",
       "    white-space: pre-wrap;\n",
       "    word-wrap: break-word;\n",
       "    word-break: break-all;\n",
       "    font-family: \"Source Code Pro\", \"Menlo\", monospace;;\n",
       "    font-size: 13px;\n",
       "    color: #555;\n",
       "    margin-left: 4px;\n",
       "    line-height: 19px;\n",
       "  }\n",
       "</style>\n",
       "<div class=\"ansiout\">Python interpreter will be restarted.\n",
       "Collecting nltk\n",
       "  Using cached nltk-3.6.5-py3-none-any.whl (1.5 MB)\n",
       "Collecting tqdm\n",
       "  Using cached tqdm-4.62.3-py2.py3-none-any.whl (76 kB)\n",
       "Collecting click\n",
       "  Using cached click-8.0.3-py3-none-any.whl (97 kB)\n",
       "Collecting regex&gt;=2021.8.3\n",
       "  Using cached regex-2021.10.8-cp38-cp38-manylinux_2_17_x86_64.manylinux2014_x86_64.whl (764 kB)\n",
       "Requirement already satisfied: joblib in /databricks/python3/lib/python3.8/site-packages (from nltk) (1.0.1)\n",
       "Installing collected packages: tqdm, regex, click, nltk\n",
       "Successfully installed click-8.0.3 nltk-3.6.5 regex-2021.10.8 tqdm-4.62.3\n",
       "WARNING: You are using pip version 21.0.1; however, version 21.3 is available.\n",
       "You should consider upgrading via the &#39;/local_disk0/.ephemeral_nfs/envs/pythonEnv-f85666fa-0f34-4c6a-b2f6-e3650ee6f7cb/bin/python -m pip install --upgrade pip&#39; command.\n",
       "Python interpreter will be restarted.\n",
       "</div>"
      ]
     },
     "metadata": {
      "application/vnd.databricks.v1+output": {
       "addedWidgets": {},
       "arguments": {},
       "data": "<div class=\"ansiout\">Python interpreter will be restarted.\nCollecting nltk\n  Using cached nltk-3.6.5-py3-none-any.whl (1.5 MB)\nCollecting tqdm\n  Using cached tqdm-4.62.3-py2.py3-none-any.whl (76 kB)\nCollecting click\n  Using cached click-8.0.3-py3-none-any.whl (97 kB)\nCollecting regex&gt;=2021.8.3\n  Using cached regex-2021.10.8-cp38-cp38-manylinux_2_17_x86_64.manylinux2014_x86_64.whl (764 kB)\nRequirement already satisfied: joblib in /databricks/python3/lib/python3.8/site-packages (from nltk) (1.0.1)\nInstalling collected packages: tqdm, regex, click, nltk\nSuccessfully installed click-8.0.3 nltk-3.6.5 regex-2021.10.8 tqdm-4.62.3\nWARNING: You are using pip version 21.0.1; however, version 21.3 is available.\nYou should consider upgrading via the &#39;/local_disk0/.ephemeral_nfs/envs/pythonEnv-f85666fa-0f34-4c6a-b2f6-e3650ee6f7cb/bin/python -m pip install --upgrade pip&#39; command.\nPython interpreter will be restarted.\n</div>",
       "datasetInfos": [],
       "metadata": {},
       "removedWidgets": [],
       "type": "html"
      }
     },
     "output_type": "display_data"
    }
   ],
   "source": [
    "%pip install nltk"
   ]
  },
  {
   "cell_type": "code",
   "execution_count": 0,
   "metadata": {
    "application/vnd.databricks.v1+cell": {
     "inputWidgets": {},
     "nuid": "9acd57fd-0fcd-4703-a65e-0e7bfc125620",
     "showTitle": false,
     "title": ""
    }
   },
   "outputs": [
    {
     "data": {
      "text/html": [
       "<style scoped>\n",
       "  .ansiout {\n",
       "    display: block;\n",
       "    unicode-bidi: embed;\n",
       "    white-space: pre-wrap;\n",
       "    word-wrap: break-word;\n",
       "    word-break: break-all;\n",
       "    font-family: \"Source Code Pro\", \"Menlo\", monospace;;\n",
       "    font-size: 13px;\n",
       "    color: #555;\n",
       "    margin-left: 4px;\n",
       "    line-height: 19px;\n",
       "  }\n",
       "</style>\n",
       "<div class=\"ansiout\"></div>"
      ]
     },
     "metadata": {
      "application/vnd.databricks.v1+output": {
       "addedWidgets": {},
       "arguments": {},
       "data": "<div class=\"ansiout\"></div>",
       "datasetInfos": [],
       "metadata": {},
       "removedWidgets": [],
       "type": "html"
      }
     },
     "output_type": "display_data"
    }
   ],
   "source": [
    "# Stopwords lists\n",
    "import requests\n",
    "stopwords_list = requests.get(\"https://gist.githubusercontent.com/rg089/35e00abf8941d72d419224cfd5b5925d/raw/12d899b70156fd0041fa9778d657330b024b959c/stopwords.txt\").content\n",
    "stopwords_2 = set(stopwords_list.decode().splitlines()) "
   ]
  },
  {
   "cell_type": "code",
   "execution_count": 0,
   "metadata": {
    "application/vnd.databricks.v1+cell": {
     "inputWidgets": {},
     "nuid": "4acefe30-aa28-4305-8879-ae2c678c77fd",
     "showTitle": false,
     "title": ""
    }
   },
   "outputs": [
    {
     "data": {
      "text/html": [
       "<style scoped>\n",
       "  .ansiout {\n",
       "    display: block;\n",
       "    unicode-bidi: embed;\n",
       "    white-space: pre-wrap;\n",
       "    word-wrap: break-word;\n",
       "    word-break: break-all;\n",
       "    font-family: \"Source Code Pro\", \"Menlo\", monospace;;\n",
       "    font-size: 13px;\n",
       "    color: #555;\n",
       "    margin-left: 4px;\n",
       "    line-height: 19px;\n",
       "  }\n",
       "</style>\n",
       "<div class=\"ansiout\">[nltk_data] Downloading package stopwords to /root/nltk_data...\n",
       "[nltk_data]   Package stopwords is already up-to-date!\n",
       "</div>"
      ]
     },
     "metadata": {
      "application/vnd.databricks.v1+output": {
       "addedWidgets": {},
       "arguments": {},
       "data": "<div class=\"ansiout\">[nltk_data] Downloading package stopwords to /root/nltk_data...\n[nltk_data]   Package stopwords is already up-to-date!\n</div>",
       "datasetInfos": [],
       "metadata": {},
       "removedWidgets": [],
       "type": "html"
      }
     },
     "output_type": "display_data"
    }
   ],
   "source": [
    "from pyspark.sql import functions as F\n",
    "from pyspark.sql.types import *\n",
    "\n",
    "import nltk\n",
    "nltk.download('stopwords')\n",
    "from nltk.corpus import stopwords"
   ]
  },
  {
   "cell_type": "code",
   "execution_count": 0,
   "metadata": {
    "application/vnd.databricks.v1+cell": {
     "inputWidgets": {},
     "nuid": "a88c7e36-1202-462d-b9d8-bb4d6242d45e",
     "showTitle": false,
     "title": ""
    }
   },
   "outputs": [
    {
     "data": {
      "text/html": [
       "<style scoped>\n",
       "  .ansiout {\n",
       "    display: block;\n",
       "    unicode-bidi: embed;\n",
       "    white-space: pre-wrap;\n",
       "    word-wrap: break-word;\n",
       "    word-break: break-all;\n",
       "    font-family: \"Source Code Pro\", \"Menlo\", monospace;;\n",
       "    font-size: 13px;\n",
       "    color: #555;\n",
       "    margin-left: 4px;\n",
       "    line-height: 19px;\n",
       "  }\n",
       "</style>\n",
       "<div class=\"ansiout\"></div>"
      ]
     },
     "metadata": {
      "application/vnd.databricks.v1+output": {
       "addedWidgets": {},
       "arguments": {},
       "data": "<div class=\"ansiout\"></div>",
       "datasetInfos": [],
       "metadata": {},
       "removedWidgets": [],
       "type": "html"
      }
     },
     "output_type": "display_data"
    }
   ],
   "source": [
    "data_output = spark.read.option(\"header\",\"true\").parquet(\"dbfs:/mnt/group12/sentiment\")"
   ]
  },
  {
   "cell_type": "code",
   "execution_count": 0,
   "metadata": {
    "application/vnd.databricks.v1+cell": {
     "inputWidgets": {},
     "nuid": "fe482e69-4596-435b-bbdd-36a18e11bb47",
     "showTitle": false,
     "title": ""
    }
   },
   "outputs": [
    {
     "data": {
      "text/html": [
       "<style scoped>\n",
       "  .ansiout {\n",
       "    display: block;\n",
       "    unicode-bidi: embed;\n",
       "    white-space: pre-wrap;\n",
       "    word-wrap: break-word;\n",
       "    word-break: break-all;\n",
       "    font-family: \"Source Code Pro\", \"Menlo\", monospace;;\n",
       "    font-size: 13px;\n",
       "    color: #555;\n",
       "    margin-left: 4px;\n",
       "    line-height: 19px;\n",
       "  }\n",
       "</style>\n",
       "<div class=\"ansiout\"></div>"
      ]
     },
     "metadata": {
      "application/vnd.databricks.v1+output": {
       "addedWidgets": {},
       "arguments": {},
       "data": "<div class=\"ansiout\"></div>",
       "datasetInfos": [],
       "metadata": {},
       "removedWidgets": [],
       "type": "html"
      }
     },
     "output_type": "display_data"
    }
   ],
   "source": [
    "import re\n",
    "# Clean text udf\n",
    "def clean_body(x):\n",
    "    punc='!\"#$%&\\()*+,-./:;<=>?@[\\\\]^_`{|}~'\n",
    "    cleaned = x.lower()\n",
    "    cleaned = re.sub(r'https?:\\/\\/.*[\\r\\n]*', '', cleaned, flags=re.MULTILINE)\n",
    "    cleaned = re.sub(r'[u|a]\\d+.*', '', cleaned, flags=re.MULTILINE) # remove special line break characters\n",
    "    for ch in punc:\n",
    "        cleaned = cleaned.replace(ch, '')\n",
    "    return cleaned\n",
    "\n",
    "clean_body_udf = F.udf(clean_body , StringType())\n"
   ]
  },
  {
   "cell_type": "code",
   "execution_count": 0,
   "metadata": {
    "application/vnd.databricks.v1+cell": {
     "inputWidgets": {},
     "nuid": "51e3ec31-d2e2-4be9-8bf1-1af567421317",
     "showTitle": false,
     "title": ""
    }
   },
   "outputs": [
    {
     "data": {
      "text/html": [
       "<style scoped>\n",
       "  .ansiout {\n",
       "    display: block;\n",
       "    unicode-bidi: embed;\n",
       "    white-space: pre-wrap;\n",
       "    word-wrap: break-word;\n",
       "    word-break: break-all;\n",
       "    font-family: \"Source Code Pro\", \"Menlo\", monospace;;\n",
       "    font-size: 13px;\n",
       "    color: #555;\n",
       "    margin-left: 4px;\n",
       "    line-height: 19px;\n",
       "  }\n",
       "</style>\n",
       "<div class=\"ansiout\"></div>"
      ]
     },
     "metadata": {
      "application/vnd.databricks.v1+output": {
       "addedWidgets": {},
       "arguments": {},
       "data": "<div class=\"ansiout\"></div>",
       "datasetInfos": [],
       "metadata": {},
       "removedWidgets": [],
       "type": "html"
      }
     },
     "output_type": "display_data"
    }
   ],
   "source": [
    "StopWords = stopwords.words(\"english\")\n",
    "# Filter tokens udf\n",
    "def stop_words_filter(x):\n",
    "    return (~x.isin(StopWords)) & (~x.isin(stopwords_2)) & (x.isNotNull()) & (F.length(x) > 2)\n",
    "\n",
    "data_chunk_tokens = data_output.withColumn('cleaned_body', clean_body_udf(F.col('body')))\n",
    "data_chunk_tokens = data_chunk_tokens.withColumn('tokens', F.filter(F.split(F.col('cleaned_body'), ' '), stop_words_filter))"
   ]
  },
  {
   "cell_type": "code",
   "execution_count": 0,
   "metadata": {
    "application/vnd.databricks.v1+cell": {
     "inputWidgets": {},
     "nuid": "3548233b-6292-4def-ace2-318b5a0f28d9",
     "showTitle": false,
     "title": ""
    }
   },
   "outputs": [
    {
     "data": {
      "text/html": [
       "<style scoped>\n",
       "  .ansiout {\n",
       "    display: block;\n",
       "    unicode-bidi: embed;\n",
       "    white-space: pre-wrap;\n",
       "    word-wrap: break-word;\n",
       "    word-break: break-all;\n",
       "    font-family: \"Source Code Pro\", \"Menlo\", monospace;;\n",
       "    font-size: 13px;\n",
       "    color: #555;\n",
       "    margin-left: 4px;\n",
       "    line-height: 19px;\n",
       "  }\n",
       "</style>\n",
       "<div class=\"ansiout\"></div>"
      ]
     },
     "metadata": {
      "application/vnd.databricks.v1+output": {
       "addedWidgets": {},
       "arguments": {},
       "data": "<div class=\"ansiout\"></div>",
       "datasetInfos": [],
       "metadata": {},
       "removedWidgets": [],
       "type": "html"
      }
     },
     "output_type": "display_data"
    }
   ],
   "source": [
    "from itertools import islice\n",
    "\n",
    "def take(n, iterable):\n",
    "    \"Return first n items of the iterable as a list\"\n",
    "    return list(islice(iterable, n))\n",
    "\n",
    "# Word ocurrences count UDF\n",
    "def word_count_agg(token_lists):\n",
    "    word_count = {}\n",
    "    for token_list in token_lists:\n",
    "    for token in token_list:\n",
    "        if token not in word_count:\n",
    "            word_count[token] = 0\n",
    "            word_count[token] += 1\n",
    "    sorted_word_count = dict(sorted(word_count.items(), key=lambda item: item[1], reverse=True))\n",
    "    n_items = take(50, sorted_word_count.items()) #Top 50\n",
    "    return dict(n_items)\n",
    "\n",
    "udf_word_count_agg = F.udf(word_count_agg , MapType(StringType(), IntegerType()))"
   ]
  },
  {
   "cell_type": "code",
   "execution_count": 0,
   "metadata": {
    "application/vnd.databricks.v1+cell": {
     "inputWidgets": {},
     "nuid": "39276e1f-c2a0-46c3-bdb3-b2f8bd37cac2",
     "showTitle": false,
     "title": ""
    }
   },
   "outputs": [
    {
     "data": {
      "text/html": [
       "<style scoped>\n",
       "  .ansiout {\n",
       "    display: block;\n",
       "    unicode-bidi: embed;\n",
       "    white-space: pre-wrap;\n",
       "    word-wrap: break-word;\n",
       "    word-break: break-all;\n",
       "    font-family: \"Source Code Pro\", \"Menlo\", monospace;;\n",
       "    font-size: 13px;\n",
       "    color: #555;\n",
       "    margin-left: 4px;\n",
       "    line-height: 19px;\n",
       "  }\n",
       "</style>\n",
       "<div class=\"ansiout\"></div>"
      ]
     },
     "metadata": {
      "application/vnd.databricks.v1+output": {
       "addedWidgets": {},
       "arguments": {},
       "data": "<div class=\"ansiout\"></div>",
       "datasetInfos": [],
       "metadata": {},
       "removedWidgets": [],
       "type": "html"
      }
     },
     "output_type": "display_data"
    }
   ],
   "source": [
    "# Group by topic and aggregate metrics\n",
    "data_grouped = data_chunk_tokens.filter(F.col('topic_title').isNotNull()).groupby(\"created_at_month\", \"topic_title\").agg(\n",
    "    F.count(\"id\").alias(\"number_of_messages\"),\n",
    "\tF.sum(\"like_count\").alias(\"likes_total\"), \n",
    "\tF.avg(\"like_count\").alias(\"average_likes\"),  \n",
    "\tF.sum(\"dislike_count\").alias(\"dislike_total\"), \n",
    "\tF.avg(\"dislike_count\").alias(\"average_dislike\"),\n",
    "\tF.sum(\"score\").alias(\"score_total\"), \n",
    "    F.avg(\"score\").alias(\"average_score\"), \n",
    "\tF.avg(\"vader_sentiment\").alias(\"avg_vader_sentiment\"), \n",
    "    F.create_map(\n",
    "        F.lit('negative_emotions'), F.avg(\"liwc_sentiment.negemo\"),\n",
    "        F.lit('positive_emotions'), F.avg(\"liwc_sentiment.posemo\"),\n",
    "        F.lit('anger'), F.avg(\"liwc_sentiment.anger\"), \n",
    "        F.lit('sad'), F.avg(\"liwc_sentiment.sad\"), \n",
    "        F.lit('money'), F.avg(\"liwc_sentiment.money\"),\t\n",
    "        F.lit('health'), F.avg(\"liwc_sentiment.health\"), \n",
    "        F.lit('social'), F.avg(\"liwc_sentiment.social\"),\n",
    "        F.lit('anxiety'), F.avg(\"liwc_sentiment.anx\"), \n",
    "        F.lit('humans'), F.avg(\"liwc_sentiment.friends\"), \n",
    "        F.lit('family'), F.avg(\"liwc_sentiment.family\"), \n",
    "        F.lit('friends'), F.avg(\"liwc_sentiment.friends\"), \n",
    "        F.lit('focusfuture'), F.avg(\"liwc_sentiment.focusfuture\"), \n",
    "        F.lit('focuspast'), F.avg(\"liwc_sentiment.focuspast\"), \n",
    "        F.lit('focuspresent'), F.avg(\"liwc_sentiment.focuspresent\"), \n",
    "        F.lit('work'), F.avg(\"liwc_sentiment.work\"),\n",
    "        F.lit('drives'), F.avg(\"liwc_sentiment.drives\"), \n",
    "        F.lit('discrepancies'), F.avg(\"liwc_sentiment.discrep\"),\n",
    "        F.lit('time'), F.avg(\"liwc_sentiment.time\"), \n",
    "        F.lit('leisure'), F.avg(\"liwc_sentiment.leisure\"),\n",
    "        F.lit('death'), F.avg(\"liwc_sentiment.death\"), \n",
    "        F.lit('religion'), F.avg(\"liwc_sentiment.relig\"),\n",
    "    ).alias('liwc_sentiment_map'),\n",
    "    udf_word_count_agg(F.collect_list(\"tokens\")).alias('word_count'),\n",
    "    F.slice(F.collect_list(F.col('body')), 1, 20).alias('messages_sample')\n",
    ")"
   ]
  },
  {
   "cell_type": "code",
   "execution_count": 0,
   "metadata": {
    "application/vnd.databricks.v1+cell": {
     "inputWidgets": {},
     "nuid": "8268a130-af44-4a2d-b854-8e4a5de9966a",
     "showTitle": false,
     "title": ""
    }
   },
   "outputs": [
    {
     "data": {
      "text/html": [
       "<style scoped>\n",
       "  .ansiout {\n",
       "    display: block;\n",
       "    unicode-bidi: embed;\n",
       "    white-space: pre-wrap;\n",
       "    word-wrap: break-word;\n",
       "    word-break: break-all;\n",
       "    font-family: \"Source Code Pro\", \"Menlo\", monospace;;\n",
       "    font-size: 13px;\n",
       "    color: #555;\n",
       "    margin-left: 4px;\n",
       "    line-height: 19px;\n",
       "  }\n",
       "</style>\n",
       "<div class=\"ansiout\">Out[18]: 8416</div>"
      ]
     },
     "metadata": {
      "application/vnd.databricks.v1+output": {
       "addedWidgets": {},
       "arguments": {},
       "data": "<div class=\"ansiout\">Out[18]: 8416</div>",
       "datasetInfos": [],
       "metadata": {},
       "removedWidgets": [],
       "type": "html"
      }
     },
     "output_type": "display_data"
    }
   ],
   "source": [
    "data_grouped.count()"
   ]
  },
  {
   "cell_type": "code",
   "execution_count": 0,
   "metadata": {
    "application/vnd.databricks.v1+cell": {
     "inputWidgets": {},
     "nuid": "800f8366-90cd-4ba6-9431-836e47b19c3b",
     "showTitle": false,
     "title": ""
    }
   },
   "outputs": [
    {
     "data": {
      "text/html": [
       "<style scoped>\n",
       "  .ansiout {\n",
       "    display: block;\n",
       "    unicode-bidi: embed;\n",
       "    white-space: pre-wrap;\n",
       "    word-wrap: break-word;\n",
       "    word-break: break-all;\n",
       "    font-family: \"Source Code Pro\", \"Menlo\", monospace;;\n",
       "    font-size: 13px;\n",
       "    color: #555;\n",
       "    margin-left: 4px;\n",
       "    line-height: 19px;\n",
       "  }\n",
       "</style>\n",
       "<div class=\"ansiout\">+----------------+--------------------+------------------+-----------+------------------+-------------+--------------------+-----------+------------------+--------------------+--------------------+--------------------+--------------------+\n",
       "created_at_month|         topic_title|number_of_messages|likes_total|     average_likes|dislike_total|     average_dislike|score_total|     average_score| avg_vader_sentiment|  liwc_sentiment_map|          word_count|     messages_sample|\n",
       "+----------------+--------------------+------------------+-----------+------------------+-------------+--------------------+-----------+------------------+--------------------+--------------------+--------------------+--------------------+\n",
       "         2017-05|   Health Care Bill |               259|       2171| 8.382239382239382|           57| 0.22007722007722008|       2114| 8.162162162162161| 0.05426988409810545|{negative_emotion...|{insurance -&gt; 22,...|[Check out www.di...|\n",
       "         2017-05|      Julian Assange|               118|       1548| 13.11864406779661|           71|  0.6016949152542372|       1477|12.516949152542374|0.010166947650959936|{negative_emotion...|{reason -&gt; 5, usa...|[there is no frea...|\n",
       "         2017-05|              Macron|                47|        600| 12.76595744680851|           14|  0.2978723404255319|        586| 12.46808510638298|  0.0225085104875108|{negative_emotion...|{trending -&gt; 2, g...|[What I said and ...|\n",
       "         2017-05|         Roger Ailes|                75|        396|              5.28|           49|  0.6533333333333333|        344| 4.586666666666667|-0.00445599973201...|{negative_emotion...|{die -&gt; 2, smith ...|[you mean like re...|\n",
       "         2017-05|           Seth Rich|              3339|      26563| 7.955375861036239|         1705|  0.5106319257262654|      24818| 7.432764300688829|0.003420454777337...|{negative_emotion...|{trump -&gt; 169, ev...|[The head doc at ...|\n",
       "         2017-05|       WhatsApp Down|                 3|         38|12.666666666666666|            0|                 0.0|         38|12.666666666666666|                 0.0|{negative_emotion...|{whatsapp -&gt; 1, l...|[Iphones shorten ...|\n",
       "         2017-06|          Alexandria|              1528|      14732| 9.641361256544503|           76|0.049738219895287955|      14656| 9.591623036649215| -0.1877498687319616|{negative_emotion...|{violent -&gt; 39, g...|[Oh that&#39;s right ...|\n",
       "         2017-06|          Bill Cosby|                42|        371| 8.833333333333334|           11|  0.2619047619047619|        361| 8.595238095238095|-0.24214761788468986|{negative_emotion...|{big -&gt; 2, dig -&gt;...|[\\&#34;The defense re...|\n",
       "         2017-06|        Father&#39;s Day|               267|       3553|13.307116104868914|           18| 0.06741573033707865|       3535|13.239700374531836|  0.2710303374276625|{negative_emotion...|{big -&gt; 10, trump...|[Lena Dunham is H...|\n",
       "         2017-06|       Kathy Griffin|                22|        155| 7.045454545454546|            5| 0.22727272727272727|        150| 6.818181818181818|-0.01672272621230...|{negative_emotion...|{neverybody -&gt; 1,...|[There was only o...|\n",
       "         2017-06|Notre Dame Cathedral|                65|        555| 8.538461538461538|           44|   0.676923076923077|        511| 7.861538461538461|-0.07012923147815925|{negative_emotion...|{london -&gt; 5, not...|[SHOCKING VIDEO e...|\n",
       "         2017-06|        The Vatican |                22|         75| 3.409090909090909|           13|  0.5909090909090909|         62|2.8181818181818183|  0.1582090895284306|{negative_emotion...|{pope -&gt; 5, big -...|[So then we must ...|\n",
       "         2017-07|            AlphaBay|               155|        665| 4.290322580645161|            8| 0.05161290322580645|        657|4.2387096774193544|0.014033548509882343|{negative_emotion...|{trump -&gt; 9, abor...|[Christian evange...|\n",
       "         2017-07|          Imran Awan|                 2|          2|               1.0|            0|                 0.0|          2|               1.0|                 0.0|{negative_emotion...|{crumble -&gt; 1, ca...|[This could be wh...|\n",
       "         2017-07|    Is It Fake News?|                12|         27|              2.25|            0|                 0.0|         27|              2.25| -0.2507583334421118|{negative_emotion...|{wanting -&gt; 1, tr...|[MSNBC\\u2019s \\u2...|\n",
       "         2017-07|     Kid Rock Senate|                55|        412| 7.490909090909091|            2| 0.03636363636363636|        410| 7.454545454545454| 0.13043999834494158|{negative_emotion...|{reason -&gt; 2, die...|[agreed. Here is ...|\n",
       "         2017-07|             Mt Gox |                 2|          4|               2.0|            0|                 0.0|          4|               2.0| -0.3960500117391348|{negative_emotion...|{activity -&gt; 1, c...|[Many years ago, ...|\n",
       "         2017-08| #Alt-Left Terrorism|                26|        241|  9.26923076923077|            0|                 0.0|        241|  9.26923076923077|-0.15994615508959845|{negative_emotion...|{couple -&gt; 1, ago...|[Never too early ...|\n",
       "         2017-08|           #GoodNews|                 2|          2|               1.0|            0|                 0.0|          2|               1.0|  0.8240500092506409|{negative_emotion...|{love -&gt; 1, weeks...|[Lol, promise I w...|\n",
       "         2017-08|     ANTIFA Petition|                98|       1612|16.448979591836736|            1| 0.01020408163265306|       1611| 16.43877551020408| 0.09839693825615912|{negative_emotion...|{voice -&gt; 2, trum...|[Back to hell whe...|\n",
       "+----------------+--------------------+------------------+-----------+------------------+-------------+--------------------+-----------+------------------+--------------------+--------------------+--------------------+--------------------+\n",
       "only showing top 20 rows\n",
       "\n",
       "</div>"
      ]
     },
     "metadata": {
      "application/vnd.databricks.v1+output": {
       "addedWidgets": {},
       "arguments": {},
       "data": "<div class=\"ansiout\">+----------------+--------------------+------------------+-----------+------------------+-------------+--------------------+-----------+------------------+--------------------+--------------------+--------------------+--------------------+\n|created_at_month|         topic_title|number_of_messages|likes_total|     average_likes|dislike_total|     average_dislike|score_total|     average_score| avg_vader_sentiment|  liwc_sentiment_map|          word_count|     messages_sample|\n+----------------+--------------------+------------------+-----------+------------------+-------------+--------------------+-----------+------------------+--------------------+--------------------+--------------------+--------------------+\n|         2017-05|   Health Care Bill |               259|       2171| 8.382239382239382|           57| 0.22007722007722008|       2114| 8.162162162162161| 0.05426988409810545|{negative_emotion...|{insurance -&gt; 22,...|[Check out www.di...|\n|         2017-05|      Julian Assange|               118|       1548| 13.11864406779661|           71|  0.6016949152542372|       1477|12.516949152542374|0.010166947650959936|{negative_emotion...|{reason -&gt; 5, usa...|[there is no frea...|\n|         2017-05|              Macron|                47|        600| 12.76595744680851|           14|  0.2978723404255319|        586| 12.46808510638298|  0.0225085104875108|{negative_emotion...|{trending -&gt; 2, g...|[What I said and ...|\n|         2017-05|         Roger Ailes|                75|        396|              5.28|           49|  0.6533333333333333|        344| 4.586666666666667|-0.00445599973201...|{negative_emotion...|{die -&gt; 2, smith ...|[you mean like re...|\n|         2017-05|           Seth Rich|              3339|      26563| 7.955375861036239|         1705|  0.5106319257262654|      24818| 7.432764300688829|0.003420454777337...|{negative_emotion...|{trump -&gt; 169, ev...|[The head doc at ...|\n|         2017-05|       WhatsApp Down|                 3|         38|12.666666666666666|            0|                 0.0|         38|12.666666666666666|                 0.0|{negative_emotion...|{whatsapp -&gt; 1, l...|[Iphones shorten ...|\n|         2017-06|          Alexandria|              1528|      14732| 9.641361256544503|           76|0.049738219895287955|      14656| 9.591623036649215| -0.1877498687319616|{negative_emotion...|{violent -&gt; 39, g...|[Oh that&#39;s right ...|\n|         2017-06|          Bill Cosby|                42|        371| 8.833333333333334|           11|  0.2619047619047619|        361| 8.595238095238095|-0.24214761788468986|{negative_emotion...|{big -&gt; 2, dig -&gt;...|[\\&#34;The defense re...|\n|         2017-06|        Father&#39;s Day|               267|       3553|13.307116104868914|           18| 0.06741573033707865|       3535|13.239700374531836|  0.2710303374276625|{negative_emotion...|{big -&gt; 10, trump...|[Lena Dunham is H...|\n|         2017-06|       Kathy Griffin|                22|        155| 7.045454545454546|            5| 0.22727272727272727|        150| 6.818181818181818|-0.01672272621230...|{negative_emotion...|{neverybody -&gt; 1,...|[There was only o...|\n|         2017-06|Notre Dame Cathedral|                65|        555| 8.538461538461538|           44|   0.676923076923077|        511| 7.861538461538461|-0.07012923147815925|{negative_emotion...|{london -&gt; 5, not...|[SHOCKING VIDEO e...|\n|         2017-06|        The Vatican |                22|         75| 3.409090909090909|           13|  0.5909090909090909|         62|2.8181818181818183|  0.1582090895284306|{negative_emotion...|{pope -&gt; 5, big -...|[So then we must ...|\n|         2017-07|            AlphaBay|               155|        665| 4.290322580645161|            8| 0.05161290322580645|        657|4.2387096774193544|0.014033548509882343|{negative_emotion...|{trump -&gt; 9, abor...|[Christian evange...|\n|         2017-07|          Imran Awan|                 2|          2|               1.0|            0|                 0.0|          2|               1.0|                 0.0|{negative_emotion...|{crumble -&gt; 1, ca...|[This could be wh...|\n|         2017-07|    Is It Fake News?|                12|         27|              2.25|            0|                 0.0|         27|              2.25| -0.2507583334421118|{negative_emotion...|{wanting -&gt; 1, tr...|[MSNBC\\u2019s \\u2...|\n|         2017-07|     Kid Rock Senate|                55|        412| 7.490909090909091|            2| 0.03636363636363636|        410| 7.454545454545454| 0.13043999834494158|{negative_emotion...|{reason -&gt; 2, die...|[agreed. Here is ...|\n|         2017-07|             Mt Gox |                 2|          4|               2.0|            0|                 0.0|          4|               2.0| -0.3960500117391348|{negative_emotion...|{activity -&gt; 1, c...|[Many years ago, ...|\n|         2017-08| #Alt-Left Terrorism|                26|        241|  9.26923076923077|            0|                 0.0|        241|  9.26923076923077|-0.15994615508959845|{negative_emotion...|{couple -&gt; 1, ago...|[Never too early ...|\n|         2017-08|           #GoodNews|                 2|          2|               1.0|            0|                 0.0|          2|               1.0|  0.8240500092506409|{negative_emotion...|{love -&gt; 1, weeks...|[Lol, promise I w...|\n|         2017-08|     ANTIFA Petition|                98|       1612|16.448979591836736|            1| 0.01020408163265306|       1611| 16.43877551020408| 0.09839693825615912|{negative_emotion...|{voice -&gt; 2, trum...|[Back to hell whe...|\n+----------------+--------------------+------------------+-----------+------------------+-------------+--------------------+-----------+------------------+--------------------+--------------------+--------------------+--------------------+\nonly showing top 20 rows\n\n</div>",
       "datasetInfos": [],
       "metadata": {},
       "removedWidgets": [],
       "type": "html"
      }
     },
     "output_type": "display_data"
    }
   ],
   "source": [
    "data_grouped.show()"
   ]
  },
  {
   "cell_type": "code",
   "execution_count": 0,
   "metadata": {
    "application/vnd.databricks.v1+cell": {
     "inputWidgets": {},
     "nuid": "672a2e99-a725-4e9f-a10c-50b1173a2509",
     "showTitle": false,
     "title": ""
    }
   },
   "outputs": [
    {
     "data": {
      "text/html": [
       "<style scoped>\n",
       "  .ansiout {\n",
       "    display: block;\n",
       "    unicode-bidi: embed;\n",
       "    white-space: pre-wrap;\n",
       "    word-wrap: break-word;\n",
       "    word-break: break-all;\n",
       "    font-family: \"Source Code Pro\", \"Menlo\", monospace;;\n",
       "    font-size: 13px;\n",
       "    color: #555;\n",
       "    margin-left: 4px;\n",
       "    line-height: 19px;\n",
       "  }\n",
       "</style>\n",
       "<div class=\"ansiout\"></div>"
      ]
     },
     "metadata": {
      "application/vnd.databricks.v1+output": {
       "addedWidgets": {},
       "arguments": {},
       "data": "<div class=\"ansiout\"></div>",
       "datasetInfos": [],
       "metadata": {},
       "removedWidgets": [],
       "type": "html"
      }
     },
     "output_type": "display_data"
    }
   ],
   "source": [
    "# Order by score\n",
    "data_ordered = data_grouped.orderBy(F.col('created_at_month').asc(), F.col('score_total').desc())"
   ]
  },
  {
   "cell_type": "code",
   "execution_count": 0,
   "metadata": {
    "application/vnd.databricks.v1+cell": {
     "inputWidgets": {},
     "nuid": "fb1b1a4a-9c9f-4e55-8cc8-9a4deb6b7d6e",
     "showTitle": false,
     "title": ""
    }
   },
   "outputs": [
    {
     "data": {
      "text/html": [
       "<style scoped>\n",
       "  .ansiout {\n",
       "    display: block;\n",
       "    unicode-bidi: embed;\n",
       "    white-space: pre-wrap;\n",
       "    word-wrap: break-word;\n",
       "    word-break: break-all;\n",
       "    font-family: \"Source Code Pro\", \"Menlo\", monospace;;\n",
       "    font-size: 13px;\n",
       "    color: #555;\n",
       "    margin-left: 4px;\n",
       "    line-height: 19px;\n",
       "  }\n",
       "</style>\n",
       "<div class=\"ansiout\"></div>"
      ]
     },
     "metadata": {
      "application/vnd.databricks.v1+output": {
       "addedWidgets": {},
       "arguments": {},
       "data": "<div class=\"ansiout\"></div>",
       "datasetInfos": [],
       "metadata": {},
       "removedWidgets": [],
       "type": "html"
      }
     },
     "output_type": "display_data"
    }
   ],
   "source": [
    "# Getting top 5 users for the topics\n",
    "data_user = data_chunk_tokens.filter(F.col('topic_title').isNotNull()).groupby(\"created_at_month\", \"topic_title\",\"username\").agg(F.sum(\"score\").alias(\"User_score\"))\n",
    "User_order = data_user.orderBy(F.col('created_at_month').asc(),F.col('topic_title'), F.col('User_score').desc())\n",
    "a = data_ordered.alias(\"dO\").join(User_order.alias(\"UO\"),\n",
    "                          ((F.col(\"dO.created_at_month\") == F.col(\"UO.created_at_month\")) & (F.col(\"dO.topic_title\") == F.col(\"UO.topic_title\"))),\n",
    "                               \"inner\")\n",
    "n = a.orderBy(F.col('dO.created_at_month').asc(),F.col('dO.topic_title'),F.col('User_score').desc())"
   ]
  },
  {
   "cell_type": "code",
   "execution_count": 0,
   "metadata": {
    "application/vnd.databricks.v1+cell": {
     "inputWidgets": {},
     "nuid": "95332199-7d1f-45f0-a1db-084a33d491ba",
     "showTitle": false,
     "title": ""
    }
   },
   "outputs": [
    {
     "data": {
      "text/html": [
       "<style scoped>\n",
       "  .ansiout {\n",
       "    display: block;\n",
       "    unicode-bidi: embed;\n",
       "    white-space: pre-wrap;\n",
       "    word-wrap: break-word;\n",
       "    word-break: break-all;\n",
       "    font-family: \"Source Code Pro\", \"Menlo\", monospace;;\n",
       "    font-size: 13px;\n",
       "    color: #555;\n",
       "    margin-left: 4px;\n",
       "    line-height: 19px;\n",
       "  }\n",
       "</style>\n",
       "<div class=\"ansiout\"></div>"
      ]
     },
     "metadata": {
      "application/vnd.databricks.v1+output": {
       "addedWidgets": {},
       "arguments": {},
       "data": "<div class=\"ansiout\"></div>",
       "datasetInfos": [],
       "metadata": {},
       "removedWidgets": [],
       "type": "html"
      }
     },
     "output_type": "display_data"
    }
   ],
   "source": [
    "B = n.groupby(\"dO.created_at_month\", \"dO.topic_title\").agg(\n",
    "  F.slice(F.collect_list(F.col('username')), 1, 5).alias('users'),\n",
    "  F.first('number_of_messages').alias('number_of_messages'),\n",
    "  F.first('likes_total').alias('likes_total'),\n",
    "  F.first('average_likes').alias('average_likes'),\n",
    "  F.first('dislike_total').alias('dislike_total'),\n",
    "  F.first('average_dislike').alias('average_dislike'),\n",
    "  F.first('score_total').alias('score_total'),\n",
    "  F.first('average_score').alias('average_score'),\n",
    "  F.first('avg_vader_sentiment').alias('avg_vader_sentiment'),\n",
    "  F.first('liwc_sentiment_map').alias('liwc_sentiment_map'),\n",
    "  F.first('word_count').alias('word_count'),\n",
    "  F.first('messages_sample').alias('messages_sample')\n",
    ")"
   ]
  },
  {
   "cell_type": "code",
   "execution_count": 0,
   "metadata": {
    "application/vnd.databricks.v1+cell": {
     "inputWidgets": {},
     "nuid": "e4f642b3-8358-4767-b035-05d5191eb7e9",
     "showTitle": false,
     "title": ""
    }
   },
   "outputs": [
    {
     "data": {
      "text/html": [
       "<style scoped>\n",
       "  .ansiout {\n",
       "    display: block;\n",
       "    unicode-bidi: embed;\n",
       "    white-space: pre-wrap;\n",
       "    word-wrap: break-word;\n",
       "    word-break: break-all;\n",
       "    font-family: \"Source Code Pro\", \"Menlo\", monospace;;\n",
       "    font-size: 13px;\n",
       "    color: #555;\n",
       "    margin-left: 4px;\n",
       "    line-height: 19px;\n",
       "  }\n",
       "</style>\n",
       "<div class=\"ansiout\"></div>"
      ]
     },
     "metadata": {
      "application/vnd.databricks.v1+output": {
       "addedWidgets": {},
       "arguments": {},
       "data": "<div class=\"ansiout\"></div>",
       "datasetInfos": [],
       "metadata": {},
       "removedWidgets": [],
       "type": "html"
      }
     },
     "output_type": "display_data"
    }
   ],
   "source": [
    "# Filter top 10 topics per period\n",
    "from pyspark.sql.window import *\n",
    "data_ordered_with_n = B.withColumn(\"row_num\", F.row_number().over(Window.partitionBy(\"created_at_month\").orderBy(F.col('score_total').desc())))\n",
    "data_ordered_with_n = data_ordered_with_n.filter(F.col('row_num') < 10)\n",
    "data_ordered_with_n_ordered = data_ordered_with_n.orderBy(F.col('created_at_month').asc(), F.col('score_total').desc())"
   ]
  },
  {
   "cell_type": "code",
   "execution_count": 0,
   "metadata": {
    "application/vnd.databricks.v1+cell": {
     "inputWidgets": {},
     "nuid": "1714b6b6-a85b-44be-8c22-cdabe3cb1a51",
     "showTitle": false,
     "title": ""
    }
   },
   "outputs": [
    {
     "data": {
      "text/html": [
       "<style scoped>\n",
       "  .ansiout {\n",
       "    display: block;\n",
       "    unicode-bidi: embed;\n",
       "    white-space: pre-wrap;\n",
       "    word-wrap: break-word;\n",
       "    word-break: break-all;\n",
       "    font-family: \"Source Code Pro\", \"Menlo\", monospace;;\n",
       "    font-size: 13px;\n",
       "    color: #555;\n",
       "    margin-left: 4px;\n",
       "    line-height: 19px;\n",
       "  }\n",
       "</style>\n",
       "<div class=\"ansiout\"></div>"
      ]
     },
     "metadata": {
      "application/vnd.databricks.v1+output": {
       "addedWidgets": {},
       "arguments": {},
       "data": "<div class=\"ansiout\"></div>",
       "datasetInfos": [],
       "metadata": {},
       "removedWidgets": [],
       "type": "html"
      }
     },
     "output_type": "display_data"
    }
   ],
   "source": [
    "# Write top 10 output \n",
    "data_ordered_with_n_ordered.coalesce(1).write.mode('overwrite').json(\"dbfs:/mnt/group12/data_output/topics_top_10.json\")"
   ]
  },
  {
   "cell_type": "code",
   "execution_count": 0,
   "metadata": {
    "application/vnd.databricks.v1+cell": {
     "inputWidgets": {},
     "nuid": "bc8fdc28-2a9d-4074-88bb-62dc3e6500a2",
     "showTitle": false,
     "title": ""
    },
    "scrolled": true
   },
   "outputs": [
    {
     "data": {
      "text/html": [
       "<style scoped>\n",
       "  .ansiout {\n",
       "    display: block;\n",
       "    unicode-bidi: embed;\n",
       "    white-space: pre-wrap;\n",
       "    word-wrap: break-word;\n",
       "    word-break: break-all;\n",
       "    font-family: \"Source Code Pro\", \"Menlo\", monospace;;\n",
       "    font-size: 13px;\n",
       "    color: #555;\n",
       "    margin-left: 4px;\n",
       "    line-height: 19px;\n",
       "  }\n",
       "</style>"
      ]
     },
     "metadata": {
      "application/vnd.databricks.v1+output": {
       "arguments": {},
       "data": "",
       "errorSummary": "",
       "errorTraceType": null,
       "metadata": {},
       "type": "ipynbError"
      }
     },
     "output_type": "display_data"
    }
   ],
   "source": [
    "# Write output\n",
    "B.coalesce(1).write.mode('overwrite').json(\"dbfs:/mnt/group12/data_output/topics.json\")"
   ]
  },
  {
   "cell_type": "code",
   "execution_count": 0,
   "metadata": {
    "application/vnd.databricks.v1+cell": {
     "inputWidgets": {},
     "nuid": "4c39e02d-9f6d-4ec2-b30c-1bd678022e72",
     "showTitle": false,
     "title": ""
    }
   },
   "outputs": [
    {
     "data": {
      "text/html": [
       "<style scoped>\n",
       "  .ansiout {\n",
       "    display: block;\n",
       "    unicode-bidi: embed;\n",
       "    white-space: pre-wrap;\n",
       "    word-wrap: break-word;\n",
       "    word-break: break-all;\n",
       "    font-family: \"Source Code Pro\", \"Menlo\", monospace;;\n",
       "    font-size: 13px;\n",
       "    color: #555;\n",
       "    margin-left: 4px;\n",
       "    line-height: 19px;\n",
       "  }\n",
       "</style>"
      ]
     },
     "metadata": {
      "application/vnd.databricks.v1+output": {
       "arguments": {},
       "data": "",
       "errorSummary": "",
       "errorTraceType": null,
       "metadata": {},
       "type": "ipynbError"
      }
     },
     "output_type": "display_data"
    }
   ],
   "source": []
  }
 ],
 "metadata": {
  "application/vnd.databricks.v1+notebook": {
   "dashboards": [],
   "language": "python",
   "notebookMetadata": {
    "pythonIndentUnit": 2
   },
   "notebookName": "DataAgg",
   "notebookOrigID": 1672146355091351,
   "widgets": {}
  },
  "kernelspec": {
   "display_name": "Python 3",
   "language": "python",
   "name": "python3"
  },
  "language_info": {
   "codemirror_mode": {
    "name": "ipython",
    "version": 3
   },
   "file_extension": ".py",
   "mimetype": "text/x-python",
   "name": "python",
   "nbconvert_exporter": "python",
   "pygments_lexer": "ipython3",
   "version": "3.8.2"
  }
 },
 "nbformat": 4,
 "nbformat_minor": 1
}
