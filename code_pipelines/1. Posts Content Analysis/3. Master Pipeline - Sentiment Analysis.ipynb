{
 "cells": [
  {
   "cell_type": "code",
   "execution_count": 0,
   "metadata": {
    "application/vnd.databricks.v1+cell": {
     "inputWidgets": {},
     "nuid": "343181c3-273a-4ad7-bf7b-7a5fdd16c1b9",
     "showTitle": false,
     "title": ""
    }
   },
   "outputs": [
    {
     "data": {
      "text/html": [
       "<style scoped>\n",
       "  .ansiout {\n",
       "    display: block;\n",
       "    unicode-bidi: embed;\n",
       "    white-space: pre-wrap;\n",
       "    word-wrap: break-word;\n",
       "    word-break: break-all;\n",
       "    font-family: \"Source Code Pro\", \"Menlo\", monospace;;\n",
       "    font-size: 13px;\n",
       "    color: #555;\n",
       "    margin-left: 4px;\n",
       "    line-height: 19px;\n",
       "  }\n",
       "</style>\n",
       "<div class=\"ansiout\"></div>"
      ]
     },
     "metadata": {
      "application/vnd.databricks.v1+output": {
       "addedWidgets": {},
       "arguments": {},
       "data": "<div class=\"ansiout\"></div>",
       "datasetInfos": [],
       "metadata": {},
       "removedWidgets": [],
       "type": "html"
      }
     },
     "output_type": "display_data"
    }
   ],
   "source": [
    "from pyspark.sql import functions as F\n",
    "from pyspark.sql.types import *"
   ]
  },
  {
   "cell_type": "code",
   "execution_count": 0,
   "metadata": {
    "application/vnd.databricks.v1+cell": {
     "inputWidgets": {},
     "nuid": "345b3c47-ca23-48b1-a7c4-9c52e5a28c74",
     "showTitle": false,
     "title": ""
    }
   },
   "outputs": [
    {
     "data": {
      "text/html": [
       "<style scoped>\n",
       "  .ansiout {\n",
       "    display: block;\n",
       "    unicode-bidi: embed;\n",
       "    white-space: pre-wrap;\n",
       "    word-wrap: break-word;\n",
       "    word-break: break-all;\n",
       "    font-family: \"Source Code Pro\", \"Menlo\", monospace;;\n",
       "    font-size: 13px;\n",
       "    color: #555;\n",
       "    margin-left: 4px;\n",
       "    line-height: 19px;\n",
       "  }\n",
       "</style>\n",
       "<div class=\"ansiout\"></div>"
      ]
     },
     "metadata": {
      "application/vnd.databricks.v1+output": {
       "addedWidgets": {},
       "arguments": {},
       "data": "<div class=\"ansiout\"></div>",
       "datasetInfos": [],
       "metadata": {},
       "removedWidgets": [],
       "type": "html"
      }
     },
     "output_type": "display_data"
    }
   ],
   "source": [
    "data_sample = spark.read.option(\"header\",\"true\").parquet(\"dbfs:/mnt/group12/filtered/\")"
   ]
  },
  {
   "cell_type": "code",
   "execution_count": 0,
   "metadata": {
    "application/vnd.databricks.v1+cell": {
     "inputWidgets": {},
     "nuid": "691dd67e-9b6f-4e35-977b-d391124a16c2",
     "showTitle": false,
     "title": ""
    }
   },
   "outputs": [
    {
     "data": {
      "text/html": [
       "<style scoped>\n",
       "  .ansiout {\n",
       "    display: block;\n",
       "    unicode-bidi: embed;\n",
       "    white-space: pre-wrap;\n",
       "    word-wrap: break-word;\n",
       "    word-break: break-all;\n",
       "    font-family: \"Source Code Pro\", \"Menlo\", monospace;;\n",
       "    font-size: 13px;\n",
       "    color: #555;\n",
       "    margin-left: 4px;\n",
       "    line-height: 19px;\n",
       "  }\n",
       "</style>\n",
       "<div class=\"ansiout\">Out[3]: 1918155</div>"
      ]
     },
     "metadata": {
      "application/vnd.databricks.v1+output": {
       "addedWidgets": {},
       "arguments": {},
       "data": "<div class=\"ansiout\">Out[3]: 1918155</div>",
       "datasetInfos": [],
       "metadata": {},
       "removedWidgets": [],
       "type": "html"
      }
     },
     "output_type": "display_data"
    }
   ],
   "source": [
    "data_sample.count()"
   ]
  },
  {
   "cell_type": "code",
   "execution_count": 0,
   "metadata": {
    "application/vnd.databricks.v1+cell": {
     "inputWidgets": {},
     "nuid": "f67cdf63-4f8d-42d6-a8c1-40d79d385a8b",
     "showTitle": false,
     "title": ""
    }
   },
   "outputs": [
    {
     "data": {
      "text/html": [
       "<style scoped>\n",
       "  .ansiout {\n",
       "    display: block;\n",
       "    unicode-bidi: embed;\n",
       "    white-space: pre-wrap;\n",
       "    word-wrap: break-word;\n",
       "    word-break: break-all;\n",
       "    font-family: \"Source Code Pro\", \"Menlo\", monospace;;\n",
       "    font-size: 13px;\n",
       "    color: #555;\n",
       "    margin-left: 4px;\n",
       "    line-height: 19px;\n",
       "  }\n",
       "</style>\n",
       "<div class=\"ansiout\">Python interpreter will be restarted.\n",
       "Collecting vaderSentiment\n",
       "  Using cached vaderSentiment-3.3.2-py2.py3-none-any.whl (125 kB)\n",
       "Requirement already satisfied: requests in /databricks/python3/lib/python3.8/site-packages (from vaderSentiment) (2.25.1)\n",
       "Requirement already satisfied: certifi&gt;=2017.4.17 in /databricks/python3/lib/python3.8/site-packages (from requests-&gt;vaderSentiment) (2020.12.5)\n",
       "Requirement already satisfied: chardet&lt;5,&gt;=3.0.2 in /databricks/python3/lib/python3.8/site-packages (from requests-&gt;vaderSentiment) (4.0.0)\n",
       "Requirement already satisfied: urllib3&lt;1.27,&gt;=1.21.1 in /databricks/python3/lib/python3.8/site-packages (from requests-&gt;vaderSentiment) (1.25.11)\n",
       "Requirement already satisfied: idna&lt;3,&gt;=2.5 in /databricks/python3/lib/python3.8/site-packages (from requests-&gt;vaderSentiment) (2.10)\n",
       "Installing collected packages: vaderSentiment\n",
       "Successfully installed vaderSentiment-3.3.2\n",
       "WARNING: You are using pip version 21.0.1; however, version 21.3 is available.\n",
       "You should consider upgrading via the &#39;/local_disk0/.ephemeral_nfs/envs/pythonEnv-9a72f1d9-040e-4844-bed0-ae5b205f2f30/bin/python -m pip install --upgrade pip&#39; command.\n",
       "Python interpreter will be restarted.\n",
       "</div>"
      ]
     },
     "metadata": {
      "application/vnd.databricks.v1+output": {
       "addedWidgets": {},
       "arguments": {},
       "data": "<div class=\"ansiout\">Python interpreter will be restarted.\nCollecting vaderSentiment\n  Using cached vaderSentiment-3.3.2-py2.py3-none-any.whl (125 kB)\nRequirement already satisfied: requests in /databricks/python3/lib/python3.8/site-packages (from vaderSentiment) (2.25.1)\nRequirement already satisfied: certifi&gt;=2017.4.17 in /databricks/python3/lib/python3.8/site-packages (from requests-&gt;vaderSentiment) (2020.12.5)\nRequirement already satisfied: chardet&lt;5,&gt;=3.0.2 in /databricks/python3/lib/python3.8/site-packages (from requests-&gt;vaderSentiment) (4.0.0)\nRequirement already satisfied: urllib3&lt;1.27,&gt;=1.21.1 in /databricks/python3/lib/python3.8/site-packages (from requests-&gt;vaderSentiment) (1.25.11)\nRequirement already satisfied: idna&lt;3,&gt;=2.5 in /databricks/python3/lib/python3.8/site-packages (from requests-&gt;vaderSentiment) (2.10)\nInstalling collected packages: vaderSentiment\nSuccessfully installed vaderSentiment-3.3.2\nWARNING: You are using pip version 21.0.1; however, version 21.3 is available.\nYou should consider upgrading via the &#39;/local_disk0/.ephemeral_nfs/envs/pythonEnv-9a72f1d9-040e-4844-bed0-ae5b205f2f30/bin/python -m pip install --upgrade pip&#39; command.\nPython interpreter will be restarted.\n</div>",
       "datasetInfos": [],
       "metadata": {},
       "removedWidgets": [],
       "type": "html"
      }
     },
     "output_type": "display_data"
    }
   ],
   "source": [
    "%pip install vaderSentiment"
   ]
  },
  {
   "cell_type": "code",
   "execution_count": 0,
   "metadata": {
    "application/vnd.databricks.v1+cell": {
     "inputWidgets": {},
     "nuid": "e9d0c425-886c-471d-b87e-a2f94550e974",
     "showTitle": false,
     "title": ""
    }
   },
   "outputs": [
    {
     "data": {
      "text/html": [
       "<style scoped>\n",
       "  .ansiout {\n",
       "    display: block;\n",
       "    unicode-bidi: embed;\n",
       "    white-space: pre-wrap;\n",
       "    word-wrap: break-word;\n",
       "    word-break: break-all;\n",
       "    font-family: \"Source Code Pro\", \"Menlo\", monospace;;\n",
       "    font-size: 13px;\n",
       "    color: #555;\n",
       "    margin-left: 4px;\n",
       "    line-height: 19px;\n",
       "  }\n",
       "</style>\n",
       "<div class=\"ansiout\"></div>"
      ]
     },
     "metadata": {
      "application/vnd.databricks.v1+output": {
       "addedWidgets": {},
       "arguments": {},
       "data": "<div class=\"ansiout\"></div>",
       "datasetInfos": [],
       "metadata": {},
       "removedWidgets": [],
       "type": "html"
      }
     },
     "output_type": "display_data"
    }
   ],
   "source": [
    "# Vader Sentiment Analysis\n",
    "from vaderSentiment.vaderSentiment import SentimentIntensityAnalyzer\n",
    "\n",
    "vader = SentimentIntensityAnalyzer()\n",
    "\n",
    "def sentiment_vader(text):\n",
    "  if (text == None or len(text) < 2):\n",
    "    return -69\n",
    "  sentiment_dict = vader.polarity_scores(text)\n",
    "  if (\"compound\" in sentiment_dict):\n",
    "    return sentiment_dict[\"compound\"]\n",
    "  return -69\n",
    "\n",
    "sentiment_vader_udf = F.udf(lambda x: sentiment_vader(x), FloatType()) "
   ]
  },
  {
   "cell_type": "code",
   "execution_count": 0,
   "metadata": {
    "application/vnd.databricks.v1+cell": {
     "inputWidgets": {},
     "nuid": "21567f27-e414-4bd6-a033-b9b8fe0f67a8",
     "showTitle": false,
     "title": ""
    }
   },
   "outputs": [
    {
     "data": {
      "text/html": [
       "<style scoped>\n",
       "  .ansiout {\n",
       "    display: block;\n",
       "    unicode-bidi: embed;\n",
       "    white-space: pre-wrap;\n",
       "    word-wrap: break-word;\n",
       "    word-break: break-all;\n",
       "    font-family: \"Source Code Pro\", \"Menlo\", monospace;;\n",
       "    font-size: 13px;\n",
       "    color: #555;\n",
       "    margin-left: 4px;\n",
       "    line-height: 19px;\n",
       "  }\n",
       "</style>\n",
       "<div class=\"ansiout\"></div>"
      ]
     },
     "metadata": {
      "application/vnd.databricks.v1+output": {
       "addedWidgets": {},
       "arguments": {},
       "data": "<div class=\"ansiout\"></div>",
       "datasetInfos": [],
       "metadata": {},
       "removedWidgets": [],
       "type": "html"
      }
     },
     "output_type": "display_data"
    }
   ],
   "source": [
    "data_sample_sentiment = data_sample.withColumn(\"vader_sentiment\", sentiment_vader_udf(F.col(\"body\")))"
   ]
  },
  {
   "cell_type": "code",
   "execution_count": 0,
   "metadata": {
    "application/vnd.databricks.v1+cell": {
     "inputWidgets": {},
     "nuid": "8198c3ec-1551-40e5-86ec-2259501b2572",
     "showTitle": false,
     "title": ""
    }
   },
   "outputs": [
    {
     "data": {
      "text/html": [
       "<style scoped>\n",
       "  .ansiout {\n",
       "    display: block;\n",
       "    unicode-bidi: embed;\n",
       "    white-space: pre-wrap;\n",
       "    word-wrap: break-word;\n",
       "    word-break: break-all;\n",
       "    font-family: \"Source Code Pro\", \"Menlo\", monospace;;\n",
       "    font-size: 13px;\n",
       "    color: #555;\n",
       "    margin-left: 4px;\n",
       "    line-height: 19px;\n",
       "  }\n",
       "</style>\n",
       "<div class=\"ansiout\">Python interpreter will be restarted.\n",
       "Collecting liwc\n",
       "  Using cached liwc-0.5.0-py2.py3-none-any.whl (5.1 kB)\n",
       "Installing collected packages: liwc\n",
       "Successfully installed liwc-0.5.0\n",
       "WARNING: You are using pip version 21.0.1; however, version 21.3 is available.\n",
       "You should consider upgrading via the &#39;/local_disk0/.ephemeral_nfs/envs/pythonEnv-9a72f1d9-040e-4844-bed0-ae5b205f2f30/bin/python -m pip install --upgrade pip&#39; command.\n",
       "Python interpreter will be restarted.\n",
       "</div>"
      ]
     },
     "metadata": {
      "application/vnd.databricks.v1+output": {
       "addedWidgets": {},
       "arguments": {},
       "data": "<div class=\"ansiout\">Python interpreter will be restarted.\nCollecting liwc\n  Using cached liwc-0.5.0-py2.py3-none-any.whl (5.1 kB)\nInstalling collected packages: liwc\nSuccessfully installed liwc-0.5.0\nWARNING: You are using pip version 21.0.1; however, version 21.3 is available.\nYou should consider upgrading via the &#39;/local_disk0/.ephemeral_nfs/envs/pythonEnv-9a72f1d9-040e-4844-bed0-ae5b205f2f30/bin/python -m pip install --upgrade pip&#39; command.\nPython interpreter will be restarted.\n</div>",
       "datasetInfos": [],
       "metadata": {},
       "removedWidgets": [],
       "type": "html"
      }
     },
     "output_type": "display_data"
    }
   ],
   "source": [
    "%pip install liwc"
   ]
  },
  {
   "cell_type": "code",
   "execution_count": 0,
   "metadata": {
    "application/vnd.databricks.v1+cell": {
     "inputWidgets": {},
     "nuid": "2e667b82-c091-4c11-b466-aa34752cf5da",
     "showTitle": false,
     "title": ""
    }
   },
   "outputs": [
    {
     "data": {
      "text/html": [
       "<style scoped>\n",
       "  .ansiout {\n",
       "    display: block;\n",
       "    unicode-bidi: embed;\n",
       "    white-space: pre-wrap;\n",
       "    word-wrap: break-word;\n",
       "    word-break: break-all;\n",
       "    font-family: \"Source Code Pro\", \"Menlo\", monospace;;\n",
       "    font-size: 13px;\n",
       "    color: #555;\n",
       "    margin-left: 4px;\n",
       "    line-height: 19px;\n",
       "  }\n",
       "</style>\n",
       "<div class=\"ansiout\"></div>"
      ]
     },
     "metadata": {
      "application/vnd.databricks.v1+output": {
       "addedWidgets": {},
       "arguments": {},
       "data": "<div class=\"ansiout\"></div>",
       "datasetInfos": [],
       "metadata": {},
       "removedWidgets": [],
       "type": "html"
      }
     },
     "output_type": "display_data"
    }
   ],
   "source": [
    "# LIWC Linguistic Dimensions Analysis\n",
    "import liwc\n",
    "import re\n",
    "from collections import Counter\n",
    "\n",
    "parse, category_names = liwc.load_token_parser('/dbfs/mnt/group12/liwc_en2.dic')\n",
    "\n",
    "def liwc_analysis(text):\n",
    "    if (text == None or len(text) < 2):\n",
    "        return {\"tokens\": 0}\n",
    "    tokens = text.split(' ')\n",
    "    liwc_magic = Counter(category for token in tokens for category in parse(token))\n",
    "    liwc_results = dict(liwc_magic)\n",
    "    i = len(tokens)\n",
    "    for category in category_names:\n",
    "        if category in liwc_results:\n",
    "            print(category)\n",
    "            liwc_results[category] = round(((float(liwc_results[category]) / i) * 100), 2)\n",
    "    liwc_results[\"tokens\"] = i\n",
    "    return liwc_results\n",
    "    \n",
    "sentiment_liwc_udf = F.udf(lambda x: liwc_analysis(x), MapType(StringType(), FloatType())) "
   ]
  },
  {
   "cell_type": "code",
   "execution_count": 0,
   "metadata": {
    "application/vnd.databricks.v1+cell": {
     "inputWidgets": {},
     "nuid": "4b102bc6-a394-40b4-8818-351a48548592",
     "showTitle": false,
     "title": ""
    }
   },
   "outputs": [
    {
     "data": {
      "text/html": [
       "<style scoped>\n",
       "  .ansiout {\n",
       "    display: block;\n",
       "    unicode-bidi: embed;\n",
       "    white-space: pre-wrap;\n",
       "    word-wrap: break-word;\n",
       "    word-break: break-all;\n",
       "    font-family: \"Source Code Pro\", \"Menlo\", monospace;;\n",
       "    font-size: 13px;\n",
       "    color: #555;\n",
       "    margin-left: 4px;\n",
       "    line-height: 19px;\n",
       "  }\n",
       "</style>\n",
       "<div class=\"ansiout\"></div>"
      ]
     },
     "metadata": {
      "application/vnd.databricks.v1+output": {
       "addedWidgets": {},
       "arguments": {},
       "data": "<div class=\"ansiout\"></div>",
       "datasetInfos": [],
       "metadata": {},
       "removedWidgets": [],
       "type": "html"
      }
     },
     "output_type": "display_data"
    }
   ],
   "source": [
    "data_sample_sentiment = data_sample_sentiment.withColumn(\"liwc_sentiment\", sentiment_liwc_udf(F.col(\"body\")))"
   ]
  },
  {
   "cell_type": "code",
   "execution_count": 0,
   "metadata": {
    "application/vnd.databricks.v1+cell": {
     "inputWidgets": {},
     "nuid": "0e557439-e51c-4cc4-bf6a-a5f694a59152",
     "showTitle": false,
     "title": ""
    }
   },
   "outputs": [
    {
     "data": {
      "text/html": [
       "<style scoped>\n",
       "  .ansiout {\n",
       "    display: block;\n",
       "    unicode-bidi: embed;\n",
       "    white-space: pre-wrap;\n",
       "    word-wrap: break-word;\n",
       "    word-break: break-all;\n",
       "    font-family: \"Source Code Pro\", \"Menlo\", monospace;;\n",
       "    font-size: 13px;\n",
       "    color: #555;\n",
       "    margin-left: 4px;\n",
       "    line-height: 19px;\n",
       "  }\n",
       "</style>\n",
       "<div class=\"ansiout\"></div>"
      ]
     },
     "metadata": {
      "application/vnd.databricks.v1+output": {
       "addedWidgets": {},
       "arguments": {},
       "data": "<div class=\"ansiout\"></div>",
       "datasetInfos": [],
       "metadata": {},
       "removedWidgets": [],
       "type": "html"
      }
     },
     "output_type": "display_data"
    }
   ],
   "source": [
    "# Writing output\n",
    "data_sample_sentiment.write.mode('overwrite').partitionBy('created_at_month').parquet(\"dbfs:/mnt/group12/sentiment/\")"
   ]
  },
  {
   "cell_type": "code",
   "execution_count": 0,
   "metadata": {
    "application/vnd.databricks.v1+cell": {
     "inputWidgets": {},
     "nuid": "67f0c570-7d1b-4d08-9e0a-6bc12b6ef4c3",
     "showTitle": false,
     "title": ""
    }
   },
   "outputs": [
    {
     "data": {
      "text/html": [
       "<style scoped>\n",
       "  .ansiout {\n",
       "    display: block;\n",
       "    unicode-bidi: embed;\n",
       "    white-space: pre-wrap;\n",
       "    word-wrap: break-word;\n",
       "    word-break: break-all;\n",
       "    font-family: \"Source Code Pro\", \"Menlo\", monospace;;\n",
       "    font-size: 13px;\n",
       "    color: #555;\n",
       "    margin-left: 4px;\n",
       "    line-height: 19px;\n",
       "  }\n",
       "</style>\n",
       "<div class=\"ansiout\"></div>"
      ]
     },
     "metadata": {
      "application/vnd.databricks.v1+output": {
       "addedWidgets": {},
       "arguments": {},
       "data": "<div class=\"ansiout\"></div>",
       "datasetInfos": [],
       "metadata": {},
       "removedWidgets": [],
       "type": "html"
      }
     },
     "output_type": "display_data"
    }
   ],
   "source": [
    "# Testing output\n",
    "data_output = spark.read.option(\"header\",\"true\").parquet(\"dbfs:/mnt/group12/sentiment/\")"
   ]
  },
  {
   "cell_type": "code",
   "execution_count": 0,
   "metadata": {
    "application/vnd.databricks.v1+cell": {
     "inputWidgets": {},
     "nuid": "ece12c73-8ec9-4f57-95fc-608616e984e3",
     "showTitle": false,
     "title": ""
    }
   },
   "outputs": [
    {
     "data": {
      "text/html": [
       "<style scoped>\n",
       "  .ansiout {\n",
       "    display: block;\n",
       "    unicode-bidi: embed;\n",
       "    white-space: pre-wrap;\n",
       "    word-wrap: break-word;\n",
       "    word-break: break-all;\n",
       "    font-family: \"Source Code Pro\", \"Menlo\", monospace;;\n",
       "    font-size: 13px;\n",
       "    color: #555;\n",
       "    margin-left: 4px;\n",
       "    line-height: 19px;\n",
       "  }\n",
       "</style>\n",
       "<div class=\"ansiout\">root\n",
       "-- created_at_dt: date (nullable = true)\n",
       "-- word_count: integer (nullable = true)\n",
       "-- category_title: string (nullable = true)\n",
       "-- body: string (nullable = true)\n",
       "-- created_at: string (nullable = true)\n",
       "-- dislike_count: long (nullable = true)\n",
       "-- id: long (nullable = true)\n",
       "-- like_count: long (nullable = true)\n",
       "-- repost_count: long (nullable = true)\n",
       "-- reply_count: long (nullable = true)\n",
       "-- score: long (nullable = true)\n",
       "-- topic_created_at: string (nullable = true)\n",
       "-- topic_id: string (nullable = true)\n",
       "-- topic_title: string (nullable = true)\n",
       "-- user_id: long (nullable = true)\n",
       "-- username: string (nullable = true)\n",
       "-- user_real_name: string (nullable = true)\n",
       "-- repost: boolean (nullable = true)\n",
       "-- quote_conversation_parent: struct (nullable = true)\n",
       "    |-- attachment: struct (nullable = true)\n",
       "    |    |-- type: string (nullable = true)\n",
       "    |    |-- value: string (nullable = true)\n",
       "    |-- body: string (nullable = true)\n",
       "    |-- body_html: string (nullable = true)\n",
       "    |-- body_html_summary: string (nullable = true)\n",
       "    |-- body_html_summary_truncated: boolean (nullable = true)\n",
       "    |-- bookmarked: boolean (nullable = true)\n",
       "    |-- category: long (nullable = true)\n",
       "    |-- category_details: struct (nullable = true)\n",
       "    |    |-- emoji: string (nullable = true)\n",
       "    |    |-- slug: string (nullable = true)\n",
       "    |    |-- title: string (nullable = true)\n",
       "    |    |-- value: long (nullable = true)\n",
       "    |-- created_at: string (nullable = true)\n",
       "    |-- dislike_count: long (nullable = true)\n",
       "    |-- disliked: boolean (nullable = true)\n",
       "    |-- edited: boolean (nullable = true)\n",
       "    |-- embed: struct (nullable = true)\n",
       "    |    |-- html: string (nullable = true)\n",
       "    |    |-- iframe: boolean (nullable = true)\n",
       "    |-- id: long (nullable = true)\n",
       "    |-- is_locked: boolean (nullable = true)\n",
       "    |-- is_premium: boolean (nullable = true)\n",
       "    |-- is_quote: boolean (nullable = true)\n",
       "    |-- is_replies_disabled: boolean (nullable = true)\n",
       "    |-- is_reply: boolean (nullable = true)\n",
       "    |-- language: string (nullable = true)\n",
       "    |-- like_count: long (nullable = true)\n",
       "    |-- liked: boolean (nullable = true)\n",
       "    |-- nsfw: boolean (nullable = true)\n",
       "    |-- only_emoji: boolean (nullable = true)\n",
       "    |-- poll: struct (nullable = true)\n",
       "    |    |-- option_1_title: string (nullable = true)\n",
       "    |    |-- option_1_votes: long (nullable = true)\n",
       "    |    |-- option_2_title: string (nullable = true)\n",
       "    |    |-- option_2_votes: long (nullable = true)\n",
       "    |    |-- option_3_title: string (nullable = true)\n",
       "    |    |-- option_3_votes: long (nullable = true)\n",
       "    |    |-- option_4_title: string (nullable = true)\n",
       "    |    |-- option_4_votes: long (nullable = true)\n",
       "    |    |-- option_5_title: string (nullable = true)\n",
       "    |    |-- option_5_votes: long (nullable = true)\n",
       "    |    |-- total_votes: long (nullable = true)\n",
       "    |    |-- voted_option: string (nullable = true)\n",
       "    |-- replies: struct (nullable = true)\n",
       "    |    |-- data: array (nullable = true)\n",
       "    |    |    |-- element: string (containsNull = true)\n",
       "    |-- reply_count: long (nullable = true)\n",
       "    |-- reported: boolean (nullable = true)\n",
       "    |-- repost: boolean (nullable = true)\n",
       "    |-- repost_count: long (nullable = true)\n",
       "    |-- revised_at: string (nullable = true)\n",
       "    |-- score: long (nullable = true)\n",
       "    |-- topic: struct (nullable = true)\n",
       "    |    |-- category: long (nullable = true)\n",
       "    |    |-- created_at: string (nullable = true)\n",
       "    |    |-- id: string (nullable = true)\n",
       "    |    |-- is_featured: boolean (nullable = true)\n",
       "    |    |-- title: string (nullable = true)\n",
       "    |    |-- user: struct (nullable = true)\n",
       "    |    |    |-- id: long (nullable = true)\n",
       "    |    |    |-- is_donor: boolean (nullable = true)\n",
       "    |    |    |-- is_investor: boolean (nullable = true)\n",
       "    |    |    |-- is_premium: boolean (nullable = true)\n",
       "    |    |    |-- is_private: boolean (nullable = true)\n",
       "    |    |    |-- is_pro: boolean (nullable = true)\n",
       "    |    |    |-- name: string (nullable = true)\n",
       "    |    |    |-- picture_url: string (nullable = true)\n",
       "    |    |    |-- username: string (nullable = true)\n",
       "    |    |    |-- verified: boolean (nullable = true)\n",
       "    |-- user: struct (nullable = true)\n",
       "    |    |-- id: long (nullable = true)\n",
       "    |    |-- is_donor: boolean (nullable = true)\n",
       "    |    |-- is_investor: boolean (nullable = true)\n",
       "    |    |-- is_premium: boolean (nullable = true)\n",
       "    |    |-- is_private: boolean (nullable = true)\n",
       "    |    |-- is_pro: boolean (nullable = true)\n",
       "    |    |-- name: string (nullable = true)\n",
       "    |    |-- picture_url: string (nullable = true)\n",
       "    |    |-- username: string (nullable = true)\n",
       "    |    |-- verified: boolean (nullable = true)\n",
       "-- users_in_conversation: array (nullable = true)\n",
       "    |-- element: string (containsNull = true)\n",
       "-- n_users_in_conversation: integer (nullable = true)\n",
       "-- vader_sentiment: float (nullable = true)\n",
       "-- liwc_sentiment: map (nullable = true)\n",
       "    |-- key: string\n",
       "    |-- value: float (valueContainsNull = true)\n",
       "-- created_at_month: string (nullable = true)\n",
       "\n",
       "</div>"
      ]
     },
     "metadata": {
      "application/vnd.databricks.v1+output": {
       "addedWidgets": {},
       "arguments": {},
       "data": "<div class=\"ansiout\">root\n |-- created_at_dt: date (nullable = true)\n |-- word_count: integer (nullable = true)\n |-- category_title: string (nullable = true)\n |-- body: string (nullable = true)\n |-- created_at: string (nullable = true)\n |-- dislike_count: long (nullable = true)\n |-- id: long (nullable = true)\n |-- like_count: long (nullable = true)\n |-- repost_count: long (nullable = true)\n |-- reply_count: long (nullable = true)\n |-- score: long (nullable = true)\n |-- topic_created_at: string (nullable = true)\n |-- topic_id: string (nullable = true)\n |-- topic_title: string (nullable = true)\n |-- user_id: long (nullable = true)\n |-- username: string (nullable = true)\n |-- user_real_name: string (nullable = true)\n |-- repost: boolean (nullable = true)\n |-- quote_conversation_parent: struct (nullable = true)\n |    |-- attachment: struct (nullable = true)\n |    |    |-- type: string (nullable = true)\n |    |    |-- value: string (nullable = true)\n |    |-- body: string (nullable = true)\n |    |-- body_html: string (nullable = true)\n |    |-- body_html_summary: string (nullable = true)\n |    |-- body_html_summary_truncated: boolean (nullable = true)\n |    |-- bookmarked: boolean (nullable = true)\n |    |-- category: long (nullable = true)\n |    |-- category_details: struct (nullable = true)\n |    |    |-- emoji: string (nullable = true)\n |    |    |-- slug: string (nullable = true)\n |    |    |-- title: string (nullable = true)\n |    |    |-- value: long (nullable = true)\n |    |-- created_at: string (nullable = true)\n |    |-- dislike_count: long (nullable = true)\n |    |-- disliked: boolean (nullable = true)\n |    |-- edited: boolean (nullable = true)\n |    |-- embed: struct (nullable = true)\n |    |    |-- html: string (nullable = true)\n |    |    |-- iframe: boolean (nullable = true)\n |    |-- id: long (nullable = true)\n |    |-- is_locked: boolean (nullable = true)\n |    |-- is_premium: boolean (nullable = true)\n |    |-- is_quote: boolean (nullable = true)\n |    |-- is_replies_disabled: boolean (nullable = true)\n |    |-- is_reply: boolean (nullable = true)\n |    |-- language: string (nullable = true)\n |    |-- like_count: long (nullable = true)\n |    |-- liked: boolean (nullable = true)\n |    |-- nsfw: boolean (nullable = true)\n |    |-- only_emoji: boolean (nullable = true)\n |    |-- poll: struct (nullable = true)\n |    |    |-- option_1_title: string (nullable = true)\n |    |    |-- option_1_votes: long (nullable = true)\n |    |    |-- option_2_title: string (nullable = true)\n |    |    |-- option_2_votes: long (nullable = true)\n |    |    |-- option_3_title: string (nullable = true)\n |    |    |-- option_3_votes: long (nullable = true)\n |    |    |-- option_4_title: string (nullable = true)\n |    |    |-- option_4_votes: long (nullable = true)\n |    |    |-- option_5_title: string (nullable = true)\n |    |    |-- option_5_votes: long (nullable = true)\n |    |    |-- total_votes: long (nullable = true)\n |    |    |-- voted_option: string (nullable = true)\n |    |-- replies: struct (nullable = true)\n |    |    |-- data: array (nullable = true)\n |    |    |    |-- element: string (containsNull = true)\n |    |-- reply_count: long (nullable = true)\n |    |-- reported: boolean (nullable = true)\n |    |-- repost: boolean (nullable = true)\n |    |-- repost_count: long (nullable = true)\n |    |-- revised_at: string (nullable = true)\n |    |-- score: long (nullable = true)\n |    |-- topic: struct (nullable = true)\n |    |    |-- category: long (nullable = true)\n |    |    |-- created_at: string (nullable = true)\n |    |    |-- id: string (nullable = true)\n |    |    |-- is_featured: boolean (nullable = true)\n |    |    |-- title: string (nullable = true)\n |    |    |-- user: struct (nullable = true)\n |    |    |    |-- id: long (nullable = true)\n |    |    |    |-- is_donor: boolean (nullable = true)\n |    |    |    |-- is_investor: boolean (nullable = true)\n |    |    |    |-- is_premium: boolean (nullable = true)\n |    |    |    |-- is_private: boolean (nullable = true)\n |    |    |    |-- is_pro: boolean (nullable = true)\n |    |    |    |-- name: string (nullable = true)\n |    |    |    |-- picture_url: string (nullable = true)\n |    |    |    |-- username: string (nullable = true)\n |    |    |    |-- verified: boolean (nullable = true)\n |    |-- user: struct (nullable = true)\n |    |    |-- id: long (nullable = true)\n |    |    |-- is_donor: boolean (nullable = true)\n |    |    |-- is_investor: boolean (nullable = true)\n |    |    |-- is_premium: boolean (nullable = true)\n |    |    |-- is_private: boolean (nullable = true)\n |    |    |-- is_pro: boolean (nullable = true)\n |    |    |-- name: string (nullable = true)\n |    |    |-- picture_url: string (nullable = true)\n |    |    |-- username: string (nullable = true)\n |    |    |-- verified: boolean (nullable = true)\n |-- users_in_conversation: array (nullable = true)\n |    |-- element: string (containsNull = true)\n |-- n_users_in_conversation: integer (nullable = true)\n |-- vader_sentiment: float (nullable = true)\n |-- liwc_sentiment: map (nullable = true)\n |    |-- key: string\n |    |-- value: float (valueContainsNull = true)\n |-- created_at_month: string (nullable = true)\n\n</div>",
       "datasetInfos": [],
       "metadata": {},
       "removedWidgets": [],
       "type": "html"
      }
     },
     "output_type": "display_data"
    }
   ],
   "source": [
    "data_output.printSchema()"
   ]
  },
  {
   "cell_type": "code",
   "execution_count": 0,
   "metadata": {
    "application/vnd.databricks.v1+cell": {
     "inputWidgets": {},
     "nuid": "82a13060-4e95-49f6-88fb-9034df072f54",
     "showTitle": false,
     "title": ""
    }
   },
   "outputs": [
    {
     "data": {
      "text/html": [
       "<style scoped>\n",
       "  .ansiout {\n",
       "    display: block;\n",
       "    unicode-bidi: embed;\n",
       "    white-space: pre-wrap;\n",
       "    word-wrap: break-word;\n",
       "    word-break: break-all;\n",
       "    font-family: \"Source Code Pro\", \"Menlo\", monospace;;\n",
       "    font-size: 13px;\n",
       "    color: #555;\n",
       "    margin-left: 4px;\n",
       "    line-height: 19px;\n",
       "  }\n",
       "</style>\n",
       "<div class=\"ansiout\">+-----------------------------------------------------------------------------------------------------------------------------------------------------------------------------------------------------------------------------------------------------------------------------------------------------------------------------------------------------------------------------------------------------------------------------------------------------------------------------------------------------------------------------------------------------------------------------------------------------------------------------------------------------------------------------------------+\n",
       "liwc_sentiment                                                                                                                                                                                                                                                                                                                                                                                                                                                                                                                                                                                                                                                                           |\n",
       "+-----------------------------------------------------------------------------------------------------------------------------------------------------------------------------------------------------------------------------------------------------------------------------------------------------------------------------------------------------------------------------------------------------------------------------------------------------------------------------------------------------------------------------------------------------------------------------------------------------------------------------------------------------------------------------------------+\n",
       "{tokens -&gt; null}                                                                                                                                                                                                                                                                                                                                                                                                                                                                                                                                                                                                                                                                         |\n",
       "{prep -&gt; 16.67, tokens -&gt; null, relativ -&gt; 16.67, space -&gt; 16.67, function -&gt; 16.67}                                                                                                                                                                                                                                                                                                                                                                                                                                                                                                                                                                                                     |\n",
       "{cogproc -&gt; 7.14, social -&gt; 7.14, conj -&gt; 7.14, adj -&gt; 7.14, relativ -&gt; 21.43, verb -&gt; 7.14, space -&gt; 7.14, focuspresent -&gt; 7.14, affiliation -&gt; 7.14, drives -&gt; 7.14, focuspast -&gt; 7.14, negate -&gt; 7.14, auxverb -&gt; 7.14, function -&gt; 35.71, prep -&gt; 14.29, tokens -&gt; null, time -&gt; 14.29, certain -&gt; 7.14}                                                                                                                                                                                                                                                                                                                                                                             |\n",
       "{relig -&gt; 14.81, compare -&gt; 3.7, posemo -&gt; 1.85, cogproc -&gt; 5.56, negemo -&gt; 3.7, relativ -&gt; 9.26, affect -&gt; 5.56, feel -&gt; 1.85, bio -&gt; 5.56, percept -&gt; 1.85, body -&gt; 1.85, anger -&gt; 3.7, space -&gt; 3.7, ppron -&gt; 1.85, see -&gt; 1.85, affiliation -&gt; 1.85, pronoun -&gt; 3.7, auxverb -&gt; 7.41, function -&gt; 37.04, prep -&gt; 16.67, tokens -&gt; null, power -&gt; 1.85, reward -&gt; 1.85, focusfuture -&gt; 3.7, social -&gt; 3.7, adj -&gt; 5.56, shehe -&gt; 1.85, verb -&gt; 16.67, quant -&gt; 5.56, differ -&gt; 1.85, article -&gt; 9.26, focuspresent -&gt; 11.11, focuspast -&gt; 3.7, drives -&gt; 11.11, ipron -&gt; 1.85, risk -&gt; 5.56, time -&gt; 5.56, informal -&gt; 3.7, certain -&gt; 3.7, male -&gt; 1.85, swear -&gt; 3.7, sexual -&gt; 3.7}|\n",
       "{compare -&gt; 8.7, negemo -&gt; 8.7, cogproc -&gt; 8.7, affect -&gt; 8.7, cause -&gt; 4.35, anger -&gt; 4.35, we -&gt; 4.35, ppron -&gt; 4.35, interrog -&gt; 4.35, affiliation -&gt; 4.35, pronoun -&gt; 4.35, auxverb -&gt; 8.7, function -&gt; 47.83, prep -&gt; 21.74, tokens -&gt; null, social -&gt; 4.35, adj -&gt; 8.7, verb -&gt; 13.04, anx -&gt; 4.35, quant -&gt; 4.35, differ -&gt; 4.35, article -&gt; 8.7, focuspresent -&gt; 13.04, drives -&gt; 4.35, adverb -&gt; 8.7}                                                                                                                                                                                                                                                                           |\n",
       "{posemo -&gt; 6.25, cogproc -&gt; 6.25, social -&gt; 12.5, work -&gt; 6.25, affect -&gt; 6.25, conj -&gt; 6.25, adj -&gt; 6.25, relativ -&gt; 12.5, percept -&gt; 6.25, we -&gt; 6.25, space -&gt; 6.25, ppron -&gt; 6.25, insight -&gt; 6.25, see -&gt; 6.25, affiliation -&gt; 6.25, drives -&gt; 12.5, pronoun -&gt; 6.25, function -&gt; 18.75, prep -&gt; 6.25, tokens -&gt; null, power -&gt; 6.25, time -&gt; 6.25}                                                                                                                                                                                                                                                                                                                                 |\n",
       "{auxverb -&gt; 8.33, function -&gt; 16.67, verb -&gt; 8.33, tokens -&gt; null, article -&gt; 8.33, focuspresent -&gt; 8.33}                                                                                                                                                                                                                                                                                                                                                                                                                                                                                                                                                                                |\n",
       "{cogproc -&gt; 8.33, auxverb -&gt; 16.67, function -&gt; 50.0, verb -&gt; 16.67, prep -&gt; 8.33, tokens -&gt; null, adverb -&gt; 8.33, focuspresent -&gt; 8.33, article -&gt; 16.67, tentat -&gt; 8.33}                                                                                                                                                                                                                                                                                                                                                                                                                                                                                                               |\n",
       "{cogproc -&gt; 6.25, relativ -&gt; 15.62, cause -&gt; 3.12, we -&gt; 3.12, space -&gt; 9.38, ppron -&gt; 3.12, number -&gt; 3.12, affiliation -&gt; 3.12, pronoun -&gt; 12.5, auxverb -&gt; 6.25, function -&gt; 43.75, prep -&gt; 15.62, tokens -&gt; null, power -&gt; 3.12, motion -&gt; 3.12, social -&gt; 12.5, verb -&gt; 12.5, focuspresent -&gt; 6.25, article -&gt; 3.12, insight -&gt; 3.12, drives -&gt; 6.25, focuspast -&gt; 9.38, ipron -&gt; 9.38, time -&gt; 6.25, adverb -&gt; 6.25}                                                                                                                                                                                                                                                               |\n",
       "{compare -&gt; 5.88, posemo -&gt; 11.76, affect -&gt; 11.76, relativ -&gt; 17.65, space -&gt; 5.88, interrog -&gt; 5.88, number -&gt; 5.88, pronoun -&gt; 5.88, auxverb -&gt; 5.88, function -&gt; 29.41, prep -&gt; 11.76, tokens -&gt; null, power -&gt; 5.88, reward -&gt; 5.88, motion -&gt; 11.76, social -&gt; 11.76, adj -&gt; 5.88, verb -&gt; 17.65, article -&gt; 5.88, focuspresent -&gt; 5.88, drives -&gt; 5.88, focuspast -&gt; 5.88, ipron -&gt; 5.88, achiev -&gt; 5.88}                                                                                                                                                                                                                                                                         |\n",
       "{compare -&gt; 2.7, cogproc -&gt; 5.41, posemo -&gt; 8.11, conj -&gt; 5.41, relativ -&gt; 5.41, affect -&gt; 8.11, space -&gt; 2.7, pronoun -&gt; 2.7, affiliation -&gt; 2.7, function -&gt; 27.03, friend -&gt; 2.7, prep -&gt; 13.51, tokens -&gt; null, power -&gt; 10.81, tentat -&gt; 5.41, reward -&gt; 2.7, motion -&gt; 2.7, social -&gt; 2.7, work -&gt; 8.11, adj -&gt; 5.41, verb -&gt; 8.11, quant -&gt; 2.7, article -&gt; 2.7, differ -&gt; 5.41, focuspresent -&gt; 5.41, money -&gt; 10.81, drives -&gt; 16.22, ipron -&gt; 2.7, adverb -&gt; 2.7, achiev -&gt; 2.7}                                                                                                                                                                                               |\n",
       "{cogproc -&gt; 11.11, posemo -&gt; 11.11, social -&gt; 11.11, relativ -&gt; 11.11, conj -&gt; 11.11, affect -&gt; 11.11, verb -&gt; 11.11, space -&gt; 11.11, article -&gt; 11.11, focuspresent -&gt; 11.11, differ -&gt; 11.11, ppron -&gt; 11.11, pronoun -&gt; 11.11, auxverb -&gt; 11.11, discrep -&gt; 11.11, function -&gt; 44.44, prep -&gt; 11.11, tokens -&gt; null, assent -&gt; 11.11, informal -&gt; 11.11, you -&gt; 11.11, tentat -&gt; 11.11}                                                                                                                                                                                                                                                                                               |\n",
       "{compare -&gt; 2.33, negemo -&gt; 2.33, posemo -&gt; 4.65, cogproc -&gt; 16.28, affect -&gt; 6.98, conj -&gt; 2.33, relativ -&gt; 18.6, bio -&gt; 2.33, cause -&gt; 2.33, percept -&gt; 4.65, body -&gt; 2.33, anger -&gt; 2.33, space -&gt; 11.63, see -&gt; 4.65, auxverb -&gt; 4.65, function -&gt; 34.88, prep -&gt; 20.93, tokens -&gt; null, tentat -&gt; 9.3, focusfuture -&gt; 2.33, motion -&gt; 4.65, social -&gt; 4.65, adj -&gt; 4.65, verb -&gt; 13.95, quant -&gt; 4.65, differ -&gt; 6.98, article -&gt; 4.65, focuspresent -&gt; 9.3, negate -&gt; 4.65, time -&gt; 2.33, informal -&gt; 2.33, swear -&gt; 2.33}                                                                                                                                                         |\n",
       "{focusfuture -&gt; 4.35, cogproc -&gt; 26.09, social -&gt; 4.35, work -&gt; 4.35, conj -&gt; 8.7, relativ -&gt; 4.35, verb -&gt; 17.39, focuspresent -&gt; 4.35, differ -&gt; 4.35, space -&gt; 4.35, insight -&gt; 4.35, drives -&gt; 4.35, negate -&gt; 4.35, auxverb -&gt; 4.35, function -&gt; 30.43, discrep -&gt; 8.7, prep -&gt; 4.35, tokens -&gt; null, adverb -&gt; 8.7, certain -&gt; 4.35, achiev -&gt; 4.35, tentat -&gt; 4.35}                                                                                                                                                                                                                                                                                                               |\n",
       "{tokens -&gt; null}                                                                                                                                                                                                                                                                                                                                                                                                                                                                                                                                                                                                                                                                         |\n",
       "{posemo -&gt; 11.11, social -&gt; 11.11, affect -&gt; 11.11, verb -&gt; 11.11, i -&gt; 11.11, focuspresent -&gt; 11.11, ppron -&gt; 11.11, number -&gt; 11.11, drives -&gt; 11.11, pronoun -&gt; 11.11, auxverb -&gt; 11.11, function -&gt; 33.33, prep -&gt; 11.11, tokens -&gt; null, power -&gt; 11.11}                                                                                                                                                                                                                                                                                                                                                                                                                            |\n",
       "{tokens -&gt; null}                                                                                                                                                                                                                                                                                                                                                                                                                                                                                                                                                                                                                                                                         |\n",
       "{tokens -&gt; null}                                                                                                                                                                                                                                                                                                                                                                                                                                                                                                                                                                                                                                                                         |\n",
       "{tokens -&gt; null}                                                                                                                                                                                                                                                                                                                                                                                                                                                                                                                                                                                                                                                                         |\n",
       "{tokens -&gt; null}                                                                                                                                                                                                                                                                                                                                                                                                                                                                                                                                                                                                                                                                         |\n",
       "{cogproc -&gt; 12.5, posemo -&gt; 6.25, motion -&gt; 6.25, social -&gt; 6.25, relativ -&gt; 6.25, affect -&gt; 6.25, work -&gt; 6.25, verb -&gt; 12.5, focuspresent -&gt; 6.25, article -&gt; 18.75, ppron -&gt; 6.25, money -&gt; 6.25, pronoun -&gt; 6.25, auxverb -&gt; 6.25, discrep -&gt; 6.25, function -&gt; 31.25, tokens -&gt; null, certain -&gt; 6.25, they -&gt; 6.25}                                                                                                                                                                                                                                                                                                                                                                |\n",
       "{compare -&gt; 8.0, posemo -&gt; 4.0, negemo -&gt; 4.0, cogproc -&gt; 12.0, death -&gt; 4.0, affect -&gt; 8.0, cause -&gt; 4.0, ppron -&gt; 4.0, pronoun -&gt; 12.0, auxverb -&gt; 8.0, function -&gt; 40.0, prep -&gt; 12.0, tokens -&gt; null, power -&gt; 4.0, they -&gt; 4.0, reward -&gt; 4.0, social -&gt; 8.0, adj -&gt; 12.0, verb -&gt; 16.0, anx -&gt; 4.0, quant -&gt; 4.0, focuspresent -&gt; 8.0, article -&gt; 8.0, differ -&gt; 8.0, focuspast -&gt; 8.0, drives -&gt; 8.0, negate -&gt; 4.0, ipron -&gt; 8.0}                                                                                                                                                                                                                                                |\n",
       "{compare -&gt; 2.5, posemo -&gt; 5.0, cogproc -&gt; 17.5, relativ -&gt; 7.5, conj -&gt; 5.0, affect -&gt; 5.0, cause -&gt; 2.5, percept -&gt; 5.0, space -&gt; 5.0, we -&gt; 2.5, ppron -&gt; 2.5, see -&gt; 5.0, affiliation -&gt; 2.5, pronoun -&gt; 5.0, auxverb -&gt; 15.0, function -&gt; 45.0, prep -&gt; 12.5, tokens -&gt; null, power -&gt; 2.5, reward -&gt; 5.0, focusfuture -&gt; 2.5, social -&gt; 2.5, adj -&gt; 7.5, verb -&gt; 20.0, differ -&gt; 2.5, article -&gt; 5.0, focuspresent -&gt; 17.5, insight -&gt; 2.5, drives -&gt; 12.5, ipron -&gt; 2.5, negate -&gt; 7.5, risk -&gt; 2.5, time -&gt; 2.5, adverb -&gt; 5.0, certain -&gt; 10.0, achiev -&gt; 2.5}                                                                                                                  |\n",
       "{posemo -&gt; 5.26, negemo -&gt; 10.53, death -&gt; 5.26, motion -&gt; 5.26, social -&gt; 5.26, affect -&gt; 15.79, relativ -&gt; 15.79, shehe -&gt; 5.26, verb -&gt; 15.79, anger -&gt; 10.53, focuspresent -&gt; 5.26, article -&gt; 5.26, space -&gt; 10.53, ppron -&gt; 5.26, focuspast -&gt; 5.26, pronoun -&gt; 15.79, auxverb -&gt; 5.26, ipron -&gt; 10.53, function -&gt; 36.84, prep -&gt; 10.53, tokens -&gt; null, leisure -&gt; 5.26, male -&gt; 5.26}                                                                                                                                                                                                                                                                                           |\n",
       "{cogproc -&gt; 4.26, relativ -&gt; 2.13, conj -&gt; 6.38, percept -&gt; 4.26, space -&gt; 2.13, ppron -&gt; 2.13, pronoun -&gt; 6.38, auxverb -&gt; 6.38, function -&gt; 36.17, prep -&gt; 2.13, tokens -&gt; null, power -&gt; 2.13, they -&gt; 2.13, hear -&gt; 4.26, social -&gt; 6.38, adj -&gt; 2.13, verb -&gt; 12.77, quant -&gt; 2.13, differ -&gt; 2.13, article -&gt; 17.02, focuspresent -&gt; 10.64, drives -&gt; 2.13, ipron -&gt; 4.26, negate -&gt; 2.13, certain -&gt; 2.13, achiev -&gt; 2.13}                                                                                                                                                                                                                                                        |\n",
       "{cogproc -&gt; 8.33, social -&gt; 8.33, work -&gt; 8.33, shehe -&gt; 8.33, verb -&gt; 8.33, ppron -&gt; 8.33, pronoun -&gt; 8.33, drives -&gt; 8.33, auxverb -&gt; 8.33, discrep -&gt; 8.33, function -&gt; 16.67, tokens -&gt; null, power -&gt; 8.33, male -&gt; 8.33}                                                                                                                                                                                                                                                                                                                                                                                                                                                           |\n",
       "{social -&gt; 5.88, conj -&gt; 5.88, relativ -&gt; 17.65, verb -&gt; 5.88, percept -&gt; 5.88, article -&gt; 5.88, space -&gt; 11.76, pronoun -&gt; 5.88, focuspast -&gt; 5.88, ipron -&gt; 5.88, function -&gt; 29.41, prep -&gt; 11.76, tokens -&gt; null, time -&gt; 5.88, hear -&gt; 5.88}                                                                                                                                                                                                                                                                                                                                                                                                                                        |\n",
       "{posemo -&gt; 5.56, negemo -&gt; 1.85, cogproc -&gt; 7.41, affect -&gt; 7.41, conj -&gt; 5.56, relativ -&gt; 12.96, bio -&gt; 1.85, cause -&gt; 5.56, percept -&gt; 1.85, anger -&gt; 1.85, we -&gt; 3.7, space -&gt; 7.41, ppron -&gt; 11.11, interrog -&gt; 3.7, affiliation -&gt; 3.7, pronoun -&gt; 11.11, auxverb -&gt; 9.26, function -&gt; 40.74, prep -&gt; 7.41, tokens -&gt; null, hear -&gt; 1.85, they -&gt; 7.41, motion -&gt; 3.7, social -&gt; 16.67, adj -&gt; 3.7, verb -&gt; 12.96, health -&gt; 1.85, quant -&gt; 3.7, focuspresent -&gt; 11.11, article -&gt; 7.41, drives -&gt; 5.56, time -&gt; 5.56, adverb -&gt; 3.7, certain -&gt; 1.85, achiev -&gt; 1.85}                                                                                                              |\n",
       "{relativ -&gt; 6.67, auxverb -&gt; 6.67, function -&gt; 13.33, verb -&gt; 6.67, prep -&gt; 6.67, tokens -&gt; null, space -&gt; 6.67, focuspresent -&gt; 6.67}                                                                                                                                                                                                                                                                                                                                                                                                                                                                                                                                                   |\n",
       "{compare -&gt; 3.12, posemo -&gt; 3.12, cogproc -&gt; 6.25, conj -&gt; 3.12, affect -&gt; 3.12, relativ -&gt; 12.5, bio -&gt; 6.25, cause -&gt; 6.25, body -&gt; 3.12, space -&gt; 3.12, ppron -&gt; 9.38, pronoun -&gt; 9.38, affiliation -&gt; 3.12, function -&gt; 34.38, prep -&gt; 18.75, tokens -&gt; null, you -&gt; 9.38, motion -&gt; 3.12, social -&gt; 15.62, adj -&gt; 3.12, verb -&gt; 3.12, quant -&gt; 3.12, article -&gt; 3.12, focuspresent -&gt; 3.12, money -&gt; 6.25, drives -&gt; 3.12, time -&gt; 9.38, adverb -&gt; 3.12}                                                                                                                                                                                                                            |\n",
       "{cogproc -&gt; 9.09, social -&gt; 9.09, relativ -&gt; 9.09, verb -&gt; 18.18, bio -&gt; 9.09, feel -&gt; 9.09, percept -&gt; 18.18, body -&gt; 9.09, space -&gt; 9.09, insight -&gt; 9.09, see -&gt; 9.09, drives -&gt; 9.09, focuspast -&gt; 9.09, function -&gt; 18.18, prep -&gt; 18.18, tokens -&gt; null, power -&gt; 9.09}                                                                                                                                                                                                                                                                                                                                                                                                            |\n",
       "{prep -&gt; 6.67, tokens -&gt; null, relativ -&gt; 6.67, space -&gt; 6.67, function -&gt; 6.67}                                                                                                                                                                                                                                                                                                                                                                                                                                                                                                                                                                                                         |\n",
       "{prep -&gt; 20.0, tokens -&gt; null, relativ -&gt; 13.33, space -&gt; 13.33, function -&gt; 20.0}                                                                                                                                                                                                                                                                                                                                                                                                                                                                                                                                                                                                       |\n",
       "{cogproc -&gt; 14.71, conj -&gt; 2.94, cause -&gt; 2.94, percept -&gt; 5.88, see -&gt; 2.94, pronoun -&gt; 14.71, auxverb -&gt; 14.71, function -&gt; 44.12, prep -&gt; 2.94, tokens -&gt; null, hear -&gt; 2.94, reward -&gt; 2.94, social -&gt; 5.88, adj -&gt; 2.94, work -&gt; 2.94, verb -&gt; 17.65, article -&gt; 2.94, focuspresent -&gt; 14.71, insight -&gt; 8.82, drives -&gt; 2.94, focuspast -&gt; 2.94, negate -&gt; 2.94, ipron -&gt; 14.71, adverb -&gt; 5.88, certain -&gt; 5.88, achiev -&gt; 2.94}                                                                                                                                                                                                                                                  |\n",
       "{negemo -&gt; 3.03, posemo -&gt; 6.06, cogproc -&gt; 9.09, relativ -&gt; 6.06, conj -&gt; 6.06, affect -&gt; 9.09, ppron -&gt; 15.15, interrog -&gt; 3.03, pronoun -&gt; 15.15, function -&gt; 33.33, prep -&gt; 6.06, tokens -&gt; null, reward -&gt; 6.06, social -&gt; 12.12, adj -&gt; 3.03, work -&gt; 3.03, shehe -&gt; 9.09, verb -&gt; 9.09, i -&gt; 6.06, quant -&gt; 3.03, article -&gt; 3.03, focuspresent -&gt; 3.03, insight -&gt; 3.03, money -&gt; 3.03, focuspast -&gt; 6.06, drives -&gt; 6.06, negate -&gt; 3.03, time -&gt; 6.06, adverb -&gt; 12.12, certain -&gt; 6.06, male -&gt; 9.09}                                                                                                                                                                         |\n",
       "\n",
       "*** WARNING: skipped 19372 bytes of output ***\n",
       "\n",
       "{relativ -&gt; 6.67, work -&gt; 6.67, function -&gt; 6.67, prep -&gt; 6.67, tokens -&gt; null, space -&gt; 6.67}                                                                                                                                                                                                                                                                                                                                                                                                                                                                                                                                                                                           |\n",
       "{prep -&gt; 16.67, tokens -&gt; null, function -&gt; 16.67}                                                                                                                                                                                                                                                                                                                                                                                                                                                                                                                                                                                                                                       |\n",
       "{tokens -&gt; null, article -&gt; 9.09, function -&gt; 9.09}                                                                                                                                                                                                                                                                                                                                                                                                                                                                                                                                                                                                                                      |\n",
       "{cogproc -&gt; 8.33, posemo -&gt; 8.33, social -&gt; 25.0, affect -&gt; 8.33, article -&gt; 8.33, insight -&gt; 8.33, negate -&gt; 8.33, function -&gt; 33.33, prep -&gt; 8.33, tokens -&gt; null, adverb -&gt; 8.33, female -&gt; 8.33, family -&gt; 8.33}                                                                                                                                                                                                                                                                                                                                                                                                                                                                     |\n",
       "{compare -&gt; 1.85, negemo -&gt; 3.7, cogproc -&gt; 5.56, death -&gt; 1.85, affect -&gt; 3.7, conj -&gt; 3.7, relativ -&gt; 14.81, anger -&gt; 3.7, space -&gt; 9.26, ppron -&gt; 3.7, interrog -&gt; 1.85, pronoun -&gt; 3.7, auxverb -&gt; 3.7, function -&gt; 37.04, prep -&gt; 14.81, tokens -&gt; null, assent -&gt; 1.85, power -&gt; 1.85, you -&gt; 3.7, focusfuture -&gt; 3.7, motion -&gt; 5.56, social -&gt; 5.56, work -&gt; 1.85, adj -&gt; 1.85, verb -&gt; 11.11, quant -&gt; 7.41, article -&gt; 5.56, focuspresent -&gt; 5.56, insight -&gt; 1.85, drives -&gt; 1.85, focuspast -&gt; 1.85, negate -&gt; 1.85, time -&gt; 1.85, informal -&gt; 1.85, adverb -&gt; 5.56, certain -&gt; 3.7}                                                                                         |\n",
       "{relig -&gt; 4.76, focusfuture -&gt; 4.76, motion -&gt; 9.52, relativ -&gt; 23.81, verb -&gt; 14.29, article -&gt; 4.76, space -&gt; 9.52, focuspresent -&gt; 9.52, pronoun -&gt; 9.52, drives -&gt; 4.76, ipron -&gt; 9.52, function -&gt; 38.1, prep -&gt; 19.05, tokens -&gt; null, time -&gt; 4.76, adverb -&gt; 4.76, achiev -&gt; 4.76}                                                                                                                                                                                                                                                                                                                                                                                               |\n",
       "{compare -&gt; 1.82, negemo -&gt; 1.82, cogproc -&gt; 20.0, relativ -&gt; 7.27, conj -&gt; 3.64, affect -&gt; 1.82, cause -&gt; 1.82, percept -&gt; 1.82, space -&gt; 3.64, ppron -&gt; 18.18, see -&gt; 1.82, pronoun -&gt; 21.82, auxverb -&gt; 14.55, function -&gt; 56.36, prep -&gt; 9.09, tokens -&gt; null, power -&gt; 7.27, you -&gt; 12.73, tentat -&gt; 5.45, focusfuture -&gt; 7.27, social -&gt; 12.73, work -&gt; 3.64, adj -&gt; 3.64, verb -&gt; 18.18, i -&gt; 5.45, quant -&gt; 1.82, article -&gt; 1.82, focuspresent -&gt; 12.73, differ -&gt; 7.27, insight -&gt; 1.82, money -&gt; 1.82, drives -&gt; 12.73, focuspast -&gt; 1.82, ipron -&gt; 3.64, negate -&gt; 3.64, discrep -&gt; 1.82, risk -&gt; 1.82, time -&gt; 3.64, adverb -&gt; 1.82, certain -&gt; 1.82, achiev -&gt; 3.64}       |\n",
       "{negemo -&gt; 6.67, cogproc -&gt; 6.67, affect -&gt; 6.67, relativ -&gt; 6.67, verb -&gt; 20.0, anger -&gt; 6.67, space -&gt; 6.67, article -&gt; 6.67, focuspresent -&gt; 6.67, drives -&gt; 6.67, focuspast -&gt; 6.67, auxverb -&gt; 6.67, function -&gt; 20.0, prep -&gt; 6.67, tokens -&gt; null, achiev -&gt; 6.67, tentat -&gt; 6.67}                                                                                                                                                                                                                                                                                                                                                                                                |\n",
       "{motion -&gt; 6.67, social -&gt; 13.33, conj -&gt; 6.67, relativ -&gt; 13.33, verb -&gt; 6.67, space -&gt; 6.67, article -&gt; 6.67, focuspresent -&gt; 6.67, pronoun -&gt; 6.67, affiliation -&gt; 6.67, drives -&gt; 6.67, ipron -&gt; 6.67, function -&gt; 40.0, prep -&gt; 20.0, tokens -&gt; null}                                                                                                                                                                                                                                                                                                                                                                                                                               |\n",
       "{cogproc -&gt; 20.0, relativ -&gt; 13.33, cause -&gt; 6.67, space -&gt; 6.67, we -&gt; 6.67, ppron -&gt; 13.33, interrog -&gt; 6.67, affiliation -&gt; 6.67, pronoun -&gt; 13.33, function -&gt; 46.67, prep -&gt; 20.0, tokens -&gt; null, female -&gt; 6.67, focusfuture -&gt; 6.67, motion -&gt; 6.67, social -&gt; 13.33, work -&gt; 6.67, shehe -&gt; 6.67, verb -&gt; 20.0, article -&gt; 6.67, focuspresent -&gt; 13.33, insight -&gt; 6.67, money -&gt; 6.67, drives -&gt; 6.67, discrep -&gt; 6.67, adverb -&gt; 6.67}                                                                                                                                                                                                                                        |\n",
       "{relig -&gt; 4.35, cogproc -&gt; 10.87, posemo -&gt; 2.17, conj -&gt; 6.52, relativ -&gt; 8.7, affect -&gt; 2.17, bio -&gt; 2.17, space -&gt; 6.52, interrog -&gt; 2.17, pronoun -&gt; 6.52, affiliation -&gt; 2.17, auxverb -&gt; 10.87, function -&gt; 43.48, prep -&gt; 6.52, tokens -&gt; null, power -&gt; 4.35, focusfuture -&gt; 2.17, motion -&gt; 2.17, social -&gt; 2.17, work -&gt; 2.17, adj -&gt; 2.17, verb -&gt; 17.39, quant -&gt; 2.17, article -&gt; 8.7, differ -&gt; 6.52, focuspresent -&gt; 8.7, insight -&gt; 4.35, focuspast -&gt; 2.17, drives -&gt; 6.52, negate -&gt; 2.17, ipron -&gt; 6.52, discrep -&gt; 2.17, adverb -&gt; 2.17}                                                                                                                             |\n",
       "{cogproc -&gt; 16.67, posemo -&gt; 5.56, relativ -&gt; 11.11, affect -&gt; 5.56, conj -&gt; 5.56, ppron -&gt; 5.56, pronoun -&gt; 16.67, auxverb -&gt; 5.56, function -&gt; 50.0, prep -&gt; 11.11, tokens -&gt; null, you -&gt; 5.56, tentat -&gt; 5.56, social -&gt; 16.67, verb -&gt; 11.11, focuspresent -&gt; 5.56, insight -&gt; 5.56, focuspast -&gt; 5.56, drives -&gt; 5.56, ipron -&gt; 11.11, time -&gt; 11.11, adverb -&gt; 16.67, certain -&gt; 5.56, achiev -&gt; 5.56}                                                                                                                                                                                                                                                                            |\n",
       "{cogproc -&gt; 7.69, relativ -&gt; 15.38, verb -&gt; 7.69, quant -&gt; 7.69, space -&gt; 7.69, pronoun -&gt; 7.69, focuspast -&gt; 7.69, ipron -&gt; 7.69, auxverb -&gt; 7.69, function -&gt; 23.08, prep -&gt; 7.69, tokens -&gt; null, time -&gt; 7.69, certain -&gt; 7.69}                                                                                                                                                                                                                                                                                                                                                                                                                                                      |\n",
       "{negemo -&gt; 2.63, cogproc -&gt; 7.89, death -&gt; 2.63, netspeak -&gt; 5.26, affect -&gt; 2.63, relativ -&gt; 7.89, anger -&gt; 2.63, space -&gt; 2.63, pronoun -&gt; 2.63, affiliation -&gt; 5.26, auxverb -&gt; 10.53, function -&gt; 31.58, prep -&gt; 10.53, tokens -&gt; null, leisure -&gt; 2.63, tentat -&gt; 2.63, reward -&gt; 2.63, focusfuture -&gt; 2.63, social -&gt; 5.26, verb -&gt; 21.05, quant -&gt; 2.63, focuspresent -&gt; 13.16, article -&gt; 5.26, drives -&gt; 7.89, focuspast -&gt; 5.26, ipron -&gt; 2.63, discrep -&gt; 5.26, time -&gt; 5.26, informal -&gt; 5.26, adverb -&gt; 2.63}                                                                                                                                                               |\n",
       "{prep -&gt; 7.69, tokens -&gt; null, relativ -&gt; 7.69, space -&gt; 7.69, function -&gt; 7.69}                                                                                                                                                                                                                                                                                                                                                                                                                                                                                                                                                                                                         |\n",
       "{posemo -&gt; 8.33, affiliation -&gt; 8.33, drives -&gt; 8.33, social -&gt; 8.33, affect -&gt; 8.33, auxverb -&gt; 8.33, function -&gt; 25.0, prep -&gt; 8.33, tokens -&gt; null, article -&gt; 8.33, focuspresent -&gt; 16.67}                                                                                                                                                                                                                                                                                                                                                                                                                                                                                           |\n",
       "{focusfuture -&gt; 4.0, cogproc -&gt; 4.0, netspeak -&gt; 4.0, motion -&gt; 4.0, social -&gt; 8.0, relativ -&gt; 4.0, verb -&gt; 20.0, percept -&gt; 8.0, article -&gt; 4.0, focuspresent -&gt; 8.0, insight -&gt; 4.0, focuspast -&gt; 8.0, pronoun -&gt; 4.0, negate -&gt; 4.0, auxverb -&gt; 8.0, ipron -&gt; 4.0, function -&gt; 28.0, prep -&gt; 8.0, tokens -&gt; null, adverb -&gt; 4.0, informal -&gt; 4.0, hear -&gt; 8.0}                                                                                                                                                                                                                                                                                                                        |\n",
       "{reward -&gt; 4.35, focusfuture -&gt; 4.35, compare -&gt; 4.35, negemo -&gt; 4.35, relativ -&gt; 4.35, affect -&gt; 4.35, adj -&gt; 8.7, conj -&gt; 4.35, verb -&gt; 8.7, percept -&gt; 4.35, space -&gt; 4.35, see -&gt; 4.35, money -&gt; 4.35, focuspast -&gt; 4.35, drives -&gt; 8.7, auxverb -&gt; 4.35, function -&gt; 17.39, prep -&gt; 13.04, tokens -&gt; null, power -&gt; 4.35, leisure -&gt; 4.35}                                                                                                                                                                                                                                                                                                                                          |\n",
       "{compare -&gt; 12.5, social -&gt; 12.5, verb -&gt; 25.0, focuspresent -&gt; 25.0, ppron -&gt; 12.5, pronoun -&gt; 12.5, negate -&gt; 12.5, auxverb -&gt; 25.0, function -&gt; 50.0, prep -&gt; 12.5, tokens -&gt; null, they -&gt; 12.5}                                                                                                                                                                                                                                                                                                                                                                                                                                                                                     |\n",
       "{compare -&gt; 3.03, posemo -&gt; 3.03, cogproc -&gt; 3.03, negemo -&gt; 3.03, relativ -&gt; 6.06, affect -&gt; 6.06, cause -&gt; 3.03, ppron -&gt; 3.03, interrog -&gt; 3.03, number -&gt; 6.06, pronoun -&gt; 6.06, auxverb -&gt; 3.03, sad -&gt; 3.03, function -&gt; 30.3, prep -&gt; 12.12, tokens -&gt; null, power -&gt; 3.03, social -&gt; 3.03, adj -&gt; 6.06, verb -&gt; 6.06, i -&gt; 3.03, focuspresent -&gt; 6.06, article -&gt; 9.09, insight -&gt; 3.03, drives -&gt; 3.03, ipron -&gt; 3.03, time -&gt; 6.06}                                                                                                                                                                                                                                            |\n",
       "{auxverb -&gt; 16.67, function -&gt; 33.33, verb -&gt; 16.67, prep -&gt; 16.67, tokens -&gt; null, adverb -&gt; 16.67, focuspresent -&gt; 16.67}                                                                                                                                                                                                                                                                                                                                                                                                                                                                                                                                                              |\n",
       "{cogproc -&gt; 6.25, affiliation -&gt; 6.25, drives -&gt; 6.25, social -&gt; 6.25, relativ -&gt; 6.25, work -&gt; 6.25, function -&gt; 18.75, prep -&gt; 18.75, tokens -&gt; null, space -&gt; 6.25, differ -&gt; 6.25}                                                                                                                                                                                                                                                                                                                                                                                                                                                                                                   |\n",
       "{social -&gt; 6.25, work -&gt; 6.25, relativ -&gt; 6.25, verb -&gt; 6.25, bio -&gt; 6.25, focuspresent -&gt; 6.25, space -&gt; 6.25, article -&gt; 6.25, money -&gt; 6.25, drives -&gt; 6.25, auxverb -&gt; 6.25, function -&gt; 31.25, prep -&gt; 18.75, tokens -&gt; null, power -&gt; 6.25, informal -&gt; 6.25, swear -&gt; 6.25, sexual -&gt; 6.25}                                                                                                                                                                                                                                                                                                                                                                                       |\n",
       "{compare -&gt; 4.35, cogproc -&gt; 10.87, relativ -&gt; 4.35, conj -&gt; 6.52, cause -&gt; 2.17, ppron -&gt; 2.17, pronoun -&gt; 4.35, auxverb -&gt; 8.7, function -&gt; 39.13, prep -&gt; 4.35, tokens -&gt; null, they -&gt; 2.17, social -&gt; 8.7, adj -&gt; 4.35, verb -&gt; 8.7, quant -&gt; 2.17, differ -&gt; 4.35, article -&gt; 8.7, focuspresent -&gt; 10.87, insight -&gt; 2.17, focuspast -&gt; 2.17, negate -&gt; 2.17, ipron -&gt; 2.17, time -&gt; 4.35, adverb -&gt; 6.52, certain -&gt; 2.17}                                                                                                                                                                                                                                                        |\n",
       "{tokens -&gt; null}                                                                                                                                                                                                                                                                                                                                                                                                                                                                                                                                                                                                                                                                         |\n",
       "{social -&gt; 6.67, relativ -&gt; 26.67, work -&gt; 6.67, verb -&gt; 6.67, percept -&gt; 6.67, space -&gt; 20.0, article -&gt; 13.33, focuspresent -&gt; 6.67, see -&gt; 6.67, affiliation -&gt; 6.67, drives -&gt; 6.67, function -&gt; 40.0, prep -&gt; 20.0, tokens -&gt; null, time -&gt; 6.67, adverb -&gt; 6.67, leisure -&gt; 6.67, achiev -&gt; 6.67}                                                                                                                                                                                                                                                                                                                                                                                  |\n",
       "{prep -&gt; 9.09, tokens -&gt; null, relativ -&gt; 9.09, space -&gt; 9.09, function -&gt; 9.09}                                                                                                                                                                                                                                                                                                                                                                                                                                                                                                                                                                                                         |\n",
       "{posemo -&gt; 7.69, cogproc -&gt; 7.69, work -&gt; 7.69, relativ -&gt; 7.69, affect -&gt; 7.69, adj -&gt; 7.69, verb -&gt; 7.69, space -&gt; 7.69, focuspresent -&gt; 7.69, differ -&gt; 7.69, auxverb -&gt; 7.69, negate -&gt; 7.69, function -&gt; 38.46, prep -&gt; 23.08, tokens -&gt; null}                                                                                                                                                                                                                                                                                                                                                                                                                                      |\n",
       "{reward -&gt; 5.26, compare -&gt; 5.26, posemo -&gt; 5.26, adj -&gt; 5.26, conj -&gt; 5.26, relativ -&gt; 26.32, affect -&gt; 5.26, verb -&gt; 5.26, article -&gt; 5.26, focuspresent -&gt; 5.26, space -&gt; 10.53, drives -&gt; 5.26, function -&gt; 36.84, prep -&gt; 21.05, tokens -&gt; null, time -&gt; 15.79, power -&gt; 5.26, adverb -&gt; 10.53, achiev -&gt; 5.26}                                                                                                                                                                                                                                                                                                                                                                     |\n",
       "{cogproc -&gt; 12.0, negemo -&gt; 8.0, death -&gt; 4.0, conj -&gt; 4.0, affect -&gt; 8.0, relativ -&gt; 12.0, anger -&gt; 4.0, pronoun -&gt; 4.0, auxverb -&gt; 8.0, sad -&gt; 4.0, function -&gt; 40.0, prep -&gt; 8.0, tokens -&gt; null, power -&gt; 4.0, tentat -&gt; 4.0, reward -&gt; 4.0, verb -&gt; 20.0, differ -&gt; 8.0, article -&gt; 8.0, focuspresent -&gt; 12.0, focuspast -&gt; 4.0, drives -&gt; 24.0, negate -&gt; 4.0, ipron -&gt; 4.0, discrep -&gt; 4.0, risk -&gt; 8.0, time -&gt; 12.0, adverb -&gt; 4.0, achiev -&gt; 8.0}                                                                                                                                                                                                                              |\n",
       "{negemo -&gt; 8.33, posemo -&gt; 8.33, social -&gt; 16.67, affect -&gt; 16.67, anx -&gt; 8.33, article -&gt; 16.67, pronoun -&gt; 8.33, affiliation -&gt; 8.33, drives -&gt; 16.67, ipron -&gt; 8.33, function -&gt; 25.0, tokens -&gt; null, leisure -&gt; 8.33, achiev -&gt; 8.33}                                                                                                                                                                                                                                                                                                                                                                                                                                               |\n",
       "{relig -&gt; 4.0, death -&gt; 4.0, social -&gt; 4.0, relativ -&gt; 8.0, conj -&gt; 4.0, percept -&gt; 4.0, space -&gt; 4.0, article -&gt; 12.0, ppron -&gt; 4.0, affiliation -&gt; 4.0, pronoun -&gt; 4.0, drives -&gt; 8.0, function -&gt; 40.0, prep -&gt; 16.0, tokens -&gt; null, time -&gt; 4.0, power -&gt; 4.0, adverb -&gt; 4.0, leisure -&gt; 4.0, hear -&gt; 4.0, they -&gt; 4.0, achiev -&gt; 4.0}                                                                                                                                                                                                                                                                                                                                              |\n",
       "{negemo -&gt; 4.55, cogproc -&gt; 4.55, posemo -&gt; 6.82, relativ -&gt; 13.64, conj -&gt; 6.82, affect -&gt; 11.36, bio -&gt; 2.27, space -&gt; 9.09, ppron -&gt; 2.27, interrog -&gt; 4.55, affiliation -&gt; 2.27, pronoun -&gt; 6.82, auxverb -&gt; 9.09, function -&gt; 47.73, prep -&gt; 18.18, tokens -&gt; null, power -&gt; 9.09, they -&gt; 2.27, tentat -&gt; 4.55, motion -&gt; 2.27, social -&gt; 6.82, work -&gt; 4.55, verb -&gt; 15.91, differ -&gt; 2.27, article -&gt; 4.55, focuspresent -&gt; 9.09, focuspast -&gt; 6.82, drives -&gt; 11.36, ipron -&gt; 4.55, time -&gt; 2.27, adverb -&gt; 4.55, sexual -&gt; 2.27}                                                                                                                                               |\n",
       "{negemo -&gt; 4.55, cogproc -&gt; 4.55, posemo -&gt; 6.82, relativ -&gt; 13.64, conj -&gt; 6.82, affect -&gt; 11.36, bio -&gt; 2.27, space -&gt; 9.09, ppron -&gt; 2.27, interrog -&gt; 4.55, affiliation -&gt; 2.27, pronoun -&gt; 6.82, auxverb -&gt; 9.09, function -&gt; 47.73, prep -&gt; 18.18, tokens -&gt; null, power -&gt; 9.09, they -&gt; 2.27, tentat -&gt; 4.55, motion -&gt; 2.27, social -&gt; 6.82, work -&gt; 4.55, verb -&gt; 15.91, differ -&gt; 2.27, article -&gt; 4.55, focuspresent -&gt; 9.09, focuspast -&gt; 6.82, drives -&gt; 11.36, ipron -&gt; 4.55, time -&gt; 2.27, adverb -&gt; 4.55, sexual -&gt; 2.27}                                                                                                                                               |\n",
       "{compare -&gt; 1.85, posemo -&gt; 1.85, negemo -&gt; 1.85, cogproc -&gt; 11.11, conj -&gt; 3.7, affect -&gt; 3.7, relativ -&gt; 9.26, cause -&gt; 1.85, space -&gt; 3.7, ppron -&gt; 1.85, interrog -&gt; 1.85, pronoun -&gt; 7.41, auxverb -&gt; 5.56, function -&gt; 35.19, prep -&gt; 11.11, tokens -&gt; null, power -&gt; 3.7, reward -&gt; 1.85, motion -&gt; 1.85, social -&gt; 1.85, adj -&gt; 3.7, work -&gt; 5.56, verb -&gt; 11.11, i -&gt; 1.85, quant -&gt; 5.56, focuspresent -&gt; 7.41, article -&gt; 3.7, differ -&gt; 3.7, insight -&gt; 1.85, focuspast -&gt; 3.7, drives -&gt; 5.56, negate -&gt; 1.85, ipron -&gt; 5.56, discrep -&gt; 1.85, time -&gt; 3.7, adverb -&gt; 3.7, certain -&gt; 1.85, achiev -&gt; 1.85}                                                                 |\n",
       "{compare -&gt; 9.52, negemo -&gt; 9.52, cogproc -&gt; 19.05, relativ -&gt; 4.76, affect -&gt; 9.52, conj -&gt; 9.52, cause -&gt; 4.76, percept -&gt; 4.76, space -&gt; 4.76, ppron -&gt; 9.52, interrog -&gt; 4.76, pronoun -&gt; 9.52, auxverb -&gt; 9.52, sad -&gt; 4.76, function -&gt; 38.1, prep -&gt; 4.76, tokens -&gt; null, power -&gt; 4.76, you -&gt; 9.52, tentat -&gt; 4.76, social -&gt; 9.52, adj -&gt; 9.52, verb -&gt; 9.52, anx -&gt; 4.76, differ -&gt; 9.52, article -&gt; 4.76, focuspresent -&gt; 14.29, insight -&gt; 4.76, drives -&gt; 4.76, discrep -&gt; 4.76, adverb -&gt; 4.76}                                                                                                                                                                          |\n",
       "+-----------------------------------------------------------------------------------------------------------------------------------------------------------------------------------------------------------------------------------------------------------------------------------------------------------------------------------------------------------------------------------------------------------------------------------------------------------------------------------------------------------------------------------------------------------------------------------------------------------------------------------------------------------------------------------------+\n",
       "only showing top 100 rows\n",
       "\n",
       "</div>"
      ]
     },
     "metadata": {
      "application/vnd.databricks.v1+output": {
       "addedWidgets": {},
       "arguments": {},
       "data": "<div class=\"ansiout\">+-----------------------------------------------------------------------------------------------------------------------------------------------------------------------------------------------------------------------------------------------------------------------------------------------------------------------------------------------------------------------------------------------------------------------------------------------------------------------------------------------------------------------------------------------------------------------------------------------------------------------------------------------------------------------------------------+\n|liwc_sentiment                                                                                                                                                                                                                                                                                                                                                                                                                                                                                                                                                                                                                                                                           |\n+-----------------------------------------------------------------------------------------------------------------------------------------------------------------------------------------------------------------------------------------------------------------------------------------------------------------------------------------------------------------------------------------------------------------------------------------------------------------------------------------------------------------------------------------------------------------------------------------------------------------------------------------------------------------------------------------+\n|{tokens -&gt; null}                                                                                                                                                                                                                                                                                                                                                                                                                                                                                                                                                                                                                                                                         |\n|{prep -&gt; 16.67, tokens -&gt; null, relativ -&gt; 16.67, space -&gt; 16.67, function -&gt; 16.67}                                                                                                                                                                                                                                                                                                                                                                                                                                                                                                                                                                                                     |\n|{cogproc -&gt; 7.14, social -&gt; 7.14, conj -&gt; 7.14, adj -&gt; 7.14, relativ -&gt; 21.43, verb -&gt; 7.14, space -&gt; 7.14, focuspresent -&gt; 7.14, affiliation -&gt; 7.14, drives -&gt; 7.14, focuspast -&gt; 7.14, negate -&gt; 7.14, auxverb -&gt; 7.14, function -&gt; 35.71, prep -&gt; 14.29, tokens -&gt; null, time -&gt; 14.29, certain -&gt; 7.14}                                                                                                                                                                                                                                                                                                                                                                             |\n|{relig -&gt; 14.81, compare -&gt; 3.7, posemo -&gt; 1.85, cogproc -&gt; 5.56, negemo -&gt; 3.7, relativ -&gt; 9.26, affect -&gt; 5.56, feel -&gt; 1.85, bio -&gt; 5.56, percept -&gt; 1.85, body -&gt; 1.85, anger -&gt; 3.7, space -&gt; 3.7, ppron -&gt; 1.85, see -&gt; 1.85, affiliation -&gt; 1.85, pronoun -&gt; 3.7, auxverb -&gt; 7.41, function -&gt; 37.04, prep -&gt; 16.67, tokens -&gt; null, power -&gt; 1.85, reward -&gt; 1.85, focusfuture -&gt; 3.7, social -&gt; 3.7, adj -&gt; 5.56, shehe -&gt; 1.85, verb -&gt; 16.67, quant -&gt; 5.56, differ -&gt; 1.85, article -&gt; 9.26, focuspresent -&gt; 11.11, focuspast -&gt; 3.7, drives -&gt; 11.11, ipron -&gt; 1.85, risk -&gt; 5.56, time -&gt; 5.56, informal -&gt; 3.7, certain -&gt; 3.7, male -&gt; 1.85, swear -&gt; 3.7, sexual -&gt; 3.7}|\n|{compare -&gt; 8.7, negemo -&gt; 8.7, cogproc -&gt; 8.7, affect -&gt; 8.7, cause -&gt; 4.35, anger -&gt; 4.35, we -&gt; 4.35, ppron -&gt; 4.35, interrog -&gt; 4.35, affiliation -&gt; 4.35, pronoun -&gt; 4.35, auxverb -&gt; 8.7, function -&gt; 47.83, prep -&gt; 21.74, tokens -&gt; null, social -&gt; 4.35, adj -&gt; 8.7, verb -&gt; 13.04, anx -&gt; 4.35, quant -&gt; 4.35, differ -&gt; 4.35, article -&gt; 8.7, focuspresent -&gt; 13.04, drives -&gt; 4.35, adverb -&gt; 8.7}                                                                                                                                                                                                                                                                           |\n|{posemo -&gt; 6.25, cogproc -&gt; 6.25, social -&gt; 12.5, work -&gt; 6.25, affect -&gt; 6.25, conj -&gt; 6.25, adj -&gt; 6.25, relativ -&gt; 12.5, percept -&gt; 6.25, we -&gt; 6.25, space -&gt; 6.25, ppron -&gt; 6.25, insight -&gt; 6.25, see -&gt; 6.25, affiliation -&gt; 6.25, drives -&gt; 12.5, pronoun -&gt; 6.25, function -&gt; 18.75, prep -&gt; 6.25, tokens -&gt; null, power -&gt; 6.25, time -&gt; 6.25}                                                                                                                                                                                                                                                                                                                                 |\n|{auxverb -&gt; 8.33, function -&gt; 16.67, verb -&gt; 8.33, tokens -&gt; null, article -&gt; 8.33, focuspresent -&gt; 8.33}                                                                                                                                                                                                                                                                                                                                                                                                                                                                                                                                                                                |\n|{cogproc -&gt; 8.33, auxverb -&gt; 16.67, function -&gt; 50.0, verb -&gt; 16.67, prep -&gt; 8.33, tokens -&gt; null, adverb -&gt; 8.33, focuspresent -&gt; 8.33, article -&gt; 16.67, tentat -&gt; 8.33}                                                                                                                                                                                                                                                                                                                                                                                                                                                                                                               |\n|{cogproc -&gt; 6.25, relativ -&gt; 15.62, cause -&gt; 3.12, we -&gt; 3.12, space -&gt; 9.38, ppron -&gt; 3.12, number -&gt; 3.12, affiliation -&gt; 3.12, pronoun -&gt; 12.5, auxverb -&gt; 6.25, function -&gt; 43.75, prep -&gt; 15.62, tokens -&gt; null, power -&gt; 3.12, motion -&gt; 3.12, social -&gt; 12.5, verb -&gt; 12.5, focuspresent -&gt; 6.25, article -&gt; 3.12, insight -&gt; 3.12, drives -&gt; 6.25, focuspast -&gt; 9.38, ipron -&gt; 9.38, time -&gt; 6.25, adverb -&gt; 6.25}                                                                                                                                                                                                                                                               |\n|{compare -&gt; 5.88, posemo -&gt; 11.76, affect -&gt; 11.76, relativ -&gt; 17.65, space -&gt; 5.88, interrog -&gt; 5.88, number -&gt; 5.88, pronoun -&gt; 5.88, auxverb -&gt; 5.88, function -&gt; 29.41, prep -&gt; 11.76, tokens -&gt; null, power -&gt; 5.88, reward -&gt; 5.88, motion -&gt; 11.76, social -&gt; 11.76, adj -&gt; 5.88, verb -&gt; 17.65, article -&gt; 5.88, focuspresent -&gt; 5.88, drives -&gt; 5.88, focuspast -&gt; 5.88, ipron -&gt; 5.88, achiev -&gt; 5.88}                                                                                                                                                                                                                                                                         |\n|{compare -&gt; 2.7, cogproc -&gt; 5.41, posemo -&gt; 8.11, conj -&gt; 5.41, relativ -&gt; 5.41, affect -&gt; 8.11, space -&gt; 2.7, pronoun -&gt; 2.7, affiliation -&gt; 2.7, function -&gt; 27.03, friend -&gt; 2.7, prep -&gt; 13.51, tokens -&gt; null, power -&gt; 10.81, tentat -&gt; 5.41, reward -&gt; 2.7, motion -&gt; 2.7, social -&gt; 2.7, work -&gt; 8.11, adj -&gt; 5.41, verb -&gt; 8.11, quant -&gt; 2.7, article -&gt; 2.7, differ -&gt; 5.41, focuspresent -&gt; 5.41, money -&gt; 10.81, drives -&gt; 16.22, ipron -&gt; 2.7, adverb -&gt; 2.7, achiev -&gt; 2.7}                                                                                                                                                                                               |\n|{cogproc -&gt; 11.11, posemo -&gt; 11.11, social -&gt; 11.11, relativ -&gt; 11.11, conj -&gt; 11.11, affect -&gt; 11.11, verb -&gt; 11.11, space -&gt; 11.11, article -&gt; 11.11, focuspresent -&gt; 11.11, differ -&gt; 11.11, ppron -&gt; 11.11, pronoun -&gt; 11.11, auxverb -&gt; 11.11, discrep -&gt; 11.11, function -&gt; 44.44, prep -&gt; 11.11, tokens -&gt; null, assent -&gt; 11.11, informal -&gt; 11.11, you -&gt; 11.11, tentat -&gt; 11.11}                                                                                                                                                                                                                                                                                               |\n|{compare -&gt; 2.33, negemo -&gt; 2.33, posemo -&gt; 4.65, cogproc -&gt; 16.28, affect -&gt; 6.98, conj -&gt; 2.33, relativ -&gt; 18.6, bio -&gt; 2.33, cause -&gt; 2.33, percept -&gt; 4.65, body -&gt; 2.33, anger -&gt; 2.33, space -&gt; 11.63, see -&gt; 4.65, auxverb -&gt; 4.65, function -&gt; 34.88, prep -&gt; 20.93, tokens -&gt; null, tentat -&gt; 9.3, focusfuture -&gt; 2.33, motion -&gt; 4.65, social -&gt; 4.65, adj -&gt; 4.65, verb -&gt; 13.95, quant -&gt; 4.65, differ -&gt; 6.98, article -&gt; 4.65, focuspresent -&gt; 9.3, negate -&gt; 4.65, time -&gt; 2.33, informal -&gt; 2.33, swear -&gt; 2.33}                                                                                                                                                         |\n|{focusfuture -&gt; 4.35, cogproc -&gt; 26.09, social -&gt; 4.35, work -&gt; 4.35, conj -&gt; 8.7, relativ -&gt; 4.35, verb -&gt; 17.39, focuspresent -&gt; 4.35, differ -&gt; 4.35, space -&gt; 4.35, insight -&gt; 4.35, drives -&gt; 4.35, negate -&gt; 4.35, auxverb -&gt; 4.35, function -&gt; 30.43, discrep -&gt; 8.7, prep -&gt; 4.35, tokens -&gt; null, adverb -&gt; 8.7, certain -&gt; 4.35, achiev -&gt; 4.35, tentat -&gt; 4.35}                                                                                                                                                                                                                                                                                                               |\n|{tokens -&gt; null}                                                                                                                                                                                                                                                                                                                                                                                                                                                                                                                                                                                                                                                                         |\n|{posemo -&gt; 11.11, social -&gt; 11.11, affect -&gt; 11.11, verb -&gt; 11.11, i -&gt; 11.11, focuspresent -&gt; 11.11, ppron -&gt; 11.11, number -&gt; 11.11, drives -&gt; 11.11, pronoun -&gt; 11.11, auxverb -&gt; 11.11, function -&gt; 33.33, prep -&gt; 11.11, tokens -&gt; null, power -&gt; 11.11}                                                                                                                                                                                                                                                                                                                                                                                                                            |\n|{tokens -&gt; null}                                                                                                                                                                                                                                                                                                                                                                                                                                                                                                                                                                                                                                                                         |\n|{tokens -&gt; null}                                                                                                                                                                                                                                                                                                                                                                                                                                                                                                                                                                                                                                                                         |\n|{tokens -&gt; null}                                                                                                                                                                                                                                                                                                                                                                                                                                                                                                                                                                                                                                                                         |\n|{tokens -&gt; null}                                                                                                                                                                                                                                                                                                                                                                                                                                                                                                                                                                                                                                                                         |\n|{cogproc -&gt; 12.5, posemo -&gt; 6.25, motion -&gt; 6.25, social -&gt; 6.25, relativ -&gt; 6.25, affect -&gt; 6.25, work -&gt; 6.25, verb -&gt; 12.5, focuspresent -&gt; 6.25, article -&gt; 18.75, ppron -&gt; 6.25, money -&gt; 6.25, pronoun -&gt; 6.25, auxverb -&gt; 6.25, discrep -&gt; 6.25, function -&gt; 31.25, tokens -&gt; null, certain -&gt; 6.25, they -&gt; 6.25}                                                                                                                                                                                                                                                                                                                                                                |\n|{compare -&gt; 8.0, posemo -&gt; 4.0, negemo -&gt; 4.0, cogproc -&gt; 12.0, death -&gt; 4.0, affect -&gt; 8.0, cause -&gt; 4.0, ppron -&gt; 4.0, pronoun -&gt; 12.0, auxverb -&gt; 8.0, function -&gt; 40.0, prep -&gt; 12.0, tokens -&gt; null, power -&gt; 4.0, they -&gt; 4.0, reward -&gt; 4.0, social -&gt; 8.0, adj -&gt; 12.0, verb -&gt; 16.0, anx -&gt; 4.0, quant -&gt; 4.0, focuspresent -&gt; 8.0, article -&gt; 8.0, differ -&gt; 8.0, focuspast -&gt; 8.0, drives -&gt; 8.0, negate -&gt; 4.0, ipron -&gt; 8.0}                                                                                                                                                                                                                                                |\n|{compare -&gt; 2.5, posemo -&gt; 5.0, cogproc -&gt; 17.5, relativ -&gt; 7.5, conj -&gt; 5.0, affect -&gt; 5.0, cause -&gt; 2.5, percept -&gt; 5.0, space -&gt; 5.0, we -&gt; 2.5, ppron -&gt; 2.5, see -&gt; 5.0, affiliation -&gt; 2.5, pronoun -&gt; 5.0, auxverb -&gt; 15.0, function -&gt; 45.0, prep -&gt; 12.5, tokens -&gt; null, power -&gt; 2.5, reward -&gt; 5.0, focusfuture -&gt; 2.5, social -&gt; 2.5, adj -&gt; 7.5, verb -&gt; 20.0, differ -&gt; 2.5, article -&gt; 5.0, focuspresent -&gt; 17.5, insight -&gt; 2.5, drives -&gt; 12.5, ipron -&gt; 2.5, negate -&gt; 7.5, risk -&gt; 2.5, time -&gt; 2.5, adverb -&gt; 5.0, certain -&gt; 10.0, achiev -&gt; 2.5}                                                                                                                  |\n|{posemo -&gt; 5.26, negemo -&gt; 10.53, death -&gt; 5.26, motion -&gt; 5.26, social -&gt; 5.26, affect -&gt; 15.79, relativ -&gt; 15.79, shehe -&gt; 5.26, verb -&gt; 15.79, anger -&gt; 10.53, focuspresent -&gt; 5.26, article -&gt; 5.26, space -&gt; 10.53, ppron -&gt; 5.26, focuspast -&gt; 5.26, pronoun -&gt; 15.79, auxverb -&gt; 5.26, ipron -&gt; 10.53, function -&gt; 36.84, prep -&gt; 10.53, tokens -&gt; null, leisure -&gt; 5.26, male -&gt; 5.26}                                                                                                                                                                                                                                                                                           |\n|{cogproc -&gt; 4.26, relativ -&gt; 2.13, conj -&gt; 6.38, percept -&gt; 4.26, space -&gt; 2.13, ppron -&gt; 2.13, pronoun -&gt; 6.38, auxverb -&gt; 6.38, function -&gt; 36.17, prep -&gt; 2.13, tokens -&gt; null, power -&gt; 2.13, they -&gt; 2.13, hear -&gt; 4.26, social -&gt; 6.38, adj -&gt; 2.13, verb -&gt; 12.77, quant -&gt; 2.13, differ -&gt; 2.13, article -&gt; 17.02, focuspresent -&gt; 10.64, drives -&gt; 2.13, ipron -&gt; 4.26, negate -&gt; 2.13, certain -&gt; 2.13, achiev -&gt; 2.13}                                                                                                                                                                                                                                                        |\n|{cogproc -&gt; 8.33, social -&gt; 8.33, work -&gt; 8.33, shehe -&gt; 8.33, verb -&gt; 8.33, ppron -&gt; 8.33, pronoun -&gt; 8.33, drives -&gt; 8.33, auxverb -&gt; 8.33, discrep -&gt; 8.33, function -&gt; 16.67, tokens -&gt; null, power -&gt; 8.33, male -&gt; 8.33}                                                                                                                                                                                                                                                                                                                                                                                                                                                           |\n|{social -&gt; 5.88, conj -&gt; 5.88, relativ -&gt; 17.65, verb -&gt; 5.88, percept -&gt; 5.88, article -&gt; 5.88, space -&gt; 11.76, pronoun -&gt; 5.88, focuspast -&gt; 5.88, ipron -&gt; 5.88, function -&gt; 29.41, prep -&gt; 11.76, tokens -&gt; null, time -&gt; 5.88, hear -&gt; 5.88}                                                                                                                                                                                                                                                                                                                                                                                                                                        |\n|{posemo -&gt; 5.56, negemo -&gt; 1.85, cogproc -&gt; 7.41, affect -&gt; 7.41, conj -&gt; 5.56, relativ -&gt; 12.96, bio -&gt; 1.85, cause -&gt; 5.56, percept -&gt; 1.85, anger -&gt; 1.85, we -&gt; 3.7, space -&gt; 7.41, ppron -&gt; 11.11, interrog -&gt; 3.7, affiliation -&gt; 3.7, pronoun -&gt; 11.11, auxverb -&gt; 9.26, function -&gt; 40.74, prep -&gt; 7.41, tokens -&gt; null, hear -&gt; 1.85, they -&gt; 7.41, motion -&gt; 3.7, social -&gt; 16.67, adj -&gt; 3.7, verb -&gt; 12.96, health -&gt; 1.85, quant -&gt; 3.7, focuspresent -&gt; 11.11, article -&gt; 7.41, drives -&gt; 5.56, time -&gt; 5.56, adverb -&gt; 3.7, certain -&gt; 1.85, achiev -&gt; 1.85}                                                                                                              |\n|{relativ -&gt; 6.67, auxverb -&gt; 6.67, function -&gt; 13.33, verb -&gt; 6.67, prep -&gt; 6.67, tokens -&gt; null, space -&gt; 6.67, focuspresent -&gt; 6.67}                                                                                                                                                                                                                                                                                                                                                                                                                                                                                                                                                   |\n|{compare -&gt; 3.12, posemo -&gt; 3.12, cogproc -&gt; 6.25, conj -&gt; 3.12, affect -&gt; 3.12, relativ -&gt; 12.5, bio -&gt; 6.25, cause -&gt; 6.25, body -&gt; 3.12, space -&gt; 3.12, ppron -&gt; 9.38, pronoun -&gt; 9.38, affiliation -&gt; 3.12, function -&gt; 34.38, prep -&gt; 18.75, tokens -&gt; null, you -&gt; 9.38, motion -&gt; 3.12, social -&gt; 15.62, adj -&gt; 3.12, verb -&gt; 3.12, quant -&gt; 3.12, article -&gt; 3.12, focuspresent -&gt; 3.12, money -&gt; 6.25, drives -&gt; 3.12, time -&gt; 9.38, adverb -&gt; 3.12}                                                                                                                                                                                                                            |\n|{cogproc -&gt; 9.09, social -&gt; 9.09, relativ -&gt; 9.09, verb -&gt; 18.18, bio -&gt; 9.09, feel -&gt; 9.09, percept -&gt; 18.18, body -&gt; 9.09, space -&gt; 9.09, insight -&gt; 9.09, see -&gt; 9.09, drives -&gt; 9.09, focuspast -&gt; 9.09, function -&gt; 18.18, prep -&gt; 18.18, tokens -&gt; null, power -&gt; 9.09}                                                                                                                                                                                                                                                                                                                                                                                                            |\n|{prep -&gt; 6.67, tokens -&gt; null, relativ -&gt; 6.67, space -&gt; 6.67, function -&gt; 6.67}                                                                                                                                                                                                                                                                                                                                                                                                                                                                                                                                                                                                         |\n|{prep -&gt; 20.0, tokens -&gt; null, relativ -&gt; 13.33, space -&gt; 13.33, function -&gt; 20.0}                                                                                                                                                                                                                                                                                                                                                                                                                                                                                                                                                                                                       |\n|{cogproc -&gt; 14.71, conj -&gt; 2.94, cause -&gt; 2.94, percept -&gt; 5.88, see -&gt; 2.94, pronoun -&gt; 14.71, auxverb -&gt; 14.71, function -&gt; 44.12, prep -&gt; 2.94, tokens -&gt; null, hear -&gt; 2.94, reward -&gt; 2.94, social -&gt; 5.88, adj -&gt; 2.94, work -&gt; 2.94, verb -&gt; 17.65, article -&gt; 2.94, focuspresent -&gt; 14.71, insight -&gt; 8.82, drives -&gt; 2.94, focuspast -&gt; 2.94, negate -&gt; 2.94, ipron -&gt; 14.71, adverb -&gt; 5.88, certain -&gt; 5.88, achiev -&gt; 2.94}                                                                                                                                                                                                                                                  |\n|{negemo -&gt; 3.03, posemo -&gt; 6.06, cogproc -&gt; 9.09, relativ -&gt; 6.06, conj -&gt; 6.06, affect -&gt; 9.09, ppron -&gt; 15.15, interrog -&gt; 3.03, pronoun -&gt; 15.15, function -&gt; 33.33, prep -&gt; 6.06, tokens -&gt; null, reward -&gt; 6.06, social -&gt; 12.12, adj -&gt; 3.03, work -&gt; 3.03, shehe -&gt; 9.09, verb -&gt; 9.09, i -&gt; 6.06, quant -&gt; 3.03, article -&gt; 3.03, focuspresent -&gt; 3.03, insight -&gt; 3.03, money -&gt; 3.03, focuspast -&gt; 6.06, drives -&gt; 6.06, negate -&gt; 3.03, time -&gt; 6.06, adverb -&gt; 12.12, certain -&gt; 6.06, male -&gt; 9.09}                                                                                                                                                                         |\n\n*** WARNING: skipped 19372 bytes of output ***\n\n|{relativ -&gt; 6.67, work -&gt; 6.67, function -&gt; 6.67, prep -&gt; 6.67, tokens -&gt; null, space -&gt; 6.67}                                                                                                                                                                                                                                                                                                                                                                                                                                                                                                                                                                                           |\n|{prep -&gt; 16.67, tokens -&gt; null, function -&gt; 16.67}                                                                                                                                                                                                                                                                                                                                                                                                                                                                                                                                                                                                                                       |\n|{tokens -&gt; null, article -&gt; 9.09, function -&gt; 9.09}                                                                                                                                                                                                                                                                                                                                                                                                                                                                                                                                                                                                                                      |\n|{cogproc -&gt; 8.33, posemo -&gt; 8.33, social -&gt; 25.0, affect -&gt; 8.33, article -&gt; 8.33, insight -&gt; 8.33, negate -&gt; 8.33, function -&gt; 33.33, prep -&gt; 8.33, tokens -&gt; null, adverb -&gt; 8.33, female -&gt; 8.33, family -&gt; 8.33}                                                                                                                                                                                                                                                                                                                                                                                                                                                                     |\n|{compare -&gt; 1.85, negemo -&gt; 3.7, cogproc -&gt; 5.56, death -&gt; 1.85, affect -&gt; 3.7, conj -&gt; 3.7, relativ -&gt; 14.81, anger -&gt; 3.7, space -&gt; 9.26, ppron -&gt; 3.7, interrog -&gt; 1.85, pronoun -&gt; 3.7, auxverb -&gt; 3.7, function -&gt; 37.04, prep -&gt; 14.81, tokens -&gt; null, assent -&gt; 1.85, power -&gt; 1.85, you -&gt; 3.7, focusfuture -&gt; 3.7, motion -&gt; 5.56, social -&gt; 5.56, work -&gt; 1.85, adj -&gt; 1.85, verb -&gt; 11.11, quant -&gt; 7.41, article -&gt; 5.56, focuspresent -&gt; 5.56, insight -&gt; 1.85, drives -&gt; 1.85, focuspast -&gt; 1.85, negate -&gt; 1.85, time -&gt; 1.85, informal -&gt; 1.85, adverb -&gt; 5.56, certain -&gt; 3.7}                                                                                         |\n|{relig -&gt; 4.76, focusfuture -&gt; 4.76, motion -&gt; 9.52, relativ -&gt; 23.81, verb -&gt; 14.29, article -&gt; 4.76, space -&gt; 9.52, focuspresent -&gt; 9.52, pronoun -&gt; 9.52, drives -&gt; 4.76, ipron -&gt; 9.52, function -&gt; 38.1, prep -&gt; 19.05, tokens -&gt; null, time -&gt; 4.76, adverb -&gt; 4.76, achiev -&gt; 4.76}                                                                                                                                                                                                                                                                                                                                                                                               |\n|{compare -&gt; 1.82, negemo -&gt; 1.82, cogproc -&gt; 20.0, relativ -&gt; 7.27, conj -&gt; 3.64, affect -&gt; 1.82, cause -&gt; 1.82, percept -&gt; 1.82, space -&gt; 3.64, ppron -&gt; 18.18, see -&gt; 1.82, pronoun -&gt; 21.82, auxverb -&gt; 14.55, function -&gt; 56.36, prep -&gt; 9.09, tokens -&gt; null, power -&gt; 7.27, you -&gt; 12.73, tentat -&gt; 5.45, focusfuture -&gt; 7.27, social -&gt; 12.73, work -&gt; 3.64, adj -&gt; 3.64, verb -&gt; 18.18, i -&gt; 5.45, quant -&gt; 1.82, article -&gt; 1.82, focuspresent -&gt; 12.73, differ -&gt; 7.27, insight -&gt; 1.82, money -&gt; 1.82, drives -&gt; 12.73, focuspast -&gt; 1.82, ipron -&gt; 3.64, negate -&gt; 3.64, discrep -&gt; 1.82, risk -&gt; 1.82, time -&gt; 3.64, adverb -&gt; 1.82, certain -&gt; 1.82, achiev -&gt; 3.64}       |\n|{negemo -&gt; 6.67, cogproc -&gt; 6.67, affect -&gt; 6.67, relativ -&gt; 6.67, verb -&gt; 20.0, anger -&gt; 6.67, space -&gt; 6.67, article -&gt; 6.67, focuspresent -&gt; 6.67, drives -&gt; 6.67, focuspast -&gt; 6.67, auxverb -&gt; 6.67, function -&gt; 20.0, prep -&gt; 6.67, tokens -&gt; null, achiev -&gt; 6.67, tentat -&gt; 6.67}                                                                                                                                                                                                                                                                                                                                                                                                |\n|{motion -&gt; 6.67, social -&gt; 13.33, conj -&gt; 6.67, relativ -&gt; 13.33, verb -&gt; 6.67, space -&gt; 6.67, article -&gt; 6.67, focuspresent -&gt; 6.67, pronoun -&gt; 6.67, affiliation -&gt; 6.67, drives -&gt; 6.67, ipron -&gt; 6.67, function -&gt; 40.0, prep -&gt; 20.0, tokens -&gt; null}                                                                                                                                                                                                                                                                                                                                                                                                                               |\n|{cogproc -&gt; 20.0, relativ -&gt; 13.33, cause -&gt; 6.67, space -&gt; 6.67, we -&gt; 6.67, ppron -&gt; 13.33, interrog -&gt; 6.67, affiliation -&gt; 6.67, pronoun -&gt; 13.33, function -&gt; 46.67, prep -&gt; 20.0, tokens -&gt; null, female -&gt; 6.67, focusfuture -&gt; 6.67, motion -&gt; 6.67, social -&gt; 13.33, work -&gt; 6.67, shehe -&gt; 6.67, verb -&gt; 20.0, article -&gt; 6.67, focuspresent -&gt; 13.33, insight -&gt; 6.67, money -&gt; 6.67, drives -&gt; 6.67, discrep -&gt; 6.67, adverb -&gt; 6.67}                                                                                                                                                                                                                                        |\n|{relig -&gt; 4.35, cogproc -&gt; 10.87, posemo -&gt; 2.17, conj -&gt; 6.52, relativ -&gt; 8.7, affect -&gt; 2.17, bio -&gt; 2.17, space -&gt; 6.52, interrog -&gt; 2.17, pronoun -&gt; 6.52, affiliation -&gt; 2.17, auxverb -&gt; 10.87, function -&gt; 43.48, prep -&gt; 6.52, tokens -&gt; null, power -&gt; 4.35, focusfuture -&gt; 2.17, motion -&gt; 2.17, social -&gt; 2.17, work -&gt; 2.17, adj -&gt; 2.17, verb -&gt; 17.39, quant -&gt; 2.17, article -&gt; 8.7, differ -&gt; 6.52, focuspresent -&gt; 8.7, insight -&gt; 4.35, focuspast -&gt; 2.17, drives -&gt; 6.52, negate -&gt; 2.17, ipron -&gt; 6.52, discrep -&gt; 2.17, adverb -&gt; 2.17}                                                                                                                             |\n|{cogproc -&gt; 16.67, posemo -&gt; 5.56, relativ -&gt; 11.11, affect -&gt; 5.56, conj -&gt; 5.56, ppron -&gt; 5.56, pronoun -&gt; 16.67, auxverb -&gt; 5.56, function -&gt; 50.0, prep -&gt; 11.11, tokens -&gt; null, you -&gt; 5.56, tentat -&gt; 5.56, social -&gt; 16.67, verb -&gt; 11.11, focuspresent -&gt; 5.56, insight -&gt; 5.56, focuspast -&gt; 5.56, drives -&gt; 5.56, ipron -&gt; 11.11, time -&gt; 11.11, adverb -&gt; 16.67, certain -&gt; 5.56, achiev -&gt; 5.56}                                                                                                                                                                                                                                                                            |\n|{cogproc -&gt; 7.69, relativ -&gt; 15.38, verb -&gt; 7.69, quant -&gt; 7.69, space -&gt; 7.69, pronoun -&gt; 7.69, focuspast -&gt; 7.69, ipron -&gt; 7.69, auxverb -&gt; 7.69, function -&gt; 23.08, prep -&gt; 7.69, tokens -&gt; null, time -&gt; 7.69, certain -&gt; 7.69}                                                                                                                                                                                                                                                                                                                                                                                                                                                      |\n|{negemo -&gt; 2.63, cogproc -&gt; 7.89, death -&gt; 2.63, netspeak -&gt; 5.26, affect -&gt; 2.63, relativ -&gt; 7.89, anger -&gt; 2.63, space -&gt; 2.63, pronoun -&gt; 2.63, affiliation -&gt; 5.26, auxverb -&gt; 10.53, function -&gt; 31.58, prep -&gt; 10.53, tokens -&gt; null, leisure -&gt; 2.63, tentat -&gt; 2.63, reward -&gt; 2.63, focusfuture -&gt; 2.63, social -&gt; 5.26, verb -&gt; 21.05, quant -&gt; 2.63, focuspresent -&gt; 13.16, article -&gt; 5.26, drives -&gt; 7.89, focuspast -&gt; 5.26, ipron -&gt; 2.63, discrep -&gt; 5.26, time -&gt; 5.26, informal -&gt; 5.26, adverb -&gt; 2.63}                                                                                                                                                               |\n|{prep -&gt; 7.69, tokens -&gt; null, relativ -&gt; 7.69, space -&gt; 7.69, function -&gt; 7.69}                                                                                                                                                                                                                                                                                                                                                                                                                                                                                                                                                                                                         |\n|{posemo -&gt; 8.33, affiliation -&gt; 8.33, drives -&gt; 8.33, social -&gt; 8.33, affect -&gt; 8.33, auxverb -&gt; 8.33, function -&gt; 25.0, prep -&gt; 8.33, tokens -&gt; null, article -&gt; 8.33, focuspresent -&gt; 16.67}                                                                                                                                                                                                                                                                                                                                                                                                                                                                                           |\n|{focusfuture -&gt; 4.0, cogproc -&gt; 4.0, netspeak -&gt; 4.0, motion -&gt; 4.0, social -&gt; 8.0, relativ -&gt; 4.0, verb -&gt; 20.0, percept -&gt; 8.0, article -&gt; 4.0, focuspresent -&gt; 8.0, insight -&gt; 4.0, focuspast -&gt; 8.0, pronoun -&gt; 4.0, negate -&gt; 4.0, auxverb -&gt; 8.0, ipron -&gt; 4.0, function -&gt; 28.0, prep -&gt; 8.0, tokens -&gt; null, adverb -&gt; 4.0, informal -&gt; 4.0, hear -&gt; 8.0}                                                                                                                                                                                                                                                                                                                        |\n|{reward -&gt; 4.35, focusfuture -&gt; 4.35, compare -&gt; 4.35, negemo -&gt; 4.35, relativ -&gt; 4.35, affect -&gt; 4.35, adj -&gt; 8.7, conj -&gt; 4.35, verb -&gt; 8.7, percept -&gt; 4.35, space -&gt; 4.35, see -&gt; 4.35, money -&gt; 4.35, focuspast -&gt; 4.35, drives -&gt; 8.7, auxverb -&gt; 4.35, function -&gt; 17.39, prep -&gt; 13.04, tokens -&gt; null, power -&gt; 4.35, leisure -&gt; 4.35}                                                                                                                                                                                                                                                                                                                                          |\n|{compare -&gt; 12.5, social -&gt; 12.5, verb -&gt; 25.0, focuspresent -&gt; 25.0, ppron -&gt; 12.5, pronoun -&gt; 12.5, negate -&gt; 12.5, auxverb -&gt; 25.0, function -&gt; 50.0, prep -&gt; 12.5, tokens -&gt; null, they -&gt; 12.5}                                                                                                                                                                                                                                                                                                                                                                                                                                                                                     |\n|{compare -&gt; 3.03, posemo -&gt; 3.03, cogproc -&gt; 3.03, negemo -&gt; 3.03, relativ -&gt; 6.06, affect -&gt; 6.06, cause -&gt; 3.03, ppron -&gt; 3.03, interrog -&gt; 3.03, number -&gt; 6.06, pronoun -&gt; 6.06, auxverb -&gt; 3.03, sad -&gt; 3.03, function -&gt; 30.3, prep -&gt; 12.12, tokens -&gt; null, power -&gt; 3.03, social -&gt; 3.03, adj -&gt; 6.06, verb -&gt; 6.06, i -&gt; 3.03, focuspresent -&gt; 6.06, article -&gt; 9.09, insight -&gt; 3.03, drives -&gt; 3.03, ipron -&gt; 3.03, time -&gt; 6.06}                                                                                                                                                                                                                                            |\n|{auxverb -&gt; 16.67, function -&gt; 33.33, verb -&gt; 16.67, prep -&gt; 16.67, tokens -&gt; null, adverb -&gt; 16.67, focuspresent -&gt; 16.67}                                                                                                                                                                                                                                                                                                                                                                                                                                                                                                                                                              |\n|{cogproc -&gt; 6.25, affiliation -&gt; 6.25, drives -&gt; 6.25, social -&gt; 6.25, relativ -&gt; 6.25, work -&gt; 6.25, function -&gt; 18.75, prep -&gt; 18.75, tokens -&gt; null, space -&gt; 6.25, differ -&gt; 6.25}                                                                                                                                                                                                                                                                                                                                                                                                                                                                                                   |\n|{social -&gt; 6.25, work -&gt; 6.25, relativ -&gt; 6.25, verb -&gt; 6.25, bio -&gt; 6.25, focuspresent -&gt; 6.25, space -&gt; 6.25, article -&gt; 6.25, money -&gt; 6.25, drives -&gt; 6.25, auxverb -&gt; 6.25, function -&gt; 31.25, prep -&gt; 18.75, tokens -&gt; null, power -&gt; 6.25, informal -&gt; 6.25, swear -&gt; 6.25, sexual -&gt; 6.25}                                                                                                                                                                                                                                                                                                                                                                                       |\n|{compare -&gt; 4.35, cogproc -&gt; 10.87, relativ -&gt; 4.35, conj -&gt; 6.52, cause -&gt; 2.17, ppron -&gt; 2.17, pronoun -&gt; 4.35, auxverb -&gt; 8.7, function -&gt; 39.13, prep -&gt; 4.35, tokens -&gt; null, they -&gt; 2.17, social -&gt; 8.7, adj -&gt; 4.35, verb -&gt; 8.7, quant -&gt; 2.17, differ -&gt; 4.35, article -&gt; 8.7, focuspresent -&gt; 10.87, insight -&gt; 2.17, focuspast -&gt; 2.17, negate -&gt; 2.17, ipron -&gt; 2.17, time -&gt; 4.35, adverb -&gt; 6.52, certain -&gt; 2.17}                                                                                                                                                                                                                                                        |\n|{tokens -&gt; null}                                                                                                                                                                                                                                                                                                                                                                                                                                                                                                                                                                                                                                                                         |\n|{social -&gt; 6.67, relativ -&gt; 26.67, work -&gt; 6.67, verb -&gt; 6.67, percept -&gt; 6.67, space -&gt; 20.0, article -&gt; 13.33, focuspresent -&gt; 6.67, see -&gt; 6.67, affiliation -&gt; 6.67, drives -&gt; 6.67, function -&gt; 40.0, prep -&gt; 20.0, tokens -&gt; null, time -&gt; 6.67, adverb -&gt; 6.67, leisure -&gt; 6.67, achiev -&gt; 6.67}                                                                                                                                                                                                                                                                                                                                                                                  |\n|{prep -&gt; 9.09, tokens -&gt; null, relativ -&gt; 9.09, space -&gt; 9.09, function -&gt; 9.09}                                                                                                                                                                                                                                                                                                                                                                                                                                                                                                                                                                                                         |\n|{posemo -&gt; 7.69, cogproc -&gt; 7.69, work -&gt; 7.69, relativ -&gt; 7.69, affect -&gt; 7.69, adj -&gt; 7.69, verb -&gt; 7.69, space -&gt; 7.69, focuspresent -&gt; 7.69, differ -&gt; 7.69, auxverb -&gt; 7.69, negate -&gt; 7.69, function -&gt; 38.46, prep -&gt; 23.08, tokens -&gt; null}                                                                                                                                                                                                                                                                                                                                                                                                                                      |\n|{reward -&gt; 5.26, compare -&gt; 5.26, posemo -&gt; 5.26, adj -&gt; 5.26, conj -&gt; 5.26, relativ -&gt; 26.32, affect -&gt; 5.26, verb -&gt; 5.26, article -&gt; 5.26, focuspresent -&gt; 5.26, space -&gt; 10.53, drives -&gt; 5.26, function -&gt; 36.84, prep -&gt; 21.05, tokens -&gt; null, time -&gt; 15.79, power -&gt; 5.26, adverb -&gt; 10.53, achiev -&gt; 5.26}                                                                                                                                                                                                                                                                                                                                                                     |\n|{cogproc -&gt; 12.0, negemo -&gt; 8.0, death -&gt; 4.0, conj -&gt; 4.0, affect -&gt; 8.0, relativ -&gt; 12.0, anger -&gt; 4.0, pronoun -&gt; 4.0, auxverb -&gt; 8.0, sad -&gt; 4.0, function -&gt; 40.0, prep -&gt; 8.0, tokens -&gt; null, power -&gt; 4.0, tentat -&gt; 4.0, reward -&gt; 4.0, verb -&gt; 20.0, differ -&gt; 8.0, article -&gt; 8.0, focuspresent -&gt; 12.0, focuspast -&gt; 4.0, drives -&gt; 24.0, negate -&gt; 4.0, ipron -&gt; 4.0, discrep -&gt; 4.0, risk -&gt; 8.0, time -&gt; 12.0, adverb -&gt; 4.0, achiev -&gt; 8.0}                                                                                                                                                                                                                              |\n|{negemo -&gt; 8.33, posemo -&gt; 8.33, social -&gt; 16.67, affect -&gt; 16.67, anx -&gt; 8.33, article -&gt; 16.67, pronoun -&gt; 8.33, affiliation -&gt; 8.33, drives -&gt; 16.67, ipron -&gt; 8.33, function -&gt; 25.0, tokens -&gt; null, leisure -&gt; 8.33, achiev -&gt; 8.33}                                                                                                                                                                                                                                                                                                                                                                                                                                               |\n|{relig -&gt; 4.0, death -&gt; 4.0, social -&gt; 4.0, relativ -&gt; 8.0, conj -&gt; 4.0, percept -&gt; 4.0, space -&gt; 4.0, article -&gt; 12.0, ppron -&gt; 4.0, affiliation -&gt; 4.0, pronoun -&gt; 4.0, drives -&gt; 8.0, function -&gt; 40.0, prep -&gt; 16.0, tokens -&gt; null, time -&gt; 4.0, power -&gt; 4.0, adverb -&gt; 4.0, leisure -&gt; 4.0, hear -&gt; 4.0, they -&gt; 4.0, achiev -&gt; 4.0}                                                                                                                                                                                                                                                                                                                                              |\n|{negemo -&gt; 4.55, cogproc -&gt; 4.55, posemo -&gt; 6.82, relativ -&gt; 13.64, conj -&gt; 6.82, affect -&gt; 11.36, bio -&gt; 2.27, space -&gt; 9.09, ppron -&gt; 2.27, interrog -&gt; 4.55, affiliation -&gt; 2.27, pronoun -&gt; 6.82, auxverb -&gt; 9.09, function -&gt; 47.73, prep -&gt; 18.18, tokens -&gt; null, power -&gt; 9.09, they -&gt; 2.27, tentat -&gt; 4.55, motion -&gt; 2.27, social -&gt; 6.82, work -&gt; 4.55, verb -&gt; 15.91, differ -&gt; 2.27, article -&gt; 4.55, focuspresent -&gt; 9.09, focuspast -&gt; 6.82, drives -&gt; 11.36, ipron -&gt; 4.55, time -&gt; 2.27, adverb -&gt; 4.55, sexual -&gt; 2.27}                                                                                                                                               |\n|{negemo -&gt; 4.55, cogproc -&gt; 4.55, posemo -&gt; 6.82, relativ -&gt; 13.64, conj -&gt; 6.82, affect -&gt; 11.36, bio -&gt; 2.27, space -&gt; 9.09, ppron -&gt; 2.27, interrog -&gt; 4.55, affiliation -&gt; 2.27, pronoun -&gt; 6.82, auxverb -&gt; 9.09, function -&gt; 47.73, prep -&gt; 18.18, tokens -&gt; null, power -&gt; 9.09, they -&gt; 2.27, tentat -&gt; 4.55, motion -&gt; 2.27, social -&gt; 6.82, work -&gt; 4.55, verb -&gt; 15.91, differ -&gt; 2.27, article -&gt; 4.55, focuspresent -&gt; 9.09, focuspast -&gt; 6.82, drives -&gt; 11.36, ipron -&gt; 4.55, time -&gt; 2.27, adverb -&gt; 4.55, sexual -&gt; 2.27}                                                                                                                                               |\n|{compare -&gt; 1.85, posemo -&gt; 1.85, negemo -&gt; 1.85, cogproc -&gt; 11.11, conj -&gt; 3.7, affect -&gt; 3.7, relativ -&gt; 9.26, cause -&gt; 1.85, space -&gt; 3.7, ppron -&gt; 1.85, interrog -&gt; 1.85, pronoun -&gt; 7.41, auxverb -&gt; 5.56, function -&gt; 35.19, prep -&gt; 11.11, tokens -&gt; null, power -&gt; 3.7, reward -&gt; 1.85, motion -&gt; 1.85, social -&gt; 1.85, adj -&gt; 3.7, work -&gt; 5.56, verb -&gt; 11.11, i -&gt; 1.85, quant -&gt; 5.56, focuspresent -&gt; 7.41, article -&gt; 3.7, differ -&gt; 3.7, insight -&gt; 1.85, focuspast -&gt; 3.7, drives -&gt; 5.56, negate -&gt; 1.85, ipron -&gt; 5.56, discrep -&gt; 1.85, time -&gt; 3.7, adverb -&gt; 3.7, certain -&gt; 1.85, achiev -&gt; 1.85}                                                                 |\n|{compare -&gt; 9.52, negemo -&gt; 9.52, cogproc -&gt; 19.05, relativ -&gt; 4.76, affect -&gt; 9.52, conj -&gt; 9.52, cause -&gt; 4.76, percept -&gt; 4.76, space -&gt; 4.76, ppron -&gt; 9.52, interrog -&gt; 4.76, pronoun -&gt; 9.52, auxverb -&gt; 9.52, sad -&gt; 4.76, function -&gt; 38.1, prep -&gt; 4.76, tokens -&gt; null, power -&gt; 4.76, you -&gt; 9.52, tentat -&gt; 4.76, social -&gt; 9.52, adj -&gt; 9.52, verb -&gt; 9.52, anx -&gt; 4.76, differ -&gt; 9.52, article -&gt; 4.76, focuspresent -&gt; 14.29, insight -&gt; 4.76, drives -&gt; 4.76, discrep -&gt; 4.76, adverb -&gt; 4.76}                                                                                                                                                                          |\n+-----------------------------------------------------------------------------------------------------------------------------------------------------------------------------------------------------------------------------------------------------------------------------------------------------------------------------------------------------------------------------------------------------------------------------------------------------------------------------------------------------------------------------------------------------------------------------------------------------------------------------------------------------------------------------------------+\nonly showing top 100 rows\n\n</div>",
       "datasetInfos": [],
       "metadata": {},
       "removedWidgets": [],
       "type": "html"
      }
     },
     "output_type": "display_data"
    }
   ],
   "source": [
    "data_output.select('liwc_sentiment').show(100, False)"
   ]
  },
  {
   "cell_type": "code",
   "execution_count": 0,
   "metadata": {
    "application/vnd.databricks.v1+cell": {
     "inputWidgets": {},
     "nuid": "f51b3c53-0ba1-4bb0-ac6c-367cdf38c379",
     "showTitle": false,
     "title": ""
    }
   },
   "outputs": [],
   "source": []
  }
 ],
 "metadata": {
  "application/vnd.databricks.v1+notebook": {
   "dashboards": [],
   "language": "python",
   "notebookMetadata": {
    "pythonIndentUnit": 2
   },
   "notebookName": "Master Pipeline: Sentiment Analysis",
   "notebookOrigID": 2443711113281886,
   "widgets": {}
  },
  "kernelspec": {
   "display_name": "Python 3",
   "language": "python",
   "name": "python3"
  },
  "language_info": {
   "codemirror_mode": {
    "name": "ipython",
    "version": 3
   },
   "file_extension": ".py",
   "mimetype": "text/x-python",
   "name": "python",
   "nbconvert_exporter": "python",
   "pygments_lexer": "ipython3",
   "version": "3.8.2"
  }
 },
 "nbformat": 4,
 "nbformat_minor": 1
}
