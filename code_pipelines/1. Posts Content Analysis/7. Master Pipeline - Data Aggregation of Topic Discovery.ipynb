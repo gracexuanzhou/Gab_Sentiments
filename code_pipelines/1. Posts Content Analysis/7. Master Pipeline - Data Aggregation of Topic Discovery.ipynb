{
 "cells": [
  {
   "cell_type": "code",
   "execution_count": null,
   "metadata": {},
   "outputs": [],
   "source": [
    "#\n",
    "# Same as Pipeline 4. but with Topic Discovery results\n",
    "#"
   ]
  },
  {
   "cell_type": "code",
   "execution_count": 0,
   "metadata": {
    "application/vnd.databricks.v1+cell": {
     "inputWidgets": {},
     "nuid": "417a03c2-0587-47e6-ac29-58d0dd5c969d",
     "showTitle": false,
     "title": ""
    }
   },
   "outputs": [
    {
     "data": {
      "text/html": [
       "<style scoped>\n",
       "  .ansiout {\n",
       "    display: block;\n",
       "    unicode-bidi: embed;\n",
       "    white-space: pre-wrap;\n",
       "    word-wrap: break-word;\n",
       "    word-break: break-all;\n",
       "    font-family: \"Source Code Pro\", \"Menlo\", monospace;;\n",
       "    font-size: 13px;\n",
       "    color: #555;\n",
       "    margin-left: 4px;\n",
       "    line-height: 19px;\n",
       "  }\n",
       "</style>\n",
       "<div class=\"ansiout\">Python interpreter will be restarted.\n",
       "Collecting nltk\n",
       "  Using cached nltk-3.6.5-py3-none-any.whl (1.5 MB)\n",
       "Collecting tqdm\n",
       "  Using cached tqdm-4.62.3-py2.py3-none-any.whl (76 kB)\n",
       "Collecting click\n",
       "  Using cached click-8.0.3-py3-none-any.whl (97 kB)\n",
       "Collecting regex&gt;=2021.8.3\n",
       "  Using cached regex-2021.10.23-cp38-cp38-manylinux_2_17_x86_64.manylinux2014_x86_64.whl (764 kB)\n",
       "Requirement already satisfied: joblib in /databricks/python3/lib/python3.8/site-packages (from nltk) (1.0.1)\n",
       "Installing collected packages: tqdm, regex, click, nltk\n",
       "Successfully installed click-8.0.3 nltk-3.6.5 regex-2021.10.23 tqdm-4.62.3\n",
       "WARNING: You are using pip version 21.0.1; however, version 21.3.1 is available.\n",
       "You should consider upgrading via the &#39;/local_disk0/.ephemeral_nfs/envs/pythonEnv-4378a5c0-60c7-460a-adb4-57ebaea5b786/bin/python -m pip install --upgrade pip&#39; command.\n",
       "Python interpreter will be restarted.\n",
       "</div>"
      ]
     },
     "metadata": {
      "application/vnd.databricks.v1+output": {
       "addedWidgets": {},
       "arguments": {},
       "data": "<div class=\"ansiout\">Python interpreter will be restarted.\nCollecting nltk\n  Using cached nltk-3.6.5-py3-none-any.whl (1.5 MB)\nCollecting tqdm\n  Using cached tqdm-4.62.3-py2.py3-none-any.whl (76 kB)\nCollecting click\n  Using cached click-8.0.3-py3-none-any.whl (97 kB)\nCollecting regex&gt;=2021.8.3\n  Using cached regex-2021.10.23-cp38-cp38-manylinux_2_17_x86_64.manylinux2014_x86_64.whl (764 kB)\nRequirement already satisfied: joblib in /databricks/python3/lib/python3.8/site-packages (from nltk) (1.0.1)\nInstalling collected packages: tqdm, regex, click, nltk\nSuccessfully installed click-8.0.3 nltk-3.6.5 regex-2021.10.23 tqdm-4.62.3\nWARNING: You are using pip version 21.0.1; however, version 21.3.1 is available.\nYou should consider upgrading via the &#39;/local_disk0/.ephemeral_nfs/envs/pythonEnv-4378a5c0-60c7-460a-adb4-57ebaea5b786/bin/python -m pip install --upgrade pip&#39; command.\nPython interpreter will be restarted.\n</div>",
       "datasetInfos": [],
       "metadata": {},
       "removedWidgets": [],
       "type": "html"
      }
     },
     "output_type": "display_data"
    }
   ],
   "source": [
    "%pip install nltk"
   ]
  },
  {
   "cell_type": "code",
   "execution_count": 0,
   "metadata": {
    "application/vnd.databricks.v1+cell": {
     "inputWidgets": {},
     "nuid": "9acd57fd-0fcd-4703-a65e-0e7bfc125620",
     "showTitle": false,
     "title": ""
    }
   },
   "outputs": [
    {
     "data": {
      "text/html": [
       "<style scoped>\n",
       "  .ansiout {\n",
       "    display: block;\n",
       "    unicode-bidi: embed;\n",
       "    white-space: pre-wrap;\n",
       "    word-wrap: break-word;\n",
       "    word-break: break-all;\n",
       "    font-family: \"Source Code Pro\", \"Menlo\", monospace;;\n",
       "    font-size: 13px;\n",
       "    color: #555;\n",
       "    margin-left: 4px;\n",
       "    line-height: 19px;\n",
       "  }\n",
       "</style>\n",
       "<div class=\"ansiout\">[nltk_data] Downloading package stopwords to /root/nltk_data...\n",
       "[nltk_data]   Package stopwords is already up-to-date!\n",
       "</div>"
      ]
     },
     "metadata": {
      "application/vnd.databricks.v1+output": {
       "addedWidgets": {},
       "arguments": {},
       "data": "<div class=\"ansiout\">[nltk_data] Downloading package stopwords to /root/nltk_data...\n[nltk_data]   Package stopwords is already up-to-date!\n</div>",
       "datasetInfos": [],
       "metadata": {},
       "removedWidgets": [],
       "type": "html"
      }
     },
     "output_type": "display_data"
    }
   ],
   "source": [
    "from pyspark.sql import functions as F\n",
    "from pyspark.sql.types import *\n",
    "from pyspark.sql.window import *\n",
    "from itertools import islice\n",
    "import requests\n",
    "import nltk\n",
    "import re\n",
    "nltk.download('stopwords')\n",
    "from nltk.corpus import stopwords\n",
    "StopWords = stopwords.words(\"english\")\n",
    "\n",
    "stopwords_list = requests.get(\"https://gist.githubusercontent.com/rg089/35e00abf8941d72d419224cfd5b5925d/raw/12d899b70156fd0041fa9778d657330b024b959c/stopwords.txt\").content\n",
    "stopwords_2 = set(stopwords_list.decode().splitlines()) "
   ]
  },
  {
   "cell_type": "code",
   "execution_count": 0,
   "metadata": {
    "application/vnd.databricks.v1+cell": {
     "inputWidgets": {},
     "nuid": "fe482e69-4596-435b-bbdd-36a18e11bb47",
     "showTitle": false,
     "title": ""
    }
   },
   "outputs": [
    {
     "data": {
      "text/html": [
       "<style scoped>\n",
       "  .ansiout {\n",
       "    display: block;\n",
       "    unicode-bidi: embed;\n",
       "    white-space: pre-wrap;\n",
       "    word-wrap: break-word;\n",
       "    word-break: break-all;\n",
       "    font-family: \"Source Code Pro\", \"Menlo\", monospace;;\n",
       "    font-size: 13px;\n",
       "    color: #555;\n",
       "    margin-left: 4px;\n",
       "    line-height: 19px;\n",
       "  }\n",
       "</style>\n",
       "<div class=\"ansiout\"></div>"
      ]
     },
     "metadata": {
      "application/vnd.databricks.v1+output": {
       "addedWidgets": {},
       "arguments": {},
       "data": "<div class=\"ansiout\"></div>",
       "datasetInfos": [],
       "metadata": {},
       "removedWidgets": [],
       "type": "html"
      }
     },
     "output_type": "display_data"
    }
   ],
   "source": [
    "def stop_words_filter(x):\n",
    "    return (~x.isin(StopWords)) & (~x.isin(stopwords_2)) & (x.isNotNull()) & (F.length(x) > 2)\n",
    "\n",
    "def clean_body(x):\n",
    "    punc='!\"#$%&\\()*+,-./:;<=>?@[\\\\]^_`{|}~'\n",
    "    cleaned = x.lower()\n",
    "    cleaned = re.sub(r'https?:\\/\\/.*[\\r\\n]*', '', cleaned, flags=re.MULTILINE)\n",
    "    cleaned = re.sub(r'[u|a]\\d+.*', '', cleaned, flags=re.MULTILINE) # remove special line break characters\n",
    "        for ch in punc:\n",
    "            cleaned = cleaned.replace(ch, '')\n",
    "    return cleaned\n",
    "\n",
    "def take(n, iterable):\n",
    "    \"Return first n items of the iterable as a list\"\n",
    "    return list(islice(iterable, n))\n",
    "\n",
    "def word_count_agg(token_lists):\n",
    "    word_count = {}\n",
    "    for token_list in token_lists:\n",
    "        for token in token_list:\n",
    "            if token not in word_count:\n",
    "                word_count[token] = 0\n",
    "            word_count[token] += 1\n",
    "    sorted_word_count = dict(sorted(word_count.items(), key=lambda item: item[1], reverse=True))\n",
    "    n_items = take(50, sorted_word_count.items()) #Top 50\n",
    "    return dict(n_items)\n",
    "\n",
    "udf_word_count_agg = F.udf(word_count_agg , MapType(StringType(), IntegerType()))\n",
    "clean_body_udf = F.udf(clean_body , StringType())\n"
   ]
  },
  {
   "cell_type": "code",
   "execution_count": 0,
   "metadata": {
    "application/vnd.databricks.v1+cell": {
     "inputWidgets": {},
     "nuid": "51e3ec31-d2e2-4be9-8bf1-1af567421317",
     "showTitle": false,
     "title": ""
    }
   },
   "outputs": [
    {
     "data": {
      "text/html": [
       "<style scoped>\n",
       "  .ansiout {\n",
       "    display: block;\n",
       "    unicode-bidi: embed;\n",
       "    white-space: pre-wrap;\n",
       "    word-wrap: break-word;\n",
       "    word-break: break-all;\n",
       "    font-family: \"Source Code Pro\", \"Menlo\", monospace;;\n",
       "    font-size: 13px;\n",
       "    color: #555;\n",
       "    margin-left: 4px;\n",
       "    line-height: 19px;\n",
       "  }\n",
       "</style>\n",
       "<div class=\"ansiout\"></div>"
      ]
     },
     "metadata": {
      "application/vnd.databricks.v1+output": {
       "addedWidgets": {},
       "arguments": {},
       "data": "<div class=\"ansiout\"></div>",
       "datasetInfos": [],
       "metadata": {},
       "removedWidgets": [],
       "type": "html"
      }
     },
     "output_type": "display_data"
    }
   ],
   "source": [
    "data_output = spark.read.option(\"header\",\"true\").parquet(\"dbfs:/mnt/group12/topic_discovery/\")\n",
    "data_chunk_tokens = data_output.withColumn('cleaned_body', clean_body_udf(F.col('body')))\n",
    "data_chunk_tokens = data_chunk_tokens.withColumn('tokens', F.filter(F.split(F.col('cleaned_body'), ' '), stop_words_filter))"
   ]
  },
  {
   "cell_type": "code",
   "execution_count": 0,
   "metadata": {
    "application/vnd.databricks.v1+cell": {
     "inputWidgets": {},
     "nuid": "39276e1f-c2a0-46c3-bdb3-b2f8bd37cac2",
     "showTitle": false,
     "title": ""
    }
   },
   "outputs": [
    {
     "data": {
      "text/html": [
       "<style scoped>\n",
       "  .ansiout {\n",
       "    display: block;\n",
       "    unicode-bidi: embed;\n",
       "    white-space: pre-wrap;\n",
       "    word-wrap: break-word;\n",
       "    word-break: break-all;\n",
       "    font-family: \"Source Code Pro\", \"Menlo\", monospace;;\n",
       "    font-size: 13px;\n",
       "    color: #555;\n",
       "    margin-left: 4px;\n",
       "    line-height: 19px;\n",
       "  }\n",
       "</style>\n",
       "<div class=\"ansiout\"></div>"
      ]
     },
     "metadata": {
      "application/vnd.databricks.v1+output": {
       "addedWidgets": {},
       "arguments": {},
       "data": "<div class=\"ansiout\"></div>",
       "datasetInfos": [],
       "metadata": {},
       "removedWidgets": [],
       "type": "html"
      }
     },
     "output_type": "display_data"
    }
   ],
   "source": [
    "data_grouped = data_chunk_tokens.orderBy(F.col('message_topic_weight').desc()).groupby(\"created_at_month\", \"topic_discovery_unique_id\").agg(\n",
    "    F.count(\"id\").alias(\"number_of_messages\"),\n",
    "\tF.sum(\"like_count\").alias(\"likes_total\"), \n",
    "\tF.avg(\"like_count\").alias(\"average_likes\"),  \n",
    "\tF.sum(\"dislike_count\").alias(\"dislike_total\"), \n",
    "\tF.avg(\"dislike_count\").alias(\"average_dislike\"),\n",
    "\tF.sum(\"score\").alias(\"score_total\"), \n",
    "    F.avg(\"score\").alias(\"average_score\"), \n",
    "\tF.avg(\"vader_sentiment\").alias(\"avg_vader_sentiment\"), \n",
    "    F.first(F.col(\"topic_discovery_title\")).alias(\"topic_discovery_title\"),\n",
    "    F.first(F.col(\"topic_desc\")).alias(\"topic_desc\"),\n",
    "    F.first(F.col(\"topic_discovery_id\")).alias(\"topic_discovery_id\"),\n",
    "    #F.slice(F.collect_list(F.col(\"message_topic_weight\")), 1, 20).alias('message_topic_weight')\n",
    "    F.create_map(\n",
    "        F.lit('negative_emotions'), F.avg(\"liwc_sentiment.negemo\"),\n",
    "        F.lit('positive_emotions'), F.avg(\"liwc_sentiment.posemo\"),\n",
    "        F.lit('anger'), F.avg(\"liwc_sentiment.anger\"), \n",
    "        F.lit('sad'), F.avg(\"liwc_sentiment.sad\"), \n",
    "        F.lit('money'), F.avg(\"liwc_sentiment.money\"),\t\n",
    "        F.lit('health'), F.avg(\"liwc_sentiment.health\"), \n",
    "        F.lit('social'), F.avg(\"liwc_sentiment.social\"),\n",
    "        F.lit('anxiety'), F.avg(\"liwc_sentiment.anx\"), \n",
    "        F.lit('humans'), F.avg(\"liwc_sentiment.friends\"), \n",
    "        F.lit('family'), F.avg(\"liwc_sentiment.family\"), \n",
    "        F.lit('friends'), F.avg(\"liwc_sentiment.friends\"), \n",
    "        F.lit('focusfuture'), F.avg(\"liwc_sentiment.focusfuture\"), \n",
    "        F.lit('focuspast'), F.avg(\"liwc_sentiment.focuspast\"), \n",
    "        F.lit('focuspresent'), F.avg(\"liwc_sentiment.focuspresent\"), \n",
    "        F.lit('work'), F.avg(\"liwc_sentiment.work\"),\n",
    "        F.lit('drives'), F.avg(\"liwc_sentiment.drives\"), \n",
    "        F.lit('discrepancies'), F.avg(\"liwc_sentiment.discrep\"),\n",
    "        F.lit('time'), F.avg(\"liwc_sentiment.time\"), \n",
    "        F.lit('leisure'), F.avg(\"liwc_sentiment.leisure\"),\n",
    "        F.lit('death'), F.avg(\"liwc_sentiment.death\"), \n",
    "        F.lit('religion'), F.avg(\"liwc_sentiment.relig\"),\n",
    "    ).alias('liwc_sentiment_map'),\n",
    "    udf_word_count_agg(F.collect_list(\"tokens\")).alias('word_count'),\n",
    "    F.slice(F.collect_list(F.col('body')), 1, 20).alias('messages_sample')\n",
    ")"
   ]
  },
  {
   "cell_type": "code",
   "execution_count": 0,
   "metadata": {
    "application/vnd.databricks.v1+cell": {
     "inputWidgets": {},
     "nuid": "8268a130-af44-4a2d-b854-8e4a5de9966a",
     "showTitle": false,
     "title": ""
    }
   },
   "outputs": [
    {
     "data": {
      "text/html": [
       "<style scoped>\n",
       "  .ansiout {\n",
       "    display: block;\n",
       "    unicode-bidi: embed;\n",
       "    white-space: pre-wrap;\n",
       "    word-wrap: break-word;\n",
       "    word-break: break-all;\n",
       "    font-family: \"Source Code Pro\", \"Menlo\", monospace;;\n",
       "    font-size: 13px;\n",
       "    color: #555;\n",
       "    margin-left: 4px;\n",
       "    line-height: 19px;\n",
       "  }\n",
       "</style>\n",
       "<div class=\"ansiout\">Out[5]: 2242</div>"
      ]
     },
     "metadata": {
      "application/vnd.databricks.v1+output": {
       "addedWidgets": {},
       "arguments": {},
       "data": "<div class=\"ansiout\">Out[5]: 2242</div>",
       "datasetInfos": [],
       "metadata": {},
       "removedWidgets": [],
       "type": "html"
      }
     },
     "output_type": "display_data"
    }
   ],
   "source": [
    "data_grouped.count()"
   ]
  },
  {
   "cell_type": "code",
   "execution_count": 0,
   "metadata": {
    "application/vnd.databricks.v1+cell": {
     "inputWidgets": {},
     "nuid": "fb1b1a4a-9c9f-4e55-8cc8-9a4deb6b7d6e",
     "showTitle": false,
     "title": ""
    }
   },
   "outputs": [
    {
     "data": {
      "text/html": [
       "<style scoped>\n",
       "  .ansiout {\n",
       "    display: block;\n",
       "    unicode-bidi: embed;\n",
       "    white-space: pre-wrap;\n",
       "    word-wrap: break-word;\n",
       "    word-break: break-all;\n",
       "    font-family: \"Source Code Pro\", \"Menlo\", monospace;;\n",
       "    font-size: 13px;\n",
       "    color: #555;\n",
       "    margin-left: 4px;\n",
       "    line-height: 19px;\n",
       "  }\n",
       "</style>\n",
       "<div class=\"ansiout\"></div>"
      ]
     },
     "metadata": {
      "application/vnd.databricks.v1+output": {
       "addedWidgets": {},
       "arguments": {},
       "data": "<div class=\"ansiout\"></div>",
       "datasetInfos": [],
       "metadata": {},
       "removedWidgets": [],
       "type": "html"
      }
     },
     "output_type": "display_data"
    }
   ],
   "source": [
    "data_user = data_chunk_tokens.groupby(\"created_at_month\", \"topic_discovery_unique_id\", \"username\").agg(F.sum(\"score\").alias(\"user_score\"))\n",
    "user_order = data_user.orderBy(F.col('created_at_month').asc(), F.col('topic_discovery_unique_id'), F.col('user_score').desc())\n",
    "\n",
    "data_ordered = data_grouped.orderBy(\n",
    "  F.col('created_at_month').asc(), \n",
    "  F.col('score_total').desc()\n",
    ")\n",
    "\n",
    "data_user_order = data_ordered.alias(\"dO\").join(user_order.alias(\"UO\"),\n",
    "                          ((F.col(\"dO.created_at_month\") == F.col(\"UO.created_at_month\")) & (F.col(\"dO.topic_discovery_unique_id\") == F.col(\"UO.topic_discovery_unique_id\"))), \"inner\").orderBy(F.col('dO.created_at_month').asc(), F.col('dO.topic_discovery_unique_id'), F.col('user_score').desc())"
   ]
  },
  {
   "cell_type": "code",
   "execution_count": 0,
   "metadata": {
    "application/vnd.databricks.v1+cell": {
     "inputWidgets": {},
     "nuid": "95332199-7d1f-45f0-a1db-084a33d491ba",
     "showTitle": false,
     "title": ""
    }
   },
   "outputs": [
    {
     "data": {
      "text/html": [
       "<style scoped>\n",
       "  .ansiout {\n",
       "    display: block;\n",
       "    unicode-bidi: embed;\n",
       "    white-space: pre-wrap;\n",
       "    word-wrap: break-word;\n",
       "    word-break: break-all;\n",
       "    font-family: \"Source Code Pro\", \"Menlo\", monospace;;\n",
       "    font-size: 13px;\n",
       "    color: #555;\n",
       "    margin-left: 4px;\n",
       "    line-height: 19px;\n",
       "  }\n",
       "</style>\n",
       "<div class=\"ansiout\"></div>"
      ]
     },
     "metadata": {
      "application/vnd.databricks.v1+output": {
       "addedWidgets": {},
       "arguments": {},
       "data": "<div class=\"ansiout\"></div>",
       "datasetInfos": [],
       "metadata": {},
       "removedWidgets": [],
       "type": "html"
      }
     },
     "output_type": "display_data"
    }
   ],
   "source": [
    "aggregated_result = data_user_order.groupby(\"dO.created_at_month\", \"dO.topic_discovery_unique_id\").agg(\n",
    "  F.slice(F.collect_list(F.col('username')), 1, 10).alias('users'),\n",
    "  F.first('number_of_messages').alias('number_of_messages'),\n",
    "  F.first('likes_total').alias('likes_total'),\n",
    "  F.first('average_likes').alias('average_likes'),\n",
    "  F.first('dislike_total').alias('dislike_total'),\n",
    "  F.first('average_dislike').alias('average_dislike'),\n",
    "  F.first('score_total').alias('score_total'),\n",
    "  F.first('average_score').alias('average_score'),\n",
    "  F.first('avg_vader_sentiment').alias('avg_vader_sentiment'),\n",
    "  F.first('liwc_sentiment_map').alias('liwc_sentiment_map'),\n",
    "  F.first('word_count').alias('word_count'),\n",
    "  F.first('messages_sample').alias('messages_sample'),\n",
    "  F.first(F.col(\"topic_discovery_title\")).alias(\"topic_discovery_title\"),\n",
    "  F.first(F.col(\"topic_desc\").alias(\"topic_desc\")),\n",
    "  F.first(F.col(\"topic_discovery_id\").alias(\"topic_discovery_id\")),\n",
    ")"
   ]
  },
  {
   "cell_type": "code",
   "execution_count": 0,
   "metadata": {
    "application/vnd.databricks.v1+cell": {
     "inputWidgets": {},
     "nuid": "640346af-6880-452d-a91b-f8c59cdac927",
     "showTitle": false,
     "title": ""
    }
   },
   "outputs": [
    {
     "data": {
      "text/html": [
       "<style scoped>\n",
       "  .ansiout {\n",
       "    display: block;\n",
       "    unicode-bidi: embed;\n",
       "    white-space: pre-wrap;\n",
       "    word-wrap: break-word;\n",
       "    word-break: break-all;\n",
       "    font-family: \"Source Code Pro\", \"Menlo\", monospace;;\n",
       "    font-size: 13px;\n",
       "    color: #555;\n",
       "    margin-left: 4px;\n",
       "    line-height: 19px;\n",
       "  }\n",
       "</style>\n",
       "<div class=\"ansiout\">Out[15]: 2242</div>"
      ]
     },
     "metadata": {
      "application/vnd.databricks.v1+output": {
       "addedWidgets": {},
       "arguments": {},
       "data": "<div class=\"ansiout\">Out[15]: 2242</div>",
       "datasetInfos": [],
       "metadata": {},
       "removedWidgets": [],
       "type": "html"
      }
     },
     "output_type": "display_data"
    }
   ],
   "source": [
    "aggregated_result.count()"
   ]
  },
  {
   "cell_type": "code",
   "execution_count": 0,
   "metadata": {
    "application/vnd.databricks.v1+cell": {
     "inputWidgets": {},
     "nuid": "e4f642b3-8358-4767-b035-05d5191eb7e9",
     "showTitle": false,
     "title": ""
    }
   },
   "outputs": [
    {
     "data": {
      "text/html": [
       "<style scoped>\n",
       "  .ansiout {\n",
       "    display: block;\n",
       "    unicode-bidi: embed;\n",
       "    white-space: pre-wrap;\n",
       "    word-wrap: break-word;\n",
       "    word-break: break-all;\n",
       "    font-family: \"Source Code Pro\", \"Menlo\", monospace;;\n",
       "    font-size: 13px;\n",
       "    color: #555;\n",
       "    margin-left: 4px;\n",
       "    line-height: 19px;\n",
       "  }\n",
       "</style>\n",
       "<div class=\"ansiout\"></div>"
      ]
     },
     "metadata": {
      "application/vnd.databricks.v1+output": {
       "addedWidgets": {},
       "arguments": {},
       "data": "<div class=\"ansiout\"></div>",
       "datasetInfos": [],
       "metadata": {},
       "removedWidgets": [],
       "type": "html"
      }
     },
     "output_type": "display_data"
    }
   ],
   "source": [
    "TOP_RESULTS = 10\n",
    "\n",
    "windowed_aggregated_result = aggregated_result.withColumn(\"row_num\", F.row_number().over(Window.partitionBy(\"created_at_month\").orderBy(F.col('score_total').desc())))\n",
    "windowed_aggregated_result = windowed_aggregated_result.filter(F.col('row_num') < TOP_RESULTS)\n",
    "aggregated_result_top_n = windowed_aggregated_result.orderBy(F.col('created_at_month').asc(), F.col('score_total').desc())"
   ]
  },
  {
   "cell_type": "code",
   "execution_count": 0,
   "metadata": {
    "application/vnd.databricks.v1+cell": {
     "inputWidgets": {},
     "nuid": "1714b6b6-a85b-44be-8c22-cdabe3cb1a51",
     "showTitle": false,
     "title": ""
    }
   },
   "outputs": [
    {
     "data": {
      "text/html": [
       "<style scoped>\n",
       "  .ansiout {\n",
       "    display: block;\n",
       "    unicode-bidi: embed;\n",
       "    white-space: pre-wrap;\n",
       "    word-wrap: break-word;\n",
       "    word-break: break-all;\n",
       "    font-family: \"Source Code Pro\", \"Menlo\", monospace;;\n",
       "    font-size: 13px;\n",
       "    color: #555;\n",
       "    margin-left: 4px;\n",
       "    line-height: 19px;\n",
       "  }\n",
       "</style>\n",
       "<div class=\"ansiout\"></div>"
      ]
     },
     "metadata": {
      "application/vnd.databricks.v1+output": {
       "addedWidgets": {},
       "arguments": {},
       "data": "<div class=\"ansiout\"></div>",
       "datasetInfos": [],
       "metadata": {},
       "removedWidgets": [],
       "type": "html"
      }
     },
     "output_type": "display_data"
    }
   ],
   "source": [
    "aggregated_result_top_n.coalesce(1).write.mode('overwrite').json(\"dbfs:/mnt/group12/data_output/topics_discovery_top_10.json\")"
   ]
  },
  {
   "cell_type": "code",
   "execution_count": 0,
   "metadata": {
    "application/vnd.databricks.v1+cell": {
     "inputWidgets": {},
     "nuid": "bc8fdc28-2a9d-4074-88bb-62dc3e6500a2",
     "showTitle": false,
     "title": ""
    }
   },
   "outputs": [
    {
     "data": {
      "text/html": [
       "<style scoped>\n",
       "  .ansiout {\n",
       "    display: block;\n",
       "    unicode-bidi: embed;\n",
       "    white-space: pre-wrap;\n",
       "    word-wrap: break-word;\n",
       "    word-break: break-all;\n",
       "    font-family: \"Source Code Pro\", \"Menlo\", monospace;;\n",
       "    font-size: 13px;\n",
       "    color: #555;\n",
       "    margin-left: 4px;\n",
       "    line-height: 19px;\n",
       "  }\n",
       "</style>\n",
       "<div class=\"ansiout\"></div>"
      ]
     },
     "metadata": {
      "application/vnd.databricks.v1+output": {
       "addedWidgets": {},
       "arguments": {},
       "data": "<div class=\"ansiout\"></div>",
       "datasetInfos": [],
       "metadata": {},
       "removedWidgets": [],
       "type": "html"
      }
     },
     "output_type": "display_data"
    }
   ],
   "source": [
    "aggregated_result.coalesce(1).write.mode('overwrite').json(\"dbfs:/mnt/group12/data_output/topics_discovery.json\")"
   ]
  },
  {
   "cell_type": "code",
   "execution_count": 0,
   "metadata": {
    "application/vnd.databricks.v1+cell": {
     "inputWidgets": {},
     "nuid": "f648b20e-9619-457e-b86a-5cc992bc74b9",
     "showTitle": false,
     "title": ""
    }
   },
   "outputs": [
    {
     "data": {
      "text/html": [
       "<style scoped>\n",
       "  .table-result-container {\n",
       "    max-height: 300px;\n",
       "    overflow: auto;\n",
       "  }\n",
       "  table, th, td {\n",
       "    border: 1px solid black;\n",
       "    border-collapse: collapse;\n",
       "  }\n",
       "  th, td {\n",
       "    padding: 5px;\n",
       "  }\n",
       "  th {\n",
       "    text-align: left;\n",
       "  }\n",
       "</style><div class='table-result-container'><table class='table-result'><thead style='background-color: white'><tr><th>path</th><th>name</th><th>size</th></tr></thead><tbody><tr><td>dbfs:/mnt/group12/data_output/topics_discovery_top_10.json/_SUCCESS</td><td>_SUCCESS</td><td>0</td></tr><tr><td>dbfs:/mnt/group12/data_output/topics_discovery_top_10.json/_committed_457039126842578981</td><td>_committed_457039126842578981</td><td>117</td></tr><tr><td>dbfs:/mnt/group12/data_output/topics_discovery_top_10.json/_started_457039126842578981</td><td>_started_457039126842578981</td><td>0</td></tr><tr><td>dbfs:/mnt/group12/data_output/topics_discovery_top_10.json/part-00000-tid-457039126842578981-7e7c615f-a89b-4e41-bf34-444fd976ce90-1255960-1-c000.json</td><td>part-00000-tid-457039126842578981-7e7c615f-a89b-4e41-bf34-444fd976ce90-1255960-1-c000.json</td><td>1030871</td></tr></tbody></table></div>"
      ]
     },
     "metadata": {
      "application/vnd.databricks.v1+output": {
       "addedWidgets": {},
       "aggData": [],
       "aggError": "",
       "aggOverflow": false,
       "aggSchema": [],
       "aggSeriesLimitReached": false,
       "aggType": "",
       "arguments": {},
       "columnCustomDisplayInfos": {},
       "data": [
        [
         "dbfs:/mnt/group12/data_output/topics_discovery_top_10.json/_SUCCESS",
         "_SUCCESS",
         0
        ],
        [
         "dbfs:/mnt/group12/data_output/topics_discovery_top_10.json/_committed_457039126842578981",
         "_committed_457039126842578981",
         117
        ],
        [
         "dbfs:/mnt/group12/data_output/topics_discovery_top_10.json/_started_457039126842578981",
         "_started_457039126842578981",
         0
        ],
        [
         "dbfs:/mnt/group12/data_output/topics_discovery_top_10.json/part-00000-tid-457039126842578981-7e7c615f-a89b-4e41-bf34-444fd976ce90-1255960-1-c000.json",
         "part-00000-tid-457039126842578981-7e7c615f-a89b-4e41-bf34-444fd976ce90-1255960-1-c000.json",
         1030871
        ]
       ],
       "datasetInfos": [],
       "dbfsResultPath": null,
       "isJsonSchema": true,
       "metadata": {},
       "overflow": false,
       "plotOptions": {
        "customPlotOptions": {},
        "displayType": "table",
        "pivotAggregation": null,
        "pivotColumns": null,
        "xColumns": null,
        "yColumns": null
       },
       "removedWidgets": [],
       "schema": [
        {
         "metadata": "{}",
         "name": "path",
         "type": "\"string\""
        },
        {
         "metadata": "{}",
         "name": "name",
         "type": "\"string\""
        },
        {
         "metadata": "{}",
         "name": "size",
         "type": "\"long\""
        }
       ],
       "type": "table"
      }
     },
     "output_type": "display_data"
    }
   ],
   "source": [
    "display(dbutils.fs.ls('mnt/group12/data_output/topics_discovery_top_10.json'))"
   ]
  },
  {
   "cell_type": "code",
   "execution_count": 0,
   "metadata": {
    "application/vnd.databricks.v1+cell": {
     "inputWidgets": {},
     "nuid": "4c39e02d-9f6d-4ec2-b30c-1bd678022e72",
     "showTitle": false,
     "title": ""
    }
   },
   "outputs": [
    {
     "data": {
      "text/html": [
       "<style scoped>\n",
       "  .ansiout {\n",
       "    display: block;\n",
       "    unicode-bidi: embed;\n",
       "    white-space: pre-wrap;\n",
       "    word-wrap: break-word;\n",
       "    word-break: break-all;\n",
       "    font-family: \"Source Code Pro\", \"Menlo\", monospace;;\n",
       "    font-size: 13px;\n",
       "    color: #555;\n",
       "    margin-left: 4px;\n",
       "    line-height: 19px;\n",
       "  }\n",
       "</style>"
      ]
     },
     "metadata": {
      "application/vnd.databricks.v1+output": {
       "arguments": {},
       "data": "",
       "errorSummary": "",
       "errorTraceType": null,
       "metadata": {},
       "type": "ipynbError"
      }
     },
     "output_type": "display_data"
    }
   ],
   "source": []
  }
 ],
 "metadata": {
  "application/vnd.databricks.v1+notebook": {
   "dashboards": [],
   "language": "python",
   "notebookMetadata": {
    "pythonIndentUnit": 2
   },
   "notebookName": "Master Pipeline: Data Aggregation of Topic Discovery",
   "notebookOrigID": 2863618154313764,
   "widgets": {}
  },
  "kernelspec": {
   "display_name": "Python 3",
   "language": "python",
   "name": "python3"
  },
  "language_info": {
   "codemirror_mode": {
    "name": "ipython",
    "version": 3
   },
   "file_extension": ".py",
   "mimetype": "text/x-python",
   "name": "python",
   "nbconvert_exporter": "python",
   "pygments_lexer": "ipython3",
   "version": "3.8.2"
  }
 },
 "nbformat": 4,
 "nbformat_minor": 1
}
